{
  "nbformat": 4,
  "nbformat_minor": 0,
  "metadata": {
    "colab": {
      "provenance": [],
      "collapsed_sections": [
        "QBVpNTJ-tmZ0",
        "7C1vjC5St_t0",
        "b09pStwvb0of",
        "k-rM4zRjb97N",
        "AiXSvXMikLFw",
        "O5WfWMlDrfls",
        "6N_5FlwSwrFg",
        "rNCHiQ29xUnL",
        "SfGkA4eOx5yP",
        "E8jwTfF8y76l",
        "a5m1kcPosPTV",
        "xy8E_UHbcjEN",
        "kTEjMRKNcjEO",
        "4qb-6SRAcjEP",
        "fYYJRx6mt7KD",
        "0DhROdLpvIIJ",
        "dMpsWd0Ov_Fh",
        "4-JQVFv1wwYg",
        "zWcM3doqxp4U",
        "zvK08HaMMhJu",
        "I8j8QFr5MofL",
        "rZMAmO9zMtUj",
        "k1NxlL2aMyoI",
        "Za0eJQU-WvfK",
        "aRynIo4gcwHw",
        "QxtX87e-czhs",
        "SiiPVKcL9J4G",
        "aR9-K40gAjUT",
        "OApflVJBBYdk",
        "S14JeU38DDY0",
        "GFFe47cADdG_",
        "tSJhFjghDwmo",
        "nfX7vy3oECL-",
        "Jq9VYltNEIde",
        "fl59rgGBE4VF",
        "kWWx_mGwH8Er",
        "XFpBfCZUIN4o",
        "EtZ_5Rm_IVW9",
        "ZE9vq5UoIaXP",
        "DqhdOWQFIe4M",
        "PEWtuxvmIicJ",
        "nTtMPcLkIqQC",
        "g8N0AqbgIvSK",
        "-guY4r7QIzSD",
        "RkxyHPKfI3Zd",
        "hB0BxWgBI7mm",
        "MPohYFNGvAgs",
        "hafQufIYvTCS"
      ],
      "include_colab_link": true
    },
    "kernelspec": {
      "name": "python3",
      "display_name": "Python 3"
    },
    "language_info": {
      "name": "python"
    }
  },
  "cells": [
    {
      "cell_type": "markdown",
      "metadata": {
        "id": "view-in-github",
        "colab_type": "text"
      },
      "source": [
        "<a href=\"https://colab.research.google.com/github/tariqzia5/Python_P/blob/main/1_D_Project_Solution.ipynb\" target=\"_parent\"><img src=\"https://colab.research.google.com/assets/colab-badge.svg\" alt=\"Open In Colab\"/></a>"
      ]
    },
    {
      "cell_type": "markdown",
      "source": [
        "Task-1: Problem Statement  \n",
        "\n",
        "Task-2: Data Exploration and Validation \n",
        "\n",
        "Task-3: Data Cleaning \n",
        "\n",
        "Task-4: Model Building Simple Models(Logistic Regregression and \n",
        "Decision trees) \n",
        "\n",
        "Task-5: Model Validation metrics calculation \n",
        "\n",
        "Task-6: Handling Class imbalance(Rebuild Simple ML models)\n",
        "\n",
        "Task-7: Feature Engineering \n",
        "\n",
        "Task-8: Ensemble Methods - XGB and RF \n",
        "\n",
        "Task-9: Model presentation \n",
        "\n",
        "Task-10: Interview questions on the project\n",
        "\n",
        "\n"
      ],
      "metadata": {
        "id": "eWypJx2YtioD"
      }
    },
    {
      "cell_type": "markdown",
      "source": [
        "# Download from Github\n",
        "\n",
        "Create a logionid on github\n",
        "Upload your file on to github, then use the link here\n"
      ],
      "metadata": {
        "id": "ljzWnhkc5kfJ"
      }
    },
    {
      "cell_type": "markdown",
      "source": [
        "# Download from Google Drive"
      ],
      "metadata": {
        "id": "VtzC54S05n69"
      }
    },
    {
      "cell_type": "markdown",
      "source": [
        "#Zip file on GDrive"
      ],
      "metadata": {
        "id": "ltFrpySe7wpL"
      }
    },
    {
      "cell_type": "markdown",
      "source": [
        "# Project Objective\n",
        "## Background \n",
        "## Goal, Number of Resources, Business Impact, Time Taken\n",
        "\n"
      ],
      "metadata": {
        "id": "QBVpNTJ-tmZ0"
      }
    },
    {
      "cell_type": "markdown",
      "source": [
        "##**The following dataframe contains the details of credit card clients and the goal of this exploration and creation of data model is to asses the influence of different variables on the probability/chance of a client getting defaulted and how well can we predict those month by month chances of clients defaulting.\n",
        "** \n"
      ],
      "metadata": {
        "id": "WhdnckAHdCAU"
      }
    },
    {
      "cell_type": "markdown",
      "source": [
        "\n",
        "# Data Exploration and Validation\n"
      ],
      "metadata": {
        "id": "7C1vjC5St_t0"
      }
    },
    {
      "cell_type": "code",
      "source": [
        "import pandas as pd\n",
        "import seaborn as sns\n",
        "cc_default=pd.read_csv(\"https://raw.githubusercontent.com/Arham-2405/ARHAM/main/UCI_Credit_Card.csv?token=GHSAT0AAAAAAB7DTX742OGZQNAUK7J526Q6Y73PH2A\")\n",
        "cc_default"
      ],
      "metadata": {
        "id": "CmLhtJ2TU1Y2",
        "colab": {
          "base_uri": "https://localhost:8080/",
          "height": 487
        },
        "outputId": "1195a241-4005-4281-e44d-d65dcd62dd53"
      },
      "execution_count": null,
      "outputs": [
        {
          "output_type": "execute_result",
          "data": {
            "text/plain": [
              "          ID  LIMIT_BAL  SEX  EDUCATION  MARRIAGE  AGE  PAY_0  PAY_2  PAY_3  \\\n",
              "0          1    20000.0    2          2         1   24      2      2     -1   \n",
              "1          2   120000.0    2          2         2   26     -1      2      0   \n",
              "2          3    90000.0    2          2         2   34      0      0      0   \n",
              "3          4    50000.0    2          2         1   37      0      0      0   \n",
              "4          5    50000.0    1          2         1   57     -1      0     -1   \n",
              "...      ...        ...  ...        ...       ...  ...    ...    ...    ...   \n",
              "29995  29996   220000.0    1          3         1   39      0      0      0   \n",
              "29996  29997   150000.0    1          3         2   43     -1     -1     -1   \n",
              "29997  29998    30000.0    1          2         2   37      4      3      2   \n",
              "29998  29999    80000.0    1          3         1   41      1     -1      0   \n",
              "29999  30000    50000.0    1          2         1   46      0      0      0   \n",
              "\n",
              "       PAY_4  ...  BILL_AMT4  BILL_AMT5  BILL_AMT6  PAY_AMT1  PAY_AMT2  \\\n",
              "0         -1  ...        0.0        0.0        0.0       0.0     689.0   \n",
              "1          0  ...     3272.0     3455.0     3261.0       0.0    1000.0   \n",
              "2          0  ...    14331.0    14948.0    15549.0    1518.0    1500.0   \n",
              "3          0  ...    28314.0    28959.0    29547.0    2000.0    2019.0   \n",
              "4          0  ...    20940.0    19146.0    19131.0    2000.0   36681.0   \n",
              "...      ...  ...        ...        ...        ...       ...       ...   \n",
              "29995      0  ...    88004.0    31237.0    15980.0    8500.0   20000.0   \n",
              "29996     -1  ...     8979.0     5190.0        0.0    1837.0    3526.0   \n",
              "29997     -1  ...    20878.0    20582.0    19357.0       0.0       0.0   \n",
              "29998      0  ...    52774.0    11855.0    48944.0   85900.0    3409.0   \n",
              "29999      0  ...    36535.0    32428.0    15313.0    2078.0    1800.0   \n",
              "\n",
              "       PAY_AMT3  PAY_AMT4  PAY_AMT5  PAY_AMT6  default.payment.next.month  \n",
              "0           0.0       0.0       0.0       0.0                           1  \n",
              "1        1000.0    1000.0       0.0    2000.0                           1  \n",
              "2        1000.0    1000.0    1000.0    5000.0                           0  \n",
              "3        1200.0    1100.0    1069.0    1000.0                           0  \n",
              "4       10000.0    9000.0     689.0     679.0                           0  \n",
              "...         ...       ...       ...       ...                         ...  \n",
              "29995    5003.0    3047.0    5000.0    1000.0                           0  \n",
              "29996    8998.0     129.0       0.0       0.0                           0  \n",
              "29997   22000.0    4200.0    2000.0    3100.0                           1  \n",
              "29998    1178.0    1926.0   52964.0    1804.0                           1  \n",
              "29999    1430.0    1000.0    1000.0    1000.0                           1  \n",
              "\n",
              "[30000 rows x 25 columns]"
            ],
            "text/html": [
              "\n",
              "  <div id=\"df-9da62c59-2b61-4fe0-bb24-e0f9bf6c7534\">\n",
              "    <div class=\"colab-df-container\">\n",
              "      <div>\n",
              "<style scoped>\n",
              "    .dataframe tbody tr th:only-of-type {\n",
              "        vertical-align: middle;\n",
              "    }\n",
              "\n",
              "    .dataframe tbody tr th {\n",
              "        vertical-align: top;\n",
              "    }\n",
              "\n",
              "    .dataframe thead th {\n",
              "        text-align: right;\n",
              "    }\n",
              "</style>\n",
              "<table border=\"1\" class=\"dataframe\">\n",
              "  <thead>\n",
              "    <tr style=\"text-align: right;\">\n",
              "      <th></th>\n",
              "      <th>ID</th>\n",
              "      <th>LIMIT_BAL</th>\n",
              "      <th>SEX</th>\n",
              "      <th>EDUCATION</th>\n",
              "      <th>MARRIAGE</th>\n",
              "      <th>AGE</th>\n",
              "      <th>PAY_0</th>\n",
              "      <th>PAY_2</th>\n",
              "      <th>PAY_3</th>\n",
              "      <th>PAY_4</th>\n",
              "      <th>...</th>\n",
              "      <th>BILL_AMT4</th>\n",
              "      <th>BILL_AMT5</th>\n",
              "      <th>BILL_AMT6</th>\n",
              "      <th>PAY_AMT1</th>\n",
              "      <th>PAY_AMT2</th>\n",
              "      <th>PAY_AMT3</th>\n",
              "      <th>PAY_AMT4</th>\n",
              "      <th>PAY_AMT5</th>\n",
              "      <th>PAY_AMT6</th>\n",
              "      <th>default.payment.next.month</th>\n",
              "    </tr>\n",
              "  </thead>\n",
              "  <tbody>\n",
              "    <tr>\n",
              "      <th>0</th>\n",
              "      <td>1</td>\n",
              "      <td>20000.0</td>\n",
              "      <td>2</td>\n",
              "      <td>2</td>\n",
              "      <td>1</td>\n",
              "      <td>24</td>\n",
              "      <td>2</td>\n",
              "      <td>2</td>\n",
              "      <td>-1</td>\n",
              "      <td>-1</td>\n",
              "      <td>...</td>\n",
              "      <td>0.0</td>\n",
              "      <td>0.0</td>\n",
              "      <td>0.0</td>\n",
              "      <td>0.0</td>\n",
              "      <td>689.0</td>\n",
              "      <td>0.0</td>\n",
              "      <td>0.0</td>\n",
              "      <td>0.0</td>\n",
              "      <td>0.0</td>\n",
              "      <td>1</td>\n",
              "    </tr>\n",
              "    <tr>\n",
              "      <th>1</th>\n",
              "      <td>2</td>\n",
              "      <td>120000.0</td>\n",
              "      <td>2</td>\n",
              "      <td>2</td>\n",
              "      <td>2</td>\n",
              "      <td>26</td>\n",
              "      <td>-1</td>\n",
              "      <td>2</td>\n",
              "      <td>0</td>\n",
              "      <td>0</td>\n",
              "      <td>...</td>\n",
              "      <td>3272.0</td>\n",
              "      <td>3455.0</td>\n",
              "      <td>3261.0</td>\n",
              "      <td>0.0</td>\n",
              "      <td>1000.0</td>\n",
              "      <td>1000.0</td>\n",
              "      <td>1000.0</td>\n",
              "      <td>0.0</td>\n",
              "      <td>2000.0</td>\n",
              "      <td>1</td>\n",
              "    </tr>\n",
              "    <tr>\n",
              "      <th>2</th>\n",
              "      <td>3</td>\n",
              "      <td>90000.0</td>\n",
              "      <td>2</td>\n",
              "      <td>2</td>\n",
              "      <td>2</td>\n",
              "      <td>34</td>\n",
              "      <td>0</td>\n",
              "      <td>0</td>\n",
              "      <td>0</td>\n",
              "      <td>0</td>\n",
              "      <td>...</td>\n",
              "      <td>14331.0</td>\n",
              "      <td>14948.0</td>\n",
              "      <td>15549.0</td>\n",
              "      <td>1518.0</td>\n",
              "      <td>1500.0</td>\n",
              "      <td>1000.0</td>\n",
              "      <td>1000.0</td>\n",
              "      <td>1000.0</td>\n",
              "      <td>5000.0</td>\n",
              "      <td>0</td>\n",
              "    </tr>\n",
              "    <tr>\n",
              "      <th>3</th>\n",
              "      <td>4</td>\n",
              "      <td>50000.0</td>\n",
              "      <td>2</td>\n",
              "      <td>2</td>\n",
              "      <td>1</td>\n",
              "      <td>37</td>\n",
              "      <td>0</td>\n",
              "      <td>0</td>\n",
              "      <td>0</td>\n",
              "      <td>0</td>\n",
              "      <td>...</td>\n",
              "      <td>28314.0</td>\n",
              "      <td>28959.0</td>\n",
              "      <td>29547.0</td>\n",
              "      <td>2000.0</td>\n",
              "      <td>2019.0</td>\n",
              "      <td>1200.0</td>\n",
              "      <td>1100.0</td>\n",
              "      <td>1069.0</td>\n",
              "      <td>1000.0</td>\n",
              "      <td>0</td>\n",
              "    </tr>\n",
              "    <tr>\n",
              "      <th>4</th>\n",
              "      <td>5</td>\n",
              "      <td>50000.0</td>\n",
              "      <td>1</td>\n",
              "      <td>2</td>\n",
              "      <td>1</td>\n",
              "      <td>57</td>\n",
              "      <td>-1</td>\n",
              "      <td>0</td>\n",
              "      <td>-1</td>\n",
              "      <td>0</td>\n",
              "      <td>...</td>\n",
              "      <td>20940.0</td>\n",
              "      <td>19146.0</td>\n",
              "      <td>19131.0</td>\n",
              "      <td>2000.0</td>\n",
              "      <td>36681.0</td>\n",
              "      <td>10000.0</td>\n",
              "      <td>9000.0</td>\n",
              "      <td>689.0</td>\n",
              "      <td>679.0</td>\n",
              "      <td>0</td>\n",
              "    </tr>\n",
              "    <tr>\n",
              "      <th>...</th>\n",
              "      <td>...</td>\n",
              "      <td>...</td>\n",
              "      <td>...</td>\n",
              "      <td>...</td>\n",
              "      <td>...</td>\n",
              "      <td>...</td>\n",
              "      <td>...</td>\n",
              "      <td>...</td>\n",
              "      <td>...</td>\n",
              "      <td>...</td>\n",
              "      <td>...</td>\n",
              "      <td>...</td>\n",
              "      <td>...</td>\n",
              "      <td>...</td>\n",
              "      <td>...</td>\n",
              "      <td>...</td>\n",
              "      <td>...</td>\n",
              "      <td>...</td>\n",
              "      <td>...</td>\n",
              "      <td>...</td>\n",
              "      <td>...</td>\n",
              "    </tr>\n",
              "    <tr>\n",
              "      <th>29995</th>\n",
              "      <td>29996</td>\n",
              "      <td>220000.0</td>\n",
              "      <td>1</td>\n",
              "      <td>3</td>\n",
              "      <td>1</td>\n",
              "      <td>39</td>\n",
              "      <td>0</td>\n",
              "      <td>0</td>\n",
              "      <td>0</td>\n",
              "      <td>0</td>\n",
              "      <td>...</td>\n",
              "      <td>88004.0</td>\n",
              "      <td>31237.0</td>\n",
              "      <td>15980.0</td>\n",
              "      <td>8500.0</td>\n",
              "      <td>20000.0</td>\n",
              "      <td>5003.0</td>\n",
              "      <td>3047.0</td>\n",
              "      <td>5000.0</td>\n",
              "      <td>1000.0</td>\n",
              "      <td>0</td>\n",
              "    </tr>\n",
              "    <tr>\n",
              "      <th>29996</th>\n",
              "      <td>29997</td>\n",
              "      <td>150000.0</td>\n",
              "      <td>1</td>\n",
              "      <td>3</td>\n",
              "      <td>2</td>\n",
              "      <td>43</td>\n",
              "      <td>-1</td>\n",
              "      <td>-1</td>\n",
              "      <td>-1</td>\n",
              "      <td>-1</td>\n",
              "      <td>...</td>\n",
              "      <td>8979.0</td>\n",
              "      <td>5190.0</td>\n",
              "      <td>0.0</td>\n",
              "      <td>1837.0</td>\n",
              "      <td>3526.0</td>\n",
              "      <td>8998.0</td>\n",
              "      <td>129.0</td>\n",
              "      <td>0.0</td>\n",
              "      <td>0.0</td>\n",
              "      <td>0</td>\n",
              "    </tr>\n",
              "    <tr>\n",
              "      <th>29997</th>\n",
              "      <td>29998</td>\n",
              "      <td>30000.0</td>\n",
              "      <td>1</td>\n",
              "      <td>2</td>\n",
              "      <td>2</td>\n",
              "      <td>37</td>\n",
              "      <td>4</td>\n",
              "      <td>3</td>\n",
              "      <td>2</td>\n",
              "      <td>-1</td>\n",
              "      <td>...</td>\n",
              "      <td>20878.0</td>\n",
              "      <td>20582.0</td>\n",
              "      <td>19357.0</td>\n",
              "      <td>0.0</td>\n",
              "      <td>0.0</td>\n",
              "      <td>22000.0</td>\n",
              "      <td>4200.0</td>\n",
              "      <td>2000.0</td>\n",
              "      <td>3100.0</td>\n",
              "      <td>1</td>\n",
              "    </tr>\n",
              "    <tr>\n",
              "      <th>29998</th>\n",
              "      <td>29999</td>\n",
              "      <td>80000.0</td>\n",
              "      <td>1</td>\n",
              "      <td>3</td>\n",
              "      <td>1</td>\n",
              "      <td>41</td>\n",
              "      <td>1</td>\n",
              "      <td>-1</td>\n",
              "      <td>0</td>\n",
              "      <td>0</td>\n",
              "      <td>...</td>\n",
              "      <td>52774.0</td>\n",
              "      <td>11855.0</td>\n",
              "      <td>48944.0</td>\n",
              "      <td>85900.0</td>\n",
              "      <td>3409.0</td>\n",
              "      <td>1178.0</td>\n",
              "      <td>1926.0</td>\n",
              "      <td>52964.0</td>\n",
              "      <td>1804.0</td>\n",
              "      <td>1</td>\n",
              "    </tr>\n",
              "    <tr>\n",
              "      <th>29999</th>\n",
              "      <td>30000</td>\n",
              "      <td>50000.0</td>\n",
              "      <td>1</td>\n",
              "      <td>2</td>\n",
              "      <td>1</td>\n",
              "      <td>46</td>\n",
              "      <td>0</td>\n",
              "      <td>0</td>\n",
              "      <td>0</td>\n",
              "      <td>0</td>\n",
              "      <td>...</td>\n",
              "      <td>36535.0</td>\n",
              "      <td>32428.0</td>\n",
              "      <td>15313.0</td>\n",
              "      <td>2078.0</td>\n",
              "      <td>1800.0</td>\n",
              "      <td>1430.0</td>\n",
              "      <td>1000.0</td>\n",
              "      <td>1000.0</td>\n",
              "      <td>1000.0</td>\n",
              "      <td>1</td>\n",
              "    </tr>\n",
              "  </tbody>\n",
              "</table>\n",
              "<p>30000 rows × 25 columns</p>\n",
              "</div>\n",
              "      <button class=\"colab-df-convert\" onclick=\"convertToInteractive('df-9da62c59-2b61-4fe0-bb24-e0f9bf6c7534')\"\n",
              "              title=\"Convert this dataframe to an interactive table.\"\n",
              "              style=\"display:none;\">\n",
              "        \n",
              "  <svg xmlns=\"http://www.w3.org/2000/svg\" height=\"24px\"viewBox=\"0 0 24 24\"\n",
              "       width=\"24px\">\n",
              "    <path d=\"M0 0h24v24H0V0z\" fill=\"none\"/>\n",
              "    <path d=\"M18.56 5.44l.94 2.06.94-2.06 2.06-.94-2.06-.94-.94-2.06-.94 2.06-2.06.94zm-11 1L8.5 8.5l.94-2.06 2.06-.94-2.06-.94L8.5 2.5l-.94 2.06-2.06.94zm10 10l.94 2.06.94-2.06 2.06-.94-2.06-.94-.94-2.06-.94 2.06-2.06.94z\"/><path d=\"M17.41 7.96l-1.37-1.37c-.4-.4-.92-.59-1.43-.59-.52 0-1.04.2-1.43.59L10.3 9.45l-7.72 7.72c-.78.78-.78 2.05 0 2.83L4 21.41c.39.39.9.59 1.41.59.51 0 1.02-.2 1.41-.59l7.78-7.78 2.81-2.81c.8-.78.8-2.07 0-2.86zM5.41 20L4 18.59l7.72-7.72 1.47 1.35L5.41 20z\"/>\n",
              "  </svg>\n",
              "      </button>\n",
              "      \n",
              "  <style>\n",
              "    .colab-df-container {\n",
              "      display:flex;\n",
              "      flex-wrap:wrap;\n",
              "      gap: 12px;\n",
              "    }\n",
              "\n",
              "    .colab-df-convert {\n",
              "      background-color: #E8F0FE;\n",
              "      border: none;\n",
              "      border-radius: 50%;\n",
              "      cursor: pointer;\n",
              "      display: none;\n",
              "      fill: #1967D2;\n",
              "      height: 32px;\n",
              "      padding: 0 0 0 0;\n",
              "      width: 32px;\n",
              "    }\n",
              "\n",
              "    .colab-df-convert:hover {\n",
              "      background-color: #E2EBFA;\n",
              "      box-shadow: 0px 1px 2px rgba(60, 64, 67, 0.3), 0px 1px 3px 1px rgba(60, 64, 67, 0.15);\n",
              "      fill: #174EA6;\n",
              "    }\n",
              "\n",
              "    [theme=dark] .colab-df-convert {\n",
              "      background-color: #3B4455;\n",
              "      fill: #D2E3FC;\n",
              "    }\n",
              "\n",
              "    [theme=dark] .colab-df-convert:hover {\n",
              "      background-color: #434B5C;\n",
              "      box-shadow: 0px 1px 3px 1px rgba(0, 0, 0, 0.15);\n",
              "      filter: drop-shadow(0px 1px 2px rgba(0, 0, 0, 0.3));\n",
              "      fill: #FFFFFF;\n",
              "    }\n",
              "  </style>\n",
              "\n",
              "      <script>\n",
              "        const buttonEl =\n",
              "          document.querySelector('#df-9da62c59-2b61-4fe0-bb24-e0f9bf6c7534 button.colab-df-convert');\n",
              "        buttonEl.style.display =\n",
              "          google.colab.kernel.accessAllowed ? 'block' : 'none';\n",
              "\n",
              "        async function convertToInteractive(key) {\n",
              "          const element = document.querySelector('#df-9da62c59-2b61-4fe0-bb24-e0f9bf6c7534');\n",
              "          const dataTable =\n",
              "            await google.colab.kernel.invokeFunction('convertToInteractive',\n",
              "                                                     [key], {});\n",
              "          if (!dataTable) return;\n",
              "\n",
              "          const docLinkHtml = 'Like what you see? Visit the ' +\n",
              "            '<a target=\"_blank\" href=https://colab.research.google.com/notebooks/data_table.ipynb>data table notebook</a>'\n",
              "            + ' to learn more about interactive tables.';\n",
              "          element.innerHTML = '';\n",
              "          dataTable['output_type'] = 'display_data';\n",
              "          await google.colab.output.renderOutput(dataTable, element);\n",
              "          const docLink = document.createElement('div');\n",
              "          docLink.innerHTML = docLinkHtml;\n",
              "          element.appendChild(docLink);\n",
              "        }\n",
              "      </script>\n",
              "    </div>\n",
              "  </div>\n",
              "  "
            ]
          },
          "metadata": {},
          "execution_count": 198
        }
      ]
    },
    {
      "cell_type": "code",
      "source": [
        "cc_default.shape"
      ],
      "metadata": {
        "colab": {
          "base_uri": "https://localhost:8080/"
        },
        "id": "X-XMwovpNuBA",
        "outputId": "02c135a2-b56f-4c1f-d96d-1a66ea7583d3"
      },
      "execution_count": null,
      "outputs": [
        {
          "output_type": "execute_result",
          "data": {
            "text/plain": [
              "(30000, 25)"
            ]
          },
          "metadata": {},
          "execution_count": 2
        }
      ]
    },
    {
      "cell_type": "code",
      "source": [
        "cc_default.head(10)"
      ],
      "metadata": {
        "colab": {
          "base_uri": "https://localhost:8080/",
          "height": 456
        },
        "id": "OS7m8wsefe9v",
        "outputId": "41304237-3320-4b6e-a9d1-789e6cdb7c3f"
      },
      "execution_count": null,
      "outputs": [
        {
          "output_type": "execute_result",
          "data": {
            "text/plain": [
              "   ID  LIMIT_BAL  SEX  EDUCATION  MARRIAGE  AGE  PAY_0  PAY_2  PAY_3  PAY_4  \\\n",
              "0   1    20000.0    2          2         1   24      2      2     -1     -1   \n",
              "1   2   120000.0    2          2         2   26     -1      2      0      0   \n",
              "2   3    90000.0    2          2         2   34      0      0      0      0   \n",
              "3   4    50000.0    2          2         1   37      0      0      0      0   \n",
              "4   5    50000.0    1          2         1   57     -1      0     -1      0   \n",
              "5   6    50000.0    1          1         2   37      0      0      0      0   \n",
              "6   7   500000.0    1          1         2   29      0      0      0      0   \n",
              "7   8   100000.0    2          2         2   23      0     -1     -1      0   \n",
              "8   9   140000.0    2          3         1   28      0      0      2      0   \n",
              "9  10    20000.0    1          3         2   35     -2     -2     -2     -2   \n",
              "\n",
              "   ...  BILL_AMT4  BILL_AMT5  BILL_AMT6  PAY_AMT1  PAY_AMT2  PAY_AMT3  \\\n",
              "0  ...        0.0        0.0        0.0       0.0     689.0       0.0   \n",
              "1  ...     3272.0     3455.0     3261.0       0.0    1000.0    1000.0   \n",
              "2  ...    14331.0    14948.0    15549.0    1518.0    1500.0    1000.0   \n",
              "3  ...    28314.0    28959.0    29547.0    2000.0    2019.0    1200.0   \n",
              "4  ...    20940.0    19146.0    19131.0    2000.0   36681.0   10000.0   \n",
              "5  ...    19394.0    19619.0    20024.0    2500.0    1815.0     657.0   \n",
              "6  ...   542653.0   483003.0   473944.0   55000.0   40000.0   38000.0   \n",
              "7  ...      221.0     -159.0      567.0     380.0     601.0       0.0   \n",
              "8  ...    12211.0    11793.0     3719.0    3329.0       0.0     432.0   \n",
              "9  ...        0.0    13007.0    13912.0       0.0       0.0       0.0   \n",
              "\n",
              "   PAY_AMT4  PAY_AMT5  PAY_AMT6  default.payment.next.month  \n",
              "0       0.0       0.0       0.0                           1  \n",
              "1    1000.0       0.0    2000.0                           1  \n",
              "2    1000.0    1000.0    5000.0                           0  \n",
              "3    1100.0    1069.0    1000.0                           0  \n",
              "4    9000.0     689.0     679.0                           0  \n",
              "5    1000.0    1000.0     800.0                           0  \n",
              "6   20239.0   13750.0   13770.0                           0  \n",
              "7     581.0    1687.0    1542.0                           0  \n",
              "8    1000.0    1000.0    1000.0                           0  \n",
              "9   13007.0    1122.0       0.0                           0  \n",
              "\n",
              "[10 rows x 25 columns]"
            ],
            "text/html": [
              "\n",
              "  <div id=\"df-74aea812-cc7f-4f90-ac9f-b387f3cf0508\">\n",
              "    <div class=\"colab-df-container\">\n",
              "      <div>\n",
              "<style scoped>\n",
              "    .dataframe tbody tr th:only-of-type {\n",
              "        vertical-align: middle;\n",
              "    }\n",
              "\n",
              "    .dataframe tbody tr th {\n",
              "        vertical-align: top;\n",
              "    }\n",
              "\n",
              "    .dataframe thead th {\n",
              "        text-align: right;\n",
              "    }\n",
              "</style>\n",
              "<table border=\"1\" class=\"dataframe\">\n",
              "  <thead>\n",
              "    <tr style=\"text-align: right;\">\n",
              "      <th></th>\n",
              "      <th>ID</th>\n",
              "      <th>LIMIT_BAL</th>\n",
              "      <th>SEX</th>\n",
              "      <th>EDUCATION</th>\n",
              "      <th>MARRIAGE</th>\n",
              "      <th>AGE</th>\n",
              "      <th>PAY_0</th>\n",
              "      <th>PAY_2</th>\n",
              "      <th>PAY_3</th>\n",
              "      <th>PAY_4</th>\n",
              "      <th>...</th>\n",
              "      <th>BILL_AMT4</th>\n",
              "      <th>BILL_AMT5</th>\n",
              "      <th>BILL_AMT6</th>\n",
              "      <th>PAY_AMT1</th>\n",
              "      <th>PAY_AMT2</th>\n",
              "      <th>PAY_AMT3</th>\n",
              "      <th>PAY_AMT4</th>\n",
              "      <th>PAY_AMT5</th>\n",
              "      <th>PAY_AMT6</th>\n",
              "      <th>default.payment.next.month</th>\n",
              "    </tr>\n",
              "  </thead>\n",
              "  <tbody>\n",
              "    <tr>\n",
              "      <th>0</th>\n",
              "      <td>1</td>\n",
              "      <td>20000.0</td>\n",
              "      <td>2</td>\n",
              "      <td>2</td>\n",
              "      <td>1</td>\n",
              "      <td>24</td>\n",
              "      <td>2</td>\n",
              "      <td>2</td>\n",
              "      <td>-1</td>\n",
              "      <td>-1</td>\n",
              "      <td>...</td>\n",
              "      <td>0.0</td>\n",
              "      <td>0.0</td>\n",
              "      <td>0.0</td>\n",
              "      <td>0.0</td>\n",
              "      <td>689.0</td>\n",
              "      <td>0.0</td>\n",
              "      <td>0.0</td>\n",
              "      <td>0.0</td>\n",
              "      <td>0.0</td>\n",
              "      <td>1</td>\n",
              "    </tr>\n",
              "    <tr>\n",
              "      <th>1</th>\n",
              "      <td>2</td>\n",
              "      <td>120000.0</td>\n",
              "      <td>2</td>\n",
              "      <td>2</td>\n",
              "      <td>2</td>\n",
              "      <td>26</td>\n",
              "      <td>-1</td>\n",
              "      <td>2</td>\n",
              "      <td>0</td>\n",
              "      <td>0</td>\n",
              "      <td>...</td>\n",
              "      <td>3272.0</td>\n",
              "      <td>3455.0</td>\n",
              "      <td>3261.0</td>\n",
              "      <td>0.0</td>\n",
              "      <td>1000.0</td>\n",
              "      <td>1000.0</td>\n",
              "      <td>1000.0</td>\n",
              "      <td>0.0</td>\n",
              "      <td>2000.0</td>\n",
              "      <td>1</td>\n",
              "    </tr>\n",
              "    <tr>\n",
              "      <th>2</th>\n",
              "      <td>3</td>\n",
              "      <td>90000.0</td>\n",
              "      <td>2</td>\n",
              "      <td>2</td>\n",
              "      <td>2</td>\n",
              "      <td>34</td>\n",
              "      <td>0</td>\n",
              "      <td>0</td>\n",
              "      <td>0</td>\n",
              "      <td>0</td>\n",
              "      <td>...</td>\n",
              "      <td>14331.0</td>\n",
              "      <td>14948.0</td>\n",
              "      <td>15549.0</td>\n",
              "      <td>1518.0</td>\n",
              "      <td>1500.0</td>\n",
              "      <td>1000.0</td>\n",
              "      <td>1000.0</td>\n",
              "      <td>1000.0</td>\n",
              "      <td>5000.0</td>\n",
              "      <td>0</td>\n",
              "    </tr>\n",
              "    <tr>\n",
              "      <th>3</th>\n",
              "      <td>4</td>\n",
              "      <td>50000.0</td>\n",
              "      <td>2</td>\n",
              "      <td>2</td>\n",
              "      <td>1</td>\n",
              "      <td>37</td>\n",
              "      <td>0</td>\n",
              "      <td>0</td>\n",
              "      <td>0</td>\n",
              "      <td>0</td>\n",
              "      <td>...</td>\n",
              "      <td>28314.0</td>\n",
              "      <td>28959.0</td>\n",
              "      <td>29547.0</td>\n",
              "      <td>2000.0</td>\n",
              "      <td>2019.0</td>\n",
              "      <td>1200.0</td>\n",
              "      <td>1100.0</td>\n",
              "      <td>1069.0</td>\n",
              "      <td>1000.0</td>\n",
              "      <td>0</td>\n",
              "    </tr>\n",
              "    <tr>\n",
              "      <th>4</th>\n",
              "      <td>5</td>\n",
              "      <td>50000.0</td>\n",
              "      <td>1</td>\n",
              "      <td>2</td>\n",
              "      <td>1</td>\n",
              "      <td>57</td>\n",
              "      <td>-1</td>\n",
              "      <td>0</td>\n",
              "      <td>-1</td>\n",
              "      <td>0</td>\n",
              "      <td>...</td>\n",
              "      <td>20940.0</td>\n",
              "      <td>19146.0</td>\n",
              "      <td>19131.0</td>\n",
              "      <td>2000.0</td>\n",
              "      <td>36681.0</td>\n",
              "      <td>10000.0</td>\n",
              "      <td>9000.0</td>\n",
              "      <td>689.0</td>\n",
              "      <td>679.0</td>\n",
              "      <td>0</td>\n",
              "    </tr>\n",
              "    <tr>\n",
              "      <th>5</th>\n",
              "      <td>6</td>\n",
              "      <td>50000.0</td>\n",
              "      <td>1</td>\n",
              "      <td>1</td>\n",
              "      <td>2</td>\n",
              "      <td>37</td>\n",
              "      <td>0</td>\n",
              "      <td>0</td>\n",
              "      <td>0</td>\n",
              "      <td>0</td>\n",
              "      <td>...</td>\n",
              "      <td>19394.0</td>\n",
              "      <td>19619.0</td>\n",
              "      <td>20024.0</td>\n",
              "      <td>2500.0</td>\n",
              "      <td>1815.0</td>\n",
              "      <td>657.0</td>\n",
              "      <td>1000.0</td>\n",
              "      <td>1000.0</td>\n",
              "      <td>800.0</td>\n",
              "      <td>0</td>\n",
              "    </tr>\n",
              "    <tr>\n",
              "      <th>6</th>\n",
              "      <td>7</td>\n",
              "      <td>500000.0</td>\n",
              "      <td>1</td>\n",
              "      <td>1</td>\n",
              "      <td>2</td>\n",
              "      <td>29</td>\n",
              "      <td>0</td>\n",
              "      <td>0</td>\n",
              "      <td>0</td>\n",
              "      <td>0</td>\n",
              "      <td>...</td>\n",
              "      <td>542653.0</td>\n",
              "      <td>483003.0</td>\n",
              "      <td>473944.0</td>\n",
              "      <td>55000.0</td>\n",
              "      <td>40000.0</td>\n",
              "      <td>38000.0</td>\n",
              "      <td>20239.0</td>\n",
              "      <td>13750.0</td>\n",
              "      <td>13770.0</td>\n",
              "      <td>0</td>\n",
              "    </tr>\n",
              "    <tr>\n",
              "      <th>7</th>\n",
              "      <td>8</td>\n",
              "      <td>100000.0</td>\n",
              "      <td>2</td>\n",
              "      <td>2</td>\n",
              "      <td>2</td>\n",
              "      <td>23</td>\n",
              "      <td>0</td>\n",
              "      <td>-1</td>\n",
              "      <td>-1</td>\n",
              "      <td>0</td>\n",
              "      <td>...</td>\n",
              "      <td>221.0</td>\n",
              "      <td>-159.0</td>\n",
              "      <td>567.0</td>\n",
              "      <td>380.0</td>\n",
              "      <td>601.0</td>\n",
              "      <td>0.0</td>\n",
              "      <td>581.0</td>\n",
              "      <td>1687.0</td>\n",
              "      <td>1542.0</td>\n",
              "      <td>0</td>\n",
              "    </tr>\n",
              "    <tr>\n",
              "      <th>8</th>\n",
              "      <td>9</td>\n",
              "      <td>140000.0</td>\n",
              "      <td>2</td>\n",
              "      <td>3</td>\n",
              "      <td>1</td>\n",
              "      <td>28</td>\n",
              "      <td>0</td>\n",
              "      <td>0</td>\n",
              "      <td>2</td>\n",
              "      <td>0</td>\n",
              "      <td>...</td>\n",
              "      <td>12211.0</td>\n",
              "      <td>11793.0</td>\n",
              "      <td>3719.0</td>\n",
              "      <td>3329.0</td>\n",
              "      <td>0.0</td>\n",
              "      <td>432.0</td>\n",
              "      <td>1000.0</td>\n",
              "      <td>1000.0</td>\n",
              "      <td>1000.0</td>\n",
              "      <td>0</td>\n",
              "    </tr>\n",
              "    <tr>\n",
              "      <th>9</th>\n",
              "      <td>10</td>\n",
              "      <td>20000.0</td>\n",
              "      <td>1</td>\n",
              "      <td>3</td>\n",
              "      <td>2</td>\n",
              "      <td>35</td>\n",
              "      <td>-2</td>\n",
              "      <td>-2</td>\n",
              "      <td>-2</td>\n",
              "      <td>-2</td>\n",
              "      <td>...</td>\n",
              "      <td>0.0</td>\n",
              "      <td>13007.0</td>\n",
              "      <td>13912.0</td>\n",
              "      <td>0.0</td>\n",
              "      <td>0.0</td>\n",
              "      <td>0.0</td>\n",
              "      <td>13007.0</td>\n",
              "      <td>1122.0</td>\n",
              "      <td>0.0</td>\n",
              "      <td>0</td>\n",
              "    </tr>\n",
              "  </tbody>\n",
              "</table>\n",
              "<p>10 rows × 25 columns</p>\n",
              "</div>\n",
              "      <button class=\"colab-df-convert\" onclick=\"convertToInteractive('df-74aea812-cc7f-4f90-ac9f-b387f3cf0508')\"\n",
              "              title=\"Convert this dataframe to an interactive table.\"\n",
              "              style=\"display:none;\">\n",
              "        \n",
              "  <svg xmlns=\"http://www.w3.org/2000/svg\" height=\"24px\"viewBox=\"0 0 24 24\"\n",
              "       width=\"24px\">\n",
              "    <path d=\"M0 0h24v24H0V0z\" fill=\"none\"/>\n",
              "    <path d=\"M18.56 5.44l.94 2.06.94-2.06 2.06-.94-2.06-.94-.94-2.06-.94 2.06-2.06.94zm-11 1L8.5 8.5l.94-2.06 2.06-.94-2.06-.94L8.5 2.5l-.94 2.06-2.06.94zm10 10l.94 2.06.94-2.06 2.06-.94-2.06-.94-.94-2.06-.94 2.06-2.06.94z\"/><path d=\"M17.41 7.96l-1.37-1.37c-.4-.4-.92-.59-1.43-.59-.52 0-1.04.2-1.43.59L10.3 9.45l-7.72 7.72c-.78.78-.78 2.05 0 2.83L4 21.41c.39.39.9.59 1.41.59.51 0 1.02-.2 1.41-.59l7.78-7.78 2.81-2.81c.8-.78.8-2.07 0-2.86zM5.41 20L4 18.59l7.72-7.72 1.47 1.35L5.41 20z\"/>\n",
              "  </svg>\n",
              "      </button>\n",
              "      \n",
              "  <style>\n",
              "    .colab-df-container {\n",
              "      display:flex;\n",
              "      flex-wrap:wrap;\n",
              "      gap: 12px;\n",
              "    }\n",
              "\n",
              "    .colab-df-convert {\n",
              "      background-color: #E8F0FE;\n",
              "      border: none;\n",
              "      border-radius: 50%;\n",
              "      cursor: pointer;\n",
              "      display: none;\n",
              "      fill: #1967D2;\n",
              "      height: 32px;\n",
              "      padding: 0 0 0 0;\n",
              "      width: 32px;\n",
              "    }\n",
              "\n",
              "    .colab-df-convert:hover {\n",
              "      background-color: #E2EBFA;\n",
              "      box-shadow: 0px 1px 2px rgba(60, 64, 67, 0.3), 0px 1px 3px 1px rgba(60, 64, 67, 0.15);\n",
              "      fill: #174EA6;\n",
              "    }\n",
              "\n",
              "    [theme=dark] .colab-df-convert {\n",
              "      background-color: #3B4455;\n",
              "      fill: #D2E3FC;\n",
              "    }\n",
              "\n",
              "    [theme=dark] .colab-df-convert:hover {\n",
              "      background-color: #434B5C;\n",
              "      box-shadow: 0px 1px 3px 1px rgba(0, 0, 0, 0.15);\n",
              "      filter: drop-shadow(0px 1px 2px rgba(0, 0, 0, 0.3));\n",
              "      fill: #FFFFFF;\n",
              "    }\n",
              "  </style>\n",
              "\n",
              "      <script>\n",
              "        const buttonEl =\n",
              "          document.querySelector('#df-74aea812-cc7f-4f90-ac9f-b387f3cf0508 button.colab-df-convert');\n",
              "        buttonEl.style.display =\n",
              "          google.colab.kernel.accessAllowed ? 'block' : 'none';\n",
              "\n",
              "        async function convertToInteractive(key) {\n",
              "          const element = document.querySelector('#df-74aea812-cc7f-4f90-ac9f-b387f3cf0508');\n",
              "          const dataTable =\n",
              "            await google.colab.kernel.invokeFunction('convertToInteractive',\n",
              "                                                     [key], {});\n",
              "          if (!dataTable) return;\n",
              "\n",
              "          const docLinkHtml = 'Like what you see? Visit the ' +\n",
              "            '<a target=\"_blank\" href=https://colab.research.google.com/notebooks/data_table.ipynb>data table notebook</a>'\n",
              "            + ' to learn more about interactive tables.';\n",
              "          element.innerHTML = '';\n",
              "          dataTable['output_type'] = 'display_data';\n",
              "          await google.colab.output.renderOutput(dataTable, element);\n",
              "          const docLink = document.createElement('div');\n",
              "          docLink.innerHTML = docLinkHtml;\n",
              "          element.appendChild(docLink);\n",
              "        }\n",
              "      </script>\n",
              "    </div>\n",
              "  </div>\n",
              "  "
            ]
          },
          "metadata": {},
          "execution_count": 3
        }
      ]
    },
    {
      "cell_type": "code",
      "source": [
        "cc_default.info()"
      ],
      "metadata": {
        "colab": {
          "base_uri": "https://localhost:8080/"
        },
        "id": "OtYrKtTPV5Pt",
        "outputId": "d0303309-6912-49c4-8ea0-dd5e098edf7e"
      },
      "execution_count": null,
      "outputs": [
        {
          "output_type": "stream",
          "name": "stdout",
          "text": [
            "<class 'pandas.core.frame.DataFrame'>\n",
            "RangeIndex: 30000 entries, 0 to 29999\n",
            "Data columns (total 25 columns):\n",
            " #   Column                      Non-Null Count  Dtype  \n",
            "---  ------                      --------------  -----  \n",
            " 0   ID                          30000 non-null  int64  \n",
            " 1   LIMIT_BAL                   30000 non-null  float64\n",
            " 2   SEX                         30000 non-null  int64  \n",
            " 3   EDUCATION                   30000 non-null  int64  \n",
            " 4   MARRIAGE                    30000 non-null  int64  \n",
            " 5   AGE                         30000 non-null  int64  \n",
            " 6   PAY_0                       30000 non-null  int64  \n",
            " 7   PAY_2                       30000 non-null  int64  \n",
            " 8   PAY_3                       30000 non-null  int64  \n",
            " 9   PAY_4                       30000 non-null  int64  \n",
            " 10  PAY_5                       30000 non-null  int64  \n",
            " 11  PAY_6                       30000 non-null  int64  \n",
            " 12  BILL_AMT1                   30000 non-null  float64\n",
            " 13  BILL_AMT2                   30000 non-null  float64\n",
            " 14  BILL_AMT3                   30000 non-null  float64\n",
            " 15  BILL_AMT4                   30000 non-null  float64\n",
            " 16  BILL_AMT5                   30000 non-null  float64\n",
            " 17  BILL_AMT6                   30000 non-null  float64\n",
            " 18  PAY_AMT1                    30000 non-null  float64\n",
            " 19  PAY_AMT2                    30000 non-null  float64\n",
            " 20  PAY_AMT3                    30000 non-null  float64\n",
            " 21  PAY_AMT4                    30000 non-null  float64\n",
            " 22  PAY_AMT5                    30000 non-null  float64\n",
            " 23  PAY_AMT6                    30000 non-null  float64\n",
            " 24  default.payment.next.month  30000 non-null  int64  \n",
            "dtypes: float64(13), int64(12)\n",
            "memory usage: 5.7 MB\n"
          ]
        }
      ]
    },
    {
      "cell_type": "code",
      "source": [
        "cc_default.columns.values"
      ],
      "metadata": {
        "colab": {
          "base_uri": "https://localhost:8080/"
        },
        "id": "wpvceO0MmEBV",
        "outputId": "35ef8f87-785e-4dad-899f-beb6200a8ae9"
      },
      "execution_count": null,
      "outputs": [
        {
          "output_type": "execute_result",
          "data": {
            "text/plain": [
              "array(['ID', 'LIMIT_BAL', 'SEX', 'EDUCATION', 'MARRIAGE', 'AGE', 'PAY_0',\n",
              "       'PAY_2', 'PAY_3', 'PAY_4', 'PAY_5', 'PAY_6', 'BILL_AMT1',\n",
              "       'BILL_AMT2', 'BILL_AMT3', 'BILL_AMT4', 'BILL_AMT5', 'BILL_AMT6',\n",
              "       'PAY_AMT1', 'PAY_AMT2', 'PAY_AMT3', 'PAY_AMT4', 'PAY_AMT5',\n",
              "       'PAY_AMT6', 'default.payment.next.month'], dtype=object)"
            ]
          },
          "metadata": {},
          "execution_count": 5
        }
      ]
    },
    {
      "cell_type": "code",
      "source": [
        "cc_default.isna().sum()"
      ],
      "metadata": {
        "colab": {
          "base_uri": "https://localhost:8080/"
        },
        "id": "JV1DLWcfm6j1",
        "outputId": "7fc3d1b3-f21a-42e1-b9ce-c732ddf4287d"
      },
      "execution_count": null,
      "outputs": [
        {
          "output_type": "execute_result",
          "data": {
            "text/plain": [
              "ID                            0\n",
              "LIMIT_BAL                     0\n",
              "SEX                           0\n",
              "EDUCATION                     0\n",
              "MARRIAGE                      0\n",
              "AGE                           0\n",
              "PAY_0                         0\n",
              "PAY_2                         0\n",
              "PAY_3                         0\n",
              "PAY_4                         0\n",
              "PAY_5                         0\n",
              "PAY_6                         0\n",
              "BILL_AMT1                     0\n",
              "BILL_AMT2                     0\n",
              "BILL_AMT3                     0\n",
              "BILL_AMT4                     0\n",
              "BILL_AMT5                     0\n",
              "BILL_AMT6                     0\n",
              "PAY_AMT1                      0\n",
              "PAY_AMT2                      0\n",
              "PAY_AMT3                      0\n",
              "PAY_AMT4                      0\n",
              "PAY_AMT5                      0\n",
              "PAY_AMT6                      0\n",
              "default.payment.next.month    0\n",
              "dtype: int64"
            ]
          },
          "metadata": {},
          "execution_count": 6
        }
      ]
    },
    {
      "cell_type": "markdown",
      "source": [
        "### There are some coded values in the data:\n",
        "FOR EG:\n",
        "1) SEX: (1=MALE 2=FEMALE)\n",
        "2)EDUCATION: (1=graduate school, 2=university, 3=high school, 4=others, 5=unknown, 6=unknown).\n",
        "3)MARRIAGE:Marital status (1=married, 2=single, 3=others)\n",
        "4)PAY_0:REPAYMENT STATUS IN SEPTEMBER (-1=pay duly, 1=payment delay for one month, 2=payment delay for two months, … 8=payment delay for eight months, 9=payment delay for nine months and above)\n",
        "5)default.payment.next.month:(1=Yes 2=No)\n"
      ],
      "metadata": {
        "id": "SP4-xNlNnLUH"
      }
    },
    {
      "cell_type": "markdown",
      "source": [
        "Save it to google drive. Share the link. In the link you will get the file id. "
      ],
      "metadata": {
        "id": "_RpsU36A_fuz"
      }
    },
    {
      "cell_type": "markdown",
      "source": [
        "*   Update \"id\" with your google drive file ID\n",
        "*   Update file names if required \n",
        "\n"
      ],
      "metadata": {
        "id": "G0I0pSIOS_HM"
      }
    },
    {
      "cell_type": "markdown",
      "source": [
        "# Data Exploration"
      ],
      "metadata": {
        "id": "eX3yEdPrbyWN"
      }
    },
    {
      "cell_type": "markdown",
      "source": [
        "# Discrete/Categorical Variables Exploration"
      ],
      "metadata": {
        "id": "b09pStwvb0of"
      }
    },
    {
      "cell_type": "markdown",
      "source": [
        "## **CAT VAR1=SEX**"
      ],
      "metadata": {
        "id": "DgLxNcsMb4mT"
      }
    },
    {
      "cell_type": "code",
      "source": [
        "cc_default['SEX'].value_counts()"
      ],
      "metadata": {
        "colab": {
          "base_uri": "https://localhost:8080/"
        },
        "id": "cgvDSX6BeLDQ",
        "outputId": "cee76337-639c-46b4-bcdd-bf3f0f298e0a"
      },
      "execution_count": null,
      "outputs": [
        {
          "output_type": "execute_result",
          "data": {
            "text/plain": [
              "2    18112\n",
              "1    11888\n",
              "Name: SEX, dtype: int64"
            ]
          },
          "metadata": {},
          "execution_count": 3
        }
      ]
    },
    {
      "cell_type": "code",
      "source": [
        "cc_default['SEX'].isna().sum()"
      ],
      "metadata": {
        "colab": {
          "base_uri": "https://localhost:8080/"
        },
        "id": "de8JMNUXfP7J",
        "outputId": "5523b8c0-ab39-4c26-e492-3c90f82fac8c"
      },
      "execution_count": null,
      "outputs": [
        {
          "output_type": "execute_result",
          "data": {
            "text/plain": [
              "0"
            ]
          },
          "metadata": {},
          "execution_count": 4
        }
      ]
    },
    {
      "cell_type": "code",
      "source": [
        "cc_default['SEX'] = cc_default['SEX'].replace([2],0)"
      ],
      "metadata": {
        "id": "4Cc6FzY7i5jp"
      },
      "execution_count": null,
      "outputs": []
    },
    {
      "cell_type": "markdown",
      "source": [
        " FINDINGS: the first categorical variable that is \"SEX\" is clean from any errors. And the code for female=2 has been replaced by 0\n"
      ],
      "metadata": {
        "id": "CnZWSKrxcA-8"
      }
    },
    {
      "cell_type": "markdown",
      "source": [
        "## **CAT VAR2=EDUCATION**\n",
        "\n",
        "\n"
      ],
      "metadata": {
        "id": "Zbfy_fkBf_Qo"
      }
    },
    {
      "cell_type": "code",
      "source": [
        "cc_default['EDUCATION'].value_counts()\n"
      ],
      "metadata": {
        "colab": {
          "base_uri": "https://localhost:8080/"
        },
        "id": "hOpd86czfc_Q",
        "outputId": "f10456a9-23ae-4aa3-a10b-4ce99647a826"
      },
      "execution_count": null,
      "outputs": [
        {
          "output_type": "execute_result",
          "data": {
            "text/plain": [
              "2    14030\n",
              "1    10585\n",
              "3     4917\n",
              "5      280\n",
              "4      123\n",
              "6       51\n",
              "0       14\n",
              "Name: EDUCATION, dtype: int64"
            ]
          },
          "metadata": {},
          "execution_count": 6
        }
      ]
    },
    {
      "cell_type": "markdown",
      "source": [
        " **FINDINGS:There were 14 obs coded as 0 which do not represent anything as per the dataset hence those 14 values will be imputed by the code with the slosest frequency that is 6 while data cleaning.**"
      ],
      "metadata": {
        "id": "fnsbfRWIhKGm"
      }
    },
    {
      "cell_type": "markdown",
      "source": [
        "## **CAT VAR3=MARRIAGE**\n"
      ],
      "metadata": {
        "id": "IqaxDC0Vb7iv"
      }
    },
    {
      "cell_type": "code",
      "source": [
        "cc_default['MARRIAGE'].value_counts()"
      ],
      "metadata": {
        "colab": {
          "base_uri": "https://localhost:8080/"
        },
        "id": "so4ohAB9hU9o",
        "outputId": "3ab3ceb5-eea3-4fd3-8d5d-f29c1bd709b9"
      },
      "execution_count": null,
      "outputs": [
        {
          "output_type": "execute_result",
          "data": {
            "text/plain": [
              "2    15964\n",
              "1    13659\n",
              "3      323\n",
              "0       54\n",
              "Name: MARRIAGE, dtype: int64"
            ]
          },
          "metadata": {},
          "execution_count": 10
        }
      ]
    },
    {
      "cell_type": "markdown",
      "source": [
        " **FINDINGS: There were 54 obs in the dataframe coded 0 which are not true as per the dataset hence those values coded 0 are imputed with the code with the closest frequency that is 3 which rpresents 'OTHERS' category**"
      ],
      "metadata": {
        "id": "rPTiZwdgcCZV"
      }
    },
    {
      "cell_type": "markdown",
      "source": [
        "## **DISCRETE VAR1=AGE**\n"
      ],
      "metadata": {
        "id": "k-rM4zRjb97N"
      }
    },
    {
      "cell_type": "code",
      "source": [
        "import matplotlib.pyplot as plt\n",
        "plt.style.use('seaborn-whitegrid')\n",
        "plt.hist(cc_default['AGE'],bins=10)\n",
        "plt.show()"
      ],
      "metadata": {
        "colab": {
          "base_uri": "https://localhost:8080/"
        },
        "id": "KyxD3oGoh2bY",
        "outputId": "6df2c1a3-e537-4a2c-b74e-e31333cbcefe"
      },
      "execution_count": null,
      "outputs": [
        {
          "output_type": "display_data",
          "data": {
            "text/plain": [
              "<Figure size 432x288 with 1 Axes>"
            ],
            "image/png": "[encoded data removed]"
          },
          "metadata": {}
        }
      ]
    },
    {
      "cell_type": "code",
      "source": [
        "cc_default['AGE'].isna().sum()"
      ],
      "metadata": {
        "colab": {
          "base_uri": "https://localhost:8080/"
        },
        "id": "Yr5b2p-hh-Uq",
        "outputId": "7e0130d6-b0bf-486d-c71e-8def4daed4ff"
      },
      "execution_count": null,
      "outputs": [
        {
          "output_type": "execute_result",
          "data": {
            "text/plain": [
              "0"
            ]
          },
          "metadata": {},
          "execution_count": 15
        }
      ]
    },
    {
      "cell_type": "markdown",
      "source": [
        " **FINDINGS: The following variable has no suspicious or null values as well as there are not any significant outliers.**"
      ],
      "metadata": {
        "id": "mDxE670mcD5U"
      }
    },
    {
      "cell_type": "markdown",
      "source": [
        "## **DISCRETE VAR2=PAY_0**\n",
        "\n",
        "\n",
        "\n",
        "\n",
        "\n",
        "\n",
        "\n"
      ],
      "metadata": {
        "id": "AiXSvXMikLFw"
      }
    },
    {
      "cell_type": "code",
      "source": [
        "cc_default['PAY_0'].value_counts()"
      ],
      "metadata": {
        "colab": {
          "base_uri": "https://localhost:8080/"
        },
        "id": "E94TOBSAq_wf",
        "outputId": "452da053-577d-4736-c706-73488b3b7005"
      },
      "execution_count": null,
      "outputs": [
        {
          "output_type": "execute_result",
          "data": {
            "text/plain": [
              " 0    14737\n",
              "-1     5686\n",
              " 1     3688\n",
              "-2     2759\n",
              " 2     2667\n",
              " 3      322\n",
              " 4       76\n",
              " 5       26\n",
              " 8       19\n",
              " 6       11\n",
              " 7        9\n",
              "Name: PAY_0, dtype: int64"
            ]
          },
          "metadata": {},
          "execution_count": 16
        }
      ]
    },
    {
      "cell_type": "code",
      "source": [
        "sns.countplot(x='PAY_0', data=cc_default)"
      ],
      "metadata": {
        "colab": {
          "base_uri": "https://localhost:8080/"
        },
        "id": "DVb80F72kI7i",
        "outputId": "320f82ef-733e-44a7-eb62-560e185214e6"
      },
      "execution_count": null,
      "outputs": [
        {
          "output_type": "execute_result",
          "data": {
            "text/plain": [
              "<AxesSubplot:xlabel='PAY_0', ylabel='count'>"
            ]
          },
          "metadata": {},
          "execution_count": 20
        },
        {
          "output_type": "display_data",
          "data": {
            "text/plain": [
              "<Figure size 432x288 with 1 Axes>"
            ],
            "image/png": "[encoded data removed]"
          },
          "metadata": {}
        }
      ]
    },
    {
      "cell_type": "markdown",
      "source": [
        " FINDINGS:\n",
        "1.The codes -1,-2 will be imputed by 0 in the data cleaning step which represents that the customer has made the payment duly.\n",
        "2.The column has also been renamed as PAY_1.\n",
        "3.The rest of the codes will also be grouped in the data cleaning as follows for the ease of analysis.\n",
        "(1,2,3)=1,(4,5,6)=2,(7,8,9)=3\n",
        "and the new codes will be:\n",
        "0=Paid Duly\n",
        "1=Payment delay for 1-3 months.\n",
        "2=Payment delay for 4-6 months.\n",
        "3=Payment delay for-7-9 months and above"
      ],
      "metadata": {
        "id": "CfCxqMaEqdCX"
      }
    },
    {
      "cell_type": "markdown",
      "source": [
        "## **DISCRETE VARIABLE3=PAY_2**"
      ],
      "metadata": {
        "id": "O5WfWMlDrfls"
      }
    },
    {
      "cell_type": "code",
      "source": [
        "cc_default['PAY_2'].value_counts()"
      ],
      "metadata": {
        "colab": {
          "base_uri": "https://localhost:8080/"
        },
        "id": "Uh84o9ARwT89",
        "outputId": "230d6978-277f-4439-af8d-6b147cdad814"
      },
      "execution_count": null,
      "outputs": [
        {
          "output_type": "execute_result",
          "data": {
            "text/plain": [
              " 0    15730\n",
              "-1     6050\n",
              " 2     3927\n",
              "-2     3782\n",
              " 3      326\n",
              " 4       99\n",
              " 1       28\n",
              " 5       25\n",
              " 7       20\n",
              " 6       12\n",
              " 8        1\n",
              "Name: PAY_2, dtype: int64"
            ]
          },
          "metadata": {},
          "execution_count": 29
        }
      ]
    },
    {
      "cell_type": "code",
      "source": [
        "sns.countplot(x='PAY_2', data=cc_default)"
      ],
      "metadata": {
        "colab": {
          "base_uri": "https://localhost:8080/"
        },
        "id": "glw9_Bgvk9RB",
        "outputId": "6d1ba599-6da9-4b34-d6a8-9834d1714d30"
      },
      "execution_count": null,
      "outputs": [
        {
          "output_type": "execute_result",
          "data": {
            "text/plain": [
              "<AxesSubplot:xlabel='PAY_2', ylabel='count'>"
            ]
          },
          "metadata": {},
          "execution_count": 30
        },
        {
          "output_type": "display_data",
          "data": {
            "text/plain": [
              "<Figure size 432x288 with 1 Axes>"
            ],
            "image/png": "[encoded data removed]"
          },
          "metadata": {}
        }
      ]
    },
    {
      "cell_type": "markdown",
      "source": [
        "FINDINGS:\n",
        "1.The codes -1,-2 will be imputed by 0 in the data cleaning step which represents that the customer has made the payment duly.\n",
        "2.The column has also been renamed as PAY_1.\n",
        "3.The rest of the codes will also be grouped in the data cleaning as follows for the ease of analysis.\n",
        "(1,2,3)=1,(4,5,6)=2,(7,8,9)=3\n",
        "and the new codes will be:\n",
        "0=Paid Duly\n",
        "1=Payment delay for 1-3 months.\n",
        "2=Payment delay for 4-6 months.\n",
        "3=Payment delay for-7-9 months and above "
      ],
      "metadata": {
        "id": "dvw6Ok9mwgkE"
      }
    },
    {
      "cell_type": "code",
      "source": [],
      "metadata": {
        "id": "o2noGU4WARqk"
      },
      "execution_count": null,
      "outputs": []
    },
    {
      "cell_type": "markdown",
      "source": [
        "## **DISCRETE VARIABLE4=PAY_3**"
      ],
      "metadata": {
        "id": "6N_5FlwSwrFg"
      }
    },
    {
      "cell_type": "code",
      "source": [
        "cc_default['PAY_3'].value_counts()"
      ],
      "metadata": {
        "colab": {
          "base_uri": "https://localhost:8080/"
        },
        "id": "g87Bc9UWw9o0",
        "outputId": "dba99d20-412b-428c-f587-ee01407223ba"
      },
      "execution_count": null,
      "outputs": [
        {
          "output_type": "execute_result",
          "data": {
            "text/plain": [
              " 0    15764\n",
              "-1     5938\n",
              "-2     4085\n",
              " 2     3819\n",
              " 3      240\n",
              " 4       76\n",
              " 7       27\n",
              " 6       23\n",
              " 5       21\n",
              " 1        4\n",
              " 8        3\n",
              "Name: PAY_3, dtype: int64"
            ]
          },
          "metadata": {},
          "execution_count": 36
        }
      ]
    },
    {
      "cell_type": "code",
      "source": [
        "sns.countplot(x='PAY_3', data=cc_default)"
      ],
      "metadata": {
        "colab": {
          "base_uri": "https://localhost:8080/"
        },
        "id": "VzUWKi8blIX2",
        "outputId": "98ad9fef-58e7-4607-cc3d-22338c0597c1"
      },
      "execution_count": null,
      "outputs": [
        {
          "output_type": "execute_result",
          "data": {
            "text/plain": [
              "<AxesSubplot:xlabel='PAY_3', ylabel='count'>"
            ]
          },
          "metadata": {},
          "execution_count": 37
        },
        {
          "output_type": "display_data",
          "data": {
            "text/plain": [
              "<Figure size 432x288 with 1 Axes>"
            ],
            "image/png": "[encoded data removed]"
          },
          "metadata": {}
        }
      ]
    },
    {
      "cell_type": "markdown",
      "source": [
        "FINDINGS:\n",
        "1.The codes -1,-2 will be imputed by 0 in the data cleaning step which represents that the customer has made the payment duly.\n",
        "2.The column has also been renamed as PAY_1.\n",
        "3.The rest of the codes will also be grouped in the data cleaning as follows for the ease of analysis.\n",
        "(1,2,3)=1,(4,5,6)=2,(7,8,9)=3\n",
        "and the new codes will be:\n",
        "0=Paid Duly\n",
        "1=Payment delay for 1-3 months.\n",
        "2=Payment delay for 4-6 months.\n",
        "3=Payment delay for-7-9 months and above "
      ],
      "metadata": {
        "id": "1Rc5KvZYxQjA"
      }
    },
    {
      "cell_type": "markdown",
      "source": [
        "## **DISCRETE VARIABLE 5=PAY_4**"
      ],
      "metadata": {
        "id": "rNCHiQ29xUnL"
      }
    },
    {
      "cell_type": "code",
      "source": [
        "cc_default['PAY_4'].value_counts()"
      ],
      "metadata": {
        "colab": {
          "base_uri": "https://localhost:8080/"
        },
        "id": "IWF6EDCMxbUB",
        "outputId": "aa215467-8903-4e42-c5b0-88f8e1576ce8"
      },
      "execution_count": null,
      "outputs": [
        {
          "output_type": "execute_result",
          "data": {
            "text/plain": [
              " 0    16455\n",
              "-1     5687\n",
              "-2     4348\n",
              " 2     3159\n",
              " 3      180\n",
              " 4       69\n",
              " 7       58\n",
              " 5       35\n",
              " 6        5\n",
              " 1        2\n",
              " 8        2\n",
              "Name: PAY_4, dtype: int64"
            ]
          },
          "metadata": {},
          "execution_count": 39
        }
      ]
    },
    {
      "cell_type": "code",
      "source": [
        "sns.countplot(x='PAY_4', data=cc_default)"
      ],
      "metadata": {
        "colab": {
          "base_uri": "https://localhost:8080/"
        },
        "id": "0FyazYtllOc6",
        "outputId": "af89c0e3-686c-48e8-c337-7e171c5a5354"
      },
      "execution_count": null,
      "outputs": [
        {
          "output_type": "execute_result",
          "data": {
            "text/plain": [
              "<AxesSubplot:xlabel='PAY_4', ylabel='count'>"
            ]
          },
          "metadata": {},
          "execution_count": 38
        },
        {
          "output_type": "display_data",
          "data": {
            "text/plain": [
              "<Figure size 432x288 with 1 Axes>"
            ],
            "image/png": "[encoded data removed]"
          },
          "metadata": {}
        }
      ]
    },
    {
      "cell_type": "markdown",
      "source": [
        "FINDINGS:\n",
        "1.The codes -1,-2 will be imputed by 0 in the data cleaning step which represents that the customer has made the payment duly.\n",
        "2.The column has also been renamed as PAY_1.\n",
        "3.The rest of the codes will also be grouped in the data cleaning as follows for the ease of analysis.\n",
        "(1,2,3)=1,(4,5,6)=2,(7,8,9)=3\n",
        "and the new codes will be:\n",
        "0=Paid Duly\n",
        "1=Payment delay for 1-3 months.\n",
        "2=Payment delay for 4-6 months.\n",
        "3=Payment delay for-7-9 months and above "
      ],
      "metadata": {
        "id": "8LEsnsXux4IF"
      }
    },
    {
      "cell_type": "markdown",
      "source": [
        "## **DISCRETE VARIABLE 6=PAY_5**"
      ],
      "metadata": {
        "id": "SfGkA4eOx5yP"
      }
    },
    {
      "cell_type": "code",
      "source": [
        "cc_default['PAY_5'].value_counts()"
      ],
      "metadata": {
        "colab": {
          "base_uri": "https://localhost:8080/"
        },
        "id": "JxPqVayoyAha",
        "outputId": "2e905d1b-1d7d-472a-f046-adb0a2152645"
      },
      "execution_count": null,
      "outputs": [
        {
          "output_type": "execute_result",
          "data": {
            "text/plain": [
              " 0    16947\n",
              "-1     5539\n",
              "-2     4546\n",
              " 2     2626\n",
              " 3      178\n",
              " 4       84\n",
              " 7       58\n",
              " 5       17\n",
              " 6        4\n",
              " 8        1\n",
              "Name: PAY_5, dtype: int64"
            ]
          },
          "metadata": {},
          "execution_count": 40
        }
      ]
    },
    {
      "cell_type": "code",
      "source": [
        "sns.countplot(x='PAY_5', data=cc_default)"
      ],
      "metadata": {
        "colab": {
          "base_uri": "https://localhost:8080/"
        },
        "id": "HkK69xKUlTmV",
        "outputId": "5320cb03-c619-4743-dc71-2db8722eb222"
      },
      "execution_count": null,
      "outputs": [
        {
          "output_type": "execute_result",
          "data": {
            "text/plain": [
              "<AxesSubplot:xlabel='PAY_5', ylabel='count'>"
            ]
          },
          "metadata": {},
          "execution_count": 41
        },
        {
          "output_type": "display_data",
          "data": {
            "text/plain": [
              "<Figure size 432x288 with 1 Axes>"
            ],
            "image/png": "[encoded data removed]"
          },
          "metadata": {}
        }
      ]
    },
    {
      "cell_type": "markdown",
      "source": [
        "FINDINGS:\n",
        "1.The codes -1,-2 will be imputed by 0 in the data cleaning step which represents that the customer has made the payment duly.\n",
        "2.The column has also been renamed as PAY_1.\n",
        "3.The rest of the codes will also be grouped in the data cleaning as follows for the ease of analysis.\n",
        "(1,2,3)=1,(4,5,6)=2,(7,8,9)=3\n",
        "and the new codes will be:\n",
        "0=Paid Duly\n",
        "1=Payment delay for 1-3 months.\n",
        "2=Payment delay for 4-6 months.\n",
        "3=Payment delay for-7-9 months and above "
      ],
      "metadata": {
        "id": "69d7WzDxy4Ti"
      }
    },
    {
      "cell_type": "markdown",
      "source": [
        "## **DISCRETE VARIABLE 7=PAY_6**"
      ],
      "metadata": {
        "id": "E8jwTfF8y76l"
      }
    },
    {
      "cell_type": "code",
      "source": [
        "cc_default['PAY_6'].value_counts()"
      ],
      "metadata": {
        "colab": {
          "base_uri": "https://localhost:8080/"
        },
        "id": "LMzexkOPy68g",
        "outputId": "c79947b0-3b0d-457d-c5d2-b6ac15b55a49"
      },
      "execution_count": null,
      "outputs": [
        {
          "output_type": "execute_result",
          "data": {
            "text/plain": [
              " 0    16286\n",
              "-1     5740\n",
              "-2     4895\n",
              " 2     2766\n",
              " 3      184\n",
              " 4       49\n",
              " 7       46\n",
              " 6       19\n",
              " 5       13\n",
              " 8        2\n",
              "Name: PAY_6, dtype: int64"
            ]
          },
          "metadata": {},
          "execution_count": 42
        }
      ]
    },
    {
      "cell_type": "code",
      "source": [
        "sns.countplot(x='PAY_6', data=cc_default)"
      ],
      "metadata": {
        "colab": {
          "base_uri": "https://localhost:8080/"
        },
        "id": "EF9KaiFflciT",
        "outputId": "5f182df9-8395-452a-e2f1-72817a965cc7"
      },
      "execution_count": null,
      "outputs": [
        {
          "output_type": "execute_result",
          "data": {
            "text/plain": [
              "<AxesSubplot:xlabel='PAY_6', ylabel='count'>"
            ]
          },
          "metadata": {},
          "execution_count": 43
        },
        {
          "output_type": "display_data",
          "data": {
            "text/plain": [
              "<Figure size 432x288 with 1 Axes>"
            ],
            "image/png": "[encoded data removed]"
          },
          "metadata": {}
        }
      ]
    },
    {
      "cell_type": "markdown",
      "source": [
        "FINDINGS:\n",
        "1.The codes -1,-2 will be imputed by 0 in the data cleaning step which represents that the customer has made the payment duly.\n",
        "2.The column has also been renamed as PAY_1.\n",
        "3.The rest of the codes will also be grouped in the data cleaning as follows for the ease of analysis.\n",
        "(1,2,3)=1,(4,5,6)=2,(7,8,9)=3\n",
        "and the new codes will be:\n",
        "0=Paid Duly\n",
        "1=Payment delay for 1-3 months.\n",
        "2=Payment delay for 4-6 months.\n",
        "3=Payment delay for-7-9 months and above "
      ],
      "metadata": {
        "id": "TXGYatzkzZE-"
      }
    },
    {
      "cell_type": "markdown",
      "source": [
        "## **DISCRETE VARIABLE 8=default.payment.next.month**"
      ],
      "metadata": {
        "id": "a5m1kcPosPTV"
      }
    },
    {
      "cell_type": "code",
      "source": [
        "cc_default['default.payment.next.month'].value_counts()"
      ],
      "metadata": {
        "colab": {
          "base_uri": "https://localhost:8080/"
        },
        "id": "lxtyWhiDsbTu",
        "outputId": "76535944-6767-4ca0-8db1-504ffba9d904"
      },
      "execution_count": null,
      "outputs": [
        {
          "output_type": "execute_result",
          "data": {
            "text/plain": [
              "0    23364\n",
              "1     6636\n",
              "Name: default.payment.next.month, dtype: int64"
            ]
          },
          "metadata": {},
          "execution_count": 44
        }
      ]
    },
    {
      "cell_type": "markdown",
      "source": [
        "**FINDINGS: This is the target variable and there are no suspicious,null or unacceptable values in this.**"
      ],
      "metadata": {
        "id": "f8VmfBGgzm-d"
      }
    },
    {
      "cell_type": "markdown",
      "source": [
        "# Continuous Variables Exploration"
      ],
      "metadata": {
        "id": "RBrQRLEZcTom"
      }
    },
    {
      "cell_type": "markdown",
      "source": [
        "## Continuous Var1=LIMIT_BAL"
      ],
      "metadata": {
        "id": "xy8E_UHbcjEN"
      }
    },
    {
      "cell_type": "code",
      "source": [
        "cc_default.boxplot(column=[\"LIMIT_BAL\"])"
      ],
      "metadata": {
        "id": "PrL6HSzz00lb",
        "colab": {
          "base_uri": "https://localhost:8080/",
          "height": 290
        },
        "outputId": "57c73a8e-7977-4396-a037-a976c4581e68"
      },
      "execution_count": null,
      "outputs": [
        {
          "output_type": "execute_result",
          "data": {
            "text/plain": [
              "<AxesSubplot:>"
            ]
          },
          "metadata": {},
          "execution_count": 56
        },
        {
          "output_type": "display_data",
          "data": {
            "text/plain": [
              "<Figure size 432x288 with 1 Axes>"
            ],
            "image/png": "[encoded data removed]"
          },
          "metadata": {}
        }
      ]
    },
    {
      "cell_type": "code",
      "source": [
        "cc_default['LIMIT_BAL'].quantile([0.1,0.2,0.3,0.4,0.5,0.6,0.7,0.8,0.9,1])"
      ],
      "metadata": {
        "colab": {
          "base_uri": "https://localhost:8080/"
        },
        "id": "YB6FyhxzXq27",
        "outputId": "4cb4537d-d862-4c85-b36a-350d5c195b44"
      },
      "execution_count": null,
      "outputs": [
        {
          "output_type": "execute_result",
          "data": {
            "text/plain": [
              "0.1      30000.0\n",
              "0.2      50000.0\n",
              "0.3      70000.0\n",
              "0.4     100000.0\n",
              "0.5     140000.0\n",
              "0.6     180000.0\n",
              "0.7     210000.0\n",
              "0.8     270000.0\n",
              "0.9     360000.0\n",
              "1.0    1000000.0\n",
              "Name: LIMIT_BAL, dtype: float64"
            ]
          },
          "metadata": {},
          "execution_count": 57
        }
      ]
    },
    {
      "cell_type": "code",
      "source": [
        "cc_default['LIMIT_BAL'].quantile([0.91,0.92,0.93,0.94,0.95,0.06,0.97,0.98,0.99,1])"
      ],
      "metadata": {
        "colab": {
          "base_uri": "https://localhost:8080/"
        },
        "id": "AlkdbL97X_JG",
        "outputId": "0290f569-4b19-4f84-e565-ce5a861ffa2d"
      },
      "execution_count": null,
      "outputs": [
        {
          "output_type": "execute_result",
          "data": {
            "text/plain": [
              "0.91     360000.0\n",
              "0.92     380000.0\n",
              "0.93     390000.0\n",
              "0.94     410000.0\n",
              "0.95     430000.0\n",
              "0.06      20000.0\n",
              "0.97     500000.0\n",
              "0.98     500000.0\n",
              "0.99     500000.0\n",
              "1.00    1000000.0\n",
              "Name: LIMIT_BAL, dtype: float64"
            ]
          },
          "metadata": {},
          "execution_count": 58
        }
      ]
    },
    {
      "cell_type": "markdown",
      "source": [
        "Findings: In the following variable there are some extreme outliers and hence they will be imputed by the median value of the following variable in the data cleaning process."
      ],
      "metadata": {
        "id": "_QjGkCDVcjEO"
      }
    },
    {
      "cell_type": "markdown",
      "source": [
        "## **Continuous Variable2=BILL_AMT1**"
      ],
      "metadata": {
        "id": "kTEjMRKNcjEO"
      }
    },
    {
      "cell_type": "code",
      "source": [
        "cc_default.boxplot(column=['BILL_AMT1'])"
      ],
      "metadata": {
        "colab": {
          "base_uri": "https://localhost:8080/",
          "height": 290
        },
        "id": "48wO99NtcKCN",
        "outputId": "ab617689-5083-4c97-f3b5-982922f21f34"
      },
      "execution_count": null,
      "outputs": [
        {
          "output_type": "execute_result",
          "data": {
            "text/plain": [
              "<AxesSubplot:>"
            ]
          },
          "metadata": {},
          "execution_count": 62
        },
        {
          "output_type": "display_data",
          "data": {
            "text/plain": [
              "<Figure size 432x288 with 1 Axes>"
            ],
            "image/png": "[encoded data removed]"
          },
          "metadata": {}
        }
      ]
    },
    {
      "cell_type": "code",
      "source": [
        "cc_default['BILL_AMT1'].quantile([0,0.1,0.2,0.3,0.4,0.5,0.6,0.7,0.8,0.9,0.91,0.92,0.93,0.94,0.95,0.96,0.97,0.98,0.99,1])"
      ],
      "metadata": {
        "colab": {
          "base_uri": "https://localhost:8080/"
        },
        "id": "KmVK58X9cY74",
        "outputId": "9fbfed84-46a9-45cd-9f3a-82495daee092"
      },
      "execution_count": null,
      "outputs": [
        {
          "output_type": "execute_result",
          "data": {
            "text/plain": [
              "0.00   -165580.00\n",
              "0.10       278.90\n",
              "0.20      1892.80\n",
              "0.30      6050.40\n",
              "0.40     13469.20\n",
              "0.50     22381.50\n",
              "0.60     37045.20\n",
              "0.70     52204.90\n",
              "0.80     83421.20\n",
              "0.90    142133.70\n",
              "0.91    151214.72\n",
              "0.92    162127.84\n",
              "0.93    173630.63\n",
              "0.94    187074.56\n",
              "0.95    201203.05\n",
              "0.96    220592.72\n",
              "0.97    245969.84\n",
              "0.98    282227.68\n",
              "0.99    350110.68\n",
              "1.00    964511.00\n",
              "Name: BILL_AMT1, dtype: float64"
            ]
          },
          "metadata": {},
          "execution_count": 63
        }
      ]
    },
    {
      "cell_type": "code",
      "source": [
        "cc_default['BILL_AMT1'].describe()"
      ],
      "metadata": {
        "colab": {
          "base_uri": "https://localhost:8080/"
        },
        "id": "JxDzJHH0ey9A",
        "outputId": "4d584f8f-d241-4c47-d2ab-cfa4783ecb17"
      },
      "execution_count": null,
      "outputs": [
        {
          "output_type": "execute_result",
          "data": {
            "text/plain": [
              "count     30000.000000\n",
              "mean      47587.152683\n",
              "std       62210.647407\n",
              "min           0.000000\n",
              "25%        4475.500000\n",
              "50%       22381.375000\n",
              "75%       63673.250000\n",
              "max      350110.000000\n",
              "Name: BILL_AMT1, dtype: float64"
            ]
          },
          "metadata": {},
          "execution_count": 35
        }
      ]
    },
    {
      "cell_type": "markdown",
      "source": [
        "Findings: In this varibale there are negative as well as positive outliers which are not wrong as negative balance indicates advance payment or cashbacks but still for the sake of proper analysis those outliers will be imputed by the median value of the variable in the data cleaning step."
      ],
      "metadata": {
        "id": "Ga5JDxQ5cjEO"
      }
    },
    {
      "cell_type": "markdown",
      "source": [
        "## **Continuous Variable 3=BILL_AMT2**"
      ],
      "metadata": {
        "id": "4qb-6SRAcjEP"
      }
    },
    {
      "cell_type": "code",
      "source": [
        "cc_default.boxplot(column=['BILL_AMT2'])"
      ],
      "metadata": {
        "colab": {
          "base_uri": "https://localhost:8080/"
        },
        "id": "uJ_3kKNHs9j_",
        "outputId": "4f8342d7-4549-4072-c18b-33859fe8b99e"
      },
      "execution_count": null,
      "outputs": [
        {
          "output_type": "execute_result",
          "data": {
            "text/plain": [
              "<AxesSubplot:>"
            ]
          },
          "metadata": {},
          "execution_count": 64
        },
        {
          "output_type": "display_data",
          "data": {
            "text/plain": [
              "<Figure size 432x288 with 1 Axes>"
            ],
            "image/png": "[encoded data removed]"
          },
          "metadata": {}
        }
      ]
    },
    {
      "cell_type": "code",
      "source": [
        "cc_default['BILL_AMT2'].quantile([0,0.1,0.2,0.3,0.4,0.5,0.6,0.7,0.8,0.9,1])"
      ],
      "metadata": {
        "colab": {
          "base_uri": "https://localhost:8080/"
        },
        "id": "vvPlhW0vtF4a",
        "outputId": "463fcd3d-95e7-4500-d951-c4b3c47aa007"
      },
      "execution_count": null,
      "outputs": [
        {
          "output_type": "execute_result",
          "data": {
            "text/plain": [
              "0.0    -69777.0\n",
              "0.1         0.0\n",
              "0.2      1472.8\n",
              "0.3      5500.0\n",
              "0.4     12799.6\n",
              "0.5     21200.0\n",
              "0.6     34773.8\n",
              "0.7     50690.0\n",
              "0.8     80292.2\n",
              "0.9    136905.5\n",
              "1.0    983931.0\n",
              "Name: BILL_AMT2, dtype: float64"
            ]
          },
          "metadata": {},
          "execution_count": 65
        }
      ]
    },
    {
      "cell_type": "code",
      "source": [
        "cc_default['BILL_AMT2'].quantile([0.91,0.92,0.93,0.94,0.95,0.96,0.97,0.98,0.99,1])"
      ],
      "metadata": {
        "colab": {
          "base_uri": "https://localhost:8080/"
        },
        "id": "qg9ctny6tXG6",
        "outputId": "59ec1028-5b96-45d1-b9a0-65a9c3e341bf"
      },
      "execution_count": null,
      "outputs": [
        {
          "output_type": "execute_result",
          "data": {
            "text/plain": [
              "0.91    145064.86\n",
              "0.92    155362.72\n",
              "0.93    167485.28\n",
              "0.94    180578.40\n",
              "0.95    194792.20\n",
              "0.96    211343.08\n",
              "0.97    236662.72\n",
              "0.98    274120.58\n",
              "0.99    337495.28\n",
              "1.00    983931.00\n",
              "Name: BILL_AMT2, dtype: float64"
            ]
          },
          "metadata": {},
          "execution_count": 66
        }
      ]
    },
    {
      "cell_type": "markdown",
      "source": [
        "Findings: In this varibale there are negative as well as positive outliers which are not wrong as negative balance indicates advance payment or cashbacks but still for the sake of proper analysis those outliers will be imputed by the median value of the variable in the data cleaning step."
      ],
      "metadata": {
        "id": "tazXLGWLcjEP"
      }
    },
    {
      "cell_type": "markdown",
      "source": [
        "## **Continuous Variable 4=BILL_AMT3**"
      ],
      "metadata": {
        "id": "fYYJRx6mt7KD"
      }
    },
    {
      "cell_type": "code",
      "source": [
        "cc_default.boxplot(column=['BILL_AMT3'])"
      ],
      "metadata": {
        "colab": {
          "base_uri": "https://localhost:8080/",
          "height": 290
        },
        "id": "Olao1p6yuAve",
        "outputId": "352a1d5d-91a8-4601-96a1-869a4a2e1622"
      },
      "execution_count": null,
      "outputs": [
        {
          "output_type": "execute_result",
          "data": {
            "text/plain": [
              "<AxesSubplot:>"
            ]
          },
          "metadata": {},
          "execution_count": 67
        },
        {
          "output_type": "display_data",
          "data": {
            "text/plain": [
              "<Figure size 432x288 with 1 Axes>"
            ],
            "image/png": "[encoded data removed]"
          },
          "metadata": {}
        }
      ]
    },
    {
      "cell_type": "code",
      "source": [
        "cc_default['BILL_AMT3'].quantile([0,0.1,0.2,0.3,0.4,0.5,0.6,0.7,0.8,0.9,1])"
      ],
      "metadata": {
        "colab": {
          "base_uri": "https://localhost:8080/"
        },
        "id": "0g5AshYZuJdy",
        "outputId": "849a06a0-0b30-44e0-c6d8-0de19dde9c66"
      },
      "execution_count": null,
      "outputs": [
        {
          "output_type": "execute_result",
          "data": {
            "text/plain": [
              "0.0    -157264.0\n",
              "0.1          0.0\n",
              "0.2       1187.8\n",
              "0.3       5219.2\n",
              "0.4      12197.2\n",
              "0.5      20088.5\n",
              "0.6      31401.0\n",
              "0.7      49217.3\n",
              "0.8      76777.4\n",
              "0.9     132051.3\n",
              "1.0    1664089.0\n",
              "Name: BILL_AMT3, dtype: float64"
            ]
          },
          "metadata": {},
          "execution_count": 68
        }
      ]
    },
    {
      "cell_type": "code",
      "source": [
        "cc_default['BILL_AMT3'].quantile([0.91,0.92,0.93,0.94,0.95,0.96,0.97,0.98,0.99,1])"
      ],
      "metadata": {
        "colab": {
          "base_uri": "https://localhost:8080/"
        },
        "id": "cLZdJvBhuu4P",
        "outputId": "a1b996af-da20-45dd-ea70-15f51ba21703"
      },
      "execution_count": null,
      "outputs": [
        {
          "output_type": "execute_result",
          "data": {
            "text/plain": [
              "0.91     139419.08\n",
              "0.92     148633.24\n",
              "0.93     160049.77\n",
              "0.94     173241.34\n",
              "0.95     187821.05\n",
              "0.96     203652.80\n",
              "0.97     228277.79\n",
              "0.98     263208.54\n",
              "0.99     325030.39\n",
              "1.00    1664089.00\n",
              "Name: BILL_AMT3, dtype: float64"
            ]
          },
          "metadata": {},
          "execution_count": 69
        }
      ]
    },
    {
      "cell_type": "markdown",
      "source": [
        "Findings: In this varibale there are negative as well as positive outliers which are not wrong as negative balance indicates advance payment or cashbacks but still for the sake of proper analysis those outliers will be imputed by the median value of the variable in the data cleaning step."
      ],
      "metadata": {
        "id": "durx6gIHu7D0"
      }
    },
    {
      "cell_type": "markdown",
      "source": [
        "## **Continous Variable 5=BILL_AMT4**"
      ],
      "metadata": {
        "id": "0DhROdLpvIIJ"
      }
    },
    {
      "cell_type": "code",
      "source": [
        "cc_default.boxplot(column=['BILL_AMT4'])"
      ],
      "metadata": {
        "colab": {
          "base_uri": "https://localhost:8080/",
          "height": 279
        },
        "id": "8Nq9i3UpvPFH",
        "outputId": "cac82198-579e-4985-a87a-6068d8f5fba4"
      },
      "execution_count": null,
      "outputs": [
        {
          "output_type": "execute_result",
          "data": {
            "text/plain": [
              "<AxesSubplot:>"
            ]
          },
          "metadata": {},
          "execution_count": 70
        },
        {
          "output_type": "display_data",
          "data": {
            "text/plain": [
              "<Figure size 432x288 with 1 Axes>"
            ],
            "image/png": "[encoded data removed]"
          },
          "metadata": {}
        }
      ]
    },
    {
      "cell_type": "code",
      "source": [
        "cc_default['BILL_AMT4'].quantile([0,0.1,0.2,0.3,0.4,0.5,0.6,0.7,0.8,0.9,1])"
      ],
      "metadata": {
        "colab": {
          "base_uri": "https://localhost:8080/"
        },
        "id": "z8R-r5yYvTSa",
        "outputId": "a2d61af4-563d-4fb6-ca65-5b38003bc2e3"
      },
      "execution_count": null,
      "outputs": [
        {
          "output_type": "execute_result",
          "data": {
            "text/plain": [
              "0.0   -170000.0\n",
              "0.1         0.0\n",
              "0.2       988.0\n",
              "0.3      4643.7\n",
              "0.4     11145.0\n",
              "0.5     19052.0\n",
              "0.6     28604.4\n",
              "0.7     45456.6\n",
              "0.8     70579.0\n",
              "0.9    122418.7\n",
              "1.0    891586.0\n",
              "Name: BILL_AMT4, dtype: float64"
            ]
          },
          "metadata": {},
          "execution_count": 71
        }
      ]
    },
    {
      "cell_type": "code",
      "source": [
        "cc_default['BILL_AMT4'].quantile([0.91,0.92,0.93,0.94,0.95,0.96,0.97,0.98,0.99,1])"
      ],
      "metadata": {
        "colab": {
          "base_uri": "https://localhost:8080/"
        },
        "id": "iR6kc74Uva86",
        "outputId": "92c37b3a-bdbb-4ff5-d24b-137eb55f94b3"
      },
      "execution_count": null,
      "outputs": [
        {
          "output_type": "execute_result",
          "data": {
            "text/plain": [
              "0.91    130937.09\n",
              "0.92    138646.80\n",
              "0.93    148287.35\n",
              "0.94    160944.12\n",
              "0.95    174333.35\n",
              "0.96    190088.52\n",
              "0.97    210965.51\n",
              "0.98    246655.72\n",
              "0.99    304997.27\n",
              "1.00    891586.00\n",
              "Name: BILL_AMT4, dtype: float64"
            ]
          },
          "metadata": {},
          "execution_count": 72
        }
      ]
    },
    {
      "cell_type": "markdown",
      "source": [
        "Findings: In this varibale there are negative as well as positive outliers which are not wrong as negative balance indicates advance payment or cashbacks but still for the sake of proper analysis those outliers will be imputed by the median value of the variable in the data cleaning step."
      ],
      "metadata": {
        "id": "XNQTDx1Uvm3q"
      }
    },
    {
      "cell_type": "markdown",
      "source": [
        "## **Continuous Variable 6=BILL_AMT5**"
      ],
      "metadata": {
        "id": "dMpsWd0Ov_Fh"
      }
    },
    {
      "cell_type": "code",
      "source": [
        "cc_default.boxplot(column=['BILL_AMT5'])"
      ],
      "metadata": {
        "colab": {
          "base_uri": "https://localhost:8080/",
          "height": 279
        },
        "id": "tD1w-lbRwFyQ",
        "outputId": "c54fc2b0-a6b5-475c-9366-b429ebbc6294"
      },
      "execution_count": null,
      "outputs": [
        {
          "output_type": "execute_result",
          "data": {
            "text/plain": [
              "<AxesSubplot:>"
            ]
          },
          "metadata": {},
          "execution_count": 73
        },
        {
          "output_type": "display_data",
          "data": {
            "text/plain": [
              "<Figure size 432x288 with 1 Axes>"
            ],
            "image/png": "[encoded data removed]"
          },
          "metadata": {}
        }
      ]
    },
    {
      "cell_type": "code",
      "source": [
        "cc_default['BILL_AMT5'].quantile([0,0.1,0.2,0.3,0.4,0.5,0.6,0.7,0.8,0.9,1])"
      ],
      "metadata": {
        "colab": {
          "base_uri": "https://localhost:8080/"
        },
        "id": "gSOqDS_0wOZL",
        "outputId": "e69c3d9c-7d6d-418f-9cc9-f6124b92980c"
      },
      "execution_count": null,
      "outputs": [
        {
          "output_type": "execute_result",
          "data": {
            "text/plain": [
              "0.0    -81334.0\n",
              "0.1         0.0\n",
              "0.2       763.0\n",
              "0.3      3637.0\n",
              "0.4      9809.2\n",
              "0.5     18104.5\n",
              "0.6     26690.4\n",
              "0.7     40943.2\n",
              "0.8     65823.0\n",
              "0.9    115883.0\n",
              "1.0    927171.0\n",
              "Name: BILL_AMT5, dtype: float64"
            ]
          },
          "metadata": {},
          "execution_count": 74
        }
      ]
    },
    {
      "cell_type": "code",
      "source": [
        "cc_default['BILL_AMT5'].quantile([0.91,0.92,0.93,0.94,0.95,0.96,0.97,0.98,0.99,1])"
      ],
      "metadata": {
        "colab": {
          "base_uri": "https://localhost:8080/"
        },
        "id": "bL489nFhwWgV",
        "outputId": "e2732705-5e98-4db0-c624-80a7929068ed"
      },
      "execution_count": null,
      "outputs": [
        {
          "output_type": "execute_result",
          "data": {
            "text/plain": [
              "0.91    123655.36\n",
              "0.92    132233.96\n",
              "0.93    141291.49\n",
              "0.94    151270.38\n",
              "0.95    165794.30\n",
              "0.96    181044.44\n",
              "0.97    198861.03\n",
              "0.98    228587.04\n",
              "0.99    285868.33\n",
              "1.00    927171.00\n",
              "Name: BILL_AMT5, dtype: float64"
            ]
          },
          "metadata": {},
          "execution_count": 75
        }
      ]
    },
    {
      "cell_type": "markdown",
      "source": [
        "Findings: In this varibale there are negative as well as positive outliers which are not wrong as negative balance indicates advance payment or cashbacks but still for the sake of proper analysis those outliers will be imputed by the median value of the variable in the data cleaning step."
      ],
      "metadata": {
        "id": "gq-uCWU3wiI7"
      }
    },
    {
      "cell_type": "markdown",
      "source": [
        "## **Continuous Variable 7=BILL_AMT6**"
      ],
      "metadata": {
        "id": "4-JQVFv1wwYg"
      }
    },
    {
      "cell_type": "code",
      "source": [
        "cc_default.boxplot(column=['BILL_AMT6'])"
      ],
      "metadata": {
        "colab": {
          "base_uri": "https://localhost:8080/",
          "height": 290
        },
        "id": "t4pZeyL0w2i5",
        "outputId": "611a5dbb-88ec-45ab-dbb0-134736ec2fa0"
      },
      "execution_count": null,
      "outputs": [
        {
          "output_type": "execute_result",
          "data": {
            "text/plain": [
              "<AxesSubplot:>"
            ]
          },
          "metadata": {},
          "execution_count": 76
        },
        {
          "output_type": "display_data",
          "data": {
            "text/plain": [
              "<Figure size 432x288 with 1 Axes>"
            ],
            "image/png": "[encoded data removed]"
          },
          "metadata": {}
        }
      ]
    },
    {
      "cell_type": "code",
      "source": [
        "cc_default['BILL_AMT6'].quantile([0,0.1,0.2,0.3,0.4,0.5,0.6,0.7,0.8,0.9,1])"
      ],
      "metadata": {
        "colab": {
          "base_uri": "https://localhost:8080/"
        },
        "id": "wWQN9KWBw5yj",
        "outputId": "3fa73cb9-54b5-42aa-91b2-4c90931b6c87"
      },
      "execution_count": null,
      "outputs": [
        {
          "output_type": "execute_result",
          "data": {
            "text/plain": [
              "0.0   -339603.0\n",
              "0.1         0.0\n",
              "0.2       476.0\n",
              "0.3      2701.7\n",
              "0.4      8770.2\n",
              "0.5     17071.0\n",
              "0.6     25508.4\n",
              "0.7     39252.2\n",
              "0.8     63150.6\n",
              "0.9    112110.4\n",
              "1.0    961664.0\n",
              "Name: BILL_AMT6, dtype: float64"
            ]
          },
          "metadata": {},
          "execution_count": 77
        }
      ]
    },
    {
      "cell_type": "code",
      "source": [
        "cc_default['BILL_AMT6'].quantile([0.91,0.92,0.93,0.94,0.95,0.96,0.97,0.98,0.99,1])"
      ],
      "metadata": {
        "colab": {
          "base_uri": "https://localhost:8080/"
        },
        "id": "Hk4REvQuxF7Y",
        "outputId": "bfcb4d36-af29-4532-b2ef-eb3d032f9989"
      },
      "execution_count": null,
      "outputs": [
        {
          "output_type": "execute_result",
          "data": {
            "text/plain": [
              "0.91    120740.53\n",
              "0.92    129224.48\n",
              "0.93    137836.47\n",
              "0.94    148093.84\n",
              "0.95    161912.00\n",
              "0.96    177592.76\n",
              "0.97    195114.30\n",
              "0.98    223436.14\n",
              "0.99    279505.06\n",
              "1.00    961664.00\n",
              "Name: BILL_AMT6, dtype: float64"
            ]
          },
          "metadata": {},
          "execution_count": 78
        }
      ]
    },
    {
      "cell_type": "markdown",
      "source": [
        "Findings: In this varibale there are negative as well as positive outliers which are not wrong as negative balance indicates advance payment or cashbacks but still for the sake of proper analysis those outliers will be imputed by the median value of the variable in the data cleaning step."
      ],
      "metadata": {
        "id": "tNU1IeJdxMwI"
      }
    },
    {
      "cell_type": "markdown",
      "source": [
        "## **Continuous Variable 8=PAY_AMT1**"
      ],
      "metadata": {
        "id": "zWcM3doqxp4U"
      }
    },
    {
      "cell_type": "code",
      "source": [
        "cc_default.boxplot(column=['PAY_AMT1'])"
      ],
      "metadata": {
        "colab": {
          "base_uri": "https://localhost:8080/",
          "height": 279
        },
        "id": "8jcN21qXxzZ4",
        "outputId": "fb901d42-fc1f-4281-8e23-a21fa4cf02d3"
      },
      "execution_count": null,
      "outputs": [
        {
          "output_type": "execute_result",
          "data": {
            "text/plain": [
              "<AxesSubplot:>"
            ]
          },
          "metadata": {},
          "execution_count": 199
        },
        {
          "output_type": "display_data",
          "data": {
            "text/plain": [
              "<Figure size 432x288 with 1 Axes>"
            ],
            "image/png": "[encoded data removed]"
          },
          "metadata": {}
        }
      ]
    },
    {
      "cell_type": "code",
      "source": [
        "cc_default['PAY_AMT1'].quantile([0,0.1,0.2,0.3,0.4,0.5,0.6,0.7,0.8,0.9,1])"
      ],
      "metadata": {
        "colab": {
          "base_uri": "https://localhost:8080/"
        },
        "id": "8b_8Q9nTyCJR",
        "outputId": "4ce7517c-d5ff-47db-bb18-61597e08722d"
      },
      "execution_count": null,
      "outputs": [
        {
          "output_type": "execute_result",
          "data": {
            "text/plain": [
              "0.0         0.0\n",
              "0.1         0.0\n",
              "0.2       316.0\n",
              "0.3      1263.7\n",
              "0.4      1724.0\n",
              "0.5      2100.0\n",
              "0.6      3000.0\n",
              "0.7      4309.3\n",
              "0.8      6192.2\n",
              "0.9     10300.0\n",
              "1.0    873552.0\n",
              "Name: PAY_AMT1, dtype: float64"
            ]
          },
          "metadata": {},
          "execution_count": 200
        }
      ]
    },
    {
      "cell_type": "code",
      "source": [
        "cc_default['PAY_AMT1'].quantile([0.91,0.92,0.93,0.94,0.95,0.96,0.97,0.98,0.99,1])"
      ],
      "metadata": {
        "colab": {
          "base_uri": "https://localhost:8080/"
        },
        "id": "T8qwQdWtGHaH",
        "outputId": "b35ace71-82c1-4589-8487-b2264fb0b51a"
      },
      "execution_count": null,
      "outputs": [
        {
          "output_type": "execute_result",
          "data": {
            "text/plain": [
              "0.91     11174.00\n",
              "0.92     12500.00\n",
              "0.93     14127.07\n",
              "0.94     15510.66\n",
              "0.95     18428.20\n",
              "0.96     21006.24\n",
              "0.97     28232.78\n",
              "0.98     40000.00\n",
              "0.99     66522.18\n",
              "1.00    873552.00\n",
              "Name: PAY_AMT1, dtype: float64"
            ]
          },
          "metadata": {},
          "execution_count": 201
        }
      ]
    },
    {
      "cell_type": "markdown",
      "source": [
        "FINDINGS:In the following variable there are some extreme outliers which might skew the analysis of the data hence to avoid this those outliers are imputed with the median value of the following variable."
      ],
      "metadata": {
        "id": "yRP3dmBWMeo3"
      }
    },
    {
      "cell_type": "markdown",
      "source": [
        "## **Continuous Variable 9=PAY_AMT2**"
      ],
      "metadata": {
        "id": "zvK08HaMMhJu"
      }
    },
    {
      "cell_type": "code",
      "source": [
        "cc_default.boxplot(column=['PAY_AMT2'])"
      ],
      "metadata": {
        "colab": {
          "base_uri": "https://localhost:8080/",
          "height": 290
        },
        "id": "PMvl3a_GMoEl",
        "outputId": "52f50782-df21-4c00-eaea-e9a1c6f3e3f5"
      },
      "execution_count": null,
      "outputs": [
        {
          "output_type": "execute_result",
          "data": {
            "text/plain": [
              "<AxesSubplot:>"
            ]
          },
          "metadata": {},
          "execution_count": 138
        },
        {
          "output_type": "display_data",
          "data": {
            "text/plain": [
              "<Figure size 432x288 with 1 Axes>"
            ],
            "image/png": "[encoded data removed]"
          },
          "metadata": {}
        }
      ]
    },
    {
      "cell_type": "code",
      "source": [
        "cc_default['PAY_AMT2'].quantile([0,0.1,0.2,0.3,0.4,0.5,0.6,0.7,0.8,0.9,1])"
      ],
      "metadata": {
        "colab": {
          "base_uri": "https://localhost:8080/"
        },
        "id": "etlSbIn8MoMd",
        "outputId": "295a8cbe-eeb3-41ee-d710-d0901e2469d9"
      },
      "execution_count": null,
      "outputs": [
        {
          "output_type": "execute_result",
          "data": {
            "text/plain": [
              "0.0          0.0\n",
              "0.1          0.0\n",
              "0.2        268.8\n",
              "0.3       1165.0\n",
              "0.4       1600.0\n",
              "0.5       2009.0\n",
              "0.6       3000.0\n",
              "0.7       4045.3\n",
              "0.8       6000.0\n",
              "0.9      10401.1\n",
              "1.0    1684259.0\n",
              "Name: PAY_AMT2, dtype: float64"
            ]
          },
          "metadata": {},
          "execution_count": 139
        }
      ]
    },
    {
      "cell_type": "code",
      "source": [
        "cc_default['PAY_AMT2'].quantile([0.91,0.92,0.93,0.94,0.95,0.96,0.97,0.98,0.99,1])"
      ],
      "metadata": {
        "colab": {
          "base_uri": "https://localhost:8080/"
        },
        "id": "KG6xV-g-MoUQ",
        "outputId": "c79a0386-6669-480b-abe4-c52bf5c7b627"
      },
      "execution_count": null,
      "outputs": [
        {
          "output_type": "execute_result",
          "data": {
            "text/plain": [
              "0.91      11320.00\n",
              "0.92      12536.16\n",
              "0.93      14131.26\n",
              "0.94      16000.00\n",
              "0.95      19004.35\n",
              "0.96      21408.36\n",
              "0.97      29000.00\n",
              "0.98      41027.88\n",
              "0.99      76651.02\n",
              "1.00    1684259.00\n",
              "Name: PAY_AMT2, dtype: float64"
            ]
          },
          "metadata": {},
          "execution_count": 140
        }
      ]
    },
    {
      "cell_type": "markdown",
      "source": [
        "## **Continuous Variable 10=PAY_AMT3**"
      ],
      "metadata": {
        "id": "I8j8QFr5MofL"
      }
    },
    {
      "cell_type": "code",
      "source": [
        "cc_default.boxplot(column=['PAY_AMT3'])"
      ],
      "metadata": {
        "colab": {
          "base_uri": "https://localhost:8080/",
          "height": 279
        },
        "id": "mUqmtLv8Ms-c",
        "outputId": "878e3dde-048b-4631-ef99-6ac899eb67ff"
      },
      "execution_count": null,
      "outputs": [
        {
          "output_type": "execute_result",
          "data": {
            "text/plain": [
              "<AxesSubplot:>"
            ]
          },
          "metadata": {},
          "execution_count": 141
        },
        {
          "output_type": "display_data",
          "data": {
            "text/plain": [
              "<Figure size 432x288 with 1 Axes>"
            ],
            "image/png": "[encoded data removed]"
          },
          "metadata": {}
        }
      ]
    },
    {
      "cell_type": "code",
      "source": [
        "cc_default['PAY_AMT3'].quantile([0,0.1,0.2,0.3,0.4,0.5,0.6,0.7,0.8,0.9,1])"
      ],
      "metadata": {
        "colab": {
          "base_uri": "https://localhost:8080/"
        },
        "id": "W_1Y-N5wMtDd",
        "outputId": "da587920-2d58-4c62-9f0b-e92bc21c2b0d"
      },
      "execution_count": null,
      "outputs": [
        {
          "output_type": "execute_result",
          "data": {
            "text/plain": [
              "0.0         0.0\n",
              "0.1         0.0\n",
              "0.2         2.8\n",
              "0.3       780.0\n",
              "0.4      1206.0\n",
              "0.5      1800.0\n",
              "0.6      2500.0\n",
              "0.7      3560.3\n",
              "0.8      5284.0\n",
              "0.9     10000.0\n",
              "1.0    896040.0\n",
              "Name: PAY_AMT3, dtype: float64"
            ]
          },
          "metadata": {},
          "execution_count": 142
        }
      ]
    },
    {
      "cell_type": "code",
      "source": [
        "cc_default['PAY_AMT3'].quantile([0.91,0.92,0.93,0.94,0.95,0.96,0.97,0.98,0.99,1])"
      ],
      "metadata": {
        "colab": {
          "base_uri": "https://localhost:8080/"
        },
        "id": "zjcF9zv2MtIY",
        "outputId": "be984c90-f530-4ac9-86ad-7affc0057f7f"
      },
      "execution_count": null,
      "outputs": [
        {
          "output_type": "execute_result",
          "data": {
            "text/plain": [
              "0.91     10288.36\n",
              "0.92     11558.48\n",
              "0.93     13000.00\n",
              "0.94     15000.00\n",
              "0.95     17589.40\n",
              "0.96     20150.00\n",
              "0.97     27000.33\n",
              "0.98     38661.36\n",
              "0.99     70000.00\n",
              "1.00    896040.00\n",
              "Name: PAY_AMT3, dtype: float64"
            ]
          },
          "metadata": {},
          "execution_count": 143
        }
      ]
    },
    {
      "cell_type": "markdown",
      "source": [
        "## **Continuous Variable 11=PAY_AMT4**"
      ],
      "metadata": {
        "id": "rZMAmO9zMtUj"
      }
    },
    {
      "cell_type": "code",
      "source": [
        "cc_default.boxplot(column=['PAY_AMT4'])"
      ],
      "metadata": {
        "colab": {
          "base_uri": "https://localhost:8080/",
          "height": 279
        },
        "id": "4Ii0J0ZqMx_w",
        "outputId": "d11a819a-8048-46e2-cc2c-ff11e1ebd175"
      },
      "execution_count": null,
      "outputs": [
        {
          "output_type": "execute_result",
          "data": {
            "text/plain": [
              "<AxesSubplot:>"
            ]
          },
          "metadata": {},
          "execution_count": 144
        },
        {
          "output_type": "display_data",
          "data": {
            "text/plain": [
              "<Figure size 432x288 with 1 Axes>"
            ],
            "image/png": "[encoded data removed]"
          },
          "metadata": {}
        }
      ]
    },
    {
      "cell_type": "code",
      "source": [
        "cc_default['PAY_AMT4'].quantile([0,0.1,0.2,0.3,0.4,0.5,0.6,0.7,0.8,0.9,1])"
      ],
      "metadata": {
        "colab": {
          "base_uri": "https://localhost:8080/"
        },
        "id": "8DLZRN1cMyHw",
        "outputId": "3f9549d3-fe01-4d2d-d758-67259cb56cc6"
      },
      "execution_count": null,
      "outputs": [
        {
          "output_type": "execute_result",
          "data": {
            "text/plain": [
              "0.0         0.0\n",
              "0.1         0.0\n",
              "0.2         0.0\n",
              "0.3       500.0\n",
              "0.4      1000.0\n",
              "0.5      1500.0\n",
              "0.6      2100.0\n",
              "0.7      3200.0\n",
              "0.8      5000.0\n",
              "0.9      9570.6\n",
              "1.0    621000.0\n",
              "Name: PAY_AMT4, dtype: float64"
            ]
          },
          "metadata": {},
          "execution_count": 145
        }
      ]
    },
    {
      "cell_type": "code",
      "source": [
        "cc_default['PAY_AMT4'].quantile([0.91,0.92,0.93,0.94,0.95,0.96,0.97,0.98,0.99,1])"
      ],
      "metadata": {
        "colab": {
          "base_uri": "https://localhost:8080/"
        },
        "id": "Xqg98T8EMyPa",
        "outputId": "380812f4-4cde-4b7d-f392-8403ad1930f4"
      },
      "execution_count": null,
      "outputs": [
        {
          "output_type": "execute_result",
          "data": {
            "text/plain": [
              "0.91     10000.00\n",
              "0.92     10404.72\n",
              "0.93     11985.21\n",
              "0.94     13949.60\n",
              "0.95     16014.95\n",
              "0.96     20000.00\n",
              "0.97     26665.40\n",
              "0.98     39634.04\n",
              "0.99     67054.44\n",
              "1.00    621000.00\n",
              "Name: PAY_AMT4, dtype: float64"
            ]
          },
          "metadata": {},
          "execution_count": 146
        }
      ]
    },
    {
      "cell_type": "markdown",
      "source": [
        "## **Continuous Variable 12=PAY_AMT5**"
      ],
      "metadata": {
        "id": "k1NxlL2aMyoI"
      }
    },
    {
      "cell_type": "code",
      "source": [
        "cc_default.boxplot(column=['PAY_AMT5'])"
      ],
      "metadata": {
        "colab": {
          "base_uri": "https://localhost:8080/",
          "height": 279
        },
        "id": "32-BVg2GV3xu",
        "outputId": "e978d84d-181d-4738-dae4-7fe28828e41d"
      },
      "execution_count": null,
      "outputs": [
        {
          "output_type": "execute_result",
          "data": {
            "text/plain": [
              "<AxesSubplot:>"
            ]
          },
          "metadata": {},
          "execution_count": 206
        },
        {
          "output_type": "display_data",
          "data": {
            "text/plain": [
              "<Figure size 432x288 with 1 Axes>"
            ],
            "image/png": "[encoded data removed]"
          },
          "metadata": {}
        }
      ]
    },
    {
      "cell_type": "code",
      "source": [
        "cc_default['PAY_AMT5'].quantile([0,0.1,0.2,0.3,0.4,0.5,0.6,0.7,0.8,0.9,1])"
      ],
      "metadata": {
        "colab": {
          "base_uri": "https://localhost:8080/"
        },
        "id": "R0l0_uHTV4IV",
        "outputId": "ac02e0de-e0a6-48b8-f619-15fe45c05e34"
      },
      "execution_count": null,
      "outputs": [
        {
          "output_type": "execute_result",
          "data": {
            "text/plain": [
              "0.0         0.0\n",
              "0.1         0.0\n",
              "0.2         0.0\n",
              "0.3       500.0\n",
              "0.4      1000.0\n",
              "0.5      1500.0\n",
              "0.6      2123.4\n",
              "0.7      3200.0\n",
              "0.8      5000.0\n",
              "0.9      9500.0\n",
              "1.0    426529.0\n",
              "Name: PAY_AMT5, dtype: float64"
            ]
          },
          "metadata": {},
          "execution_count": 207
        }
      ]
    },
    {
      "cell_type": "code",
      "source": [
        "cc_default['PAY_AMT5'].quantile([0.91,0.92,0.93,0.94,0.95,0.96,0.97,0.98,0.99,1])"
      ],
      "metadata": {
        "colab": {
          "base_uri": "https://localhost:8080/"
        },
        "id": "B2BwvCZSV4Qv",
        "outputId": "f0a5a2f5-b01f-4a5b-ceab-44d9e0f66c07"
      },
      "execution_count": null,
      "outputs": [
        {
          "output_type": "execute_result",
          "data": {
            "text/plain": [
              "0.91     10000.00\n",
              "0.92     10358.16\n",
              "0.93     11964.14\n",
              "0.94     13939.06\n",
              "0.95     16000.00\n",
              "0.96     20000.00\n",
              "0.97     25314.21\n",
              "0.98     37259.66\n",
              "0.99     65607.56\n",
              "1.00    426529.00\n",
              "Name: PAY_AMT5, dtype: float64"
            ]
          },
          "metadata": {},
          "execution_count": 208
        }
      ]
    },
    {
      "cell_type": "markdown",
      "source": [
        "## **Continuous Variable 13=PAY_AMT6**"
      ],
      "metadata": {
        "id": "Za0eJQU-WvfK"
      }
    },
    {
      "cell_type": "code",
      "source": [
        "cc_default.boxplot(column=['PAY_AMT6'])"
      ],
      "metadata": {
        "colab": {
          "base_uri": "https://localhost:8080/",
          "height": 279
        },
        "id": "Kn1YjUi6W1hm",
        "outputId": "e20b9c97-588e-4e19-f9d5-08dfe422d475"
      },
      "execution_count": null,
      "outputs": [
        {
          "output_type": "execute_result",
          "data": {
            "text/plain": [
              "<AxesSubplot:>"
            ]
          },
          "metadata": {},
          "execution_count": 220
        },
        {
          "output_type": "display_data",
          "data": {
            "text/plain": [
              "<Figure size 432x288 with 1 Axes>"
            ],
            "image/png": "[encoded data removed]"
          },
          "metadata": {}
        }
      ]
    },
    {
      "cell_type": "code",
      "source": [
        "cc_default['PAY_AMT6'].quantile([0,0.1,0.2,0.3,0.4,0.5,0.6,0.7,0.8,0.9,1])"
      ],
      "metadata": {
        "colab": {
          "base_uri": "https://localhost:8080/"
        },
        "id": "0o0K9FJRW1oD",
        "outputId": "9cee9500-214d-4801-d799-e54f13019230"
      },
      "execution_count": null,
      "outputs": [
        {
          "output_type": "execute_result",
          "data": {
            "text/plain": [
              "0.0         0.0\n",
              "0.1         0.0\n",
              "0.2         0.0\n",
              "0.3       426.0\n",
              "0.4      1000.0\n",
              "0.5      1500.0\n",
              "0.6      2100.0\n",
              "0.7      3200.0\n",
              "0.8      5000.0\n",
              "0.9      9600.0\n",
              "1.0    528666.0\n",
              "Name: PAY_AMT6, dtype: float64"
            ]
          },
          "metadata": {},
          "execution_count": 221
        }
      ]
    },
    {
      "cell_type": "code",
      "source": [
        "cc_default['PAY_AMT6'].quantile([0.91,0.92,0.93,0.94,0.95,0.96,0.97,0.98,0.99,1])"
      ],
      "metadata": {
        "colab": {
          "base_uri": "https://localhost:8080/"
        },
        "id": "sJCVD08fW1uA",
        "outputId": "c17bcf2e-37bf-44b8-c8b4-046715e2ef46"
      },
      "execution_count": null,
      "outputs": [
        {
          "output_type": "execute_result",
          "data": {
            "text/plain": [
              "0.91     10000.00\n",
              "0.92     10500.00\n",
              "0.93     12017.14\n",
              "0.94     14442.86\n",
              "0.95     17343.80\n",
              "0.96     21034.88\n",
              "0.97     29561.76\n",
              "0.98     45010.48\n",
              "0.99     82619.05\n",
              "1.00    528666.00\n",
              "Name: PAY_AMT6, dtype: float64"
            ]
          },
          "metadata": {},
          "execution_count": 222
        }
      ]
    },
    {
      "cell_type": "markdown",
      "source": [
        "# **Data Cleaning and Data Preparation**"
      ],
      "metadata": {
        "id": "-EPlIzkSuFf6"
      }
    },
    {
      "cell_type": "markdown",
      "source": [
        "## **CATEGORICAL/DISCRETE VARIABLES**"
      ],
      "metadata": {
        "id": "rcz0NHQNwhCv"
      }
    },
    {
      "cell_type": "markdown",
      "source": [],
      "metadata": {
        "id": "Re_ez12nCdAx"
      }
    },
    {
      "cell_type": "markdown",
      "source": [
        "### Var1 Cleaning=EDUCATION"
      ],
      "metadata": {
        "id": "aRynIo4gcwHw"
      }
    },
    {
      "cell_type": "code",
      "source": [
        "cc_default['EDUCATION']=cc_default['EDUCATION'].replace([0],2)"
      ],
      "metadata": {
        "id": "iGkh47JE8bEA"
      },
      "execution_count": null,
      "outputs": []
    },
    {
      "cell_type": "code",
      "source": [
        "cc_default['EDUCATION'].value_counts()"
      ],
      "metadata": {
        "colab": {
          "base_uri": "https://localhost:8080/"
        },
        "id": "mlcU1b0V8dVG",
        "outputId": "ee0fc1fc-d388-4627-9cc4-03ad554c1ae8"
      },
      "execution_count": null,
      "outputs": [
        {
          "output_type": "execute_result",
          "data": {
            "text/plain": [
              "2    14044\n",
              "1    10585\n",
              "3     4917\n",
              "5      280\n",
              "4      123\n",
              "6       51\n",
              "Name: EDUCATION, dtype: int64"
            ]
          },
          "metadata": {},
          "execution_count": 248
        }
      ]
    },
    {
      "cell_type": "markdown",
      "source": [
        "### Var2 Cleaning=MARRIAGE\n"
      ],
      "metadata": {
        "id": "QxtX87e-czhs"
      }
    },
    {
      "cell_type": "code",
      "source": [
        "cc_default['MARRIAGE']=cc_default['MARRIAGE'].replace([0],2)"
      ],
      "metadata": {
        "id": "0qUJKLisuP6C"
      },
      "execution_count": null,
      "outputs": []
    },
    {
      "cell_type": "code",
      "source": [
        "cc_default['MARRIAGE'].value_counts()"
      ],
      "metadata": {
        "id": "j-B2cvuSuP9b",
        "colab": {
          "base_uri": "https://localhost:8080/"
        },
        "outputId": "c3ab9089-2f86-49c4-e4e8-1f353defb4b2"
      },
      "execution_count": null,
      "outputs": [
        {
          "output_type": "execute_result",
          "data": {
            "text/plain": [
              "2    16018\n",
              "1    13659\n",
              "3      323\n",
              "Name: MARRIAGE, dtype: int64"
            ]
          },
          "metadata": {},
          "execution_count": 250
        }
      ]
    },
    {
      "cell_type": "markdown",
      "source": [
        "### **VAR 3 Cleaning=PAY_0**"
      ],
      "metadata": {
        "id": "SiiPVKcL9J4G"
      }
    },
    {
      "cell_type": "code",
      "source": [
        "cc_default.rename(columns={'PAY_0':'PAY_1'},inplace=True)"
      ],
      "metadata": {
        "id": "8nnlyF4c9Qpo"
      },
      "execution_count": null,
      "outputs": []
    },
    {
      "cell_type": "code",
      "source": [
        "cc_default['PAY_1']=cc_default['PAY_1'].replace([-1,-2],0)\n",
        "cc_default['PAY_1']=cc_default['PAY_1'].replace([1,2,3],1)\n",
        "cc_default['PAY_1']=cc_default['PAY_1'].replace([4,5,6],2)\n",
        "cc_default['PAY_1']=cc_default['PAY_1'].replace([7,8,9],3)"
      ],
      "metadata": {
        "id": "9oxD2K6F9oVx"
      },
      "execution_count": null,
      "outputs": []
    },
    {
      "cell_type": "code",
      "source": [
        "sns.countplot(x='PAY_1',data=cc_default)"
      ],
      "metadata": {
        "colab": {
          "base_uri": "https://localhost:8080/"
        },
        "id": "R7ZjrBpJ_vHK",
        "outputId": "0e4e0628-d8f0-4206-e2ac-2cca26109ed2"
      },
      "execution_count": null,
      "outputs": [
        {
          "output_type": "execute_result",
          "data": {
            "text/plain": [
              "<AxesSubplot:xlabel='PAY_1', ylabel='count'>"
            ]
          },
          "metadata": {},
          "execution_count": 253
        },
        {
          "output_type": "display_data",
          "data": {
            "text/plain": [
              "<Figure size 432x288 with 1 Axes>"
            ],
            "image/png": "[encoded data removed]"
          },
          "metadata": {}
        }
      ]
    },
    {
      "cell_type": "markdown",
      "source": [
        "### **VAR4 Cleaning=PAY_2**"
      ],
      "metadata": {
        "id": "aR9-K40gAjUT"
      }
    },
    {
      "cell_type": "code",
      "source": [
        "cc_default['PAY_2']=cc_default['PAY_2'].replace([-1,-2],0)\n",
        "cc_default['PAY_2']=cc_default['PAY_2'].replace([1,2,3],1)\n",
        "cc_default['PAY_2']=cc_default['PAY_2'].replace([4,5,6],2)\n",
        "cc_default['PAY_2']=cc_default['PAY_2'].replace([7,8,9],3)\n"
      ],
      "metadata": {
        "id": "s_Tm0PczArrj"
      },
      "execution_count": null,
      "outputs": []
    },
    {
      "cell_type": "code",
      "source": [
        "cc_default['PAY_2'].value_counts()"
      ],
      "metadata": {
        "colab": {
          "base_uri": "https://localhost:8080/"
        },
        "id": "zXVifS_aAt1G",
        "outputId": "9ab75f2e-9ff5-4cbd-d86c-ce73dbcfcba9"
      },
      "execution_count": null,
      "outputs": [
        {
          "output_type": "execute_result",
          "data": {
            "text/plain": [
              "0    25562\n",
              "1     4281\n",
              "2      136\n",
              "3       21\n",
              "Name: PAY_2, dtype: int64"
            ]
          },
          "metadata": {},
          "execution_count": 255
        }
      ]
    },
    {
      "cell_type": "markdown",
      "source": [
        "### **VAR5 Cleaning=PAY_3**"
      ],
      "metadata": {
        "id": "OApflVJBBYdk"
      }
    },
    {
      "cell_type": "code",
      "source": [
        "cc_default['PAY_3']=cc_default['PAY_3'].replace([-1,-2],0)\n",
        "cc_default['PAY_3']=cc_default['PAY_3'].replace([1,2,3],1)\n",
        "cc_default['PAY_3']=cc_default['PAY_3'].replace([4,5,6],2)\n",
        "cc_default['PAY_3']=cc_default['PAY_3'].replace([7,8,9],3)"
      ],
      "metadata": {
        "id": "EzvnElhyBdoa"
      },
      "execution_count": null,
      "outputs": []
    },
    {
      "cell_type": "code",
      "source": [
        "cc_default['PAY_3'].value_counts()"
      ],
      "metadata": {
        "colab": {
          "base_uri": "https://localhost:8080/"
        },
        "id": "frxCefiIBd0Y",
        "outputId": "17b3062d-684a-4090-ec7b-84ecbfe3da2c"
      },
      "execution_count": null,
      "outputs": [
        {
          "output_type": "execute_result",
          "data": {
            "text/plain": [
              "0    25787\n",
              "1     4063\n",
              "2      120\n",
              "3       30\n",
              "Name: PAY_3, dtype: int64"
            ]
          },
          "metadata": {},
          "execution_count": 257
        }
      ]
    },
    {
      "cell_type": "markdown",
      "source": [
        "### **VAR6 Cleaning=PAY_4**"
      ],
      "metadata": {
        "id": "S14JeU38DDY0"
      }
    },
    {
      "cell_type": "code",
      "source": [
        "cc_default['PAY_4']=cc_default['PAY_4'].replace([-1,-2],0)\n",
        "cc_default['PAY_4']=cc_default['PAY_4'].replace([1,2,3],1)\n",
        "cc_default['PAY_4']=cc_default['PAY_4'].replace([4,5,6],2)\n",
        "cc_default['PAY_4']=cc_default['PAY_4'].replace([7,8,9],3)"
      ],
      "metadata": {
        "id": "jfyAfnwIDK5k"
      },
      "execution_count": null,
      "outputs": []
    },
    {
      "cell_type": "code",
      "source": [
        "cc_default['PAY_4'].value_counts()"
      ],
      "metadata": {
        "colab": {
          "base_uri": "https://localhost:8080/"
        },
        "id": "btSz8MxaDGt0",
        "outputId": "940aa000-6ab8-4998-c9c2-a4f5cbc6424e"
      },
      "execution_count": null,
      "outputs": [
        {
          "output_type": "execute_result",
          "data": {
            "text/plain": [
              "0    26490\n",
              "1     3341\n",
              "2      109\n",
              "3       60\n",
              "Name: PAY_4, dtype: int64"
            ]
          },
          "metadata": {},
          "execution_count": 259
        }
      ]
    },
    {
      "cell_type": "markdown",
      "source": [
        "### **VAR7 Cleaning=PAY_5**"
      ],
      "metadata": {
        "id": "GFFe47cADdG_"
      }
    },
    {
      "cell_type": "code",
      "source": [
        "cc_default['PAY_5']=cc_default['PAY_5'].replace([-1,-2],0)\n",
        "cc_default['PAY_5']=cc_default['PAY_5'].replace([1,2,3],1)\n",
        "cc_default['PAY_5']=cc_default['PAY_5'].replace([4,5,6],2)\n",
        "cc_default['PAY_5']=cc_default['PAY_5'].replace([7,8,9],3)"
      ],
      "metadata": {
        "id": "MN0FB-nuDiKq"
      },
      "execution_count": null,
      "outputs": []
    },
    {
      "cell_type": "code",
      "source": [
        "cc_default['PAY_5'].value_counts()"
      ],
      "metadata": {
        "colab": {
          "base_uri": "https://localhost:8080/"
        },
        "id": "zvWNlNwSDoWN",
        "outputId": "8fb1e846-a132-4ea7-ed13-b56e64f352e0"
      },
      "execution_count": null,
      "outputs": [
        {
          "output_type": "execute_result",
          "data": {
            "text/plain": [
              "0    27032\n",
              "1     2804\n",
              "2      105\n",
              "3       59\n",
              "Name: PAY_5, dtype: int64"
            ]
          },
          "metadata": {},
          "execution_count": 261
        }
      ]
    },
    {
      "cell_type": "markdown",
      "source": [
        "### **VAR8 Cleaning=PAY_6**"
      ],
      "metadata": {
        "id": "tSJhFjghDwmo"
      }
    },
    {
      "cell_type": "code",
      "source": [
        "cc_default['PAY_6']=cc_default['PAY_6'].replace([-1,-2],0)\n",
        "cc_default['PAY_6']=cc_default['PAY_6'].replace([1,2,3],1)\n",
        "cc_default['PAY_6']=cc_default['PAY_6'].replace([4,5,6],2)\n",
        "cc_default['PAY_6']=cc_default['PAY_6'].replace([7,8,9],3)"
      ],
      "metadata": {
        "id": "P-ZYgBJ4D1EH"
      },
      "execution_count": null,
      "outputs": []
    },
    {
      "cell_type": "code",
      "source": [
        "cc_default['PAY_6'].value_counts()"
      ],
      "metadata": {
        "colab": {
          "base_uri": "https://localhost:8080/"
        },
        "id": "KHG6Ck-zD5rh",
        "outputId": "51ae06d7-c5ae-4f2a-deaa-d43d86c32cc8"
      },
      "execution_count": null,
      "outputs": [
        {
          "output_type": "execute_result",
          "data": {
            "text/plain": [
              "0    26921\n",
              "1     2950\n",
              "2       81\n",
              "3       48\n",
              "Name: PAY_6, dtype: int64"
            ]
          },
          "metadata": {},
          "execution_count": 263
        }
      ]
    },
    {
      "cell_type": "markdown",
      "source": [
        "## **COUNTINUOUS VARIABLE CLEANING**"
      ],
      "metadata": {
        "id": "nfX7vy3oECL-"
      }
    },
    {
      "cell_type": "markdown",
      "source": [
        "### **VAR1 Cleaning=LIMIT_BAL**"
      ],
      "metadata": {
        "id": "Jq9VYltNEIde"
      }
    },
    {
      "cell_type": "code",
      "source": [
        "cc_default['LIMIT_BAL'].median()"
      ],
      "metadata": {
        "colab": {
          "base_uri": "https://localhost:8080/"
        },
        "id": "BCAY-azjENIz",
        "outputId": "30635a47-ce36-4657-bd13-94e628df8462"
      },
      "execution_count": null,
      "outputs": [
        {
          "output_type": "execute_result",
          "data": {
            "text/plain": [
              "140000.0"
            ]
          },
          "metadata": {},
          "execution_count": 264
        }
      ]
    },
    {
      "cell_type": "code",
      "source": [
        "cc_default.loc[cc_default['LIMIT_BAL']>500000,'LIMIT_BAL']=cc_default['LIMIT_BAL'].median()"
      ],
      "metadata": {
        "id": "idmJM3vwEZio"
      },
      "execution_count": null,
      "outputs": []
    },
    {
      "cell_type": "code",
      "source": [
        "cc_default.boxplot(column=['LIMIT_BAL'])"
      ],
      "metadata": {
        "colab": {
          "base_uri": "https://localhost:8080/"
        },
        "id": "wPBwhntxEzXg",
        "outputId": "759d38c6-c892-4ca9-c474-2474f2ae5a9a"
      },
      "execution_count": null,
      "outputs": [
        {
          "output_type": "execute_result",
          "data": {
            "text/plain": [
              "<AxesSubplot:>"
            ]
          },
          "metadata": {},
          "execution_count": 266
        },
        {
          "output_type": "display_data",
          "data": {
            "text/plain": [
              "<Figure size 432x288 with 1 Axes>"
            ],
            "image/png": "[encoded data removed]"
          },
          "metadata": {}
        }
      ]
    },
    {
      "cell_type": "markdown",
      "source": [
        "### **VAR2 Cleaning=BILL_AMT1**"
      ],
      "metadata": {
        "id": "fl59rgGBE4VF"
      }
    },
    {
      "cell_type": "code",
      "source": [
        "cc_default['BILL_AMT1'].median()"
      ],
      "metadata": {
        "colab": {
          "base_uri": "https://localhost:8080/"
        },
        "id": "KWXEV5aPFDmp",
        "outputId": "0691171f-e31d-4f0f-cd6d-32fee2164250"
      },
      "execution_count": null,
      "outputs": [
        {
          "output_type": "execute_result",
          "data": {
            "text/plain": [
              "22381.5"
            ]
          },
          "metadata": {},
          "execution_count": 267
        }
      ]
    },
    {
      "cell_type": "code",
      "source": [
        "cc_default.loc[cc_default['BILL_AMT1']>400000,'BILL_AMT1']=cc_default['BILL_AMT1'].median()\n",
        "cc_default.loc[cc_default['BILL_AMT1']<0,'BILL_AMT1']=cc_default['BILL_AMT1'].median()"
      ],
      "metadata": {
        "id": "-1dYTgwJFDtG"
      },
      "execution_count": null,
      "outputs": []
    },
    {
      "cell_type": "code",
      "source": [
        "cc_default.boxplot(column=['BILL_AMT1'])"
      ],
      "metadata": {
        "colab": {
          "base_uri": "https://localhost:8080/"
        },
        "id": "X7RjXOtTFD5b",
        "outputId": "b28d5605-c0ed-4af2-9e74-838927e6094a"
      },
      "execution_count": null,
      "outputs": [
        {
          "output_type": "execute_result",
          "data": {
            "text/plain": [
              "<AxesSubplot:>"
            ]
          },
          "metadata": {},
          "execution_count": 269
        },
        {
          "output_type": "display_data",
          "data": {
            "text/plain": [
              "<Figure size 432x288 with 1 Axes>"
            ],
            "image/png": "[encoded data removed]"
          },
          "metadata": {}
        }
      ]
    },
    {
      "cell_type": "markdown",
      "source": [
        "### **VAR3 Cleaning3=BILL_AMT2**"
      ],
      "metadata": {
        "id": "kWWx_mGwH8Er"
      }
    },
    {
      "cell_type": "code",
      "source": [
        "cc_default['BILL_AMT2'].median()"
      ],
      "metadata": {
        "colab": {
          "base_uri": "https://localhost:8080/"
        },
        "id": "0zW0Lz5iIBpo",
        "outputId": "917d8a73-c085-4bf0-d85e-ccc6d5d40b93"
      },
      "execution_count": null,
      "outputs": [
        {
          "output_type": "execute_result",
          "data": {
            "text/plain": [
              "21200.0"
            ]
          },
          "metadata": {},
          "execution_count": 270
        }
      ]
    },
    {
      "cell_type": "code",
      "source": [
        "cc_default.loc[cc_default['BILL_AMT2']>400000,'BILL_AMT2']=cc_default['BILL_AMT2'].median()\n",
        "cc_default.loc[cc_default['BILL_AMT2']<0,'BILL_AMT2']=cc_default['BILL_AMT2'].median()"
      ],
      "metadata": {
        "id": "ZVcN-qjwIC2F"
      },
      "execution_count": null,
      "outputs": []
    },
    {
      "cell_type": "code",
      "source": [
        "cc_default.boxplot(column=['BILL_AMT2'])"
      ],
      "metadata": {
        "colab": {
          "base_uri": "https://localhost:8080/"
        },
        "id": "HcNrGSvNIFas",
        "outputId": "0a35c66c-b391-4e06-ee66-0f4c0deac05c"
      },
      "execution_count": null,
      "outputs": [
        {
          "output_type": "execute_result",
          "data": {
            "text/plain": [
              "<AxesSubplot:>"
            ]
          },
          "metadata": {},
          "execution_count": 272
        },
        {
          "output_type": "display_data",
          "data": {
            "text/plain": [
              "<Figure size 432x288 with 1 Axes>"
            ],
            "image/png": "[encoded data removed]"
          },
          "metadata": {}
        }
      ]
    },
    {
      "cell_type": "markdown",
      "source": [
        "### **VAR4 Cleaning=BILL_AMT3**"
      ],
      "metadata": {
        "id": "XFpBfCZUIN4o"
      }
    },
    {
      "cell_type": "code",
      "source": [
        "cc_default['BILL_AMT3'].median()"
      ],
      "metadata": {
        "colab": {
          "base_uri": "https://localhost:8080/"
        },
        "id": "-xNkzf8bIUez",
        "outputId": "660654e8-af3a-400f-aed3-8d3811b17669"
      },
      "execution_count": null,
      "outputs": [
        {
          "output_type": "execute_result",
          "data": {
            "text/plain": [
              "20088.5"
            ]
          },
          "metadata": {},
          "execution_count": 273
        }
      ]
    },
    {
      "cell_type": "code",
      "source": [
        "cc_default.loc[cc_default['BILL_AMT3']>400000,'BILL_AMT3']=cc_default['BILL_AMT3'].median()\n",
        "cc_default.loc[cc_default['BILL_AMT3']<0,'BILL_AMT3']=cc_default['BILL_AMT3'].median()"
      ],
      "metadata": {
        "id": "QzEi7NWoIUnZ"
      },
      "execution_count": null,
      "outputs": []
    },
    {
      "cell_type": "code",
      "source": [
        "cc_default.boxplot(column=['BILL_AMT3'])"
      ],
      "metadata": {
        "colab": {
          "base_uri": "https://localhost:8080/"
        },
        "id": "Wg0kpnGxIUwU",
        "outputId": "6b589713-f425-4978-c7b3-42fda40dbdb0"
      },
      "execution_count": null,
      "outputs": [
        {
          "output_type": "execute_result",
          "data": {
            "text/plain": [
              "<AxesSubplot:>"
            ]
          },
          "metadata": {},
          "execution_count": 275
        },
        {
          "output_type": "display_data",
          "data": {
            "text/plain": [
              "<Figure size 432x288 with 1 Axes>"
            ],
            "image/png": "[encoded data removed]"
          },
          "metadata": {}
        }
      ]
    },
    {
      "cell_type": "markdown",
      "source": [
        "### **VAR5 Cleaning=BILL_AMT4**"
      ],
      "metadata": {
        "id": "EtZ_5Rm_IVW9"
      }
    },
    {
      "cell_type": "code",
      "source": [
        "cc_default['BILL_AMT4'].median()"
      ],
      "metadata": {
        "colab": {
          "base_uri": "https://localhost:8080/"
        },
        "id": "xS38V7jeIZvo",
        "outputId": "3f1db951-5c99-4e70-8cfa-aa81209096c7"
      },
      "execution_count": null,
      "outputs": [
        {
          "output_type": "execute_result",
          "data": {
            "text/plain": [
              "19052.0"
            ]
          },
          "metadata": {},
          "execution_count": 276
        }
      ]
    },
    {
      "cell_type": "code",
      "source": [
        "cc_default.loc[cc_default['BILL_AMT4']>400000,'BILL_AMT4']=cc_default['BILL_AMT4'].median()\n",
        "cc_default.loc[cc_default['BILL_AMT4']<0,'BILL_AMT4']=cc_default['BILL_AMT4'].median()"
      ],
      "metadata": {
        "id": "uTpGu7PZIZ38"
      },
      "execution_count": null,
      "outputs": []
    },
    {
      "cell_type": "code",
      "source": [
        "cc_default.boxplot(column=['BILL_AMT4'])"
      ],
      "metadata": {
        "colab": {
          "base_uri": "https://localhost:8080/"
        },
        "id": "9GUqturNIaAF",
        "outputId": "1de3684d-7de6-4b59-fcc4-bff97fbae61b"
      },
      "execution_count": null,
      "outputs": [
        {
          "output_type": "execute_result",
          "data": {
            "text/plain": [
              "<AxesSubplot:>"
            ]
          },
          "metadata": {},
          "execution_count": 278
        },
        {
          "output_type": "display_data",
          "data": {
            "text/plain": [
              "<Figure size 432x288 with 1 Axes>"
            ],
            "image/png": "[encoded data removed]"
          },
          "metadata": {}
        }
      ]
    },
    {
      "cell_type": "markdown",
      "source": [
        "### **VAR6 Cleaning=BILL_AMT5**"
      ],
      "metadata": {
        "id": "ZE9vq5UoIaXP"
      }
    },
    {
      "cell_type": "code",
      "source": [
        "cc_default['BILL_AMT5'].median()"
      ],
      "metadata": {
        "colab": {
          "base_uri": "https://localhost:8080/"
        },
        "id": "1tCp8WHzIeQt",
        "outputId": "a33ef6fc-631a-448f-9ab3-497a9acbceae"
      },
      "execution_count": null,
      "outputs": [
        {
          "output_type": "execute_result",
          "data": {
            "text/plain": [
              "18104.5"
            ]
          },
          "metadata": {},
          "execution_count": 279
        }
      ]
    },
    {
      "cell_type": "code",
      "source": [
        "cc_default.loc[cc_default['BILL_AMT5']>400000,'BILL_AMT5']=cc_default['BILL_AMT5'].median()\n",
        "cc_default.loc[cc_default['BILL_AMT5']<0,'BILL_AMT5']=cc_default['BILL_AMT5'].median()"
      ],
      "metadata": {
        "id": "XE0IBLdnIecx"
      },
      "execution_count": null,
      "outputs": []
    },
    {
      "cell_type": "code",
      "source": [
        "cc_default.boxplot(column=['BILL_AMT5'])"
      ],
      "metadata": {
        "colab": {
          "base_uri": "https://localhost:8080/"
        },
        "id": "FcNymTbYIelQ",
        "outputId": "8b9fd9f0-1ad5-4a90-b640-3b6abdf0d951"
      },
      "execution_count": null,
      "outputs": [
        {
          "output_type": "execute_result",
          "data": {
            "text/plain": [
              "<AxesSubplot:>"
            ]
          },
          "metadata": {},
          "execution_count": 281
        },
        {
          "output_type": "display_data",
          "data": {
            "text/plain": [
              "<Figure size 432x288 with 1 Axes>"
            ],
            "image/png": "[encoded data removed]"
          },
          "metadata": {}
        }
      ]
    },
    {
      "cell_type": "markdown",
      "source": [
        "### **VAR7 Cleaning=BILL_AMT6**"
      ],
      "metadata": {
        "id": "DqhdOWQFIe4M"
      }
    },
    {
      "cell_type": "code",
      "source": [
        "cc_default['BILL_AMT6'].median()"
      ],
      "metadata": {
        "colab": {
          "base_uri": "https://localhost:8080/"
        },
        "id": "T2gcANTOIh69",
        "outputId": "49eecd35-575f-4e3d-816c-a706191a4828"
      },
      "execution_count": null,
      "outputs": [
        {
          "output_type": "execute_result",
          "data": {
            "text/plain": [
              "17071.0"
            ]
          },
          "metadata": {},
          "execution_count": 282
        }
      ]
    },
    {
      "cell_type": "code",
      "source": [
        "cc_default.loc[cc_default['BILL_AMT6']>400000,'BILL_AMT6']=cc_default['BILL_AMT6'].median()\n",
        "cc_default.loc[cc_default['BILL_AMT6']<0,'BILL_AMT6']=cc_default['BILL_AMT6'].median()"
      ],
      "metadata": {
        "id": "CWJy7Qo3IiDN"
      },
      "execution_count": null,
      "outputs": []
    },
    {
      "cell_type": "code",
      "source": [
        "cc_default.boxplot(column=['BILL_AMT6'])"
      ],
      "metadata": {
        "colab": {
          "base_uri": "https://localhost:8080/"
        },
        "id": "nJZQzexNIiLA",
        "outputId": "1be43e03-b1f1-4aec-e0f2-f8704d64ff0e"
      },
      "execution_count": null,
      "outputs": [
        {
          "output_type": "execute_result",
          "data": {
            "text/plain": [
              "<AxesSubplot:>"
            ]
          },
          "metadata": {},
          "execution_count": 284
        },
        {
          "output_type": "display_data",
          "data": {
            "text/plain": [
              "<Figure size 432x288 with 1 Axes>"
            ],
            "image/png": "[encoded data removed]"
          },
          "metadata": {}
        }
      ]
    },
    {
      "cell_type": "markdown",
      "source": [
        "### **VAR8 Cleaning=PAY_AMT1**"
      ],
      "metadata": {
        "id": "PEWtuxvmIicJ"
      }
    },
    {
      "cell_type": "code",
      "source": [
        "cc_default['PAY_AMT1'].median()"
      ],
      "metadata": {
        "colab": {
          "base_uri": "https://localhost:8080/"
        },
        "id": "b-aMUYb5Io0S",
        "outputId": "c93797e9-d0b7-466f-a3a5-fa6f5929d94b"
      },
      "execution_count": null,
      "outputs": [
        {
          "output_type": "execute_result",
          "data": {
            "text/plain": [
              "2100.0"
            ]
          },
          "metadata": {},
          "execution_count": 285
        }
      ]
    },
    {
      "cell_type": "code",
      "source": [
        "cc_default.loc[cc_default['PAY_AMT1']>80000,'PAY_AMT1']=cc_default['PAY_AMT1'].median()"
      ],
      "metadata": {
        "id": "Rr7MfWZiIo5L"
      },
      "execution_count": null,
      "outputs": []
    },
    {
      "cell_type": "code",
      "source": [
        "cc_default.boxplot(column=['PAY_AMT1'])"
      ],
      "metadata": {
        "colab": {
          "base_uri": "https://localhost:8080/"
        },
        "id": "eQOb19YRVQK2",
        "outputId": "3f242ec5-d087-4112-f57f-e65d72bee7b0"
      },
      "execution_count": null,
      "outputs": [
        {
          "output_type": "execute_result",
          "data": {
            "text/plain": [
              "<AxesSubplot:>"
            ]
          },
          "metadata": {},
          "execution_count": 287
        },
        {
          "output_type": "display_data",
          "data": {
            "text/plain": [
              "<Figure size 432x288 with 1 Axes>"
            ],
            "image/png": "[encoded data removed]"
          },
          "metadata": {}
        }
      ]
    },
    {
      "cell_type": "markdown",
      "source": [
        "### **VAR9 Cleaning=PAY_AMT2**"
      ],
      "metadata": {
        "id": "nTtMPcLkIqQC"
      }
    },
    {
      "cell_type": "code",
      "source": [
        "cc_default['PAY_AMT2'].median()"
      ],
      "metadata": {
        "colab": {
          "base_uri": "https://localhost:8080/"
        },
        "id": "kEZK3ZuwIuvf",
        "outputId": "c67656d2-042e-47e1-a98e-93da6153dbb2"
      },
      "execution_count": null,
      "outputs": [
        {
          "output_type": "execute_result",
          "data": {
            "text/plain": [
              "2009.0"
            ]
          },
          "metadata": {},
          "execution_count": 288
        }
      ]
    },
    {
      "cell_type": "code",
      "source": [
        "cc_default.loc[cc_default['PAY_AMT2']>80000,'PAY_AMT2']=cc_default['PAY_AMT2'].median()"
      ],
      "metadata": {
        "id": "aBfYN7QYIu1H"
      },
      "execution_count": null,
      "outputs": []
    },
    {
      "cell_type": "code",
      "source": [
        "cc_default.boxplot(column=['PAY_AMT2'])"
      ],
      "metadata": {
        "colab": {
          "base_uri": "https://localhost:8080/"
        },
        "id": "N2mFleYWIu7y",
        "outputId": "2a8d3a65-d5ab-47bf-fc52-ec45d9a2af4c"
      },
      "execution_count": null,
      "outputs": [
        {
          "output_type": "execute_result",
          "data": {
            "text/plain": [
              "<AxesSubplot:>"
            ]
          },
          "metadata": {},
          "execution_count": 290
        },
        {
          "output_type": "display_data",
          "data": {
            "text/plain": [
              "<Figure size 432x288 with 1 Axes>"
            ],
            "image/png": "[encoded data removed]"
          },
          "metadata": {}
        }
      ]
    },
    {
      "cell_type": "code",
      "source": [],
      "metadata": {
        "id": "S8kQPlmsUbxL"
      },
      "execution_count": null,
      "outputs": []
    },
    {
      "cell_type": "markdown",
      "source": [
        "### **VAR10 Cleaning=PAY_AMT3**"
      ],
      "metadata": {
        "id": "g8N0AqbgIvSK"
      }
    },
    {
      "cell_type": "code",
      "source": [
        "cc_default['PAY_AMT3'].median()"
      ],
      "metadata": {
        "colab": {
          "base_uri": "https://localhost:8080/"
        },
        "id": "VeZ6FTmNIysd",
        "outputId": "4a6b6f78-662d-4212-f271-9c7dd49a2c64"
      },
      "execution_count": null,
      "outputs": [
        {
          "output_type": "execute_result",
          "data": {
            "text/plain": [
              "1800.0"
            ]
          },
          "metadata": {},
          "execution_count": 291
        }
      ]
    },
    {
      "cell_type": "code",
      "source": [
        "cc_default.loc[cc_default['PAY_AMT3']>80000,'PAY_AMT3']=cc_default['PAY_AMT3'].median()"
      ],
      "metadata": {
        "id": "gWEsobCAIyvr"
      },
      "execution_count": null,
      "outputs": []
    },
    {
      "cell_type": "code",
      "source": [
        "cc_default.boxplot(column=['PAY_AMT3'])"
      ],
      "metadata": {
        "colab": {
          "base_uri": "https://localhost:8080/"
        },
        "id": "fC2s1vfCIyyc",
        "outputId": "10d8496a-69fd-4837-bafb-93fb0f87e971"
      },
      "execution_count": null,
      "outputs": [
        {
          "output_type": "execute_result",
          "data": {
            "text/plain": [
              "<AxesSubplot:>"
            ]
          },
          "metadata": {},
          "execution_count": 293
        },
        {
          "output_type": "display_data",
          "data": {
            "text/plain": [
              "<Figure size 432x288 with 1 Axes>"
            ],
            "image/png": "[encoded data removed]"
          },
          "metadata": {}
        }
      ]
    },
    {
      "cell_type": "markdown",
      "source": [
        "### **VAR11 Cleaning=PAY_AMT4**"
      ],
      "metadata": {
        "id": "-guY4r7QIzSD"
      }
    },
    {
      "cell_type": "code",
      "source": [
        "cc_default['PAY_AMT4'].median()"
      ],
      "metadata": {
        "colab": {
          "base_uri": "https://localhost:8080/"
        },
        "id": "p6KwhnQGI3Cm",
        "outputId": "eb5eaccc-d2fa-41d3-8235-67f2ebd20629"
      },
      "execution_count": null,
      "outputs": [
        {
          "output_type": "execute_result",
          "data": {
            "text/plain": [
              "1500.0"
            ]
          },
          "metadata": {},
          "execution_count": 294
        }
      ]
    },
    {
      "cell_type": "code",
      "source": [
        "cc_default.loc[cc_default['PAY_AMT4']>80000,'PAY_AMT4']=cc_default['PAY_AMT4'].median()"
      ],
      "metadata": {
        "id": "JdlGeHdpI3FY"
      },
      "execution_count": null,
      "outputs": []
    },
    {
      "cell_type": "code",
      "source": [
        "cc_default.boxplot(column=['PAY_AMT4'])"
      ],
      "metadata": {
        "colab": {
          "base_uri": "https://localhost:8080/"
        },
        "id": "zWgaoAXiI3IJ",
        "outputId": "74ea3f71-b52d-4bc3-f3dd-eb9c9ae9edbc"
      },
      "execution_count": null,
      "outputs": [
        {
          "output_type": "execute_result",
          "data": {
            "text/plain": [
              "<AxesSubplot:>"
            ]
          },
          "metadata": {},
          "execution_count": 296
        },
        {
          "output_type": "display_data",
          "data": {
            "text/plain": [
              "<Figure size 432x288 with 1 Axes>"
            ],
            "image/png": "[encoded data removed]"
          },
          "metadata": {}
        }
      ]
    },
    {
      "cell_type": "markdown",
      "source": [
        "### **VAR12 Cleaning=PAY_AMT5**"
      ],
      "metadata": {
        "id": "RkxyHPKfI3Zd"
      }
    },
    {
      "cell_type": "code",
      "source": [
        "cc_default['PAY_AMT5'].median()"
      ],
      "metadata": {
        "colab": {
          "base_uri": "https://localhost:8080/"
        },
        "id": "PyLfscNjI7NM",
        "outputId": "5d89a7c6-36d2-4400-db0b-6477a5fb7b04"
      },
      "execution_count": null,
      "outputs": [
        {
          "output_type": "execute_result",
          "data": {
            "text/plain": [
              "1500.0"
            ]
          },
          "metadata": {},
          "execution_count": 297
        }
      ]
    },
    {
      "cell_type": "code",
      "source": [
        "cc_default.loc[cc_default['PAY_AMT5']>80000,'PAY_AMT5']=cc_default['PAY_AMT5'].median()"
      ],
      "metadata": {
        "id": "0IBvoIvWI7P1"
      },
      "execution_count": null,
      "outputs": []
    },
    {
      "cell_type": "code",
      "source": [
        "cc_default.boxplot(column=['PAY_AMT5'])"
      ],
      "metadata": {
        "colab": {
          "base_uri": "https://localhost:8080/"
        },
        "id": "pD73WLQBI7U-",
        "outputId": "50fc4f4d-112f-400e-9e6e-0686d8f9e47d"
      },
      "execution_count": null,
      "outputs": [
        {
          "output_type": "execute_result",
          "data": {
            "text/plain": [
              "<AxesSubplot:>"
            ]
          },
          "metadata": {},
          "execution_count": 299
        },
        {
          "output_type": "display_data",
          "data": {
            "text/plain": [
              "<Figure size 432x288 with 1 Axes>"
            ],
            "image/png": "[encoded data removed]"
          },
          "metadata": {}
        }
      ]
    },
    {
      "cell_type": "markdown",
      "source": [
        "### **VAR13 Cleaning=PAY_AMT6**"
      ],
      "metadata": {
        "id": "hB0BxWgBI7mm"
      }
    },
    {
      "cell_type": "code",
      "source": [
        "cc_default['PAY_AMT6'].median()"
      ],
      "metadata": {
        "colab": {
          "base_uri": "https://localhost:8080/"
        },
        "id": "cRRH96GBI-1L",
        "outputId": "d6c88388-cde8-439c-a214-c3c70e6eb3fa"
      },
      "execution_count": null,
      "outputs": [
        {
          "output_type": "execute_result",
          "data": {
            "text/plain": [
              "1500.0"
            ]
          },
          "metadata": {},
          "execution_count": 300
        }
      ]
    },
    {
      "cell_type": "code",
      "source": [
        "cc_default.loc[cc_default['PAY_AMT6']>80000,'PAY_AMT6']=cc_default['PAY_AMT6'].median()"
      ],
      "metadata": {
        "id": "K8NQDLyNI-3z"
      },
      "execution_count": null,
      "outputs": []
    },
    {
      "cell_type": "code",
      "source": [
        "cc_default.boxplot(column=['PAY_AMT6'])"
      ],
      "metadata": {
        "id": "OJQ5MfqwI-6_",
        "colab": {
          "base_uri": "https://localhost:8080/"
        },
        "outputId": "e2351922-753e-43a6-8e87-b3d176d8c9ae"
      },
      "execution_count": null,
      "outputs": [
        {
          "output_type": "execute_result",
          "data": {
            "text/plain": [
              "<AxesSubplot:>"
            ]
          },
          "metadata": {},
          "execution_count": 302
        },
        {
          "output_type": "display_data",
          "data": {
            "text/plain": [
              "<Figure size 432x288 with 1 Axes>"
            ],
            "image/png": "[encoded data removed]"
          },
          "metadata": {}
        }
      ]
    },
    {
      "cell_type": "markdown",
      "source": [
        "# Model Building\n",
        "Select the right model, Include Feature Engineering, Perform Model Validation, Multiple models and performance comparison\n"
      ],
      "metadata": {
        "id": "MPohYFNGvAgs"
      }
    },
    {
      "cell_type": "markdown",
      "source": [
        "**Findings after exploration and cleaning =In this Dataframe the Target_variable=default.payment.next.month which is a categorical variable taking binary values hence the problem to be addressed is a Classification Problem, therefore we will go for Logistic Regression Analysis.**"
      ],
      "metadata": {
        "id": "aNgcBykBin2A"
      }
    },
    {
      "cell_type": "code",
      "source": [
        "import sklearn as sk\n",
        "import numpy as np\n",
        "from sklearn.linear_model import LogisticRegression\n",
        "from sklearn.metrics import confusion_matrix"
      ],
      "metadata": {
        "id": "CLfA9QM9vR6B"
      },
      "execution_count": null,
      "outputs": []
    },
    {
      "cell_type": "code",
      "source": [
        "cc_default.head(20)"
      ],
      "metadata": {
        "colab": {
          "base_uri": "https://localhost:8080/",
          "height": 769
        },
        "id": "s1uI95c7s8am",
        "outputId": "25731755-4a9e-4cb9-877d-fd6f30a8aa36"
      },
      "execution_count": null,
      "outputs": [
        {
          "output_type": "execute_result",
          "data": {
            "text/plain": [
              "    ID  LIMIT_BAL  SEX  EDUCATION  MARRIAGE  AGE  PAY_1  PAY_2  PAY_3  PAY_4  \\\n",
              "0    1    20000.0    2          2         1   24      1      1      0      0   \n",
              "1    2   120000.0    2          2         2   26      0      1      0      0   \n",
              "2    3    90000.0    2          2         2   34      0      0      0      0   \n",
              "3    4    50000.0    2          2         1   37      0      0      0      0   \n",
              "4    5    50000.0    1          2         1   57      0      0      0      0   \n",
              "5    6    50000.0    1          1         2   37      0      0      0      0   \n",
              "6    7   500000.0    1          1         2   29      0      0      0      0   \n",
              "7    8   100000.0    2          2         2   23      0      0      0      0   \n",
              "8    9   140000.0    2          3         1   28      0      0      1      0   \n",
              "9   10    20000.0    1          3         2   35      0      0      0      0   \n",
              "10  11   200000.0    2          3         2   34      0      0      1      0   \n",
              "11  12   260000.0    2          1         2   51      0      0      0      0   \n",
              "12  13   140000.0    2          2         2   41      0      0      0      0   \n",
              "13  14    70000.0    1          2         2   30      1      1      1      0   \n",
              "14  15   250000.0    1          1         2   29      0      0      0      0   \n",
              "15  16    50000.0    2          3         3   23      1      1      0      0   \n",
              "16  17    20000.0    1          1         2   24      0      0      1      1   \n",
              "17  18   320000.0    1          1         1   49      0      0      0      0   \n",
              "18  19   360000.0    2          1         1   49      1      0      0      0   \n",
              "19  20   180000.0    2          1         2   29      1      0      0      0   \n",
              "\n",
              "    ...  BILL_AMT4  BILL_AMT5  BILL_AMT6  PAY_AMT1  PAY_AMT2  PAY_AMT3  \\\n",
              "0   ...        0.0       0.00        0.0       0.0     689.0       0.0   \n",
              "1   ...     3272.0    3455.00     3261.0       0.0    1000.0    1000.0   \n",
              "2   ...    14331.0   14948.00    15549.0    1518.0    1500.0    1000.0   \n",
              "3   ...    28314.0   28959.00    29547.0    2000.0    2019.0    1200.0   \n",
              "4   ...    20940.0   19146.00    19131.0    2000.0   36681.0   10000.0   \n",
              "5   ...    19394.0   19619.00    20024.0    2500.0    1815.0     657.0   \n",
              "6   ...    19052.0   18104.50    17071.0   55000.0   40000.0   38000.0   \n",
              "7   ...      221.0   18104.25      567.0     380.0     601.0       0.0   \n",
              "8   ...    12211.0   11793.00     3719.0    3329.0       0.0     432.0   \n",
              "9   ...        0.0   13007.00    13912.0       0.0       0.0       0.0   \n",
              "10  ...     2513.0    1828.00     3731.0    2306.0      12.0      50.0   \n",
              "11  ...     8517.0   22287.00    13668.0   21818.0    9966.0    8583.0   \n",
              "12  ...     6500.0    6500.00     2870.0    1000.0    6500.0    6500.0   \n",
              "13  ...    66782.0   36137.00    36894.0    3200.0       0.0    3000.0   \n",
              "14  ...    59696.0   56875.00    55512.0    3000.0    3000.0    3000.0   \n",
              "15  ...    28771.0   29531.00    30211.0       0.0    1500.0    1100.0   \n",
              "16  ...    18338.0   17905.00    19104.0    3200.0       0.0    1500.0   \n",
              "17  ...    70074.0    5856.00   195599.0   10358.0   10000.0   75940.0   \n",
              "18  ...        0.0       0.00        0.0       0.0       0.0       0.0   \n",
              "19  ...        0.0       0.00        0.0       0.0       0.0       0.0   \n",
              "\n",
              "    PAY_AMT4  PAY_AMT5  PAY_AMT6  default.payment.next.month  \n",
              "0        0.0       0.0       0.0                           1  \n",
              "1     1000.0       0.0    2000.0                           1  \n",
              "2     1000.0    1000.0    5000.0                           0  \n",
              "3     1100.0    1069.0    1000.0                           0  \n",
              "4     9000.0     689.0     679.0                           0  \n",
              "5     1000.0    1000.0     800.0                           0  \n",
              "6    20239.0   13750.0   13770.0                           0  \n",
              "7      581.0    1687.0    1542.0                           0  \n",
              "8     1000.0    1000.0    1000.0                           0  \n",
              "9    13007.0    1122.0       0.0                           0  \n",
              "10     300.0    3738.0      66.0                           0  \n",
              "11   22301.0       0.0    3640.0                           0  \n",
              "12    6500.0    2870.0       0.0                           0  \n",
              "13    3000.0    1500.0       0.0                           1  \n",
              "14    3000.0    3000.0    3000.0                           0  \n",
              "15    1200.0    1300.0    1100.0                           0  \n",
              "16       0.0    1650.0       0.0                           1  \n",
              "17   20000.0    1500.0   50000.0                           0  \n",
              "18       0.0       0.0       0.0                           0  \n",
              "19       0.0       0.0       0.0                           0  \n",
              "\n",
              "[20 rows x 25 columns]"
            ],
            "text/html": [
              "\n",
              "  <div id=\"df-82ab4874-73a0-4565-a2bd-8d5a3c2b66d8\">\n",
              "    <div class=\"colab-df-container\">\n",
              "      <div>\n",
              "<style scoped>\n",
              "    .dataframe tbody tr th:only-of-type {\n",
              "        vertical-align: middle;\n",
              "    }\n",
              "\n",
              "    .dataframe tbody tr th {\n",
              "        vertical-align: top;\n",
              "    }\n",
              "\n",
              "    .dataframe thead th {\n",
              "        text-align: right;\n",
              "    }\n",
              "</style>\n",
              "<table border=\"1\" class=\"dataframe\">\n",
              "  <thead>\n",
              "    <tr style=\"text-align: right;\">\n",
              "      <th></th>\n",
              "      <th>ID</th>\n",
              "      <th>LIMIT_BAL</th>\n",
              "      <th>SEX</th>\n",
              "      <th>EDUCATION</th>\n",
              "      <th>MARRIAGE</th>\n",
              "      <th>AGE</th>\n",
              "      <th>PAY_1</th>\n",
              "      <th>PAY_2</th>\n",
              "      <th>PAY_3</th>\n",
              "      <th>PAY_4</th>\n",
              "      <th>...</th>\n",
              "      <th>BILL_AMT4</th>\n",
              "      <th>BILL_AMT5</th>\n",
              "      <th>BILL_AMT6</th>\n",
              "      <th>PAY_AMT1</th>\n",
              "      <th>PAY_AMT2</th>\n",
              "      <th>PAY_AMT3</th>\n",
              "      <th>PAY_AMT4</th>\n",
              "      <th>PAY_AMT5</th>\n",
              "      <th>PAY_AMT6</th>\n",
              "      <th>default.payment.next.month</th>\n",
              "    </tr>\n",
              "  </thead>\n",
              "  <tbody>\n",
              "    <tr>\n",
              "      <th>0</th>\n",
              "      <td>1</td>\n",
              "      <td>20000.0</td>\n",
              "      <td>2</td>\n",
              "      <td>2</td>\n",
              "      <td>1</td>\n",
              "      <td>24</td>\n",
              "      <td>1</td>\n",
              "      <td>1</td>\n",
              "      <td>0</td>\n",
              "      <td>0</td>\n",
              "      <td>...</td>\n",
              "      <td>0.0</td>\n",
              "      <td>0.00</td>\n",
              "      <td>0.0</td>\n",
              "      <td>0.0</td>\n",
              "      <td>689.0</td>\n",
              "      <td>0.0</td>\n",
              "      <td>0.0</td>\n",
              "      <td>0.0</td>\n",
              "      <td>0.0</td>\n",
              "      <td>1</td>\n",
              "    </tr>\n",
              "    <tr>\n",
              "      <th>1</th>\n",
              "      <td>2</td>\n",
              "      <td>120000.0</td>\n",
              "      <td>2</td>\n",
              "      <td>2</td>\n",
              "      <td>2</td>\n",
              "      <td>26</td>\n",
              "      <td>0</td>\n",
              "      <td>1</td>\n",
              "      <td>0</td>\n",
              "      <td>0</td>\n",
              "      <td>...</td>\n",
              "      <td>3272.0</td>\n",
              "      <td>3455.00</td>\n",
              "      <td>3261.0</td>\n",
              "      <td>0.0</td>\n",
              "      <td>1000.0</td>\n",
              "      <td>1000.0</td>\n",
              "      <td>1000.0</td>\n",
              "      <td>0.0</td>\n",
              "      <td>2000.0</td>\n",
              "      <td>1</td>\n",
              "    </tr>\n",
              "    <tr>\n",
              "      <th>2</th>\n",
              "      <td>3</td>\n",
              "      <td>90000.0</td>\n",
              "      <td>2</td>\n",
              "      <td>2</td>\n",
              "      <td>2</td>\n",
              "      <td>34</td>\n",
              "      <td>0</td>\n",
              "      <td>0</td>\n",
              "      <td>0</td>\n",
              "      <td>0</td>\n",
              "      <td>...</td>\n",
              "      <td>14331.0</td>\n",
              "      <td>14948.00</td>\n",
              "      <td>15549.0</td>\n",
              "      <td>1518.0</td>\n",
              "      <td>1500.0</td>\n",
              "      <td>1000.0</td>\n",
              "      <td>1000.0</td>\n",
              "      <td>1000.0</td>\n",
              "      <td>5000.0</td>\n",
              "      <td>0</td>\n",
              "    </tr>\n",
              "    <tr>\n",
              "      <th>3</th>\n",
              "      <td>4</td>\n",
              "      <td>50000.0</td>\n",
              "      <td>2</td>\n",
              "      <td>2</td>\n",
              "      <td>1</td>\n",
              "      <td>37</td>\n",
              "      <td>0</td>\n",
              "      <td>0</td>\n",
              "      <td>0</td>\n",
              "      <td>0</td>\n",
              "      <td>...</td>\n",
              "      <td>28314.0</td>\n",
              "      <td>28959.00</td>\n",
              "      <td>29547.0</td>\n",
              "      <td>2000.0</td>\n",
              "      <td>2019.0</td>\n",
              "      <td>1200.0</td>\n",
              "      <td>1100.0</td>\n",
              "      <td>1069.0</td>\n",
              "      <td>1000.0</td>\n",
              "      <td>0</td>\n",
              "    </tr>\n",
              "    <tr>\n",
              "      <th>4</th>\n",
              "      <td>5</td>\n",
              "      <td>50000.0</td>\n",
              "      <td>1</td>\n",
              "      <td>2</td>\n",
              "      <td>1</td>\n",
              "      <td>57</td>\n",
              "      <td>0</td>\n",
              "      <td>0</td>\n",
              "      <td>0</td>\n",
              "      <td>0</td>\n",
              "      <td>...</td>\n",
              "      <td>20940.0</td>\n",
              "      <td>19146.00</td>\n",
              "      <td>19131.0</td>\n",
              "      <td>2000.0</td>\n",
              "      <td>36681.0</td>\n",
              "      <td>10000.0</td>\n",
              "      <td>9000.0</td>\n",
              "      <td>689.0</td>\n",
              "      <td>679.0</td>\n",
              "      <td>0</td>\n",
              "    </tr>\n",
              "    <tr>\n",
              "      <th>5</th>\n",
              "      <td>6</td>\n",
              "      <td>50000.0</td>\n",
              "      <td>1</td>\n",
              "      <td>1</td>\n",
              "      <td>2</td>\n",
              "      <td>37</td>\n",
              "      <td>0</td>\n",
              "      <td>0</td>\n",
              "      <td>0</td>\n",
              "      <td>0</td>\n",
              "      <td>...</td>\n",
              "      <td>19394.0</td>\n",
              "      <td>19619.00</td>\n",
              "      <td>20024.0</td>\n",
              "      <td>2500.0</td>\n",
              "      <td>1815.0</td>\n",
              "      <td>657.0</td>\n",
              "      <td>1000.0</td>\n",
              "      <td>1000.0</td>\n",
              "      <td>800.0</td>\n",
              "      <td>0</td>\n",
              "    </tr>\n",
              "    <tr>\n",
              "      <th>6</th>\n",
              "      <td>7</td>\n",
              "      <td>500000.0</td>\n",
              "      <td>1</td>\n",
              "      <td>1</td>\n",
              "      <td>2</td>\n",
              "      <td>29</td>\n",
              "      <td>0</td>\n",
              "      <td>0</td>\n",
              "      <td>0</td>\n",
              "      <td>0</td>\n",
              "      <td>...</td>\n",
              "      <td>19052.0</td>\n",
              "      <td>18104.50</td>\n",
              "      <td>17071.0</td>\n",
              "      <td>55000.0</td>\n",
              "      <td>40000.0</td>\n",
              "      <td>38000.0</td>\n",
              "      <td>20239.0</td>\n",
              "      <td>13750.0</td>\n",
              "      <td>13770.0</td>\n",
              "      <td>0</td>\n",
              "    </tr>\n",
              "    <tr>\n",
              "      <th>7</th>\n",
              "      <td>8</td>\n",
              "      <td>100000.0</td>\n",
              "      <td>2</td>\n",
              "      <td>2</td>\n",
              "      <td>2</td>\n",
              "      <td>23</td>\n",
              "      <td>0</td>\n",
              "      <td>0</td>\n",
              "      <td>0</td>\n",
              "      <td>0</td>\n",
              "      <td>...</td>\n",
              "      <td>221.0</td>\n",
              "      <td>18104.25</td>\n",
              "      <td>567.0</td>\n",
              "      <td>380.0</td>\n",
              "      <td>601.0</td>\n",
              "      <td>0.0</td>\n",
              "      <td>581.0</td>\n",
              "      <td>1687.0</td>\n",
              "      <td>1542.0</td>\n",
              "      <td>0</td>\n",
              "    </tr>\n",
              "    <tr>\n",
              "      <th>8</th>\n",
              "      <td>9</td>\n",
              "      <td>140000.0</td>\n",
              "      <td>2</td>\n",
              "      <td>3</td>\n",
              "      <td>1</td>\n",
              "      <td>28</td>\n",
              "      <td>0</td>\n",
              "      <td>0</td>\n",
              "      <td>1</td>\n",
              "      <td>0</td>\n",
              "      <td>...</td>\n",
              "      <td>12211.0</td>\n",
              "      <td>11793.00</td>\n",
              "      <td>3719.0</td>\n",
              "      <td>3329.0</td>\n",
              "      <td>0.0</td>\n",
              "      <td>432.0</td>\n",
              "      <td>1000.0</td>\n",
              "      <td>1000.0</td>\n",
              "      <td>1000.0</td>\n",
              "      <td>0</td>\n",
              "    </tr>\n",
              "    <tr>\n",
              "      <th>9</th>\n",
              "      <td>10</td>\n",
              "      <td>20000.0</td>\n",
              "      <td>1</td>\n",
              "      <td>3</td>\n",
              "      <td>2</td>\n",
              "      <td>35</td>\n",
              "      <td>0</td>\n",
              "      <td>0</td>\n",
              "      <td>0</td>\n",
              "      <td>0</td>\n",
              "      <td>...</td>\n",
              "      <td>0.0</td>\n",
              "      <td>13007.00</td>\n",
              "      <td>13912.0</td>\n",
              "      <td>0.0</td>\n",
              "      <td>0.0</td>\n",
              "      <td>0.0</td>\n",
              "      <td>13007.0</td>\n",
              "      <td>1122.0</td>\n",
              "      <td>0.0</td>\n",
              "      <td>0</td>\n",
              "    </tr>\n",
              "    <tr>\n",
              "      <th>10</th>\n",
              "      <td>11</td>\n",
              "      <td>200000.0</td>\n",
              "      <td>2</td>\n",
              "      <td>3</td>\n",
              "      <td>2</td>\n",
              "      <td>34</td>\n",
              "      <td>0</td>\n",
              "      <td>0</td>\n",
              "      <td>1</td>\n",
              "      <td>0</td>\n",
              "      <td>...</td>\n",
              "      <td>2513.0</td>\n",
              "      <td>1828.00</td>\n",
              "      <td>3731.0</td>\n",
              "      <td>2306.0</td>\n",
              "      <td>12.0</td>\n",
              "      <td>50.0</td>\n",
              "      <td>300.0</td>\n",
              "      <td>3738.0</td>\n",
              "      <td>66.0</td>\n",
              "      <td>0</td>\n",
              "    </tr>\n",
              "    <tr>\n",
              "      <th>11</th>\n",
              "      <td>12</td>\n",
              "      <td>260000.0</td>\n",
              "      <td>2</td>\n",
              "      <td>1</td>\n",
              "      <td>2</td>\n",
              "      <td>51</td>\n",
              "      <td>0</td>\n",
              "      <td>0</td>\n",
              "      <td>0</td>\n",
              "      <td>0</td>\n",
              "      <td>...</td>\n",
              "      <td>8517.0</td>\n",
              "      <td>22287.00</td>\n",
              "      <td>13668.0</td>\n",
              "      <td>21818.0</td>\n",
              "      <td>9966.0</td>\n",
              "      <td>8583.0</td>\n",
              "      <td>22301.0</td>\n",
              "      <td>0.0</td>\n",
              "      <td>3640.0</td>\n",
              "      <td>0</td>\n",
              "    </tr>\n",
              "    <tr>\n",
              "      <th>12</th>\n",
              "      <td>13</td>\n",
              "      <td>140000.0</td>\n",
              "      <td>2</td>\n",
              "      <td>2</td>\n",
              "      <td>2</td>\n",
              "      <td>41</td>\n",
              "      <td>0</td>\n",
              "      <td>0</td>\n",
              "      <td>0</td>\n",
              "      <td>0</td>\n",
              "      <td>...</td>\n",
              "      <td>6500.0</td>\n",
              "      <td>6500.00</td>\n",
              "      <td>2870.0</td>\n",
              "      <td>1000.0</td>\n",
              "      <td>6500.0</td>\n",
              "      <td>6500.0</td>\n",
              "      <td>6500.0</td>\n",
              "      <td>2870.0</td>\n",
              "      <td>0.0</td>\n",
              "      <td>0</td>\n",
              "    </tr>\n",
              "    <tr>\n",
              "      <th>13</th>\n",
              "      <td>14</td>\n",
              "      <td>70000.0</td>\n",
              "      <td>1</td>\n",
              "      <td>2</td>\n",
              "      <td>2</td>\n",
              "      <td>30</td>\n",
              "      <td>1</td>\n",
              "      <td>1</td>\n",
              "      <td>1</td>\n",
              "      <td>0</td>\n",
              "      <td>...</td>\n",
              "      <td>66782.0</td>\n",
              "      <td>36137.00</td>\n",
              "      <td>36894.0</td>\n",
              "      <td>3200.0</td>\n",
              "      <td>0.0</td>\n",
              "      <td>3000.0</td>\n",
              "      <td>3000.0</td>\n",
              "      <td>1500.0</td>\n",
              "      <td>0.0</td>\n",
              "      <td>1</td>\n",
              "    </tr>\n",
              "    <tr>\n",
              "      <th>14</th>\n",
              "      <td>15</td>\n",
              "      <td>250000.0</td>\n",
              "      <td>1</td>\n",
              "      <td>1</td>\n",
              "      <td>2</td>\n",
              "      <td>29</td>\n",
              "      <td>0</td>\n",
              "      <td>0</td>\n",
              "      <td>0</td>\n",
              "      <td>0</td>\n",
              "      <td>...</td>\n",
              "      <td>59696.0</td>\n",
              "      <td>56875.00</td>\n",
              "      <td>55512.0</td>\n",
              "      <td>3000.0</td>\n",
              "      <td>3000.0</td>\n",
              "      <td>3000.0</td>\n",
              "      <td>3000.0</td>\n",
              "      <td>3000.0</td>\n",
              "      <td>3000.0</td>\n",
              "      <td>0</td>\n",
              "    </tr>\n",
              "    <tr>\n",
              "      <th>15</th>\n",
              "      <td>16</td>\n",
              "      <td>50000.0</td>\n",
              "      <td>2</td>\n",
              "      <td>3</td>\n",
              "      <td>3</td>\n",
              "      <td>23</td>\n",
              "      <td>1</td>\n",
              "      <td>1</td>\n",
              "      <td>0</td>\n",
              "      <td>0</td>\n",
              "      <td>...</td>\n",
              "      <td>28771.0</td>\n",
              "      <td>29531.00</td>\n",
              "      <td>30211.0</td>\n",
              "      <td>0.0</td>\n",
              "      <td>1500.0</td>\n",
              "      <td>1100.0</td>\n",
              "      <td>1200.0</td>\n",
              "      <td>1300.0</td>\n",
              "      <td>1100.0</td>\n",
              "      <td>0</td>\n",
              "    </tr>\n",
              "    <tr>\n",
              "      <th>16</th>\n",
              "      <td>17</td>\n",
              "      <td>20000.0</td>\n",
              "      <td>1</td>\n",
              "      <td>1</td>\n",
              "      <td>2</td>\n",
              "      <td>24</td>\n",
              "      <td>0</td>\n",
              "      <td>0</td>\n",
              "      <td>1</td>\n",
              "      <td>1</td>\n",
              "      <td>...</td>\n",
              "      <td>18338.0</td>\n",
              "      <td>17905.00</td>\n",
              "      <td>19104.0</td>\n",
              "      <td>3200.0</td>\n",
              "      <td>0.0</td>\n",
              "      <td>1500.0</td>\n",
              "      <td>0.0</td>\n",
              "      <td>1650.0</td>\n",
              "      <td>0.0</td>\n",
              "      <td>1</td>\n",
              "    </tr>\n",
              "    <tr>\n",
              "      <th>17</th>\n",
              "      <td>18</td>\n",
              "      <td>320000.0</td>\n",
              "      <td>1</td>\n",
              "      <td>1</td>\n",
              "      <td>1</td>\n",
              "      <td>49</td>\n",
              "      <td>0</td>\n",
              "      <td>0</td>\n",
              "      <td>0</td>\n",
              "      <td>0</td>\n",
              "      <td>...</td>\n",
              "      <td>70074.0</td>\n",
              "      <td>5856.00</td>\n",
              "      <td>195599.0</td>\n",
              "      <td>10358.0</td>\n",
              "      <td>10000.0</td>\n",
              "      <td>75940.0</td>\n",
              "      <td>20000.0</td>\n",
              "      <td>1500.0</td>\n",
              "      <td>50000.0</td>\n",
              "      <td>0</td>\n",
              "    </tr>\n",
              "    <tr>\n",
              "      <th>18</th>\n",
              "      <td>19</td>\n",
              "      <td>360000.0</td>\n",
              "      <td>2</td>\n",
              "      <td>1</td>\n",
              "      <td>1</td>\n",
              "      <td>49</td>\n",
              "      <td>1</td>\n",
              "      <td>0</td>\n",
              "      <td>0</td>\n",
              "      <td>0</td>\n",
              "      <td>...</td>\n",
              "      <td>0.0</td>\n",
              "      <td>0.00</td>\n",
              "      <td>0.0</td>\n",
              "      <td>0.0</td>\n",
              "      <td>0.0</td>\n",
              "      <td>0.0</td>\n",
              "      <td>0.0</td>\n",
              "      <td>0.0</td>\n",
              "      <td>0.0</td>\n",
              "      <td>0</td>\n",
              "    </tr>\n",
              "    <tr>\n",
              "      <th>19</th>\n",
              "      <td>20</td>\n",
              "      <td>180000.0</td>\n",
              "      <td>2</td>\n",
              "      <td>1</td>\n",
              "      <td>2</td>\n",
              "      <td>29</td>\n",
              "      <td>1</td>\n",
              "      <td>0</td>\n",
              "      <td>0</td>\n",
              "      <td>0</td>\n",
              "      <td>...</td>\n",
              "      <td>0.0</td>\n",
              "      <td>0.00</td>\n",
              "      <td>0.0</td>\n",
              "      <td>0.0</td>\n",
              "      <td>0.0</td>\n",
              "      <td>0.0</td>\n",
              "      <td>0.0</td>\n",
              "      <td>0.0</td>\n",
              "      <td>0.0</td>\n",
              "      <td>0</td>\n",
              "    </tr>\n",
              "  </tbody>\n",
              "</table>\n",
              "<p>20 rows × 25 columns</p>\n",
              "</div>\n",
              "      <button class=\"colab-df-convert\" onclick=\"convertToInteractive('df-82ab4874-73a0-4565-a2bd-8d5a3c2b66d8')\"\n",
              "              title=\"Convert this dataframe to an interactive table.\"\n",
              "              style=\"display:none;\">\n",
              "        \n",
              "  <svg xmlns=\"http://www.w3.org/2000/svg\" height=\"24px\"viewBox=\"0 0 24 24\"\n",
              "       width=\"24px\">\n",
              "    <path d=\"M0 0h24v24H0V0z\" fill=\"none\"/>\n",
              "    <path d=\"M18.56 5.44l.94 2.06.94-2.06 2.06-.94-2.06-.94-.94-2.06-.94 2.06-2.06.94zm-11 1L8.5 8.5l.94-2.06 2.06-.94-2.06-.94L8.5 2.5l-.94 2.06-2.06.94zm10 10l.94 2.06.94-2.06 2.06-.94-2.06-.94-.94-2.06-.94 2.06-2.06.94z\"/><path d=\"M17.41 7.96l-1.37-1.37c-.4-.4-.92-.59-1.43-.59-.52 0-1.04.2-1.43.59L10.3 9.45l-7.72 7.72c-.78.78-.78 2.05 0 2.83L4 21.41c.39.39.9.59 1.41.59.51 0 1.02-.2 1.41-.59l7.78-7.78 2.81-2.81c.8-.78.8-2.07 0-2.86zM5.41 20L4 18.59l7.72-7.72 1.47 1.35L5.41 20z\"/>\n",
              "  </svg>\n",
              "      </button>\n",
              "      \n",
              "  <style>\n",
              "    .colab-df-container {\n",
              "      display:flex;\n",
              "      flex-wrap:wrap;\n",
              "      gap: 12px;\n",
              "    }\n",
              "\n",
              "    .colab-df-convert {\n",
              "      background-color: #E8F0FE;\n",
              "      border: none;\n",
              "      border-radius: 50%;\n",
              "      cursor: pointer;\n",
              "      display: none;\n",
              "      fill: #1967D2;\n",
              "      height: 32px;\n",
              "      padding: 0 0 0 0;\n",
              "      width: 32px;\n",
              "    }\n",
              "\n",
              "    .colab-df-convert:hover {\n",
              "      background-color: #E2EBFA;\n",
              "      box-shadow: 0px 1px 2px rgba(60, 64, 67, 0.3), 0px 1px 3px 1px rgba(60, 64, 67, 0.15);\n",
              "      fill: #174EA6;\n",
              "    }\n",
              "\n",
              "    [theme=dark] .colab-df-convert {\n",
              "      background-color: #3B4455;\n",
              "      fill: #D2E3FC;\n",
              "    }\n",
              "\n",
              "    [theme=dark] .colab-df-convert:hover {\n",
              "      background-color: #434B5C;\n",
              "      box-shadow: 0px 1px 3px 1px rgba(0, 0, 0, 0.15);\n",
              "      filter: drop-shadow(0px 1px 2px rgba(0, 0, 0, 0.3));\n",
              "      fill: #FFFFFF;\n",
              "    }\n",
              "  </style>\n",
              "\n",
              "      <script>\n",
              "        const buttonEl =\n",
              "          document.querySelector('#df-82ab4874-73a0-4565-a2bd-8d5a3c2b66d8 button.colab-df-convert');\n",
              "        buttonEl.style.display =\n",
              "          google.colab.kernel.accessAllowed ? 'block' : 'none';\n",
              "\n",
              "        async function convertToInteractive(key) {\n",
              "          const element = document.querySelector('#df-82ab4874-73a0-4565-a2bd-8d5a3c2b66d8');\n",
              "          const dataTable =\n",
              "            await google.colab.kernel.invokeFunction('convertToInteractive',\n",
              "                                                     [key], {});\n",
              "          if (!dataTable) return;\n",
              "\n",
              "          const docLinkHtml = 'Like what you see? Visit the ' +\n",
              "            '<a target=\"_blank\" href=https://colab.research.google.com/notebooks/data_table.ipynb>data table notebook</a>'\n",
              "            + ' to learn more about interactive tables.';\n",
              "          element.innerHTML = '';\n",
              "          dataTable['output_type'] = 'display_data';\n",
              "          await google.colab.output.renderOutput(dataTable, element);\n",
              "          const docLink = document.createElement('div');\n",
              "          docLink.innerHTML = docLinkHtml;\n",
              "          element.appendChild(docLink);\n",
              "        }\n",
              "      </script>\n",
              "    </div>\n",
              "  </div>\n",
              "  "
            ]
          },
          "metadata": {},
          "execution_count": 303
        }
      ]
    },
    {
      "cell_type": "code",
      "source": [
        "cc_default.info()"
      ],
      "metadata": {
        "colab": {
          "base_uri": "https://localhost:8080/"
        },
        "id": "fpy1Xn0tk0aT",
        "outputId": "9392f55a-d8bd-4fd3-e2b1-57b9d76080dd"
      },
      "execution_count": null,
      "outputs": [
        {
          "output_type": "stream",
          "name": "stdout",
          "text": [
            "<class 'pandas.core.frame.DataFrame'>\n",
            "RangeIndex: 30000 entries, 0 to 29999\n",
            "Data columns (total 25 columns):\n",
            " #   Column                      Non-Null Count  Dtype  \n",
            "---  ------                      --------------  -----  \n",
            " 0   ID                          30000 non-null  int64  \n",
            " 1   LIMIT_BAL                   30000 non-null  float64\n",
            " 2   SEX                         30000 non-null  int64  \n",
            " 3   EDUCATION                   30000 non-null  int64  \n",
            " 4   MARRIAGE                    30000 non-null  int64  \n",
            " 5   AGE                         30000 non-null  int64  \n",
            " 6   PAY_1                       30000 non-null  int64  \n",
            " 7   PAY_2                       30000 non-null  int64  \n",
            " 8   PAY_3                       30000 non-null  int64  \n",
            " 9   PAY_4                       30000 non-null  int64  \n",
            " 10  PAY_5                       30000 non-null  int64  \n",
            " 11  PAY_6                       30000 non-null  int64  \n",
            " 12  BILL_AMT1                   30000 non-null  float64\n",
            " 13  BILL_AMT2                   30000 non-null  float64\n",
            " 14  BILL_AMT3                   30000 non-null  float64\n",
            " 15  BILL_AMT4                   30000 non-null  float64\n",
            " 16  BILL_AMT5                   30000 non-null  float64\n",
            " 17  BILL_AMT6                   30000 non-null  float64\n",
            " 18  PAY_AMT1                    30000 non-null  float64\n",
            " 19  PAY_AMT2                    30000 non-null  float64\n",
            " 20  PAY_AMT3                    30000 non-null  float64\n",
            " 21  PAY_AMT4                    30000 non-null  float64\n",
            " 22  PAY_AMT5                    30000 non-null  float64\n",
            " 23  PAY_AMT6                    30000 non-null  float64\n",
            " 24  default.payment.next.month  30000 non-null  int64  \n",
            "dtypes: float64(13), int64(12)\n",
            "memory usage: 5.7 MB\n"
          ]
        }
      ]
    },
    {
      "cell_type": "code",
      "source": [
        "logistic=LogisticRegression()\n",
        "logistic.fit(cc_default[['LIMIT_BAL']+['SEX']+['EDUCATION']+['MARRIAGE']+['AGE']+['PAY_1']+['PAY_2']+['PAY_3']+['PAY_4']+['PAY_5']+['PAY_6']+['BILL_AMT1']+['BILL_AMT2']+['BILL_AMT3']+['BILL_AMT4']+['BILL_AMT5']+['BILL_AMT6']+['PAY_AMT1']+['PAY_AMT2']+['PAY_AMT3']+['PAY_AMT4']+['PAY_AMT5']+['PAY_AMT6']],cc_default[['default.payment.next.month']])"
      ],
      "metadata": {
        "id": "WnR-d4DXvSBJ",
        "colab": {
          "base_uri": "https://localhost:8080/"
        },
        "outputId": "3f5a72ad-5363-4322-9deb-d6b6c1c4f00f"
      },
      "execution_count": null,
      "outputs": [
        {
          "output_type": "stream",
          "name": "stderr",
          "text": [
            "/usr/local/lib/python3.8/dist-packages/sklearn/utils/validation.py:993: DataConversionWarning: A column-vector y was passed when a 1d array was expected. Please change the shape of y to (n_samples, ), for example using ravel().\n",
            "  y = column_or_1d(y, warn=True)\n",
            "/usr/local/lib/python3.8/dist-packages/sklearn/linear_model/_logistic.py:814: ConvergenceWarning: lbfgs failed to converge (status=1):\n",
            "STOP: TOTAL NO. of ITERATIONS REACHED LIMIT.\n",
            "\n",
            "Increase the number of iterations (max_iter) or scale the data as shown in:\n",
            "    https://scikit-learn.org/stable/modules/preprocessing.html\n",
            "Please also refer to the documentation for alternative solver options:\n",
            "    https://scikit-learn.org/stable/modules/linear_model.html#logistic-regression\n",
            "  n_iter_i = _check_optimize_result(\n"
          ]
        },
        {
          "output_type": "execute_result",
          "data": {
            "text/plain": [
              "LogisticRegression()"
            ]
          },
          "metadata": {},
          "execution_count": 304
        }
      ]
    },
    {
      "cell_type": "code",
      "source": [
        "print(\"Intercept\", logistic.intercept_)\n",
        "print(\"Coefficients\", logistic.coef_)"
      ],
      "metadata": {
        "colab": {
          "base_uri": "https://localhost:8080/"
        },
        "id": "EezChFR2mtx3",
        "outputId": "53ac768c-176a-4f67-af7e-f08a20e996d2"
      },
      "execution_count": null,
      "outputs": [
        {
          "output_type": "stream",
          "name": "stdout",
          "text": [
            "Intercept [-5.50072399e-06]\n",
            "Coefficients [[-4.61665681e-06 -9.67272709e-06 -1.21047720e-05 -1.04010601e-05\n",
            "  -1.65478106e-04  6.69936120e-06  5.07676823e-06  4.18374881e-06\n",
            "   3.93413029e-06  3.62739737e-06  3.23934276e-06 -5.33768270e-06\n",
            "   7.80297091e-07  1.35677507e-06  2.74816804e-06  1.00403183e-06\n",
            "   4.58301187e-06 -4.07852612e-05 -5.06773966e-05 -3.20084470e-05\n",
            "  -1.63815856e-05 -2.10305180e-05 -1.74004682e-05]]\n"
          ]
        }
      ]
    },
    {
      "cell_type": "markdown",
      "source": [
        "# Model Validation\n",
        "Confusion matrix, Sensitivity, Specificity, F1 Score, Recall, Precision etc."
      ],
      "metadata": {
        "id": "hafQufIYvTCS"
      }
    },
    {
      "cell_type": "code",
      "source": [
        "prediction=logistic.predict(cc_default[['LIMIT_BAL']+['SEX']+['EDUCATION']+['MARRIAGE']+['AGE']+['PAY_1']+['PAY_2']+['PAY_3']+['PAY_4']+['PAY_5']+['PAY_6']+['BILL_AMT1']+['BILL_AMT2']+['BILL_AMT3']+['BILL_AMT4']+['BILL_AMT5']+['BILL_AMT6']+['PAY_AMT1']+['PAY_AMT2']+['PAY_AMT3']+['PAY_AMT4']+['PAY_AMT5']+['PAY_AMT6']])\n",
        "prediction\n",
        "\n",
        "CM=confusion_matrix(cc_default[['default.payment.next.month']],prediction)\n",
        "print(CM)"
      ],
      "metadata": {
        "id": "6RHq0EfVvkkz",
        "colab": {
          "base_uri": "https://localhost:8080/"
        },
        "outputId": "433dd0fa-e53e-4fa0-caf2-dcf1fe8826c2"
      },
      "execution_count": null,
      "outputs": [
        {
          "output_type": "stream",
          "name": "stdout",
          "text": [
            "[[23348    16]\n",
            " [ 6623    13]]\n"
          ]
        }
      ]
    },
    {
      "cell_type": "code",
      "source": [
        "print(\"col sums\", sum(CM))\n",
        "total=sum(sum(CM))\n",
        "print(\"Total\", total)\n"
      ],
      "metadata": {
        "id": "CRmdwZDIvkrP",
        "colab": {
          "base_uri": "https://localhost:8080/"
        },
        "outputId": "832a5754-f9b5-40f0-b2e0-01ef5d547e0e"
      },
      "execution_count": null,
      "outputs": [
        {
          "output_type": "stream",
          "name": "stdout",
          "text": [
            "col sums [29971    29]\n",
            "Total 30000\n"
          ]
        }
      ]
    },
    {
      "cell_type": "code",
      "source": [
        "Accuracy=(CM[0,0]+CM[1,1])/total\n",
        "Accuracy"
      ],
      "metadata": {
        "id": "VbN-ze2YvkuY",
        "colab": {
          "base_uri": "https://localhost:8080/"
        },
        "outputId": "16508e5c-4e29-4654-80cc-d466cba6e363"
      },
      "execution_count": null,
      "outputs": [
        {
          "output_type": "execute_result",
          "data": {
            "text/plain": [
              "0.7787"
            ]
          },
          "metadata": {},
          "execution_count": 308
        }
      ]
    },
    {
      "cell_type": "markdown",
      "source": [
        "### **NOTE: Although the accuracy is about 80% but it does not gurantee the success of the model and for that we have to assess the impactfulness of variables and hence from here we will go on to calculate the VIF.**"
      ],
      "metadata": {
        "id": "HGVLO3Udq1aa"
      }
    },
    {
      "cell_type": "code",
      "source": [
        "import statsmodels.formula.api as sm\n",
        "\n",
        "def vif_cal(input_data, dependent_col):\n",
        "    x_vars=input_data.drop([dependent_col], axis=1)\n",
        "    xvar_names=x_vars.columns\n",
        "    for i in range(0,xvar_names.shape[0]):\n",
        "        y=x_vars[xvar_names[i]] \n",
        "        x=x_vars[xvar_names.drop(xvar_names[i])]\n",
        "        rsq=sm.ols(formula=\"y~x\", data=x_vars).fit().rsquared  \n",
        "        vif=round(1/(1-rsq),2)\n",
        "        print (xvar_names[i], \" VIF = \" , vif)"
      ],
      "metadata": {
        "id": "-XdS0dekrYRe"
      },
      "execution_count": null,
      "outputs": []
    },
    {
      "cell_type": "code",
      "source": [
        "vif_cal(input_data=cc_default,dependent_col=\"default.payment.next.month\")"
      ],
      "metadata": {
        "colab": {
          "base_uri": "https://localhost:8080/"
        },
        "id": "dFYIPtqnrxhl",
        "outputId": "17106b4e-d6d0-4e5a-f210-9b063f733f38"
      },
      "execution_count": null,
      "outputs": [
        {
          "output_type": "stream",
          "name": "stdout",
          "text": [
            "ID  VIF =  1.02\n",
            "LIMIT_BAL  VIF =  1.37\n",
            "SEX  VIF =  1.02\n",
            "EDUCATION  VIF =  1.12\n",
            "MARRIAGE  VIF =  1.23\n",
            "AGE  VIF =  1.27\n",
            "PAY_1  VIF =  1.78\n",
            "PAY_2  VIF =  2.51\n",
            "PAY_3  VIF =  2.37\n",
            "PAY_4  VIF =  2.73\n",
            "PAY_5  VIF =  2.96\n",
            "PAY_6  VIF =  2.14\n",
            "BILL_AMT1  VIF =  7.84\n",
            "BILL_AMT2  VIF =  12.51\n",
            "BILL_AMT3  VIF =  10.87\n",
            "BILL_AMT4  VIF =  11.53\n",
            "BILL_AMT5  VIF =  13.89\n",
            "BILL_AMT6  VIF =  9.01\n",
            "PAY_AMT1  VIF =  1.34\n",
            "PAY_AMT2  VIF =  1.35\n",
            "PAY_AMT3  VIF =  1.31\n",
            "PAY_AMT4  VIF =  1.33\n",
            "PAY_AMT5  VIF =  1.34\n",
            "PAY_AMT6  VIF =  1.22\n"
          ]
        }
      ]
    },
    {
      "cell_type": "markdown",
      "source": [
        "Now if the value of VIF of variable<=5 then it will be considered as impactful and we will keep the variable otherwise we will drop variables in a sequential manner."
      ],
      "metadata": {
        "id": "_rgCNy5Hsicf"
      }
    },
    {
      "cell_type": "code",
      "source": [
        "#dropping column=BILL_AMT5\n",
        "vif_cal(input_data=cc_default.drop(\"BILL_AMT5\", axis=1), dependent_col=\"default.payment.next.month\")"
      ],
      "metadata": {
        "colab": {
          "base_uri": "https://localhost:8080/"
        },
        "id": "mnuI9bftsw3y",
        "outputId": "2aad1bd6-467e-42a3-c9f3-26362b0620d4"
      },
      "execution_count": null,
      "outputs": [
        {
          "output_type": "stream",
          "name": "stdout",
          "text": [
            "ID  VIF =  1.01\n",
            "LIMIT_BAL  VIF =  1.37\n",
            "SEX  VIF =  1.02\n",
            "EDUCATION  VIF =  1.12\n",
            "MARRIAGE  VIF =  1.23\n",
            "AGE  VIF =  1.27\n",
            "PAY_1  VIF =  1.78\n",
            "PAY_2  VIF =  2.51\n",
            "PAY_3  VIF =  2.37\n",
            "PAY_4  VIF =  2.73\n",
            "PAY_5  VIF =  2.96\n",
            "PAY_6  VIF =  2.14\n",
            "BILL_AMT1  VIF =  7.84\n",
            "BILL_AMT2  VIF =  12.5\n",
            "BILL_AMT3  VIF =  10.85\n",
            "BILL_AMT4  VIF =  9.13\n",
            "BILL_AMT6  VIF =  4.8\n",
            "PAY_AMT1  VIF =  1.34\n",
            "PAY_AMT2  VIF =  1.35\n",
            "PAY_AMT3  VIF =  1.31\n",
            "PAY_AMT4  VIF =  1.26\n",
            "PAY_AMT5  VIF =  1.3\n",
            "PAY_AMT6  VIF =  1.22\n"
          ]
        }
      ]
    },
    {
      "cell_type": "code",
      "source": [
        "#dropping column=BILL_AMT2\n",
        "vif_cal(input_data=cc_default.drop([\"BILL_AMT5\",\"BILL_AMT2\"], axis=1), dependent_col=\"default.payment.next.month\")"
      ],
      "metadata": {
        "colab": {
          "base_uri": "https://localhost:8080/"
        },
        "id": "c2W74KpZttqi",
        "outputId": "d1516749-5214-4eeb-9b8c-fd435081e749"
      },
      "execution_count": null,
      "outputs": [
        {
          "output_type": "stream",
          "name": "stdout",
          "text": [
            "ID  VIF =  1.01\n",
            "LIMIT_BAL  VIF =  1.37\n",
            "SEX  VIF =  1.02\n",
            "EDUCATION  VIF =  1.12\n",
            "MARRIAGE  VIF =  1.23\n",
            "AGE  VIF =  1.27\n",
            "PAY_1  VIF =  1.78\n",
            "PAY_2  VIF =  2.51\n",
            "PAY_3  VIF =  2.37\n",
            "PAY_4  VIF =  2.73\n",
            "PAY_5  VIF =  2.96\n",
            "PAY_6  VIF =  2.14\n",
            "BILL_AMT1  VIF =  4.29\n",
            "BILL_AMT3  VIF =  8.73\n",
            "BILL_AMT4  VIF =  9.13\n",
            "BILL_AMT6  VIF =  4.77\n",
            "PAY_AMT1  VIF =  1.3\n",
            "PAY_AMT2  VIF =  1.34\n",
            "PAY_AMT3  VIF =  1.31\n",
            "PAY_AMT4  VIF =  1.26\n",
            "PAY_AMT5  VIF =  1.3\n",
            "PAY_AMT6  VIF =  1.22\n"
          ]
        }
      ]
    },
    {
      "cell_type": "code",
      "source": [
        "#dropping column=BILL_AMT4\n",
        "vif_cal(input_data=cc_default.drop([\"BILL_AMT5\",\"BILL_AMT2\",\"BILL_AMT4\"], axis=1), dependent_col=\"default.payment.next.month\")"
      ],
      "metadata": {
        "colab": {
          "base_uri": "https://localhost:8080/"
        },
        "id": "9g6ngjx3uNR2",
        "outputId": "42534a0e-e213-4a65-d0b0-fe2e7cd0a483"
      },
      "execution_count": null,
      "outputs": [
        {
          "output_type": "stream",
          "name": "stdout",
          "text": [
            "ID  VIF =  1.01\n",
            "LIMIT_BAL  VIF =  1.37\n",
            "SEX  VIF =  1.02\n",
            "EDUCATION  VIF =  1.12\n",
            "MARRIAGE  VIF =  1.23\n",
            "AGE  VIF =  1.27\n",
            "PAY_1  VIF =  1.78\n",
            "PAY_2  VIF =  2.51\n",
            "PAY_3  VIF =  2.37\n",
            "PAY_4  VIF =  2.73\n",
            "PAY_5  VIF =  2.96\n",
            "PAY_6  VIF =  2.14\n",
            "BILL_AMT1  VIF =  4.29\n",
            "BILL_AMT3  VIF =  5.84\n",
            "BILL_AMT6  VIF =  3.4\n",
            "PAY_AMT1  VIF =  1.3\n",
            "PAY_AMT2  VIF =  1.34\n",
            "PAY_AMT3  VIF =  1.26\n",
            "PAY_AMT4  VIF =  1.26\n",
            "PAY_AMT5  VIF =  1.29\n",
            "PAY_AMT6  VIF =  1.22\n"
          ]
        }
      ]
    },
    {
      "cell_type": "code",
      "source": [
        "#dropping column=BILL_AMT3\n",
        "vif_cal(input_data=cc_default.drop([\"BILL_AMT5\",\"BILL_AMT2\",\"BILL_AMT4\",\"BILL_AMT3\"], axis=1), dependent_col=\"default.payment.next.month\")"
      ],
      "metadata": {
        "colab": {
          "base_uri": "https://localhost:8080/"
        },
        "id": "GEvaUAKMueFI",
        "outputId": "8518c28c-b719-4745-efa8-1939cbcfad47"
      },
      "execution_count": null,
      "outputs": [
        {
          "output_type": "stream",
          "name": "stdout",
          "text": [
            "ID  VIF =  1.01\n",
            "LIMIT_BAL  VIF =  1.37\n",
            "SEX  VIF =  1.02\n",
            "EDUCATION  VIF =  1.12\n",
            "MARRIAGE  VIF =  1.23\n",
            "AGE  VIF =  1.27\n",
            "PAY_1  VIF =  1.78\n",
            "PAY_2  VIF =  2.51\n",
            "PAY_3  VIF =  2.37\n",
            "PAY_4  VIF =  2.73\n",
            "PAY_5  VIF =  2.96\n",
            "PAY_6  VIF =  2.14\n",
            "BILL_AMT1  VIF =  2.38\n",
            "BILL_AMT6  VIF =  2.56\n",
            "PAY_AMT1  VIF =  1.29\n",
            "PAY_AMT2  VIF =  1.3\n",
            "PAY_AMT3  VIF =  1.26\n",
            "PAY_AMT4  VIF =  1.26\n",
            "PAY_AMT5  VIF =  1.29\n",
            "PAY_AMT6  VIF =  1.22\n"
          ]
        }
      ]
    },
    {
      "cell_type": "markdown",
      "source": [
        "**After calculating VIF and dropping the less impactful Variables in a sequential manner we will go for checking the P-Value of the remaining variables to filter the remaining impactful variables.**"
      ],
      "metadata": {
        "id": "qkzRqhdVvZJa"
      }
    },
    {
      "cell_type": "code",
      "source": [
        "import statsmodels.api as sm\n",
        "A1=sm.Logit(cc_default['default.payment.next.month'],cc_default[[\"ID\"]+['LIMIT_BAL']+['SEX']+['EDUCATION']+['MARRIAGE']+['AGE']+['PAY_1']+['PAY_2']+['PAY_3']+['PAY_4']+['PAY_5']+['PAY_6']+['BILL_AMT1']+['BILL_AMT6']+['PAY_AMT1']+['PAY_AMT2']+['PAY_AMT3']+['PAY_AMT4']+['PAY_AMT5']+['PAY_AMT6']])\n",
        "A1.fit()\n",
        "print(A1.fit().summary())"
      ],
      "metadata": {
        "colab": {
          "base_uri": "https://localhost:8080/"
        },
        "id": "YQOUs5tZv0JI",
        "outputId": "f9f411b2-ac72-48cc-924e-a9b576b93cc9"
      },
      "execution_count": null,
      "outputs": [
        {
          "output_type": "stream",
          "name": "stdout",
          "text": [
            "Optimization terminated successfully.\n",
            "         Current function value: 0.448804\n",
            "         Iterations 7\n",
            "Optimization terminated successfully.\n",
            "         Current function value: 0.448804\n",
            "         Iterations 7\n",
            "                               Logit Regression Results                               \n",
            "======================================================================================\n",
            "Dep. Variable:     default.payment.next.month   No. Observations:                30000\n",
            "Model:                                  Logit   Df Residuals:                    29980\n",
            "Method:                                   MLE   Df Model:                           19\n",
            "Date:                        Sun, 26 Feb 2023   Pseudo R-squ.:                  0.1507\n",
            "Time:                                17:38:52   Log-Likelihood:                -13464.\n",
            "converged:                               True   LL-Null:                       -15853.\n",
            "Covariance Type:                    nonrobust   LLR p-value:                     0.000\n",
            "==============================================================================\n",
            "                 coef    std err          z      P>|z|      [0.025      0.975]\n",
            "------------------------------------------------------------------------------\n",
            "ID         -3.733e-06   1.75e-06     -2.136      0.033   -7.16e-06   -3.07e-07\n",
            "LIMIT_BAL  -1.824e-06   1.55e-07    -11.770      0.000   -2.13e-06   -1.52e-06\n",
            "SEX           -0.2564      0.028     -9.294      0.000      -0.310      -0.202\n",
            "EDUCATION     -0.1184      0.021     -5.755      0.000      -0.159      -0.078\n",
            "MARRIAGE      -0.3490      0.024    -14.556      0.000      -0.396      -0.302\n",
            "AGE           -0.0051      0.001     -3.611      0.000      -0.008      -0.002\n",
            "PAY_1          1.2783      0.041     30.894      0.000       1.197       1.359\n",
            "PAY_2          0.1250      0.055      2.280      0.023       0.018       0.232\n",
            "PAY_3          0.3166      0.057      5.603      0.000       0.206       0.427\n",
            "PAY_4          0.2524      0.063      4.015      0.000       0.129       0.376\n",
            "PAY_5          0.2061      0.068      3.018      0.003       0.072       0.340\n",
            "PAY_6          0.3343      0.059      5.693      0.000       0.219       0.449\n",
            "BILL_AMT1    1.14e-07   4.14e-07      0.275      0.783   -6.97e-07    9.26e-07\n",
            "BILL_AMT6   2.024e-06   5.04e-07      4.015      0.000    1.04e-06    3.01e-06\n",
            "PAY_AMT1   -1.176e-05   2.95e-06     -3.984      0.000   -1.76e-05   -5.98e-06\n",
            "PAY_AMT2   -2.208e-05   3.45e-06     -6.396      0.000   -2.89e-05   -1.53e-05\n",
            "PAY_AMT3   -9.705e-06   3.03e-06     -3.200      0.001   -1.56e-05   -3.76e-06\n",
            "PAY_AMT4   -8.713e-06   2.84e-06     -3.067      0.002   -1.43e-05   -3.14e-06\n",
            "PAY_AMT5   -9.153e-06   3.03e-06     -3.019      0.003   -1.51e-05   -3.21e-06\n",
            "PAY_AMT6   -7.164e-06    2.8e-06     -2.555      0.011   -1.27e-05   -1.67e-06\n",
            "==============================================================================\n"
          ]
        }
      ]
    },
    {
      "cell_type": "markdown",
      "source": [
        "FINDING: Column BILL_AMT61 is having P-Value>0.05 hence it is not an impactful variable and thus we will drop it."
      ],
      "metadata": {
        "id": "0ijF3fpmzwq6"
      }
    },
    {
      "cell_type": "code",
      "source": [
        "A1=sm.Logit(cc_default['default.payment.next.month'],cc_default[[\"ID\"]+['LIMIT_BAL']+['SEX']+['EDUCATION']+['MARRIAGE']+['AGE']+['PAY_1']+['PAY_2']+['PAY_3']+['PAY_4']+['PAY_5']+['PAY_6']+['BILL_AMT6']+['PAY_AMT1']+['PAY_AMT2']+['PAY_AMT3']+['PAY_AMT4']+['PAY_AMT5']+['PAY_AMT6']])\n",
        "A1.fit()\n",
        "print(A1.fit().summary())"
      ],
      "metadata": {
        "colab": {
          "base_uri": "https://localhost:8080/"
        },
        "id": "YjVIJ2NPz8rA",
        "outputId": "9b7e3cb4-7aba-4bfc-96a5-4c6789731c32"
      },
      "execution_count": null,
      "outputs": [
        {
          "output_type": "stream",
          "name": "stdout",
          "text": [
            "Optimization terminated successfully.\n",
            "         Current function value: 0.448805\n",
            "         Iterations 7\n",
            "Optimization terminated successfully.\n",
            "         Current function value: 0.448805\n",
            "         Iterations 7\n",
            "                               Logit Regression Results                               \n",
            "======================================================================================\n",
            "Dep. Variable:     default.payment.next.month   No. Observations:                30000\n",
            "Model:                                  Logit   Df Residuals:                    29981\n",
            "Method:                                   MLE   Df Model:                           18\n",
            "Date:                        Sun, 26 Feb 2023   Pseudo R-squ.:                  0.1507\n",
            "Time:                                17:40:52   Log-Likelihood:                -13464.\n",
            "converged:                               True   LL-Null:                       -15853.\n",
            "Covariance Type:                    nonrobust   LLR p-value:                     0.000\n",
            "==============================================================================\n",
            "                 coef    std err          z      P>|z|      [0.025      0.975]\n",
            "------------------------------------------------------------------------------\n",
            "ID         -3.728e-06   1.75e-06     -2.133      0.033   -7.15e-06   -3.02e-07\n",
            "LIMIT_BAL  -1.822e-06   1.55e-07    -11.772      0.000   -2.13e-06   -1.52e-06\n",
            "SEX           -0.2565      0.028     -9.299      0.000      -0.311      -0.202\n",
            "EDUCATION     -0.1180      0.021     -5.749      0.000      -0.158      -0.078\n",
            "MARRIAGE      -0.3488      0.024    -14.554      0.000      -0.396      -0.302\n",
            "AGE           -0.0051      0.001     -3.604      0.000      -0.008      -0.002\n",
            "PAY_1          1.2777      0.041     30.927      0.000       1.197       1.359\n",
            "PAY_2          0.1262      0.055      2.311      0.021       0.019       0.233\n",
            "PAY_3          0.3161      0.056      5.598      0.000       0.205       0.427\n",
            "PAY_4          0.2518      0.063      4.009      0.000       0.129       0.375\n",
            "PAY_5          0.2059      0.068      3.015      0.003       0.072       0.340\n",
            "PAY_6          0.3336      0.059      5.687      0.000       0.219       0.449\n",
            "BILL_AMT6   2.124e-06   3.49e-07      6.092      0.000    1.44e-06    2.81e-06\n",
            "PAY_AMT1   -1.169e-05   2.94e-06     -3.981      0.000   -1.74e-05   -5.94e-06\n",
            "PAY_AMT2   -2.202e-05   3.44e-06     -6.399      0.000   -2.88e-05   -1.53e-05\n",
            "PAY_AMT3   -9.702e-06   3.03e-06     -3.201      0.001   -1.56e-05   -3.76e-06\n",
            "PAY_AMT4    -8.73e-06   2.84e-06     -3.074      0.002   -1.43e-05   -3.16e-06\n",
            "PAY_AMT5   -9.212e-06   3.02e-06     -3.046      0.002   -1.51e-05   -3.28e-06\n",
            "PAY_AMT6   -7.145e-06    2.8e-06     -2.549      0.011   -1.26e-05   -1.65e-06\n",
            "==============================================================================\n"
          ]
        }
      ]
    },
    {
      "cell_type": "markdown",
      "source": [
        "**Now we have all the impactful variables nad now we will rank these variables in the order of their impactfulness by considering the WALD CHISQUARE VALUE. Higher the Wald Chisquare Value the more impactful is the variable.**"
      ],
      "metadata": {
        "id": "NC7TZA7G0FEO"
      }
    },
    {
      "cell_type": "code",
      "source": [
        "A1=sm.Logit(cc_default['default.payment.next.month'],cc_default[[\"ID\"]+['LIMIT_BAL']+['SEX']+['EDUCATION']+['MARRIAGE']+['AGE']+['PAY_1']+['PAY_2']+['PAY_3']+['PAY_4']+['PAY_5']+['PAY_6']+['BILL_AMT6']+['PAY_AMT1']+['PAY_AMT2']+['PAY_AMT3']+['PAY_AMT4']+['PAY_AMT5']+['PAY_AMT6']])\n",
        "A1.fit()\n",
        "print(A1.fit().summary())"
      ],
      "metadata": {
        "colab": {
          "base_uri": "https://localhost:8080/"
        },
        "id": "-ZErCO6k0mDs",
        "outputId": "403c8ccd-8171-4a99-e7f1-b4a063574bf6"
      },
      "execution_count": null,
      "outputs": [
        {
          "output_type": "stream",
          "name": "stdout",
          "text": [
            "Optimization terminated successfully.\n",
            "         Current function value: 0.448805\n",
            "         Iterations 7\n",
            "Optimization terminated successfully.\n",
            "         Current function value: 0.448805\n",
            "         Iterations 7\n",
            "                               Logit Regression Results                               \n",
            "======================================================================================\n",
            "Dep. Variable:     default.payment.next.month   No. Observations:                30000\n",
            "Model:                                  Logit   Df Residuals:                    29981\n",
            "Method:                                   MLE   Df Model:                           18\n",
            "Date:                        Sun, 26 Feb 2023   Pseudo R-squ.:                  0.1507\n",
            "Time:                                17:44:10   Log-Likelihood:                -13464.\n",
            "converged:                               True   LL-Null:                       -15853.\n",
            "Covariance Type:                    nonrobust   LLR p-value:                     0.000\n",
            "==============================================================================\n",
            "                 coef    std err          z      P>|z|      [0.025      0.975]\n",
            "------------------------------------------------------------------------------\n",
            "ID         -3.728e-06   1.75e-06     -2.133      0.033   -7.15e-06   -3.02e-07\n",
            "LIMIT_BAL  -1.822e-06   1.55e-07    -11.772      0.000   -2.13e-06   -1.52e-06\n",
            "SEX           -0.2565      0.028     -9.299      0.000      -0.311      -0.202\n",
            "EDUCATION     -0.1180      0.021     -5.749      0.000      -0.158      -0.078\n",
            "MARRIAGE      -0.3488      0.024    -14.554      0.000      -0.396      -0.302\n",
            "AGE           -0.0051      0.001     -3.604      0.000      -0.008      -0.002\n",
            "PAY_1          1.2777      0.041     30.927      0.000       1.197       1.359\n",
            "PAY_2          0.1262      0.055      2.311      0.021       0.019       0.233\n",
            "PAY_3          0.3161      0.056      5.598      0.000       0.205       0.427\n",
            "PAY_4          0.2518      0.063      4.009      0.000       0.129       0.375\n",
            "PAY_5          0.2059      0.068      3.015      0.003       0.072       0.340\n",
            "PAY_6          0.3336      0.059      5.687      0.000       0.219       0.449\n",
            "BILL_AMT6   2.124e-06   3.49e-07      6.092      0.000    1.44e-06    2.81e-06\n",
            "PAY_AMT1   -1.169e-05   2.94e-06     -3.981      0.000   -1.74e-05   -5.94e-06\n",
            "PAY_AMT2   -2.202e-05   3.44e-06     -6.399      0.000   -2.88e-05   -1.53e-05\n",
            "PAY_AMT3   -9.702e-06   3.03e-06     -3.201      0.001   -1.56e-05   -3.76e-06\n",
            "PAY_AMT4    -8.73e-06   2.84e-06     -3.074      0.002   -1.43e-05   -3.16e-06\n",
            "PAY_AMT5   -9.212e-06   3.02e-06     -3.046      0.002   -1.51e-05   -3.28e-06\n",
            "PAY_AMT6   -7.145e-06    2.8e-06     -2.549      0.011   -1.26e-05   -1.65e-06\n",
            "==============================================================================\n"
          ]
        }
      ]
    },
    {
      "cell_type": "code",
      "source": [
        "#1.PAY_1\n",
        "#2.MARRIAGE\n",
        "#3.LIMIT_BAL\n",
        "#4.SEX\n",
        "#5.PAY_AMT2\n",
        "#6.BILL_AMT6\n",
        "#7.EDUCATION\n",
        "#8.PAY_6\n",
        "#9.PAY_3\n",
        "#10.PAY_4\n",
        "#11.PAY_AMT1\n",
        "#12.AGE\n",
        "#13.PAY_AMT3\n",
        "#14.PAY_AMT4\n",
        "#15.PAY_AMT5\n",
        "#16.PAY_5\n",
        "#17.PAY_AMT6\n",
        "#18.PAY_2\n",
        "#19.ID"
      ],
      "metadata": {
        "id": "kqvCYIIz0_R2"
      },
      "execution_count": null,
      "outputs": []
    },
    {
      "cell_type": "markdown",
      "source": [
        "## **MODEL ACCURACY after dropping variables that are less impactful**"
      ],
      "metadata": {
        "id": "Yt_OyfOe2yBu"
      }
    },
    {
      "cell_type": "code",
      "source": [
        "cc_default.drop(['BILL_AMT1','BILL_AMT2','BILL_AMT3','BILL_AMT4','BILL_AMT5'],axis=1)"
      ],
      "metadata": {
        "colab": {
          "base_uri": "https://localhost:8080/",
          "height": 467
        },
        "id": "IfdeWMTH4Dm4",
        "outputId": "42a6ff73-6cff-4593-89db-92c681d1f523"
      },
      "execution_count": null,
      "outputs": [
        {
          "output_type": "execute_result",
          "data": {
            "text/plain": [
              "          ID  LIMIT_BAL  SEX  EDUCATION  MARRIAGE  AGE  PAY_1  PAY_2  PAY_3  \\\n",
              "0          1    20000.0    2          2         1   24      1      1      0   \n",
              "1          2   120000.0    2          2         2   26      0      1      0   \n",
              "2          3    90000.0    2          2         2   34      0      0      0   \n",
              "3          4    50000.0    2          2         1   37      0      0      0   \n",
              "4          5    50000.0    1          2         1   57      0      0      0   \n",
              "...      ...        ...  ...        ...       ...  ...    ...    ...    ...   \n",
              "29995  29996   220000.0    1          3         1   39      0      0      0   \n",
              "29996  29997   150000.0    1          3         2   43      0      0      0   \n",
              "29997  29998    30000.0    1          2         2   37      1      1      1   \n",
              "29998  29999    80000.0    1          3         1   41      1      0      0   \n",
              "29999  30000    50000.0    1          2         1   46      0      0      0   \n",
              "\n",
              "       PAY_4  PAY_5  PAY_6  BILL_AMT6  PAY_AMT1  PAY_AMT2  PAY_AMT3  PAY_AMT4  \\\n",
              "0          0      0      0        0.0       0.0     689.0       0.0       0.0   \n",
              "1          0      0      1     3261.0       0.0    1000.0    1000.0    1000.0   \n",
              "2          0      0      0    15549.0    1518.0    1500.0    1000.0    1000.0   \n",
              "3          0      0      0    29547.0    2000.0    2019.0    1200.0    1100.0   \n",
              "4          0      0      0    19131.0    2000.0   36681.0   10000.0    9000.0   \n",
              "...      ...    ...    ...        ...       ...       ...       ...       ...   \n",
              "29995      0      0      0    15980.0    8500.0   20000.0    5003.0    3047.0   \n",
              "29996      0      0      0        0.0    1837.0    3526.0    8998.0     129.0   \n",
              "29997      0      0      0    19357.0       0.0       0.0   22000.0    4200.0   \n",
              "29998      0      0      0    48944.0    2100.0    3409.0    1178.0    1926.0   \n",
              "29999      0      0      0    15313.0    2078.0    1800.0    1430.0    1000.0   \n",
              "\n",
              "       PAY_AMT5  PAY_AMT6  default.payment.next.month  \n",
              "0           0.0       0.0                           1  \n",
              "1           0.0    2000.0                           1  \n",
              "2        1000.0    5000.0                           0  \n",
              "3        1069.0    1000.0                           0  \n",
              "4         689.0     679.0                           0  \n",
              "...         ...       ...                         ...  \n",
              "29995    5000.0    1000.0                           0  \n",
              "29996       0.0       0.0                           0  \n",
              "29997    2000.0    3100.0                           1  \n",
              "29998   52964.0    1804.0                           1  \n",
              "29999    1000.0    1000.0                           1  \n",
              "\n",
              "[30000 rows x 20 columns]"
            ],
            "text/html": [
              "\n",
              "  <div id=\"df-ac4be444-9dd7-49cb-8529-c77adc0b03ab\">\n",
              "    <div class=\"colab-df-container\">\n",
              "      <div>\n",
              "<style scoped>\n",
              "    .dataframe tbody tr th:only-of-type {\n",
              "        vertical-align: middle;\n",
              "    }\n",
              "\n",
              "    .dataframe tbody tr th {\n",
              "        vertical-align: top;\n",
              "    }\n",
              "\n",
              "    .dataframe thead th {\n",
              "        text-align: right;\n",
              "    }\n",
              "</style>\n",
              "<table border=\"1\" class=\"dataframe\">\n",
              "  <thead>\n",
              "    <tr style=\"text-align: right;\">\n",
              "      <th></th>\n",
              "      <th>ID</th>\n",
              "      <th>LIMIT_BAL</th>\n",
              "      <th>SEX</th>\n",
              "      <th>EDUCATION</th>\n",
              "      <th>MARRIAGE</th>\n",
              "      <th>AGE</th>\n",
              "      <th>PAY_1</th>\n",
              "      <th>PAY_2</th>\n",
              "      <th>PAY_3</th>\n",
              "      <th>PAY_4</th>\n",
              "      <th>PAY_5</th>\n",
              "      <th>PAY_6</th>\n",
              "      <th>BILL_AMT6</th>\n",
              "      <th>PAY_AMT1</th>\n",
              "      <th>PAY_AMT2</th>\n",
              "      <th>PAY_AMT3</th>\n",
              "      <th>PAY_AMT4</th>\n",
              "      <th>PAY_AMT5</th>\n",
              "      <th>PAY_AMT6</th>\n",
              "      <th>default.payment.next.month</th>\n",
              "    </tr>\n",
              "  </thead>\n",
              "  <tbody>\n",
              "    <tr>\n",
              "      <th>0</th>\n",
              "      <td>1</td>\n",
              "      <td>20000.0</td>\n",
              "      <td>2</td>\n",
              "      <td>2</td>\n",
              "      <td>1</td>\n",
              "      <td>24</td>\n",
              "      <td>1</td>\n",
              "      <td>1</td>\n",
              "      <td>0</td>\n",
              "      <td>0</td>\n",
              "      <td>0</td>\n",
              "      <td>0</td>\n",
              "      <td>0.0</td>\n",
              "      <td>0.0</td>\n",
              "      <td>689.0</td>\n",
              "      <td>0.0</td>\n",
              "      <td>0.0</td>\n",
              "      <td>0.0</td>\n",
              "      <td>0.0</td>\n",
              "      <td>1</td>\n",
              "    </tr>\n",
              "    <tr>\n",
              "      <th>1</th>\n",
              "      <td>2</td>\n",
              "      <td>120000.0</td>\n",
              "      <td>2</td>\n",
              "      <td>2</td>\n",
              "      <td>2</td>\n",
              "      <td>26</td>\n",
              "      <td>0</td>\n",
              "      <td>1</td>\n",
              "      <td>0</td>\n",
              "      <td>0</td>\n",
              "      <td>0</td>\n",
              "      <td>1</td>\n",
              "      <td>3261.0</td>\n",
              "      <td>0.0</td>\n",
              "      <td>1000.0</td>\n",
              "      <td>1000.0</td>\n",
              "      <td>1000.0</td>\n",
              "      <td>0.0</td>\n",
              "      <td>2000.0</td>\n",
              "      <td>1</td>\n",
              "    </tr>\n",
              "    <tr>\n",
              "      <th>2</th>\n",
              "      <td>3</td>\n",
              "      <td>90000.0</td>\n",
              "      <td>2</td>\n",
              "      <td>2</td>\n",
              "      <td>2</td>\n",
              "      <td>34</td>\n",
              "      <td>0</td>\n",
              "      <td>0</td>\n",
              "      <td>0</td>\n",
              "      <td>0</td>\n",
              "      <td>0</td>\n",
              "      <td>0</td>\n",
              "      <td>15549.0</td>\n",
              "      <td>1518.0</td>\n",
              "      <td>1500.0</td>\n",
              "      <td>1000.0</td>\n",
              "      <td>1000.0</td>\n",
              "      <td>1000.0</td>\n",
              "      <td>5000.0</td>\n",
              "      <td>0</td>\n",
              "    </tr>\n",
              "    <tr>\n",
              "      <th>3</th>\n",
              "      <td>4</td>\n",
              "      <td>50000.0</td>\n",
              "      <td>2</td>\n",
              "      <td>2</td>\n",
              "      <td>1</td>\n",
              "      <td>37</td>\n",
              "      <td>0</td>\n",
              "      <td>0</td>\n",
              "      <td>0</td>\n",
              "      <td>0</td>\n",
              "      <td>0</td>\n",
              "      <td>0</td>\n",
              "      <td>29547.0</td>\n",
              "      <td>2000.0</td>\n",
              "      <td>2019.0</td>\n",
              "      <td>1200.0</td>\n",
              "      <td>1100.0</td>\n",
              "      <td>1069.0</td>\n",
              "      <td>1000.0</td>\n",
              "      <td>0</td>\n",
              "    </tr>\n",
              "    <tr>\n",
              "      <th>4</th>\n",
              "      <td>5</td>\n",
              "      <td>50000.0</td>\n",
              "      <td>1</td>\n",
              "      <td>2</td>\n",
              "      <td>1</td>\n",
              "      <td>57</td>\n",
              "      <td>0</td>\n",
              "      <td>0</td>\n",
              "      <td>0</td>\n",
              "      <td>0</td>\n",
              "      <td>0</td>\n",
              "      <td>0</td>\n",
              "      <td>19131.0</td>\n",
              "      <td>2000.0</td>\n",
              "      <td>36681.0</td>\n",
              "      <td>10000.0</td>\n",
              "      <td>9000.0</td>\n",
              "      <td>689.0</td>\n",
              "      <td>679.0</td>\n",
              "      <td>0</td>\n",
              "    </tr>\n",
              "    <tr>\n",
              "      <th>...</th>\n",
              "      <td>...</td>\n",
              "      <td>...</td>\n",
              "      <td>...</td>\n",
              "      <td>...</td>\n",
              "      <td>...</td>\n",
              "      <td>...</td>\n",
              "      <td>...</td>\n",
              "      <td>...</td>\n",
              "      <td>...</td>\n",
              "      <td>...</td>\n",
              "      <td>...</td>\n",
              "      <td>...</td>\n",
              "      <td>...</td>\n",
              "      <td>...</td>\n",
              "      <td>...</td>\n",
              "      <td>...</td>\n",
              "      <td>...</td>\n",
              "      <td>...</td>\n",
              "      <td>...</td>\n",
              "      <td>...</td>\n",
              "    </tr>\n",
              "    <tr>\n",
              "      <th>29995</th>\n",
              "      <td>29996</td>\n",
              "      <td>220000.0</td>\n",
              "      <td>1</td>\n",
              "      <td>3</td>\n",
              "      <td>1</td>\n",
              "      <td>39</td>\n",
              "      <td>0</td>\n",
              "      <td>0</td>\n",
              "      <td>0</td>\n",
              "      <td>0</td>\n",
              "      <td>0</td>\n",
              "      <td>0</td>\n",
              "      <td>15980.0</td>\n",
              "      <td>8500.0</td>\n",
              "      <td>20000.0</td>\n",
              "      <td>5003.0</td>\n",
              "      <td>3047.0</td>\n",
              "      <td>5000.0</td>\n",
              "      <td>1000.0</td>\n",
              "      <td>0</td>\n",
              "    </tr>\n",
              "    <tr>\n",
              "      <th>29996</th>\n",
              "      <td>29997</td>\n",
              "      <td>150000.0</td>\n",
              "      <td>1</td>\n",
              "      <td>3</td>\n",
              "      <td>2</td>\n",
              "      <td>43</td>\n",
              "      <td>0</td>\n",
              "      <td>0</td>\n",
              "      <td>0</td>\n",
              "      <td>0</td>\n",
              "      <td>0</td>\n",
              "      <td>0</td>\n",
              "      <td>0.0</td>\n",
              "      <td>1837.0</td>\n",
              "      <td>3526.0</td>\n",
              "      <td>8998.0</td>\n",
              "      <td>129.0</td>\n",
              "      <td>0.0</td>\n",
              "      <td>0.0</td>\n",
              "      <td>0</td>\n",
              "    </tr>\n",
              "    <tr>\n",
              "      <th>29997</th>\n",
              "      <td>29998</td>\n",
              "      <td>30000.0</td>\n",
              "      <td>1</td>\n",
              "      <td>2</td>\n",
              "      <td>2</td>\n",
              "      <td>37</td>\n",
              "      <td>1</td>\n",
              "      <td>1</td>\n",
              "      <td>1</td>\n",
              "      <td>0</td>\n",
              "      <td>0</td>\n",
              "      <td>0</td>\n",
              "      <td>19357.0</td>\n",
              "      <td>0.0</td>\n",
              "      <td>0.0</td>\n",
              "      <td>22000.0</td>\n",
              "      <td>4200.0</td>\n",
              "      <td>2000.0</td>\n",
              "      <td>3100.0</td>\n",
              "      <td>1</td>\n",
              "    </tr>\n",
              "    <tr>\n",
              "      <th>29998</th>\n",
              "      <td>29999</td>\n",
              "      <td>80000.0</td>\n",
              "      <td>1</td>\n",
              "      <td>3</td>\n",
              "      <td>1</td>\n",
              "      <td>41</td>\n",
              "      <td>1</td>\n",
              "      <td>0</td>\n",
              "      <td>0</td>\n",
              "      <td>0</td>\n",
              "      <td>0</td>\n",
              "      <td>0</td>\n",
              "      <td>48944.0</td>\n",
              "      <td>2100.0</td>\n",
              "      <td>3409.0</td>\n",
              "      <td>1178.0</td>\n",
              "      <td>1926.0</td>\n",
              "      <td>52964.0</td>\n",
              "      <td>1804.0</td>\n",
              "      <td>1</td>\n",
              "    </tr>\n",
              "    <tr>\n",
              "      <th>29999</th>\n",
              "      <td>30000</td>\n",
              "      <td>50000.0</td>\n",
              "      <td>1</td>\n",
              "      <td>2</td>\n",
              "      <td>1</td>\n",
              "      <td>46</td>\n",
              "      <td>0</td>\n",
              "      <td>0</td>\n",
              "      <td>0</td>\n",
              "      <td>0</td>\n",
              "      <td>0</td>\n",
              "      <td>0</td>\n",
              "      <td>15313.0</td>\n",
              "      <td>2078.0</td>\n",
              "      <td>1800.0</td>\n",
              "      <td>1430.0</td>\n",
              "      <td>1000.0</td>\n",
              "      <td>1000.0</td>\n",
              "      <td>1000.0</td>\n",
              "      <td>1</td>\n",
              "    </tr>\n",
              "  </tbody>\n",
              "</table>\n",
              "<p>30000 rows × 20 columns</p>\n",
              "</div>\n",
              "      <button class=\"colab-df-convert\" onclick=\"convertToInteractive('df-ac4be444-9dd7-49cb-8529-c77adc0b03ab')\"\n",
              "              title=\"Convert this dataframe to an interactive table.\"\n",
              "              style=\"display:none;\">\n",
              "        \n",
              "  <svg xmlns=\"http://www.w3.org/2000/svg\" height=\"24px\"viewBox=\"0 0 24 24\"\n",
              "       width=\"24px\">\n",
              "    <path d=\"M0 0h24v24H0V0z\" fill=\"none\"/>\n",
              "    <path d=\"M18.56 5.44l.94 2.06.94-2.06 2.06-.94-2.06-.94-.94-2.06-.94 2.06-2.06.94zm-11 1L8.5 8.5l.94-2.06 2.06-.94-2.06-.94L8.5 2.5l-.94 2.06-2.06.94zm10 10l.94 2.06.94-2.06 2.06-.94-2.06-.94-.94-2.06-.94 2.06-2.06.94z\"/><path d=\"M17.41 7.96l-1.37-1.37c-.4-.4-.92-.59-1.43-.59-.52 0-1.04.2-1.43.59L10.3 9.45l-7.72 7.72c-.78.78-.78 2.05 0 2.83L4 21.41c.39.39.9.59 1.41.59.51 0 1.02-.2 1.41-.59l7.78-7.78 2.81-2.81c.8-.78.8-2.07 0-2.86zM5.41 20L4 18.59l7.72-7.72 1.47 1.35L5.41 20z\"/>\n",
              "  </svg>\n",
              "      </button>\n",
              "      \n",
              "  <style>\n",
              "    .colab-df-container {\n",
              "      display:flex;\n",
              "      flex-wrap:wrap;\n",
              "      gap: 12px;\n",
              "    }\n",
              "\n",
              "    .colab-df-convert {\n",
              "      background-color: #E8F0FE;\n",
              "      border: none;\n",
              "      border-radius: 50%;\n",
              "      cursor: pointer;\n",
              "      display: none;\n",
              "      fill: #1967D2;\n",
              "      height: 32px;\n",
              "      padding: 0 0 0 0;\n",
              "      width: 32px;\n",
              "    }\n",
              "\n",
              "    .colab-df-convert:hover {\n",
              "      background-color: #E2EBFA;\n",
              "      box-shadow: 0px 1px 2px rgba(60, 64, 67, 0.3), 0px 1px 3px 1px rgba(60, 64, 67, 0.15);\n",
              "      fill: #174EA6;\n",
              "    }\n",
              "\n",
              "    [theme=dark] .colab-df-convert {\n",
              "      background-color: #3B4455;\n",
              "      fill: #D2E3FC;\n",
              "    }\n",
              "\n",
              "    [theme=dark] .colab-df-convert:hover {\n",
              "      background-color: #434B5C;\n",
              "      box-shadow: 0px 1px 3px 1px rgba(0, 0, 0, 0.15);\n",
              "      filter: drop-shadow(0px 1px 2px rgba(0, 0, 0, 0.3));\n",
              "      fill: #FFFFFF;\n",
              "    }\n",
              "  </style>\n",
              "\n",
              "      <script>\n",
              "        const buttonEl =\n",
              "          document.querySelector('#df-ac4be444-9dd7-49cb-8529-c77adc0b03ab button.colab-df-convert');\n",
              "        buttonEl.style.display =\n",
              "          google.colab.kernel.accessAllowed ? 'block' : 'none';\n",
              "\n",
              "        async function convertToInteractive(key) {\n",
              "          const element = document.querySelector('#df-ac4be444-9dd7-49cb-8529-c77adc0b03ab');\n",
              "          const dataTable =\n",
              "            await google.colab.kernel.invokeFunction('convertToInteractive',\n",
              "                                                     [key], {});\n",
              "          if (!dataTable) return;\n",
              "\n",
              "          const docLinkHtml = 'Like what you see? Visit the ' +\n",
              "            '<a target=\"_blank\" href=https://colab.research.google.com/notebooks/data_table.ipynb>data table notebook</a>'\n",
              "            + ' to learn more about interactive tables.';\n",
              "          element.innerHTML = '';\n",
              "          dataTable['output_type'] = 'display_data';\n",
              "          await google.colab.output.renderOutput(dataTable, element);\n",
              "          const docLink = document.createElement('div');\n",
              "          docLink.innerHTML = docLinkHtml;\n",
              "          element.appendChild(docLink);\n",
              "        }\n",
              "      </script>\n",
              "    </div>\n",
              "  </div>\n",
              "  "
            ]
          },
          "metadata": {},
          "execution_count": 330
        }
      ]
    },
    {
      "cell_type": "code",
      "source": [
        "logistic1=LogisticRegression()\n",
        "logistic1.fit(cc_default[['LIMIT_BAL']+['SEX']+['EDUCATION']+['MARRIAGE']+['AGE']+['PAY_1']+['PAY_2']+['PAY_3']+['PAY_4']+['PAY_5']+['PAY_6']+['BILL_AMT6']+['PAY_AMT1']+['PAY_AMT2']+['PAY_AMT3']+['PAY_AMT4']+['PAY_AMT5']+['PAY_AMT6']],cc_default[['default.payment.next.month']])"
      ],
      "metadata": {
        "colab": {
          "base_uri": "https://localhost:8080/"
        },
        "id": "KEPTqAil4mmB",
        "outputId": "f54ed6c0-7dff-491b-99a6-864e80bb7e12"
      },
      "execution_count": null,
      "outputs": [
        {
          "output_type": "stream",
          "name": "stderr",
          "text": [
            "/usr/local/lib/python3.8/dist-packages/sklearn/utils/validation.py:993: DataConversionWarning: A column-vector y was passed when a 1d array was expected. Please change the shape of y to (n_samples, ), for example using ravel().\n",
            "  y = column_or_1d(y, warn=True)\n",
            "/usr/local/lib/python3.8/dist-packages/sklearn/linear_model/_logistic.py:814: ConvergenceWarning: lbfgs failed to converge (status=1):\n",
            "STOP: TOTAL NO. of ITERATIONS REACHED LIMIT.\n",
            "\n",
            "Increase the number of iterations (max_iter) or scale the data as shown in:\n",
            "    https://scikit-learn.org/stable/modules/preprocessing.html\n",
            "Please also refer to the documentation for alternative solver options:\n",
            "    https://scikit-learn.org/stable/modules/linear_model.html#logistic-regression\n",
            "  n_iter_i = _check_optimize_result(\n"
          ]
        },
        {
          "output_type": "execute_result",
          "data": {
            "text/plain": [
              "LogisticRegression()"
            ]
          },
          "metadata": {},
          "execution_count": 332
        }
      ]
    },
    {
      "cell_type": "code",
      "source": [
        "print(\"Intercept\", logistic1.intercept_)\n",
        "print(\"Coefficients\", logistic1.coef_)"
      ],
      "metadata": {
        "colab": {
          "base_uri": "https://localhost:8080/"
        },
        "id": "Vj49-qNo4yP1",
        "outputId": "d55219e2-abed-4068-9fa2-0183cbd3f1bb"
      },
      "execution_count": null,
      "outputs": [
        {
          "output_type": "stream",
          "name": "stdout",
          "text": [
            "Intercept [-0.00045038]\n",
            "Coefficients [[-3.06178834e-06 -7.85812610e-04 -9.98187371e-04 -8.45145498e-04\n",
            "  -1.36721551e-02  5.22147308e-04  3.93934090e-04  3.30295828e-04\n",
            "   3.11500759e-04  2.86684542e-04  2.56237380e-04  5.35499851e-06\n",
            "  -3.22583404e-05 -4.13043154e-05 -1.99190850e-05 -1.50934620e-05\n",
            "  -1.93174810e-05 -1.27952898e-05]]\n"
          ]
        }
      ]
    },
    {
      "cell_type": "code",
      "source": [
        "predict1=logistic1.predict(cc_default[['LIMIT_BAL']+['SEX']+['EDUCATION']+['MARRIAGE']+['AGE']+['PAY_1']+['PAY_2']+['PAY_3']+['PAY_4']+['PAY_5']+['PAY_6']+['BILL_AMT6']+['PAY_AMT1']+['PAY_AMT2']+['PAY_AMT3']+['PAY_AMT4']+['PAY_AMT5']+['PAY_AMT6']])\n",
        "predict1\n",
        "\n",
        "CM1=confusion_matrix(cc_default[['default.payment.next.month']],predict1)\n",
        "print(CM1)"
      ],
      "metadata": {
        "colab": {
          "base_uri": "https://localhost:8080/"
        },
        "id": "8QB2NbL82xFd",
        "outputId": "52138310-8891-418a-b15e-7bf69f157fee"
      },
      "execution_count": null,
      "outputs": [
        {
          "output_type": "stream",
          "name": "stdout",
          "text": [
            "[[23362     2]\n",
            " [ 6634     2]]\n"
          ]
        }
      ]
    },
    {
      "cell_type": "code",
      "source": [
        "print(\"col sums\", sum(CM1))\n",
        "total1=sum(sum(CM1))\n",
        "print(\"Total\", total1)"
      ],
      "metadata": {
        "colab": {
          "base_uri": "https://localhost:8080/"
        },
        "id": "DOSqdup75C7F",
        "outputId": "54f8c019-84d6-461e-b1fd-5fa1b4add008"
      },
      "execution_count": null,
      "outputs": [
        {
          "output_type": "stream",
          "name": "stdout",
          "text": [
            "col sums [29996     4]\n",
            "Total 30000\n"
          ]
        }
      ]
    },
    {
      "cell_type": "code",
      "source": [
        "Accuracy1=(CM1[0,0]+CM1[1,1])/total1\n",
        "Accuracy1"
      ],
      "metadata": {
        "colab": {
          "base_uri": "https://localhost:8080/"
        },
        "id": "QH6tjDbV5Dof",
        "outputId": "b200442a-11bc-4303-a6e6-d204206c3cef"
      },
      "execution_count": null,
      "outputs": [
        {
          "output_type": "execute_result",
          "data": {
            "text/plain": [
              "0.7788"
            ]
          },
          "metadata": {},
          "execution_count": 337
        }
      ]
    },
    {
      "cell_type": "markdown",
      "source": [
        "# Model  Deployment\n",
        "## Optional step"
      ],
      "metadata": {
        "id": "CWYNRwm2vlDs"
      }
    },
    {
      "cell_type": "code",
      "source": [],
      "metadata": {
        "id": "Ayj2wEGdtstC"
      },
      "execution_count": null,
      "outputs": []
    },
    {
      "cell_type": "code",
      "source": [],
      "metadata": {
        "id": "ubQzEKTHvsUu"
      },
      "execution_count": null,
      "outputs": []
    },
    {
      "cell_type": "code",
      "source": [],
      "metadata": {
        "id": "456tAxZGvsYJ"
      },
      "execution_count": null,
      "outputs": []
    }
  ]
}