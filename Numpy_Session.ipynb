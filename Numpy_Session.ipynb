{
  "nbformat": 4,
  "nbformat_minor": 0,
  "metadata": {
    "colab": {
      "provenance": [],
      "include_colab_link": true
    },
    "kernelspec": {
      "name": "python3",
      "display_name": "Python 3"
    },
    "language_info": {
      "name": "python"
    }
  },
  "cells": [
    {
      "cell_type": "markdown",
      "metadata": {
        "id": "view-in-github",
        "colab_type": "text"
      },
      "source": [
        "<a href=\"https://colab.research.google.com/github/tariqzia5/Python_P/blob/main/Numpy_Session.ipynb\" target=\"_parent\"><img src=\"https://colab.research.google.com/assets/colab-badge.svg\" alt=\"Open In Colab\"/></a>"
      ]
    },
    {
      "cell_type": "code",
      "source": [
        "import numpy as np"
      ],
      "metadata": {
        "id": "8Vxb9pl49kw_"
      },
      "execution_count": null,
      "outputs": []
    },
    {
      "cell_type": "code",
      "source": [
        "income=x.array([1200,1300,1400,1500,1600,1700])"
      ],
      "metadata": {
        "id": "pTTEbBXmArM6"
      },
      "execution_count": null,
      "outputs": []
    },
    {
      "cell_type": "code",
      "source": [
        "print(type(income))"
      ],
      "metadata": {
        "colab": {
          "base_uri": "https://localhost:8080/"
        },
        "id": "aNbXbLo4A3qU",
        "outputId": "d9a6b977-a119-40d1-d78b-11b741de2aa5"
      },
      "execution_count": null,
      "outputs": [
        {
          "output_type": "stream",
          "name": "stdout",
          "text": [
            "<class 'numpy.ndarray'>\n"
          ]
        }
      ]
    },
    {
      "cell_type": "code",
      "source": [
        "income1=[2000,3000,4000]"
      ],
      "metadata": {
        "id": "B2GN1NalA9fN"
      },
      "execution_count": null,
      "outputs": []
    },
    {
      "cell_type": "code",
      "source": [
        "income1_arrray=np.array(income1)"
      ],
      "metadata": {
        "id": "pY1eah5xBFi0"
      },
      "execution_count": null,
      "outputs": []
    },
    {
      "cell_type": "code",
      "source": [
        "print(type(income1_arrray))"
      ],
      "metadata": {
        "colab": {
          "base_uri": "https://localhost:8080/"
        },
        "id": "1EzV0K_SBKpJ",
        "outputId": "d25fdb62-3ccb-4209-fcc6-44af26dd9b1c"
      },
      "execution_count": null,
      "outputs": [
        {
          "output_type": "stream",
          "name": "stdout",
          "text": [
            "<class 'numpy.ndarray'>\n"
          ]
        }
      ]
    },
    {
      "cell_type": "markdown",
      "source": [
        "# What is the difference between list and array"
      ],
      "metadata": {
        "id": "zOfkvthxBV-t"
      }
    },
    {
      "cell_type": "code",
      "source": [
        "list1=[1,2,3]\n",
        "list2=[4,5,6]"
      ],
      "metadata": {
        "id": "E8iJudY0Bcw2"
      },
      "execution_count": null,
      "outputs": []
    },
    {
      "cell_type": "code",
      "source": [
        "arr1=np.array([1,2,3])\n",
        "arr2=np.array([4,5,6])"
      ],
      "metadata": {
        "id": "mGP4LiatBjax"
      },
      "execution_count": null,
      "outputs": []
    },
    {
      "cell_type": "code",
      "source": [
        "arr1+arr2"
      ],
      "metadata": {
        "colab": {
          "base_uri": "https://localhost:8080/"
        },
        "id": "UsXcliO8BqVn",
        "outputId": "453078a9-66a2-423f-be87-734ae137f06f"
      },
      "execution_count": null,
      "outputs": [
        {
          "output_type": "execute_result",
          "data": {
            "text/plain": [
              "array([5, 7, 9])"
            ]
          },
          "metadata": {},
          "execution_count": 22
        }
      ]
    },
    {
      "cell_type": "code",
      "source": [
        "list1+list2"
      ],
      "metadata": {
        "colab": {
          "base_uri": "https://localhost:8080/"
        },
        "id": "YqUB0TVWB0cg",
        "outputId": "9ed9600d-9e02-497c-89f3-9ce74b5c2fa9"
      },
      "execution_count": null,
      "outputs": [
        {
          "output_type": "execute_result",
          "data": {
            "text/plain": [
              "[1, 2, 3, 4, 5, 6]"
            ]
          },
          "metadata": {},
          "execution_count": 23
        }
      ]
    },
    {
      "cell_type": "markdown",
      "source": [
        "## Another importane difference between list and array"
      ],
      "metadata": {
        "id": "7BkWuVb0B_jo"
      }
    },
    {
      "cell_type": "code",
      "source": [
        "a=np.array([1,2,3,4])"
      ],
      "metadata": {
        "id": "TRiiI_ZUB9pQ"
      },
      "execution_count": null,
      "outputs": []
    },
    {
      "cell_type": "code",
      "source": [
        "a"
      ],
      "metadata": {
        "colab": {
          "base_uri": "https://localhost:8080/"
        },
        "id": "6sdgTcG2CPwY",
        "outputId": "a0ba21db-8f42-48dc-9a4a-8f061b17974a"
      },
      "execution_count": null,
      "outputs": [
        {
          "output_type": "execute_result",
          "data": {
            "text/plain": [
              "array([1, 2, 3, 4])"
            ]
          },
          "metadata": {},
          "execution_count": 25
        }
      ]
    },
    {
      "cell_type": "code",
      "source": [
        "a1=np.array([1,2,3,4,'a'])"
      ],
      "metadata": {
        "id": "dNjOPnaUCS2G"
      },
      "execution_count": null,
      "outputs": []
    },
    {
      "cell_type": "code",
      "source": [
        "a1"
      ],
      "metadata": {
        "colab": {
          "base_uri": "https://localhost:8080/"
        },
        "id": "e9yOM3E1CXiB",
        "outputId": "c0d64b40-e11c-4230-816a-db28a73cc8d6"
      },
      "execution_count": null,
      "outputs": [
        {
          "output_type": "execute_result",
          "data": {
            "text/plain": [
              "array(['1', '2', '3', '4', 'a'], dtype='<U21')"
            ]
          },
          "metadata": {},
          "execution_count": 28
        }
      ]
    },
    {
      "cell_type": "code",
      "source": [
        "income=np.array([1200,1300,1400,1500,1600,1700])"
      ],
      "metadata": {
        "id": "mSjHlipYDAnR"
      },
      "execution_count": null,
      "outputs": []
    },
    {
      "cell_type": "code",
      "source": [
        "expenses=income*0.5"
      ],
      "metadata": {
        "id": "1-VHMPExDDja"
      },
      "execution_count": null,
      "outputs": []
    },
    {
      "cell_type": "code",
      "source": [
        "expenses"
      ],
      "metadata": {
        "colab": {
          "base_uri": "https://localhost:8080/"
        },
        "id": "yCRbrbk-DIwT",
        "outputId": "c69dbd84-6f1b-4bfa-a53c-5384360d8300"
      },
      "execution_count": null,
      "outputs": [
        {
          "output_type": "execute_result",
          "data": {
            "text/plain": [
              "array([600., 650., 700., 750., 800., 850.])"
            ]
          },
          "metadata": {},
          "execution_count": 31
        }
      ]
    },
    {
      "cell_type": "code",
      "source": [
        "savings=income-expenses"
      ],
      "metadata": {
        "id": "Hds7KGMIDMiD"
      },
      "execution_count": null,
      "outputs": []
    },
    {
      "cell_type": "code",
      "source": [
        "savings"
      ],
      "metadata": {
        "colab": {
          "base_uri": "https://localhost:8080/"
        },
        "id": "5SXj1VzlDPrN",
        "outputId": "cde350d6-a818-46c9-c9be-db0f7eb918e9"
      },
      "execution_count": null,
      "outputs": [
        {
          "output_type": "execute_result",
          "data": {
            "text/plain": [
              "array([600., 650., 700., 750., 800., 850.])"
            ]
          },
          "metadata": {},
          "execution_count": 33
        }
      ]
    },
    {
      "cell_type": "markdown",
      "source": [
        "# N-Dimensional Arrays"
      ],
      "metadata": {
        "id": "Tkj2F59jCpXL"
      }
    },
    {
      "cell_type": "code",
      "source": [
        "a=np.array([12,24,45,56])"
      ],
      "metadata": {
        "id": "5Cs4LAogDWUt"
      },
      "execution_count": null,
      "outputs": []
    },
    {
      "cell_type": "code",
      "source": [
        "array_2=np.array([[12,23,45],[34,56,67]])\n",
        "array_2"
      ],
      "metadata": {
        "colab": {
          "base_uri": "https://localhost:8080/"
        },
        "id": "R1j7Zgx8DdhG",
        "outputId": "98530feb-23e5-436f-bcea-355925fa16be"
      },
      "execution_count": null,
      "outputs": [
        {
          "output_type": "execute_result",
          "data": {
            "text/plain": [
              "array([[12, 23, 45],\n",
              "       [34, 56, 67]])"
            ]
          },
          "metadata": {},
          "execution_count": 36
        }
      ]
    },
    {
      "cell_type": "code",
      "source": [
        "array_3=np.array([[[1,2,3,4,5]]])"
      ],
      "metadata": {
        "id": "smY70JP7EwI4"
      },
      "execution_count": null,
      "outputs": []
    },
    {
      "cell_type": "code",
      "source": [
        "array_3.ndim"
      ],
      "metadata": {
        "colab": {
          "base_uri": "https://localhost:8080/"
        },
        "id": "-POfS-1AE018",
        "outputId": "fddedd8e-ee5d-472b-a374-d13bd2b3bb47"
      },
      "execution_count": null,
      "outputs": [
        {
          "output_type": "execute_result",
          "data": {
            "text/plain": [
              "3"
            ]
          },
          "metadata": {},
          "execution_count": 42
        }
      ]
    },
    {
      "cell_type": "markdown",
      "source": [
        "# How to know the size,shape and dimension of the array"
      ],
      "metadata": {
        "id": "6xrslsu9D2kG"
      }
    },
    {
      "cell_type": "code",
      "source": [
        "#How to see the shape\n",
        "a.shape"
      ],
      "metadata": {
        "colab": {
          "base_uri": "https://localhost:8080/"
        },
        "id": "2Q7aghb4D08i",
        "outputId": "a67dd5fe-7945-405e-b6d4-7f644f05546e"
      },
      "execution_count": null,
      "outputs": [
        {
          "output_type": "execute_result",
          "data": {
            "text/plain": [
              "(4,)"
            ]
          },
          "metadata": {},
          "execution_count": 37
        }
      ]
    },
    {
      "cell_type": "code",
      "source": [
        "array_2.shape"
      ],
      "metadata": {
        "colab": {
          "base_uri": "https://localhost:8080/"
        },
        "id": "pbhKOxcPEErS",
        "outputId": "8021bc24-e564-4872-f7ee-45956c5fcd72"
      },
      "execution_count": null,
      "outputs": [
        {
          "output_type": "execute_result",
          "data": {
            "text/plain": [
              "(2, 3)"
            ]
          },
          "metadata": {},
          "execution_count": 38
        }
      ]
    },
    {
      "cell_type": "code",
      "source": [
        "#How to get the size of array\n",
        "array_2.size"
      ],
      "metadata": {
        "colab": {
          "base_uri": "https://localhost:8080/"
        },
        "id": "hYj0EV7_ELxn",
        "outputId": "d48633ff-fe03-4024-99eb-2638874a52ef"
      },
      "execution_count": null,
      "outputs": [
        {
          "output_type": "execute_result",
          "data": {
            "text/plain": [
              "6"
            ]
          },
          "metadata": {},
          "execution_count": 39
        }
      ]
    },
    {
      "cell_type": "code",
      "source": [
        "#How to get the dimension of array\n",
        "array_2.ndim"
      ],
      "metadata": {
        "colab": {
          "base_uri": "https://localhost:8080/"
        },
        "id": "iPSR4YUxEYvD",
        "outputId": "60f76100-4a09-4f2f-d22f-6e711b359ca2"
      },
      "execution_count": null,
      "outputs": [
        {
          "output_type": "execute_result",
          "data": {
            "text/plain": [
              "2"
            ]
          },
          "metadata": {},
          "execution_count": 40
        }
      ]
    },
    {
      "cell_type": "markdown",
      "source": [
        "# Real time use of arrays"
      ],
      "metadata": {
        "id": "8LPttHk4GT8n"
      }
    },
    {
      "cell_type": "code",
      "source": [
        "import pandas as pd\n",
        "bank=pd.read_csv(\"https://raw.githubusercontent.com/venkatareddykonasani/Datasets/master/Bank%20Tele%20Marketing/bank_market.csv\")"
      ],
      "metadata": {
        "id": "8cacLSxlGWhz"
      },
      "execution_count": null,
      "outputs": []
    },
    {
      "cell_type": "code",
      "source": [
        "bank"
      ],
      "metadata": {
        "colab": {
          "base_uri": "https://localhost:8080/",
          "height": 424
        },
        "id": "m48gI4sJGZ2z",
        "outputId": "5e3fb60a-035c-486e-cb45-9d5b7470df91"
      },
      "execution_count": null,
      "outputs": [
        {
          "output_type": "execute_result",
          "data": {
            "text/plain": [
              "       Cust_num  age           job   marital  education default  balance  \\\n",
              "0             1   58    management   married   tertiary      no     2143   \n",
              "1             2   44    technician    single  secondary      no       29   \n",
              "2             3   33  entrepreneur   married  secondary      no        2   \n",
              "3             4   47   blue-collar   married    unknown      no     1506   \n",
              "4             5   33       unknown    single    unknown      no        1   \n",
              "...         ...  ...           ...       ...        ...     ...      ...   \n",
              "45206     45207   51    technician   married   tertiary      no      825   \n",
              "45207     45208   71       retired  divorced    primary      no     1729   \n",
              "45208     45209   72       retired   married  secondary      no     5715   \n",
              "45209     45210   57   blue-collar   married  secondary      no      668   \n",
              "45210     45211   37  entrepreneur   married  secondary      no     2971   \n",
              "\n",
              "      housing loan    contact  day month  duration  campaign  pdays  previous  \\\n",
              "0         yes   no    unknown    5   may       261         1     -1         0   \n",
              "1         yes   no    unknown    5   may       151         1     -1         0   \n",
              "2         yes  yes    unknown    5   may        76         1     -1         0   \n",
              "3         yes   no    unknown    5   may        92         1     -1         0   \n",
              "4          no   no    unknown    5   may       198         1     -1         0   \n",
              "...       ...  ...        ...  ...   ...       ...       ...    ...       ...   \n",
              "45206      no   no   cellular   17   nov       977         3     -1         0   \n",
              "45207      no   no   cellular   17   nov       456         2     -1         0   \n",
              "45208      no   no   cellular   17   nov      1127         5    184         3   \n",
              "45209      no   no  telephone   17   nov       508         4     -1         0   \n",
              "45210      no   no   cellular   17   nov       361         2    188        11   \n",
              "\n",
              "      poutcome    y  \n",
              "0      unknown   no  \n",
              "1      unknown   no  \n",
              "2      unknown   no  \n",
              "3      unknown   no  \n",
              "4      unknown   no  \n",
              "...        ...  ...  \n",
              "45206  unknown  yes  \n",
              "45207  unknown  yes  \n",
              "45208  success  yes  \n",
              "45209  unknown   no  \n",
              "45210    other   no  \n",
              "\n",
              "[45211 rows x 18 columns]"
            ],
            "text/html": [
              "\n",
              "  <div id=\"df-f55ae77e-4709-46f0-9a76-92ff3d99cd46\">\n",
              "    <div class=\"colab-df-container\">\n",
              "      <div>\n",
              "<style scoped>\n",
              "    .dataframe tbody tr th:only-of-type {\n",
              "        vertical-align: middle;\n",
              "    }\n",
              "\n",
              "    .dataframe tbody tr th {\n",
              "        vertical-align: top;\n",
              "    }\n",
              "\n",
              "    .dataframe thead th {\n",
              "        text-align: right;\n",
              "    }\n",
              "</style>\n",
              "<table border=\"1\" class=\"dataframe\">\n",
              "  <thead>\n",
              "    <tr style=\"text-align: right;\">\n",
              "      <th></th>\n",
              "      <th>Cust_num</th>\n",
              "      <th>age</th>\n",
              "      <th>job</th>\n",
              "      <th>marital</th>\n",
              "      <th>education</th>\n",
              "      <th>default</th>\n",
              "      <th>balance</th>\n",
              "      <th>housing</th>\n",
              "      <th>loan</th>\n",
              "      <th>contact</th>\n",
              "      <th>day</th>\n",
              "      <th>month</th>\n",
              "      <th>duration</th>\n",
              "      <th>campaign</th>\n",
              "      <th>pdays</th>\n",
              "      <th>previous</th>\n",
              "      <th>poutcome</th>\n",
              "      <th>y</th>\n",
              "    </tr>\n",
              "  </thead>\n",
              "  <tbody>\n",
              "    <tr>\n",
              "      <th>0</th>\n",
              "      <td>1</td>\n",
              "      <td>58</td>\n",
              "      <td>management</td>\n",
              "      <td>married</td>\n",
              "      <td>tertiary</td>\n",
              "      <td>no</td>\n",
              "      <td>2143</td>\n",
              "      <td>yes</td>\n",
              "      <td>no</td>\n",
              "      <td>unknown</td>\n",
              "      <td>5</td>\n",
              "      <td>may</td>\n",
              "      <td>261</td>\n",
              "      <td>1</td>\n",
              "      <td>-1</td>\n",
              "      <td>0</td>\n",
              "      <td>unknown</td>\n",
              "      <td>no</td>\n",
              "    </tr>\n",
              "    <tr>\n",
              "      <th>1</th>\n",
              "      <td>2</td>\n",
              "      <td>44</td>\n",
              "      <td>technician</td>\n",
              "      <td>single</td>\n",
              "      <td>secondary</td>\n",
              "      <td>no</td>\n",
              "      <td>29</td>\n",
              "      <td>yes</td>\n",
              "      <td>no</td>\n",
              "      <td>unknown</td>\n",
              "      <td>5</td>\n",
              "      <td>may</td>\n",
              "      <td>151</td>\n",
              "      <td>1</td>\n",
              "      <td>-1</td>\n",
              "      <td>0</td>\n",
              "      <td>unknown</td>\n",
              "      <td>no</td>\n",
              "    </tr>\n",
              "    <tr>\n",
              "      <th>2</th>\n",
              "      <td>3</td>\n",
              "      <td>33</td>\n",
              "      <td>entrepreneur</td>\n",
              "      <td>married</td>\n",
              "      <td>secondary</td>\n",
              "      <td>no</td>\n",
              "      <td>2</td>\n",
              "      <td>yes</td>\n",
              "      <td>yes</td>\n",
              "      <td>unknown</td>\n",
              "      <td>5</td>\n",
              "      <td>may</td>\n",
              "      <td>76</td>\n",
              "      <td>1</td>\n",
              "      <td>-1</td>\n",
              "      <td>0</td>\n",
              "      <td>unknown</td>\n",
              "      <td>no</td>\n",
              "    </tr>\n",
              "    <tr>\n",
              "      <th>3</th>\n",
              "      <td>4</td>\n",
              "      <td>47</td>\n",
              "      <td>blue-collar</td>\n",
              "      <td>married</td>\n",
              "      <td>unknown</td>\n",
              "      <td>no</td>\n",
              "      <td>1506</td>\n",
              "      <td>yes</td>\n",
              "      <td>no</td>\n",
              "      <td>unknown</td>\n",
              "      <td>5</td>\n",
              "      <td>may</td>\n",
              "      <td>92</td>\n",
              "      <td>1</td>\n",
              "      <td>-1</td>\n",
              "      <td>0</td>\n",
              "      <td>unknown</td>\n",
              "      <td>no</td>\n",
              "    </tr>\n",
              "    <tr>\n",
              "      <th>4</th>\n",
              "      <td>5</td>\n",
              "      <td>33</td>\n",
              "      <td>unknown</td>\n",
              "      <td>single</td>\n",
              "      <td>unknown</td>\n",
              "      <td>no</td>\n",
              "      <td>1</td>\n",
              "      <td>no</td>\n",
              "      <td>no</td>\n",
              "      <td>unknown</td>\n",
              "      <td>5</td>\n",
              "      <td>may</td>\n",
              "      <td>198</td>\n",
              "      <td>1</td>\n",
              "      <td>-1</td>\n",
              "      <td>0</td>\n",
              "      <td>unknown</td>\n",
              "      <td>no</td>\n",
              "    </tr>\n",
              "    <tr>\n",
              "      <th>...</th>\n",
              "      <td>...</td>\n",
              "      <td>...</td>\n",
              "      <td>...</td>\n",
              "      <td>...</td>\n",
              "      <td>...</td>\n",
              "      <td>...</td>\n",
              "      <td>...</td>\n",
              "      <td>...</td>\n",
              "      <td>...</td>\n",
              "      <td>...</td>\n",
              "      <td>...</td>\n",
              "      <td>...</td>\n",
              "      <td>...</td>\n",
              "      <td>...</td>\n",
              "      <td>...</td>\n",
              "      <td>...</td>\n",
              "      <td>...</td>\n",
              "      <td>...</td>\n",
              "    </tr>\n",
              "    <tr>\n",
              "      <th>45206</th>\n",
              "      <td>45207</td>\n",
              "      <td>51</td>\n",
              "      <td>technician</td>\n",
              "      <td>married</td>\n",
              "      <td>tertiary</td>\n",
              "      <td>no</td>\n",
              "      <td>825</td>\n",
              "      <td>no</td>\n",
              "      <td>no</td>\n",
              "      <td>cellular</td>\n",
              "      <td>17</td>\n",
              "      <td>nov</td>\n",
              "      <td>977</td>\n",
              "      <td>3</td>\n",
              "      <td>-1</td>\n",
              "      <td>0</td>\n",
              "      <td>unknown</td>\n",
              "      <td>yes</td>\n",
              "    </tr>\n",
              "    <tr>\n",
              "      <th>45207</th>\n",
              "      <td>45208</td>\n",
              "      <td>71</td>\n",
              "      <td>retired</td>\n",
              "      <td>divorced</td>\n",
              "      <td>primary</td>\n",
              "      <td>no</td>\n",
              "      <td>1729</td>\n",
              "      <td>no</td>\n",
              "      <td>no</td>\n",
              "      <td>cellular</td>\n",
              "      <td>17</td>\n",
              "      <td>nov</td>\n",
              "      <td>456</td>\n",
              "      <td>2</td>\n",
              "      <td>-1</td>\n",
              "      <td>0</td>\n",
              "      <td>unknown</td>\n",
              "      <td>yes</td>\n",
              "    </tr>\n",
              "    <tr>\n",
              "      <th>45208</th>\n",
              "      <td>45209</td>\n",
              "      <td>72</td>\n",
              "      <td>retired</td>\n",
              "      <td>married</td>\n",
              "      <td>secondary</td>\n",
              "      <td>no</td>\n",
              "      <td>5715</td>\n",
              "      <td>no</td>\n",
              "      <td>no</td>\n",
              "      <td>cellular</td>\n",
              "      <td>17</td>\n",
              "      <td>nov</td>\n",
              "      <td>1127</td>\n",
              "      <td>5</td>\n",
              "      <td>184</td>\n",
              "      <td>3</td>\n",
              "      <td>success</td>\n",
              "      <td>yes</td>\n",
              "    </tr>\n",
              "    <tr>\n",
              "      <th>45209</th>\n",
              "      <td>45210</td>\n",
              "      <td>57</td>\n",
              "      <td>blue-collar</td>\n",
              "      <td>married</td>\n",
              "      <td>secondary</td>\n",
              "      <td>no</td>\n",
              "      <td>668</td>\n",
              "      <td>no</td>\n",
              "      <td>no</td>\n",
              "      <td>telephone</td>\n",
              "      <td>17</td>\n",
              "      <td>nov</td>\n",
              "      <td>508</td>\n",
              "      <td>4</td>\n",
              "      <td>-1</td>\n",
              "      <td>0</td>\n",
              "      <td>unknown</td>\n",
              "      <td>no</td>\n",
              "    </tr>\n",
              "    <tr>\n",
              "      <th>45210</th>\n",
              "      <td>45211</td>\n",
              "      <td>37</td>\n",
              "      <td>entrepreneur</td>\n",
              "      <td>married</td>\n",
              "      <td>secondary</td>\n",
              "      <td>no</td>\n",
              "      <td>2971</td>\n",
              "      <td>no</td>\n",
              "      <td>no</td>\n",
              "      <td>cellular</td>\n",
              "      <td>17</td>\n",
              "      <td>nov</td>\n",
              "      <td>361</td>\n",
              "      <td>2</td>\n",
              "      <td>188</td>\n",
              "      <td>11</td>\n",
              "      <td>other</td>\n",
              "      <td>no</td>\n",
              "    </tr>\n",
              "  </tbody>\n",
              "</table>\n",
              "<p>45211 rows × 18 columns</p>\n",
              "</div>\n",
              "      <button class=\"colab-df-convert\" onclick=\"convertToInteractive('df-f55ae77e-4709-46f0-9a76-92ff3d99cd46')\"\n",
              "              title=\"Convert this dataframe to an interactive table.\"\n",
              "              style=\"display:none;\">\n",
              "        \n",
              "  <svg xmlns=\"http://www.w3.org/2000/svg\" height=\"24px\"viewBox=\"0 0 24 24\"\n",
              "       width=\"24px\">\n",
              "    <path d=\"M0 0h24v24H0V0z\" fill=\"none\"/>\n",
              "    <path d=\"M18.56 5.44l.94 2.06.94-2.06 2.06-.94-2.06-.94-.94-2.06-.94 2.06-2.06.94zm-11 1L8.5 8.5l.94-2.06 2.06-.94-2.06-.94L8.5 2.5l-.94 2.06-2.06.94zm10 10l.94 2.06.94-2.06 2.06-.94-2.06-.94-.94-2.06-.94 2.06-2.06.94z\"/><path d=\"M17.41 7.96l-1.37-1.37c-.4-.4-.92-.59-1.43-.59-.52 0-1.04.2-1.43.59L10.3 9.45l-7.72 7.72c-.78.78-.78 2.05 0 2.83L4 21.41c.39.39.9.59 1.41.59.51 0 1.02-.2 1.41-.59l7.78-7.78 2.81-2.81c.8-.78.8-2.07 0-2.86zM5.41 20L4 18.59l7.72-7.72 1.47 1.35L5.41 20z\"/>\n",
              "  </svg>\n",
              "      </button>\n",
              "      \n",
              "  <style>\n",
              "    .colab-df-container {\n",
              "      display:flex;\n",
              "      flex-wrap:wrap;\n",
              "      gap: 12px;\n",
              "    }\n",
              "\n",
              "    .colab-df-convert {\n",
              "      background-color: #E8F0FE;\n",
              "      border: none;\n",
              "      border-radius: 50%;\n",
              "      cursor: pointer;\n",
              "      display: none;\n",
              "      fill: #1967D2;\n",
              "      height: 32px;\n",
              "      padding: 0 0 0 0;\n",
              "      width: 32px;\n",
              "    }\n",
              "\n",
              "    .colab-df-convert:hover {\n",
              "      background-color: #E2EBFA;\n",
              "      box-shadow: 0px 1px 2px rgba(60, 64, 67, 0.3), 0px 1px 3px 1px rgba(60, 64, 67, 0.15);\n",
              "      fill: #174EA6;\n",
              "    }\n",
              "\n",
              "    [theme=dark] .colab-df-convert {\n",
              "      background-color: #3B4455;\n",
              "      fill: #D2E3FC;\n",
              "    }\n",
              "\n",
              "    [theme=dark] .colab-df-convert:hover {\n",
              "      background-color: #434B5C;\n",
              "      box-shadow: 0px 1px 3px 1px rgba(0, 0, 0, 0.15);\n",
              "      filter: drop-shadow(0px 1px 2px rgba(0, 0, 0, 0.3));\n",
              "      fill: #FFFFFF;\n",
              "    }\n",
              "  </style>\n",
              "\n",
              "      <script>\n",
              "        const buttonEl =\n",
              "          document.querySelector('#df-f55ae77e-4709-46f0-9a76-92ff3d99cd46 button.colab-df-convert');\n",
              "        buttonEl.style.display =\n",
              "          google.colab.kernel.accessAllowed ? 'block' : 'none';\n",
              "\n",
              "        async function convertToInteractive(key) {\n",
              "          const element = document.querySelector('#df-f55ae77e-4709-46f0-9a76-92ff3d99cd46');\n",
              "          const dataTable =\n",
              "            await google.colab.kernel.invokeFunction('convertToInteractive',\n",
              "                                                     [key], {});\n",
              "          if (!dataTable) return;\n",
              "\n",
              "          const docLinkHtml = 'Like what you see? Visit the ' +\n",
              "            '<a target=\"_blank\" href=https://colab.research.google.com/notebooks/data_table.ipynb>data table notebook</a>'\n",
              "            + ' to learn more about interactive tables.';\n",
              "          element.innerHTML = '';\n",
              "          dataTable['output_type'] = 'display_data';\n",
              "          await google.colab.output.renderOutput(dataTable, element);\n",
              "          const docLink = document.createElement('div');\n",
              "          docLink.innerHTML = docLinkHtml;\n",
              "          element.appendChild(docLink);\n",
              "        }\n",
              "      </script>\n",
              "    </div>\n",
              "  </div>\n",
              "  "
            ]
          },
          "metadata": {},
          "execution_count": 34
        }
      ]
    },
    {
      "cell_type": "code",
      "source": [
        "bank.info()"
      ],
      "metadata": {
        "colab": {
          "base_uri": "https://localhost:8080/"
        },
        "id": "Ljanx8RAGy46",
        "outputId": "d12f3294-8f86-4deb-8d90-4a73476e15df"
      },
      "execution_count": null,
      "outputs": [
        {
          "output_type": "stream",
          "name": "stdout",
          "text": [
            "<class 'pandas.core.frame.DataFrame'>\n",
            "RangeIndex: 45211 entries, 0 to 45210\n",
            "Data columns (total 18 columns):\n",
            " #   Column     Non-Null Count  Dtype \n",
            "---  ------     --------------  ----- \n",
            " 0   Cust_num   45211 non-null  int64 \n",
            " 1   age        45211 non-null  int64 \n",
            " 2   job        45211 non-null  object\n",
            " 3   marital    45211 non-null  object\n",
            " 4   education  45211 non-null  object\n",
            " 5   default    45211 non-null  object\n",
            " 6   balance    45211 non-null  int64 \n",
            " 7   housing    45211 non-null  object\n",
            " 8   loan       45211 non-null  object\n",
            " 9   contact    45211 non-null  object\n",
            " 10  day        45211 non-null  int64 \n",
            " 11  month      45211 non-null  object\n",
            " 12  duration   45211 non-null  int64 \n",
            " 13  campaign   45211 non-null  int64 \n",
            " 14  pdays      45211 non-null  int64 \n",
            " 15  previous   45211 non-null  int64 \n",
            " 16  poutcome   45211 non-null  object\n",
            " 17  y          45211 non-null  object\n",
            "dtypes: int64(8), object(10)\n",
            "memory usage: 6.2+ MB\n"
          ]
        }
      ]
    },
    {
      "cell_type": "code",
      "source": [
        "age_var=np.array(bank[\"age\"])"
      ],
      "metadata": {
        "id": "QtmfBc3IG6PK"
      },
      "execution_count": null,
      "outputs": []
    },
    {
      "cell_type": "code",
      "source": [
        "type(age_var)"
      ],
      "metadata": {
        "colab": {
          "base_uri": "https://localhost:8080/"
        },
        "id": "xXAiA_L5HGzT",
        "outputId": "c81a61f5-a3dd-4a16-9944-156bd725420e"
      },
      "execution_count": null,
      "outputs": [
        {
          "output_type": "execute_result",
          "data": {
            "text/plain": [
              "numpy.ndarray"
            ]
          },
          "metadata": {},
          "execution_count": 52
        }
      ]
    },
    {
      "cell_type": "code",
      "source": [
        "age_var.ndim"
      ],
      "metadata": {
        "colab": {
          "base_uri": "https://localhost:8080/"
        },
        "id": "X2l9LsaUHLfy",
        "outputId": "3477f968-04ab-42dc-eead-b96d41a6f524"
      },
      "execution_count": null,
      "outputs": [
        {
          "output_type": "execute_result",
          "data": {
            "text/plain": [
              "1"
            ]
          },
          "metadata": {},
          "execution_count": 53
        }
      ]
    },
    {
      "cell_type": "code",
      "source": [
        "age_var.size"
      ],
      "metadata": {
        "colab": {
          "base_uri": "https://localhost:8080/"
        },
        "id": "j5Cw4f1GHRRN",
        "outputId": "3e6619be-2522-46e7-e51c-27c8ca9fbfb5"
      },
      "execution_count": null,
      "outputs": [
        {
          "output_type": "execute_result",
          "data": {
            "text/plain": [
              "45211"
            ]
          },
          "metadata": {},
          "execution_count": 54
        }
      ]
    },
    {
      "cell_type": "markdown",
      "source": [
        "## Indexing in 1D arrays"
      ],
      "metadata": {
        "id": "w11Iw-XlHZ-2"
      }
    },
    {
      "cell_type": "code",
      "source": [
        "age_var[0]"
      ],
      "metadata": {
        "colab": {
          "base_uri": "https://localhost:8080/"
        },
        "id": "niEVOX0GHdTd",
        "outputId": "e2a40dbe-23d7-4ab6-ee61-1a845913a416"
      },
      "execution_count": null,
      "outputs": [
        {
          "output_type": "execute_result",
          "data": {
            "text/plain": [
              "58"
            ]
          },
          "metadata": {},
          "execution_count": 55
        }
      ]
    },
    {
      "cell_type": "code",
      "source": [
        "age_var[-1]"
      ],
      "metadata": {
        "colab": {
          "base_uri": "https://localhost:8080/"
        },
        "id": "_vB575S3HkhX",
        "outputId": "a6fa7322-680f-4614-ed26-a4c6076f11e7"
      },
      "execution_count": null,
      "outputs": [
        {
          "output_type": "execute_result",
          "data": {
            "text/plain": [
              "37"
            ]
          },
          "metadata": {},
          "execution_count": 56
        }
      ]
    },
    {
      "cell_type": "code",
      "source": [
        "age_var[[0,2,5]]"
      ],
      "metadata": {
        "colab": {
          "base_uri": "https://localhost:8080/"
        },
        "id": "h_LrHzJ7HsEO",
        "outputId": "ff6f79d1-4a2b-4402-bb01-4afecc8d8dcc"
      },
      "execution_count": null,
      "outputs": [
        {
          "output_type": "execute_result",
          "data": {
            "text/plain": [
              "array([58, 33, 35])"
            ]
          },
          "metadata": {},
          "execution_count": 58
        }
      ]
    },
    {
      "cell_type": "code",
      "source": [
        "#Another way to do multiple indexing\n",
        "x=[0,2,5]"
      ],
      "metadata": {
        "id": "DYYZot2tH-pB"
      },
      "execution_count": null,
      "outputs": []
    },
    {
      "cell_type": "code",
      "source": [
        "age_var[x]"
      ],
      "metadata": {
        "colab": {
          "base_uri": "https://localhost:8080/"
        },
        "id": "7lDaTunYIKjX",
        "outputId": "2297d239-6f0b-44fd-bb8d-1ec97212d4af"
      },
      "execution_count": null,
      "outputs": [
        {
          "output_type": "execute_result",
          "data": {
            "text/plain": [
              "array([58, 33, 35])"
            ]
          },
          "metadata": {},
          "execution_count": 62
        }
      ]
    },
    {
      "cell_type": "code",
      "source": [
        "age_var[-3:]"
      ],
      "metadata": {
        "colab": {
          "base_uri": "https://localhost:8080/"
        },
        "id": "F23cVt4aITse",
        "outputId": "eb008b66-e650-4c45-9b33-a8079807fa24"
      },
      "execution_count": null,
      "outputs": [
        {
          "output_type": "execute_result",
          "data": {
            "text/plain": [
              "array([72, 57, 37])"
            ]
          },
          "metadata": {},
          "execution_count": 63
        }
      ]
    },
    {
      "cell_type": "code",
      "source": [
        "age_var[:]"
      ],
      "metadata": {
        "colab": {
          "base_uri": "https://localhost:8080/"
        },
        "id": "PShFIXifIhie",
        "outputId": "903d4216-a010-4475-c241-dfa382edb271"
      },
      "execution_count": null,
      "outputs": [
        {
          "output_type": "execute_result",
          "data": {
            "text/plain": [
              "array([58, 44, 33, ..., 72, 57, 37])"
            ]
          },
          "metadata": {},
          "execution_count": 64
        }
      ]
    },
    {
      "cell_type": "code",
      "source": [
        "age_var[:10]"
      ],
      "metadata": {
        "colab": {
          "base_uri": "https://localhost:8080/"
        },
        "id": "9fNOfD7AInse",
        "outputId": "c66965b2-2083-4807-b7e4-3df201c2e811"
      },
      "execution_count": null,
      "outputs": [
        {
          "output_type": "execute_result",
          "data": {
            "text/plain": [
              "array([58, 44, 33, 47, 33, 35, 28, 42, 58, 43])"
            ]
          },
          "metadata": {},
          "execution_count": 66
        }
      ]
    },
    {
      "cell_type": "markdown",
      "source": [
        "# Advance indexing"
      ],
      "metadata": {
        "id": "pIZMXhDdI3oc"
      }
    },
    {
      "cell_type": "code",
      "source": [
        "two_var=np.array(bank[[\"age\",\"balance\"]])"
      ],
      "metadata": {
        "id": "-VAD5plII9_Z"
      },
      "execution_count": null,
      "outputs": []
    },
    {
      "cell_type": "code",
      "source": [
        "print(two_var)"
      ],
      "metadata": {
        "colab": {
          "base_uri": "https://localhost:8080/"
        },
        "id": "AOZdQoO2JJjE",
        "outputId": "0f6bf708-caf0-4b89-e937-108f1ac97187"
      },
      "execution_count": null,
      "outputs": [
        {
          "output_type": "stream",
          "name": "stdout",
          "text": [
            "[[  58 2143]\n",
            " [  44   29]\n",
            " [  33    2]\n",
            " ...\n",
            " [  72 5715]\n",
            " [  57  668]\n",
            " [  37 2971]]\n"
          ]
        }
      ]
    },
    {
      "cell_type": "code",
      "source": [
        "two_var.shape"
      ],
      "metadata": {
        "colab": {
          "base_uri": "https://localhost:8080/"
        },
        "id": "aLYLjpjyJQSs",
        "outputId": "fa1c49cb-3299-4b60-a92f-7581a53aa9ba"
      },
      "execution_count": null,
      "outputs": [
        {
          "output_type": "execute_result",
          "data": {
            "text/plain": [
              "(45211, 2)"
            ]
          },
          "metadata": {},
          "execution_count": 69
        }
      ]
    },
    {
      "cell_type": "code",
      "source": [
        "two_var.size"
      ],
      "metadata": {
        "colab": {
          "base_uri": "https://localhost:8080/"
        },
        "id": "mx0IUvybJTsn",
        "outputId": "d2279476-04f1-4a2e-e48d-7e8012fb6a71"
      },
      "execution_count": null,
      "outputs": [
        {
          "output_type": "execute_result",
          "data": {
            "text/plain": [
              "90422"
            ]
          },
          "metadata": {},
          "execution_count": 70
        }
      ]
    },
    {
      "cell_type": "code",
      "source": [
        "two_var.ndim"
      ],
      "metadata": {
        "colab": {
          "base_uri": "https://localhost:8080/"
        },
        "id": "Ty7XU7XgJY_h",
        "outputId": "bd722c71-4634-475f-fd74-fe15cdaf095c"
      },
      "execution_count": null,
      "outputs": [
        {
          "output_type": "execute_result",
          "data": {
            "text/plain": [
              "2"
            ]
          },
          "metadata": {},
          "execution_count": 71
        }
      ]
    },
    {
      "cell_type": "code",
      "source": [
        "#indexing of 2-D arrays\n",
        "two_var[0,0]"
      ],
      "metadata": {
        "colab": {
          "base_uri": "https://localhost:8080/"
        },
        "id": "uJ87ri-_JdCN",
        "outputId": "38220e3e-4a6c-40fb-963f-89fbfc2c60f8"
      },
      "execution_count": null,
      "outputs": [
        {
          "output_type": "execute_result",
          "data": {
            "text/plain": [
              "58"
            ]
          },
          "metadata": {},
          "execution_count": 72
        }
      ]
    },
    {
      "cell_type": "code",
      "source": [
        "two_var[1,1]"
      ],
      "metadata": {
        "colab": {
          "base_uri": "https://localhost:8080/"
        },
        "id": "BGZSFzo2KAhE",
        "outputId": "c192436d-9545-4504-8060-b371b3a2f28a"
      },
      "execution_count": null,
      "outputs": [
        {
          "output_type": "execute_result",
          "data": {
            "text/plain": [
              "29"
            ]
          },
          "metadata": {},
          "execution_count": 73
        }
      ]
    },
    {
      "cell_type": "code",
      "source": [
        "#How to get last row element of 2nd column\n",
        "two_var[-1,1]"
      ],
      "metadata": {
        "colab": {
          "base_uri": "https://localhost:8080/"
        },
        "id": "mjWPl01QKFpp",
        "outputId": "22e8c5e4-a216-4baa-90a2-7a366c9d24af"
      },
      "execution_count": null,
      "outputs": [
        {
          "output_type": "execute_result",
          "data": {
            "text/plain": [
              "2971"
            ]
          },
          "metadata": {},
          "execution_count": 74
        }
      ]
    },
    {
      "cell_type": "code",
      "source": [
        "#Slicing of 2-D array\n",
        "two_var[:,:]"
      ],
      "metadata": {
        "colab": {
          "base_uri": "https://localhost:8080/"
        },
        "id": "MehVcOzzKXoI",
        "outputId": "179544b9-75bf-4f0a-9758-d5923f85c98d"
      },
      "execution_count": null,
      "outputs": [
        {
          "output_type": "execute_result",
          "data": {
            "text/plain": [
              "array([[  58, 2143],\n",
              "       [  44,   29],\n",
              "       [  33,    2],\n",
              "       ...,\n",
              "       [  72, 5715],\n",
              "       [  57,  668],\n",
              "       [  37, 2971]])"
            ]
          },
          "metadata": {},
          "execution_count": 76
        }
      ]
    },
    {
      "cell_type": "code",
      "source": [
        "two_var"
      ],
      "metadata": {
        "colab": {
          "base_uri": "https://localhost:8080/"
        },
        "id": "f613QZ1HKbYV",
        "outputId": "1a415911-ec67-48f8-c801-fad54658e784"
      },
      "execution_count": null,
      "outputs": [
        {
          "output_type": "execute_result",
          "data": {
            "text/plain": [
              "array([[  58, 2143],\n",
              "       [  44,   29],\n",
              "       [  33,    2],\n",
              "       ...,\n",
              "       [  72, 5715],\n",
              "       [  57,  668],\n",
              "       [  37, 2971]])"
            ]
          },
          "metadata": {},
          "execution_count": 75
        }
      ]
    },
    {
      "cell_type": "code",
      "source": [
        "two_var[0:2,0:2]"
      ],
      "metadata": {
        "colab": {
          "base_uri": "https://localhost:8080/"
        },
        "id": "6cm2uMqhKmYE",
        "outputId": "7639fc8f-468f-476e-9fb4-81081efbfa1d"
      },
      "execution_count": null,
      "outputs": [
        {
          "output_type": "execute_result",
          "data": {
            "text/plain": [
              "array([[  58, 2143],\n",
              "       [  44,   29]])"
            ]
          },
          "metadata": {},
          "execution_count": 78
        }
      ]
    },
    {
      "cell_type": "markdown",
      "source": [
        "# Boolean Indexing"
      ],
      "metadata": {
        "id": "oV-bOepVPjQY"
      }
    },
    {
      "cell_type": "code",
      "source": [
        "age_var"
      ],
      "metadata": {
        "colab": {
          "base_uri": "https://localhost:8080/"
        },
        "id": "MS6nEzdjP6Q5",
        "outputId": "601cfb66-e776-4b2c-c84e-dfe4ea6078c3"
      },
      "execution_count": null,
      "outputs": [
        {
          "output_type": "execute_result",
          "data": {
            "text/plain": [
              "array([58, 44, 33, ..., 72, 57, 37])"
            ]
          },
          "metadata": {},
          "execution_count": 79
        }
      ]
    },
    {
      "cell_type": "code",
      "source": [
        "#Suppose someone tell you to extract all those age which are less than 50\n",
        "condition=age_var<50\n",
        "condition"
      ],
      "metadata": {
        "colab": {
          "base_uri": "https://localhost:8080/"
        },
        "id": "ESunqbwSQBKn",
        "outputId": "5881e518-3829-49e6-9682-d3e7d875be72"
      },
      "execution_count": null,
      "outputs": [
        {
          "output_type": "execute_result",
          "data": {
            "text/plain": [
              "array([False,  True,  True, ..., False, False,  True])"
            ]
          },
          "metadata": {},
          "execution_count": 82
        }
      ]
    },
    {
      "cell_type": "code",
      "source": [
        "new_age=age_var[condition]"
      ],
      "metadata": {
        "id": "VnnyZKnVQa7k"
      },
      "execution_count": null,
      "outputs": []
    },
    {
      "cell_type": "code",
      "source": [
        "new_age"
      ],
      "metadata": {
        "colab": {
          "base_uri": "https://localhost:8080/"
        },
        "id": "vXuhrBqXQoqq",
        "outputId": "d1ccaf28-2829-4d99-ba53-185f837fd4c8"
      },
      "execution_count": null,
      "outputs": [
        {
          "output_type": "execute_result",
          "data": {
            "text/plain": [
              "array([44, 33, 47, ..., 23, 25, 37])"
            ]
          },
          "metadata": {},
          "execution_count": 84
        }
      ]
    },
    {
      "cell_type": "code",
      "source": [
        "print(age_var.shape)\n",
        "print(new_age.shape)"
      ],
      "metadata": {
        "colab": {
          "base_uri": "https://localhost:8080/"
        },
        "id": "iQEO8HAhQtHo",
        "outputId": "41b70cac-fa22-42dd-d50d-2d406d6a0833"
      },
      "execution_count": null,
      "outputs": [
        {
          "output_type": "stream",
          "name": "stdout",
          "text": [
            "(45211,)\n",
            "(35017,)\n"
          ]
        }
      ]
    },
    {
      "cell_type": "code",
      "source": [
        "new_age1=age_var[condition==False]"
      ],
      "metadata": {
        "id": "s-MetDpVRD-M"
      },
      "execution_count": null,
      "outputs": []
    },
    {
      "cell_type": "code",
      "source": [
        "new_age1.shape"
      ],
      "metadata": {
        "colab": {
          "base_uri": "https://localhost:8080/"
        },
        "id": "eHq4hkqRRf4b",
        "outputId": "690eeab8-dcdf-4a3c-ea04-248674e933cc"
      },
      "execution_count": null,
      "outputs": [
        {
          "output_type": "execute_result",
          "data": {
            "text/plain": [
              "(10194,)"
            ]
          },
          "metadata": {},
          "execution_count": 87
        }
      ]
    },
    {
      "cell_type": "markdown",
      "source": [
        "## Use of where statement in array"
      ],
      "metadata": {
        "id": "xDiTYeYBSc5c"
      }
    },
    {
      "cell_type": "code",
      "source": [
        "age=np.array([-12,-34,54,23,67,87])"
      ],
      "metadata": {
        "id": "KChtCKngShjn"
      },
      "execution_count": null,
      "outputs": []
    },
    {
      "cell_type": "code",
      "source": [
        "age"
      ],
      "metadata": {
        "colab": {
          "base_uri": "https://localhost:8080/"
        },
        "id": "0ziPUMMCSsSB",
        "outputId": "2f8f07d8-f1a6-4ba4-ebbc-c7028f4aebab"
      },
      "execution_count": null,
      "outputs": [
        {
          "output_type": "execute_result",
          "data": {
            "text/plain": [
              "array([-12, -34,  54,  23,  67,  87])"
            ]
          },
          "metadata": {},
          "execution_count": 91
        }
      ]
    },
    {
      "cell_type": "code",
      "source": [
        "#Please change all those age which are negative to 0 and rest to 1\n",
        "age_new=np.where((age<0),0,1)"
      ],
      "metadata": {
        "id": "nh5WXzKHSvmA"
      },
      "execution_count": null,
      "outputs": []
    },
    {
      "cell_type": "code",
      "source": [
        "age_new"
      ],
      "metadata": {
        "colab": {
          "base_uri": "https://localhost:8080/"
        },
        "id": "0Ve8gZWBTMsX",
        "outputId": "71eacc22-bddb-451d-ca01-d50ee10b8468"
      },
      "execution_count": null,
      "outputs": [
        {
          "output_type": "execute_result",
          "data": {
            "text/plain": [
              "array([0, 0, 1, 1, 1, 1])"
            ]
          },
          "metadata": {},
          "execution_count": 93
        }
      ]
    },
    {
      "cell_type": "code",
      "source": [
        "#please change all those age which are negative to 0 and rest keep it as it is.\n",
        "age_new=np.where((age<0),0,age)\n"
      ],
      "metadata": {
        "id": "A4HOFT3aTkr6"
      },
      "execution_count": null,
      "outputs": []
    },
    {
      "cell_type": "code",
      "source": [
        "age_new"
      ],
      "metadata": {
        "colab": {
          "base_uri": "https://localhost:8080/"
        },
        "id": "rB6B5W9GT_mV",
        "outputId": "96da9ebe-e3bd-457c-b8d5-fcd5621b4b68"
      },
      "execution_count": null,
      "outputs": [
        {
          "output_type": "execute_result",
          "data": {
            "text/plain": [
              "array([ 0,  0, 54, 23, 67, 87])"
            ]
          },
          "metadata": {},
          "execution_count": 96
        }
      ]
    },
    {
      "cell_type": "markdown",
      "source": [
        "# Lab2: accessing Arrays"
      ],
      "metadata": {
        "id": "QbZ3DQm4V7DD"
      }
    },
    {
      "cell_type": "code",
      "source": [
        "a=np.array([[1,2,3,4],[4,4,5,6],[8,9,19,11]])"
      ],
      "metadata": {
        "id": "edhTj7sxWA0v"
      },
      "execution_count": null,
      "outputs": []
    },
    {
      "cell_type": "code",
      "source": [
        "a.shape"
      ],
      "metadata": {
        "colab": {
          "base_uri": "https://localhost:8080/"
        },
        "id": "apWxxG2wWKDd",
        "outputId": "42ca1bcc-9255-41fc-b1d1-faa409c5d1dd"
      },
      "execution_count": null,
      "outputs": [
        {
          "output_type": "execute_result",
          "data": {
            "text/plain": [
              "(3, 4)"
            ]
          },
          "metadata": {},
          "execution_count": 111
        }
      ]
    },
    {
      "cell_type": "code",
      "source": [
        "b=a[0:2,1:3]\n",
        "b"
      ],
      "metadata": {
        "colab": {
          "base_uri": "https://localhost:8080/"
        },
        "id": "y873vFPIWMj9",
        "outputId": "c6c133f5-47b4-4f81-bad8-9a1925c17a3e"
      },
      "execution_count": null,
      "outputs": [
        {
          "output_type": "execute_result",
          "data": {
            "text/plain": [
              "array([[2, 3],\n",
              "       [4, 5]])"
            ]
          },
          "metadata": {},
          "execution_count": 100
        }
      ]
    },
    {
      "cell_type": "code",
      "source": [
        "b[0,0]=45"
      ],
      "metadata": {
        "id": "-252imb3WTNX"
      },
      "execution_count": null,
      "outputs": []
    },
    {
      "cell_type": "code",
      "source": [
        "b"
      ],
      "metadata": {
        "colab": {
          "base_uri": "https://localhost:8080/"
        },
        "id": "pc8mBeCAWV-3",
        "outputId": "d691f5c5-8f71-4eec-e659-57c3415ee639"
      },
      "execution_count": null,
      "outputs": [
        {
          "output_type": "execute_result",
          "data": {
            "text/plain": [
              "array([[45,  3],\n",
              "       [ 4,  5]])"
            ]
          },
          "metadata": {},
          "execution_count": 102
        }
      ]
    },
    {
      "cell_type": "code",
      "source": [
        "a"
      ],
      "metadata": {
        "colab": {
          "base_uri": "https://localhost:8080/"
        },
        "id": "fIfTUXTiWXGP",
        "outputId": "e27112ba-3e16-4361-ba30-c5c9216a841e"
      },
      "execution_count": null,
      "outputs": [
        {
          "output_type": "execute_result",
          "data": {
            "text/plain": [
              "array([[ 1, 45,  3,  4],\n",
              "       [ 4,  4,  5,  6],\n",
              "       [ 8,  9, 19, 11]])"
            ]
          },
          "metadata": {},
          "execution_count": 103
        }
      ]
    },
    {
      "cell_type": "code",
      "source": [
        "b=np.array(a[0:2,1:3],copy=False)"
      ],
      "metadata": {
        "id": "sJzCbwUlWhRx"
      },
      "execution_count": null,
      "outputs": []
    },
    {
      "cell_type": "code",
      "source": [
        "b"
      ],
      "metadata": {
        "colab": {
          "base_uri": "https://localhost:8080/"
        },
        "id": "JMtVf9MqWqRG",
        "outputId": "8955e411-dd65-4b16-9e11-1d3386de3af0"
      },
      "execution_count": null,
      "outputs": [
        {
          "output_type": "execute_result",
          "data": {
            "text/plain": [
              "array([[2, 3],\n",
              "       [4, 5]])"
            ]
          },
          "metadata": {},
          "execution_count": 113
        }
      ]
    },
    {
      "cell_type": "code",
      "source": [
        "b[0,0]=54"
      ],
      "metadata": {
        "id": "9pWJSmPdWrbq"
      },
      "execution_count": null,
      "outputs": []
    },
    {
      "cell_type": "code",
      "source": [
        "a"
      ],
      "metadata": {
        "colab": {
          "base_uri": "https://localhost:8080/"
        },
        "id": "gKMCN79TWuP6",
        "outputId": "9f14fa2d-a702-4276-9254-f5583d27c006"
      },
      "execution_count": null,
      "outputs": [
        {
          "output_type": "execute_result",
          "data": {
            "text/plain": [
              "array([[ 1, 54,  3,  4],\n",
              "       [ 4,  4,  5,  6],\n",
              "       [ 8,  9, 19, 11]])"
            ]
          },
          "metadata": {},
          "execution_count": 115
        }
      ]
    },
    {
      "cell_type": "markdown",
      "source": [
        "# Initial placeholders"
      ],
      "metadata": {
        "id": "sGpNBcUZOoRa"
      }
    },
    {
      "cell_type": "code",
      "source": [
        "a=np.zeros((3,4))\n",
        "a"
      ],
      "metadata": {
        "colab": {
          "base_uri": "https://localhost:8080/"
        },
        "id": "uGfDbQFjOqrn",
        "outputId": "68869348-d9e2-4629-f580-dfa9c6cadc39"
      },
      "execution_count": null,
      "outputs": [
        {
          "output_type": "execute_result",
          "data": {
            "text/plain": [
              "array([[0., 0., 0., 0.],\n",
              "       [0., 0., 0., 0.],\n",
              "       [0., 0., 0., 0.]])"
            ]
          },
          "metadata": {},
          "execution_count": 10
        }
      ]
    },
    {
      "cell_type": "code",
      "source": [
        "b=np.ones((3,4))\n",
        "b"
      ],
      "metadata": {
        "colab": {
          "base_uri": "https://localhost:8080/"
        },
        "id": "8fsofHQJTDC-",
        "outputId": "1822b1d8-aa0a-4e63-eb1a-0ba4a0eda1b1"
      },
      "execution_count": null,
      "outputs": [
        {
          "output_type": "execute_result",
          "data": {
            "text/plain": [
              "array([[1., 1., 1., 1.],\n",
              "       [1., 1., 1., 1.],\n",
              "       [1., 1., 1., 1.]])"
            ]
          },
          "metadata": {},
          "execution_count": 3
        }
      ]
    },
    {
      "cell_type": "code",
      "source": [
        "c=b*2\n",
        "c"
      ],
      "metadata": {
        "colab": {
          "base_uri": "https://localhost:8080/"
        },
        "id": "AsJ43ysITJuC",
        "outputId": "78650185-3fb4-4d95-c6e9-079d45b8b796"
      },
      "execution_count": null,
      "outputs": [
        {
          "output_type": "execute_result",
          "data": {
            "text/plain": [
              "array([[2., 2., 2., 2.],\n",
              "       [2., 2., 2., 2.],\n",
              "       [2., 2., 2., 2.]])"
            ]
          },
          "metadata": {},
          "execution_count": 5
        }
      ]
    },
    {
      "cell_type": "code",
      "source": [
        "b=np.ones((3,4),dtype=np.int32)\n",
        "b"
      ],
      "metadata": {
        "colab": {
          "base_uri": "https://localhost:8080/"
        },
        "id": "itP07qg0Tfld",
        "outputId": "4e351a64-21bf-44e9-971c-abcad62c3ff6"
      },
      "execution_count": null,
      "outputs": [
        {
          "output_type": "execute_result",
          "data": {
            "text/plain": [
              "array([[1, 1, 1, 1],\n",
              "       [1, 1, 1, 1],\n",
              "       [1, 1, 1, 1]], dtype=int32)"
            ]
          },
          "metadata": {},
          "execution_count": 8
        }
      ]
    },
    {
      "cell_type": "markdown",
      "source": [
        "# Arange Function"
      ],
      "metadata": {
        "id": "hNoNaASnTwTP"
      }
    },
    {
      "cell_type": "code",
      "source": [
        "a=np.arange(10,30,2)\n",
        "a"
      ],
      "metadata": {
        "colab": {
          "base_uri": "https://localhost:8080/"
        },
        "id": "OQlnXkJlT918",
        "outputId": "f981f2b7-1dea-48c9-e575-b7140ba6ce61"
      },
      "execution_count": null,
      "outputs": [
        {
          "output_type": "execute_result",
          "data": {
            "text/plain": [
              "array([10, 12, 14, 16, 18, 20, 22, 24, 26, 28])"
            ]
          },
          "metadata": {},
          "execution_count": 11
        }
      ]
    },
    {
      "cell_type": "code",
      "source": [
        "a=np.arange(10,30)\n",
        "a"
      ],
      "metadata": {
        "colab": {
          "base_uri": "https://localhost:8080/"
        },
        "id": "MjRQQQBMUc0o",
        "outputId": "9f60a5eb-26fc-4e5c-eebc-16a3091cb4a6"
      },
      "execution_count": null,
      "outputs": [
        {
          "output_type": "execute_result",
          "data": {
            "text/plain": [
              "array([10, 11, 12, 13, 14, 15, 16, 17, 18, 19, 20, 21, 22, 23, 24, 25, 26,\n",
              "       27, 28, 29])"
            ]
          },
          "metadata": {},
          "execution_count": 12
        }
      ]
    },
    {
      "cell_type": "code",
      "source": [
        "a=np.arange(10)\n",
        "a"
      ],
      "metadata": {
        "colab": {
          "base_uri": "https://localhost:8080/"
        },
        "id": "7wH924sdUm39",
        "outputId": "b14b2e46-776a-4e2d-af8b-3dd81ebaa371"
      },
      "execution_count": null,
      "outputs": [
        {
          "output_type": "execute_result",
          "data": {
            "text/plain": [
              "array([0, 1, 2, 3, 4, 5, 6, 7, 8, 9])"
            ]
          },
          "metadata": {},
          "execution_count": 13
        }
      ]
    },
    {
      "cell_type": "code",
      "source": [
        "d=np.arange(-12.5,34,1.8)\n",
        "d"
      ],
      "metadata": {
        "colab": {
          "base_uri": "https://localhost:8080/"
        },
        "id": "wQ7ycCEyU1xE",
        "outputId": "315b9b59-a125-4961-e567-d905d8a60875"
      },
      "execution_count": null,
      "outputs": [
        {
          "output_type": "execute_result",
          "data": {
            "text/plain": [
              "array([-12.5, -10.7,  -8.9,  -7.1,  -5.3,  -3.5,  -1.7,   0.1,   1.9,\n",
              "         3.7,   5.5,   7.3,   9.1,  10.9,  12.7,  14.5,  16.3,  18.1,\n",
              "        19.9,  21.7,  23.5,  25.3,  27.1,  28.9,  30.7,  32.5])"
            ]
          },
          "metadata": {},
          "execution_count": 15
        }
      ]
    },
    {
      "cell_type": "markdown",
      "source": [
        "# Linspace function"
      ],
      "metadata": {
        "id": "s6julv2yVPjq"
      }
    },
    {
      "cell_type": "code",
      "source": [
        "a=np.linspace(10,30,5)\n",
        "a"
      ],
      "metadata": {
        "colab": {
          "base_uri": "https://localhost:8080/"
        },
        "id": "_cLCyV5tVWLm",
        "outputId": "d7ef99f5-18ae-4044-b3ee-08966d647c9e"
      },
      "execution_count": null,
      "outputs": [
        {
          "output_type": "execute_result",
          "data": {
            "text/plain": [
              "array([10., 15., 20., 25., 30.])"
            ]
          },
          "metadata": {},
          "execution_count": 16
        }
      ]
    },
    {
      "cell_type": "code",
      "source": [
        "a=np.linspace(10,30,7)\n",
        "a"
      ],
      "metadata": {
        "colab": {
          "base_uri": "https://localhost:8080/"
        },
        "id": "PJRNvenwV8u4",
        "outputId": "ef843a54-ce14-43e2-ae76-3f1fb1b6ccf7"
      },
      "execution_count": null,
      "outputs": [
        {
          "output_type": "execute_result",
          "data": {
            "text/plain": [
              "array([10.        , 13.33333333, 16.66666667, 20.        , 23.33333333,\n",
              "       26.66666667, 30.        ])"
            ]
          },
          "metadata": {},
          "execution_count": 17
        }
      ]
    },
    {
      "cell_type": "code",
      "source": [
        "a=np.linspace(10,30,7,dtype=np.int32)\n",
        "a"
      ],
      "metadata": {
        "colab": {
          "base_uri": "https://localhost:8080/"
        },
        "id": "I91UkF33WDn2",
        "outputId": "d4eea71f-ad7d-4e7c-9ccb-618f78ed96bb"
      },
      "execution_count": null,
      "outputs": [
        {
          "output_type": "execute_result",
          "data": {
            "text/plain": [
              "array([10, 13, 16, 20, 23, 26, 30], dtype=int32)"
            ]
          },
          "metadata": {},
          "execution_count": 18
        }
      ]
    },
    {
      "cell_type": "markdown",
      "source": [
        "# Generating random numbers in arrays"
      ],
      "metadata": {
        "id": "-yN2rhYoWeMQ"
      }
    },
    {
      "cell_type": "code",
      "source": [
        "a=np.random.random(30)\n",
        "a"
      ],
      "metadata": {
        "colab": {
          "base_uri": "https://localhost:8080/"
        },
        "id": "SFjctkNAWiws",
        "outputId": "89d9b795-f1dc-4bf5-ab2f-853232390d6e"
      },
      "execution_count": null,
      "outputs": [
        {
          "output_type": "execute_result",
          "data": {
            "text/plain": [
              "array([0.6717378 , 0.90823741, 0.81459345, 0.97506103, 0.70401327,\n",
              "       0.62044733, 0.11434647, 0.43654613, 0.94374674, 0.55892222,\n",
              "       0.0423124 , 0.3883367 , 0.11329048, 0.07939481, 0.95708001,\n",
              "       0.20464258, 0.07876181, 0.68900632, 0.33878026, 0.13115019,\n",
              "       0.68551465, 0.53678063, 0.44647785, 0.85172355, 0.73614145,\n",
              "       0.99591895, 0.78236048, 0.99926874, 0.5269487 , 0.70930562])"
            ]
          },
          "metadata": {},
          "execution_count": 19
        }
      ]
    },
    {
      "cell_type": "code",
      "source": [
        "rand_arr=np.random.random((5,3))\n",
        "rand_arr"
      ],
      "metadata": {
        "colab": {
          "base_uri": "https://localhost:8080/"
        },
        "id": "ymTwSpSsW0n_",
        "outputId": "760228fe-d12d-42e8-a209-1018139d135f"
      },
      "execution_count": null,
      "outputs": [
        {
          "output_type": "execute_result",
          "data": {
            "text/plain": [
              "array([[0.60305566, 0.33825031, 0.73311869],\n",
              "       [0.4467819 , 0.4172735 , 0.6767225 ],\n",
              "       [0.96279276, 0.67829083, 0.61172163],\n",
              "       [0.390851  , 0.52418589, 0.27720528],\n",
              "       [0.41722536, 0.20851765, 0.70521   ]])"
            ]
          },
          "metadata": {},
          "execution_count": 20
        }
      ]
    },
    {
      "cell_type": "code",
      "source": [
        "rounded_arr=np.round(rand_arr,2)\n",
        "rounded_arr"
      ],
      "metadata": {
        "colab": {
          "base_uri": "https://localhost:8080/"
        },
        "id": "UbstLNn3XEcv",
        "outputId": "441396ed-a3cd-4a09-da6d-16306e1c83c8"
      },
      "execution_count": null,
      "outputs": [
        {
          "output_type": "execute_result",
          "data": {
            "text/plain": [
              "array([[0.6 , 0.34, 0.73],\n",
              "       [0.45, 0.42, 0.68],\n",
              "       [0.96, 0.68, 0.61],\n",
              "       [0.39, 0.52, 0.28],\n",
              "       [0.42, 0.21, 0.71]])"
            ]
          },
          "metadata": {},
          "execution_count": 22
        }
      ]
    },
    {
      "cell_type": "code",
      "source": [
        "#How to reshape the array\n",
        "a=np.random.random(30)\n",
        "a"
      ],
      "metadata": {
        "colab": {
          "base_uri": "https://localhost:8080/"
        },
        "id": "wBVDrM5GXel-",
        "outputId": "f85f4fc6-3943-4180-8c54-c741f3824401"
      },
      "execution_count": null,
      "outputs": [
        {
          "output_type": "execute_result",
          "data": {
            "text/plain": [
              "array([0.80785175, 0.58131278, 0.72906818, 0.75609448, 0.13320948,\n",
              "       0.86638465, 0.43579099, 0.84328045, 0.40068294, 0.56445304,\n",
              "       0.46918945, 0.73970964, 0.58568796, 0.49889987, 0.10306603,\n",
              "       0.19591591, 0.1670516 , 0.26980208, 0.07499145, 0.6524356 ,\n",
              "       0.72043186, 0.10405595, 0.74168586, 0.90001417, 0.77837202,\n",
              "       0.52918205, 0.62691103, 0.42167435, 0.10604021, 0.18339701])"
            ]
          },
          "metadata": {},
          "execution_count": 23
        }
      ]
    },
    {
      "cell_type": "code",
      "source": [
        "b=a.reshape(5,6)\n",
        "b"
      ],
      "metadata": {
        "colab": {
          "base_uri": "https://localhost:8080/"
        },
        "id": "rIZwYuL7Xl0f",
        "outputId": "faca3570-5b55-4337-e805-cb52153ec828"
      },
      "execution_count": null,
      "outputs": [
        {
          "output_type": "execute_result",
          "data": {
            "text/plain": [
              "array([[0.80785175, 0.58131278, 0.72906818, 0.75609448, 0.13320948,\n",
              "        0.86638465],\n",
              "       [0.43579099, 0.84328045, 0.40068294, 0.56445304, 0.46918945,\n",
              "        0.73970964],\n",
              "       [0.58568796, 0.49889987, 0.10306603, 0.19591591, 0.1670516 ,\n",
              "        0.26980208],\n",
              "       [0.07499145, 0.6524356 , 0.72043186, 0.10405595, 0.74168586,\n",
              "        0.90001417],\n",
              "       [0.77837202, 0.52918205, 0.62691103, 0.42167435, 0.10604021,\n",
              "        0.18339701]])"
            ]
          },
          "metadata": {},
          "execution_count": 24
        }
      ]
    },
    {
      "cell_type": "code",
      "source": [
        "b=a.reshape(5,-1)\n",
        "b"
      ],
      "metadata": {
        "colab": {
          "base_uri": "https://localhost:8080/"
        },
        "id": "4UNrrbc0YI3Y",
        "outputId": "82091c74-4e8b-4daf-9dfe-c70fedb7a416"
      },
      "execution_count": null,
      "outputs": [
        {
          "output_type": "execute_result",
          "data": {
            "text/plain": [
              "array([[0.03136202, 0.81229243, 0.75638635, 0.68265801, 0.61599107,\n",
              "        0.9550052 ],\n",
              "       [0.06958037, 0.81651959, 0.02008918, 0.0937618 , 0.24578876,\n",
              "        0.19479034],\n",
              "       [0.61933187, 0.15582091, 0.84819266, 0.10278916, 0.06098002,\n",
              "        0.66891157],\n",
              "       [0.51766081, 0.17011432, 0.74945168, 0.88674909, 0.10280986,\n",
              "        0.75451718],\n",
              "       [0.34991668, 0.6315643 , 0.20535439, 0.38787479, 0.57930546,\n",
              "        0.72447842]])"
            ]
          },
          "metadata": {},
          "execution_count": 27
        }
      ]
    },
    {
      "cell_type": "code",
      "source": [
        "a=np.random.random(30)\n",
        "a"
      ],
      "metadata": {
        "colab": {
          "base_uri": "https://localhost:8080/"
        },
        "id": "Betwv867X4cl",
        "outputId": "bfd7571e-d54b-4485-df37-4c820a3cf27b"
      },
      "execution_count": null,
      "outputs": [
        {
          "output_type": "execute_result",
          "data": {
            "text/plain": [
              "array([0.03136202, 0.81229243, 0.75638635, 0.68265801, 0.61599107,\n",
              "       0.9550052 , 0.06958037, 0.81651959, 0.02008918, 0.0937618 ,\n",
              "       0.24578876, 0.19479034, 0.61933187, 0.15582091, 0.84819266,\n",
              "       0.10278916, 0.06098002, 0.66891157, 0.51766081, 0.17011432,\n",
              "       0.74945168, 0.88674909, 0.10280986, 0.75451718, 0.34991668,\n",
              "       0.6315643 , 0.20535439, 0.38787479, 0.57930546, 0.72447842])"
            ]
          },
          "metadata": {},
          "execution_count": 25
        }
      ]
    },
    {
      "cell_type": "code",
      "source": [
        "b=a.reshape(-1,-1)\n",
        "b"
      ],
      "metadata": {
        "colab": {
          "base_uri": "https://localhost:8080/",
          "height": 182
        },
        "id": "GEAv72GsYdVC",
        "outputId": "bd0e603b-6d42-42da-f9c8-0fe2fb565ab7"
      },
      "execution_count": null,
      "outputs": [
        {
          "output_type": "error",
          "ename": "ValueError",
          "evalue": "ignored",
          "traceback": [
            "\u001b[0;31m---------------------------------------------------------------------------\u001b[0m",
            "\u001b[0;31mValueError\u001b[0m                                Traceback (most recent call last)",
            "\u001b[0;32m<ipython-input-29-c4e86495523b>\u001b[0m in \u001b[0;36m<module>\u001b[0;34m\u001b[0m\n\u001b[0;32m----> 1\u001b[0;31m \u001b[0mb\u001b[0m\u001b[0;34m=\u001b[0m\u001b[0ma\u001b[0m\u001b[0;34m.\u001b[0m\u001b[0mreshape\u001b[0m\u001b[0;34m(\u001b[0m\u001b[0;34m-\u001b[0m\u001b[0;36m1\u001b[0m\u001b[0;34m,\u001b[0m\u001b[0;34m-\u001b[0m\u001b[0;36m1\u001b[0m\u001b[0;34m)\u001b[0m\u001b[0;34m\u001b[0m\u001b[0;34m\u001b[0m\u001b[0m\n\u001b[0m\u001b[1;32m      2\u001b[0m \u001b[0mb\u001b[0m\u001b[0;34m\u001b[0m\u001b[0;34m\u001b[0m\u001b[0m\n",
            "\u001b[0;31mValueError\u001b[0m: can only specify one unknown dimension"
          ]
        }
      ]
    },
    {
      "cell_type": "code",
      "source": [
        "b=a.reshape(4,7)\n",
        "b"
      ],
      "metadata": {
        "colab": {
          "base_uri": "https://localhost:8080/",
          "height": 182
        },
        "id": "_FDbvyAUX6cu",
        "outputId": "ae96b504-201e-43fb-c7ba-e4cdcd8f47ed"
      },
      "execution_count": null,
      "outputs": [
        {
          "output_type": "error",
          "ename": "ValueError",
          "evalue": "ignored",
          "traceback": [
            "\u001b[0;31m---------------------------------------------------------------------------\u001b[0m",
            "\u001b[0;31mValueError\u001b[0m                                Traceback (most recent call last)",
            "\u001b[0;32m<ipython-input-26-317a16c6320d>\u001b[0m in \u001b[0;36m<module>\u001b[0;34m\u001b[0m\n\u001b[0;32m----> 1\u001b[0;31m \u001b[0mb\u001b[0m\u001b[0;34m=\u001b[0m\u001b[0ma\u001b[0m\u001b[0;34m.\u001b[0m\u001b[0mreshape\u001b[0m\u001b[0;34m(\u001b[0m\u001b[0;36m4\u001b[0m\u001b[0;34m,\u001b[0m\u001b[0;36m7\u001b[0m\u001b[0;34m)\u001b[0m\u001b[0;34m\u001b[0m\u001b[0;34m\u001b[0m\u001b[0m\n\u001b[0m\u001b[1;32m      2\u001b[0m \u001b[0mb\u001b[0m\u001b[0;34m\u001b[0m\u001b[0;34m\u001b[0m\u001b[0m\n",
            "\u001b[0;31mValueError\u001b[0m: cannot reshape array of size 30 into shape (4,7)"
          ]
        }
      ]
    },
    {
      "cell_type": "markdown",
      "source": [
        "# Flatten Function"
      ],
      "metadata": {
        "id": "WV8-Gr05YyfR"
      }
    },
    {
      "cell_type": "code",
      "source": [
        "a=np.random.random(10)\n",
        "a"
      ],
      "metadata": {
        "colab": {
          "base_uri": "https://localhost:8080/"
        },
        "id": "fP4tdDQHY3L3",
        "outputId": "e1f33882-57b8-425c-bdd3-4ccdb011a381"
      },
      "execution_count": null,
      "outputs": [
        {
          "output_type": "execute_result",
          "data": {
            "text/plain": [
              "array([0.66041727, 0.42468486, 0.02887957, 0.56623135, 0.35681751,\n",
              "       0.66140663, 0.92165986, 0.0212399 , 0.47841187, 0.36417014])"
            ]
          },
          "metadata": {},
          "execution_count": 30
        }
      ]
    },
    {
      "cell_type": "code",
      "source": [
        "b=a.reshape(5,2)\n",
        "b"
      ],
      "metadata": {
        "colab": {
          "base_uri": "https://localhost:8080/"
        },
        "id": "1GgFaquMZAae",
        "outputId": "94d7d723-023d-4e7b-ee56-27ffc41eb5d9"
      },
      "execution_count": null,
      "outputs": [
        {
          "output_type": "execute_result",
          "data": {
            "text/plain": [
              "array([[0.66041727, 0.42468486],\n",
              "       [0.02887957, 0.56623135],\n",
              "       [0.35681751, 0.66140663],\n",
              "       [0.92165986, 0.0212399 ],\n",
              "       [0.47841187, 0.36417014]])"
            ]
          },
          "metadata": {},
          "execution_count": 31
        }
      ]
    },
    {
      "cell_type": "code",
      "source": [
        "b=b.flatten()\n",
        "b"
      ],
      "metadata": {
        "colab": {
          "base_uri": "https://localhost:8080/"
        },
        "id": "D6sGZ1U0ZJ2k",
        "outputId": "5379179a-c362-4f1b-cbcf-c3fa8815500b"
      },
      "execution_count": null,
      "outputs": [
        {
          "output_type": "execute_result",
          "data": {
            "text/plain": [
              "array([0.66041727, 0.42468486, 0.02887957, 0.56623135, 0.35681751,\n",
              "       0.66140663, 0.92165986, 0.0212399 , 0.47841187, 0.36417014])"
            ]
          },
          "metadata": {},
          "execution_count": 32
        }
      ]
    },
    {
      "cell_type": "markdown",
      "source": [
        "# Minimum and maximum of arrays"
      ],
      "metadata": {
        "id": "KQcM_ad3ZiHr"
      }
    },
    {
      "cell_type": "code",
      "source": [
        "age_var"
      ],
      "metadata": {
        "colab": {
          "base_uri": "https://localhost:8080/"
        },
        "id": "BzBiwSFRZkxl",
        "outputId": "bd6077c2-c369-4cc8-c6d5-10559f5fb25d"
      },
      "execution_count": null,
      "outputs": [
        {
          "output_type": "execute_result",
          "data": {
            "text/plain": [
              "array([58, 44, 33, ..., 72, 57, 37])"
            ]
          },
          "metadata": {},
          "execution_count": 36
        }
      ]
    },
    {
      "cell_type": "code",
      "source": [
        "age_var.min()"
      ],
      "metadata": {
        "colab": {
          "base_uri": "https://localhost:8080/"
        },
        "id": "BuAu1OepZoNq",
        "outputId": "cc250ec9-bfa4-4c80-99e5-ecf329eff3e9"
      },
      "execution_count": null,
      "outputs": [
        {
          "output_type": "execute_result",
          "data": {
            "text/plain": [
              "18"
            ]
          },
          "metadata": {},
          "execution_count": 37
        }
      ]
    },
    {
      "cell_type": "code",
      "source": [
        "min(age_var)"
      ],
      "metadata": {
        "colab": {
          "base_uri": "https://localhost:8080/"
        },
        "id": "rKTMc4HhZxvF",
        "outputId": "39fcb4c1-3245-400a-ec1b-00fad78bb47a"
      },
      "execution_count": null,
      "outputs": [
        {
          "output_type": "execute_result",
          "data": {
            "text/plain": [
              "18"
            ]
          },
          "metadata": {},
          "execution_count": 38
        }
      ]
    },
    {
      "cell_type": "code",
      "source": [
        "age_subset=age_var[0:10]\n",
        "age_subset"
      ],
      "metadata": {
        "colab": {
          "base_uri": "https://localhost:8080/"
        },
        "id": "sksI02mUZ1Yn",
        "outputId": "50d5ce3f-d226-45ab-9b49-e33415a5eb5b"
      },
      "execution_count": null,
      "outputs": [
        {
          "output_type": "execute_result",
          "data": {
            "text/plain": [
              "array([58, 44, 33, 47, 33, 35, 28, 42, 58, 43])"
            ]
          },
          "metadata": {},
          "execution_count": 39
        }
      ]
    },
    {
      "cell_type": "code",
      "source": [
        "age_subset.min()"
      ],
      "metadata": {
        "colab": {
          "base_uri": "https://localhost:8080/"
        },
        "id": "TGQ21CwSZ67k",
        "outputId": "6a26a89b-4ebb-4596-abc5-0a0ce0176f35"
      },
      "execution_count": null,
      "outputs": [
        {
          "output_type": "execute_result",
          "data": {
            "text/plain": [
              "28"
            ]
          },
          "metadata": {},
          "execution_count": 41
        }
      ]
    },
    {
      "cell_type": "code",
      "source": [
        "age_subset.max()"
      ],
      "metadata": {
        "colab": {
          "base_uri": "https://localhost:8080/"
        },
        "id": "11B-3hRxaISB",
        "outputId": "924ad3c6-7843-4c10-b874-905b3dc56691"
      },
      "execution_count": null,
      "outputs": [
        {
          "output_type": "execute_result",
          "data": {
            "text/plain": [
              "58"
            ]
          },
          "metadata": {},
          "execution_count": 42
        }
      ]
    },
    {
      "cell_type": "code",
      "source": [
        "age_subset.mean()"
      ],
      "metadata": {
        "colab": {
          "base_uri": "https://localhost:8080/"
        },
        "id": "7o2TEBR3aQuo",
        "outputId": "09234327-92d8-491f-c63d-f1b6cdca9c74"
      },
      "execution_count": null,
      "outputs": [
        {
          "output_type": "execute_result",
          "data": {
            "text/plain": [
              "42.1"
            ]
          },
          "metadata": {},
          "execution_count": 43
        }
      ]
    },
    {
      "cell_type": "code",
      "source": [
        "age_subset.std()"
      ],
      "metadata": {
        "colab": {
          "base_uri": "https://localhost:8080/"
        },
        "id": "7AC3WTLDaeaj",
        "outputId": "3dfb989d-a74d-4602-ed81-3ed6c3022bd1"
      },
      "execution_count": null,
      "outputs": [
        {
          "output_type": "execute_result",
          "data": {
            "text/plain": [
              "9.741149829460586"
            ]
          },
          "metadata": {},
          "execution_count": 44
        }
      ]
    },
    {
      "cell_type": "code",
      "source": [
        "a.max()\n"
      ],
      "metadata": {
        "colab": {
          "base_uri": "https://localhost:8080/"
        },
        "id": "6Ip5qi3xa62K",
        "outputId": "8cb59f79-72c7-4a65-873e-afc260491c3d"
      },
      "execution_count": null,
      "outputs": [
        {
          "output_type": "execute_result",
          "data": {
            "text/plain": [
              "0.991688400925843"
            ]
          },
          "metadata": {},
          "execution_count": 57
        }
      ]
    },
    {
      "cell_type": "code",
      "source": [
        "a.min()"
      ],
      "metadata": {
        "colab": {
          "base_uri": "https://localhost:8080/"
        },
        "id": "yQmK-mPSbjND",
        "outputId": "ea25806b-8146-4ad1-c4cd-03db23b41c72"
      },
      "execution_count": null,
      "outputs": [
        {
          "output_type": "execute_result",
          "data": {
            "text/plain": [
              "0.0172151185554561"
            ]
          },
          "metadata": {},
          "execution_count": 58
        }
      ]
    },
    {
      "cell_type": "code",
      "source": [
        "a.max(axis=0)"
      ],
      "metadata": {
        "colab": {
          "base_uri": "https://localhost:8080/"
        },
        "id": "mS5GbvtBbpze",
        "outputId": "1e226842-8b2b-4c75-9a20-acec6d3c1dcd"
      },
      "execution_count": null,
      "outputs": [
        {
          "output_type": "execute_result",
          "data": {
            "text/plain": [
              "array([0.9916884 , 0.9286097 , 0.98666604, 0.81290687, 0.94290781])"
            ]
          },
          "metadata": {},
          "execution_count": 59
        }
      ]
    },
    {
      "cell_type": "code",
      "source": [
        "a=np.random.random((4,5))\n",
        "a"
      ],
      "metadata": {
        "colab": {
          "base_uri": "https://localhost:8080/"
        },
        "id": "Tiqrz8R_awl5",
        "outputId": "c709c63b-617c-4480-ee4c-767d226c7732"
      },
      "execution_count": null,
      "outputs": [
        {
          "output_type": "execute_result",
          "data": {
            "text/plain": [
              "array([[0.04839667, 0.71206574, 0.98666604, 0.42893164, 0.42222836],\n",
              "       [0.17614512, 0.9286097 , 0.85695847, 0.74918948, 0.86475693],\n",
              "       [0.9916884 , 0.49818044, 0.27300795, 0.47456811, 0.94290781],\n",
              "       [0.51804393, 0.81190884, 0.19072869, 0.81290687, 0.01721512]])"
            ]
          },
          "metadata": {},
          "execution_count": 56
        }
      ]
    },
    {
      "cell_type": "code",
      "source": [
        "a.max(axis=1)"
      ],
      "metadata": {
        "colab": {
          "base_uri": "https://localhost:8080/"
        },
        "id": "5iQ4r1yRb11q",
        "outputId": "9bc280f0-7fbd-434a-8da1-fbb7317a28c7"
      },
      "execution_count": null,
      "outputs": [
        {
          "output_type": "execute_result",
          "data": {
            "text/plain": [
              "array([0.98666604, 0.9286097 , 0.9916884 , 0.81290687])"
            ]
          },
          "metadata": {},
          "execution_count": 64
        }
      ]
    },
    {
      "cell_type": "code",
      "source": [
        "a.argmax(axis=1)"
      ],
      "metadata": {
        "colab": {
          "base_uri": "https://localhost:8080/"
        },
        "id": "8bVZIyARcBO8",
        "outputId": "2e368c9d-06a4-44c3-bd0d-148ea1578188"
      },
      "execution_count": null,
      "outputs": [
        {
          "output_type": "execute_result",
          "data": {
            "text/plain": [
              "array([2, 1, 0, 3])"
            ]
          },
          "metadata": {},
          "execution_count": 61
        }
      ]
    },
    {
      "cell_type": "code",
      "source": [
        "a.argmax(axis=0)"
      ],
      "metadata": {
        "colab": {
          "base_uri": "https://localhost:8080/"
        },
        "id": "-xDilOHmcR-a",
        "outputId": "840d762b-18b1-4b1e-ab1e-2cb42121b505"
      },
      "execution_count": null,
      "outputs": [
        {
          "output_type": "execute_result",
          "data": {
            "text/plain": [
              "array([2, 1, 0, 3, 2])"
            ]
          },
          "metadata": {},
          "execution_count": 62
        }
      ]
    },
    {
      "cell_type": "markdown",
      "source": [
        "# Lab-Placeholders and simple functions"
      ],
      "metadata": {
        "id": "iwbFA89Geokr"
      }
    },
    {
      "cell_type": "code",
      "source": [
        "eq_array=np.linspace(0,1,50)\n",
        "eq_array"
      ],
      "metadata": {
        "colab": {
          "base_uri": "https://localhost:8080/"
        },
        "id": "LB9PZ919etJX",
        "outputId": "867daff9-e53b-4dca-93df-9e188001c2a6"
      },
      "execution_count": null,
      "outputs": [
        {
          "output_type": "execute_result",
          "data": {
            "text/plain": [
              "array([0.        , 0.02040816, 0.04081633, 0.06122449, 0.08163265,\n",
              "       0.10204082, 0.12244898, 0.14285714, 0.16326531, 0.18367347,\n",
              "       0.20408163, 0.2244898 , 0.24489796, 0.26530612, 0.28571429,\n",
              "       0.30612245, 0.32653061, 0.34693878, 0.36734694, 0.3877551 ,\n",
              "       0.40816327, 0.42857143, 0.44897959, 0.46938776, 0.48979592,\n",
              "       0.51020408, 0.53061224, 0.55102041, 0.57142857, 0.59183673,\n",
              "       0.6122449 , 0.63265306, 0.65306122, 0.67346939, 0.69387755,\n",
              "       0.71428571, 0.73469388, 0.75510204, 0.7755102 , 0.79591837,\n",
              "       0.81632653, 0.83673469, 0.85714286, 0.87755102, 0.89795918,\n",
              "       0.91836735, 0.93877551, 0.95918367, 0.97959184, 1.        ])"
            ]
          },
          "metadata": {},
          "execution_count": 66
        }
      ]
    },
    {
      "cell_type": "code",
      "source": [
        "eq_array=eq_array.reshape(5,10)\n",
        "eq_array"
      ],
      "metadata": {
        "colab": {
          "base_uri": "https://localhost:8080/"
        },
        "id": "XuuK8eune6TF",
        "outputId": "39415f78-47d3-444d-94b7-4d69366911f3"
      },
      "execution_count": null,
      "outputs": [
        {
          "output_type": "execute_result",
          "data": {
            "text/plain": [
              "array([[0.        , 0.02040816, 0.04081633, 0.06122449, 0.08163265,\n",
              "        0.10204082, 0.12244898, 0.14285714, 0.16326531, 0.18367347],\n",
              "       [0.20408163, 0.2244898 , 0.24489796, 0.26530612, 0.28571429,\n",
              "        0.30612245, 0.32653061, 0.34693878, 0.36734694, 0.3877551 ],\n",
              "       [0.40816327, 0.42857143, 0.44897959, 0.46938776, 0.48979592,\n",
              "        0.51020408, 0.53061224, 0.55102041, 0.57142857, 0.59183673],\n",
              "       [0.6122449 , 0.63265306, 0.65306122, 0.67346939, 0.69387755,\n",
              "        0.71428571, 0.73469388, 0.75510204, 0.7755102 , 0.79591837],\n",
              "       [0.81632653, 0.83673469, 0.85714286, 0.87755102, 0.89795918,\n",
              "        0.91836735, 0.93877551, 0.95918367, 0.97959184, 1.        ]])"
            ]
          },
          "metadata": {},
          "execution_count": 67
        }
      ]
    },
    {
      "cell_type": "code",
      "source": [
        "ran=np.random.random(50)\n",
        "ran"
      ],
      "metadata": {
        "colab": {
          "base_uri": "https://localhost:8080/"
        },
        "id": "zNcRguiLfCtv",
        "outputId": "5d161bab-3790-4042-bb39-7cc8f251cdda"
      },
      "execution_count": null,
      "outputs": [
        {
          "output_type": "execute_result",
          "data": {
            "text/plain": [
              "array([0.92470215, 0.65854117, 0.55711707, 0.13159362, 0.37574594,\n",
              "       0.45067911, 0.03893438, 0.54192101, 0.47355891, 0.54785413,\n",
              "       0.56632593, 0.72955195, 0.14820375, 0.55408583, 0.30435468,\n",
              "       0.405468  , 0.03714372, 0.26626686, 0.81197068, 0.8302673 ,\n",
              "       0.93699694, 0.63207073, 0.40806171, 0.47901443, 0.5436651 ,\n",
              "       0.19393426, 0.81029043, 0.30093629, 0.62101155, 0.11049605,\n",
              "       0.84032798, 0.17984909, 0.76227276, 0.70945248, 0.08770469,\n",
              "       0.48721663, 0.34136109, 0.52392992, 0.94138868, 0.75165649,\n",
              "       0.40986478, 0.92133664, 0.05656824, 0.00519472, 0.92660941,\n",
              "       0.67316976, 0.08210779, 0.39733301, 0.04443711, 0.72782858])"
            ]
          },
          "metadata": {},
          "execution_count": 68
        }
      ]
    },
    {
      "cell_type": "code",
      "source": [
        "ran=ran.reshape(5,-1)\n",
        "ran"
      ],
      "metadata": {
        "colab": {
          "base_uri": "https://localhost:8080/"
        },
        "id": "VPWyQPcvfGoj",
        "outputId": "417b2ee1-58ff-413e-eedc-97441f5f2582"
      },
      "execution_count": null,
      "outputs": [
        {
          "output_type": "execute_result",
          "data": {
            "text/plain": [
              "array([[0.92470215, 0.65854117, 0.55711707, 0.13159362, 0.37574594,\n",
              "        0.45067911, 0.03893438, 0.54192101, 0.47355891, 0.54785413],\n",
              "       [0.56632593, 0.72955195, 0.14820375, 0.55408583, 0.30435468,\n",
              "        0.405468  , 0.03714372, 0.26626686, 0.81197068, 0.8302673 ],\n",
              "       [0.93699694, 0.63207073, 0.40806171, 0.47901443, 0.5436651 ,\n",
              "        0.19393426, 0.81029043, 0.30093629, 0.62101155, 0.11049605],\n",
              "       [0.84032798, 0.17984909, 0.76227276, 0.70945248, 0.08770469,\n",
              "        0.48721663, 0.34136109, 0.52392992, 0.94138868, 0.75165649],\n",
              "       [0.40986478, 0.92133664, 0.05656824, 0.00519472, 0.92660941,\n",
              "        0.67316976, 0.08210779, 0.39733301, 0.04443711, 0.72782858]])"
            ]
          },
          "metadata": {},
          "execution_count": 69
        }
      ]
    },
    {
      "cell_type": "code",
      "source": [
        "out=eq_array*ran\n",
        "out"
      ],
      "metadata": {
        "colab": {
          "base_uri": "https://localhost:8080/"
        },
        "id": "jZ53FnevfAZ2",
        "outputId": "f7dc4c0f-817e-42a9-8469-563b2e129b6b"
      },
      "execution_count": null,
      "outputs": [
        {
          "output_type": "execute_result",
          "data": {
            "text/plain": [
              "array([[0.        , 0.01343962, 0.02273947, 0.00805675, 0.03067314,\n",
              "        0.04598766, 0.00476748, 0.07741729, 0.07731574, 0.10062627],\n",
              "       [0.11557672, 0.16377697, 0.0362948 , 0.14700236, 0.08695848,\n",
              "        0.12412286, 0.01212856, 0.0923783 , 0.29827495, 0.32194038],\n",
              "       [0.38244773, 0.27088746, 0.18321138, 0.22484351, 0.26628495,\n",
              "        0.09894605, 0.42995002, 0.16582204, 0.35486374, 0.06539562],\n",
              "       [0.51448652, 0.11378208, 0.49781078, 0.47779453, 0.06085631,\n",
              "        0.34801188, 0.2507959 , 0.39562055, 0.73005653, 0.59825721],\n",
              "       [0.3345835 , 0.77091433, 0.04848706, 0.00455863, 0.83205743,\n",
              "        0.61821712, 0.07708079, 0.38111534, 0.04353023, 0.72782858]])"
            ]
          },
          "metadata": {},
          "execution_count": 70
        }
      ]
    },
    {
      "cell_type": "code",
      "source": [
        "#get index of max element in each row\n",
        "out.argmax(axis=1)"
      ],
      "metadata": {
        "colab": {
          "base_uri": "https://localhost:8080/"
        },
        "id": "CpQefoSAfWU1",
        "outputId": "d34edf10-9fd7-4686-bbcd-4e18194dc53c"
      },
      "execution_count": null,
      "outputs": [
        {
          "output_type": "execute_result",
          "data": {
            "text/plain": [
              "array([9, 9, 6, 8, 4])"
            ]
          },
          "metadata": {},
          "execution_count": 71
        }
      ]
    },
    {
      "cell_type": "code",
      "source": [
        "#Get min value in each column\n",
        "out.min(axis=0)"
      ],
      "metadata": {
        "colab": {
          "base_uri": "https://localhost:8080/"
        },
        "id": "eDKuar2hfcoz",
        "outputId": "d7ea35b1-c0f8-478e-8e92-75430cc6232d"
      },
      "execution_count": null,
      "outputs": [
        {
          "output_type": "execute_result",
          "data": {
            "text/plain": [
              "array([0.        , 0.01343962, 0.02273947, 0.00455863, 0.03067314,\n",
              "       0.04598766, 0.00476748, 0.07741729, 0.04353023, 0.06539562])"
            ]
          },
          "metadata": {},
          "execution_count": 72
        }
      ]
    },
    {
      "cell_type": "markdown",
      "source": [
        "# Reversing of arrays"
      ],
      "metadata": {
        "id": "WBWUX9eSfvWQ"
      }
    },
    {
      "cell_type": "code",
      "source": [
        "a=np.array([12,9,8,14,56])\n",
        "a"
      ],
      "metadata": {
        "colab": {
          "base_uri": "https://localhost:8080/"
        },
        "id": "Z2vD1B7PfyLj",
        "outputId": "dbaaf1de-e0ca-4674-cf5d-d56aa3273161"
      },
      "execution_count": null,
      "outputs": [
        {
          "output_type": "execute_result",
          "data": {
            "text/plain": [
              "array([12,  9,  8, 14, 56])"
            ]
          },
          "metadata": {},
          "execution_count": 73
        }
      ]
    },
    {
      "cell_type": "code",
      "source": [
        "b=np.flip(a)\n",
        "b"
      ],
      "metadata": {
        "colab": {
          "base_uri": "https://localhost:8080/"
        },
        "id": "ufJlnJ6thtMV",
        "outputId": "2bbcd61c-7e2e-4c69-c22e-0d932c701fc8"
      },
      "execution_count": null,
      "outputs": [
        {
          "output_type": "execute_result",
          "data": {
            "text/plain": [
              "array([56, 14,  8,  9, 12])"
            ]
          },
          "metadata": {},
          "execution_count": 74
        }
      ]
    },
    {
      "cell_type": "code",
      "source": [
        "b=a[::-1]\n",
        "b"
      ],
      "metadata": {
        "colab": {
          "base_uri": "https://localhost:8080/"
        },
        "id": "q-voS1qih3ZM",
        "outputId": "185882b4-5bcc-4096-f457-09691f3af77e"
      },
      "execution_count": null,
      "outputs": [
        {
          "output_type": "execute_result",
          "data": {
            "text/plain": [
              "array([56, 14,  8,  9, 12])"
            ]
          },
          "metadata": {},
          "execution_count": 75
        }
      ]
    },
    {
      "cell_type": "markdown",
      "source": [
        "# Sorting of array"
      ],
      "metadata": {
        "id": "yVQlMNvziFDT"
      }
    },
    {
      "cell_type": "code",
      "source": [
        "a=np.array([[12,66],[34,23]])\n",
        "a"
      ],
      "metadata": {
        "colab": {
          "base_uri": "https://localhost:8080/"
        },
        "id": "Lt2OTfwWiHPA",
        "outputId": "a450af80-c5f8-4624-c9ec-ab0eba770a8b"
      },
      "execution_count": null,
      "outputs": [
        {
          "output_type": "execute_result",
          "data": {
            "text/plain": [
              "array([[12, 66],\n",
              "       [34, 23]])"
            ]
          },
          "metadata": {},
          "execution_count": 76
        }
      ]
    },
    {
      "cell_type": "code",
      "source": [
        "arr1=np.sort(a,axis=1)\n",
        "arr1"
      ],
      "metadata": {
        "colab": {
          "base_uri": "https://localhost:8080/"
        },
        "id": "mYGdzdEriOT5",
        "outputId": "1d29c345-b86a-46e8-f63b-19d3efcc80cd"
      },
      "execution_count": null,
      "outputs": [
        {
          "output_type": "execute_result",
          "data": {
            "text/plain": [
              "array([[12, 66],\n",
              "       [23, 34]])"
            ]
          },
          "metadata": {},
          "execution_count": 77
        }
      ]
    },
    {
      "cell_type": "code",
      "source": [
        "arr1=np.sort(a,axis=0)\n",
        "arr1"
      ],
      "metadata": {
        "colab": {
          "base_uri": "https://localhost:8080/"
        },
        "id": "FC0rhRAqidnG",
        "outputId": "7b89e7c2-8eb8-487a-8f56-13e35ece0d68"
      },
      "execution_count": null,
      "outputs": [
        {
          "output_type": "execute_result",
          "data": {
            "text/plain": [
              "array([[12, 23],\n",
              "       [34, 66]])"
            ]
          },
          "metadata": {},
          "execution_count": 78
        }
      ]
    },
    {
      "cell_type": "markdown",
      "source": [
        "# Stacking of two arrays"
      ],
      "metadata": {
        "id": "C9ETC6cYi62I"
      }
    },
    {
      "cell_type": "code",
      "source": [
        "a=np.array([[1,2],[3,4]])\n",
        "a"
      ],
      "metadata": {
        "colab": {
          "base_uri": "https://localhost:8080/"
        },
        "id": "Yydcd5KcjBZe",
        "outputId": "025a72f8-bded-431b-bb1d-bc319590c2ad"
      },
      "execution_count": null,
      "outputs": [
        {
          "output_type": "execute_result",
          "data": {
            "text/plain": [
              "array([[1, 2],\n",
              "       [3, 4]])"
            ]
          },
          "metadata": {},
          "execution_count": 79
        }
      ]
    },
    {
      "cell_type": "code",
      "source": [
        "b=np.array([[5,6],[7,8]])\n",
        "b"
      ],
      "metadata": {
        "colab": {
          "base_uri": "https://localhost:8080/"
        },
        "id": "WKVIKKJGjGDa",
        "outputId": "209b4ce5-338f-4814-cfb3-ecee47da8639"
      },
      "execution_count": null,
      "outputs": [
        {
          "output_type": "execute_result",
          "data": {
            "text/plain": [
              "array([[5, 6],\n",
              "       [7, 8]])"
            ]
          },
          "metadata": {},
          "execution_count": 80
        }
      ]
    },
    {
      "cell_type": "code",
      "source": [
        "c=np.concatenate((a,b),axis=1)\n",
        "c"
      ],
      "metadata": {
        "colab": {
          "base_uri": "https://localhost:8080/"
        },
        "id": "jtV8OzxdjO8z",
        "outputId": "3b568cae-259e-45e3-9ddf-8bce66293ffd"
      },
      "execution_count": null,
      "outputs": [
        {
          "output_type": "execute_result",
          "data": {
            "text/plain": [
              "array([[1, 2, 5, 6],\n",
              "       [3, 4, 7, 8]])"
            ]
          },
          "metadata": {},
          "execution_count": 83
        }
      ]
    },
    {
      "cell_type": "code",
      "source": [
        "c=np.concatenate((a,b),axis=0)\n",
        "c"
      ],
      "metadata": {
        "colab": {
          "base_uri": "https://localhost:8080/"
        },
        "id": "s9boaLJgjqHm",
        "outputId": "56813949-2155-4b8f-ee71-54dec6a16390"
      },
      "execution_count": null,
      "outputs": [
        {
          "output_type": "execute_result",
          "data": {
            "text/plain": [
              "array([[1, 2],\n",
              "       [3, 4],\n",
              "       [5, 6],\n",
              "       [7, 8]])"
            ]
          },
          "metadata": {},
          "execution_count": 84
        }
      ]
    },
    {
      "cell_type": "code",
      "source": [],
      "metadata": {
        "id": "ibyTjVP7CN0i"
      },
      "execution_count": null,
      "outputs": []
    },
    {
      "cell_type": "code",
      "source": [],
      "metadata": {
        "id": "6mFVCmXhCSFX"
      },
      "execution_count": null,
      "outputs": []
    }
  ]
}