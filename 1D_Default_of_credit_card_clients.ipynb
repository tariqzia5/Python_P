{
  "nbformat": 4,
  "nbformat_minor": 0,
  "metadata": {
    "colab": {
      "provenance": [],
      "include_colab_link": true
    },
    "kernelspec": {
      "name": "python3",
      "display_name": "Python 3"
    },
    "language_info": {
      "name": "python"
    },
    "gpuClass": "standard"
  },
  "cells": [
    {
      "cell_type": "markdown",
      "metadata": {
        "id": "view-in-github",
        "colab_type": "text"
      },
      "source": [
        "<a href=\"https://colab.research.google.com/github/tariqzia5/Python_P/blob/main/1D_Default_of_credit_card_clients.ipynb\" target=\"_parent\"><img src=\"https://colab.research.google.com/assets/colab-badge.svg\" alt=\"Open In Colab\"/></a>"
      ]
    },
    {
      "cell_type": "markdown",
      "source": [
        "# Problem Statement\n",
        "Data Link : \n",
        "https://www.kaggle.com/uciml/default-of-credit-card-clients-dataset\n",
        "\n",
        "# About Dataset\n",
        "\n",
        "# Dataset Information\n",
        "This dataset contains information on default payments, demographic factors, credit data, history of payment, and bill statements of credit card clients in Taiwan from April 2005 to September 2005.\n",
        "\n",
        "# Content\n",
        "There are 25 variables:\n",
        "\n",
        "ID: ID of each client\n",
        "LIMIT_BAL: Amount of given credit in NT dollars (includes individual and family/supplementary credit\n",
        "SEX: Gender (1=male, 2=female)\n",
        "EDUCATION: (1=graduate school, 2=university, 3=high school, 4=others, 5=unknown, 6=unknown)\n",
        "MARRIAGE: Marital status (1=married, 2=single, 3=others)\n",
        "AGE: Age in years\n",
        "PAY_0: Repayment status in September, 2005 (-1=pay duly, 1=payment delay for one month, 2=payment delay for two months, … 8=payment delay for eight months, 9=payment delay for nine months and above)\n",
        "PAY_2: Repayment status in August, 2005 (scale same as above)\n",
        "PAY_3: Repayment status in July, 2005 (scale same as above)\n",
        "PAY_4: Repayment status in June, 2005 (scale same as above)\n",
        "PAY_5: Repayment status in May, 2005 (scale same as above)\n",
        "PAY_6: Repayment status in April, 2005 (scale same as above)\n",
        "BILL_AMT1: Amount of bill statement in September, 2005 (NT dollar)\n",
        "BILL_AMT2: Amount of bill statement in August, 2005 (NT dollar)\n",
        "BILL_AMT3: Amount of bill statement in July, 2005 (NT dollar)\n",
        "BILL_AMT4: Amount of bill statement in June, 2005 (NT dollar)\n",
        "BILL_AMT5: Amount of bill statement in May, 2005 (NT dollar)\n",
        "BILL_AMT6: Amount of bill statement in April, 2005 (NT dollar)\n",
        "PAY_AMT1: Amount of previous payment in September, 2005 (NT dollar)\n",
        "PAY_AMT2: Amount of previous payment in August, 2005 (NT dollar)\n",
        "PAY_AMT3: Amount of previous payment in July, 2005 (NT dollar)\n",
        "PAY_AMT4: Amount of previous payment in June, 2005 (NT dollar)\n",
        "PAY_AMT5: Amount of previous payment in May, 2005 (NT dollar)\n",
        "PAY_AMT6: Amount of previous payment in April, 2005 (NT dollar)\n",
        "default.payment.next.month: Default payment (1=yes, 0=no)\n",
        "\n",
        "# Inspiration\n",
        "\n",
        "Some ideas for exploration:\n",
        "\n",
        "How does the probability of default payment vary by categories of different demographic variables?\n",
        "Which variables are the strongest predictors of default payment?"
      ],
      "metadata": {
        "id": "U8MH55pyPizN"
      }
    },
    {
      "cell_type": "markdown",
      "source": [
        "# Project Objective\n",
        "\n",
        "**Background Goal:-**\n",
        "- To determine the important factors or variables are the strongest predictors of default payment and that can influence the chance of credit card default.\n",
        "- The probabilities of default on a payment that are affected by a variety of demographic factors.\n",
        "\n",
        "---\n",
        "\n",
        "**Number of Resources:-**5\n",
        "\n",
        "---\n",
        "\n",
        "\n",
        "**Business Impact:-**\n",
        "- Predict the chance of the bank's customers defaulting on their credit cards in the future month.\n",
        "- Build a strategy to convert bad customer to good customer.\n",
        "- Loss Provisioning\n",
        "\n",
        "---\n",
        "\n",
        "\n",
        "**Time Taken:-**\n",
        "- Data exploration-1 day\n",
        "- Data Cleaning and Preparation-1 day\n",
        "- Model Building and Validation-1 day"
      ],
      "metadata": {
        "id": "e2DVN2GZP9VM"
      }
    },
    {
      "cell_type": "code",
      "source": [
        "# Importing Packages\n",
        "import pandas as pd\n",
        "import seaborn as sns\n",
        "import numpy as np\n",
        "import matplotlib.pyplot as plt"
      ],
      "metadata": {
        "id": "D9aFOpP6QIrF"
      },
      "execution_count": 63,
      "outputs": []
    },
    {
      "cell_type": "code",
      "source": [
        "from google.colab import output\n",
        "output.clear()"
      ],
      "metadata": {
        "id": "87B0WUyUvc93"
      },
      "execution_count": 64,
      "outputs": []
    },
    {
      "cell_type": "code",
      "source": [
        "# Importing dataset\n",
        "cred_data=pd.read_csv('https://raw.githubusercontent.com/tariqzia5/Python_P/main/UCI_Credit_Card.csv')"
      ],
      "metadata": {
        "id": "e4kCEBlrQI39"
      },
      "execution_count": 65,
      "outputs": []
    },
    {
      "cell_type": "code",
      "source": [
        "cred_data.head()"
      ],
      "metadata": {
        "id": "BBjnHEX09WFK",
        "colab": {
          "base_uri": "https://localhost:8080/",
          "height": 0
        },
        "outputId": "bc3772e6-b446-4670-e750-5a7d4122f333",
        "collapsed": true
      },
      "execution_count": 66,
      "outputs": [
        {
          "output_type": "execute_result",
          "data": {
            "text/plain": [
              "   ID  LIMIT_BAL  SEX  EDUCATION  MARRIAGE  AGE  PAY_0  PAY_2  PAY_3  PAY_4  \\\n",
              "0   1    20000.0    2          2         1   24      2      2     -1     -1   \n",
              "1   2   120000.0    2          2         2   26     -1      2      0      0   \n",
              "2   3    90000.0    2          2         2   34      0      0      0      0   \n",
              "3   4    50000.0    2          2         1   37      0      0      0      0   \n",
              "4   5    50000.0    1          2         1   57     -1      0     -1      0   \n",
              "\n",
              "   ...  BILL_AMT4  BILL_AMT5  BILL_AMT6  PAY_AMT1  PAY_AMT2  PAY_AMT3  \\\n",
              "0  ...        0.0        0.0        0.0       0.0     689.0       0.0   \n",
              "1  ...     3272.0     3455.0     3261.0       0.0    1000.0    1000.0   \n",
              "2  ...    14331.0    14948.0    15549.0    1518.0    1500.0    1000.0   \n",
              "3  ...    28314.0    28959.0    29547.0    2000.0    2019.0    1200.0   \n",
              "4  ...    20940.0    19146.0    19131.0    2000.0   36681.0   10000.0   \n",
              "\n",
              "   PAY_AMT4  PAY_AMT5  PAY_AMT6  default.payment.next.month  \n",
              "0       0.0       0.0       0.0                           1  \n",
              "1    1000.0       0.0    2000.0                           1  \n",
              "2    1000.0    1000.0    5000.0                           0  \n",
              "3    1100.0    1069.0    1000.0                           0  \n",
              "4    9000.0     689.0     679.0                           0  \n",
              "\n",
              "[5 rows x 25 columns]"
            ],
            "text/html": [
              "\n",
              "  <div id=\"df-6024a932-d976-4c98-804d-90f5b9acc442\">\n",
              "    <div class=\"colab-df-container\">\n",
              "      <div>\n",
              "<style scoped>\n",
              "    .dataframe tbody tr th:only-of-type {\n",
              "        vertical-align: middle;\n",
              "    }\n",
              "\n",
              "    .dataframe tbody tr th {\n",
              "        vertical-align: top;\n",
              "    }\n",
              "\n",
              "    .dataframe thead th {\n",
              "        text-align: right;\n",
              "    }\n",
              "</style>\n",
              "<table border=\"1\" class=\"dataframe\">\n",
              "  <thead>\n",
              "    <tr style=\"text-align: right;\">\n",
              "      <th></th>\n",
              "      <th>ID</th>\n",
              "      <th>LIMIT_BAL</th>\n",
              "      <th>SEX</th>\n",
              "      <th>EDUCATION</th>\n",
              "      <th>MARRIAGE</th>\n",
              "      <th>AGE</th>\n",
              "      <th>PAY_0</th>\n",
              "      <th>PAY_2</th>\n",
              "      <th>PAY_3</th>\n",
              "      <th>PAY_4</th>\n",
              "      <th>...</th>\n",
              "      <th>BILL_AMT4</th>\n",
              "      <th>BILL_AMT5</th>\n",
              "      <th>BILL_AMT6</th>\n",
              "      <th>PAY_AMT1</th>\n",
              "      <th>PAY_AMT2</th>\n",
              "      <th>PAY_AMT3</th>\n",
              "      <th>PAY_AMT4</th>\n",
              "      <th>PAY_AMT5</th>\n",
              "      <th>PAY_AMT6</th>\n",
              "      <th>default.payment.next.month</th>\n",
              "    </tr>\n",
              "  </thead>\n",
              "  <tbody>\n",
              "    <tr>\n",
              "      <th>0</th>\n",
              "      <td>1</td>\n",
              "      <td>20000.0</td>\n",
              "      <td>2</td>\n",
              "      <td>2</td>\n",
              "      <td>1</td>\n",
              "      <td>24</td>\n",
              "      <td>2</td>\n",
              "      <td>2</td>\n",
              "      <td>-1</td>\n",
              "      <td>-1</td>\n",
              "      <td>...</td>\n",
              "      <td>0.0</td>\n",
              "      <td>0.0</td>\n",
              "      <td>0.0</td>\n",
              "      <td>0.0</td>\n",
              "      <td>689.0</td>\n",
              "      <td>0.0</td>\n",
              "      <td>0.0</td>\n",
              "      <td>0.0</td>\n",
              "      <td>0.0</td>\n",
              "      <td>1</td>\n",
              "    </tr>\n",
              "    <tr>\n",
              "      <th>1</th>\n",
              "      <td>2</td>\n",
              "      <td>120000.0</td>\n",
              "      <td>2</td>\n",
              "      <td>2</td>\n",
              "      <td>2</td>\n",
              "      <td>26</td>\n",
              "      <td>-1</td>\n",
              "      <td>2</td>\n",
              "      <td>0</td>\n",
              "      <td>0</td>\n",
              "      <td>...</td>\n",
              "      <td>3272.0</td>\n",
              "      <td>3455.0</td>\n",
              "      <td>3261.0</td>\n",
              "      <td>0.0</td>\n",
              "      <td>1000.0</td>\n",
              "      <td>1000.0</td>\n",
              "      <td>1000.0</td>\n",
              "      <td>0.0</td>\n",
              "      <td>2000.0</td>\n",
              "      <td>1</td>\n",
              "    </tr>\n",
              "    <tr>\n",
              "      <th>2</th>\n",
              "      <td>3</td>\n",
              "      <td>90000.0</td>\n",
              "      <td>2</td>\n",
              "      <td>2</td>\n",
              "      <td>2</td>\n",
              "      <td>34</td>\n",
              "      <td>0</td>\n",
              "      <td>0</td>\n",
              "      <td>0</td>\n",
              "      <td>0</td>\n",
              "      <td>...</td>\n",
              "      <td>14331.0</td>\n",
              "      <td>14948.0</td>\n",
              "      <td>15549.0</td>\n",
              "      <td>1518.0</td>\n",
              "      <td>1500.0</td>\n",
              "      <td>1000.0</td>\n",
              "      <td>1000.0</td>\n",
              "      <td>1000.0</td>\n",
              "      <td>5000.0</td>\n",
              "      <td>0</td>\n",
              "    </tr>\n",
              "    <tr>\n",
              "      <th>3</th>\n",
              "      <td>4</td>\n",
              "      <td>50000.0</td>\n",
              "      <td>2</td>\n",
              "      <td>2</td>\n",
              "      <td>1</td>\n",
              "      <td>37</td>\n",
              "      <td>0</td>\n",
              "      <td>0</td>\n",
              "      <td>0</td>\n",
              "      <td>0</td>\n",
              "      <td>...</td>\n",
              "      <td>28314.0</td>\n",
              "      <td>28959.0</td>\n",
              "      <td>29547.0</td>\n",
              "      <td>2000.0</td>\n",
              "      <td>2019.0</td>\n",
              "      <td>1200.0</td>\n",
              "      <td>1100.0</td>\n",
              "      <td>1069.0</td>\n",
              "      <td>1000.0</td>\n",
              "      <td>0</td>\n",
              "    </tr>\n",
              "    <tr>\n",
              "      <th>4</th>\n",
              "      <td>5</td>\n",
              "      <td>50000.0</td>\n",
              "      <td>1</td>\n",
              "      <td>2</td>\n",
              "      <td>1</td>\n",
              "      <td>57</td>\n",
              "      <td>-1</td>\n",
              "      <td>0</td>\n",
              "      <td>-1</td>\n",
              "      <td>0</td>\n",
              "      <td>...</td>\n",
              "      <td>20940.0</td>\n",
              "      <td>19146.0</td>\n",
              "      <td>19131.0</td>\n",
              "      <td>2000.0</td>\n",
              "      <td>36681.0</td>\n",
              "      <td>10000.0</td>\n",
              "      <td>9000.0</td>\n",
              "      <td>689.0</td>\n",
              "      <td>679.0</td>\n",
              "      <td>0</td>\n",
              "    </tr>\n",
              "  </tbody>\n",
              "</table>\n",
              "<p>5 rows × 25 columns</p>\n",
              "</div>\n",
              "      <button class=\"colab-df-convert\" onclick=\"convertToInteractive('df-6024a932-d976-4c98-804d-90f5b9acc442')\"\n",
              "              title=\"Convert this dataframe to an interactive table.\"\n",
              "              style=\"display:none;\">\n",
              "        \n",
              "  <svg xmlns=\"http://www.w3.org/2000/svg\" height=\"24px\"viewBox=\"0 0 24 24\"\n",
              "       width=\"24px\">\n",
              "    <path d=\"M0 0h24v24H0V0z\" fill=\"none\"/>\n",
              "    <path d=\"M18.56 5.44l.94 2.06.94-2.06 2.06-.94-2.06-.94-.94-2.06-.94 2.06-2.06.94zm-11 1L8.5 8.5l.94-2.06 2.06-.94-2.06-.94L8.5 2.5l-.94 2.06-2.06.94zm10 10l.94 2.06.94-2.06 2.06-.94-2.06-.94-.94-2.06-.94 2.06-2.06.94z\"/><path d=\"M17.41 7.96l-1.37-1.37c-.4-.4-.92-.59-1.43-.59-.52 0-1.04.2-1.43.59L10.3 9.45l-7.72 7.72c-.78.78-.78 2.05 0 2.83L4 21.41c.39.39.9.59 1.41.59.51 0 1.02-.2 1.41-.59l7.78-7.78 2.81-2.81c.8-.78.8-2.07 0-2.86zM5.41 20L4 18.59l7.72-7.72 1.47 1.35L5.41 20z\"/>\n",
              "  </svg>\n",
              "      </button>\n",
              "      \n",
              "  <style>\n",
              "    .colab-df-container {\n",
              "      display:flex;\n",
              "      flex-wrap:wrap;\n",
              "      gap: 12px;\n",
              "    }\n",
              "\n",
              "    .colab-df-convert {\n",
              "      background-color: #E8F0FE;\n",
              "      border: none;\n",
              "      border-radius: 50%;\n",
              "      cursor: pointer;\n",
              "      display: none;\n",
              "      fill: #1967D2;\n",
              "      height: 32px;\n",
              "      padding: 0 0 0 0;\n",
              "      width: 32px;\n",
              "    }\n",
              "\n",
              "    .colab-df-convert:hover {\n",
              "      background-color: #E2EBFA;\n",
              "      box-shadow: 0px 1px 2px rgba(60, 64, 67, 0.3), 0px 1px 3px 1px rgba(60, 64, 67, 0.15);\n",
              "      fill: #174EA6;\n",
              "    }\n",
              "\n",
              "    [theme=dark] .colab-df-convert {\n",
              "      background-color: #3B4455;\n",
              "      fill: #D2E3FC;\n",
              "    }\n",
              "\n",
              "    [theme=dark] .colab-df-convert:hover {\n",
              "      background-color: #434B5C;\n",
              "      box-shadow: 0px 1px 3px 1px rgba(0, 0, 0, 0.15);\n",
              "      filter: drop-shadow(0px 1px 2px rgba(0, 0, 0, 0.3));\n",
              "      fill: #FFFFFF;\n",
              "    }\n",
              "  </style>\n",
              "\n",
              "      <script>\n",
              "        const buttonEl =\n",
              "          document.querySelector('#df-6024a932-d976-4c98-804d-90f5b9acc442 button.colab-df-convert');\n",
              "        buttonEl.style.display =\n",
              "          google.colab.kernel.accessAllowed ? 'block' : 'none';\n",
              "\n",
              "        async function convertToInteractive(key) {\n",
              "          const element = document.querySelector('#df-6024a932-d976-4c98-804d-90f5b9acc442');\n",
              "          const dataTable =\n",
              "            await google.colab.kernel.invokeFunction('convertToInteractive',\n",
              "                                                     [key], {});\n",
              "          if (!dataTable) return;\n",
              "\n",
              "          const docLinkHtml = 'Like what you see? Visit the ' +\n",
              "            '<a target=\"_blank\" href=https://colab.research.google.com/notebooks/data_table.ipynb>data table notebook</a>'\n",
              "            + ' to learn more about interactive tables.';\n",
              "          element.innerHTML = '';\n",
              "          dataTable['output_type'] = 'display_data';\n",
              "          await google.colab.output.renderOutput(dataTable, element);\n",
              "          const docLink = document.createElement('div');\n",
              "          docLink.innerHTML = docLinkHtml;\n",
              "          element.appendChild(docLink);\n",
              "        }\n",
              "      </script>\n",
              "    </div>\n",
              "  </div>\n",
              "  "
            ]
          },
          "metadata": {},
          "execution_count": 66
        }
      ]
    },
    {
      "cell_type": "markdown",
      "source": [
        "# Data Exploration and Validation\n"
      ],
      "metadata": {
        "id": "XYJCJ4BeQJcz"
      }
    },
    {
      "cell_type": "code",
      "source": [
        "cred_data.shape"
      ],
      "metadata": {
        "id": "PBWN8suqnJ0Z",
        "colab": {
          "base_uri": "https://localhost:8080/"
        },
        "outputId": "3a7e8e81-5cb5-4464-dc8b-eea35dda71a4",
        "collapsed": true
      },
      "execution_count": 67,
      "outputs": [
        {
          "output_type": "execute_result",
          "data": {
            "text/plain": [
              "(30000, 25)"
            ]
          },
          "metadata": {},
          "execution_count": 67
        }
      ]
    },
    {
      "cell_type": "code",
      "source": [
        "cred_data.info()"
      ],
      "metadata": {
        "id": "pM53fTWU_aVU",
        "colab": {
          "base_uri": "https://localhost:8080/"
        },
        "outputId": "3b47ac52-6af2-4c81-f333-d40efbfccd8b",
        "collapsed": true
      },
      "execution_count": 68,
      "outputs": [
        {
          "output_type": "stream",
          "name": "stdout",
          "text": [
            "<class 'pandas.core.frame.DataFrame'>\n",
            "RangeIndex: 30000 entries, 0 to 29999\n",
            "Data columns (total 25 columns):\n",
            " #   Column                      Non-Null Count  Dtype  \n",
            "---  ------                      --------------  -----  \n",
            " 0   ID                          30000 non-null  int64  \n",
            " 1   LIMIT_BAL                   30000 non-null  float64\n",
            " 2   SEX                         30000 non-null  int64  \n",
            " 3   EDUCATION                   30000 non-null  int64  \n",
            " 4   MARRIAGE                    30000 non-null  int64  \n",
            " 5   AGE                         30000 non-null  int64  \n",
            " 6   PAY_0                       30000 non-null  int64  \n",
            " 7   PAY_2                       30000 non-null  int64  \n",
            " 8   PAY_3                       30000 non-null  int64  \n",
            " 9   PAY_4                       30000 non-null  int64  \n",
            " 10  PAY_5                       30000 non-null  int64  \n",
            " 11  PAY_6                       30000 non-null  int64  \n",
            " 12  BILL_AMT1                   30000 non-null  float64\n",
            " 13  BILL_AMT2                   30000 non-null  float64\n",
            " 14  BILL_AMT3                   30000 non-null  float64\n",
            " 15  BILL_AMT4                   30000 non-null  float64\n",
            " 16  BILL_AMT5                   30000 non-null  float64\n",
            " 17  BILL_AMT6                   30000 non-null  float64\n",
            " 18  PAY_AMT1                    30000 non-null  float64\n",
            " 19  PAY_AMT2                    30000 non-null  float64\n",
            " 20  PAY_AMT3                    30000 non-null  float64\n",
            " 21  PAY_AMT4                    30000 non-null  float64\n",
            " 22  PAY_AMT5                    30000 non-null  float64\n",
            " 23  PAY_AMT6                    30000 non-null  float64\n",
            " 24  default.payment.next.month  30000 non-null  int64  \n",
            "dtypes: float64(13), int64(12)\n",
            "memory usage: 5.7 MB\n"
          ]
        }
      ]
    },
    {
      "cell_type": "code",
      "source": [
        "#@title\n",
        "# Checking for null values in any columns\n",
        "cred_data.isnull().sum()"
      ],
      "metadata": {
        "id": "AOW7JB-nOMyc",
        "colab": {
          "base_uri": "https://localhost:8080/"
        },
        "collapsed": true,
        "outputId": "b8d79419-d84a-4d31-fb6e-ed727cfd4e57"
      },
      "execution_count": 69,
      "outputs": [
        {
          "output_type": "execute_result",
          "data": {
            "text/plain": [
              "ID                            0\n",
              "LIMIT_BAL                     0\n",
              "SEX                           0\n",
              "EDUCATION                     0\n",
              "MARRIAGE                      0\n",
              "AGE                           0\n",
              "PAY_0                         0\n",
              "PAY_2                         0\n",
              "PAY_3                         0\n",
              "PAY_4                         0\n",
              "PAY_5                         0\n",
              "PAY_6                         0\n",
              "BILL_AMT1                     0\n",
              "BILL_AMT2                     0\n",
              "BILL_AMT3                     0\n",
              "BILL_AMT4                     0\n",
              "BILL_AMT5                     0\n",
              "BILL_AMT6                     0\n",
              "PAY_AMT1                      0\n",
              "PAY_AMT2                      0\n",
              "PAY_AMT3                      0\n",
              "PAY_AMT4                      0\n",
              "PAY_AMT5                      0\n",
              "PAY_AMT6                      0\n",
              "default.payment.next.month    0\n",
              "dtype: int64"
            ]
          },
          "metadata": {},
          "execution_count": 69
        }
      ]
    },
    {
      "cell_type": "markdown",
      "source": [
        "## Categorical Variable Exploration"
      ],
      "metadata": {
        "id": "4H4UBjYL8e8k"
      }
    },
    {
      "cell_type": "code",
      "source": [
        "# Category 0,5,6 are undocumented so needed to be checked\n",
        "print(cred_data['EDUCATION'].value_counts())\n",
        "sns.countplot(cred_data['EDUCATION'])"
      ],
      "metadata": {
        "id": "xXJEguGscLK1",
        "colab": {
          "base_uri": "https://localhost:8080/",
          "height": 0
        },
        "outputId": "316ff92d-09b0-4120-9201-e03cf644c9a5",
        "collapsed": true
      },
      "execution_count": 70,
      "outputs": [
        {
          "output_type": "stream",
          "name": "stdout",
          "text": [
            "2    14030\n",
            "1    10585\n",
            "3     4917\n",
            "5      280\n",
            "4      123\n",
            "6       51\n",
            "0       14\n",
            "Name: EDUCATION, dtype: int64\n"
          ]
        },
        {
          "output_type": "execute_result",
          "data": {
            "text/plain": [
              "<Axes: ylabel='count'>"
            ]
          },
          "metadata": {},
          "execution_count": 70
        },
        {
          "output_type": "display_data",
          "data": {
            "text/plain": [
              "<Figure size 432x288 with 1 Axes>"
            ],
            "image/png": "[encoded data removed]"
          },
          "metadata": {
            "needs_background": "light"
          }
        }
      ]
    },
    {
      "cell_type": "code",
      "source": [
        "# Category 0 is undocumented to be checked\n",
        "print(cred_data['MARRIAGE'].value_counts())\n",
        "sns.countplot(cred_data['MARRIAGE'])"
      ],
      "metadata": {
        "id": "zAlvgIES_ljx",
        "colab": {
          "base_uri": "https://localhost:8080/",
          "height": 0
        },
        "outputId": "d4a25ba0-b9db-4024-9c8a-feddc19f7f84"
      },
      "execution_count": 71,
      "outputs": [
        {
          "output_type": "stream",
          "name": "stdout",
          "text": [
            "2    15964\n",
            "1    13659\n",
            "3      323\n",
            "0       54\n",
            "Name: MARRIAGE, dtype: int64\n"
          ]
        },
        {
          "output_type": "execute_result",
          "data": {
            "text/plain": [
              "<Axes: ylabel='count'>"
            ]
          },
          "metadata": {},
          "execution_count": 71
        },
        {
          "output_type": "display_data",
          "data": {
            "text/plain": [
              "<Figure size 432x288 with 1 Axes>"
            ],
            "image/png": "[encoded data removed]"
          },
          "metadata": {
            "needs_background": "light"
          }
        }
      ]
    },
    {
      "cell_type": "code",
      "source": [
        "# Some of the age values are more than 70 which is fine.\n",
        "cred_data['AGE'].value_counts()"
      ],
      "metadata": {
        "id": "xvLuNbDP_oAA",
        "colab": {
          "base_uri": "https://localhost:8080/"
        },
        "outputId": "a14e631d-f34a-4e61-f0fa-5bd8aaa38b6c"
      },
      "execution_count": 72,
      "outputs": [
        {
          "output_type": "execute_result",
          "data": {
            "text/plain": [
              "29    1605\n",
              "27    1477\n",
              "28    1409\n",
              "30    1395\n",
              "26    1256\n",
              "31    1217\n",
              "25    1186\n",
              "34    1162\n",
              "32    1158\n",
              "33    1146\n",
              "24    1127\n",
              "35    1113\n",
              "36    1108\n",
              "37    1041\n",
              "39     954\n",
              "38     944\n",
              "23     931\n",
              "40     870\n",
              "41     824\n",
              "42     794\n",
              "44     700\n",
              "43     670\n",
              "45     617\n",
              "46     570\n",
              "22     560\n",
              "47     501\n",
              "48     466\n",
              "49     452\n",
              "50     411\n",
              "51     340\n",
              "53     325\n",
              "52     304\n",
              "54     247\n",
              "55     209\n",
              "56     178\n",
              "58     122\n",
              "57     122\n",
              "59      83\n",
              "60      67\n",
              "21      67\n",
              "61      56\n",
              "62      44\n",
              "63      31\n",
              "64      31\n",
              "66      25\n",
              "65      24\n",
              "67      16\n",
              "69      15\n",
              "70      10\n",
              "68       5\n",
              "73       4\n",
              "72       3\n",
              "75       3\n",
              "71       3\n",
              "79       1\n",
              "74       1\n",
              "Name: AGE, dtype: int64"
            ]
          },
          "metadata": {},
          "execution_count": 72
        }
      ]
    },
    {
      "cell_type": "code",
      "source": [
        "cred_data.columns"
      ],
      "metadata": {
        "id": "ZNIb9vg1_oC0",
        "colab": {
          "base_uri": "https://localhost:8080/"
        },
        "outputId": "6797782a-69af-41f5-d9a4-317d2cd9056c"
      },
      "execution_count": 73,
      "outputs": [
        {
          "output_type": "execute_result",
          "data": {
            "text/plain": [
              "Index(['ID', 'LIMIT_BAL', 'SEX', 'EDUCATION', 'MARRIAGE', 'AGE', 'PAY_0',\n",
              "       'PAY_2', 'PAY_3', 'PAY_4', 'PAY_5', 'PAY_6', 'BILL_AMT1', 'BILL_AMT2',\n",
              "       'BILL_AMT3', 'BILL_AMT4', 'BILL_AMT5', 'BILL_AMT6', 'PAY_AMT1',\n",
              "       'PAY_AMT2', 'PAY_AMT3', 'PAY_AMT4', 'PAY_AMT5', 'PAY_AMT6',\n",
              "       'default.payment.next.month'],\n",
              "      dtype='object')"
            ]
          },
          "metadata": {},
          "execution_count": 73
        }
      ]
    },
    {
      "cell_type": "code",
      "source": [
        "# All the pay are having -2,0 category that are undocumented.\n",
        "# Given category -1 as pay duly(properly paid on time)\n",
        "# So -2,0,-1 can be treated as one category. to be checked\n",
        "print(cred_data['PAY_0'].value_counts())\n",
        "print(cred_data['PAY_2'].value_counts())"
      ],
      "metadata": {
        "id": "iOE8oV31_oPu",
        "colab": {
          "base_uri": "https://localhost:8080/"
        },
        "outputId": "de7814b3-3ea7-4a46-f6d6-25dc9bd9208c"
      },
      "execution_count": 74,
      "outputs": [
        {
          "output_type": "stream",
          "name": "stdout",
          "text": [
            " 0    14737\n",
            "-1     5686\n",
            " 1     3688\n",
            "-2     2759\n",
            " 2     2667\n",
            " 3      322\n",
            " 4       76\n",
            " 5       26\n",
            " 8       19\n",
            " 6       11\n",
            " 7        9\n",
            "Name: PAY_0, dtype: int64\n",
            " 0    15730\n",
            "-1     6050\n",
            " 2     3927\n",
            "-2     3782\n",
            " 3      326\n",
            " 4       99\n",
            " 1       28\n",
            " 5       25\n",
            " 7       20\n",
            " 6       12\n",
            " 8        1\n",
            "Name: PAY_2, dtype: int64\n"
          ]
        }
      ]
    },
    {
      "cell_type": "markdown",
      "source": [
        "## Continous Variable Exploration"
      ],
      "metadata": {
        "id": "7v96IbhGDfyK"
      }
    },
    {
      "cell_type": "code",
      "source": [
        "# BILL_AMT1 having 1% of negative values\n",
        "# BILL_AMT2 TO BILL_AMT6 having 2% negative values\n",
        "# can be treated as extra paid\n",
        "\n",
        "# Looks like Bill amount has 1% of outliers - to be cleaned\n",
        "cred_data[['BILL_AMT1','BILL_AMT2','BILL_AMT3', 'BILL_AMT4', 'BILL_AMT5', 'BILL_AMT6']].quantile([0,0.01,0.02,0.03,0.04,0.05,0.06,0.08,0.09,0.1,\n",
        "0.2,0.3,0.4,0.5,0.6,0.7,0.8,0.9,0.93,0.94,0.97,0.99,1])"
      ],
      "metadata": {
        "id": "_L9S9jQG9mip",
        "colab": {
          "base_uri": "https://localhost:8080/",
          "height": 0
        },
        "outputId": "8d38f67f-a405-4fd6-86e0-ca36d39b0456",
        "collapsed": true
      },
      "execution_count": 75,
      "outputs": [
        {
          "output_type": "execute_result",
          "data": {
            "text/plain": [
              "      BILL_AMT1  BILL_AMT2   BILL_AMT3  BILL_AMT4  BILL_AMT5  BILL_AMT6\n",
              "0.00 -165580.00  -69777.00  -157264.00 -170000.00  -81334.00 -339603.00\n",
              "0.01     -81.00    -200.00     -200.00    -212.02    -232.01    -331.03\n",
              "0.02       0.00      -4.00       -3.00      -3.02      -3.02      -6.00\n",
              "0.03       0.00       0.00        0.00       0.00       0.00       0.00\n",
              "0.04       0.00       0.00        0.00       0.00       0.00       0.00\n",
              "0.05       0.00       0.00        0.00       0.00       0.00       0.00\n",
              "0.06       0.00       0.00        0.00       0.00       0.00       0.00\n",
              "0.08       0.00       0.00        0.00       0.00       0.00       0.00\n",
              "0.09     131.82       0.00        0.00       0.00       0.00       0.00\n",
              "0.10     278.90       0.00        0.00       0.00       0.00       0.00\n",
              "0.20    1892.80    1472.80     1187.80     988.00     763.00     476.00\n",
              "0.30    6050.40    5500.00     5219.20    4643.70    3637.00    2701.70\n",
              "0.40   13469.20   12799.60    12197.20   11145.00    9809.20    8770.20\n",
              "0.50   22381.50   21200.00    20088.50   19052.00   18104.50   17071.00\n",
              "0.60   37045.20   34773.80    31401.00   28604.40   26690.40   25508.40\n",
              "0.70   52204.90   50690.00    49217.30   45456.60   40943.20   39252.20\n",
              "0.80   83421.20   80292.20    76777.40   70579.00   65823.00   63150.60\n",
              "0.90  142133.70  136905.50   132051.30  122418.70  115883.00  112110.40\n",
              "0.93  173630.63  167485.28   160049.77  148287.35  141291.49  137836.47\n",
              "0.94  187074.56  180578.40   173241.34  160944.12  151270.38  148093.84\n",
              "0.97  245969.84  236662.72   228277.79  210965.51  198861.03  195114.30\n",
              "0.99  350110.68  337495.28   325030.39  304997.27  285868.33  279505.06\n",
              "1.00  964511.00  983931.00  1664089.00  891586.00  927171.00  961664.00"
            ],
            "text/html": [
              "\n",
              "  <div id=\"df-30beb148-4dad-40a3-b1f7-1212e023f467\">\n",
              "    <div class=\"colab-df-container\">\n",
              "      <div>\n",
              "<style scoped>\n",
              "    .dataframe tbody tr th:only-of-type {\n",
              "        vertical-align: middle;\n",
              "    }\n",
              "\n",
              "    .dataframe tbody tr th {\n",
              "        vertical-align: top;\n",
              "    }\n",
              "\n",
              "    .dataframe thead th {\n",
              "        text-align: right;\n",
              "    }\n",
              "</style>\n",
              "<table border=\"1\" class=\"dataframe\">\n",
              "  <thead>\n",
              "    <tr style=\"text-align: right;\">\n",
              "      <th></th>\n",
              "      <th>BILL_AMT1</th>\n",
              "      <th>BILL_AMT2</th>\n",
              "      <th>BILL_AMT3</th>\n",
              "      <th>BILL_AMT4</th>\n",
              "      <th>BILL_AMT5</th>\n",
              "      <th>BILL_AMT6</th>\n",
              "    </tr>\n",
              "  </thead>\n",
              "  <tbody>\n",
              "    <tr>\n",
              "      <th>0.00</th>\n",
              "      <td>-165580.00</td>\n",
              "      <td>-69777.00</td>\n",
              "      <td>-157264.00</td>\n",
              "      <td>-170000.00</td>\n",
              "      <td>-81334.00</td>\n",
              "      <td>-339603.00</td>\n",
              "    </tr>\n",
              "    <tr>\n",
              "      <th>0.01</th>\n",
              "      <td>-81.00</td>\n",
              "      <td>-200.00</td>\n",
              "      <td>-200.00</td>\n",
              "      <td>-212.02</td>\n",
              "      <td>-232.01</td>\n",
              "      <td>-331.03</td>\n",
              "    </tr>\n",
              "    <tr>\n",
              "      <th>0.02</th>\n",
              "      <td>0.00</td>\n",
              "      <td>-4.00</td>\n",
              "      <td>-3.00</td>\n",
              "      <td>-3.02</td>\n",
              "      <td>-3.02</td>\n",
              "      <td>-6.00</td>\n",
              "    </tr>\n",
              "    <tr>\n",
              "      <th>0.03</th>\n",
              "      <td>0.00</td>\n",
              "      <td>0.00</td>\n",
              "      <td>0.00</td>\n",
              "      <td>0.00</td>\n",
              "      <td>0.00</td>\n",
              "      <td>0.00</td>\n",
              "    </tr>\n",
              "    <tr>\n",
              "      <th>0.04</th>\n",
              "      <td>0.00</td>\n",
              "      <td>0.00</td>\n",
              "      <td>0.00</td>\n",
              "      <td>0.00</td>\n",
              "      <td>0.00</td>\n",
              "      <td>0.00</td>\n",
              "    </tr>\n",
              "    <tr>\n",
              "      <th>0.05</th>\n",
              "      <td>0.00</td>\n",
              "      <td>0.00</td>\n",
              "      <td>0.00</td>\n",
              "      <td>0.00</td>\n",
              "      <td>0.00</td>\n",
              "      <td>0.00</td>\n",
              "    </tr>\n",
              "    <tr>\n",
              "      <th>0.06</th>\n",
              "      <td>0.00</td>\n",
              "      <td>0.00</td>\n",
              "      <td>0.00</td>\n",
              "      <td>0.00</td>\n",
              "      <td>0.00</td>\n",
              "      <td>0.00</td>\n",
              "    </tr>\n",
              "    <tr>\n",
              "      <th>0.08</th>\n",
              "      <td>0.00</td>\n",
              "      <td>0.00</td>\n",
              "      <td>0.00</td>\n",
              "      <td>0.00</td>\n",
              "      <td>0.00</td>\n",
              "      <td>0.00</td>\n",
              "    </tr>\n",
              "    <tr>\n",
              "      <th>0.09</th>\n",
              "      <td>131.82</td>\n",
              "      <td>0.00</td>\n",
              "      <td>0.00</td>\n",
              "      <td>0.00</td>\n",
              "      <td>0.00</td>\n",
              "      <td>0.00</td>\n",
              "    </tr>\n",
              "    <tr>\n",
              "      <th>0.10</th>\n",
              "      <td>278.90</td>\n",
              "      <td>0.00</td>\n",
              "      <td>0.00</td>\n",
              "      <td>0.00</td>\n",
              "      <td>0.00</td>\n",
              "      <td>0.00</td>\n",
              "    </tr>\n",
              "    <tr>\n",
              "      <th>0.20</th>\n",
              "      <td>1892.80</td>\n",
              "      <td>1472.80</td>\n",
              "      <td>1187.80</td>\n",
              "      <td>988.00</td>\n",
              "      <td>763.00</td>\n",
              "      <td>476.00</td>\n",
              "    </tr>\n",
              "    <tr>\n",
              "      <th>0.30</th>\n",
              "      <td>6050.40</td>\n",
              "      <td>5500.00</td>\n",
              "      <td>5219.20</td>\n",
              "      <td>4643.70</td>\n",
              "      <td>3637.00</td>\n",
              "      <td>2701.70</td>\n",
              "    </tr>\n",
              "    <tr>\n",
              "      <th>0.40</th>\n",
              "      <td>13469.20</td>\n",
              "      <td>12799.60</td>\n",
              "      <td>12197.20</td>\n",
              "      <td>11145.00</td>\n",
              "      <td>9809.20</td>\n",
              "      <td>8770.20</td>\n",
              "    </tr>\n",
              "    <tr>\n",
              "      <th>0.50</th>\n",
              "      <td>22381.50</td>\n",
              "      <td>21200.00</td>\n",
              "      <td>20088.50</td>\n",
              "      <td>19052.00</td>\n",
              "      <td>18104.50</td>\n",
              "      <td>17071.00</td>\n",
              "    </tr>\n",
              "    <tr>\n",
              "      <th>0.60</th>\n",
              "      <td>37045.20</td>\n",
              "      <td>34773.80</td>\n",
              "      <td>31401.00</td>\n",
              "      <td>28604.40</td>\n",
              "      <td>26690.40</td>\n",
              "      <td>25508.40</td>\n",
              "    </tr>\n",
              "    <tr>\n",
              "      <th>0.70</th>\n",
              "      <td>52204.90</td>\n",
              "      <td>50690.00</td>\n",
              "      <td>49217.30</td>\n",
              "      <td>45456.60</td>\n",
              "      <td>40943.20</td>\n",
              "      <td>39252.20</td>\n",
              "    </tr>\n",
              "    <tr>\n",
              "      <th>0.80</th>\n",
              "      <td>83421.20</td>\n",
              "      <td>80292.20</td>\n",
              "      <td>76777.40</td>\n",
              "      <td>70579.00</td>\n",
              "      <td>65823.00</td>\n",
              "      <td>63150.60</td>\n",
              "    </tr>\n",
              "    <tr>\n",
              "      <th>0.90</th>\n",
              "      <td>142133.70</td>\n",
              "      <td>136905.50</td>\n",
              "      <td>132051.30</td>\n",
              "      <td>122418.70</td>\n",
              "      <td>115883.00</td>\n",
              "      <td>112110.40</td>\n",
              "    </tr>\n",
              "    <tr>\n",
              "      <th>0.93</th>\n",
              "      <td>173630.63</td>\n",
              "      <td>167485.28</td>\n",
              "      <td>160049.77</td>\n",
              "      <td>148287.35</td>\n",
              "      <td>141291.49</td>\n",
              "      <td>137836.47</td>\n",
              "    </tr>\n",
              "    <tr>\n",
              "      <th>0.94</th>\n",
              "      <td>187074.56</td>\n",
              "      <td>180578.40</td>\n",
              "      <td>173241.34</td>\n",
              "      <td>160944.12</td>\n",
              "      <td>151270.38</td>\n",
              "      <td>148093.84</td>\n",
              "    </tr>\n",
              "    <tr>\n",
              "      <th>0.97</th>\n",
              "      <td>245969.84</td>\n",
              "      <td>236662.72</td>\n",
              "      <td>228277.79</td>\n",
              "      <td>210965.51</td>\n",
              "      <td>198861.03</td>\n",
              "      <td>195114.30</td>\n",
              "    </tr>\n",
              "    <tr>\n",
              "      <th>0.99</th>\n",
              "      <td>350110.68</td>\n",
              "      <td>337495.28</td>\n",
              "      <td>325030.39</td>\n",
              "      <td>304997.27</td>\n",
              "      <td>285868.33</td>\n",
              "      <td>279505.06</td>\n",
              "    </tr>\n",
              "    <tr>\n",
              "      <th>1.00</th>\n",
              "      <td>964511.00</td>\n",
              "      <td>983931.00</td>\n",
              "      <td>1664089.00</td>\n",
              "      <td>891586.00</td>\n",
              "      <td>927171.00</td>\n",
              "      <td>961664.00</td>\n",
              "    </tr>\n",
              "  </tbody>\n",
              "</table>\n",
              "</div>\n",
              "      <button class=\"colab-df-convert\" onclick=\"convertToInteractive('df-30beb148-4dad-40a3-b1f7-1212e023f467')\"\n",
              "              title=\"Convert this dataframe to an interactive table.\"\n",
              "              style=\"display:none;\">\n",
              "        \n",
              "  <svg xmlns=\"http://www.w3.org/2000/svg\" height=\"24px\"viewBox=\"0 0 24 24\"\n",
              "       width=\"24px\">\n",
              "    <path d=\"M0 0h24v24H0V0z\" fill=\"none\"/>\n",
              "    <path d=\"M18.56 5.44l.94 2.06.94-2.06 2.06-.94-2.06-.94-.94-2.06-.94 2.06-2.06.94zm-11 1L8.5 8.5l.94-2.06 2.06-.94-2.06-.94L8.5 2.5l-.94 2.06-2.06.94zm10 10l.94 2.06.94-2.06 2.06-.94-2.06-.94-.94-2.06-.94 2.06-2.06.94z\"/><path d=\"M17.41 7.96l-1.37-1.37c-.4-.4-.92-.59-1.43-.59-.52 0-1.04.2-1.43.59L10.3 9.45l-7.72 7.72c-.78.78-.78 2.05 0 2.83L4 21.41c.39.39.9.59 1.41.59.51 0 1.02-.2 1.41-.59l7.78-7.78 2.81-2.81c.8-.78.8-2.07 0-2.86zM5.41 20L4 18.59l7.72-7.72 1.47 1.35L5.41 20z\"/>\n",
              "  </svg>\n",
              "      </button>\n",
              "      \n",
              "  <style>\n",
              "    .colab-df-container {\n",
              "      display:flex;\n",
              "      flex-wrap:wrap;\n",
              "      gap: 12px;\n",
              "    }\n",
              "\n",
              "    .colab-df-convert {\n",
              "      background-color: #E8F0FE;\n",
              "      border: none;\n",
              "      border-radius: 50%;\n",
              "      cursor: pointer;\n",
              "      display: none;\n",
              "      fill: #1967D2;\n",
              "      height: 32px;\n",
              "      padding: 0 0 0 0;\n",
              "      width: 32px;\n",
              "    }\n",
              "\n",
              "    .colab-df-convert:hover {\n",
              "      background-color: #E2EBFA;\n",
              "      box-shadow: 0px 1px 2px rgba(60, 64, 67, 0.3), 0px 1px 3px 1px rgba(60, 64, 67, 0.15);\n",
              "      fill: #174EA6;\n",
              "    }\n",
              "\n",
              "    [theme=dark] .colab-df-convert {\n",
              "      background-color: #3B4455;\n",
              "      fill: #D2E3FC;\n",
              "    }\n",
              "\n",
              "    [theme=dark] .colab-df-convert:hover {\n",
              "      background-color: #434B5C;\n",
              "      box-shadow: 0px 1px 3px 1px rgba(0, 0, 0, 0.15);\n",
              "      filter: drop-shadow(0px 1px 2px rgba(0, 0, 0, 0.3));\n",
              "      fill: #FFFFFF;\n",
              "    }\n",
              "  </style>\n",
              "\n",
              "      <script>\n",
              "        const buttonEl =\n",
              "          document.querySelector('#df-30beb148-4dad-40a3-b1f7-1212e023f467 button.colab-df-convert');\n",
              "        buttonEl.style.display =\n",
              "          google.colab.kernel.accessAllowed ? 'block' : 'none';\n",
              "\n",
              "        async function convertToInteractive(key) {\n",
              "          const element = document.querySelector('#df-30beb148-4dad-40a3-b1f7-1212e023f467');\n",
              "          const dataTable =\n",
              "            await google.colab.kernel.invokeFunction('convertToInteractive',\n",
              "                                                     [key], {});\n",
              "          if (!dataTable) return;\n",
              "\n",
              "          const docLinkHtml = 'Like what you see? Visit the ' +\n",
              "            '<a target=\"_blank\" href=https://colab.research.google.com/notebooks/data_table.ipynb>data table notebook</a>'\n",
              "            + ' to learn more about interactive tables.';\n",
              "          element.innerHTML = '';\n",
              "          dataTable['output_type'] = 'display_data';\n",
              "          await google.colab.output.renderOutput(dataTable, element);\n",
              "          const docLink = document.createElement('div');\n",
              "          docLink.innerHTML = docLinkHtml;\n",
              "          element.appendChild(docLink);\n",
              "        }\n",
              "      </script>\n",
              "    </div>\n",
              "  </div>\n",
              "  "
            ]
          },
          "metadata": {},
          "execution_count": 75
        }
      ]
    },
    {
      "cell_type": "code",
      "source": [
        "cred_data[['BILL_AMT1','BILL_AMT2','BILL_AMT3', 'BILL_AMT4', 'BILL_AMT5', 'BILL_AMT6']].plot(kind='box')"
      ],
      "metadata": {
        "id": "MOQklfR1ATCS",
        "colab": {
          "base_uri": "https://localhost:8080/",
          "height": 0
        },
        "outputId": "e7196d75-94f8-43ee-a728-20ae70cb2cef"
      },
      "execution_count": 76,
      "outputs": [
        {
          "output_type": "execute_result",
          "data": {
            "text/plain": [
              "<Axes: >"
            ]
          },
          "metadata": {},
          "execution_count": 76
        },
        {
          "output_type": "display_data",
          "data": {
            "text/plain": [
              "<Figure size 432x288 with 1 Axes>"
            ],
            "image/png": "[encoded data removed]"
          },
          "metadata": {
            "needs_background": "light"
          }
        }
      ]
    },
    {
      "cell_type": "code",
      "source": [],
      "metadata": {
        "id": "UpMQpkNLb_-y"
      },
      "execution_count": 76,
      "outputs": []
    },
    {
      "cell_type": "code",
      "source": [],
      "metadata": {
        "id": "XaLwTwMAcAoq"
      },
      "execution_count": 76,
      "outputs": []
    },
    {
      "cell_type": "code",
      "source": [],
      "metadata": {
        "id": "ZxMa_wdjcArL"
      },
      "execution_count": 76,
      "outputs": []
    },
    {
      "cell_type": "code",
      "source": [
        "# Pay amount has 1% of extreme outlier needed to be cleaned\n",
        "cred_data[['PAY_AMT1','PAY_AMT2', 'PAY_AMT3', 'PAY_AMT4', 'PAY_AMT5', 'PAY_AMT6']].quantile([0,0.1,0.2,0.3,0.4,0.5,0.6,0.7,0.8,0.9,0.93,0.94,0.97,0.99,1])"
      ],
      "metadata": {
        "id": "D4aVMPcGMKut",
        "colab": {
          "base_uri": "https://localhost:8080/",
          "height": 0
        },
        "outputId": "0ea1f8c9-fb58-4703-f3e7-9628d27d90d4"
      },
      "execution_count": 77,
      "outputs": [
        {
          "output_type": "execute_result",
          "data": {
            "text/plain": [
              "       PAY_AMT1    PAY_AMT2   PAY_AMT3   PAY_AMT4   PAY_AMT5   PAY_AMT6\n",
              "0.00       0.00        0.00       0.00       0.00       0.00       0.00\n",
              "0.10       0.00        0.00       0.00       0.00       0.00       0.00\n",
              "0.20     316.00      268.80       2.80       0.00       0.00       0.00\n",
              "0.30    1263.70     1165.00     780.00     500.00     500.00     426.00\n",
              "0.40    1724.00     1600.00    1206.00    1000.00    1000.00    1000.00\n",
              "0.50    2100.00     2009.00    1800.00    1500.00    1500.00    1500.00\n",
              "0.60    3000.00     3000.00    2500.00    2100.00    2123.40    2100.00\n",
              "0.70    4309.30     4045.30    3560.30    3200.00    3200.00    3200.00\n",
              "0.80    6192.20     6000.00    5284.00    5000.00    5000.00    5000.00\n",
              "0.90   10300.00    10401.10   10000.00    9570.60    9500.00    9600.00\n",
              "0.93   14127.07    14131.26   13000.00   11985.21   11964.14   12017.14\n",
              "0.94   15510.66    16000.00   15000.00   13949.60   13939.06   14442.86\n",
              "0.97   28232.78    29000.00   27000.33   26665.40   25314.21   29561.76\n",
              "0.99   66522.18    76651.02   70000.00   67054.44   65607.56   82619.05\n",
              "1.00  873552.00  1684259.00  896040.00  621000.00  426529.00  528666.00"
            ],
            "text/html": [
              "\n",
              "  <div id=\"df-4160c67a-c94c-4de6-bd2f-de1896a6a5bb\">\n",
              "    <div class=\"colab-df-container\">\n",
              "      <div>\n",
              "<style scoped>\n",
              "    .dataframe tbody tr th:only-of-type {\n",
              "        vertical-align: middle;\n",
              "    }\n",
              "\n",
              "    .dataframe tbody tr th {\n",
              "        vertical-align: top;\n",
              "    }\n",
              "\n",
              "    .dataframe thead th {\n",
              "        text-align: right;\n",
              "    }\n",
              "</style>\n",
              "<table border=\"1\" class=\"dataframe\">\n",
              "  <thead>\n",
              "    <tr style=\"text-align: right;\">\n",
              "      <th></th>\n",
              "      <th>PAY_AMT1</th>\n",
              "      <th>PAY_AMT2</th>\n",
              "      <th>PAY_AMT3</th>\n",
              "      <th>PAY_AMT4</th>\n",
              "      <th>PAY_AMT5</th>\n",
              "      <th>PAY_AMT6</th>\n",
              "    </tr>\n",
              "  </thead>\n",
              "  <tbody>\n",
              "    <tr>\n",
              "      <th>0.00</th>\n",
              "      <td>0.00</td>\n",
              "      <td>0.00</td>\n",
              "      <td>0.00</td>\n",
              "      <td>0.00</td>\n",
              "      <td>0.00</td>\n",
              "      <td>0.00</td>\n",
              "    </tr>\n",
              "    <tr>\n",
              "      <th>0.10</th>\n",
              "      <td>0.00</td>\n",
              "      <td>0.00</td>\n",
              "      <td>0.00</td>\n",
              "      <td>0.00</td>\n",
              "      <td>0.00</td>\n",
              "      <td>0.00</td>\n",
              "    </tr>\n",
              "    <tr>\n",
              "      <th>0.20</th>\n",
              "      <td>316.00</td>\n",
              "      <td>268.80</td>\n",
              "      <td>2.80</td>\n",
              "      <td>0.00</td>\n",
              "      <td>0.00</td>\n",
              "      <td>0.00</td>\n",
              "    </tr>\n",
              "    <tr>\n",
              "      <th>0.30</th>\n",
              "      <td>1263.70</td>\n",
              "      <td>1165.00</td>\n",
              "      <td>780.00</td>\n",
              "      <td>500.00</td>\n",
              "      <td>500.00</td>\n",
              "      <td>426.00</td>\n",
              "    </tr>\n",
              "    <tr>\n",
              "      <th>0.40</th>\n",
              "      <td>1724.00</td>\n",
              "      <td>1600.00</td>\n",
              "      <td>1206.00</td>\n",
              "      <td>1000.00</td>\n",
              "      <td>1000.00</td>\n",
              "      <td>1000.00</td>\n",
              "    </tr>\n",
              "    <tr>\n",
              "      <th>0.50</th>\n",
              "      <td>2100.00</td>\n",
              "      <td>2009.00</td>\n",
              "      <td>1800.00</td>\n",
              "      <td>1500.00</td>\n",
              "      <td>1500.00</td>\n",
              "      <td>1500.00</td>\n",
              "    </tr>\n",
              "    <tr>\n",
              "      <th>0.60</th>\n",
              "      <td>3000.00</td>\n",
              "      <td>3000.00</td>\n",
              "      <td>2500.00</td>\n",
              "      <td>2100.00</td>\n",
              "      <td>2123.40</td>\n",
              "      <td>2100.00</td>\n",
              "    </tr>\n",
              "    <tr>\n",
              "      <th>0.70</th>\n",
              "      <td>4309.30</td>\n",
              "      <td>4045.30</td>\n",
              "      <td>3560.30</td>\n",
              "      <td>3200.00</td>\n",
              "      <td>3200.00</td>\n",
              "      <td>3200.00</td>\n",
              "    </tr>\n",
              "    <tr>\n",
              "      <th>0.80</th>\n",
              "      <td>6192.20</td>\n",
              "      <td>6000.00</td>\n",
              "      <td>5284.00</td>\n",
              "      <td>5000.00</td>\n",
              "      <td>5000.00</td>\n",
              "      <td>5000.00</td>\n",
              "    </tr>\n",
              "    <tr>\n",
              "      <th>0.90</th>\n",
              "      <td>10300.00</td>\n",
              "      <td>10401.10</td>\n",
              "      <td>10000.00</td>\n",
              "      <td>9570.60</td>\n",
              "      <td>9500.00</td>\n",
              "      <td>9600.00</td>\n",
              "    </tr>\n",
              "    <tr>\n",
              "      <th>0.93</th>\n",
              "      <td>14127.07</td>\n",
              "      <td>14131.26</td>\n",
              "      <td>13000.00</td>\n",
              "      <td>11985.21</td>\n",
              "      <td>11964.14</td>\n",
              "      <td>12017.14</td>\n",
              "    </tr>\n",
              "    <tr>\n",
              "      <th>0.94</th>\n",
              "      <td>15510.66</td>\n",
              "      <td>16000.00</td>\n",
              "      <td>15000.00</td>\n",
              "      <td>13949.60</td>\n",
              "      <td>13939.06</td>\n",
              "      <td>14442.86</td>\n",
              "    </tr>\n",
              "    <tr>\n",
              "      <th>0.97</th>\n",
              "      <td>28232.78</td>\n",
              "      <td>29000.00</td>\n",
              "      <td>27000.33</td>\n",
              "      <td>26665.40</td>\n",
              "      <td>25314.21</td>\n",
              "      <td>29561.76</td>\n",
              "    </tr>\n",
              "    <tr>\n",
              "      <th>0.99</th>\n",
              "      <td>66522.18</td>\n",
              "      <td>76651.02</td>\n",
              "      <td>70000.00</td>\n",
              "      <td>67054.44</td>\n",
              "      <td>65607.56</td>\n",
              "      <td>82619.05</td>\n",
              "    </tr>\n",
              "    <tr>\n",
              "      <th>1.00</th>\n",
              "      <td>873552.00</td>\n",
              "      <td>1684259.00</td>\n",
              "      <td>896040.00</td>\n",
              "      <td>621000.00</td>\n",
              "      <td>426529.00</td>\n",
              "      <td>528666.00</td>\n",
              "    </tr>\n",
              "  </tbody>\n",
              "</table>\n",
              "</div>\n",
              "      <button class=\"colab-df-convert\" onclick=\"convertToInteractive('df-4160c67a-c94c-4de6-bd2f-de1896a6a5bb')\"\n",
              "              title=\"Convert this dataframe to an interactive table.\"\n",
              "              style=\"display:none;\">\n",
              "        \n",
              "  <svg xmlns=\"http://www.w3.org/2000/svg\" height=\"24px\"viewBox=\"0 0 24 24\"\n",
              "       width=\"24px\">\n",
              "    <path d=\"M0 0h24v24H0V0z\" fill=\"none\"/>\n",
              "    <path d=\"M18.56 5.44l.94 2.06.94-2.06 2.06-.94-2.06-.94-.94-2.06-.94 2.06-2.06.94zm-11 1L8.5 8.5l.94-2.06 2.06-.94-2.06-.94L8.5 2.5l-.94 2.06-2.06.94zm10 10l.94 2.06.94-2.06 2.06-.94-2.06-.94-.94-2.06-.94 2.06-2.06.94z\"/><path d=\"M17.41 7.96l-1.37-1.37c-.4-.4-.92-.59-1.43-.59-.52 0-1.04.2-1.43.59L10.3 9.45l-7.72 7.72c-.78.78-.78 2.05 0 2.83L4 21.41c.39.39.9.59 1.41.59.51 0 1.02-.2 1.41-.59l7.78-7.78 2.81-2.81c.8-.78.8-2.07 0-2.86zM5.41 20L4 18.59l7.72-7.72 1.47 1.35L5.41 20z\"/>\n",
              "  </svg>\n",
              "      </button>\n",
              "      \n",
              "  <style>\n",
              "    .colab-df-container {\n",
              "      display:flex;\n",
              "      flex-wrap:wrap;\n",
              "      gap: 12px;\n",
              "    }\n",
              "\n",
              "    .colab-df-convert {\n",
              "      background-color: #E8F0FE;\n",
              "      border: none;\n",
              "      border-radius: 50%;\n",
              "      cursor: pointer;\n",
              "      display: none;\n",
              "      fill: #1967D2;\n",
              "      height: 32px;\n",
              "      padding: 0 0 0 0;\n",
              "      width: 32px;\n",
              "    }\n",
              "\n",
              "    .colab-df-convert:hover {\n",
              "      background-color: #E2EBFA;\n",
              "      box-shadow: 0px 1px 2px rgba(60, 64, 67, 0.3), 0px 1px 3px 1px rgba(60, 64, 67, 0.15);\n",
              "      fill: #174EA6;\n",
              "    }\n",
              "\n",
              "    [theme=dark] .colab-df-convert {\n",
              "      background-color: #3B4455;\n",
              "      fill: #D2E3FC;\n",
              "    }\n",
              "\n",
              "    [theme=dark] .colab-df-convert:hover {\n",
              "      background-color: #434B5C;\n",
              "      box-shadow: 0px 1px 3px 1px rgba(0, 0, 0, 0.15);\n",
              "      filter: drop-shadow(0px 1px 2px rgba(0, 0, 0, 0.3));\n",
              "      fill: #FFFFFF;\n",
              "    }\n",
              "  </style>\n",
              "\n",
              "      <script>\n",
              "        const buttonEl =\n",
              "          document.querySelector('#df-4160c67a-c94c-4de6-bd2f-de1896a6a5bb button.colab-df-convert');\n",
              "        buttonEl.style.display =\n",
              "          google.colab.kernel.accessAllowed ? 'block' : 'none';\n",
              "\n",
              "        async function convertToInteractive(key) {\n",
              "          const element = document.querySelector('#df-4160c67a-c94c-4de6-bd2f-de1896a6a5bb');\n",
              "          const dataTable =\n",
              "            await google.colab.kernel.invokeFunction('convertToInteractive',\n",
              "                                                     [key], {});\n",
              "          if (!dataTable) return;\n",
              "\n",
              "          const docLinkHtml = 'Like what you see? Visit the ' +\n",
              "            '<a target=\"_blank\" href=https://colab.research.google.com/notebooks/data_table.ipynb>data table notebook</a>'\n",
              "            + ' to learn more about interactive tables.';\n",
              "          element.innerHTML = '';\n",
              "          dataTable['output_type'] = 'display_data';\n",
              "          await google.colab.output.renderOutput(dataTable, element);\n",
              "          const docLink = document.createElement('div');\n",
              "          docLink.innerHTML = docLinkHtml;\n",
              "          element.appendChild(docLink);\n",
              "        }\n",
              "      </script>\n",
              "    </div>\n",
              "  </div>\n",
              "  "
            ]
          },
          "metadata": {},
          "execution_count": 77
        }
      ]
    },
    {
      "cell_type": "code",
      "source": [
        "# Extreme Outliers have completely compressed the boxplot\n",
        "cred_data[['PAY_AMT1','PAY_AMT2', 'PAY_AMT3', 'PAY_AMT4', 'PAY_AMT5', 'PAY_AMT6']].plot(kind='box')"
      ],
      "metadata": {
        "id": "EtPLUmUkCiee",
        "colab": {
          "base_uri": "https://localhost:8080/",
          "height": 0
        },
        "outputId": "95d8215f-3adc-44a6-e2f6-1df8de53161c"
      },
      "execution_count": 78,
      "outputs": [
        {
          "output_type": "execute_result",
          "data": {
            "text/plain": [
              "<Axes: >"
            ]
          },
          "metadata": {},
          "execution_count": 78
        },
        {
          "output_type": "display_data",
          "data": {
            "text/plain": [
              "<Figure size 432x288 with 1 Axes>"
            ],
            "image/png": "[encoded data removed]"
          },
          "metadata": {
            "needs_background": "light"
          }
        }
      ]
    },
    {
      "cell_type": "code",
      "source": [
        "# Limit_Bal contains 1% of extreme outliers - require cleaning\n",
        "cred_data['LIMIT_BAL'].quantile([0,0.1,0.2,0.3,0.4,0.5,0.6,0.7,0.8,0.9,0.93,0.94,0.97,0.99,1])"
      ],
      "metadata": {
        "id": "6Ppg3MtiVNay",
        "colab": {
          "base_uri": "https://localhost:8080/"
        },
        "outputId": "5ec0dce9-c61f-4aa2-9d67-44aa32236d56"
      },
      "execution_count": 79,
      "outputs": [
        {
          "output_type": "execute_result",
          "data": {
            "text/plain": [
              "0.00      10000.0\n",
              "0.10      30000.0\n",
              "0.20      50000.0\n",
              "0.30      70000.0\n",
              "0.40     100000.0\n",
              "0.50     140000.0\n",
              "0.60     180000.0\n",
              "0.70     210000.0\n",
              "0.80     270000.0\n",
              "0.90     360000.0\n",
              "0.93     390000.0\n",
              "0.94     410000.0\n",
              "0.97     500000.0\n",
              "0.99     500000.0\n",
              "1.00    1000000.0\n",
              "Name: LIMIT_BAL, dtype: float64"
            ]
          },
          "metadata": {},
          "execution_count": 79
        }
      ]
    },
    {
      "cell_type": "code",
      "source": [
        "sns.boxplot(y=cred_data['LIMIT_BAL'])"
      ],
      "metadata": {
        "id": "eaMomjwNDET_",
        "colab": {
          "base_uri": "https://localhost:8080/",
          "height": 0
        },
        "outputId": "43d64259-889c-42d0-dcc8-de687eaa2bbc"
      },
      "execution_count": 80,
      "outputs": [
        {
          "output_type": "execute_result",
          "data": {
            "text/plain": [
              "<Axes: ylabel='LIMIT_BAL'>"
            ]
          },
          "metadata": {},
          "execution_count": 80
        },
        {
          "output_type": "display_data",
          "data": {
            "text/plain": [
              "<Figure size 432x288 with 1 Axes>"
            ],
            "image/png": "[encoded data removed]"
          },
          "metadata": {
            "needs_background": "light"
          }
        }
      ]
    },
    {
      "cell_type": "markdown",
      "source": [
        "# Data Cleaning"
      ],
      "metadata": {
        "id": "xqw-jWw7UwgM"
      }
    },
    {
      "cell_type": "markdown",
      "source": [
        "## Cleaning Categorical Variables"
      ],
      "metadata": {
        "id": "iT2f4qfcFHMq"
      }
    },
    {
      "cell_type": "code",
      "source": [
        "# Simply Category 5,6,0 values are undocumented so we can pour it into category 4 metioned others.\n",
        "unknown=(cred_data['EDUCATION']==5)|(cred_data['EDUCATION']==6)|(cred_data['EDUCATION']==0)\n",
        "cred_data.loc[unknown,'EDUCATION']=4\n",
        "cred_data['EDUCATION'].value_counts()"
      ],
      "metadata": {
        "id": "gDy01066X9To",
        "colab": {
          "base_uri": "https://localhost:8080/"
        },
        "outputId": "de2a08db-f696-4a52-d3e8-aa8d83698755",
        "collapsed": true
      },
      "execution_count": 81,
      "outputs": [
        {
          "output_type": "execute_result",
          "data": {
            "text/plain": [
              "2    14030\n",
              "1    10585\n",
              "3     4917\n",
              "4      468\n",
              "Name: EDUCATION, dtype: int64"
            ]
          },
          "metadata": {},
          "execution_count": 81
        }
      ]
    },
    {
      "cell_type": "code",
      "source": [
        "# Category 0 value are undocumented so we can pour it into category 3 mentioned as others.\n",
        "unknown=cred_data['MARRIAGE']==0\n",
        "cred_data.loc[unknown,'MARRIAGE']=3\n",
        "cred_data['MARRIAGE'].value_counts()"
      ],
      "metadata": {
        "id": "FM-dJibATEv_",
        "colab": {
          "base_uri": "https://localhost:8080/"
        },
        "outputId": "93fdeba1-ac27-49ff-d3f4-aff500e6d95e",
        "collapsed": true
      },
      "execution_count": 82,
      "outputs": [
        {
          "output_type": "execute_result",
          "data": {
            "text/plain": [
              "2    15964\n",
              "1    13659\n",
              "3      377\n",
              "Name: MARRIAGE, dtype: int64"
            ]
          },
          "metadata": {},
          "execution_count": 82
        }
      ]
    },
    {
      "cell_type": "code",
      "source": [
        "# Frequency of each category\n",
        "cred_data.PAY_0.value_counts()"
      ],
      "metadata": {
        "id": "I9WqN85b9CdL",
        "colab": {
          "base_uri": "https://localhost:8080/"
        },
        "outputId": "03f9c4a1-7f72-43ce-fbe7-75cf680793fe",
        "collapsed": true
      },
      "execution_count": 83,
      "outputs": [
        {
          "output_type": "execute_result",
          "data": {
            "text/plain": [
              " 0    14737\n",
              "-1     5686\n",
              " 1     3688\n",
              "-2     2759\n",
              " 2     2667\n",
              " 3      322\n",
              " 4       76\n",
              " 5       26\n",
              " 8       19\n",
              " 6       11\n",
              " 7        9\n",
              "Name: PAY_0, dtype: int64"
            ]
          },
          "metadata": {},
          "execution_count": 83
        }
      ]
    },
    {
      "cell_type": "code",
      "source": [
        "#Cross tab with target\n",
        "cross_cred_data2=pd.crosstab(cred_data['PAY_2'],cred_data['default.payment.next.month'])"
      ],
      "metadata": {
        "id": "mXlc7NKYt2IC"
      },
      "execution_count": 84,
      "outputs": []
    },
    {
      "cell_type": "code",
      "source": [
        "#Cross tab row Percentages\n",
        "cross_cred_data2_percent=cross_cred_data2.apply(lambda x: x/x.sum(), axis=1)\n",
        "round(cross_cred_data2_percent,2)"
      ],
      "metadata": {
        "id": "uyMFZJrVxGQ8",
        "colab": {
          "base_uri": "https://localhost:8080/",
          "height": 425
        },
        "outputId": "eb80c343-85b5-4659-e2db-57e91be66ac4",
        "collapsed": true
      },
      "execution_count": 85,
      "outputs": [
        {
          "output_type": "execute_result",
          "data": {
            "text/plain": [
              "default.payment.next.month     0     1\n",
              "PAY_2                                 \n",
              "-2                          0.82  0.18\n",
              "-1                          0.84  0.16\n",
              " 0                          0.84  0.16\n",
              " 1                          0.82  0.18\n",
              " 2                          0.44  0.56\n",
              " 3                          0.38  0.62\n",
              " 4                          0.49  0.51\n",
              " 5                          0.40  0.60\n",
              " 6                          0.25  0.75\n",
              " 7                          0.40  0.60\n",
              " 8                          1.00  0.00"
            ],
            "text/html": [
              "\n",
              "  <div id=\"df-bfde6f3c-3864-4d4b-9b09-8bede35851bf\">\n",
              "    <div class=\"colab-df-container\">\n",
              "      <div>\n",
              "<style scoped>\n",
              "    .dataframe tbody tr th:only-of-type {\n",
              "        vertical-align: middle;\n",
              "    }\n",
              "\n",
              "    .dataframe tbody tr th {\n",
              "        vertical-align: top;\n",
              "    }\n",
              "\n",
              "    .dataframe thead th {\n",
              "        text-align: right;\n",
              "    }\n",
              "</style>\n",
              "<table border=\"1\" class=\"dataframe\">\n",
              "  <thead>\n",
              "    <tr style=\"text-align: right;\">\n",
              "      <th>default.payment.next.month</th>\n",
              "      <th>0</th>\n",
              "      <th>1</th>\n",
              "    </tr>\n",
              "    <tr>\n",
              "      <th>PAY_2</th>\n",
              "      <th></th>\n",
              "      <th></th>\n",
              "    </tr>\n",
              "  </thead>\n",
              "  <tbody>\n",
              "    <tr>\n",
              "      <th>-2</th>\n",
              "      <td>0.82</td>\n",
              "      <td>0.18</td>\n",
              "    </tr>\n",
              "    <tr>\n",
              "      <th>-1</th>\n",
              "      <td>0.84</td>\n",
              "      <td>0.16</td>\n",
              "    </tr>\n",
              "    <tr>\n",
              "      <th>0</th>\n",
              "      <td>0.84</td>\n",
              "      <td>0.16</td>\n",
              "    </tr>\n",
              "    <tr>\n",
              "      <th>1</th>\n",
              "      <td>0.82</td>\n",
              "      <td>0.18</td>\n",
              "    </tr>\n",
              "    <tr>\n",
              "      <th>2</th>\n",
              "      <td>0.44</td>\n",
              "      <td>0.56</td>\n",
              "    </tr>\n",
              "    <tr>\n",
              "      <th>3</th>\n",
              "      <td>0.38</td>\n",
              "      <td>0.62</td>\n",
              "    </tr>\n",
              "    <tr>\n",
              "      <th>4</th>\n",
              "      <td>0.49</td>\n",
              "      <td>0.51</td>\n",
              "    </tr>\n",
              "    <tr>\n",
              "      <th>5</th>\n",
              "      <td>0.40</td>\n",
              "      <td>0.60</td>\n",
              "    </tr>\n",
              "    <tr>\n",
              "      <th>6</th>\n",
              "      <td>0.25</td>\n",
              "      <td>0.75</td>\n",
              "    </tr>\n",
              "    <tr>\n",
              "      <th>7</th>\n",
              "      <td>0.40</td>\n",
              "      <td>0.60</td>\n",
              "    </tr>\n",
              "    <tr>\n",
              "      <th>8</th>\n",
              "      <td>1.00</td>\n",
              "      <td>0.00</td>\n",
              "    </tr>\n",
              "  </tbody>\n",
              "</table>\n",
              "</div>\n",
              "      <button class=\"colab-df-convert\" onclick=\"convertToInteractive('df-bfde6f3c-3864-4d4b-9b09-8bede35851bf')\"\n",
              "              title=\"Convert this dataframe to an interactive table.\"\n",
              "              style=\"display:none;\">\n",
              "        \n",
              "  <svg xmlns=\"http://www.w3.org/2000/svg\" height=\"24px\"viewBox=\"0 0 24 24\"\n",
              "       width=\"24px\">\n",
              "    <path d=\"M0 0h24v24H0V0z\" fill=\"none\"/>\n",
              "    <path d=\"M18.56 5.44l.94 2.06.94-2.06 2.06-.94-2.06-.94-.94-2.06-.94 2.06-2.06.94zm-11 1L8.5 8.5l.94-2.06 2.06-.94-2.06-.94L8.5 2.5l-.94 2.06-2.06.94zm10 10l.94 2.06.94-2.06 2.06-.94-2.06-.94-.94-2.06-.94 2.06-2.06.94z\"/><path d=\"M17.41 7.96l-1.37-1.37c-.4-.4-.92-.59-1.43-.59-.52 0-1.04.2-1.43.59L10.3 9.45l-7.72 7.72c-.78.78-.78 2.05 0 2.83L4 21.41c.39.39.9.59 1.41.59.51 0 1.02-.2 1.41-.59l7.78-7.78 2.81-2.81c.8-.78.8-2.07 0-2.86zM5.41 20L4 18.59l7.72-7.72 1.47 1.35L5.41 20z\"/>\n",
              "  </svg>\n",
              "      </button>\n",
              "      \n",
              "  <style>\n",
              "    .colab-df-container {\n",
              "      display:flex;\n",
              "      flex-wrap:wrap;\n",
              "      gap: 12px;\n",
              "    }\n",
              "\n",
              "    .colab-df-convert {\n",
              "      background-color: #E8F0FE;\n",
              "      border: none;\n",
              "      border-radius: 50%;\n",
              "      cursor: pointer;\n",
              "      display: none;\n",
              "      fill: #1967D2;\n",
              "      height: 32px;\n",
              "      padding: 0 0 0 0;\n",
              "      width: 32px;\n",
              "    }\n",
              "\n",
              "    .colab-df-convert:hover {\n",
              "      background-color: #E2EBFA;\n",
              "      box-shadow: 0px 1px 2px rgba(60, 64, 67, 0.3), 0px 1px 3px 1px rgba(60, 64, 67, 0.15);\n",
              "      fill: #174EA6;\n",
              "    }\n",
              "\n",
              "    [theme=dark] .colab-df-convert {\n",
              "      background-color: #3B4455;\n",
              "      fill: #D2E3FC;\n",
              "    }\n",
              "\n",
              "    [theme=dark] .colab-df-convert:hover {\n",
              "      background-color: #434B5C;\n",
              "      box-shadow: 0px 1px 3px 1px rgba(0, 0, 0, 0.15);\n",
              "      filter: drop-shadow(0px 1px 2px rgba(0, 0, 0, 0.3));\n",
              "      fill: #FFFFFF;\n",
              "    }\n",
              "  </style>\n",
              "\n",
              "      <script>\n",
              "        const buttonEl =\n",
              "          document.querySelector('#df-bfde6f3c-3864-4d4b-9b09-8bede35851bf button.colab-df-convert');\n",
              "        buttonEl.style.display =\n",
              "          google.colab.kernel.accessAllowed ? 'block' : 'none';\n",
              "\n",
              "        async function convertToInteractive(key) {\n",
              "          const element = document.querySelector('#df-bfde6f3c-3864-4d4b-9b09-8bede35851bf');\n",
              "          const dataTable =\n",
              "            await google.colab.kernel.invokeFunction('convertToInteractive',\n",
              "                                                     [key], {});\n",
              "          if (!dataTable) return;\n",
              "\n",
              "          const docLinkHtml = 'Like what you see? Visit the ' +\n",
              "            '<a target=\"_blank\" href=https://colab.research.google.com/notebooks/data_table.ipynb>data table notebook</a>'\n",
              "            + ' to learn more about interactive tables.';\n",
              "          element.innerHTML = '';\n",
              "          dataTable['output_type'] = 'display_data';\n",
              "          await google.colab.output.renderOutput(dataTable, element);\n",
              "          const docLink = document.createElement('div');\n",
              "          docLink.innerHTML = docLinkHtml;\n",
              "          element.appendChild(docLink);\n",
              "        }\n",
              "      </script>\n",
              "    </div>\n",
              "  </div>\n",
              "  "
            ]
          },
          "metadata": {},
          "execution_count": 85
        }
      ]
    },
    {
      "cell_type": "code",
      "source": [
        "# Treating category -2,-1,0 value as one category 0 for pay duly \n",
        "# so going for imputation based on target variable values nearest to them.\n",
        "fil = (cred_data.PAY_0 == -2) | (cred_data.PAY_0 == -1) | (cred_data.PAY_0 == 0)\n",
        "cred_data.loc[fil, 'PAY_0'] = 0\n",
        "fil = (cred_data.PAY_2 == -2) | (cred_data.PAY_2 == -1) | (cred_data.PAY_2 == 0)\n",
        "cred_data.loc[fil, 'PAY_2'] = 0\n",
        "fil = (cred_data.PAY_3 == -2) | (cred_data.PAY_3 == -1) | (cred_data.PAY_3 == 0)\n",
        "cred_data.loc[fil, 'PAY_3'] = 0\n",
        "fil = (cred_data.PAY_4 == -2) | (cred_data.PAY_4 == -1) | (cred_data.PAY_4 == 0)\n",
        "cred_data.loc[fil, 'PAY_4'] = 0\n",
        "fil = (cred_data.PAY_5 == -2) | (cred_data.PAY_5 == -1) | (cred_data.PAY_5 == 0)\n",
        "cred_data.loc[fil, 'PAY_5'] = 0\n",
        "fil = (cred_data.PAY_6 == -2) | (cred_data.PAY_6 == -1) | (cred_data.PAY_6 == 0)\n",
        "cred_data.loc[fil, 'PAY_6'] = 0"
      ],
      "metadata": {
        "id": "hqSD-wCFTEzc"
      },
      "execution_count": 86,
      "outputs": []
    },
    {
      "cell_type": "code",
      "source": [
        "# Renaming Pay_0 as pay_1 and default.payment.next as def_pay\n",
        "cred_data.rename(columns={'PAY_0':'PAY_1','default.payment.next.month':'DEF_PAY'},inplace=True)\n",
        "pd.set_option('max_columns',None)\n",
        "cred_data.head()"
      ],
      "metadata": {
        "id": "BoOLZM7nQS32",
        "colab": {
          "base_uri": "https://localhost:8080/",
          "height": 279
        },
        "outputId": "a910ff2a-da34-44ed-a581-f8f6dd345ac4",
        "collapsed": true
      },
      "execution_count": 89,
      "outputs": [
        {
          "output_type": "execute_result",
          "data": {
            "text/plain": [
              "   ID  LIMIT_BAL  SEX  EDUCATION  MARRIAGE  AGE  PAY_1  PAY_2  PAY_3  PAY_4  \\\n",
              "0   1    20000.0    2          2         1   24      2      2      0      0   \n",
              "1   2   120000.0    2          2         2   26      0      2      0      0   \n",
              "2   3    90000.0    2          2         2   34      0      0      0      0   \n",
              "3   4    50000.0    2          2         1   37      0      0      0      0   \n",
              "4   5    50000.0    1          2         1   57      0      0      0      0   \n",
              "\n",
              "   ...  BILL_AMT4  BILL_AMT5  BILL_AMT6  PAY_AMT1  PAY_AMT2  PAY_AMT3  \\\n",
              "0  ...        0.0        0.0        0.0       0.0     689.0       0.0   \n",
              "1  ...     3272.0     3455.0     3261.0       0.0    1000.0    1000.0   \n",
              "2  ...    14331.0    14948.0    15549.0    1518.0    1500.0    1000.0   \n",
              "3  ...    28314.0    28959.0    29547.0    2000.0    2019.0    1200.0   \n",
              "4  ...    20940.0    19146.0    19131.0    2000.0   36681.0   10000.0   \n",
              "\n",
              "   PAY_AMT4  PAY_AMT5  PAY_AMT6  DEF_PAY  \n",
              "0       0.0       0.0       0.0        1  \n",
              "1    1000.0       0.0    2000.0        1  \n",
              "2    1000.0    1000.0    5000.0        0  \n",
              "3    1100.0    1069.0    1000.0        0  \n",
              "4    9000.0     689.0     679.0        0  \n",
              "\n",
              "[5 rows x 25 columns]"
            ],
            "text/html": [
              "\n",
              "  <div id=\"df-d7ca2ea9-2aca-4fa3-b6d4-dd7b9f8d0d44\">\n",
              "    <div class=\"colab-df-container\">\n",
              "      <div>\n",
              "<style scoped>\n",
              "    .dataframe tbody tr th:only-of-type {\n",
              "        vertical-align: middle;\n",
              "    }\n",
              "\n",
              "    .dataframe tbody tr th {\n",
              "        vertical-align: top;\n",
              "    }\n",
              "\n",
              "    .dataframe thead th {\n",
              "        text-align: right;\n",
              "    }\n",
              "</style>\n",
              "<table border=\"1\" class=\"dataframe\">\n",
              "  <thead>\n",
              "    <tr style=\"text-align: right;\">\n",
              "      <th></th>\n",
              "      <th>ID</th>\n",
              "      <th>LIMIT_BAL</th>\n",
              "      <th>SEX</th>\n",
              "      <th>EDUCATION</th>\n",
              "      <th>MARRIAGE</th>\n",
              "      <th>AGE</th>\n",
              "      <th>PAY_1</th>\n",
              "      <th>PAY_2</th>\n",
              "      <th>PAY_3</th>\n",
              "      <th>PAY_4</th>\n",
              "      <th>...</th>\n",
              "      <th>BILL_AMT4</th>\n",
              "      <th>BILL_AMT5</th>\n",
              "      <th>BILL_AMT6</th>\n",
              "      <th>PAY_AMT1</th>\n",
              "      <th>PAY_AMT2</th>\n",
              "      <th>PAY_AMT3</th>\n",
              "      <th>PAY_AMT4</th>\n",
              "      <th>PAY_AMT5</th>\n",
              "      <th>PAY_AMT6</th>\n",
              "      <th>DEF_PAY</th>\n",
              "    </tr>\n",
              "  </thead>\n",
              "  <tbody>\n",
              "    <tr>\n",
              "      <th>0</th>\n",
              "      <td>1</td>\n",
              "      <td>20000.0</td>\n",
              "      <td>2</td>\n",
              "      <td>2</td>\n",
              "      <td>1</td>\n",
              "      <td>24</td>\n",
              "      <td>2</td>\n",
              "      <td>2</td>\n",
              "      <td>0</td>\n",
              "      <td>0</td>\n",
              "      <td>...</td>\n",
              "      <td>0.0</td>\n",
              "      <td>0.0</td>\n",
              "      <td>0.0</td>\n",
              "      <td>0.0</td>\n",
              "      <td>689.0</td>\n",
              "      <td>0.0</td>\n",
              "      <td>0.0</td>\n",
              "      <td>0.0</td>\n",
              "      <td>0.0</td>\n",
              "      <td>1</td>\n",
              "    </tr>\n",
              "    <tr>\n",
              "      <th>1</th>\n",
              "      <td>2</td>\n",
              "      <td>120000.0</td>\n",
              "      <td>2</td>\n",
              "      <td>2</td>\n",
              "      <td>2</td>\n",
              "      <td>26</td>\n",
              "      <td>0</td>\n",
              "      <td>2</td>\n",
              "      <td>0</td>\n",
              "      <td>0</td>\n",
              "      <td>...</td>\n",
              "      <td>3272.0</td>\n",
              "      <td>3455.0</td>\n",
              "      <td>3261.0</td>\n",
              "      <td>0.0</td>\n",
              "      <td>1000.0</td>\n",
              "      <td>1000.0</td>\n",
              "      <td>1000.0</td>\n",
              "      <td>0.0</td>\n",
              "      <td>2000.0</td>\n",
              "      <td>1</td>\n",
              "    </tr>\n",
              "    <tr>\n",
              "      <th>2</th>\n",
              "      <td>3</td>\n",
              "      <td>90000.0</td>\n",
              "      <td>2</td>\n",
              "      <td>2</td>\n",
              "      <td>2</td>\n",
              "      <td>34</td>\n",
              "      <td>0</td>\n",
              "      <td>0</td>\n",
              "      <td>0</td>\n",
              "      <td>0</td>\n",
              "      <td>...</td>\n",
              "      <td>14331.0</td>\n",
              "      <td>14948.0</td>\n",
              "      <td>15549.0</td>\n",
              "      <td>1518.0</td>\n",
              "      <td>1500.0</td>\n",
              "      <td>1000.0</td>\n",
              "      <td>1000.0</td>\n",
              "      <td>1000.0</td>\n",
              "      <td>5000.0</td>\n",
              "      <td>0</td>\n",
              "    </tr>\n",
              "    <tr>\n",
              "      <th>3</th>\n",
              "      <td>4</td>\n",
              "      <td>50000.0</td>\n",
              "      <td>2</td>\n",
              "      <td>2</td>\n",
              "      <td>1</td>\n",
              "      <td>37</td>\n",
              "      <td>0</td>\n",
              "      <td>0</td>\n",
              "      <td>0</td>\n",
              "      <td>0</td>\n",
              "      <td>...</td>\n",
              "      <td>28314.0</td>\n",
              "      <td>28959.0</td>\n",
              "      <td>29547.0</td>\n",
              "      <td>2000.0</td>\n",
              "      <td>2019.0</td>\n",
              "      <td>1200.0</td>\n",
              "      <td>1100.0</td>\n",
              "      <td>1069.0</td>\n",
              "      <td>1000.0</td>\n",
              "      <td>0</td>\n",
              "    </tr>\n",
              "    <tr>\n",
              "      <th>4</th>\n",
              "      <td>5</td>\n",
              "      <td>50000.0</td>\n",
              "      <td>1</td>\n",
              "      <td>2</td>\n",
              "      <td>1</td>\n",
              "      <td>57</td>\n",
              "      <td>0</td>\n",
              "      <td>0</td>\n",
              "      <td>0</td>\n",
              "      <td>0</td>\n",
              "      <td>...</td>\n",
              "      <td>20940.0</td>\n",
              "      <td>19146.0</td>\n",
              "      <td>19131.0</td>\n",
              "      <td>2000.0</td>\n",
              "      <td>36681.0</td>\n",
              "      <td>10000.0</td>\n",
              "      <td>9000.0</td>\n",
              "      <td>689.0</td>\n",
              "      <td>679.0</td>\n",
              "      <td>0</td>\n",
              "    </tr>\n",
              "  </tbody>\n",
              "</table>\n",
              "<p>5 rows × 25 columns</p>\n",
              "</div>\n",
              "      <button class=\"colab-df-convert\" onclick=\"convertToInteractive('df-d7ca2ea9-2aca-4fa3-b6d4-dd7b9f8d0d44')\"\n",
              "              title=\"Convert this dataframe to an interactive table.\"\n",
              "              style=\"display:none;\">\n",
              "        \n",
              "  <svg xmlns=\"http://www.w3.org/2000/svg\" height=\"24px\"viewBox=\"0 0 24 24\"\n",
              "       width=\"24px\">\n",
              "    <path d=\"M0 0h24v24H0V0z\" fill=\"none\"/>\n",
              "    <path d=\"M18.56 5.44l.94 2.06.94-2.06 2.06-.94-2.06-.94-.94-2.06-.94 2.06-2.06.94zm-11 1L8.5 8.5l.94-2.06 2.06-.94-2.06-.94L8.5 2.5l-.94 2.06-2.06.94zm10 10l.94 2.06.94-2.06 2.06-.94-2.06-.94-.94-2.06-.94 2.06-2.06.94z\"/><path d=\"M17.41 7.96l-1.37-1.37c-.4-.4-.92-.59-1.43-.59-.52 0-1.04.2-1.43.59L10.3 9.45l-7.72 7.72c-.78.78-.78 2.05 0 2.83L4 21.41c.39.39.9.59 1.41.59.51 0 1.02-.2 1.41-.59l7.78-7.78 2.81-2.81c.8-.78.8-2.07 0-2.86zM5.41 20L4 18.59l7.72-7.72 1.47 1.35L5.41 20z\"/>\n",
              "  </svg>\n",
              "      </button>\n",
              "      \n",
              "  <style>\n",
              "    .colab-df-container {\n",
              "      display:flex;\n",
              "      flex-wrap:wrap;\n",
              "      gap: 12px;\n",
              "    }\n",
              "\n",
              "    .colab-df-convert {\n",
              "      background-color: #E8F0FE;\n",
              "      border: none;\n",
              "      border-radius: 50%;\n",
              "      cursor: pointer;\n",
              "      display: none;\n",
              "      fill: #1967D2;\n",
              "      height: 32px;\n",
              "      padding: 0 0 0 0;\n",
              "      width: 32px;\n",
              "    }\n",
              "\n",
              "    .colab-df-convert:hover {\n",
              "      background-color: #E2EBFA;\n",
              "      box-shadow: 0px 1px 2px rgba(60, 64, 67, 0.3), 0px 1px 3px 1px rgba(60, 64, 67, 0.15);\n",
              "      fill: #174EA6;\n",
              "    }\n",
              "\n",
              "    [theme=dark] .colab-df-convert {\n",
              "      background-color: #3B4455;\n",
              "      fill: #D2E3FC;\n",
              "    }\n",
              "\n",
              "    [theme=dark] .colab-df-convert:hover {\n",
              "      background-color: #434B5C;\n",
              "      box-shadow: 0px 1px 3px 1px rgba(0, 0, 0, 0.15);\n",
              "      filter: drop-shadow(0px 1px 2px rgba(0, 0, 0, 0.3));\n",
              "      fill: #FFFFFF;\n",
              "    }\n",
              "  </style>\n",
              "\n",
              "      <script>\n",
              "        const buttonEl =\n",
              "          document.querySelector('#df-d7ca2ea9-2aca-4fa3-b6d4-dd7b9f8d0d44 button.colab-df-convert');\n",
              "        buttonEl.style.display =\n",
              "          google.colab.kernel.accessAllowed ? 'block' : 'none';\n",
              "\n",
              "        async function convertToInteractive(key) {\n",
              "          const element = document.querySelector('#df-d7ca2ea9-2aca-4fa3-b6d4-dd7b9f8d0d44');\n",
              "          const dataTable =\n",
              "            await google.colab.kernel.invokeFunction('convertToInteractive',\n",
              "                                                     [key], {});\n",
              "          if (!dataTable) return;\n",
              "\n",
              "          const docLinkHtml = 'Like what you see? Visit the ' +\n",
              "            '<a target=\"_blank\" href=https://colab.research.google.com/notebooks/data_table.ipynb>data table notebook</a>'\n",
              "            + ' to learn more about interactive tables.';\n",
              "          element.innerHTML = '';\n",
              "          dataTable['output_type'] = 'display_data';\n",
              "          await google.colab.output.renderOutput(dataTable, element);\n",
              "          const docLink = document.createElement('div');\n",
              "          docLink.innerHTML = docLinkHtml;\n",
              "          element.appendChild(docLink);\n",
              "        }\n",
              "      </script>\n",
              "    </div>\n",
              "  </div>\n",
              "  "
            ]
          },
          "metadata": {},
          "execution_count": 89
        }
      ]
    },
    {
      "cell_type": "markdown",
      "source": [
        "## Cleaning Continous Variable"
      ],
      "metadata": {
        "id": "uOIa6RHVHaRe"
      }
    },
    {
      "cell_type": "code",
      "source": [
        "cred_data[['BILL_AMT1','BILL_AMT2','BILL_AMT3', 'BILL_AMT4', 'BILL_AMT5', 'BILL_AMT6']].quantile([0,0.01,0.02,0.03,0.04,0.05,0.08,0.09,0.1,0.2,0.3,0.4,0.5,0.6,0.7,0.8,0.9,0.93,0.94,0.97,0.99,1])"
      ],
      "metadata": {
        "id": "M4shrKJbH0_q",
        "colab": {
          "base_uri": "https://localhost:8080/",
          "height": 0
        },
        "outputId": "5bf9e8bd-7667-4ae5-b54f-b2718cd89220",
        "collapsed": true
      },
      "execution_count": 90,
      "outputs": [
        {
          "output_type": "execute_result",
          "data": {
            "text/plain": [
              "      BILL_AMT1  BILL_AMT2   BILL_AMT3  BILL_AMT4  BILL_AMT5  BILL_AMT6\n",
              "0.00 -165580.00  -69777.00  -157264.00 -170000.00  -81334.00 -339603.00\n",
              "0.01     -81.00    -200.00     -200.00    -212.02    -232.01    -331.03\n",
              "0.02       0.00      -4.00       -3.00      -3.02      -3.02      -6.00\n",
              "0.03       0.00       0.00        0.00       0.00       0.00       0.00\n",
              "0.04       0.00       0.00        0.00       0.00       0.00       0.00\n",
              "0.05       0.00       0.00        0.00       0.00       0.00       0.00\n",
              "0.08       0.00       0.00        0.00       0.00       0.00       0.00\n",
              "0.09     131.82       0.00        0.00       0.00       0.00       0.00\n",
              "0.10     278.90       0.00        0.00       0.00       0.00       0.00\n",
              "0.20    1892.80    1472.80     1187.80     988.00     763.00     476.00\n",
              "0.30    6050.40    5500.00     5219.20    4643.70    3637.00    2701.70\n",
              "0.40   13469.20   12799.60    12197.20   11145.00    9809.20    8770.20\n",
              "0.50   22381.50   21200.00    20088.50   19052.00   18104.50   17071.00\n",
              "0.60   37045.20   34773.80    31401.00   28604.40   26690.40   25508.40\n",
              "0.70   52204.90   50690.00    49217.30   45456.60   40943.20   39252.20\n",
              "0.80   83421.20   80292.20    76777.40   70579.00   65823.00   63150.60\n",
              "0.90  142133.70  136905.50   132051.30  122418.70  115883.00  112110.40\n",
              "0.93  173630.63  167485.28   160049.77  148287.35  141291.49  137836.47\n",
              "0.94  187074.56  180578.40   173241.34  160944.12  151270.38  148093.84\n",
              "0.97  245969.84  236662.72   228277.79  210965.51  198861.03  195114.30\n",
              "0.99  350110.68  337495.28   325030.39  304997.27  285868.33  279505.06\n",
              "1.00  964511.00  983931.00  1664089.00  891586.00  927171.00  961664.00"
            ],
            "text/html": [
              "\n",
              "  <div id=\"df-1d6ca8bf-5a2d-481a-a0af-3e9b34a7df03\">\n",
              "    <div class=\"colab-df-container\">\n",
              "      <div>\n",
              "<style scoped>\n",
              "    .dataframe tbody tr th:only-of-type {\n",
              "        vertical-align: middle;\n",
              "    }\n",
              "\n",
              "    .dataframe tbody tr th {\n",
              "        vertical-align: top;\n",
              "    }\n",
              "\n",
              "    .dataframe thead th {\n",
              "        text-align: right;\n",
              "    }\n",
              "</style>\n",
              "<table border=\"1\" class=\"dataframe\">\n",
              "  <thead>\n",
              "    <tr style=\"text-align: right;\">\n",
              "      <th></th>\n",
              "      <th>BILL_AMT1</th>\n",
              "      <th>BILL_AMT2</th>\n",
              "      <th>BILL_AMT3</th>\n",
              "      <th>BILL_AMT4</th>\n",
              "      <th>BILL_AMT5</th>\n",
              "      <th>BILL_AMT6</th>\n",
              "    </tr>\n",
              "  </thead>\n",
              "  <tbody>\n",
              "    <tr>\n",
              "      <th>0.00</th>\n",
              "      <td>-165580.00</td>\n",
              "      <td>-69777.00</td>\n",
              "      <td>-157264.00</td>\n",
              "      <td>-170000.00</td>\n",
              "      <td>-81334.00</td>\n",
              "      <td>-339603.00</td>\n",
              "    </tr>\n",
              "    <tr>\n",
              "      <th>0.01</th>\n",
              "      <td>-81.00</td>\n",
              "      <td>-200.00</td>\n",
              "      <td>-200.00</td>\n",
              "      <td>-212.02</td>\n",
              "      <td>-232.01</td>\n",
              "      <td>-331.03</td>\n",
              "    </tr>\n",
              "    <tr>\n",
              "      <th>0.02</th>\n",
              "      <td>0.00</td>\n",
              "      <td>-4.00</td>\n",
              "      <td>-3.00</td>\n",
              "      <td>-3.02</td>\n",
              "      <td>-3.02</td>\n",
              "      <td>-6.00</td>\n",
              "    </tr>\n",
              "    <tr>\n",
              "      <th>0.03</th>\n",
              "      <td>0.00</td>\n",
              "      <td>0.00</td>\n",
              "      <td>0.00</td>\n",
              "      <td>0.00</td>\n",
              "      <td>0.00</td>\n",
              "      <td>0.00</td>\n",
              "    </tr>\n",
              "    <tr>\n",
              "      <th>0.04</th>\n",
              "      <td>0.00</td>\n",
              "      <td>0.00</td>\n",
              "      <td>0.00</td>\n",
              "      <td>0.00</td>\n",
              "      <td>0.00</td>\n",
              "      <td>0.00</td>\n",
              "    </tr>\n",
              "    <tr>\n",
              "      <th>0.05</th>\n",
              "      <td>0.00</td>\n",
              "      <td>0.00</td>\n",
              "      <td>0.00</td>\n",
              "      <td>0.00</td>\n",
              "      <td>0.00</td>\n",
              "      <td>0.00</td>\n",
              "    </tr>\n",
              "    <tr>\n",
              "      <th>0.08</th>\n",
              "      <td>0.00</td>\n",
              "      <td>0.00</td>\n",
              "      <td>0.00</td>\n",
              "      <td>0.00</td>\n",
              "      <td>0.00</td>\n",
              "      <td>0.00</td>\n",
              "    </tr>\n",
              "    <tr>\n",
              "      <th>0.09</th>\n",
              "      <td>131.82</td>\n",
              "      <td>0.00</td>\n",
              "      <td>0.00</td>\n",
              "      <td>0.00</td>\n",
              "      <td>0.00</td>\n",
              "      <td>0.00</td>\n",
              "    </tr>\n",
              "    <tr>\n",
              "      <th>0.10</th>\n",
              "      <td>278.90</td>\n",
              "      <td>0.00</td>\n",
              "      <td>0.00</td>\n",
              "      <td>0.00</td>\n",
              "      <td>0.00</td>\n",
              "      <td>0.00</td>\n",
              "    </tr>\n",
              "    <tr>\n",
              "      <th>0.20</th>\n",
              "      <td>1892.80</td>\n",
              "      <td>1472.80</td>\n",
              "      <td>1187.80</td>\n",
              "      <td>988.00</td>\n",
              "      <td>763.00</td>\n",
              "      <td>476.00</td>\n",
              "    </tr>\n",
              "    <tr>\n",
              "      <th>0.30</th>\n",
              "      <td>6050.40</td>\n",
              "      <td>5500.00</td>\n",
              "      <td>5219.20</td>\n",
              "      <td>4643.70</td>\n",
              "      <td>3637.00</td>\n",
              "      <td>2701.70</td>\n",
              "    </tr>\n",
              "    <tr>\n",
              "      <th>0.40</th>\n",
              "      <td>13469.20</td>\n",
              "      <td>12799.60</td>\n",
              "      <td>12197.20</td>\n",
              "      <td>11145.00</td>\n",
              "      <td>9809.20</td>\n",
              "      <td>8770.20</td>\n",
              "    </tr>\n",
              "    <tr>\n",
              "      <th>0.50</th>\n",
              "      <td>22381.50</td>\n",
              "      <td>21200.00</td>\n",
              "      <td>20088.50</td>\n",
              "      <td>19052.00</td>\n",
              "      <td>18104.50</td>\n",
              "      <td>17071.00</td>\n",
              "    </tr>\n",
              "    <tr>\n",
              "      <th>0.60</th>\n",
              "      <td>37045.20</td>\n",
              "      <td>34773.80</td>\n",
              "      <td>31401.00</td>\n",
              "      <td>28604.40</td>\n",
              "      <td>26690.40</td>\n",
              "      <td>25508.40</td>\n",
              "    </tr>\n",
              "    <tr>\n",
              "      <th>0.70</th>\n",
              "      <td>52204.90</td>\n",
              "      <td>50690.00</td>\n",
              "      <td>49217.30</td>\n",
              "      <td>45456.60</td>\n",
              "      <td>40943.20</td>\n",
              "      <td>39252.20</td>\n",
              "    </tr>\n",
              "    <tr>\n",
              "      <th>0.80</th>\n",
              "      <td>83421.20</td>\n",
              "      <td>80292.20</td>\n",
              "      <td>76777.40</td>\n",
              "      <td>70579.00</td>\n",
              "      <td>65823.00</td>\n",
              "      <td>63150.60</td>\n",
              "    </tr>\n",
              "    <tr>\n",
              "      <th>0.90</th>\n",
              "      <td>142133.70</td>\n",
              "      <td>136905.50</td>\n",
              "      <td>132051.30</td>\n",
              "      <td>122418.70</td>\n",
              "      <td>115883.00</td>\n",
              "      <td>112110.40</td>\n",
              "    </tr>\n",
              "    <tr>\n",
              "      <th>0.93</th>\n",
              "      <td>173630.63</td>\n",
              "      <td>167485.28</td>\n",
              "      <td>160049.77</td>\n",
              "      <td>148287.35</td>\n",
              "      <td>141291.49</td>\n",
              "      <td>137836.47</td>\n",
              "    </tr>\n",
              "    <tr>\n",
              "      <th>0.94</th>\n",
              "      <td>187074.56</td>\n",
              "      <td>180578.40</td>\n",
              "      <td>173241.34</td>\n",
              "      <td>160944.12</td>\n",
              "      <td>151270.38</td>\n",
              "      <td>148093.84</td>\n",
              "    </tr>\n",
              "    <tr>\n",
              "      <th>0.97</th>\n",
              "      <td>245969.84</td>\n",
              "      <td>236662.72</td>\n",
              "      <td>228277.79</td>\n",
              "      <td>210965.51</td>\n",
              "      <td>198861.03</td>\n",
              "      <td>195114.30</td>\n",
              "    </tr>\n",
              "    <tr>\n",
              "      <th>0.99</th>\n",
              "      <td>350110.68</td>\n",
              "      <td>337495.28</td>\n",
              "      <td>325030.39</td>\n",
              "      <td>304997.27</td>\n",
              "      <td>285868.33</td>\n",
              "      <td>279505.06</td>\n",
              "    </tr>\n",
              "    <tr>\n",
              "      <th>1.00</th>\n",
              "      <td>964511.00</td>\n",
              "      <td>983931.00</td>\n",
              "      <td>1664089.00</td>\n",
              "      <td>891586.00</td>\n",
              "      <td>927171.00</td>\n",
              "      <td>961664.00</td>\n",
              "    </tr>\n",
              "  </tbody>\n",
              "</table>\n",
              "</div>\n",
              "      <button class=\"colab-df-convert\" onclick=\"convertToInteractive('df-1d6ca8bf-5a2d-481a-a0af-3e9b34a7df03')\"\n",
              "              title=\"Convert this dataframe to an interactive table.\"\n",
              "              style=\"display:none;\">\n",
              "        \n",
              "  <svg xmlns=\"http://www.w3.org/2000/svg\" height=\"24px\"viewBox=\"0 0 24 24\"\n",
              "       width=\"24px\">\n",
              "    <path d=\"M0 0h24v24H0V0z\" fill=\"none\"/>\n",
              "    <path d=\"M18.56 5.44l.94 2.06.94-2.06 2.06-.94-2.06-.94-.94-2.06-.94 2.06-2.06.94zm-11 1L8.5 8.5l.94-2.06 2.06-.94-2.06-.94L8.5 2.5l-.94 2.06-2.06.94zm10 10l.94 2.06.94-2.06 2.06-.94-2.06-.94-.94-2.06-.94 2.06-2.06.94z\"/><path d=\"M17.41 7.96l-1.37-1.37c-.4-.4-.92-.59-1.43-.59-.52 0-1.04.2-1.43.59L10.3 9.45l-7.72 7.72c-.78.78-.78 2.05 0 2.83L4 21.41c.39.39.9.59 1.41.59.51 0 1.02-.2 1.41-.59l7.78-7.78 2.81-2.81c.8-.78.8-2.07 0-2.86zM5.41 20L4 18.59l7.72-7.72 1.47 1.35L5.41 20z\"/>\n",
              "  </svg>\n",
              "      </button>\n",
              "      \n",
              "  <style>\n",
              "    .colab-df-container {\n",
              "      display:flex;\n",
              "      flex-wrap:wrap;\n",
              "      gap: 12px;\n",
              "    }\n",
              "\n",
              "    .colab-df-convert {\n",
              "      background-color: #E8F0FE;\n",
              "      border: none;\n",
              "      border-radius: 50%;\n",
              "      cursor: pointer;\n",
              "      display: none;\n",
              "      fill: #1967D2;\n",
              "      height: 32px;\n",
              "      padding: 0 0 0 0;\n",
              "      width: 32px;\n",
              "    }\n",
              "\n",
              "    .colab-df-convert:hover {\n",
              "      background-color: #E2EBFA;\n",
              "      box-shadow: 0px 1px 2px rgba(60, 64, 67, 0.3), 0px 1px 3px 1px rgba(60, 64, 67, 0.15);\n",
              "      fill: #174EA6;\n",
              "    }\n",
              "\n",
              "    [theme=dark] .colab-df-convert {\n",
              "      background-color: #3B4455;\n",
              "      fill: #D2E3FC;\n",
              "    }\n",
              "\n",
              "    [theme=dark] .colab-df-convert:hover {\n",
              "      background-color: #434B5C;\n",
              "      box-shadow: 0px 1px 3px 1px rgba(0, 0, 0, 0.15);\n",
              "      filter: drop-shadow(0px 1px 2px rgba(0, 0, 0, 0.3));\n",
              "      fill: #FFFFFF;\n",
              "    }\n",
              "  </style>\n",
              "\n",
              "      <script>\n",
              "        const buttonEl =\n",
              "          document.querySelector('#df-1d6ca8bf-5a2d-481a-a0af-3e9b34a7df03 button.colab-df-convert');\n",
              "        buttonEl.style.display =\n",
              "          google.colab.kernel.accessAllowed ? 'block' : 'none';\n",
              "\n",
              "        async function convertToInteractive(key) {\n",
              "          const element = document.querySelector('#df-1d6ca8bf-5a2d-481a-a0af-3e9b34a7df03');\n",
              "          const dataTable =\n",
              "            await google.colab.kernel.invokeFunction('convertToInteractive',\n",
              "                                                     [key], {});\n",
              "          if (!dataTable) return;\n",
              "\n",
              "          const docLinkHtml = 'Like what you see? Visit the ' +\n",
              "            '<a target=\"_blank\" href=https://colab.research.google.com/notebooks/data_table.ipynb>data table notebook</a>'\n",
              "            + ' to learn more about interactive tables.';\n",
              "          element.innerHTML = '';\n",
              "          dataTable['output_type'] = 'display_data';\n",
              "          await google.colab.output.renderOutput(dataTable, element);\n",
              "          const docLink = document.createElement('div');\n",
              "          docLink.innerHTML = docLinkHtml;\n",
              "          element.appendChild(docLink);\n",
              "        }\n",
              "      </script>\n",
              "    </div>\n",
              "  </div>\n",
              "  "
            ]
          },
          "metadata": {},
          "execution_count": 90
        }
      ]
    },
    {
      "cell_type": "code",
      "source": [
        "# Treating 1% positive outlier by imputation based on the median value of that column\n",
        "cred_data.loc[cred_data['BILL_AMT1']>350110.68,'BILL_AMT1']=cred_data['BILL_AMT1'].median()\n",
        "cred_data.loc[cred_data['BILL_AMT2']>337495.28,'BILL_AMT2']=cred_data['BILL_AMT2'].median()\n",
        "cred_data.loc[cred_data['BILL_AMT3']>325030.39,'BILL_AMT3']=cred_data['BILL_AMT3'].median()\n",
        "cred_data.loc[cred_data['BILL_AMT4']>304997.27,'BILL_AMT4']=cred_data['BILL_AMT4'].median()\n",
        "cred_data.loc[cred_data['BILL_AMT5']>285868.33,'BILL_AMT5']=cred_data['BILL_AMT5'].median()\n",
        "cred_data.loc[cred_data['BILL_AMT6']>279505.06,'BILL_AMT6']=cred_data['BILL_AMT6'].median()"
      ],
      "metadata": {
        "id": "ongBVVc5H1cv"
      },
      "execution_count": 91,
      "outputs": []
    },
    {
      "cell_type": "code",
      "source": [
        "cred_data[['BILL_AMT1','BILL_AMT2','BILL_AMT3', 'BILL_AMT4', 'BILL_AMT5', 'BILL_AMT6']].plot(kind='box')"
      ],
      "metadata": {
        "id": "T7PZ3NLkJgbr",
        "colab": {
          "base_uri": "https://localhost:8080/",
          "height": 0
        },
        "outputId": "d0ebaed0-10ac-4512-80cb-5e8a5ed2ce72",
        "collapsed": true
      },
      "execution_count": 92,
      "outputs": [
        {
          "output_type": "execute_result",
          "data": {
            "text/plain": [
              "<Axes: >"
            ]
          },
          "metadata": {},
          "execution_count": 92
        },
        {
          "output_type": "display_data",
          "data": {
            "text/plain": [
              "<Figure size 432x288 with 1 Axes>"
            ],
            "image/png": "[encoded data removed]"
          },
          "metadata": {
            "needs_background": "light"
          }
        }
      ]
    },
    {
      "cell_type": "code",
      "source": [
        "# Treating 1% negative outlier in BILL_AMT1 and 2% negative outlier in the rest BILL_AMT\n",
        "# by imputation based on the median value of the negative values of the columns\n",
        "cred_data.loc[cred_data['BILL_AMT1']<0,'BILL_AMT1']=cred_data['BILL_AMT1'][cred_data['BILL_AMT1']<0].median()\n",
        "cred_data.loc[cred_data['BILL_AMT2']<0,'BILL_AMT2']=cred_data['BILL_AMT1'][cred_data['BILL_AMT1']<0].median()\n",
        "cred_data.loc[cred_data['BILL_AMT3']<0,'BILL_AMT3']=cred_data['BILL_AMT1'][cred_data['BILL_AMT1']<0].median()\n",
        "cred_data.loc[cred_data['BILL_AMT4']<0,'BILL_AMT4']=cred_data['BILL_AMT1'][cred_data['BILL_AMT1']<0].median()\n",
        "cred_data.loc[cred_data['BILL_AMT5']<0,'BILL_AMT5']=cred_data['BILL_AMT1'][cred_data['BILL_AMT1']<0].median()\n",
        "cred_data.loc[cred_data['BILL_AMT6']<0,'BILL_AMT6']=cred_data['BILL_AMT1'][cred_data['BILL_AMT1']<0].median()"
      ],
      "metadata": {
        "id": "s08uAY0PR8IY"
      },
      "execution_count": 93,
      "outputs": []
    },
    {
      "cell_type": "code",
      "source": [
        "cred_data[['BILL_AMT1','BILL_AMT2','BILL_AMT3', 'BILL_AMT4', 'BILL_AMT5', 'BILL_AMT6']].plot(kind='box')"
      ],
      "metadata": {
        "id": "okX9PL_lR8Ve",
        "colab": {
          "base_uri": "https://localhost:8080/",
          "height": 0
        },
        "outputId": "40af5ab4-6d25-4b07-fc20-073fa69a5c7d"
      },
      "execution_count": 94,
      "outputs": [
        {
          "output_type": "execute_result",
          "data": {
            "text/plain": [
              "<Axes: >"
            ]
          },
          "metadata": {},
          "execution_count": 94
        },
        {
          "output_type": "display_data",
          "data": {
            "text/plain": [
              "<Figure size 432x288 with 1 Axes>"
            ],
            "image/png": "[encoded data removed]"
          },
          "metadata": {
            "needs_background": "light"
          }
        }
      ]
    },
    {
      "cell_type": "code",
      "source": [
        "# Treating 1% extreme outlier by imputation based on the median value of that column\n",
        "cred_data.loc[cred_data['PAY_AMT1']>67000,'PAY_AMT1']=cred_data['PAY_AMT1'].median()\n",
        "cred_data.loc[cred_data['PAY_AMT2']>76700,'PAY_AMT2']=cred_data['PAY_AMT2'].median()\n",
        "cred_data.loc[cred_data['PAY_AMT3']>70000,'PAY_AMT3']=cred_data['PAY_AMT3'].median()\n",
        "cred_data.loc[cred_data['PAY_AMT4']>67100,'PAY_AMT4']=cred_data['PAY_AMT4'].median()\n",
        "cred_data.loc[cred_data['PAY_AMT5']>65700,'PAY_AMT5']=cred_data['PAY_AMT5'].median()\n",
        "cred_data.loc[cred_data['PAY_AMT6']>82700,'PAY_AMT6']=cred_data['PAY_AMT6'].median()"
      ],
      "metadata": {
        "id": "2s6A3eYA9m5c"
      },
      "execution_count": 95,
      "outputs": []
    },
    {
      "cell_type": "code",
      "source": [
        "cred_data[['PAY_AMT1','PAY_AMT2', 'PAY_AMT3', 'PAY_AMT4', 'PAY_AMT5', 'PAY_AMT6']].plot(kind='box')"
      ],
      "metadata": {
        "id": "uDVhUH5H9mmA",
        "colab": {
          "base_uri": "https://localhost:8080/",
          "height": 0
        },
        "outputId": "7aea3d81-64ff-4df0-b5e2-fb9166a296aa",
        "collapsed": true
      },
      "execution_count": 96,
      "outputs": [
        {
          "output_type": "execute_result",
          "data": {
            "text/plain": [
              "<Axes: >"
            ]
          },
          "metadata": {},
          "execution_count": 96
        },
        {
          "output_type": "display_data",
          "data": {
            "text/plain": [
              "<Figure size 432x288 with 1 Axes>"
            ],
            "image/png": "[encoded data removed]"
          },
          "metadata": {
            "needs_background": "light"
          }
        }
      ]
    },
    {
      "cell_type": "code",
      "source": [
        "# Treating 1% extreme outlier by imputation based on the median value of that column\n",
        "cred_data.loc[cred_data['LIMIT_BAL']>500000,'LIMIT_BAL']=cred_data['LIMIT_BAL'].median()"
      ],
      "metadata": {
        "id": "aqB67Lsv0Zr4"
      },
      "execution_count": 97,
      "outputs": []
    },
    {
      "cell_type": "code",
      "source": [
        "sns.boxplot(y=cred_data['LIMIT_BAL'])"
      ],
      "metadata": {
        "id": "H6UkWsDHXvZk",
        "colab": {
          "base_uri": "https://localhost:8080/",
          "height": 0
        },
        "outputId": "cef90219-5dc0-436c-fcc2-67e3d9639fd5",
        "collapsed": true
      },
      "execution_count": 98,
      "outputs": [
        {
          "output_type": "execute_result",
          "data": {
            "text/plain": [
              "<Axes: ylabel='LIMIT_BAL'>"
            ]
          },
          "metadata": {},
          "execution_count": 98
        },
        {
          "output_type": "display_data",
          "data": {
            "text/plain": [
              "<Figure size 432x288 with 1 Axes>"
            ],
            "image/png": "[encoded data removed]"
          },
          "metadata": {
            "needs_background": "light"
          }
        }
      ]
    },
    {
      "cell_type": "code",
      "source": [
        "# Copying the clean data for further analysis.\n",
        "cred_data_new=cred_data.copy(deep=True)\n",
        "cred_data_new.head()"
      ],
      "metadata": {
        "id": "MQvhqsLaTv_K",
        "colab": {
          "base_uri": "https://localhost:8080/",
          "height": 0
        },
        "outputId": "b95276e6-190e-4c27-e503-3111cf8b7295",
        "collapsed": true
      },
      "execution_count": 99,
      "outputs": [
        {
          "output_type": "execute_result",
          "data": {
            "text/plain": [
              "   ID  LIMIT_BAL  SEX  EDUCATION  MARRIAGE  AGE  PAY_1  PAY_2  PAY_3  PAY_4  \\\n",
              "0   1    20000.0    2          2         1   24      2      2      0      0   \n",
              "1   2   120000.0    2          2         2   26      0      2      0      0   \n",
              "2   3    90000.0    2          2         2   34      0      0      0      0   \n",
              "3   4    50000.0    2          2         1   37      0      0      0      0   \n",
              "4   5    50000.0    1          2         1   57      0      0      0      0   \n",
              "\n",
              "   ...  BILL_AMT4  BILL_AMT5  BILL_AMT6  PAY_AMT1  PAY_AMT2  PAY_AMT3  \\\n",
              "0  ...        0.0        0.0        0.0       0.0     689.0       0.0   \n",
              "1  ...     3272.0     3455.0     3261.0       0.0    1000.0    1000.0   \n",
              "2  ...    14331.0    14948.0    15549.0    1518.0    1500.0    1000.0   \n",
              "3  ...    28314.0    28959.0    29547.0    2000.0    2019.0    1200.0   \n",
              "4  ...    20940.0    19146.0    19131.0    2000.0   36681.0   10000.0   \n",
              "\n",
              "   PAY_AMT4  PAY_AMT5  PAY_AMT6  DEF_PAY  \n",
              "0       0.0       0.0       0.0        1  \n",
              "1    1000.0       0.0    2000.0        1  \n",
              "2    1000.0    1000.0    5000.0        0  \n",
              "3    1100.0    1069.0    1000.0        0  \n",
              "4    9000.0     689.0     679.0        0  \n",
              "\n",
              "[5 rows x 25 columns]"
            ],
            "text/html": [
              "\n",
              "  <div id=\"df-eb931f74-0cbc-4348-9dca-959824b43f31\">\n",
              "    <div class=\"colab-df-container\">\n",
              "      <div>\n",
              "<style scoped>\n",
              "    .dataframe tbody tr th:only-of-type {\n",
              "        vertical-align: middle;\n",
              "    }\n",
              "\n",
              "    .dataframe tbody tr th {\n",
              "        vertical-align: top;\n",
              "    }\n",
              "\n",
              "    .dataframe thead th {\n",
              "        text-align: right;\n",
              "    }\n",
              "</style>\n",
              "<table border=\"1\" class=\"dataframe\">\n",
              "  <thead>\n",
              "    <tr style=\"text-align: right;\">\n",
              "      <th></th>\n",
              "      <th>ID</th>\n",
              "      <th>LIMIT_BAL</th>\n",
              "      <th>SEX</th>\n",
              "      <th>EDUCATION</th>\n",
              "      <th>MARRIAGE</th>\n",
              "      <th>AGE</th>\n",
              "      <th>PAY_1</th>\n",
              "      <th>PAY_2</th>\n",
              "      <th>PAY_3</th>\n",
              "      <th>PAY_4</th>\n",
              "      <th>...</th>\n",
              "      <th>BILL_AMT4</th>\n",
              "      <th>BILL_AMT5</th>\n",
              "      <th>BILL_AMT6</th>\n",
              "      <th>PAY_AMT1</th>\n",
              "      <th>PAY_AMT2</th>\n",
              "      <th>PAY_AMT3</th>\n",
              "      <th>PAY_AMT4</th>\n",
              "      <th>PAY_AMT5</th>\n",
              "      <th>PAY_AMT6</th>\n",
              "      <th>DEF_PAY</th>\n",
              "    </tr>\n",
              "  </thead>\n",
              "  <tbody>\n",
              "    <tr>\n",
              "      <th>0</th>\n",
              "      <td>1</td>\n",
              "      <td>20000.0</td>\n",
              "      <td>2</td>\n",
              "      <td>2</td>\n",
              "      <td>1</td>\n",
              "      <td>24</td>\n",
              "      <td>2</td>\n",
              "      <td>2</td>\n",
              "      <td>0</td>\n",
              "      <td>0</td>\n",
              "      <td>...</td>\n",
              "      <td>0.0</td>\n",
              "      <td>0.0</td>\n",
              "      <td>0.0</td>\n",
              "      <td>0.0</td>\n",
              "      <td>689.0</td>\n",
              "      <td>0.0</td>\n",
              "      <td>0.0</td>\n",
              "      <td>0.0</td>\n",
              "      <td>0.0</td>\n",
              "      <td>1</td>\n",
              "    </tr>\n",
              "    <tr>\n",
              "      <th>1</th>\n",
              "      <td>2</td>\n",
              "      <td>120000.0</td>\n",
              "      <td>2</td>\n",
              "      <td>2</td>\n",
              "      <td>2</td>\n",
              "      <td>26</td>\n",
              "      <td>0</td>\n",
              "      <td>2</td>\n",
              "      <td>0</td>\n",
              "      <td>0</td>\n",
              "      <td>...</td>\n",
              "      <td>3272.0</td>\n",
              "      <td>3455.0</td>\n",
              "      <td>3261.0</td>\n",
              "      <td>0.0</td>\n",
              "      <td>1000.0</td>\n",
              "      <td>1000.0</td>\n",
              "      <td>1000.0</td>\n",
              "      <td>0.0</td>\n",
              "      <td>2000.0</td>\n",
              "      <td>1</td>\n",
              "    </tr>\n",
              "    <tr>\n",
              "      <th>2</th>\n",
              "      <td>3</td>\n",
              "      <td>90000.0</td>\n",
              "      <td>2</td>\n",
              "      <td>2</td>\n",
              "      <td>2</td>\n",
              "      <td>34</td>\n",
              "      <td>0</td>\n",
              "      <td>0</td>\n",
              "      <td>0</td>\n",
              "      <td>0</td>\n",
              "      <td>...</td>\n",
              "      <td>14331.0</td>\n",
              "      <td>14948.0</td>\n",
              "      <td>15549.0</td>\n",
              "      <td>1518.0</td>\n",
              "      <td>1500.0</td>\n",
              "      <td>1000.0</td>\n",
              "      <td>1000.0</td>\n",
              "      <td>1000.0</td>\n",
              "      <td>5000.0</td>\n",
              "      <td>0</td>\n",
              "    </tr>\n",
              "    <tr>\n",
              "      <th>3</th>\n",
              "      <td>4</td>\n",
              "      <td>50000.0</td>\n",
              "      <td>2</td>\n",
              "      <td>2</td>\n",
              "      <td>1</td>\n",
              "      <td>37</td>\n",
              "      <td>0</td>\n",
              "      <td>0</td>\n",
              "      <td>0</td>\n",
              "      <td>0</td>\n",
              "      <td>...</td>\n",
              "      <td>28314.0</td>\n",
              "      <td>28959.0</td>\n",
              "      <td>29547.0</td>\n",
              "      <td>2000.0</td>\n",
              "      <td>2019.0</td>\n",
              "      <td>1200.0</td>\n",
              "      <td>1100.0</td>\n",
              "      <td>1069.0</td>\n",
              "      <td>1000.0</td>\n",
              "      <td>0</td>\n",
              "    </tr>\n",
              "    <tr>\n",
              "      <th>4</th>\n",
              "      <td>5</td>\n",
              "      <td>50000.0</td>\n",
              "      <td>1</td>\n",
              "      <td>2</td>\n",
              "      <td>1</td>\n",
              "      <td>57</td>\n",
              "      <td>0</td>\n",
              "      <td>0</td>\n",
              "      <td>0</td>\n",
              "      <td>0</td>\n",
              "      <td>...</td>\n",
              "      <td>20940.0</td>\n",
              "      <td>19146.0</td>\n",
              "      <td>19131.0</td>\n",
              "      <td>2000.0</td>\n",
              "      <td>36681.0</td>\n",
              "      <td>10000.0</td>\n",
              "      <td>9000.0</td>\n",
              "      <td>689.0</td>\n",
              "      <td>679.0</td>\n",
              "      <td>0</td>\n",
              "    </tr>\n",
              "  </tbody>\n",
              "</table>\n",
              "<p>5 rows × 25 columns</p>\n",
              "</div>\n",
              "      <button class=\"colab-df-convert\" onclick=\"convertToInteractive('df-eb931f74-0cbc-4348-9dca-959824b43f31')\"\n",
              "              title=\"Convert this dataframe to an interactive table.\"\n",
              "              style=\"display:none;\">\n",
              "        \n",
              "  <svg xmlns=\"http://www.w3.org/2000/svg\" height=\"24px\"viewBox=\"0 0 24 24\"\n",
              "       width=\"24px\">\n",
              "    <path d=\"M0 0h24v24H0V0z\" fill=\"none\"/>\n",
              "    <path d=\"M18.56 5.44l.94 2.06.94-2.06 2.06-.94-2.06-.94-.94-2.06-.94 2.06-2.06.94zm-11 1L8.5 8.5l.94-2.06 2.06-.94-2.06-.94L8.5 2.5l-.94 2.06-2.06.94zm10 10l.94 2.06.94-2.06 2.06-.94-2.06-.94-.94-2.06-.94 2.06-2.06.94z\"/><path d=\"M17.41 7.96l-1.37-1.37c-.4-.4-.92-.59-1.43-.59-.52 0-1.04.2-1.43.59L10.3 9.45l-7.72 7.72c-.78.78-.78 2.05 0 2.83L4 21.41c.39.39.9.59 1.41.59.51 0 1.02-.2 1.41-.59l7.78-7.78 2.81-2.81c.8-.78.8-2.07 0-2.86zM5.41 20L4 18.59l7.72-7.72 1.47 1.35L5.41 20z\"/>\n",
              "  </svg>\n",
              "      </button>\n",
              "      \n",
              "  <style>\n",
              "    .colab-df-container {\n",
              "      display:flex;\n",
              "      flex-wrap:wrap;\n",
              "      gap: 12px;\n",
              "    }\n",
              "\n",
              "    .colab-df-convert {\n",
              "      background-color: #E8F0FE;\n",
              "      border: none;\n",
              "      border-radius: 50%;\n",
              "      cursor: pointer;\n",
              "      display: none;\n",
              "      fill: #1967D2;\n",
              "      height: 32px;\n",
              "      padding: 0 0 0 0;\n",
              "      width: 32px;\n",
              "    }\n",
              "\n",
              "    .colab-df-convert:hover {\n",
              "      background-color: #E2EBFA;\n",
              "      box-shadow: 0px 1px 2px rgba(60, 64, 67, 0.3), 0px 1px 3px 1px rgba(60, 64, 67, 0.15);\n",
              "      fill: #174EA6;\n",
              "    }\n",
              "\n",
              "    [theme=dark] .colab-df-convert {\n",
              "      background-color: #3B4455;\n",
              "      fill: #D2E3FC;\n",
              "    }\n",
              "\n",
              "    [theme=dark] .colab-df-convert:hover {\n",
              "      background-color: #434B5C;\n",
              "      box-shadow: 0px 1px 3px 1px rgba(0, 0, 0, 0.15);\n",
              "      filter: drop-shadow(0px 1px 2px rgba(0, 0, 0, 0.3));\n",
              "      fill: #FFFFFF;\n",
              "    }\n",
              "  </style>\n",
              "\n",
              "      <script>\n",
              "        const buttonEl =\n",
              "          document.querySelector('#df-eb931f74-0cbc-4348-9dca-959824b43f31 button.colab-df-convert');\n",
              "        buttonEl.style.display =\n",
              "          google.colab.kernel.accessAllowed ? 'block' : 'none';\n",
              "\n",
              "        async function convertToInteractive(key) {\n",
              "          const element = document.querySelector('#df-eb931f74-0cbc-4348-9dca-959824b43f31');\n",
              "          const dataTable =\n",
              "            await google.colab.kernel.invokeFunction('convertToInteractive',\n",
              "                                                     [key], {});\n",
              "          if (!dataTable) return;\n",
              "\n",
              "          const docLinkHtml = 'Like what you see? Visit the ' +\n",
              "            '<a target=\"_blank\" href=https://colab.research.google.com/notebooks/data_table.ipynb>data table notebook</a>'\n",
              "            + ' to learn more about interactive tables.';\n",
              "          element.innerHTML = '';\n",
              "          dataTable['output_type'] = 'display_data';\n",
              "          await google.colab.output.renderOutput(dataTable, element);\n",
              "          const docLink = document.createElement('div');\n",
              "          docLink.innerHTML = docLinkHtml;\n",
              "          element.appendChild(docLink);\n",
              "        }\n",
              "      </script>\n",
              "    </div>\n",
              "  </div>\n",
              "  "
            ]
          },
          "metadata": {},
          "execution_count": 99
        }
      ]
    },
    {
      "cell_type": "markdown",
      "source": [
        "# Model Building-Logistic Regression\n",
        "\n",
        "Select the right model, Include Feature Engineering, Perform Model Validation, Multiple models and performance comparison\n",
        "\n"
      ],
      "metadata": {
        "id": "H4E6A7SvQ8m4"
      }
    },
    {
      "cell_type": "markdown",
      "source": [
        "The problem description and objective of this project, which is to determine the default or non-default of a credit card, make it clear that this is a classification problem, and therefore we can build a Logistic Regression Machine Learning Model."
      ],
      "metadata": {
        "id": "9WBlslhjUjLa"
      }
    },
    {
      "cell_type": "markdown",
      "source": [
        "## Train Test Split"
      ],
      "metadata": {
        "id": "sb_OLi3TDHEr"
      }
    },
    {
      "cell_type": "code",
      "source": [
        "# Creating X array that will contain features and y array will contain the target vector\n",
        "X=cred_data_new.drop('DEF_PAY',axis=1)\n",
        "y=cred_data_new['DEF_PAY']\n",
        "\n",
        "# Importing the package\n",
        "from sklearn.model_selection import train_test_split\n",
        "\n",
        "# Using train_test_split() function to split the whole data to train data of 80% and test data of 20%.\n",
        "X_train, X_test, y_train, y_test = train_test_split(X, y, test_size=0.2, random_state=50)\n",
        "\n",
        "# Checking the shapes of the train and test data\n",
        "print('X_train',X_train.shape)\n",
        "print('X_test',X_test.shape)\n",
        "print('y_train',y_train.shape)\n",
        "print('y_test',y_test.shape)"
      ],
      "metadata": {
        "id": "sjLgLcSLFTHJ",
        "colab": {
          "base_uri": "https://localhost:8080/"
        },
        "outputId": "b954b042-7b7d-4dff-faa2-3f7c6ad5285c",
        "collapsed": true
      },
      "execution_count": 104,
      "outputs": [
        {
          "output_type": "stream",
          "name": "stdout",
          "text": [
            "X_train (24000, 24)\n",
            "X_test (6000, 24)\n",
            "y_train (24000,)\n",
            "y_test (6000,)\n"
          ]
        }
      ]
    },
    {
      "cell_type": "code",
      "source": [
        "# Importing the Library\n",
        "from sklearn.linear_model import LogisticRegression\n",
        "\n",
        "logistic=LogisticRegression(max_iter=2000)\n",
        "\n",
        "\n",
        "# Building a Multiple Logistic Regression Model by fitting the target and the features\n",
        "logistic.fit(X_train,y_train)"
      ],
      "metadata": {
        "id": "pcXUeAd9UPQs",
        "colab": {
          "base_uri": "https://localhost:8080/",
          "height": 0
        },
        "outputId": "531cd02b-189c-42b6-8edf-8f7978aa2c14",
        "collapsed": true
      },
      "execution_count": 105,
      "outputs": [
        {
          "output_type": "execute_result",
          "data": {
            "text/plain": [
              "LogisticRegression(max_iter=2000)"
            ],
            "text/html": [
              "<style>#sk-container-id-3 {color: black;background-color: white;}#sk-container-id-3 pre{padding: 0;}#sk-container-id-3 div.sk-toggleable {background-color: white;}#sk-container-id-3 label.sk-toggleable__label {cursor: pointer;display: block;width: 100%;margin-bottom: 0;padding: 0.3em;box-sizing: border-box;text-align: center;}#sk-container-id-3 label.sk-toggleable__label-arrow:before {content: \"▸\";float: left;margin-right: 0.25em;color: #696969;}#sk-container-id-3 label.sk-toggleable__label-arrow:hover:before {color: black;}#sk-container-id-3 div.sk-estimator:hover label.sk-toggleable__label-arrow:before {color: black;}#sk-container-id-3 div.sk-toggleable__content {max-height: 0;max-width: 0;overflow: hidden;text-align: left;background-color: #f0f8ff;}#sk-container-id-3 div.sk-toggleable__content pre {margin: 0.2em;color: black;border-radius: 0.25em;background-color: #f0f8ff;}#sk-container-id-3 input.sk-toggleable__control:checked~div.sk-toggleable__content {max-height: 200px;max-width: 100%;overflow: auto;}#sk-container-id-3 input.sk-toggleable__control:checked~label.sk-toggleable__label-arrow:before {content: \"▾\";}#sk-container-id-3 div.sk-estimator input.sk-toggleable__control:checked~label.sk-toggleable__label {background-color: #d4ebff;}#sk-container-id-3 div.sk-label input.sk-toggleable__control:checked~label.sk-toggleable__label {background-color: #d4ebff;}#sk-container-id-3 input.sk-hidden--visually {border: 0;clip: rect(1px 1px 1px 1px);clip: rect(1px, 1px, 1px, 1px);height: 1px;margin: -1px;overflow: hidden;padding: 0;position: absolute;width: 1px;}#sk-container-id-3 div.sk-estimator {font-family: monospace;background-color: #f0f8ff;border: 1px dotted black;border-radius: 0.25em;box-sizing: border-box;margin-bottom: 0.5em;}#sk-container-id-3 div.sk-estimator:hover {background-color: #d4ebff;}#sk-container-id-3 div.sk-parallel-item::after {content: \"\";width: 100%;border-bottom: 1px solid gray;flex-grow: 1;}#sk-container-id-3 div.sk-label:hover label.sk-toggleable__label {background-color: #d4ebff;}#sk-container-id-3 div.sk-serial::before {content: \"\";position: absolute;border-left: 1px solid gray;box-sizing: border-box;top: 0;bottom: 0;left: 50%;z-index: 0;}#sk-container-id-3 div.sk-serial {display: flex;flex-direction: column;align-items: center;background-color: white;padding-right: 0.2em;padding-left: 0.2em;position: relative;}#sk-container-id-3 div.sk-item {position: relative;z-index: 1;}#sk-container-id-3 div.sk-parallel {display: flex;align-items: stretch;justify-content: center;background-color: white;position: relative;}#sk-container-id-3 div.sk-item::before, #sk-container-id-3 div.sk-parallel-item::before {content: \"\";position: absolute;border-left: 1px solid gray;box-sizing: border-box;top: 0;bottom: 0;left: 50%;z-index: -1;}#sk-container-id-3 div.sk-parallel-item {display: flex;flex-direction: column;z-index: 1;position: relative;background-color: white;}#sk-container-id-3 div.sk-parallel-item:first-child::after {align-self: flex-end;width: 50%;}#sk-container-id-3 div.sk-parallel-item:last-child::after {align-self: flex-start;width: 50%;}#sk-container-id-3 div.sk-parallel-item:only-child::after {width: 0;}#sk-container-id-3 div.sk-dashed-wrapped {border: 1px dashed gray;margin: 0 0.4em 0.5em 0.4em;box-sizing: border-box;padding-bottom: 0.4em;background-color: white;}#sk-container-id-3 div.sk-label label {font-family: monospace;font-weight: bold;display: inline-block;line-height: 1.2em;}#sk-container-id-3 div.sk-label-container {text-align: center;}#sk-container-id-3 div.sk-container {/* jupyter's `normalize.less` sets `[hidden] { display: none; }` but bootstrap.min.css set `[hidden] { display: none !important; }` so we also need the `!important` here to be able to override the default hidden behavior on the sphinx rendered scikit-learn.org. See: https://github.com/scikit-learn/scikit-learn/issues/21755 */display: inline-block !important;position: relative;}#sk-container-id-3 div.sk-text-repr-fallback {display: none;}</style><div id=\"sk-container-id-3\" class=\"sk-top-container\"><div class=\"sk-text-repr-fallback\"><pre>LogisticRegression(max_iter=2000)</pre><b>In a Jupyter environment, please rerun this cell to show the HTML representation or trust the notebook. <br />On GitHub, the HTML representation is unable to render, please try loading this page with nbviewer.org.</b></div><div class=\"sk-container\" hidden><div class=\"sk-item\"><div class=\"sk-estimator sk-toggleable\"><input class=\"sk-toggleable__control sk-hidden--visually\" id=\"sk-estimator-id-3\" type=\"checkbox\" checked><label for=\"sk-estimator-id-3\" class=\"sk-toggleable__label sk-toggleable__label-arrow\">LogisticRegression</label><div class=\"sk-toggleable__content\"><pre>LogisticRegression(max_iter=2000)</pre></div></div></div></div></div>"
            ]
          },
          "metadata": {},
          "execution_count": 105
        }
      ]
    },
    {
      "cell_type": "code",
      "source": [
        "# Coefficient and intercept\n",
        "print(logistic.coef_)\n",
        "print(logistic.intercept_)"
      ],
      "metadata": {
        "id": "wuHUQfiFaIhV",
        "colab": {
          "base_uri": "https://localhost:8080/"
        },
        "outputId": "9e5c797a-d4eb-4883-893b-408e748bb248",
        "collapsed": true
      },
      "execution_count": 106,
      "outputs": [
        {
          "output_type": "stream",
          "name": "stdout",
          "text": [
            "[[-1.03568906e-05 -2.71698148e-06 -7.81075799e-04 -8.55355257e-04\n",
            "  -8.78560656e-04 -1.04513606e-02  2.51707878e-03  2.00417388e-03\n",
            "   1.69077255e-03  1.57161735e-03  1.44844294e-03  1.32262670e-03\n",
            "  -2.98870115e-06  1.39217845e-06  7.74414631e-07  2.20256166e-06\n",
            "  -1.63859464e-07  3.63986938e-06 -3.01957185e-05 -4.09111481e-05\n",
            "  -2.36498195e-05 -1.28947466e-05 -1.77871358e-05 -1.13703923e-05]]\n",
            "[-0.00040833]\n"
          ]
        }
      ]
    },
    {
      "cell_type": "code",
      "source": [
        "# Prediction of target using the features\n",
        "pred=logistic.predict(X_test)\n",
        "pred"
      ],
      "metadata": {
        "id": "5QHlIWaaUPtp",
        "colab": {
          "base_uri": "https://localhost:8080/"
        },
        "outputId": "74638a0f-0d27-4041-f1ea-27356d77deef",
        "collapsed": true
      },
      "execution_count": 107,
      "outputs": [
        {
          "output_type": "execute_result",
          "data": {
            "text/plain": [
              "array([0, 0, 0, ..., 0, 0, 0])"
            ]
          },
          "metadata": {},
          "execution_count": 107
        }
      ]
    },
    {
      "cell_type": "markdown",
      "source": [
        "# Model Validation\n",
        "Confusion matrix, Sensitivity, Specificity, F1 Score, Recall, Precision etc."
      ],
      "metadata": {
        "id": "zW7xeBqlRInF"
      }
    },
    {
      "cell_type": "code",
      "source": [
        "# Importing the sklearn package for creating the confusion matrix\n",
        "from sklearn.metrics import confusion_matrix\n",
        "cm=confusion_matrix(y_test,pred)\n",
        "cm"
      ],
      "metadata": {
        "id": "W2RtZSaPRIT-",
        "colab": {
          "base_uri": "https://localhost:8080/"
        },
        "outputId": "4208a036-e684-4da9-b40d-a782a2129a0b",
        "collapsed": true
      },
      "execution_count": 108,
      "outputs": [
        {
          "output_type": "execute_result",
          "data": {
            "text/plain": [
              "array([[4733,    0],\n",
              "       [1267,    0]])"
            ]
          },
          "metadata": {},
          "execution_count": 108
        }
      ]
    },
    {
      "cell_type": "code",
      "source": [
        "# Calculating the accuracy of the model\n",
        "total=sum(sum(cm))\n",
        "accuracy=(cm[0,0]+cm[1,1])/total\n",
        "round(accuracy*100,3)\n"
      ],
      "metadata": {
        "id": "0m9J-upe0mUs",
        "colab": {
          "base_uri": "https://localhost:8080/"
        },
        "outputId": "8ecd2a70-e239-4a02-c2ea-bbc18fef16d3",
        "collapsed": true
      },
      "execution_count": 109,
      "outputs": [
        {
          "output_type": "execute_result",
          "data": {
            "text/plain": [
              "78.883"
            ]
          },
          "metadata": {},
          "execution_count": 109
        }
      ]
    },
    {
      "cell_type": "markdown",
      "source": [
        "## Checking Multicolinearity"
      ],
      "metadata": {
        "id": "pDE8XkGV3HkM"
      }
    },
    {
      "cell_type": "code",
      "source": [
        "# Importing the package\n",
        "import statsmodels.formula.api as sm\n",
        "# Creating function for calculating VIF\n",
        "def vif_cal(input_data):\n",
        "    x_vars = input_data\n",
        "    xvar_names=x_vars.columns\n",
        "    for i in range(0,xvar_names.shape[0]):\n",
        "        y=x_vars[xvar_names[i]] \n",
        "        x=x_vars[xvar_names.drop(xvar_names[i])]\n",
        "        rsq=sm.ols(formula=\"y~x\", data=x_vars).fit().rsquared  \n",
        "        vif=round(1/(1-rsq),2)\n",
        "        print (xvar_names[i], \" VIF = \" , vif)"
      ],
      "metadata": {
        "id": "R8Ngeb2u1rvU"
      },
      "execution_count": 110,
      "outputs": []
    },
    {
      "cell_type": "code",
      "source": [
        "# Calculating VIF for all the Features\n",
        "vif_cal(input_data=X_train)"
      ],
      "metadata": {
        "id": "K-Huoilq1r2W",
        "colab": {
          "base_uri": "https://localhost:8080/"
        },
        "outputId": "d556bb4c-1413-42e4-f570-ace616f78623",
        "collapsed": true
      },
      "execution_count": 111,
      "outputs": [
        {
          "output_type": "stream",
          "name": "stdout",
          "text": [
            "ID  VIF =  1.01\n",
            "LIMIT_BAL  VIF =  1.36\n",
            "SEX  VIF =  1.02\n",
            "EDUCATION  VIF =  1.13\n",
            "MARRIAGE  VIF =  1.23\n",
            "AGE  VIF =  1.28\n",
            "PAY_1  VIF =  2.04\n",
            "PAY_2  VIF =  2.69\n",
            "PAY_3  VIF =  2.64\n",
            "PAY_4  VIF =  3.04\n",
            "PAY_5  VIF =  3.28\n",
            "PAY_6  VIF =  2.32\n",
            "BILL_AMT1  VIF =  7.35\n",
            "BILL_AMT2  VIF =  12.06\n",
            "BILL_AMT3  VIF =  9.26\n",
            "BILL_AMT4  VIF =  8.17\n",
            "BILL_AMT5  VIF =  9.72\n",
            "BILL_AMT6  VIF =  6.77\n",
            "PAY_AMT1  VIF =  1.37\n",
            "PAY_AMT2  VIF =  1.36\n",
            "PAY_AMT3  VIF =  1.31\n",
            "PAY_AMT4  VIF =  1.31\n",
            "PAY_AMT5  VIF =  1.33\n",
            "PAY_AMT6  VIF =  1.21\n"
          ]
        }
      ]
    },
    {
      "cell_type": "markdown",
      "source": [
        "The Features that are having VIF<5 are independent features so we can keep these features and VIF>=5 are dependent features which can create a situation of Multicolinearity so we can drop it sequentialy."
      ],
      "metadata": {
        "id": "l52Iw1QSivB6"
      }
    },
    {
      "cell_type": "code",
      "source": [
        "# Dropping squentially the feature having the high vif\n",
        "vif_cal(input_data=X_train.drop('BILL_AMT2',axis=1))"
      ],
      "metadata": {
        "id": "xR2F7XQr1r87",
        "colab": {
          "base_uri": "https://localhost:8080/"
        },
        "outputId": "a4e491d7-a61b-4eef-fdb8-9b9fd5218a58",
        "collapsed": true
      },
      "execution_count": 112,
      "outputs": [
        {
          "output_type": "stream",
          "name": "stdout",
          "text": [
            "ID  VIF =  1.01\n",
            "LIMIT_BAL  VIF =  1.36\n",
            "SEX  VIF =  1.02\n",
            "EDUCATION  VIF =  1.13\n",
            "MARRIAGE  VIF =  1.23\n",
            "AGE  VIF =  1.28\n",
            "PAY_1  VIF =  2.04\n",
            "PAY_2  VIF =  2.69\n",
            "PAY_3  VIF =  2.64\n",
            "PAY_4  VIF =  3.04\n",
            "PAY_5  VIF =  3.28\n",
            "PAY_6  VIF =  2.32\n",
            "BILL_AMT1  VIF =  4.14\n",
            "BILL_AMT3  VIF =  7.04\n",
            "BILL_AMT4  VIF =  8.16\n",
            "BILL_AMT5  VIF =  9.72\n",
            "BILL_AMT6  VIF =  6.76\n",
            "PAY_AMT1  VIF =  1.32\n",
            "PAY_AMT2  VIF =  1.35\n",
            "PAY_AMT3  VIF =  1.31\n",
            "PAY_AMT4  VIF =  1.31\n",
            "PAY_AMT5  VIF =  1.33\n",
            "PAY_AMT6  VIF =  1.21\n"
          ]
        }
      ]
    },
    {
      "cell_type": "code",
      "source": [
        "vif_cal(input_data=X_train.drop(['BILL_AMT2','BILL_AMT5'],axis=1))"
      ],
      "metadata": {
        "id": "7aoqOpwf1sAN",
        "colab": {
          "base_uri": "https://localhost:8080/"
        },
        "outputId": "5aaf4200-bbd8-4a48-ca28-f6713f1fb0ac",
        "collapsed": true
      },
      "execution_count": 113,
      "outputs": [
        {
          "output_type": "stream",
          "name": "stdout",
          "text": [
            "ID  VIF =  1.01\n",
            "LIMIT_BAL  VIF =  1.36\n",
            "SEX  VIF =  1.02\n",
            "EDUCATION  VIF =  1.13\n",
            "MARRIAGE  VIF =  1.23\n",
            "AGE  VIF =  1.28\n",
            "PAY_1  VIF =  2.04\n",
            "PAY_2  VIF =  2.69\n",
            "PAY_3  VIF =  2.64\n",
            "PAY_4  VIF =  3.04\n",
            "PAY_5  VIF =  3.28\n",
            "PAY_6  VIF =  2.32\n",
            "BILL_AMT1  VIF =  4.13\n",
            "BILL_AMT3  VIF =  7.0\n",
            "BILL_AMT4  VIF =  6.81\n",
            "BILL_AMT6  VIF =  4.04\n",
            "PAY_AMT1  VIF =  1.32\n",
            "PAY_AMT2  VIF =  1.35\n",
            "PAY_AMT3  VIF =  1.31\n",
            "PAY_AMT4  VIF =  1.27\n",
            "PAY_AMT5  VIF =  1.31\n",
            "PAY_AMT6  VIF =  1.21\n"
          ]
        }
      ]
    },
    {
      "cell_type": "code",
      "source": [
        "vif_cal(input_data=X_train.drop(['BILL_AMT2','BILL_AMT5','BILL_AMT3'],axis=1))"
      ],
      "metadata": {
        "id": "cWvd-QYO8iom",
        "colab": {
          "base_uri": "https://localhost:8080/"
        },
        "outputId": "948a5ae5-7c4b-4aca-a69b-d81ca21a18ad",
        "collapsed": true
      },
      "execution_count": 114,
      "outputs": [
        {
          "output_type": "stream",
          "name": "stdout",
          "text": [
            "ID  VIF =  1.01\n",
            "LIMIT_BAL  VIF =  1.36\n",
            "SEX  VIF =  1.02\n",
            "EDUCATION  VIF =  1.13\n",
            "MARRIAGE  VIF =  1.23\n",
            "AGE  VIF =  1.28\n",
            "PAY_1  VIF =  2.04\n",
            "PAY_2  VIF =  2.69\n",
            "PAY_3  VIF =  2.64\n",
            "PAY_4  VIF =  3.04\n",
            "PAY_5  VIF =  3.28\n",
            "PAY_6  VIF =  2.32\n",
            "BILL_AMT1  VIF =  2.9\n",
            "BILL_AMT4  VIF =  5.06\n",
            "BILL_AMT6  VIF =  4.02\n",
            "PAY_AMT1  VIF =  1.31\n",
            "PAY_AMT2  VIF =  1.32\n",
            "PAY_AMT3  VIF =  1.29\n",
            "PAY_AMT4  VIF =  1.27\n",
            "PAY_AMT5  VIF =  1.31\n",
            "PAY_AMT6  VIF =  1.21\n"
          ]
        }
      ]
    },
    {
      "cell_type": "code",
      "source": [
        "# Looks like there are no more high vif that means no more interdependency between the feature\n",
        "vif_cal(input_data=X_train.drop(['BILL_AMT2','BILL_AMT5','BILL_AMT3','BILL_AMT4'],axis=1))"
      ],
      "metadata": {
        "id": "lQLh3EDh-JIy",
        "colab": {
          "base_uri": "https://localhost:8080/"
        },
        "outputId": "f6ed7cb9-5762-48b6-ef54-b6c6c4b0166d",
        "collapsed": true
      },
      "execution_count": 115,
      "outputs": [
        {
          "output_type": "stream",
          "name": "stdout",
          "text": [
            "ID  VIF =  1.01\n",
            "LIMIT_BAL  VIF =  1.36\n",
            "SEX  VIF =  1.02\n",
            "EDUCATION  VIF =  1.13\n",
            "MARRIAGE  VIF =  1.23\n",
            "AGE  VIF =  1.28\n",
            "PAY_1  VIF =  2.04\n",
            "PAY_2  VIF =  2.69\n",
            "PAY_3  VIF =  2.64\n",
            "PAY_4  VIF =  3.04\n",
            "PAY_5  VIF =  3.28\n",
            "PAY_6  VIF =  2.32\n",
            "BILL_AMT1  VIF =  2.24\n",
            "BILL_AMT6  VIF =  2.35\n",
            "PAY_AMT1  VIF =  1.31\n",
            "PAY_AMT2  VIF =  1.31\n",
            "PAY_AMT3  VIF =  1.27\n",
            "PAY_AMT4  VIF =  1.27\n",
            "PAY_AMT5  VIF =  1.3\n",
            "PAY_AMT6  VIF =  1.21\n"
          ]
        }
      ]
    },
    {
      "cell_type": "markdown",
      "source": [
        "## Checking the Individual Impact of Variables"
      ],
      "metadata": {
        "id": "Vqhymg7X-sKt"
      }
    },
    {
      "cell_type": "code",
      "source": [
        "# Importing the statsmodel library\n",
        "import statsmodels.discrete.discrete_model as sm\n",
        "m=sm.Logit(y,X)\n",
        "# Fitting feature to the model\n",
        "Res=m.fit()\n",
        "# Printing Summary\n",
        "print(Res.summary())"
      ],
      "metadata": {
        "id": "mUszqxYu-g-l",
        "colab": {
          "base_uri": "https://localhost:8080/"
        },
        "outputId": "aa10b769-b8a3-4786-9fa5-a0eb44c31504",
        "collapsed": true
      },
      "execution_count": 116,
      "outputs": [
        {
          "output_type": "stream",
          "name": "stdout",
          "text": [
            "Optimization terminated successfully.\n",
            "         Current function value: 0.445289\n",
            "         Iterations 6\n",
            "                           Logit Regression Results                           \n",
            "==============================================================================\n",
            "Dep. Variable:                DEF_PAY   No. Observations:                30000\n",
            "Model:                          Logit   Df Residuals:                    29976\n",
            "Method:                           MLE   Df Model:                           23\n",
            "Date:                Sun, 19 Mar 2023   Pseudo R-squ.:                  0.1573\n",
            "Time:                        11:27:43   Log-Likelihood:                -13359.\n",
            "converged:                       True   LL-Null:                       -15853.\n",
            "Covariance Type:            nonrobust   LLR p-value:                     0.000\n",
            "==============================================================================\n",
            "                 coef    std err          z      P>|z|      [0.025      0.975]\n",
            "------------------------------------------------------------------------------\n",
            "ID         -3.893e-06   1.76e-06     -2.209      0.027   -7.35e-06   -4.38e-07\n",
            "LIMIT_BAL  -1.538e-06   1.53e-07    -10.040      0.000   -1.84e-06   -1.24e-06\n",
            "SEX           -0.2429      0.028     -8.743      0.000      -0.297      -0.188\n",
            "EDUCATION     -0.1283      0.022     -5.940      0.000      -0.171      -0.086\n",
            "MARRIAGE      -0.3410      0.024    -14.167      0.000      -0.388      -0.294\n",
            "AGE           -0.0044      0.001     -3.090      0.002      -0.007      -0.002\n",
            "PAY_1          0.8686      0.025     34.596      0.000       0.819       0.918\n",
            "PAY_2          0.0514      0.027      1.920      0.055      -0.001       0.104\n",
            "PAY_3          0.1063      0.029      3.677      0.000       0.050       0.163\n",
            "PAY_4          0.0831      0.032      2.591      0.010       0.020       0.146\n",
            "PAY_5          0.0917      0.035      2.656      0.008       0.024       0.159\n",
            "PAY_6          0.1521      0.029      5.205      0.000       0.095       0.209\n",
            "BILL_AMT1   -2.37e-07   7.85e-07     -0.302      0.763   -1.78e-06     1.3e-06\n",
            "BILL_AMT2  -1.074e-07   1.04e-06     -0.103      0.918   -2.14e-06    1.93e-06\n",
            "BILL_AMT3   3.941e-08   9.47e-07      0.042      0.967   -1.82e-06     1.9e-06\n",
            "BILL_AMT4   1.397e-06   9.91e-07      1.409      0.159   -5.46e-07    3.34e-06\n",
            "BILL_AMT5  -1.501e-06   1.14e-06     -1.313      0.189   -3.74e-06     7.4e-07\n",
            "BILL_AMT6   1.195e-06    9.5e-07      1.258      0.208   -6.67e-07    3.06e-06\n",
            "PAY_AMT1   -1.134e-05   3.24e-06     -3.498      0.000   -1.77e-05   -4.99e-06\n",
            "PAY_AMT2   -1.993e-05   3.47e-06     -5.741      0.000   -2.67e-05   -1.31e-05\n",
            "PAY_AMT3   -1.183e-05   3.29e-06     -3.595      0.000   -1.83e-05   -5.38e-06\n",
            "PAY_AMT4   -7.707e-06    3.2e-06     -2.408      0.016    -1.4e-05   -1.43e-06\n",
            "PAY_AMT5   -1.049e-05    3.4e-06     -3.088      0.002   -1.71e-05   -3.83e-06\n",
            "PAY_AMT6   -7.473e-06   2.76e-06     -2.703      0.007   -1.29e-05   -2.05e-06\n",
            "==============================================================================\n"
          ]
        }
      ]
    },
    {
      "cell_type": "markdown",
      "source": [
        "### Findings\n",
        "\n",
        "- From the vif calculation we have found the feature 'BILL_AMT2','BILL_AMT5','BILL_AMT3','BILL_AMT4' are highly dependent which can result to the situation of multicolinearity so we can drop it.\n",
        "\n",
        "- In the above summary observation we can see that P|z| of ID,PAY_2,BILL_AMT1,BILL_AMT6 are >0.05 that means these features are non impactful features so we can drop it.\n"
      ],
      "metadata": {
        "id": "wmBzCBxh6_TQ"
      }
    },
    {
      "cell_type": "code",
      "source": [
        "# Dropping the feature that are not required\n",
        "X.drop(['BILL_AMT1', 'BILL_AMT2','BILL_AMT3', 'BILL_AMT4', 'BILL_AMT5', 'BILL_AMT6','PAY_2','ID'],axis=1,inplace=True)"
      ],
      "metadata": {
        "id": "h_a4HK6S-hCE"
      },
      "execution_count": 117,
      "outputs": []
    },
    {
      "cell_type": "code",
      "source": [
        "# Importing the statsmodel library\n",
        "import statsmodels.discrete.discrete_model as sm\n",
        "m=sm.Logit(y,X)\n",
        "# Fitting feature to the model\n",
        "Res=m.fit()\n",
        "# Printing Summary\n",
        "print(Res.summary())"
      ],
      "metadata": {
        "id": "9TycXbC4Z_FP",
        "colab": {
          "base_uri": "https://localhost:8080/"
        },
        "outputId": "b8fd71a4-5564-43d8-c0a9-626a0281a8a1",
        "collapsed": true
      },
      "execution_count": 118,
      "outputs": [
        {
          "output_type": "stream",
          "name": "stdout",
          "text": [
            "Optimization terminated successfully.\n",
            "         Current function value: 0.445549\n",
            "         Iterations 6\n",
            "                           Logit Regression Results                           \n",
            "==============================================================================\n",
            "Dep. Variable:                DEF_PAY   No. Observations:                30000\n",
            "Model:                          Logit   Df Residuals:                    29984\n",
            "Method:                           MLE   Df Model:                           15\n",
            "Date:                Sun, 19 Mar 2023   Pseudo R-squ.:                  0.1568\n",
            "Time:                        11:27:43   Log-Likelihood:                -13366.\n",
            "converged:                       True   LL-Null:                       -15853.\n",
            "Covariance Type:            nonrobust   LLR p-value:                     0.000\n",
            "==============================================================================\n",
            "                 coef    std err          z      P>|z|      [0.025      0.975]\n",
            "------------------------------------------------------------------------------\n",
            "LIMIT_BAL  -1.538e-06   1.51e-07    -10.170      0.000   -1.83e-06   -1.24e-06\n",
            "SEX           -0.2517      0.028     -9.136      0.000      -0.306      -0.198\n",
            "EDUCATION     -0.1293      0.021     -6.048      0.000      -0.171      -0.087\n",
            "MARRIAGE      -0.3495      0.024    -14.721      0.000      -0.396      -0.303\n",
            "AGE           -0.0050      0.001     -3.534      0.000      -0.008      -0.002\n",
            "PAY_1          0.8959      0.022     40.670      0.000       0.853       0.939\n",
            "PAY_3          0.1336      0.026      5.191      0.000       0.083       0.184\n",
            "PAY_4          0.0781      0.032      2.441      0.015       0.015       0.141\n",
            "PAY_5          0.1000      0.034      2.902      0.004       0.032       0.167\n",
            "PAY_6          0.1574      0.029      5.400      0.000       0.100       0.214\n",
            "PAY_AMT1   -1.159e-05   3.07e-06     -3.773      0.000   -1.76e-05   -5.57e-06\n",
            "PAY_AMT2   -1.826e-05    3.3e-06     -5.529      0.000   -2.47e-05   -1.18e-05\n",
            "PAY_AMT3   -1.077e-05   3.18e-06     -3.392      0.001    -1.7e-05   -4.55e-06\n",
            "PAY_AMT4    -7.66e-06   3.08e-06     -2.487      0.013   -1.37e-05   -1.62e-06\n",
            "PAY_AMT5   -8.695e-06   3.25e-06     -2.675      0.007   -1.51e-05   -2.32e-06\n",
            "PAY_AMT6   -7.091e-06   2.73e-06     -2.600      0.009   -1.24e-05   -1.75e-06\n",
            "==============================================================================\n"
          ]
        }
      ]
    },
    {
      "cell_type": "markdown",
      "source": [
        "## Rebuilding the Model"
      ],
      "metadata": {
        "id": "CW7wVTRGevA_"
      }
    },
    {
      "cell_type": "code",
      "source": [
        "# Using train_test_split() function to split the whole data to train data of 80% and test data of 20%.\n",
        "X_train, X_test, y_train, y_test = train_test_split(X, y, test_size=0.2, random_state=50)\n",
        "\n",
        "# Checking the shapes of the train and test data\n",
        "print('X_train',X_train.shape)\n",
        "print('X_test',X_test.shape)\n",
        "print('y_train',y_train.shape)\n",
        "print('y_test',y_test.shape)"
      ],
      "metadata": {
        "id": "TQGVVHncIIi9",
        "colab": {
          "base_uri": "https://localhost:8080/"
        },
        "outputId": "be84287d-0ae0-4074-cb6f-63bc8a8ae9c7",
        "collapsed": true
      },
      "execution_count": 119,
      "outputs": [
        {
          "output_type": "stream",
          "name": "stdout",
          "text": [
            "X_train (24000, 16)\n",
            "X_test (6000, 16)\n",
            "y_train (24000,)\n",
            "y_test (6000,)\n"
          ]
        }
      ]
    },
    {
      "cell_type": "code",
      "source": [
        "# Fitting the feature and target vector to the model\n",
        "logistic.fit(X_train,y_train)\n",
        "# Predicting the target\n",
        "pred=logistic.predict(X_test)\n",
        "pred"
      ],
      "metadata": {
        "id": "DUCRNAIIDZhv",
        "colab": {
          "base_uri": "https://localhost:8080/"
        },
        "outputId": "7f0cbc17-ba49-47d2-e4a3-91f6f9f8ff7f",
        "collapsed": true
      },
      "execution_count": 120,
      "outputs": [
        {
          "output_type": "execute_result",
          "data": {
            "text/plain": [
              "array([0, 0, 0, ..., 0, 0, 0])"
            ]
          },
          "metadata": {},
          "execution_count": 120
        }
      ]
    },
    {
      "cell_type": "markdown",
      "source": [
        "### Confusion Matrix,Accuracy,Sensitivity,Specificity"
      ],
      "metadata": {
        "id": "dSgzheXjYViR"
      }
    },
    {
      "cell_type": "code",
      "source": [
        "# Creating confusion matrix\n",
        "cm=confusion_matrix(y_test,pred)\n",
        "cm\n",
        "# Calculating Accuracy\n",
        "total=sum(sum(cm))\n",
        "accuracy=(cm[0,0]+cm[1,1])/total\n",
        "print('Accuracy=',round(accuracy*100,3))\n",
        "\n",
        "# Calculating Sensitivity\n",
        "Sensitivity=cm[0,0]/(cm[0,0]+cm[0,1])\n",
        "print('Sensitivity-',round(Sensitivity*100,2))\n",
        "\n",
        "# Calculating Specificity\n",
        "Specificity = cm[1,1]/(cm[1,0]+cm[1,1])\n",
        "print('Specificity-',round(Specificity*100,2))"
      ],
      "metadata": {
        "id": "W2aahK7MD0Mf",
        "colab": {
          "base_uri": "https://localhost:8080/"
        },
        "outputId": "91430910-9f30-4e7d-cd2b-16c59c3170bd",
        "collapsed": true
      },
      "execution_count": 121,
      "outputs": [
        {
          "output_type": "stream",
          "name": "stdout",
          "text": [
            "Accuracy= 78.883\n",
            "Sensitivity- 100.0\n",
            "Specificity- 0.0\n"
          ]
        }
      ]
    },
    {
      "cell_type": "markdown",
      "source": [
        "- Looks like the accuracy has not changed after dropping the unwanted features\n",
        "\n",
        "- Looking at the Specificity and Sensitivity we got to know that there is huge class imbalance.\n",
        "\n"
      ],
      "metadata": {
        "id": "ee_favAC9HkE"
      }
    },
    {
      "cell_type": "markdown",
      "source": [
        "## Wald Chi-Square Method"
      ],
      "metadata": {
        "id": "Y9IHzxCkZF2L"
      }
    },
    {
      "cell_type": "markdown",
      "source": [
        "- Lets use Wald Chi-Square Method to choose the higher ranking top 5 best features from the overall and try predicting on those for checking the effect on the accuracy."
      ],
      "metadata": {
        "id": "8zgJBikm_EuT"
      }
    },
    {
      "cell_type": "code",
      "source": [
        "round(Res.tvalues.pow(2)).sort_values(ascending=False).head(5)"
      ],
      "metadata": {
        "id": "T8qKT2VVZcs_",
        "colab": {
          "base_uri": "https://localhost:8080/"
        },
        "outputId": "95071bdd-3af8-4c2e-df67-6e92b6369ab4",
        "collapsed": true
      },
      "execution_count": 122,
      "outputs": [
        {
          "output_type": "execute_result",
          "data": {
            "text/plain": [
              "PAY_1        1654.0\n",
              "MARRIAGE      217.0\n",
              "LIMIT_BAL     103.0\n",
              "SEX            83.0\n",
              "EDUCATION      37.0\n",
              "dtype: float64"
            ]
          },
          "metadata": {},
          "execution_count": 122
        }
      ]
    },
    {
      "cell_type": "code",
      "source": [
        "X1=cred_data_new[['PAY_1','MARRIAGE','LIMIT_BAL','SEX','EDUCATION']]\n",
        "y1=cred_data_new['DEF_PAY']\n",
        "\n",
        "X1_train, X1_test, y1_train, y1_test = train_test_split(X1, y1, test_size=0.2, random_state=50)\n",
        "\n",
        "# Fitting the target and the features\n",
        "logistic.fit(X1_train,y1_train)\n",
        "\n",
        "#predict\n",
        "Pred2=logistic.predict(X1_test)\n",
        "Pred2"
      ],
      "metadata": {
        "id": "Cs3DcHp8RL-O",
        "colab": {
          "base_uri": "https://localhost:8080/"
        },
        "outputId": "fa48791c-9909-43c2-bbb6-ae1ef7f6b56c",
        "collapsed": true
      },
      "execution_count": 123,
      "outputs": [
        {
          "output_type": "execute_result",
          "data": {
            "text/plain": [
              "array([0, 0, 0, ..., 0, 0, 0])"
            ]
          },
          "metadata": {},
          "execution_count": 123
        }
      ]
    },
    {
      "cell_type": "code",
      "source": [
        "# Confusion Matrix and Accuracy\n",
        "cm1=confusion_matrix(y1_test,Pred2)\n",
        "print(cm1)\n",
        "\n",
        "total=sum(sum(cm))\n",
        "accuracy=(cm[0,0]+cm[1,1])/total\n",
        "print('Accuracy=',round(accuracy*100,3))"
      ],
      "metadata": {
        "id": "miz2iozL-m7U",
        "colab": {
          "base_uri": "https://localhost:8080/"
        },
        "outputId": "246ac6e5-396e-4e93-e8de-374daac6181d",
        "collapsed": true
      },
      "execution_count": 124,
      "outputs": [
        {
          "output_type": "stream",
          "name": "stdout",
          "text": [
            "[[4733    0]\n",
            " [1267    0]]\n",
            "Accuracy= 78.883\n"
          ]
        }
      ]
    },
    {
      "cell_type": "markdown",
      "source": [
        "- So there is no effect on Accuracy"
      ],
      "metadata": {
        "id": "I4xd4EVpDodj"
      }
    },
    {
      "cell_type": "markdown",
      "source": [
        "# Model Selection Cross validation"
      ],
      "metadata": {
        "id": "szaZDjKdHd4q"
      }
    },
    {
      "cell_type": "code",
      "source": [
        "# Copying the clean data for further analysis.\n",
        "cred_data_new=cred_data.copy(deep=True)\n",
        "cred_data_new.head()"
      ],
      "metadata": {
        "id": "-kYV84wHGe8O",
        "colab": {
          "base_uri": "https://localhost:8080/",
          "height": 0
        },
        "outputId": "432c9c3d-0c40-40f9-df13-25b92d36b661",
        "collapsed": true
      },
      "execution_count": 125,
      "outputs": [
        {
          "output_type": "execute_result",
          "data": {
            "text/plain": [
              "   ID  LIMIT_BAL  SEX  EDUCATION  MARRIAGE  AGE  PAY_1  PAY_2  PAY_3  PAY_4  \\\n",
              "0   1    20000.0    2          2         1   24      2      2      0      0   \n",
              "1   2   120000.0    2          2         2   26      0      2      0      0   \n",
              "2   3    90000.0    2          2         2   34      0      0      0      0   \n",
              "3   4    50000.0    2          2         1   37      0      0      0      0   \n",
              "4   5    50000.0    1          2         1   57      0      0      0      0   \n",
              "\n",
              "   ...  BILL_AMT4  BILL_AMT5  BILL_AMT6  PAY_AMT1  PAY_AMT2  PAY_AMT3  \\\n",
              "0  ...        0.0        0.0        0.0       0.0     689.0       0.0   \n",
              "1  ...     3272.0     3455.0     3261.0       0.0    1000.0    1000.0   \n",
              "2  ...    14331.0    14948.0    15549.0    1518.0    1500.0    1000.0   \n",
              "3  ...    28314.0    28959.0    29547.0    2000.0    2019.0    1200.0   \n",
              "4  ...    20940.0    19146.0    19131.0    2000.0   36681.0   10000.0   \n",
              "\n",
              "   PAY_AMT4  PAY_AMT5  PAY_AMT6  DEF_PAY  \n",
              "0       0.0       0.0       0.0        1  \n",
              "1    1000.0       0.0    2000.0        1  \n",
              "2    1000.0    1000.0    5000.0        0  \n",
              "3    1100.0    1069.0    1000.0        0  \n",
              "4    9000.0     689.0     679.0        0  \n",
              "\n",
              "[5 rows x 25 columns]"
            ],
            "text/html": [
              "\n",
              "  <div id=\"df-a341f9e2-95ad-4c48-b552-7804a553cecc\">\n",
              "    <div class=\"colab-df-container\">\n",
              "      <div>\n",
              "<style scoped>\n",
              "    .dataframe tbody tr th:only-of-type {\n",
              "        vertical-align: middle;\n",
              "    }\n",
              "\n",
              "    .dataframe tbody tr th {\n",
              "        vertical-align: top;\n",
              "    }\n",
              "\n",
              "    .dataframe thead th {\n",
              "        text-align: right;\n",
              "    }\n",
              "</style>\n",
              "<table border=\"1\" class=\"dataframe\">\n",
              "  <thead>\n",
              "    <tr style=\"text-align: right;\">\n",
              "      <th></th>\n",
              "      <th>ID</th>\n",
              "      <th>LIMIT_BAL</th>\n",
              "      <th>SEX</th>\n",
              "      <th>EDUCATION</th>\n",
              "      <th>MARRIAGE</th>\n",
              "      <th>AGE</th>\n",
              "      <th>PAY_1</th>\n",
              "      <th>PAY_2</th>\n",
              "      <th>PAY_3</th>\n",
              "      <th>PAY_4</th>\n",
              "      <th>...</th>\n",
              "      <th>BILL_AMT4</th>\n",
              "      <th>BILL_AMT5</th>\n",
              "      <th>BILL_AMT6</th>\n",
              "      <th>PAY_AMT1</th>\n",
              "      <th>PAY_AMT2</th>\n",
              "      <th>PAY_AMT3</th>\n",
              "      <th>PAY_AMT4</th>\n",
              "      <th>PAY_AMT5</th>\n",
              "      <th>PAY_AMT6</th>\n",
              "      <th>DEF_PAY</th>\n",
              "    </tr>\n",
              "  </thead>\n",
              "  <tbody>\n",
              "    <tr>\n",
              "      <th>0</th>\n",
              "      <td>1</td>\n",
              "      <td>20000.0</td>\n",
              "      <td>2</td>\n",
              "      <td>2</td>\n",
              "      <td>1</td>\n",
              "      <td>24</td>\n",
              "      <td>2</td>\n",
              "      <td>2</td>\n",
              "      <td>0</td>\n",
              "      <td>0</td>\n",
              "      <td>...</td>\n",
              "      <td>0.0</td>\n",
              "      <td>0.0</td>\n",
              "      <td>0.0</td>\n",
              "      <td>0.0</td>\n",
              "      <td>689.0</td>\n",
              "      <td>0.0</td>\n",
              "      <td>0.0</td>\n",
              "      <td>0.0</td>\n",
              "      <td>0.0</td>\n",
              "      <td>1</td>\n",
              "    </tr>\n",
              "    <tr>\n",
              "      <th>1</th>\n",
              "      <td>2</td>\n",
              "      <td>120000.0</td>\n",
              "      <td>2</td>\n",
              "      <td>2</td>\n",
              "      <td>2</td>\n",
              "      <td>26</td>\n",
              "      <td>0</td>\n",
              "      <td>2</td>\n",
              "      <td>0</td>\n",
              "      <td>0</td>\n",
              "      <td>...</td>\n",
              "      <td>3272.0</td>\n",
              "      <td>3455.0</td>\n",
              "      <td>3261.0</td>\n",
              "      <td>0.0</td>\n",
              "      <td>1000.0</td>\n",
              "      <td>1000.0</td>\n",
              "      <td>1000.0</td>\n",
              "      <td>0.0</td>\n",
              "      <td>2000.0</td>\n",
              "      <td>1</td>\n",
              "    </tr>\n",
              "    <tr>\n",
              "      <th>2</th>\n",
              "      <td>3</td>\n",
              "      <td>90000.0</td>\n",
              "      <td>2</td>\n",
              "      <td>2</td>\n",
              "      <td>2</td>\n",
              "      <td>34</td>\n",
              "      <td>0</td>\n",
              "      <td>0</td>\n",
              "      <td>0</td>\n",
              "      <td>0</td>\n",
              "      <td>...</td>\n",
              "      <td>14331.0</td>\n",
              "      <td>14948.0</td>\n",
              "      <td>15549.0</td>\n",
              "      <td>1518.0</td>\n",
              "      <td>1500.0</td>\n",
              "      <td>1000.0</td>\n",
              "      <td>1000.0</td>\n",
              "      <td>1000.0</td>\n",
              "      <td>5000.0</td>\n",
              "      <td>0</td>\n",
              "    </tr>\n",
              "    <tr>\n",
              "      <th>3</th>\n",
              "      <td>4</td>\n",
              "      <td>50000.0</td>\n",
              "      <td>2</td>\n",
              "      <td>2</td>\n",
              "      <td>1</td>\n",
              "      <td>37</td>\n",
              "      <td>0</td>\n",
              "      <td>0</td>\n",
              "      <td>0</td>\n",
              "      <td>0</td>\n",
              "      <td>...</td>\n",
              "      <td>28314.0</td>\n",
              "      <td>28959.0</td>\n",
              "      <td>29547.0</td>\n",
              "      <td>2000.0</td>\n",
              "      <td>2019.0</td>\n",
              "      <td>1200.0</td>\n",
              "      <td>1100.0</td>\n",
              "      <td>1069.0</td>\n",
              "      <td>1000.0</td>\n",
              "      <td>0</td>\n",
              "    </tr>\n",
              "    <tr>\n",
              "      <th>4</th>\n",
              "      <td>5</td>\n",
              "      <td>50000.0</td>\n",
              "      <td>1</td>\n",
              "      <td>2</td>\n",
              "      <td>1</td>\n",
              "      <td>57</td>\n",
              "      <td>0</td>\n",
              "      <td>0</td>\n",
              "      <td>0</td>\n",
              "      <td>0</td>\n",
              "      <td>...</td>\n",
              "      <td>20940.0</td>\n",
              "      <td>19146.0</td>\n",
              "      <td>19131.0</td>\n",
              "      <td>2000.0</td>\n",
              "      <td>36681.0</td>\n",
              "      <td>10000.0</td>\n",
              "      <td>9000.0</td>\n",
              "      <td>689.0</td>\n",
              "      <td>679.0</td>\n",
              "      <td>0</td>\n",
              "    </tr>\n",
              "  </tbody>\n",
              "</table>\n",
              "<p>5 rows × 25 columns</p>\n",
              "</div>\n",
              "      <button class=\"colab-df-convert\" onclick=\"convertToInteractive('df-a341f9e2-95ad-4c48-b552-7804a553cecc')\"\n",
              "              title=\"Convert this dataframe to an interactive table.\"\n",
              "              style=\"display:none;\">\n",
              "        \n",
              "  <svg xmlns=\"http://www.w3.org/2000/svg\" height=\"24px\"viewBox=\"0 0 24 24\"\n",
              "       width=\"24px\">\n",
              "    <path d=\"M0 0h24v24H0V0z\" fill=\"none\"/>\n",
              "    <path d=\"M18.56 5.44l.94 2.06.94-2.06 2.06-.94-2.06-.94-.94-2.06-.94 2.06-2.06.94zm-11 1L8.5 8.5l.94-2.06 2.06-.94-2.06-.94L8.5 2.5l-.94 2.06-2.06.94zm10 10l.94 2.06.94-2.06 2.06-.94-2.06-.94-.94-2.06-.94 2.06-2.06.94z\"/><path d=\"M17.41 7.96l-1.37-1.37c-.4-.4-.92-.59-1.43-.59-.52 0-1.04.2-1.43.59L10.3 9.45l-7.72 7.72c-.78.78-.78 2.05 0 2.83L4 21.41c.39.39.9.59 1.41.59.51 0 1.02-.2 1.41-.59l7.78-7.78 2.81-2.81c.8-.78.8-2.07 0-2.86zM5.41 20L4 18.59l7.72-7.72 1.47 1.35L5.41 20z\"/>\n",
              "  </svg>\n",
              "      </button>\n",
              "      \n",
              "  <style>\n",
              "    .colab-df-container {\n",
              "      display:flex;\n",
              "      flex-wrap:wrap;\n",
              "      gap: 12px;\n",
              "    }\n",
              "\n",
              "    .colab-df-convert {\n",
              "      background-color: #E8F0FE;\n",
              "      border: none;\n",
              "      border-radius: 50%;\n",
              "      cursor: pointer;\n",
              "      display: none;\n",
              "      fill: #1967D2;\n",
              "      height: 32px;\n",
              "      padding: 0 0 0 0;\n",
              "      width: 32px;\n",
              "    }\n",
              "\n",
              "    .colab-df-convert:hover {\n",
              "      background-color: #E2EBFA;\n",
              "      box-shadow: 0px 1px 2px rgba(60, 64, 67, 0.3), 0px 1px 3px 1px rgba(60, 64, 67, 0.15);\n",
              "      fill: #174EA6;\n",
              "    }\n",
              "\n",
              "    [theme=dark] .colab-df-convert {\n",
              "      background-color: #3B4455;\n",
              "      fill: #D2E3FC;\n",
              "    }\n",
              "\n",
              "    [theme=dark] .colab-df-convert:hover {\n",
              "      background-color: #434B5C;\n",
              "      box-shadow: 0px 1px 3px 1px rgba(0, 0, 0, 0.15);\n",
              "      filter: drop-shadow(0px 1px 2px rgba(0, 0, 0, 0.3));\n",
              "      fill: #FFFFFF;\n",
              "    }\n",
              "  </style>\n",
              "\n",
              "      <script>\n",
              "        const buttonEl =\n",
              "          document.querySelector('#df-a341f9e2-95ad-4c48-b552-7804a553cecc button.colab-df-convert');\n",
              "        buttonEl.style.display =\n",
              "          google.colab.kernel.accessAllowed ? 'block' : 'none';\n",
              "\n",
              "        async function convertToInteractive(key) {\n",
              "          const element = document.querySelector('#df-a341f9e2-95ad-4c48-b552-7804a553cecc');\n",
              "          const dataTable =\n",
              "            await google.colab.kernel.invokeFunction('convertToInteractive',\n",
              "                                                     [key], {});\n",
              "          if (!dataTable) return;\n",
              "\n",
              "          const docLinkHtml = 'Like what you see? Visit the ' +\n",
              "            '<a target=\"_blank\" href=https://colab.research.google.com/notebooks/data_table.ipynb>data table notebook</a>'\n",
              "            + ' to learn more about interactive tables.';\n",
              "          element.innerHTML = '';\n",
              "          dataTable['output_type'] = 'display_data';\n",
              "          await google.colab.output.renderOutput(dataTable, element);\n",
              "          const docLink = document.createElement('div');\n",
              "          docLink.innerHTML = docLinkHtml;\n",
              "          element.appendChild(docLink);\n",
              "        }\n",
              "      </script>\n",
              "    </div>\n",
              "  </div>\n",
              "  "
            ]
          },
          "metadata": {},
          "execution_count": 125
        }
      ]
    },
    {
      "cell_type": "code",
      "source": [
        "X=cred_data_new.drop('DEF_PAY',axis=1)\n",
        "y=cred_data_new['DEF_PAY']"
      ],
      "metadata": {
        "id": "q_U5fCICHaku"
      },
      "execution_count": 126,
      "outputs": []
    },
    {
      "cell_type": "markdown",
      "source": [
        "### Using Statsmodel Logistic Regression "
      ],
      "metadata": {
        "id": "h-C2ICsmejPZ"
      }
    },
    {
      "cell_type": "code",
      "source": [
        "# Importing the statsmodel library\n",
        "import statsmodels.discrete.discrete_model as sm\n",
        "m=sm.Logit(y,X)\n",
        "# Fitting feature to the model\n",
        "results=m.fit()\n",
        "# Printing Summary\n",
        "print(results.summary())"
      ],
      "metadata": {
        "id": "SbuEik3-FYzs",
        "colab": {
          "base_uri": "https://localhost:8080/"
        },
        "outputId": "25007d29-13c2-4893-fd62-4dbb27d5eff1",
        "collapsed": true
      },
      "execution_count": 127,
      "outputs": [
        {
          "output_type": "stream",
          "name": "stdout",
          "text": [
            "Optimization terminated successfully.\n",
            "         Current function value: 0.445289\n",
            "         Iterations 6\n",
            "                           Logit Regression Results                           \n",
            "==============================================================================\n",
            "Dep. Variable:                DEF_PAY   No. Observations:                30000\n",
            "Model:                          Logit   Df Residuals:                    29976\n",
            "Method:                           MLE   Df Model:                           23\n",
            "Date:                Sun, 19 Mar 2023   Pseudo R-squ.:                  0.1573\n",
            "Time:                        11:27:44   Log-Likelihood:                -13359.\n",
            "converged:                       True   LL-Null:                       -15853.\n",
            "Covariance Type:            nonrobust   LLR p-value:                     0.000\n",
            "==============================================================================\n",
            "                 coef    std err          z      P>|z|      [0.025      0.975]\n",
            "------------------------------------------------------------------------------\n",
            "ID         -3.893e-06   1.76e-06     -2.209      0.027   -7.35e-06   -4.38e-07\n",
            "LIMIT_BAL  -1.538e-06   1.53e-07    -10.040      0.000   -1.84e-06   -1.24e-06\n",
            "SEX           -0.2429      0.028     -8.743      0.000      -0.297      -0.188\n",
            "EDUCATION     -0.1283      0.022     -5.940      0.000      -0.171      -0.086\n",
            "MARRIAGE      -0.3410      0.024    -14.167      0.000      -0.388      -0.294\n",
            "AGE           -0.0044      0.001     -3.090      0.002      -0.007      -0.002\n",
            "PAY_1          0.8686      0.025     34.596      0.000       0.819       0.918\n",
            "PAY_2          0.0514      0.027      1.920      0.055      -0.001       0.104\n",
            "PAY_3          0.1063      0.029      3.677      0.000       0.050       0.163\n",
            "PAY_4          0.0831      0.032      2.591      0.010       0.020       0.146\n",
            "PAY_5          0.0917      0.035      2.656      0.008       0.024       0.159\n",
            "PAY_6          0.1521      0.029      5.205      0.000       0.095       0.209\n",
            "BILL_AMT1   -2.37e-07   7.85e-07     -0.302      0.763   -1.78e-06     1.3e-06\n",
            "BILL_AMT2  -1.074e-07   1.04e-06     -0.103      0.918   -2.14e-06    1.93e-06\n",
            "BILL_AMT3   3.941e-08   9.47e-07      0.042      0.967   -1.82e-06     1.9e-06\n",
            "BILL_AMT4   1.397e-06   9.91e-07      1.409      0.159   -5.46e-07    3.34e-06\n",
            "BILL_AMT5  -1.501e-06   1.14e-06     -1.313      0.189   -3.74e-06     7.4e-07\n",
            "BILL_AMT6   1.195e-06    9.5e-07      1.258      0.208   -6.67e-07    3.06e-06\n",
            "PAY_AMT1   -1.134e-05   3.24e-06     -3.498      0.000   -1.77e-05   -4.99e-06\n",
            "PAY_AMT2   -1.993e-05   3.47e-06     -5.741      0.000   -2.67e-05   -1.31e-05\n",
            "PAY_AMT3   -1.183e-05   3.29e-06     -3.595      0.000   -1.83e-05   -5.38e-06\n",
            "PAY_AMT4   -7.707e-06    3.2e-06     -2.408      0.016    -1.4e-05   -1.43e-06\n",
            "PAY_AMT5   -1.049e-05    3.4e-06     -3.088      0.002   -1.71e-05   -3.83e-06\n",
            "PAY_AMT6   -7.473e-06   2.76e-06     -2.703      0.007   -1.29e-05   -2.05e-06\n",
            "==============================================================================\n"
          ]
        }
      ]
    },
    {
      "cell_type": "code",
      "source": [
        "# Predict the traget using the features\n",
        "predict1=results.predict()"
      ],
      "metadata": {
        "id": "fFVYZNcCbx-c"
      },
      "execution_count": 128,
      "outputs": []
    },
    {
      "cell_type": "markdown",
      "source": [
        "### Confusion Matrix,Accuracy,Sensitivity,Specificity"
      ],
      "metadata": {
        "id": "-n4JGw5MMos2"
      }
    },
    {
      "cell_type": "code",
      "source": [
        "# Taking the threshold value 0.5 as it is logistic regression\n",
        "threshold=0.5\n",
        "predictions1=[ 0 if x < threshold else 1 for x in predict1]\n",
        "\n",
        "# Confusion Matrix and Accuracy\n",
        "from sklearn.metrics import confusion_matrix,classification_report\n",
        "cm=confusion_matrix(y,predictions1)\n",
        "print(cm)\n",
        "\n",
        "total=sum(sum(cm))\n",
        "accuracy=(cm[0,0]+cm[1,1])/total\n",
        "print('Accuracy=',round(accuracy*100,2))\n",
        "\n",
        "# Calculating Sensitivity\n",
        "Sensitivity=cm[0,0]/(cm[0,0]+cm[0,1])\n",
        "print('Sensitivity-',round(Sensitivity*100,2))\n",
        "\n",
        "# Calculating Specificity\n",
        "Specificity = cm[1,1]/(cm[1,0]+cm[1,1])\n",
        "print('Specificity-',round(Specificity*100,2))"
      ],
      "metadata": {
        "id": "Sk2PrGlNb30i",
        "colab": {
          "base_uri": "https://localhost:8080/"
        },
        "outputId": "12a56afe-21c0-4f0c-d00c-a8196fa61e92",
        "collapsed": true
      },
      "execution_count": 129,
      "outputs": [
        {
          "output_type": "stream",
          "name": "stdout",
          "text": [
            "[[22378   986]\n",
            " [ 4491  2145]]\n",
            "Accuracy= 81.74\n",
            "Sensitivity- 95.78\n",
            "Specificity- 32.32\n"
          ]
        }
      ]
    },
    {
      "cell_type": "markdown",
      "source": [
        "## Using Sklearn Logistic Regression"
      ],
      "metadata": {
        "id": "gK0uWou_c0mk"
      }
    },
    {
      "cell_type": "code",
      "source": [
        "# Creating X array that will contain features and y array will contain the target vector\n",
        "X=cred_data_new.drop('DEF_PAY',axis=1)\n",
        "y=cred_data_new['DEF_PAY']\n",
        "\n",
        "# Importing the package\n",
        "from sklearn.model_selection import train_test_split\n",
        "\n",
        "# Using train_test_split() function to split the whole data to train data of 80% and test data of 20%.\n",
        "X_train, X_test, y_train, y_test = train_test_split(X, y, test_size=0.2, random_state=50)\n",
        "\n",
        "# Importing the Library\n",
        "from sklearn.linear_model import LogisticRegression\n",
        "\n",
        "logistic=LogisticRegression( solver='newton-cg', max_iter=200)\n",
        "\n",
        "# Building a Multiple Logistic Regression Model by fitting the target and the features\n",
        "logistic.fit(X_train,y_train)\n",
        "\n",
        "# Prediction of target using the features\n",
        "pred=logistic.predict(X_train)\n",
        "pred"
      ],
      "metadata": {
        "id": "mwg76phjcMmw",
        "colab": {
          "base_uri": "https://localhost:8080/"
        },
        "outputId": "6d8e4fe4-65e0-4788-c918-687a8b4bd3fb",
        "collapsed": true
      },
      "execution_count": 130,
      "outputs": [
        {
          "output_type": "stream",
          "name": "stderr",
          "text": [
            "/usr/local/lib/python3.9/dist-packages/scipy/optimize/_linesearch.py:457: LineSearchWarning: The line search algorithm did not converge\n",
            "  warn('The line search algorithm did not converge', LineSearchWarning)\n",
            "/usr/local/lib/python3.9/dist-packages/scipy/optimize/_linesearch.py:306: LineSearchWarning: The line search algorithm did not converge\n",
            "  warn('The line search algorithm did not converge', LineSearchWarning)\n",
            "/usr/local/lib/python3.9/dist-packages/sklearn/utils/optimize.py:210: ConvergenceWarning: newton-cg failed to converge. Increase the number of iterations.\n",
            "  warnings.warn(\n"
          ]
        },
        {
          "output_type": "execute_result",
          "data": {
            "text/plain": [
              "array([0, 0, 0, ..., 0, 1, 0])"
            ]
          },
          "metadata": {},
          "execution_count": 130
        }
      ]
    },
    {
      "cell_type": "code",
      "source": [
        "# Confusion Matrix and Accuracy\n",
        "from sklearn.metrics import confusion_matrix,classification_report\n",
        "cm=confusion_matrix(y_train,pred)\n",
        "print(cm)\n",
        "\n",
        "total=sum(sum(cm))\n",
        "accuracy=(cm[0,0]+cm[1,1])/total\n",
        "print('Accuracy=',round(accuracy*100,2))\n",
        "\n",
        "# Calculating Sensitivity\n",
        "Sensitivity=cm[0,0]/(cm[0,0]+cm[0,1])\n",
        "print('Sensitivity-',round(Sensitivity*100,2))\n",
        "\n",
        "# Calculating Specificity\n",
        "Specificity = cm[1,1]/(cm[1,0]+cm[1,1])\n",
        "print('Specificity-',round(Specificity*100,2))"
      ],
      "metadata": {
        "id": "TmQGfo-scMp8",
        "colab": {
          "base_uri": "https://localhost:8080/"
        },
        "outputId": "e5340182-3cc2-4d1c-bb1c-1b7c6556089c",
        "collapsed": true
      },
      "execution_count": 131,
      "outputs": [
        {
          "output_type": "stream",
          "name": "stdout",
          "text": [
            "[[17843   788]\n",
            " [ 3594  1775]]\n",
            "Accuracy= 81.74\n",
            "Sensitivity- 95.77\n",
            "Specificity- 33.06\n"
          ]
        }
      ]
    },
    {
      "cell_type": "markdown",
      "source": [
        "### Classification Report"
      ],
      "metadata": {
        "id": "ogLovYbyNC_3"
      }
    },
    {
      "cell_type": "markdown",
      "source": [
        "- Classification gives a report of all the calculation of recall,precision,F1-Score and the Overall Accuracy.\n",
        "- Specificity is also known as Recall of class 1 and Sensitivity is also known as Recall of class 0.\n"
      ],
      "metadata": {
        "id": "GZ4lcfyXNKqh"
      }
    },
    {
      "cell_type": "code",
      "source": [
        "# Importing classification report from sklearn library\n",
        "from sklearn.metrics import classification_report\n",
        "print(classification_report(y,predictions1))"
      ],
      "metadata": {
        "id": "3rg6oe2CMfUs",
        "colab": {
          "base_uri": "https://localhost:8080/"
        },
        "outputId": "3a8c6725-9d09-4432-e177-c8dd0c2446d2",
        "collapsed": true
      },
      "execution_count": 132,
      "outputs": [
        {
          "output_type": "stream",
          "name": "stdout",
          "text": [
            "              precision    recall  f1-score   support\n",
            "\n",
            "           0       0.83      0.96      0.89     23364\n",
            "           1       0.69      0.32      0.44      6636\n",
            "\n",
            "    accuracy                           0.82     30000\n",
            "   macro avg       0.76      0.64      0.67     30000\n",
            "weighted avg       0.80      0.82      0.79     30000\n",
            "\n"
          ]
        }
      ]
    },
    {
      "cell_type": "markdown",
      "source": [
        "- From the above class wise accuracy we got to know that data is having class imbalance."
      ],
      "metadata": {
        "id": "Q41HMLjJMDK5"
      }
    },
    {
      "cell_type": "markdown",
      "source": [
        "# Handling Class Imbalance"
      ],
      "metadata": {
        "id": "j-RDVxE3kySD"
      }
    },
    {
      "cell_type": "markdown",
      "source": [
        "## ROC Curve-Optimum Threshold Selection"
      ],
      "metadata": {
        "id": "6ZaWuvNYFVqq"
      }
    },
    {
      "cell_type": "code",
      "source": [
        "# Importing the roc_curve,auc\n",
        "from sklearn.metrics import roc_curve,auc,accuracy_score\n",
        "\n",
        "fpr, tpr, thresholds = roc_curve(y,predict1)\n",
        "\n",
        "# Drawing ROC_Curve\n",
        "plt.plot(fpr,tpr)\n",
        "plt.title('ROC Curve')\n",
        "#X and Y  Axis Limits \n",
        "plt.xlim([-0,1])\n",
        "plt.ylim([-0,1])\n",
        "\n",
        "# Labels \n",
        "plt.ylabel('True Positive Rate(Sensitivity)')\n",
        "plt.xlabel('False Positive Rate(Specificity)')\n",
        "plt.show()"
      ],
      "metadata": {
        "id": "pPm2WsB-KRBW",
        "colab": {
          "base_uri": "https://localhost:8080/",
          "height": 295
        },
        "outputId": "095f7862-0c10-4961-a064-5b1dc33d5653",
        "collapsed": true
      },
      "execution_count": 133,
      "outputs": [
        {
          "output_type": "display_data",
          "data": {
            "text/plain": [
              "<Figure size 432x288 with 1 Axes>"
            ],
            "image/png": "[encoded data removed]"
          },
          "metadata": {
            "needs_background": "light"
          }
        }
      ]
    },
    {
      "cell_type": "markdown",
      "source": [
        "- From the above curve the optimal value of threshold lies in the range of 0.2 to 0.4.\n"
      ],
      "metadata": {
        "id": "NSPHifPZNoky"
      }
    },
    {
      "cell_type": "markdown",
      "source": [
        "### Area Under Curve(AUC)"
      ],
      "metadata": {
        "id": "dZ3y8UmnXIas"
      }
    },
    {
      "cell_type": "code",
      "source": [
        "auc(fpr,tpr)\n",
        "# Higher the AUC better is the model"
      ],
      "metadata": {
        "id": "zx9MQjgXKRFI",
        "colab": {
          "base_uri": "https://localhost:8080/"
        },
        "outputId": "2594b6ac-2ba0-48ab-f849-3a865be5e3ef",
        "collapsed": true
      },
      "execution_count": null,
      "outputs": [
        {
          "output_type": "execute_result",
          "data": {
            "text/plain": [
              "0.758298225767653"
            ]
          },
          "metadata": {},
          "execution_count": 57
        }
      ]
    },
    {
      "cell_type": "code",
      "source": [
        "# Calculating each threshold wise accuracy score\n",
        "from sklearn.metrics import accuracy_score\n",
        "accuracy_ls = []\n",
        "for thres in thresholds:\n",
        "    y_pred = np.where(predict1>thres,1,0)\n",
        "    accuracy_ls.append(accuracy_score(y, y_pred))\n",
        "    \n",
        "accuracy_ls = pd.concat([pd.Series(thresholds), pd.Series(accuracy_ls)],\n",
        "                        axis=1)\n",
        "accuracy_ls.columns = ['thresholds', 'accuracy']\n",
        "accuracy_ls.sort_values(by='accuracy', ascending=False, inplace=True)\n",
        "accuracy_ls.head(10)"
      ],
      "metadata": {
        "id": "vSjsLnDJOHiA",
        "colab": {
          "base_uri": "https://localhost:8080/",
          "height": 363
        },
        "outputId": "9fe2b129-9546-484f-d2e3-3a2c3bb47157",
        "collapsed": true
      },
      "execution_count": null,
      "outputs": [
        {
          "output_type": "execute_result",
          "data": {
            "text/plain": [
              "      thresholds  accuracy\n",
              "1618    0.451010  0.819467\n",
              "1617    0.451361  0.819433\n",
              "1615    0.451556  0.819433\n",
              "1619    0.450711  0.819400\n",
              "1614    0.451697  0.819400\n",
              "1616    0.451407  0.819400\n",
              "1621    0.450573  0.819400\n",
              "1623    0.450107  0.819367\n",
              "1622    0.450521  0.819367\n",
              "1620    0.450647  0.819367"
            ],
            "text/html": [
              "\n",
              "  <div id=\"df-7bfe0158-f4f5-4585-be2f-55ac84c3c389\">\n",
              "    <div class=\"colab-df-container\">\n",
              "      <div>\n",
              "<style scoped>\n",
              "    .dataframe tbody tr th:only-of-type {\n",
              "        vertical-align: middle;\n",
              "    }\n",
              "\n",
              "    .dataframe tbody tr th {\n",
              "        vertical-align: top;\n",
              "    }\n",
              "\n",
              "    .dataframe thead th {\n",
              "        text-align: right;\n",
              "    }\n",
              "</style>\n",
              "<table border=\"1\" class=\"dataframe\">\n",
              "  <thead>\n",
              "    <tr style=\"text-align: right;\">\n",
              "      <th></th>\n",
              "      <th>thresholds</th>\n",
              "      <th>accuracy</th>\n",
              "    </tr>\n",
              "  </thead>\n",
              "  <tbody>\n",
              "    <tr>\n",
              "      <th>1618</th>\n",
              "      <td>0.451010</td>\n",
              "      <td>0.819467</td>\n",
              "    </tr>\n",
              "    <tr>\n",
              "      <th>1617</th>\n",
              "      <td>0.451361</td>\n",
              "      <td>0.819433</td>\n",
              "    </tr>\n",
              "    <tr>\n",
              "      <th>1615</th>\n",
              "      <td>0.451556</td>\n",
              "      <td>0.819433</td>\n",
              "    </tr>\n",
              "    <tr>\n",
              "      <th>1619</th>\n",
              "      <td>0.450711</td>\n",
              "      <td>0.819400</td>\n",
              "    </tr>\n",
              "    <tr>\n",
              "      <th>1614</th>\n",
              "      <td>0.451697</td>\n",
              "      <td>0.819400</td>\n",
              "    </tr>\n",
              "    <tr>\n",
              "      <th>1616</th>\n",
              "      <td>0.451407</td>\n",
              "      <td>0.819400</td>\n",
              "    </tr>\n",
              "    <tr>\n",
              "      <th>1621</th>\n",
              "      <td>0.450573</td>\n",
              "      <td>0.819400</td>\n",
              "    </tr>\n",
              "    <tr>\n",
              "      <th>1623</th>\n",
              "      <td>0.450107</td>\n",
              "      <td>0.819367</td>\n",
              "    </tr>\n",
              "    <tr>\n",
              "      <th>1622</th>\n",
              "      <td>0.450521</td>\n",
              "      <td>0.819367</td>\n",
              "    </tr>\n",
              "    <tr>\n",
              "      <th>1620</th>\n",
              "      <td>0.450647</td>\n",
              "      <td>0.819367</td>\n",
              "    </tr>\n",
              "  </tbody>\n",
              "</table>\n",
              "</div>\n",
              "      <button class=\"colab-df-convert\" onclick=\"convertToInteractive('df-7bfe0158-f4f5-4585-be2f-55ac84c3c389')\"\n",
              "              title=\"Convert this dataframe to an interactive table.\"\n",
              "              style=\"display:none;\">\n",
              "        \n",
              "  <svg xmlns=\"http://www.w3.org/2000/svg\" height=\"24px\"viewBox=\"0 0 24 24\"\n",
              "       width=\"24px\">\n",
              "    <path d=\"M0 0h24v24H0V0z\" fill=\"none\"/>\n",
              "    <path d=\"M18.56 5.44l.94 2.06.94-2.06 2.06-.94-2.06-.94-.94-2.06-.94 2.06-2.06.94zm-11 1L8.5 8.5l.94-2.06 2.06-.94-2.06-.94L8.5 2.5l-.94 2.06-2.06.94zm10 10l.94 2.06.94-2.06 2.06-.94-2.06-.94-.94-2.06-.94 2.06-2.06.94z\"/><path d=\"M17.41 7.96l-1.37-1.37c-.4-.4-.92-.59-1.43-.59-.52 0-1.04.2-1.43.59L10.3 9.45l-7.72 7.72c-.78.78-.78 2.05 0 2.83L4 21.41c.39.39.9.59 1.41.59.51 0 1.02-.2 1.41-.59l7.78-7.78 2.81-2.81c.8-.78.8-2.07 0-2.86zM5.41 20L4 18.59l7.72-7.72 1.47 1.35L5.41 20z\"/>\n",
              "  </svg>\n",
              "      </button>\n",
              "      \n",
              "  <style>\n",
              "    .colab-df-container {\n",
              "      display:flex;\n",
              "      flex-wrap:wrap;\n",
              "      gap: 12px;\n",
              "    }\n",
              "\n",
              "    .colab-df-convert {\n",
              "      background-color: #E8F0FE;\n",
              "      border: none;\n",
              "      border-radius: 50%;\n",
              "      cursor: pointer;\n",
              "      display: none;\n",
              "      fill: #1967D2;\n",
              "      height: 32px;\n",
              "      padding: 0 0 0 0;\n",
              "      width: 32px;\n",
              "    }\n",
              "\n",
              "    .colab-df-convert:hover {\n",
              "      background-color: #E2EBFA;\n",
              "      box-shadow: 0px 1px 2px rgba(60, 64, 67, 0.3), 0px 1px 3px 1px rgba(60, 64, 67, 0.15);\n",
              "      fill: #174EA6;\n",
              "    }\n",
              "\n",
              "    [theme=dark] .colab-df-convert {\n",
              "      background-color: #3B4455;\n",
              "      fill: #D2E3FC;\n",
              "    }\n",
              "\n",
              "    [theme=dark] .colab-df-convert:hover {\n",
              "      background-color: #434B5C;\n",
              "      box-shadow: 0px 1px 3px 1px rgba(0, 0, 0, 0.15);\n",
              "      filter: drop-shadow(0px 1px 2px rgba(0, 0, 0, 0.3));\n",
              "      fill: #FFFFFF;\n",
              "    }\n",
              "  </style>\n",
              "\n",
              "      <script>\n",
              "        const buttonEl =\n",
              "          document.querySelector('#df-7bfe0158-f4f5-4585-be2f-55ac84c3c389 button.colab-df-convert');\n",
              "        buttonEl.style.display =\n",
              "          google.colab.kernel.accessAllowed ? 'block' : 'none';\n",
              "\n",
              "        async function convertToInteractive(key) {\n",
              "          const element = document.querySelector('#df-7bfe0158-f4f5-4585-be2f-55ac84c3c389');\n",
              "          const dataTable =\n",
              "            await google.colab.kernel.invokeFunction('convertToInteractive',\n",
              "                                                     [key], {});\n",
              "          if (!dataTable) return;\n",
              "\n",
              "          const docLinkHtml = 'Like what you see? Visit the ' +\n",
              "            '<a target=\"_blank\" href=https://colab.research.google.com/notebooks/data_table.ipynb>data table notebook</a>'\n",
              "            + ' to learn more about interactive tables.';\n",
              "          element.innerHTML = '';\n",
              "          dataTable['output_type'] = 'display_data';\n",
              "          await google.colab.output.renderOutput(dataTable, element);\n",
              "          const docLink = document.createElement('div');\n",
              "          docLink.innerHTML = docLinkHtml;\n",
              "          element.appendChild(docLink);\n",
              "        }\n",
              "      </script>\n",
              "    </div>\n",
              "  </div>\n",
              "  "
            ]
          },
          "metadata": {},
          "execution_count": 58
        }
      ]
    },
    {
      "cell_type": "markdown",
      "source": [
        "- Observing Thershold of 0.45 as the optimum value for better accuracy but we have to choose a optimal value of threshold with an improved Specificity without sacrificing accuracy alot so lets try threshold from 0.2-0.4."
      ],
      "metadata": {
        "id": "bNlkYs2nXq1l"
      }
    },
    {
      "cell_type": "markdown",
      "source": [
        "### Accuracy,Sensitivity and Specificity "
      ],
      "metadata": {
        "id": "scthc970kDmG"
      }
    },
    {
      "cell_type": "code",
      "source": [
        "# Choosing thershold of 0.45 as the optimum value for better accuracy\n",
        "threshold1=0.45\n",
        "predictions1=[ 0 if x < threshold1 else 1 for x in predict1]\n",
        "\n",
        "# Creating confusion matrix\n",
        "cm=confusion_matrix(y,predictions1)\n",
        "print(cm)\n",
        "\n",
        "# Calculating Accuracy\n",
        "total=sum(sum(cm))\n",
        "accuracy=(cm[0,0]+cm[1,1])/total\n",
        "print('Accuracy-',round(accuracy*100,2))\n",
        "\n",
        "# Calculating Sensitivity\n",
        "Sensitivity=cm[0,0]/(cm[0,0]+cm[0,1])\n",
        "print('Sensitivity-',round(Sensitivity*100,2))\n",
        "\n",
        "# Calculating Specificity\n",
        "Specificity = cm[1,1]/(cm[1,0]+cm[1,1])\n",
        "print('Specificity-',round(Specificity*100,2))"
      ],
      "metadata": {
        "id": "s1TqJl8_KSf4",
        "colab": {
          "base_uri": "https://localhost:8080/"
        },
        "outputId": "44767d1d-321d-43b3-c7c1-fe6bb54cf17a",
        "collapsed": true
      },
      "execution_count": null,
      "outputs": [
        {
          "output_type": "stream",
          "name": "stdout",
          "text": [
            "[[22150  1214]\n",
            " [ 4206  2430]]\n",
            "Accuracy- 81.93\n",
            "Sensitivity- 94.8\n",
            "Specificity- 36.62\n"
          ]
        }
      ]
    },
    {
      "cell_type": "markdown",
      "source": [
        "- Specificity has incresed without changing the overall Accuracy"
      ],
      "metadata": {
        "id": "IrHpUAYVY-M5"
      }
    },
    {
      "cell_type": "code",
      "source": [
        "# Choosing thershold of 0.3 as the optimum value for better accuracy\n",
        "threshold2=0.3\n",
        "predictions2=[ 0 if x < threshold2 else 1 for x in predict1]\n",
        "\n",
        "# Creating confusion matrix\n",
        "cm=confusion_matrix(y,predictions2)\n",
        "print(cm)\n",
        "\n",
        "# Calculating Accuracy\n",
        "total=sum(sum(cm))\n",
        "accuracy=(cm[0,0]+cm[1,1])/total\n",
        "print('Accuracy-',round(accuracy*100,2))\n",
        "\n",
        "# Calculating Sensitivity\n",
        "Sensitivity=cm[0,0]/(cm[0,0]+cm[0,1])\n",
        "print('Sensitivity-',round(Sensitivity*100,2))\n",
        "\n",
        "# Calculating Specificity\n",
        "Specificity = cm[1,1]/(cm[1,0]+cm[1,1])\n",
        "print('Specificity-',round(Specificity*100,2))"
      ],
      "metadata": {
        "id": "rYN1Yo6l47NX",
        "colab": {
          "base_uri": "https://localhost:8080/"
        },
        "outputId": "51b3f525-2fae-4f18-f158-3a29fc200907",
        "collapsed": true
      },
      "execution_count": null,
      "outputs": [
        {
          "output_type": "stream",
          "name": "stdout",
          "text": [
            "[[20756  2608]\n",
            " [ 3360  3276]]\n",
            "Accuracy- 80.11\n",
            "Sensitivity- 88.84\n",
            "Specificity- 49.37\n"
          ]
        }
      ]
    },
    {
      "cell_type": "markdown",
      "source": [
        "- Specificity has incresed 14% than the previous with a 1% drop in the overall Accuracy"
      ],
      "metadata": {
        "id": "cUKQ2XclZKWt"
      }
    },
    {
      "cell_type": "code",
      "source": [
        "# Choosing thershold of 0.2 as the optimum value for better accuracy\n",
        "threshold3=0.2\n",
        "predictions3=[ 0 if x < threshold3 else 1 for x in predict1]\n",
        "\n",
        "# Creating confusion matrix\n",
        "cm=confusion_matrix(y,predictions3)\n",
        "print(cm)\n",
        "\n",
        "# Calculating Accuracy\n",
        "total=sum(sum(cm))\n",
        "accuracy=(cm[0,0]+cm[1,1])/total\n",
        "print('Accuracy-',round(accuracy*100,2))\n",
        "\n",
        "# Calculating Sensitivity\n",
        "Sensitivity=cm[0,0]/(cm[0,0]+cm[0,1])\n",
        "print('Sensitivity-',round(Sensitivity*100,2))\n",
        "\n",
        "# Calculating Specificity\n",
        "Specificity = cm[1,1]/(cm[1,0]+cm[1,1])\n",
        "print('Specificity-',round(Specificity*100,2))"
      ],
      "metadata": {
        "id": "B91JWj5n5DxU",
        "colab": {
          "base_uri": "https://localhost:8080/"
        },
        "outputId": "72435f62-4c3c-4ec3-b5cb-71fade5ddc55",
        "collapsed": true
      },
      "execution_count": null,
      "outputs": [
        {
          "output_type": "stream",
          "name": "stdout",
          "text": [
            "[[18020  5344]\n",
            " [ 2463  4173]]\n",
            "Accuracy- 73.98\n",
            "Sensitivity- 77.13\n",
            "Specificity- 62.88\n"
          ]
        }
      ]
    },
    {
      "cell_type": "markdown",
      "source": [
        "- Specificity took a good jump with the threshold of 0.2 without sacrificing much in the overall accruacy."
      ],
      "metadata": {
        "id": "rZ_hxpKDZfdb"
      }
    },
    {
      "cell_type": "markdown",
      "source": [
        "### Precision,Recall & F1-Score"
      ],
      "metadata": {
        "id": "OiXVYXx2Z7bZ"
      }
    },
    {
      "cell_type": "code",
      "source": [
        "# Importing classification report from sklearn library\n",
        "from sklearn.metrics import classification_report\n",
        "print(classification_report(y,predictions1))"
      ],
      "metadata": {
        "id": "IIccSwPEKSu7",
        "colab": {
          "base_uri": "https://localhost:8080/"
        },
        "outputId": "ca5f9502-5aa2-47ad-86aa-5c19c2f3166e",
        "collapsed": true
      },
      "execution_count": null,
      "outputs": [
        {
          "output_type": "stream",
          "name": "stdout",
          "text": [
            "              precision    recall  f1-score   support\n",
            "\n",
            "           0       0.84      0.95      0.89     23364\n",
            "           1       0.67      0.37      0.47      6636\n",
            "\n",
            "    accuracy                           0.82     30000\n",
            "   macro avg       0.75      0.66      0.68     30000\n",
            "weighted avg       0.80      0.82      0.80     30000\n",
            "\n"
          ]
        }
      ]
    },
    {
      "cell_type": "markdown",
      "source": [
        "## OverSampling and Undersampling"
      ],
      "metadata": {
        "id": "NYmecQLEkdM4"
      }
    },
    {
      "cell_type": "code",
      "source": [
        "# Copying the clean data for further analysis.\n",
        "cred_data_new=cred_data.copy(deep=True)\n",
        "cred_data_new.head()"
      ],
      "metadata": {
        "id": "1qdfMe0Ons6V",
        "colab": {
          "base_uri": "https://localhost:8080/",
          "height": 300
        },
        "outputId": "dd0a7880-e13f-4abb-aa30-c759f02e66f3",
        "collapsed": true
      },
      "execution_count": null,
      "outputs": [
        {
          "output_type": "execute_result",
          "data": {
            "text/plain": [
              "   ID  LIMIT_BAL  SEX  EDUCATION  MARRIAGE  AGE  PAY_1  PAY_2  PAY_3  PAY_4  \\\n",
              "0   1    20000.0    2          2         1   24      2      2      0      0   \n",
              "1   2   120000.0    2          2         2   26      0      2      0      0   \n",
              "2   3    90000.0    2          2         2   34      0      0      0      0   \n",
              "3   4    50000.0    2          2         1   37      0      0      0      0   \n",
              "4   5    50000.0    1          2         1   57      0      0      0      0   \n",
              "\n",
              "   ...  BILL_AMT4  BILL_AMT5  BILL_AMT6  PAY_AMT1  PAY_AMT2  PAY_AMT3  \\\n",
              "0  ...        0.0        0.0        0.0       0.0     689.0       0.0   \n",
              "1  ...     3272.0     3455.0     3261.0       0.0    1000.0    1000.0   \n",
              "2  ...    14331.0    14948.0    15549.0    1518.0    1500.0    1000.0   \n",
              "3  ...    28314.0    28959.0    29547.0    2000.0    2019.0    1200.0   \n",
              "4  ...    20940.0    19146.0    19131.0    2000.0   36681.0   10000.0   \n",
              "\n",
              "   PAY_AMT4  PAY_AMT5  PAY_AMT6  DEF_PAY  \n",
              "0       0.0       0.0       0.0        1  \n",
              "1    1000.0       0.0    2000.0        1  \n",
              "2    1000.0    1000.0    5000.0        0  \n",
              "3    1100.0    1069.0    1000.0        0  \n",
              "4    9000.0     689.0     679.0        0  \n",
              "\n",
              "[5 rows x 25 columns]"
            ],
            "text/html": [
              "\n",
              "  <div id=\"df-94f84e71-b55a-4b79-9a35-82cda903f82e\">\n",
              "    <div class=\"colab-df-container\">\n",
              "      <div>\n",
              "<style scoped>\n",
              "    .dataframe tbody tr th:only-of-type {\n",
              "        vertical-align: middle;\n",
              "    }\n",
              "\n",
              "    .dataframe tbody tr th {\n",
              "        vertical-align: top;\n",
              "    }\n",
              "\n",
              "    .dataframe thead th {\n",
              "        text-align: right;\n",
              "    }\n",
              "</style>\n",
              "<table border=\"1\" class=\"dataframe\">\n",
              "  <thead>\n",
              "    <tr style=\"text-align: right;\">\n",
              "      <th></th>\n",
              "      <th>ID</th>\n",
              "      <th>LIMIT_BAL</th>\n",
              "      <th>SEX</th>\n",
              "      <th>EDUCATION</th>\n",
              "      <th>MARRIAGE</th>\n",
              "      <th>AGE</th>\n",
              "      <th>PAY_1</th>\n",
              "      <th>PAY_2</th>\n",
              "      <th>PAY_3</th>\n",
              "      <th>PAY_4</th>\n",
              "      <th>...</th>\n",
              "      <th>BILL_AMT4</th>\n",
              "      <th>BILL_AMT5</th>\n",
              "      <th>BILL_AMT6</th>\n",
              "      <th>PAY_AMT1</th>\n",
              "      <th>PAY_AMT2</th>\n",
              "      <th>PAY_AMT3</th>\n",
              "      <th>PAY_AMT4</th>\n",
              "      <th>PAY_AMT5</th>\n",
              "      <th>PAY_AMT6</th>\n",
              "      <th>DEF_PAY</th>\n",
              "    </tr>\n",
              "  </thead>\n",
              "  <tbody>\n",
              "    <tr>\n",
              "      <th>0</th>\n",
              "      <td>1</td>\n",
              "      <td>20000.0</td>\n",
              "      <td>2</td>\n",
              "      <td>2</td>\n",
              "      <td>1</td>\n",
              "      <td>24</td>\n",
              "      <td>2</td>\n",
              "      <td>2</td>\n",
              "      <td>0</td>\n",
              "      <td>0</td>\n",
              "      <td>...</td>\n",
              "      <td>0.0</td>\n",
              "      <td>0.0</td>\n",
              "      <td>0.0</td>\n",
              "      <td>0.0</td>\n",
              "      <td>689.0</td>\n",
              "      <td>0.0</td>\n",
              "      <td>0.0</td>\n",
              "      <td>0.0</td>\n",
              "      <td>0.0</td>\n",
              "      <td>1</td>\n",
              "    </tr>\n",
              "    <tr>\n",
              "      <th>1</th>\n",
              "      <td>2</td>\n",
              "      <td>120000.0</td>\n",
              "      <td>2</td>\n",
              "      <td>2</td>\n",
              "      <td>2</td>\n",
              "      <td>26</td>\n",
              "      <td>0</td>\n",
              "      <td>2</td>\n",
              "      <td>0</td>\n",
              "      <td>0</td>\n",
              "      <td>...</td>\n",
              "      <td>3272.0</td>\n",
              "      <td>3455.0</td>\n",
              "      <td>3261.0</td>\n",
              "      <td>0.0</td>\n",
              "      <td>1000.0</td>\n",
              "      <td>1000.0</td>\n",
              "      <td>1000.0</td>\n",
              "      <td>0.0</td>\n",
              "      <td>2000.0</td>\n",
              "      <td>1</td>\n",
              "    </tr>\n",
              "    <tr>\n",
              "      <th>2</th>\n",
              "      <td>3</td>\n",
              "      <td>90000.0</td>\n",
              "      <td>2</td>\n",
              "      <td>2</td>\n",
              "      <td>2</td>\n",
              "      <td>34</td>\n",
              "      <td>0</td>\n",
              "      <td>0</td>\n",
              "      <td>0</td>\n",
              "      <td>0</td>\n",
              "      <td>...</td>\n",
              "      <td>14331.0</td>\n",
              "      <td>14948.0</td>\n",
              "      <td>15549.0</td>\n",
              "      <td>1518.0</td>\n",
              "      <td>1500.0</td>\n",
              "      <td>1000.0</td>\n",
              "      <td>1000.0</td>\n",
              "      <td>1000.0</td>\n",
              "      <td>5000.0</td>\n",
              "      <td>0</td>\n",
              "    </tr>\n",
              "    <tr>\n",
              "      <th>3</th>\n",
              "      <td>4</td>\n",
              "      <td>50000.0</td>\n",
              "      <td>2</td>\n",
              "      <td>2</td>\n",
              "      <td>1</td>\n",
              "      <td>37</td>\n",
              "      <td>0</td>\n",
              "      <td>0</td>\n",
              "      <td>0</td>\n",
              "      <td>0</td>\n",
              "      <td>...</td>\n",
              "      <td>28314.0</td>\n",
              "      <td>28959.0</td>\n",
              "      <td>29547.0</td>\n",
              "      <td>2000.0</td>\n",
              "      <td>2019.0</td>\n",
              "      <td>1200.0</td>\n",
              "      <td>1100.0</td>\n",
              "      <td>1069.0</td>\n",
              "      <td>1000.0</td>\n",
              "      <td>0</td>\n",
              "    </tr>\n",
              "    <tr>\n",
              "      <th>4</th>\n",
              "      <td>5</td>\n",
              "      <td>50000.0</td>\n",
              "      <td>1</td>\n",
              "      <td>2</td>\n",
              "      <td>1</td>\n",
              "      <td>57</td>\n",
              "      <td>0</td>\n",
              "      <td>0</td>\n",
              "      <td>0</td>\n",
              "      <td>0</td>\n",
              "      <td>...</td>\n",
              "      <td>20940.0</td>\n",
              "      <td>19146.0</td>\n",
              "      <td>19131.0</td>\n",
              "      <td>2000.0</td>\n",
              "      <td>36681.0</td>\n",
              "      <td>10000.0</td>\n",
              "      <td>9000.0</td>\n",
              "      <td>689.0</td>\n",
              "      <td>679.0</td>\n",
              "      <td>0</td>\n",
              "    </tr>\n",
              "  </tbody>\n",
              "</table>\n",
              "<p>5 rows × 25 columns</p>\n",
              "</div>\n",
              "      <button class=\"colab-df-convert\" onclick=\"convertToInteractive('df-94f84e71-b55a-4b79-9a35-82cda903f82e')\"\n",
              "              title=\"Convert this dataframe to an interactive table.\"\n",
              "              style=\"display:none;\">\n",
              "        \n",
              "  <svg xmlns=\"http://www.w3.org/2000/svg\" height=\"24px\"viewBox=\"0 0 24 24\"\n",
              "       width=\"24px\">\n",
              "    <path d=\"M0 0h24v24H0V0z\" fill=\"none\"/>\n",
              "    <path d=\"M18.56 5.44l.94 2.06.94-2.06 2.06-.94-2.06-.94-.94-2.06-.94 2.06-2.06.94zm-11 1L8.5 8.5l.94-2.06 2.06-.94-2.06-.94L8.5 2.5l-.94 2.06-2.06.94zm10 10l.94 2.06.94-2.06 2.06-.94-2.06-.94-.94-2.06-.94 2.06-2.06.94z\"/><path d=\"M17.41 7.96l-1.37-1.37c-.4-.4-.92-.59-1.43-.59-.52 0-1.04.2-1.43.59L10.3 9.45l-7.72 7.72c-.78.78-.78 2.05 0 2.83L4 21.41c.39.39.9.59 1.41.59.51 0 1.02-.2 1.41-.59l7.78-7.78 2.81-2.81c.8-.78.8-2.07 0-2.86zM5.41 20L4 18.59l7.72-7.72 1.47 1.35L5.41 20z\"/>\n",
              "  </svg>\n",
              "      </button>\n",
              "      \n",
              "  <style>\n",
              "    .colab-df-container {\n",
              "      display:flex;\n",
              "      flex-wrap:wrap;\n",
              "      gap: 12px;\n",
              "    }\n",
              "\n",
              "    .colab-df-convert {\n",
              "      background-color: #E8F0FE;\n",
              "      border: none;\n",
              "      border-radius: 50%;\n",
              "      cursor: pointer;\n",
              "      display: none;\n",
              "      fill: #1967D2;\n",
              "      height: 32px;\n",
              "      padding: 0 0 0 0;\n",
              "      width: 32px;\n",
              "    }\n",
              "\n",
              "    .colab-df-convert:hover {\n",
              "      background-color: #E2EBFA;\n",
              "      box-shadow: 0px 1px 2px rgba(60, 64, 67, 0.3), 0px 1px 3px 1px rgba(60, 64, 67, 0.15);\n",
              "      fill: #174EA6;\n",
              "    }\n",
              "\n",
              "    [theme=dark] .colab-df-convert {\n",
              "      background-color: #3B4455;\n",
              "      fill: #D2E3FC;\n",
              "    }\n",
              "\n",
              "    [theme=dark] .colab-df-convert:hover {\n",
              "      background-color: #434B5C;\n",
              "      box-shadow: 0px 1px 3px 1px rgba(0, 0, 0, 0.15);\n",
              "      filter: drop-shadow(0px 1px 2px rgba(0, 0, 0, 0.3));\n",
              "      fill: #FFFFFF;\n",
              "    }\n",
              "  </style>\n",
              "\n",
              "      <script>\n",
              "        const buttonEl =\n",
              "          document.querySelector('#df-94f84e71-b55a-4b79-9a35-82cda903f82e button.colab-df-convert');\n",
              "        buttonEl.style.display =\n",
              "          google.colab.kernel.accessAllowed ? 'block' : 'none';\n",
              "\n",
              "        async function convertToInteractive(key) {\n",
              "          const element = document.querySelector('#df-94f84e71-b55a-4b79-9a35-82cda903f82e');\n",
              "          const dataTable =\n",
              "            await google.colab.kernel.invokeFunction('convertToInteractive',\n",
              "                                                     [key], {});\n",
              "          if (!dataTable) return;\n",
              "\n",
              "          const docLinkHtml = 'Like what you see? Visit the ' +\n",
              "            '<a target=\"_blank\" href=https://colab.research.google.com/notebooks/data_table.ipynb>data table notebook</a>'\n",
              "            + ' to learn more about interactive tables.';\n",
              "          element.innerHTML = '';\n",
              "          dataTable['output_type'] = 'display_data';\n",
              "          await google.colab.output.renderOutput(dataTable, element);\n",
              "          const docLink = document.createElement('div');\n",
              "          docLink.innerHTML = docLinkHtml;\n",
              "          element.appendChild(docLink);\n",
              "        }\n",
              "      </script>\n",
              "    </div>\n",
              "  </div>\n",
              "  "
            ]
          },
          "metadata": {},
          "execution_count": 63
        }
      ]
    },
    {
      "cell_type": "code",
      "source": [
        "cred_data_new.shape"
      ],
      "metadata": {
        "id": "s4NAiKSmPIDV",
        "colab": {
          "base_uri": "https://localhost:8080/"
        },
        "outputId": "63acc365-5df7-4b3c-f6e3-1e93995069af",
        "collapsed": true
      },
      "execution_count": null,
      "outputs": [
        {
          "output_type": "execute_result",
          "data": {
            "text/plain": [
              "(30000, 25)"
            ]
          },
          "metadata": {},
          "execution_count": 64
        }
      ]
    },
    {
      "cell_type": "code",
      "source": [
        "# Chceking the percentage of Imbalance of the class in the data\n",
        "freq=cred_data_new['DEF_PAY'].value_counts()\n",
        "print(freq)\n",
        "print((freq/freq.sum())*100)"
      ],
      "metadata": {
        "id": "gSLjrsED95Dg",
        "colab": {
          "base_uri": "https://localhost:8080/"
        },
        "outputId": "ff2bc746-9dc3-4c2e-dfff-1fa1414bc32c",
        "collapsed": true
      },
      "execution_count": null,
      "outputs": [
        {
          "output_type": "stream",
          "name": "stdout",
          "text": [
            "0    23364\n",
            "1     6636\n",
            "Name: DEF_PAY, dtype: int64\n",
            "0    77.88\n",
            "1    22.12\n",
            "Name: DEF_PAY, dtype: float64\n"
          ]
        }
      ]
    },
    {
      "cell_type": "code",
      "source": [
        "# Oversampling of minority class\n",
        "# Lets increase the size by Two times\n",
        "df=cred_data_new[cred_data_new['DEF_PAY']==1]\n",
        "df_oversample=df.sample(2*len(df),replace=True)\n",
        "df_oversample.shape"
      ],
      "metadata": {
        "id": "pQxuEqGBH1ye",
        "colab": {
          "base_uri": "https://localhost:8080/"
        },
        "outputId": "c6cd6328-2541-4b35-c8be-749941235185",
        "collapsed": true
      },
      "execution_count": null,
      "outputs": [
        {
          "output_type": "execute_result",
          "data": {
            "text/plain": [
              "(13272, 25)"
            ]
          },
          "metadata": {},
          "execution_count": 66
        }
      ]
    },
    {
      "cell_type": "code",
      "source": [
        "# Undersampling the majority class\n",
        "## Considering 70% of class-0\n",
        "df1=cred_data_new[cred_data_new['DEF_PAY']==0]\n",
        "df_undersample=df1.sample(int(0.7*len(df1)))\n",
        "df_undersample.shape"
      ],
      "metadata": {
        "id": "8heA6_2eH16G",
        "colab": {
          "base_uri": "https://localhost:8080/"
        },
        "outputId": "e880d3c6-0118-43fc-e04b-5d8e0a8cce55",
        "collapsed": true
      },
      "execution_count": null,
      "outputs": [
        {
          "output_type": "execute_result",
          "data": {
            "text/plain": [
              "(16354, 25)"
            ]
          },
          "metadata": {},
          "execution_count": 67
        }
      ]
    },
    {
      "cell_type": "code",
      "source": [
        "# Concatenating both undersample data and oversample data to create a balanced dataset\n",
        "cred_new_balanced=pd.concat([df_oversample,df_undersample])\n",
        "cred_new_balanced.shape"
      ],
      "metadata": {
        "id": "EcU00Z_7H197",
        "colab": {
          "base_uri": "https://localhost:8080/"
        },
        "outputId": "da1b4f0a-1ea7-4e07-9e14-a6380c5bab47",
        "collapsed": true
      },
      "execution_count": null,
      "outputs": [
        {
          "output_type": "execute_result",
          "data": {
            "text/plain": [
              "(29626, 25)"
            ]
          },
          "metadata": {},
          "execution_count": 68
        }
      ]
    },
    {
      "cell_type": "code",
      "source": [
        "# Chceking the percentage of balanced data after oversampling and undersampling\n",
        "freq=cred_new_balanced['DEF_PAY'].value_counts()\n",
        "print((freq/freq.sum())*100)"
      ],
      "metadata": {
        "id": "mEBse8KeSBqi",
        "colab": {
          "base_uri": "https://localhost:8080/"
        },
        "outputId": "aa7b8d28-5ed3-4c12-b2a0-8f1abdd75ee1",
        "collapsed": true
      },
      "execution_count": null,
      "outputs": [
        {
          "output_type": "stream",
          "name": "stdout",
          "text": [
            "0    55.201512\n",
            "1    44.798488\n",
            "Name: DEF_PAY, dtype: float64\n"
          ]
        }
      ]
    },
    {
      "cell_type": "markdown",
      "source": [
        "- Oversampled the minority class to nearly match the majority Class"
      ],
      "metadata": {
        "id": "leQR8BleaZ2B"
      }
    },
    {
      "cell_type": "markdown",
      "source": [
        "### Using Statsmodel Logistic Regression"
      ],
      "metadata": {
        "id": "u29ztnFMSYpO"
      }
    },
    {
      "cell_type": "code",
      "source": [
        "## Function for OLS formula\n",
        "def ols_formula(df, dependent_var, *excluded_cols):\n",
        "    '''\n",
        "    Generates the y~X style formula for statsmodels (patsy) given\n",
        "    the dataframe, dependent variable and optional excluded columns\n",
        "    as strings\n",
        "    '''\n",
        "    df_columns = list(df.columns.values)\n",
        "    df_columns.remove(dependent_var)\n",
        "    for col in excluded_cols:\n",
        "        df_columns.remove(col)\n",
        "    return dependent_var + ' ~ ' + ' + '.join(df_columns)\n",
        "\n",
        "## Function Calling\n",
        "model_formula=ols_formula(cred_new_balanced.iloc[:,1:], dependent_var=\"DEF_PAY\")\n",
        "print(model_formula)"
      ],
      "metadata": {
        "id": "2lHy1GAYJuqK",
        "colab": {
          "base_uri": "https://localhost:8080/"
        },
        "outputId": "73e96050-619a-4713-cc5e-2fff3c1167ad",
        "collapsed": true
      },
      "execution_count": null,
      "outputs": [
        {
          "output_type": "stream",
          "name": "stdout",
          "text": [
            "DEF_PAY ~ LIMIT_BAL + SEX + EDUCATION + MARRIAGE + AGE + PAY_1 + PAY_2 + PAY_3 + PAY_4 + PAY_5 + PAY_6 + BILL_AMT1 + BILL_AMT2 + BILL_AMT3 + BILL_AMT4 + BILL_AMT5 + BILL_AMT6 + PAY_AMT1 + PAY_AMT2 + PAY_AMT3 + PAY_AMT4 + PAY_AMT5 + PAY_AMT6\n"
          ]
        }
      ]
    },
    {
      "cell_type": "code",
      "source": [
        "import statsmodels.formula.api as sm\n",
        "\n",
        "m1=sm.logit(model_formula,data=cred_new_balanced)\n",
        "results=m1.fit()\n",
        "print(results.summary())"
      ],
      "metadata": {
        "id": "E4fH02LGKXFQ",
        "colab": {
          "base_uri": "https://localhost:8080/"
        },
        "outputId": "ab65095c-5700-4aea-932d-6cdb2e339091",
        "collapsed": true
      },
      "execution_count": null,
      "outputs": [
        {
          "output_type": "stream",
          "name": "stdout",
          "text": [
            "Optimization terminated successfully.\n",
            "         Current function value: 0.574262\n",
            "         Iterations 6\n",
            "                           Logit Regression Results                           \n",
            "==============================================================================\n",
            "Dep. Variable:                DEF_PAY   No. Observations:                29626\n",
            "Model:                          Logit   Df Residuals:                    29602\n",
            "Method:                           MLE   Df Model:                           23\n",
            "Date:                Sat, 18 Mar 2023   Pseudo R-squ.:                  0.1650\n",
            "Time:                        04:30:04   Log-Likelihood:                -17013.\n",
            "converged:                       True   LL-Null:                       -20375.\n",
            "Covariance Type:            nonrobust   LLR p-value:                     0.000\n",
            "==============================================================================\n",
            "                 coef    std err          z      P>|z|      [0.025      0.975]\n",
            "------------------------------------------------------------------------------\n",
            "Intercept     -0.1325      0.105     -1.257      0.209      -0.339       0.074\n",
            "LIMIT_BAL  -1.127e-06   1.26e-07     -8.968      0.000   -1.37e-06   -8.81e-07\n",
            "SEX           -0.1299      0.027     -4.813      0.000      -0.183      -0.077\n",
            "EDUCATION     -0.0613      0.019     -3.227      0.001      -0.099      -0.024\n",
            "MARRIAGE      -0.1345      0.028     -4.839      0.000      -0.189      -0.080\n",
            "AGE            0.0067      0.002      4.206      0.000       0.004       0.010\n",
            "PAY_1          0.8871      0.023     38.116      0.000       0.841       0.933\n",
            "PAY_2          0.0969      0.024      4.079      0.000       0.050       0.143\n",
            "PAY_3          0.1267      0.025      5.119      0.000       0.078       0.175\n",
            "PAY_4          0.1563      0.028      5.636      0.000       0.102       0.211\n",
            "PAY_5          0.0513      0.031      1.662      0.097      -0.009       0.112\n",
            "PAY_6          0.1671      0.026      6.355      0.000       0.116       0.219\n",
            "BILL_AMT1   1.369e-06   6.21e-07      2.206      0.027    1.52e-07    2.59e-06\n",
            "BILL_AMT2  -8.807e-07   8.44e-07     -1.043      0.297   -2.54e-06    7.74e-07\n",
            "BILL_AMT3  -2.933e-07   7.69e-07     -0.381      0.703    -1.8e-06    1.21e-06\n",
            "BILL_AMT4   1.218e-06   7.96e-07      1.530      0.126   -3.42e-07    2.78e-06\n",
            "BILL_AMT5  -1.975e-06   9.16e-07     -2.157      0.031   -3.77e-06   -1.81e-07\n",
            "BILL_AMT6   5.779e-08   7.55e-07      0.077      0.939   -1.42e-06    1.54e-06\n",
            "PAY_AMT1   -1.028e-05   2.59e-06     -3.969      0.000   -1.54e-05   -5.21e-06\n",
            "PAY_AMT2   -2.124e-05   2.76e-06     -7.707      0.000   -2.66e-05   -1.58e-05\n",
            "PAY_AMT3   -8.831e-06   2.49e-06     -3.547      0.000   -1.37e-05   -3.95e-06\n",
            "PAY_AMT4   -4.637e-06   2.48e-06     -1.873      0.061   -9.49e-06    2.16e-07\n",
            "PAY_AMT5   -8.844e-06   2.66e-06     -3.330      0.001    -1.4e-05   -3.64e-06\n",
            "PAY_AMT6    -6.39e-06   2.13e-06     -3.004      0.003   -1.06e-05   -2.22e-06\n",
            "==============================================================================\n"
          ]
        }
      ]
    },
    {
      "cell_type": "code",
      "source": [
        "# Predicting the probability of predictor \n",
        "predict_balanced=results.predict()\n",
        "predict_balanced"
      ],
      "metadata": {
        "id": "DYBiaP85LAZi",
        "colab": {
          "base_uri": "https://localhost:8080/"
        },
        "outputId": "de8007e2-9fac-426a-f050-1ef5e529d6e8",
        "collapsed": true
      },
      "execution_count": null,
      "outputs": [
        {
          "output_type": "execute_result",
          "data": {
            "text/plain": [
              "array([0.45612841, 0.28769954, 0.28968429, ..., 0.24903676, 0.21801434,\n",
              "       0.29256205])"
            ]
          },
          "metadata": {},
          "execution_count": 72
        }
      ]
    },
    {
      "cell_type": "code",
      "source": [
        "# Choosing thershold of 0.5 as it is a Logistic regression Model\n",
        "threshold1=0.5\n",
        "predictions1=[ 0 if x < threshold1 else 1 for x in predict_balanced]\n",
        "\n",
        "# Creating confusion matrix\n",
        "cm=confusion_matrix(cred_new_balanced['DEF_PAY'],predictions1)\n",
        "print(cm)\n",
        "\n",
        "# Calculating Accuracy\n",
        "total=sum(sum(cm))\n",
        "accuracy=(cm[0,0]+cm[1,1])/total\n",
        "print('Accuracy-',round(accuracy*100,2))\n",
        "\n",
        "# Calculating Sensitivity\n",
        "Sensitivity=cm[0,0]/(cm[0,0]+cm[0,1])\n",
        "print('Sensitivity-',round(Sensitivity*100,2))\n",
        "\n",
        "# Calculating Specificity\n",
        "Specificity = cm[1,1]/(cm[1,0]+cm[1,1])\n",
        "print('Specificity-',round(Specificity*100,2))"
      ],
      "metadata": {
        "id": "IAOi2jO6KxWR",
        "colab": {
          "base_uri": "https://localhost:8080/"
        },
        "outputId": "f7b48c88-fd38-4575-adc1-3d1cb87b925b",
        "collapsed": true
      },
      "execution_count": null,
      "outputs": [
        {
          "output_type": "stream",
          "name": "stdout",
          "text": [
            "[[14122  2232]\n",
            " [ 6207  7065]]\n",
            "Accuracy- 71.51\n",
            "Sensitivity- 86.35\n",
            "Specificity- 53.23\n"
          ]
        }
      ]
    },
    {
      "cell_type": "markdown",
      "source": [
        "### Using Sklearn Logistic Regression"
      ],
      "metadata": {
        "id": "Zoc3P2FHR-39"
      }
    },
    {
      "cell_type": "code",
      "source": [
        "X_balanced=cred_new_balanced.drop('DEF_PAY',axis=1)\n",
        "y_balanced=cred_new_balanced['DEF_PAY']\n",
        "\n",
        "X_train, X_test, y_train, y_test = train_test_split(X_balanced, y_balanced, test_size=0.2, random_state=50)\n",
        "\n",
        "logistic=LogisticRegression(solver='newton-cg',max_iter=200)\n",
        "\n",
        "# Fitting the target and the features\n",
        "logistic.fit(X_train,y_train)\n",
        "\n",
        "#predict\n",
        "pred1=logistic.predict(X_train)"
      ],
      "metadata": {
        "id": "K_l_uIw2SiZ7",
        "colab": {
          "base_uri": "https://localhost:8080/"
        },
        "outputId": "dc5e4c6e-438e-4914-8c28-34fff507a1dd",
        "collapsed": true
      },
      "execution_count": null,
      "outputs": [
        {
          "output_type": "stream",
          "name": "stderr",
          "text": [
            "/usr/local/lib/python3.9/dist-packages/scipy/optimize/_linesearch.py:457: LineSearchWarning: The line search algorithm did not converge\n",
            "  warn('The line search algorithm did not converge', LineSearchWarning)\n",
            "/usr/local/lib/python3.9/dist-packages/scipy/optimize/_linesearch.py:306: LineSearchWarning: The line search algorithm did not converge\n",
            "  warn('The line search algorithm did not converge', LineSearchWarning)\n",
            "/usr/local/lib/python3.9/dist-packages/sklearn/utils/optimize.py:210: ConvergenceWarning: newton-cg failed to converge. Increase the number of iterations.\n",
            "  warnings.warn(\n"
          ]
        }
      ]
    },
    {
      "cell_type": "markdown",
      "source": [
        "### Updated Sensitivity and Specificity"
      ],
      "metadata": {
        "id": "45ZGlMyo48cL"
      }
    },
    {
      "cell_type": "code",
      "source": [
        "# Creating confusion matrix\n",
        "cm=confusion_matrix(y_train,pred1)\n",
        "print(cm)\n",
        "\n",
        "# Calculating Accuracy\n",
        "total=sum(sum(cm))\n",
        "accuracy=(cm[0,0]+cm[1,1])/total\n",
        "print('Accuracy-',round(accuracy*100,2))\n",
        "\n",
        "# Calculating Sensitivity\n",
        "Sensitivity=cm[0,0]/(cm[0,0]+cm[0,1])\n",
        "print('Sensitivity-',round(Sensitivity*100,2))\n",
        "\n",
        "# Calculating Specificity\n",
        "Specificity = cm[1,1]/(cm[1,0]+cm[1,1])\n",
        "print('Specificity-',round(Specificity*100,2))"
      ],
      "metadata": {
        "id": "jWCKKiohH2CR",
        "colab": {
          "base_uri": "https://localhost:8080/"
        },
        "outputId": "6f63346c-f5a4-4684-b6dd-7900a1c71d2a",
        "collapsed": true
      },
      "execution_count": null,
      "outputs": [
        {
          "output_type": "stream",
          "name": "stdout",
          "text": [
            "[[11199  1803]\n",
            " [ 4964  5734]]\n",
            "Accuracy- 71.45\n",
            "Sensitivity- 86.13\n",
            "Specificity- 53.6\n"
          ]
        }
      ]
    },
    {
      "cell_type": "markdown",
      "source": [
        "- The statsmodel logistic Regression Specificity and sklearn Logistic Regression Specificity are almost equal."
      ],
      "metadata": {
        "id": "9eFYsVndcBbW"
      }
    },
    {
      "cell_type": "code",
      "source": [
        "# Importing classification report from sklearn library\n",
        "from sklearn.metrics import classification_report\n",
        "print(classification_report(y_train,pred1))"
      ],
      "metadata": {
        "id": "WLfJ67Wyk6uM",
        "colab": {
          "base_uri": "https://localhost:8080/"
        },
        "outputId": "b850fefc-617f-40e5-f8de-691b53b52608",
        "collapsed": true
      },
      "execution_count": null,
      "outputs": [
        {
          "output_type": "stream",
          "name": "stdout",
          "text": [
            "              precision    recall  f1-score   support\n",
            "\n",
            "           0       0.69      0.86      0.77     13002\n",
            "           1       0.76      0.54      0.63     10698\n",
            "\n",
            "    accuracy                           0.71     23700\n",
            "   macro avg       0.73      0.70      0.70     23700\n",
            "weighted avg       0.72      0.71      0.71     23700\n",
            "\n"
          ]
        }
      ]
    },
    {
      "cell_type": "markdown",
      "source": [
        "## SMOTE Technique"
      ],
      "metadata": {
        "id": "nKFHVLuQbDwq"
      }
    },
    {
      "cell_type": "code",
      "source": [
        "# Copying the clean data for further analysis.\n",
        "cred_data_new=cred_data.copy(deep=True)\n",
        "cred_data_new.head()"
      ],
      "metadata": {
        "id": "P-SVYn0uqax3",
        "colab": {
          "base_uri": "https://localhost:8080/",
          "height": 300
        },
        "outputId": "d187ff39-ced7-4058-b42c-883cd27723d3",
        "collapsed": true
      },
      "execution_count": null,
      "outputs": [
        {
          "output_type": "execute_result",
          "data": {
            "text/plain": [
              "   ID  LIMIT_BAL  SEX  EDUCATION  MARRIAGE  AGE  PAY_1  PAY_2  PAY_3  PAY_4  \\\n",
              "0   1    20000.0    2          2         1   24      2      2      0      0   \n",
              "1   2   120000.0    2          2         2   26      0      2      0      0   \n",
              "2   3    90000.0    2          2         2   34      0      0      0      0   \n",
              "3   4    50000.0    2          2         1   37      0      0      0      0   \n",
              "4   5    50000.0    1          2         1   57      0      0      0      0   \n",
              "\n",
              "   ...  BILL_AMT4  BILL_AMT5  BILL_AMT6  PAY_AMT1  PAY_AMT2  PAY_AMT3  \\\n",
              "0  ...        0.0        0.0        0.0       0.0     689.0       0.0   \n",
              "1  ...     3272.0     3455.0     3261.0       0.0    1000.0    1000.0   \n",
              "2  ...    14331.0    14948.0    15549.0    1518.0    1500.0    1000.0   \n",
              "3  ...    28314.0    28959.0    29547.0    2000.0    2019.0    1200.0   \n",
              "4  ...    20940.0    19146.0    19131.0    2000.0   36681.0   10000.0   \n",
              "\n",
              "   PAY_AMT4  PAY_AMT5  PAY_AMT6  DEF_PAY  \n",
              "0       0.0       0.0       0.0        1  \n",
              "1    1000.0       0.0    2000.0        1  \n",
              "2    1000.0    1000.0    5000.0        0  \n",
              "3    1100.0    1069.0    1000.0        0  \n",
              "4    9000.0     689.0     679.0        0  \n",
              "\n",
              "[5 rows x 25 columns]"
            ],
            "text/html": [
              "\n",
              "  <div id=\"df-3de9d7c0-94a3-4278-befe-910457b95f6f\">\n",
              "    <div class=\"colab-df-container\">\n",
              "      <div>\n",
              "<style scoped>\n",
              "    .dataframe tbody tr th:only-of-type {\n",
              "        vertical-align: middle;\n",
              "    }\n",
              "\n",
              "    .dataframe tbody tr th {\n",
              "        vertical-align: top;\n",
              "    }\n",
              "\n",
              "    .dataframe thead th {\n",
              "        text-align: right;\n",
              "    }\n",
              "</style>\n",
              "<table border=\"1\" class=\"dataframe\">\n",
              "  <thead>\n",
              "    <tr style=\"text-align: right;\">\n",
              "      <th></th>\n",
              "      <th>ID</th>\n",
              "      <th>LIMIT_BAL</th>\n",
              "      <th>SEX</th>\n",
              "      <th>EDUCATION</th>\n",
              "      <th>MARRIAGE</th>\n",
              "      <th>AGE</th>\n",
              "      <th>PAY_1</th>\n",
              "      <th>PAY_2</th>\n",
              "      <th>PAY_3</th>\n",
              "      <th>PAY_4</th>\n",
              "      <th>...</th>\n",
              "      <th>BILL_AMT4</th>\n",
              "      <th>BILL_AMT5</th>\n",
              "      <th>BILL_AMT6</th>\n",
              "      <th>PAY_AMT1</th>\n",
              "      <th>PAY_AMT2</th>\n",
              "      <th>PAY_AMT3</th>\n",
              "      <th>PAY_AMT4</th>\n",
              "      <th>PAY_AMT5</th>\n",
              "      <th>PAY_AMT6</th>\n",
              "      <th>DEF_PAY</th>\n",
              "    </tr>\n",
              "  </thead>\n",
              "  <tbody>\n",
              "    <tr>\n",
              "      <th>0</th>\n",
              "      <td>1</td>\n",
              "      <td>20000.0</td>\n",
              "      <td>2</td>\n",
              "      <td>2</td>\n",
              "      <td>1</td>\n",
              "      <td>24</td>\n",
              "      <td>2</td>\n",
              "      <td>2</td>\n",
              "      <td>0</td>\n",
              "      <td>0</td>\n",
              "      <td>...</td>\n",
              "      <td>0.0</td>\n",
              "      <td>0.0</td>\n",
              "      <td>0.0</td>\n",
              "      <td>0.0</td>\n",
              "      <td>689.0</td>\n",
              "      <td>0.0</td>\n",
              "      <td>0.0</td>\n",
              "      <td>0.0</td>\n",
              "      <td>0.0</td>\n",
              "      <td>1</td>\n",
              "    </tr>\n",
              "    <tr>\n",
              "      <th>1</th>\n",
              "      <td>2</td>\n",
              "      <td>120000.0</td>\n",
              "      <td>2</td>\n",
              "      <td>2</td>\n",
              "      <td>2</td>\n",
              "      <td>26</td>\n",
              "      <td>0</td>\n",
              "      <td>2</td>\n",
              "      <td>0</td>\n",
              "      <td>0</td>\n",
              "      <td>...</td>\n",
              "      <td>3272.0</td>\n",
              "      <td>3455.0</td>\n",
              "      <td>3261.0</td>\n",
              "      <td>0.0</td>\n",
              "      <td>1000.0</td>\n",
              "      <td>1000.0</td>\n",
              "      <td>1000.0</td>\n",
              "      <td>0.0</td>\n",
              "      <td>2000.0</td>\n",
              "      <td>1</td>\n",
              "    </tr>\n",
              "    <tr>\n",
              "      <th>2</th>\n",
              "      <td>3</td>\n",
              "      <td>90000.0</td>\n",
              "      <td>2</td>\n",
              "      <td>2</td>\n",
              "      <td>2</td>\n",
              "      <td>34</td>\n",
              "      <td>0</td>\n",
              "      <td>0</td>\n",
              "      <td>0</td>\n",
              "      <td>0</td>\n",
              "      <td>...</td>\n",
              "      <td>14331.0</td>\n",
              "      <td>14948.0</td>\n",
              "      <td>15549.0</td>\n",
              "      <td>1518.0</td>\n",
              "      <td>1500.0</td>\n",
              "      <td>1000.0</td>\n",
              "      <td>1000.0</td>\n",
              "      <td>1000.0</td>\n",
              "      <td>5000.0</td>\n",
              "      <td>0</td>\n",
              "    </tr>\n",
              "    <tr>\n",
              "      <th>3</th>\n",
              "      <td>4</td>\n",
              "      <td>50000.0</td>\n",
              "      <td>2</td>\n",
              "      <td>2</td>\n",
              "      <td>1</td>\n",
              "      <td>37</td>\n",
              "      <td>0</td>\n",
              "      <td>0</td>\n",
              "      <td>0</td>\n",
              "      <td>0</td>\n",
              "      <td>...</td>\n",
              "      <td>28314.0</td>\n",
              "      <td>28959.0</td>\n",
              "      <td>29547.0</td>\n",
              "      <td>2000.0</td>\n",
              "      <td>2019.0</td>\n",
              "      <td>1200.0</td>\n",
              "      <td>1100.0</td>\n",
              "      <td>1069.0</td>\n",
              "      <td>1000.0</td>\n",
              "      <td>0</td>\n",
              "    </tr>\n",
              "    <tr>\n",
              "      <th>4</th>\n",
              "      <td>5</td>\n",
              "      <td>50000.0</td>\n",
              "      <td>1</td>\n",
              "      <td>2</td>\n",
              "      <td>1</td>\n",
              "      <td>57</td>\n",
              "      <td>0</td>\n",
              "      <td>0</td>\n",
              "      <td>0</td>\n",
              "      <td>0</td>\n",
              "      <td>...</td>\n",
              "      <td>20940.0</td>\n",
              "      <td>19146.0</td>\n",
              "      <td>19131.0</td>\n",
              "      <td>2000.0</td>\n",
              "      <td>36681.0</td>\n",
              "      <td>10000.0</td>\n",
              "      <td>9000.0</td>\n",
              "      <td>689.0</td>\n",
              "      <td>679.0</td>\n",
              "      <td>0</td>\n",
              "    </tr>\n",
              "  </tbody>\n",
              "</table>\n",
              "<p>5 rows × 25 columns</p>\n",
              "</div>\n",
              "      <button class=\"colab-df-convert\" onclick=\"convertToInteractive('df-3de9d7c0-94a3-4278-befe-910457b95f6f')\"\n",
              "              title=\"Convert this dataframe to an interactive table.\"\n",
              "              style=\"display:none;\">\n",
              "        \n",
              "  <svg xmlns=\"http://www.w3.org/2000/svg\" height=\"24px\"viewBox=\"0 0 24 24\"\n",
              "       width=\"24px\">\n",
              "    <path d=\"M0 0h24v24H0V0z\" fill=\"none\"/>\n",
              "    <path d=\"M18.56 5.44l.94 2.06.94-2.06 2.06-.94-2.06-.94-.94-2.06-.94 2.06-2.06.94zm-11 1L8.5 8.5l.94-2.06 2.06-.94-2.06-.94L8.5 2.5l-.94 2.06-2.06.94zm10 10l.94 2.06.94-2.06 2.06-.94-2.06-.94-.94-2.06-.94 2.06-2.06.94z\"/><path d=\"M17.41 7.96l-1.37-1.37c-.4-.4-.92-.59-1.43-.59-.52 0-1.04.2-1.43.59L10.3 9.45l-7.72 7.72c-.78.78-.78 2.05 0 2.83L4 21.41c.39.39.9.59 1.41.59.51 0 1.02-.2 1.41-.59l7.78-7.78 2.81-2.81c.8-.78.8-2.07 0-2.86zM5.41 20L4 18.59l7.72-7.72 1.47 1.35L5.41 20z\"/>\n",
              "  </svg>\n",
              "      </button>\n",
              "      \n",
              "  <style>\n",
              "    .colab-df-container {\n",
              "      display:flex;\n",
              "      flex-wrap:wrap;\n",
              "      gap: 12px;\n",
              "    }\n",
              "\n",
              "    .colab-df-convert {\n",
              "      background-color: #E8F0FE;\n",
              "      border: none;\n",
              "      border-radius: 50%;\n",
              "      cursor: pointer;\n",
              "      display: none;\n",
              "      fill: #1967D2;\n",
              "      height: 32px;\n",
              "      padding: 0 0 0 0;\n",
              "      width: 32px;\n",
              "    }\n",
              "\n",
              "    .colab-df-convert:hover {\n",
              "      background-color: #E2EBFA;\n",
              "      box-shadow: 0px 1px 2px rgba(60, 64, 67, 0.3), 0px 1px 3px 1px rgba(60, 64, 67, 0.15);\n",
              "      fill: #174EA6;\n",
              "    }\n",
              "\n",
              "    [theme=dark] .colab-df-convert {\n",
              "      background-color: #3B4455;\n",
              "      fill: #D2E3FC;\n",
              "    }\n",
              "\n",
              "    [theme=dark] .colab-df-convert:hover {\n",
              "      background-color: #434B5C;\n",
              "      box-shadow: 0px 1px 3px 1px rgba(0, 0, 0, 0.15);\n",
              "      filter: drop-shadow(0px 1px 2px rgba(0, 0, 0, 0.3));\n",
              "      fill: #FFFFFF;\n",
              "    }\n",
              "  </style>\n",
              "\n",
              "      <script>\n",
              "        const buttonEl =\n",
              "          document.querySelector('#df-3de9d7c0-94a3-4278-befe-910457b95f6f button.colab-df-convert');\n",
              "        buttonEl.style.display =\n",
              "          google.colab.kernel.accessAllowed ? 'block' : 'none';\n",
              "\n",
              "        async function convertToInteractive(key) {\n",
              "          const element = document.querySelector('#df-3de9d7c0-94a3-4278-befe-910457b95f6f');\n",
              "          const dataTable =\n",
              "            await google.colab.kernel.invokeFunction('convertToInteractive',\n",
              "                                                     [key], {});\n",
              "          if (!dataTable) return;\n",
              "\n",
              "          const docLinkHtml = 'Like what you see? Visit the ' +\n",
              "            '<a target=\"_blank\" href=https://colab.research.google.com/notebooks/data_table.ipynb>data table notebook</a>'\n",
              "            + ' to learn more about interactive tables.';\n",
              "          element.innerHTML = '';\n",
              "          dataTable['output_type'] = 'display_data';\n",
              "          await google.colab.output.renderOutput(dataTable, element);\n",
              "          const docLink = document.createElement('div');\n",
              "          docLink.innerHTML = docLinkHtml;\n",
              "          element.appendChild(docLink);\n",
              "        }\n",
              "      </script>\n",
              "    </div>\n",
              "  </div>\n",
              "  "
            ]
          },
          "metadata": {},
          "execution_count": 77
        }
      ]
    },
    {
      "cell_type": "markdown",
      "source": [
        "### Vizualizing Imbalanced Data Before Smote"
      ],
      "metadata": {
        "id": "DsKtUp7CStjv"
      }
    },
    {
      "cell_type": "code",
      "source": [
        "sns.scatterplot(x='LIMIT_BAL',y='BILL_AMT1',data=cred_data_new,hue='DEF_PAY')"
      ],
      "metadata": {
        "id": "Nq3fDxq9QWTP",
        "colab": {
          "base_uri": "https://localhost:8080/",
          "height": 298
        },
        "outputId": "e5c9d83c-9344-4d69-87d4-5a0ce851c0b9",
        "collapsed": true
      },
      "execution_count": null,
      "outputs": [
        {
          "output_type": "execute_result",
          "data": {
            "text/plain": [
              "<Axes: xlabel='LIMIT_BAL', ylabel='BILL_AMT1'>"
            ]
          },
          "metadata": {},
          "execution_count": 78
        },
        {
          "output_type": "display_data",
          "data": {
            "text/plain": [
              "<Figure size 432x288 with 1 Axes>"
            ],
            "image/png": "[encoded data removed]"
          },
          "metadata": {
            "needs_background": "light"
          }
        }
      ]
    },
    {
      "cell_type": "markdown",
      "source": [
        "- Observing a High Class Imbalance Before SMOTE"
      ],
      "metadata": {
        "id": "nmrzEKIkTVgy"
      }
    },
    {
      "cell_type": "code",
      "source": [
        "X=cred_data_new.drop('DEF_PAY',axis=1)\n",
        "y=cred_data_new['DEF_PAY']\n",
        "\n",
        "# Importing imblearn library for importing SMOTE Function\n",
        "from imblearn.over_sampling import SMOTE\n",
        "smote=SMOTE(sampling_strategy=0.9,random_state=42)\n",
        "X_train_smote,y_train_smote=smote.fit_resample(X,y)\n",
        "\n",
        "# Getting the collection of counts of each class\n",
        "import collections\n",
        "print(\"Before_Smote\",collections.Counter(y))\n",
        "print(\"After_Smote\",collections.Counter(y_train_smote))"
      ],
      "metadata": {
        "id": "nwxDqm35DrDC",
        "colab": {
          "base_uri": "https://localhost:8080/"
        },
        "outputId": "2d3d3fe6-7a3f-4df0-f7d8-be34df9b3254",
        "collapsed": true
      },
      "execution_count": null,
      "outputs": [
        {
          "output_type": "stream",
          "name": "stdout",
          "text": [
            "Before_Smote Counter({0: 23364, 1: 6636})\n",
            "After_Smote Counter({0: 23364, 1: 21027})\n"
          ]
        }
      ]
    },
    {
      "cell_type": "markdown",
      "source": [
        "- Minority class size is increased to match the size of majority class."
      ],
      "metadata": {
        "id": "YkUJWejdceDM"
      }
    },
    {
      "cell_type": "code",
      "source": [
        "# Creating a new dataset having the balanced data\n",
        "cred_new_smote=X_train_smote\n",
        "cred_new_smote['DEF_PAY']=y_train_smote\n",
        "cred_new_smote.head()"
      ],
      "metadata": {
        "id": "umfYkL4SDrlW",
        "colab": {
          "base_uri": "https://localhost:8080/",
          "height": 300
        },
        "outputId": "0ea4fac7-33e9-471e-83b2-b80b4095a9eb",
        "collapsed": true
      },
      "execution_count": null,
      "outputs": [
        {
          "output_type": "execute_result",
          "data": {
            "text/plain": [
              "   ID  LIMIT_BAL  SEX  EDUCATION  MARRIAGE  AGE  PAY_1  PAY_2  PAY_3  PAY_4  \\\n",
              "0   1    20000.0    2          2         1   24      2      2      0      0   \n",
              "1   2   120000.0    2          2         2   26      0      2      0      0   \n",
              "2   3    90000.0    2          2         2   34      0      0      0      0   \n",
              "3   4    50000.0    2          2         1   37      0      0      0      0   \n",
              "4   5    50000.0    1          2         1   57      0      0      0      0   \n",
              "\n",
              "   ...  BILL_AMT4  BILL_AMT5  BILL_AMT6  PAY_AMT1  PAY_AMT2  PAY_AMT3  \\\n",
              "0  ...        0.0        0.0        0.0       0.0     689.0       0.0   \n",
              "1  ...     3272.0     3455.0     3261.0       0.0    1000.0    1000.0   \n",
              "2  ...    14331.0    14948.0    15549.0    1518.0    1500.0    1000.0   \n",
              "3  ...    28314.0    28959.0    29547.0    2000.0    2019.0    1200.0   \n",
              "4  ...    20940.0    19146.0    19131.0    2000.0   36681.0   10000.0   \n",
              "\n",
              "   PAY_AMT4  PAY_AMT5  PAY_AMT6  DEF_PAY  \n",
              "0       0.0       0.0       0.0        1  \n",
              "1    1000.0       0.0    2000.0        1  \n",
              "2    1000.0    1000.0    5000.0        0  \n",
              "3    1100.0    1069.0    1000.0        0  \n",
              "4    9000.0     689.0     679.0        0  \n",
              "\n",
              "[5 rows x 25 columns]"
            ],
            "text/html": [
              "\n",
              "  <div id=\"df-1b454457-56f6-4e47-8cfe-4671c856fd45\">\n",
              "    <div class=\"colab-df-container\">\n",
              "      <div>\n",
              "<style scoped>\n",
              "    .dataframe tbody tr th:only-of-type {\n",
              "        vertical-align: middle;\n",
              "    }\n",
              "\n",
              "    .dataframe tbody tr th {\n",
              "        vertical-align: top;\n",
              "    }\n",
              "\n",
              "    .dataframe thead th {\n",
              "        text-align: right;\n",
              "    }\n",
              "</style>\n",
              "<table border=\"1\" class=\"dataframe\">\n",
              "  <thead>\n",
              "    <tr style=\"text-align: right;\">\n",
              "      <th></th>\n",
              "      <th>ID</th>\n",
              "      <th>LIMIT_BAL</th>\n",
              "      <th>SEX</th>\n",
              "      <th>EDUCATION</th>\n",
              "      <th>MARRIAGE</th>\n",
              "      <th>AGE</th>\n",
              "      <th>PAY_1</th>\n",
              "      <th>PAY_2</th>\n",
              "      <th>PAY_3</th>\n",
              "      <th>PAY_4</th>\n",
              "      <th>...</th>\n",
              "      <th>BILL_AMT4</th>\n",
              "      <th>BILL_AMT5</th>\n",
              "      <th>BILL_AMT6</th>\n",
              "      <th>PAY_AMT1</th>\n",
              "      <th>PAY_AMT2</th>\n",
              "      <th>PAY_AMT3</th>\n",
              "      <th>PAY_AMT4</th>\n",
              "      <th>PAY_AMT5</th>\n",
              "      <th>PAY_AMT6</th>\n",
              "      <th>DEF_PAY</th>\n",
              "    </tr>\n",
              "  </thead>\n",
              "  <tbody>\n",
              "    <tr>\n",
              "      <th>0</th>\n",
              "      <td>1</td>\n",
              "      <td>20000.0</td>\n",
              "      <td>2</td>\n",
              "      <td>2</td>\n",
              "      <td>1</td>\n",
              "      <td>24</td>\n",
              "      <td>2</td>\n",
              "      <td>2</td>\n",
              "      <td>0</td>\n",
              "      <td>0</td>\n",
              "      <td>...</td>\n",
              "      <td>0.0</td>\n",
              "      <td>0.0</td>\n",
              "      <td>0.0</td>\n",
              "      <td>0.0</td>\n",
              "      <td>689.0</td>\n",
              "      <td>0.0</td>\n",
              "      <td>0.0</td>\n",
              "      <td>0.0</td>\n",
              "      <td>0.0</td>\n",
              "      <td>1</td>\n",
              "    </tr>\n",
              "    <tr>\n",
              "      <th>1</th>\n",
              "      <td>2</td>\n",
              "      <td>120000.0</td>\n",
              "      <td>2</td>\n",
              "      <td>2</td>\n",
              "      <td>2</td>\n",
              "      <td>26</td>\n",
              "      <td>0</td>\n",
              "      <td>2</td>\n",
              "      <td>0</td>\n",
              "      <td>0</td>\n",
              "      <td>...</td>\n",
              "      <td>3272.0</td>\n",
              "      <td>3455.0</td>\n",
              "      <td>3261.0</td>\n",
              "      <td>0.0</td>\n",
              "      <td>1000.0</td>\n",
              "      <td>1000.0</td>\n",
              "      <td>1000.0</td>\n",
              "      <td>0.0</td>\n",
              "      <td>2000.0</td>\n",
              "      <td>1</td>\n",
              "    </tr>\n",
              "    <tr>\n",
              "      <th>2</th>\n",
              "      <td>3</td>\n",
              "      <td>90000.0</td>\n",
              "      <td>2</td>\n",
              "      <td>2</td>\n",
              "      <td>2</td>\n",
              "      <td>34</td>\n",
              "      <td>0</td>\n",
              "      <td>0</td>\n",
              "      <td>0</td>\n",
              "      <td>0</td>\n",
              "      <td>...</td>\n",
              "      <td>14331.0</td>\n",
              "      <td>14948.0</td>\n",
              "      <td>15549.0</td>\n",
              "      <td>1518.0</td>\n",
              "      <td>1500.0</td>\n",
              "      <td>1000.0</td>\n",
              "      <td>1000.0</td>\n",
              "      <td>1000.0</td>\n",
              "      <td>5000.0</td>\n",
              "      <td>0</td>\n",
              "    </tr>\n",
              "    <tr>\n",
              "      <th>3</th>\n",
              "      <td>4</td>\n",
              "      <td>50000.0</td>\n",
              "      <td>2</td>\n",
              "      <td>2</td>\n",
              "      <td>1</td>\n",
              "      <td>37</td>\n",
              "      <td>0</td>\n",
              "      <td>0</td>\n",
              "      <td>0</td>\n",
              "      <td>0</td>\n",
              "      <td>...</td>\n",
              "      <td>28314.0</td>\n",
              "      <td>28959.0</td>\n",
              "      <td>29547.0</td>\n",
              "      <td>2000.0</td>\n",
              "      <td>2019.0</td>\n",
              "      <td>1200.0</td>\n",
              "      <td>1100.0</td>\n",
              "      <td>1069.0</td>\n",
              "      <td>1000.0</td>\n",
              "      <td>0</td>\n",
              "    </tr>\n",
              "    <tr>\n",
              "      <th>4</th>\n",
              "      <td>5</td>\n",
              "      <td>50000.0</td>\n",
              "      <td>1</td>\n",
              "      <td>2</td>\n",
              "      <td>1</td>\n",
              "      <td>57</td>\n",
              "      <td>0</td>\n",
              "      <td>0</td>\n",
              "      <td>0</td>\n",
              "      <td>0</td>\n",
              "      <td>...</td>\n",
              "      <td>20940.0</td>\n",
              "      <td>19146.0</td>\n",
              "      <td>19131.0</td>\n",
              "      <td>2000.0</td>\n",
              "      <td>36681.0</td>\n",
              "      <td>10000.0</td>\n",
              "      <td>9000.0</td>\n",
              "      <td>689.0</td>\n",
              "      <td>679.0</td>\n",
              "      <td>0</td>\n",
              "    </tr>\n",
              "  </tbody>\n",
              "</table>\n",
              "<p>5 rows × 25 columns</p>\n",
              "</div>\n",
              "      <button class=\"colab-df-convert\" onclick=\"convertToInteractive('df-1b454457-56f6-4e47-8cfe-4671c856fd45')\"\n",
              "              title=\"Convert this dataframe to an interactive table.\"\n",
              "              style=\"display:none;\">\n",
              "        \n",
              "  <svg xmlns=\"http://www.w3.org/2000/svg\" height=\"24px\"viewBox=\"0 0 24 24\"\n",
              "       width=\"24px\">\n",
              "    <path d=\"M0 0h24v24H0V0z\" fill=\"none\"/>\n",
              "    <path d=\"M18.56 5.44l.94 2.06.94-2.06 2.06-.94-2.06-.94-.94-2.06-.94 2.06-2.06.94zm-11 1L8.5 8.5l.94-2.06 2.06-.94-2.06-.94L8.5 2.5l-.94 2.06-2.06.94zm10 10l.94 2.06.94-2.06 2.06-.94-2.06-.94-.94-2.06-.94 2.06-2.06.94z\"/><path d=\"M17.41 7.96l-1.37-1.37c-.4-.4-.92-.59-1.43-.59-.52 0-1.04.2-1.43.59L10.3 9.45l-7.72 7.72c-.78.78-.78 2.05 0 2.83L4 21.41c.39.39.9.59 1.41.59.51 0 1.02-.2 1.41-.59l7.78-7.78 2.81-2.81c.8-.78.8-2.07 0-2.86zM5.41 20L4 18.59l7.72-7.72 1.47 1.35L5.41 20z\"/>\n",
              "  </svg>\n",
              "      </button>\n",
              "      \n",
              "  <style>\n",
              "    .colab-df-container {\n",
              "      display:flex;\n",
              "      flex-wrap:wrap;\n",
              "      gap: 12px;\n",
              "    }\n",
              "\n",
              "    .colab-df-convert {\n",
              "      background-color: #E8F0FE;\n",
              "      border: none;\n",
              "      border-radius: 50%;\n",
              "      cursor: pointer;\n",
              "      display: none;\n",
              "      fill: #1967D2;\n",
              "      height: 32px;\n",
              "      padding: 0 0 0 0;\n",
              "      width: 32px;\n",
              "    }\n",
              "\n",
              "    .colab-df-convert:hover {\n",
              "      background-color: #E2EBFA;\n",
              "      box-shadow: 0px 1px 2px rgba(60, 64, 67, 0.3), 0px 1px 3px 1px rgba(60, 64, 67, 0.15);\n",
              "      fill: #174EA6;\n",
              "    }\n",
              "\n",
              "    [theme=dark] .colab-df-convert {\n",
              "      background-color: #3B4455;\n",
              "      fill: #D2E3FC;\n",
              "    }\n",
              "\n",
              "    [theme=dark] .colab-df-convert:hover {\n",
              "      background-color: #434B5C;\n",
              "      box-shadow: 0px 1px 3px 1px rgba(0, 0, 0, 0.15);\n",
              "      filter: drop-shadow(0px 1px 2px rgba(0, 0, 0, 0.3));\n",
              "      fill: #FFFFFF;\n",
              "    }\n",
              "  </style>\n",
              "\n",
              "      <script>\n",
              "        const buttonEl =\n",
              "          document.querySelector('#df-1b454457-56f6-4e47-8cfe-4671c856fd45 button.colab-df-convert');\n",
              "        buttonEl.style.display =\n",
              "          google.colab.kernel.accessAllowed ? 'block' : 'none';\n",
              "\n",
              "        async function convertToInteractive(key) {\n",
              "          const element = document.querySelector('#df-1b454457-56f6-4e47-8cfe-4671c856fd45');\n",
              "          const dataTable =\n",
              "            await google.colab.kernel.invokeFunction('convertToInteractive',\n",
              "                                                     [key], {});\n",
              "          if (!dataTable) return;\n",
              "\n",
              "          const docLinkHtml = 'Like what you see? Visit the ' +\n",
              "            '<a target=\"_blank\" href=https://colab.research.google.com/notebooks/data_table.ipynb>data table notebook</a>'\n",
              "            + ' to learn more about interactive tables.';\n",
              "          element.innerHTML = '';\n",
              "          dataTable['output_type'] = 'display_data';\n",
              "          await google.colab.output.renderOutput(dataTable, element);\n",
              "          const docLink = document.createElement('div');\n",
              "          docLink.innerHTML = docLinkHtml;\n",
              "          element.appendChild(docLink);\n",
              "        }\n",
              "      </script>\n",
              "    </div>\n",
              "  </div>\n",
              "  "
            ]
          },
          "metadata": {},
          "execution_count": 80
        }
      ]
    },
    {
      "cell_type": "code",
      "source": [
        "freq=cred_new_smote['DEF_PAY'].value_counts()\n",
        "print((freq/freq.sum())*100)"
      ],
      "metadata": {
        "id": "9IpJXQSmoNCu",
        "colab": {
          "base_uri": "https://localhost:8080/"
        },
        "outputId": "ff7d2ebf-646f-4ccb-fbbd-d64ce6553dff",
        "collapsed": true
      },
      "execution_count": null,
      "outputs": [
        {
          "output_type": "stream",
          "name": "stdout",
          "text": [
            "0    52.63229\n",
            "1    47.36771\n",
            "Name: DEF_PAY, dtype: float64\n"
          ]
        }
      ]
    },
    {
      "cell_type": "markdown",
      "source": [
        "### Visulaizing balanced data after SMOTE"
      ],
      "metadata": {
        "id": "fjCWj97hUtMn"
      }
    },
    {
      "cell_type": "code",
      "source": [
        "sns.scatterplot(x='LIMIT_BAL',y='BILL_AMT1',data=cred_new_smote,hue='DEF_PAY')"
      ],
      "metadata": {
        "id": "Z6vz7b78SdLl",
        "colab": {
          "base_uri": "https://localhost:8080/",
          "height": 298
        },
        "outputId": "eb279938-00ff-49df-d7d4-a57b54585132",
        "collapsed": true
      },
      "execution_count": null,
      "outputs": [
        {
          "output_type": "execute_result",
          "data": {
            "text/plain": [
              "<Axes: xlabel='LIMIT_BAL', ylabel='BILL_AMT1'>"
            ]
          },
          "metadata": {},
          "execution_count": 82
        },
        {
          "output_type": "display_data",
          "data": {
            "text/plain": [
              "<Figure size 432x288 with 1 Axes>"
            ],
            "image/png": "[encoded data removed]"
          },
          "metadata": {
            "needs_background": "light"
          }
        }
      ]
    },
    {
      "cell_type": "markdown",
      "source": [
        "### Using Statsmodel Logistic Regression"
      ],
      "metadata": {
        "id": "e_z-k_coUdlu"
      }
    },
    {
      "cell_type": "code",
      "source": [
        "## Function for OLS formula\n",
        "def ols_formula(df, dependent_var, *excluded_cols):\n",
        "    '''\n",
        "    Generates the y~X style formula for statsmodels (patsy) given\n",
        "    the dataframe, dependent variable and optional excluded columns\n",
        "    as strings\n",
        "    '''\n",
        "    df_columns = list(df.columns.values)\n",
        "    df_columns.remove(dependent_var)\n",
        "    for col in excluded_cols:\n",
        "        df_columns.remove(col)\n",
        "    return dependent_var + ' ~ ' + ' + '.join(df_columns)\n",
        "\n",
        "## Function Calling\n",
        "model_formula=ols_formula(cred_new_smote.iloc[:,1:], dependent_var=\"DEF_PAY\")\n",
        "print(model_formula)"
      ],
      "metadata": {
        "id": "HiABZ2aMTR5P",
        "colab": {
          "base_uri": "https://localhost:8080/"
        },
        "outputId": "ad1d0166-5c53-4376-98e9-5dbe4298f139",
        "collapsed": true
      },
      "execution_count": null,
      "outputs": [
        {
          "output_type": "stream",
          "name": "stdout",
          "text": [
            "DEF_PAY ~ LIMIT_BAL + SEX + EDUCATION + MARRIAGE + AGE + PAY_1 + PAY_2 + PAY_3 + PAY_4 + PAY_5 + PAY_6 + BILL_AMT1 + BILL_AMT2 + BILL_AMT3 + BILL_AMT4 + BILL_AMT5 + BILL_AMT6 + PAY_AMT1 + PAY_AMT2 + PAY_AMT3 + PAY_AMT4 + PAY_AMT5 + PAY_AMT6\n"
          ]
        }
      ]
    },
    {
      "cell_type": "code",
      "source": [
        "import statsmodels.formula.api as sm\n",
        "\n",
        "# Building Statistical Logistic Regression Model\n",
        "m=sm.logit(model_formula,data=cred_new_smote)\n",
        "\n",
        "results=m.fit()\n",
        "\n",
        "# Printing the result summary\n",
        "print(results.summary())\n",
        "\n",
        "pred_smote = results.predict()"
      ],
      "metadata": {
        "id": "S08WbH2sTR79",
        "colab": {
          "base_uri": "https://localhost:8080/"
        },
        "outputId": "92686c1d-06e7-4e3d-d26d-b427488b7b92",
        "collapsed": true
      },
      "execution_count": null,
      "outputs": [
        {
          "output_type": "stream",
          "name": "stdout",
          "text": [
            "Optimization terminated successfully.\n",
            "         Current function value: 0.548393\n",
            "         Iterations 6\n",
            "                           Logit Regression Results                           \n",
            "==============================================================================\n",
            "Dep. Variable:                DEF_PAY   No. Observations:                44391\n",
            "Model:                          Logit   Df Residuals:                    44367\n",
            "Method:                           MLE   Df Model:                           23\n",
            "Date:                Sat, 18 Mar 2023   Pseudo R-squ.:                  0.2073\n",
            "Time:                        04:33:28   Log-Likelihood:                -24344.\n",
            "converged:                       True   LL-Null:                       -30708.\n",
            "Covariance Type:            nonrobust   LLR p-value:                     0.000\n",
            "==============================================================================\n",
            "                 coef    std err          z      P>|z|      [0.025      0.975]\n",
            "------------------------------------------------------------------------------\n",
            "Intercept      4.2622      0.089     48.063      0.000       4.088       4.436\n",
            "LIMIT_BAL  -2.354e-06   1.09e-07    -21.518      0.000   -2.57e-06   -2.14e-06\n",
            "SEX           -0.8105      0.022    -36.373      0.000      -0.854      -0.767\n",
            "EDUCATION     -0.5441      0.017    -31.261      0.000      -0.578      -0.510\n",
            "MARRIAGE      -1.0874      0.024    -44.784      0.000      -1.135      -1.040\n",
            "AGE           -0.0140      0.001     -9.950      0.000      -0.017      -0.011\n",
            "PAY_1          0.7575      0.021     35.921      0.000       0.716       0.799\n",
            "PAY_2          0.1327      0.022      6.101      0.000       0.090       0.175\n",
            "PAY_3          0.0837      0.023      3.652      0.000       0.039       0.129\n",
            "PAY_4          0.0992      0.026      3.887      0.000       0.049       0.149\n",
            "PAY_5          0.0984      0.028      3.474      0.001       0.043       0.154\n",
            "PAY_6          0.1238      0.024      5.112      0.000       0.076       0.171\n",
            "BILL_AMT1  -3.356e-07   5.47e-07     -0.613      0.540   -1.41e-06    7.37e-07\n",
            "BILL_AMT2   2.442e-07   7.31e-07      0.334      0.738   -1.19e-06    1.68e-06\n",
            "BILL_AMT3    1.02e-06   6.64e-07      1.535      0.125   -2.82e-07    2.32e-06\n",
            "BILL_AMT4    6.24e-07   6.82e-07      0.915      0.360   -7.13e-07    1.96e-06\n",
            "BILL_AMT5  -1.157e-06   8.12e-07     -1.424      0.155   -2.75e-06    4.36e-07\n",
            "BILL_AMT6   1.451e-06   6.87e-07      2.112      0.035    1.05e-07     2.8e-06\n",
            "PAY_AMT1   -1.602e-05   2.28e-06     -7.022      0.000   -2.05e-05   -1.16e-05\n",
            "PAY_AMT2   -2.541e-05   2.47e-06    -10.304      0.000   -3.02e-05   -2.06e-05\n",
            "PAY_AMT3   -1.485e-05    2.3e-06     -6.447      0.000   -1.94e-05   -1.03e-05\n",
            "PAY_AMT4   -1.241e-05   2.31e-06     -5.378      0.000   -1.69e-05   -7.89e-06\n",
            "PAY_AMT5   -1.112e-05   2.38e-06     -4.679      0.000   -1.58e-05   -6.46e-06\n",
            "PAY_AMT6   -1.129e-05      2e-06     -5.634      0.000   -1.52e-05   -7.36e-06\n",
            "==============================================================================\n"
          ]
        }
      ]
    },
    {
      "cell_type": "code",
      "source": [
        "# Choosing thershold of 0.5 for Logistic Regression\n",
        "threshold4=0.5\n",
        "predictions4=[ 0 if x < threshold4 else 1 for x in pred_smote]\n",
        "\n",
        "from sklearn.metrics import confusion_matrix\n",
        "\n",
        "# Creating confusion matrix\n",
        "cm=confusion_matrix(cred_new_smote['DEF_PAY'],predictions4)\n",
        "print(cm)\n",
        "\n",
        "# Calculating Accuracy\n",
        "total=sum(sum(cm))\n",
        "accuracy=(cm[0,0]+cm[1,1])/total\n",
        "print('Accuracy-',round(accuracy*100,2))\n",
        "\n",
        "# Calculating Sensitivity\n",
        "Sensitivity=cm[0,0]/(cm[0,0]+cm[0,1])\n",
        "print('Sensitivity-',round(Sensitivity*100,2))\n",
        "\n",
        "# Calculating Specificity\n",
        "Specificity = cm[1,1]/(cm[1,0]+cm[1,1])\n",
        "print('Specificity-',round(Specificity*100,2))"
      ],
      "metadata": {
        "id": "3oD3xGXDUI6k",
        "colab": {
          "base_uri": "https://localhost:8080/"
        },
        "outputId": "eaffb9e5-dfcc-497f-dfea-1099cb59535b",
        "collapsed": true
      },
      "execution_count": null,
      "outputs": [
        {
          "output_type": "stream",
          "name": "stdout",
          "text": [
            "[[18492  4872]\n",
            " [ 6989 14038]]\n",
            "Accuracy- 73.28\n",
            "Sensitivity- 79.15\n",
            "Specificity- 66.76\n"
          ]
        }
      ]
    },
    {
      "cell_type": "markdown",
      "source": [
        "### Using Sklearn Logistic Regression"
      ],
      "metadata": {
        "id": "HR6Q9SK2Uqxl"
      }
    },
    {
      "cell_type": "code",
      "source": [
        "X=cred_new_smote.drop('DEF_PAY',axis=1)\n",
        "y=cred_new_smote['DEF_PAY']\n",
        "\n",
        "from sklearn.model_selection import train_test_split\n",
        "from sklearn.linear_model import LogisticRegression\n",
        "X_train, X_test, y_train, y_test = train_test_split(X, y, test_size=0.2, random_state=50)\n",
        "\n",
        "logistic=LogisticRegression(solver='newton-cg',max_iter=200)\n",
        "\n",
        "# Fitting the target and the features\n",
        "logistic.fit(X_train,y_train)\n",
        "\n",
        "#predict\n",
        "pred1_smote=logistic.predict(X_train)"
      ],
      "metadata": {
        "id": "AT0EtCKBgMEK",
        "colab": {
          "base_uri": "https://localhost:8080/"
        },
        "outputId": "dfe3a271-cdb5-4f42-8356-c54f5303f20c",
        "collapsed": true
      },
      "execution_count": null,
      "outputs": [
        {
          "output_type": "stream",
          "name": "stderr",
          "text": [
            "/usr/local/lib/python3.9/dist-packages/scipy/optimize/_linesearch.py:457: LineSearchWarning: The line search algorithm did not converge\n",
            "  warn('The line search algorithm did not converge', LineSearchWarning)\n",
            "/usr/local/lib/python3.9/dist-packages/scipy/optimize/_linesearch.py:306: LineSearchWarning: The line search algorithm did not converge\n",
            "  warn('The line search algorithm did not converge', LineSearchWarning)\n",
            "/usr/local/lib/python3.9/dist-packages/sklearn/utils/optimize.py:210: ConvergenceWarning: newton-cg failed to converge. Increase the number of iterations.\n",
            "  warnings.warn(\n"
          ]
        }
      ]
    },
    {
      "cell_type": "markdown",
      "source": [
        "### Updated Sensitivity and Specificity"
      ],
      "metadata": {
        "id": "3II6qkYiqnTw"
      }
    },
    {
      "cell_type": "code",
      "source": [
        "# Creating confusion matrix\n",
        "from sklearn.metrics import confusion_matrix,classification_report\n",
        "cm=confusion_matrix(y_train,pred1_smote)\n",
        "print(cm)\n",
        "\n",
        "# Calculating Accuracy\n",
        "total=sum(sum(cm))\n",
        "accuracy=(cm[0,0]+cm[1,1])/total\n",
        "print('Accuracy-',round(accuracy*100,2))\n",
        "\n",
        "# Calculating Sensitivity\n",
        "Sensitivity=cm[0,0]/(cm[0,0]+cm[0,1])\n",
        "print('Sensitivity-',round(Sensitivity*100,2))\n",
        "\n",
        "# Calculating Specificity\n",
        "Specificity = cm[1,1]/(cm[1,0]+cm[1,1])\n",
        "print('Specificity-',round(Specificity*100,2))"
      ],
      "metadata": {
        "id": "RsHGXfmggMG4",
        "colab": {
          "base_uri": "https://localhost:8080/"
        },
        "collapsed": true,
        "outputId": "db0ffec7-90fd-4e43-e056-db2b009617a1"
      },
      "execution_count": null,
      "outputs": [
        {
          "output_type": "stream",
          "name": "stdout",
          "text": [
            "[[14797  3884]\n",
            " [ 5541 11290]]\n",
            "Accuracy- 73.46\n",
            "Sensitivity- 79.21\n",
            "Specificity- 67.08\n"
          ]
        }
      ]
    },
    {
      "cell_type": "markdown",
      "source": [
        "- There statsmodel logistic Regression Specificity and sklearn Logistic Regression Specificity is almost having equal value."
      ],
      "metadata": {
        "id": "X11KRavpdeWL"
      }
    },
    {
      "cell_type": "code",
      "source": [
        "# Importing classification report from sklearn library\n",
        "from sklearn.metrics import classification_report\n",
        "print(classification_report(y_train,pred1_smote))"
      ],
      "metadata": {
        "id": "XH8-9kXIiBEP",
        "colab": {
          "base_uri": "https://localhost:8080/"
        },
        "outputId": "48896733-43c2-45b5-d02c-c91a956de4ca",
        "collapsed": true
      },
      "execution_count": null,
      "outputs": [
        {
          "output_type": "stream",
          "name": "stdout",
          "text": [
            "              precision    recall  f1-score   support\n",
            "\n",
            "           0       0.73      0.79      0.76     18681\n",
            "           1       0.74      0.67      0.71     16831\n",
            "\n",
            "    accuracy                           0.73     35512\n",
            "   macro avg       0.74      0.73      0.73     35512\n",
            "weighted avg       0.74      0.73      0.73     35512\n",
            "\n"
          ]
        }
      ]
    },
    {
      "cell_type": "markdown",
      "source": [
        "Checking for Overfitting and Underfitting"
      ],
      "metadata": {
        "id": "34TvVakpd0R7"
      }
    },
    {
      "cell_type": "code",
      "source": [
        "pred2_smote=logistic.predict(X_test)\n",
        "# Creating confusion matrix\n",
        "cm1=confusion_matrix(y_test,pred2_smote)\n",
        "print(cm1)\n",
        "\n",
        "# Calculating Train Accuracy\n",
        "total=sum(sum(cm))\n",
        "accuracy=(cm[0,0]+cm[1,1])/total\n",
        "print('Train Accuracy-',round(accuracy*100,2))\n",
        "\n",
        "# Calculating Test Accuracy\n",
        "total1=sum(sum(cm1))\n",
        "accuracy1=(cm1[0,0]+cm1[1,1])/total1\n",
        "print('Test Accuracy-',round(accuracy1*100,2))"
      ],
      "metadata": {
        "id": "nCZ_wHrIiABQ",
        "colab": {
          "base_uri": "https://localhost:8080/"
        },
        "outputId": "87f98c8d-cd15-42e6-9b2c-68510c7c691c",
        "collapsed": true
      },
      "execution_count": null,
      "outputs": [
        {
          "output_type": "stream",
          "name": "stdout",
          "text": [
            "[[3664 1019]\n",
            " [1397 2799]]\n",
            "Train Accuracy- 73.46\n",
            "Test Accuracy- 72.79\n"
          ]
        }
      ]
    },
    {
      "cell_type": "markdown",
      "source": [
        "- Accuracy on the training data and nearly matching accuracy on the test data but it looks like model is underfitted and still needs improvement."
      ],
      "metadata": {
        "id": "0Qdv8m8f0kC0"
      }
    },
    {
      "cell_type": "markdown",
      "source": [
        "# Feature Engineering"
      ],
      "metadata": {
        "id": "1Wv-5qh1ONoO"
      }
    },
    {
      "cell_type": "code",
      "source": [
        "cred_new_smote.columns"
      ],
      "metadata": {
        "id": "8jkziiRX77KX"
      },
      "execution_count": null,
      "outputs": []
    },
    {
      "cell_type": "code",
      "source": [
        "# Encoding the female sex category to 0\n",
        "cred_new_smote.loc[cred_new_smote['SEX']==2,'SEX']=0"
      ],
      "metadata": {
        "id": "rGq03B9AJq7g"
      },
      "execution_count": null,
      "outputs": []
    },
    {
      "cell_type": "markdown",
      "source": [
        "## One Hot Encoding Categorical Variables"
      ],
      "metadata": {
        "id": "y6SGutXzVYuX"
      }
    },
    {
      "cell_type": "code",
      "source": [
        "# Creating dummy variables of each categorical variables\n",
        "cred_data_ohe=pd.get_dummies(cred_new_smote,prefix=['EDUCATION', 'MARRIAGE', 'PAY_1','PAY_2', 'PAY_3', 'PAY_4', 'PAY_5', 'PAY_6'],\n",
        "               prefix_sep='_',columns=['EDUCATION', 'MARRIAGE', 'PAY_1','PAY_2', 'PAY_3', 'PAY_4', 'PAY_5', 'PAY_6'],drop_first=True)\n",
        "cred_data_ohe.head()"
      ],
      "metadata": {
        "id": "jqQkgiwKOdA6"
      },
      "execution_count": null,
      "outputs": []
    },
    {
      "cell_type": "markdown",
      "source": [
        "### Train_test_split"
      ],
      "metadata": {
        "id": "OCiRboRuMjDO"
      }
    },
    {
      "cell_type": "code",
      "source": [
        "# Creating X array that will contain features and y array will contain the target vector\n",
        "X=cred_data_ohe.drop('DEF_PAY',axis=1)\n",
        "y=cred_data_ohe['DEF_PAY']\n",
        "\n",
        "# Importing the package\n",
        "from sklearn.model_selection import train_test_split\n",
        "\n",
        "# Using train_test_split() function to split the whole data to train data of 80% and test data of 20%.\n",
        "X_train, X_test, y_train, y_test = train_test_split(X, y, test_size=0.2, random_state=50)\n",
        "\n",
        "# Checking the shapes of the train and test data\n",
        "print('X_train',X_train.shape)\n",
        "print('X_test',X_test.shape)\n",
        "print('y_train',y_train.shape)\n",
        "print('y_test',y_test.shape)"
      ],
      "metadata": {
        "id": "IPttJAayOdFP"
      },
      "execution_count": null,
      "outputs": []
    },
    {
      "cell_type": "markdown",
      "source": [
        "### Building Logistic regression model"
      ],
      "metadata": {
        "id": "p8X9SZgTMoMb"
      }
    },
    {
      "cell_type": "code",
      "source": [
        "# Importing the Library\n",
        "from sklearn.linear_model import LogisticRegression\n",
        "\n",
        "logistic=LogisticRegression(solver='newton-cg',max_iter=200)\n",
        "\n",
        "# Building a Multiple Logistic Regression Model by fitting the target and the features\n",
        "logistic.fit(X_train,y_train)\n",
        "\n",
        "# Prediction of target using the features\n",
        "predict=logistic.predict(X_test)\n",
        "predict"
      ],
      "metadata": {
        "id": "troUxYfiOdyI"
      },
      "execution_count": null,
      "outputs": []
    },
    {
      "cell_type": "code",
      "source": [
        "# Confusion Matrix and Accuracy\n",
        "from sklearn.metrics import confusion_matrix\n",
        "cm=confusion_matrix(y_test,predict)\n",
        "print(cm)\n",
        "\n",
        "total=sum(sum(cm))\n",
        "accuracy=(cm[0,0]+cm[1,1])/total\n",
        "print('Accuracy=',round(accuracy*100,2))\n",
        "\n",
        "# Calculating Sensitivity\n",
        "Sensitivity=cm[0,0]/(cm[0,0]+cm[0,1])\n",
        "print('Sensitivity-',round(Sensitivity*100,2))\n",
        "\n",
        "# Calculating Specificity\n",
        "Specificity = cm[1,1]/(cm[1,0]+cm[1,1])\n",
        "print('Specificity-',round(Specificity*100,2))"
      ],
      "metadata": {
        "id": "vSVB2ELdOd2x"
      },
      "execution_count": null,
      "outputs": []
    },
    {
      "cell_type": "markdown",
      "source": [
        "### Checking Individual impactness of feature"
      ],
      "metadata": {
        "id": "iF-yNgvyMPxk"
      }
    },
    {
      "cell_type": "code",
      "source": [
        "## Function for OLS formula\n",
        "def ols_formula(df, dependent_var, *excluded_cols):\n",
        "    '''\n",
        "    Generates the y~X style formula for statsmodels (patsy) given\n",
        "    the dataframe, dependent variable and optional excluded columns\n",
        "    as strings\n",
        "    '''\n",
        "    df_columns = list(df.columns.values)\n",
        "    df_columns.remove(dependent_var)\n",
        "    for col in excluded_cols:\n",
        "        df_columns.remove(col)\n",
        "    return dependent_var + ' ~ ' + ' + '.join(df_columns)\n",
        "\n",
        "## Function Calling\n",
        "model_formula=ols_formula(cred_data_ohe.iloc[:,1:], dependent_var=\"DEF_PAY\")\n",
        "print(model_formula)"
      ],
      "metadata": {
        "id": "gDpOlqvfNAf7"
      },
      "execution_count": null,
      "outputs": []
    },
    {
      "cell_type": "code",
      "source": [
        "import statsmodels.formula.api as sm\n",
        "# Building statistical logistic regression model\n",
        "m1=sm.logit(model_formula,data=cred_data_ohe)\n",
        "results=m1.fit()\n",
        "print(results.summary())"
      ],
      "metadata": {
        "id": "SzCqj8hc9eEV"
      },
      "execution_count": null,
      "outputs": []
    },
    {
      "cell_type": "code",
      "source": [
        "# Checking the variable whose pvalue is >= 0.05 (Non Impactful Features)\n",
        "pd.set_option('max_rows',None)\n",
        "results.pvalues>=0.05"
      ],
      "metadata": {
        "id": "RJncecz89eVI"
      },
      "execution_count": null,
      "outputs": []
    },
    {
      "cell_type": "code",
      "source": [
        "cred_data_ohe.columns"
      ],
      "metadata": {
        "id": "BQGqMGZDLOea"
      },
      "execution_count": null,
      "outputs": []
    },
    {
      "cell_type": "code",
      "source": [
        "# Dropping all the Non-Impactful Features\n",
        "cred_data_ohe.drop(['BILL_AMT1', 'BILL_AMT2', 'BILL_AMT3',\n",
        "       'BILL_AMT4','PAY_1_6','PAY_1_7', 'PAY_1_8','PAY_2_2', 'PAY_2_3','PAY_2_5','PAY_2_6', 'PAY_2_7',\n",
        "       'PAY_2_8', 'PAY_3_3', 'PAY_3_4', 'PAY_3_5','PAY_3_6','PAY_3_7', 'PAY_3_8',\n",
        "       'PAY_4_3', 'PAY_4_4','PAY_4_6','PAY_4_7','PAY_4_8','PAY_5_1','PAY_5_3', 'PAY_5_4', 'PAY_5_5',\n",
        "       'PAY_5_6', 'PAY_5_7','PAY_5_8','PAY_6_1','PAY_6_4','PAY_6_5', 'PAY_6_6', 'PAY_6_7', 'PAY_6_8'],axis=1,inplace=True)"
      ],
      "metadata": {
        "id": "cXcZXXT0NBFJ"
      },
      "execution_count": null,
      "outputs": []
    },
    {
      "cell_type": "code",
      "source": [
        "## Function for OLS formula\n",
        "def ols_formula(df, dependent_var, *excluded_cols):\n",
        "    '''\n",
        "    Generates the y~X style formula for statsmodels (patsy) given\n",
        "    the dataframe, dependent variable and optional excluded columns\n",
        "    as strings\n",
        "    '''\n",
        "    df_columns = list(df.columns.values)\n",
        "    df_columns.remove(dependent_var)\n",
        "    for col in excluded_cols:\n",
        "        df_columns.remove(col)\n",
        "    return dependent_var + ' ~ ' + ' + '.join(df_columns)\n",
        "\n",
        "## Function Calling\n",
        "model_formula=ols_formula(cred_data_ohe.iloc[:,1:], dependent_var=\"DEF_PAY\")\n",
        "print(model_formula)"
      ],
      "metadata": {
        "id": "DVll6XQpMsMp"
      },
      "execution_count": null,
      "outputs": []
    },
    {
      "cell_type": "code",
      "source": [
        "import statsmodels.formula.api as sm\n",
        "# Rebuilding Statsmodel for rechecking\n",
        "m1=sm.logit(model_formula,data=cred_data_ohe)\n",
        "results=m1.fit()\n",
        "print(results.summary())"
      ],
      "metadata": {
        "id": "VI1qoiMyMsRB"
      },
      "execution_count": null,
      "outputs": []
    },
    {
      "cell_type": "markdown",
      "source": [
        "- After rechecking of the features 'BILL_AMT5','PAY_4_5','PAY_6_3' are having  pvalues >=0.05 so considering them as Non-impactful features and dropping them."
      ],
      "metadata": {
        "id": "DKFY01nYfdZW"
      }
    },
    {
      "cell_type": "code",
      "source": [
        "cred_data_ohe.drop(['BILL_AMT5','PAY_4_5','PAY_6_3'],axis=1,inplace=True)"
      ],
      "metadata": {
        "id": "hALJoj9Y_7wb"
      },
      "execution_count": null,
      "outputs": []
    },
    {
      "cell_type": "code",
      "source": [
        "## OLS formula Function Calling\n",
        "model_formula=ols_formula(cred_data_ohe.iloc[:,1:], dependent_var=\"DEF_PAY\")\n",
        "print(model_formula)"
      ],
      "metadata": {
        "id": "4KxhZP98AQSn"
      },
      "execution_count": null,
      "outputs": []
    },
    {
      "cell_type": "code",
      "source": [
        "import statsmodels.formula.api as sm\n",
        "# Rebuilding Statsmodel for rechecking\n",
        "m1=sm.logit(model_formula,data=cred_data_ohe)\n",
        "results=m1.fit()\n",
        "print(results.summary())"
      ],
      "metadata": {
        "id": "PWeMB8YfANJn"
      },
      "execution_count": null,
      "outputs": []
    },
    {
      "cell_type": "markdown",
      "source": [
        "- After rechecking of the features 'PAY_6_2' is having  pvalues >=0.05 so considering it as Non-impactful feature and dropping it."
      ],
      "metadata": {
        "id": "xgJM0QXWkYQU"
      }
    },
    {
      "cell_type": "code",
      "source": [
        "cred_data_ohe.drop(['PAY_6_2'],axis=1,inplace=True)"
      ],
      "metadata": {
        "id": "oyVvWKfTAjLw"
      },
      "execution_count": null,
      "outputs": []
    },
    {
      "cell_type": "code",
      "source": [
        "## OLS formula Function Calling\n",
        "model_formula=ols_formula(cred_data_ohe.iloc[:,1:], dependent_var=\"DEF_PAY\")\n",
        "print(model_formula)"
      ],
      "metadata": {
        "id": "ed0IBcy2ArZQ"
      },
      "execution_count": null,
      "outputs": []
    },
    {
      "cell_type": "code",
      "source": [
        "import statsmodels.formula.api as sm\n",
        "\n",
        "m1=sm.logit(model_formula,data=cred_data_ohe)\n",
        "results=m1.fit()\n",
        "print(results.summary())"
      ],
      "metadata": {
        "id": "-ccsQuGJA1ov"
      },
      "execution_count": null,
      "outputs": []
    },
    {
      "cell_type": "markdown",
      "source": [
        "- Keeping these features as they are impactful and all of them are having Pvalue < 0.05"
      ],
      "metadata": {
        "id": "yST98y4pgeWg"
      }
    },
    {
      "cell_type": "markdown",
      "source": [
        "### Checking Multicolinearity"
      ],
      "metadata": {
        "id": "2gqXkfDkWLC8"
      }
    },
    {
      "cell_type": "code",
      "source": [
        "import statsmodels.formula.api as sm\n",
        "\n",
        "def vif_cal(input_data, dependent_col):\n",
        "    x_vars=input_data.drop([dependent_col], axis=1)\n",
        "    xvar_names=x_vars.columns\n",
        "    for i in range(0,xvar_names.shape[0]):\n",
        "        y=x_vars[xvar_names[i]] \n",
        "        x=x_vars[xvar_names.drop(xvar_names[i])]\n",
        "        rsq=sm.ols(formula=\"y~x\", data=x_vars).fit().rsquared  \n",
        "        vif=round(1/(1-rsq),2)\n",
        "        print (xvar_names[i], \" VIF = \" , vif)"
      ],
      "metadata": {
        "id": "ub11jt_MRlW3"
      },
      "execution_count": null,
      "outputs": []
    },
    {
      "cell_type": "code",
      "source": [
        "# Calculating VIF\n",
        "vif_cal(input_data=cred_data_ohe, dependent_col=\"DEF_PAY\")"
      ],
      "metadata": {
        "id": "ePIJ7dx_RlbJ"
      },
      "execution_count": null,
      "outputs": []
    },
    {
      "cell_type": "markdown",
      "source": [
        "- None of the features are having the VIF>=5 so these features are independent and we can keep them."
      ],
      "metadata": {
        "id": "elNWbzGphL8W"
      }
    },
    {
      "cell_type": "markdown",
      "source": [
        "### Rebuilding the Model "
      ],
      "metadata": {
        "id": "y3VvSewLFT3B"
      }
    },
    {
      "cell_type": "code",
      "source": [
        "X=cred_data_ohe.drop('DEF_PAY',axis=1)\n",
        "y=cred_data_ohe['DEF_PAY']\n",
        "\n",
        "X_train, X_test, y_train, y_test = train_test_split(X, y, test_size=0.2, random_state=50)\n",
        "\n",
        "logistic=LogisticRegression(solver='newton-cg',max_iter=200)\n",
        "# Fitting the target and the features\n",
        "logistic.fit(X_train,y_train)\n",
        "\n",
        "#predict\n",
        "pred2=logistic.predict(X_test)\n",
        "pred3=logistic.predict(X_train)"
      ],
      "metadata": {
        "id": "U3nfYclpBTy9"
      },
      "execution_count": null,
      "outputs": []
    },
    {
      "cell_type": "markdown",
      "source": [
        "### Confusion Matrix,Accuracy,Sensitivity and Specificity"
      ],
      "metadata": {
        "id": "32ikL5qrjErk"
      }
    },
    {
      "cell_type": "code",
      "source": [
        "# Confusion Matrix and Accuracy\n",
        "from sklearn.metrics import confusion_matrix\n",
        "cm=confusion_matrix(y_test,pred2)\n",
        "print(cm,\"\\n\")\n",
        "\n",
        "cm1=confusion_matrix(y_train,pred3)\n",
        "print(cm1,\"\\n\")\n",
        "\n",
        "# Calculating Train Accuracy\n",
        "total1=sum(sum(cm1))\n",
        "accuracy1=(cm1[0,0]+cm1[1,1])/total1\n",
        "print('Train Accuracy=',round(accuracy1*100,2))\n",
        "\n",
        "# Calculating Test Accuracy\n",
        "total=sum(sum(cm))\n",
        "accuracy=(cm[0,0]+cm[1,1])/total\n",
        "print('Test Accuracy=',round(accuracy*100,2))\n",
        "\n",
        "# Calculating Sensitivity\n",
        "Sensitivity=cm[0,0]/(cm[0,0]+cm[0,1])\n",
        "print('Sensitivity-',round(Sensitivity*100,2))\n",
        "\n",
        "# Calculating Specificity\n",
        "Specificity = cm[1,1]/(cm[1,0]+cm[1,1])\n",
        "print('Specificity-',round(Specificity*100,2))"
      ],
      "metadata": {
        "id": "8OPohXjrCnDK"
      },
      "execution_count": null,
      "outputs": []
    },
    {
      "cell_type": "code",
      "source": [
        "from sklearn.metrics import classification_report\n",
        "print(classification_report(y_test,pred2))"
      ],
      "metadata": {
        "id": "cxoiWMq9CoLG"
      },
      "execution_count": null,
      "outputs": []
    },
    {
      "cell_type": "markdown",
      "source": [
        "## Binning Continous Variables"
      ],
      "metadata": {
        "id": "T1-6SCOHnbOi"
      }
    },
    {
      "cell_type": "code",
      "source": [
        "cred_data_ohe.columns"
      ],
      "metadata": {
        "id": "rsbkBacZnDSZ"
      },
      "execution_count": null,
      "outputs": []
    },
    {
      "cell_type": "markdown",
      "source": [
        "### Binning LIMIT_BAL"
      ],
      "metadata": {
        "id": "M6CqP-scbfoO"
      }
    },
    {
      "cell_type": "code",
      "source": [
        "df=pd.qcut(cred_data_ohe['LIMIT_BAL'],q=10)\n",
        "df['bin1']=pd.qcut(cred_data_ohe['LIMIT_BAL'],q=10)\n",
        "df['bin1'].value_counts()"
      ],
      "metadata": {
        "id": "qG4EpCSwnDW0"
      },
      "execution_count": null,
      "outputs": []
    },
    {
      "cell_type": "markdown",
      "source": [
        "### Binning AGE"
      ],
      "metadata": {
        "id": "nmZkJFdFb5Q9"
      }
    },
    {
      "cell_type": "code",
      "source": [
        "df['bin2']=pd.qcut(cred_data_ohe['AGE'],q=10)\n",
        "df['bin2'].value_counts()"
      ],
      "metadata": {
        "id": "D-t4RNhxnDa8"
      },
      "execution_count": null,
      "outputs": []
    },
    {
      "cell_type": "markdown",
      "source": [
        "### Binning BILL_AMT6"
      ],
      "metadata": {
        "id": "N6sCeotXb8FH"
      }
    },
    {
      "cell_type": "code",
      "source": [
        "df['bin3']=pd.qcut(cred_data_ohe['BILL_AMT6'],q=10)\n",
        "df['bin3'].value_counts()"
      ],
      "metadata": {
        "id": "FTy6lEQInDf7"
      },
      "execution_count": null,
      "outputs": []
    },
    {
      "cell_type": "markdown",
      "source": [
        "### Binning PAY_AMT1 to PAY_AMT6"
      ],
      "metadata": {
        "id": "_HWiYxvJcI3j"
      }
    },
    {
      "cell_type": "code",
      "source": [
        "df['bin4']=pd.qcut(cred_data_ohe['PAY_AMT1'],q=10,duplicates='drop')\n",
        "df['bin5']=pd.qcut(cred_data_ohe['PAY_AMT2'],q=10,duplicates='drop')\n",
        "df['bin6']=pd.qcut(cred_data_ohe['PAY_AMT3'],q=10,duplicates='drop')\n",
        "df['bin7']=pd.qcut(cred_data_ohe['PAY_AMT4'],q=10,duplicates='drop')\n",
        "df['bin8']=pd.qcut(cred_data_ohe['PAY_AMT5'],q=10,duplicates='drop')\n",
        "df['bin9']=pd.qcut(cred_data_ohe['PAY_AMT6'],q=10,duplicates='drop')"
      ],
      "metadata": {
        "id": "NJmZg2_j1XdZ"
      },
      "execution_count": null,
      "outputs": []
    },
    {
      "cell_type": "code",
      "source": [
        "# Concatenating all Created bins to form dataset\n",
        "data_bins=pd.concat([df['bin1'],df['bin2'],df['bin3'],df['bin4'],df['bin5'],df['bin6'],df['bin7'],df['bin8'],df['bin9']],axis=1)\n",
        "data_bins.head()"
      ],
      "metadata": {
        "id": "0u3fGqL2A7vP"
      },
      "execution_count": null,
      "outputs": []
    },
    {
      "cell_type": "code",
      "source": [
        "data_bins.columns"
      ],
      "metadata": {
        "id": "dobBhWzqBsPO"
      },
      "execution_count": null,
      "outputs": []
    },
    {
      "cell_type": "markdown",
      "source": [
        "### One Hot Encoding"
      ],
      "metadata": {
        "id": "8GaBRY5Gck-R"
      }
    },
    {
      "cell_type": "code",
      "source": [
        "# Creating dummy variables  \n",
        "data_bin_ohe=pd.get_dummies(data_bins,prefix=['LIMIT_BAL', 'AGE', 'BILL_AMT6', 'PAY_AMT1', 'PAY_AMT2', 'PAY_AMT3',\n",
        "       'PAY_AMT4', 'PAY_AMT5', 'PAY_AMT6'],prefix_sep='_',columns=['LIMIT_BAL', 'AGE', 'BILL_AMT6', 'PAY_AMT1', 'PAY_AMT2', 'PAY_AMT3',\n",
        "       'PAY_AMT4', 'PAY_AMT5', 'PAY_AMT6'],drop_first=True)\n",
        "data_bin_ohe.head(5)"
      ],
      "metadata": {
        "id": "3eOuAhKg1XxB"
      },
      "execution_count": null,
      "outputs": []
    },
    {
      "cell_type": "code",
      "source": [
        "# Concatenating the dummy variables to original dataframe\n",
        "cred_new_bin=pd.concat([cred_data_ohe,data_bin_ohe],axis=1)\n",
        "cred_new_bin.head()"
      ],
      "metadata": {
        "id": "6E6Y6T4W8H8m"
      },
      "execution_count": null,
      "outputs": []
    },
    {
      "cell_type": "code",
      "source": [
        "# Dropping the original variables after creating their bins\n",
        "cred_new_bin.drop(['ID','LIMIT_BAL', 'AGE', 'BILL_AMT6', 'PAY_AMT1', 'PAY_AMT2', 'PAY_AMT3',\n",
        "       'PAY_AMT4', 'PAY_AMT5', 'PAY_AMT6'],axis=1,inplace=True)\n",
        "cred_new_bin.head()"
      ],
      "metadata": {
        "id": "m2ysuqQL8IP4"
      },
      "execution_count": null,
      "outputs": []
    },
    {
      "cell_type": "code",
      "source": [
        "# Lets remove the special Character before building the statsmodel\n",
        "cred_new_bin.rename(columns=lambda s: s.replace(\"(\", \"\"),inplace=True)\n",
        "cred_new_bin.rename(columns=lambda s: s.replace(\",\", \"\"),inplace=True)\n",
        "cred_new_bin.rename(columns=lambda s: s.replace(\"]\", \"\"),inplace=True)\n",
        "cred_new_bin.rename(columns=lambda s: s.replace(\".\", \"\"),inplace=True)\n",
        "cred_new_bin.rename(columns=lambda s: s.replace(\" \", \"_\"),inplace=True)\n",
        "cred_new_bin.head()"
      ],
      "metadata": {
        "id": "cfjeIv3fgJK4"
      },
      "execution_count": null,
      "outputs": []
    },
    {
      "cell_type": "code",
      "source": [
        "## Function for OLS formula\n",
        "def ols_formula(df, dependent_var, *excluded_cols):\n",
        "    '''\n",
        "    Generates the y~X style formula for statsmodels (patsy) given\n",
        "    the dataframe, dependent variable and optional excluded columns\n",
        "    as strings\n",
        "    '''\n",
        "    df_columns = list(df.columns.values)\n",
        "    df_columns.remove(dependent_var)\n",
        "    for col in excluded_cols:\n",
        "        df_columns.remove(col)\n",
        "    return dependent_var + ' ~ ' + ' + '.join(df_columns)\n",
        "\n",
        "## Function Calling\n",
        "model_formula=ols_formula(cred_new_bin.iloc[:,1:], dependent_var=\"DEF_PAY\")\n",
        "print(model_formula)"
      ],
      "metadata": {
        "id": "Acu2Gc9sgUyr"
      },
      "execution_count": null,
      "outputs": []
    },
    {
      "cell_type": "markdown",
      "source": [
        "### Checking Individual Impactness of features"
      ],
      "metadata": {
        "id": "oWmThOgewEWL"
      }
    },
    {
      "cell_type": "code",
      "source": [
        "import statsmodels.formula.api as sm\n",
        "# Building statistical logistic regression model\n",
        "m1=sm.logit(model_formula,data=cred_new_bin)\n",
        "results=m1.fit()\n",
        "print(results.summary())"
      ],
      "metadata": {
        "id": "Wtxn0AIPgU37"
      },
      "execution_count": null,
      "outputs": []
    },
    {
      "cell_type": "code",
      "source": [
        "# Removing all the features having pvalue>=0.05 considering as Non-Impactfull Features\n",
        "cred_new_bin.drop(['PAY_AMT6_20000_2896293','PAY_AMT6_12870_20000','PAY_AMT5_74450_656630','PAY_AMT5_29920_44100','PAY_AMT5_13420_20000','PAY_AMT5_9440_13420',\n",
        "                   'PAY_AMT4_74630_670520','PAY_AMT4_9260_1284872','PAY_AMT3_20110_30000','PAY_AMT3_10850_1570119','PAY_AMT3_625425_10850',\n",
        "                   'PAY_AMT3_87564_625425','PAY_AMT2_25000_3432339','PAY_AMT2_10000_14790','PAY_AMT2_2410_10000','PAY_AMT1_2706_10700',\n",
        "                   'BILL_AMT6_535828_28060','AGE_430_480','AGE_390_430','AGE_370_390','AGE_250_270','LIMIT_BAL_500000_600000'],axis=1,inplace=True)"
      ],
      "metadata": {
        "id": "HJ2vE65CjOh2"
      },
      "execution_count": null,
      "outputs": []
    },
    {
      "cell_type": "code",
      "source": [
        "## Function Calling\n",
        "model_formula=ols_formula(cred_new_bin.iloc[:,1:], dependent_var=\"DEF_PAY\")\n",
        "print(model_formula)\n",
        "\n",
        "import statsmodels.formula.api as sm\n",
        "# Building statistical logistic regression model\n",
        "m1=sm.logit(model_formula,data=cred_new_bin)\n",
        "results=m1.fit()\n",
        "print(results.summary())"
      ],
      "metadata": {
        "id": "0A6ibQ4jjOxH"
      },
      "execution_count": null,
      "outputs": []
    },
    {
      "cell_type": "code",
      "source": [
        "# Removing all the features having pvalue>=0.05 considering as Non-Impactfull Features\n",
        "cred_new_bin.drop(['AGE_270_290','BILL_AMT6_28060_92970','BILL_AMT6_92970_170710',\n",
        "                   'BILL_AMT6_170710_244920','PAY_AMT6_4000_8700'],axis=1,inplace=True)"
      ],
      "metadata": {
        "id": "4ZN_vrmTjO8e"
      },
      "execution_count": null,
      "outputs": []
    },
    {
      "cell_type": "code",
      "source": [
        "## Function Calling\n",
        "model_formula=ols_formula(cred_new_bin.iloc[:,1:], dependent_var=\"DEF_PAY\")\n",
        "print(model_formula)\n",
        "\n",
        "import statsmodels.formula.api as sm\n",
        "# Building statistical logistic regression model\n",
        "m1=sm.logit(model_formula,data=cred_new_bin)\n",
        "results=m1.fit()\n",
        "print(results.summary())"
      ],
      "metadata": {
        "id": "AwPNRCYJsYPA"
      },
      "execution_count": null,
      "outputs": []
    },
    {
      "cell_type": "code",
      "source": [
        "# Removing all the features having pvalue>=0.05 considering as Non-Impactfull Features\n",
        "cred_new_bin.drop(['BILL_AMT6_363250_58092923'],axis=1,inplace=True)"
      ],
      "metadata": {
        "id": "FLIUl41ksn-W"
      },
      "execution_count": null,
      "outputs": []
    },
    {
      "cell_type": "code",
      "source": [
        "## Function Calling\n",
        "model_formula=ols_formula(cred_new_bin.iloc[:,1:], dependent_var=\"DEF_PAY\")\n",
        "print(model_formula)\n",
        "\n",
        "import statsmodels.formula.api as sm\n",
        "# Building statistical logistic regression model\n",
        "m1=sm.logit(model_formula,data=cred_new_bin)\n",
        "results=m1.fit()\n",
        "print(results.summary())"
      ],
      "metadata": {
        "id": "Zxbz2Z43s1Zm"
      },
      "execution_count": null,
      "outputs": []
    },
    {
      "cell_type": "code",
      "source": [
        "# Removing all the features having pvalue>=0.05 considering as Non-Impactfull Features\n",
        "cred_new_bin.drop(['BILL_AMT6_244920_363250'],axis=1,inplace=True)"
      ],
      "metadata": {
        "id": "Pt2r9EottFQY"
      },
      "execution_count": null,
      "outputs": []
    },
    {
      "cell_type": "code",
      "source": [
        "## Function Calling\n",
        "model_formula=ols_formula(cred_new_bin.iloc[:,1:], dependent_var=\"DEF_PAY\")\n",
        "print(model_formula)\n",
        "\n",
        "import statsmodels.formula.api as sm\n",
        "# Building statistical logistic regression model\n",
        "m1=sm.logit(model_formula,data=cred_new_bin)\n",
        "results=m1.fit()\n",
        "print(results.summary())"
      ],
      "metadata": {
        "id": "6AJrJ4YKtFV0"
      },
      "execution_count": null,
      "outputs": []
    },
    {
      "cell_type": "markdown",
      "source": [
        "- All the features are impactful as they all of them are having Pvalue < 0.05"
      ],
      "metadata": {
        "id": "w5QMLUddwpwt"
      }
    },
    {
      "cell_type": "markdown",
      "source": [
        "### Checking MultiColinearity"
      ],
      "metadata": {
        "id": "rEMVEq1_vyj7"
      }
    },
    {
      "cell_type": "code",
      "source": [
        "import statsmodels.formula.api as sm\n",
        "\n",
        "def vif_cal(input_data, dependent_col):\n",
        "    x_vars=input_data.drop([dependent_col], axis=1)\n",
        "    xvar_names=x_vars.columns\n",
        "    for i in range(0,xvar_names.shape[0]):\n",
        "        y=x_vars[xvar_names[i]] \n",
        "        x=x_vars[xvar_names.drop(xvar_names[i])]\n",
        "        rsq=sm.ols(formula=\"y~x\", data=x_vars).fit().rsquared  \n",
        "        vif=round(1/(1-rsq),2)\n",
        "        print (xvar_names[i], \" VIF = \" , vif)"
      ],
      "metadata": {
        "id": "vj8zO2O_tFcD"
      },
      "execution_count": null,
      "outputs": []
    },
    {
      "cell_type": "code",
      "source": [
        "# Calculating VIF\n",
        "vif_cal(input_data=cred_new_bin, dependent_col=\"DEF_PAY\")"
      ],
      "metadata": {
        "id": "CIaM1Ku-tewi"
      },
      "execution_count": null,
      "outputs": []
    },
    {
      "cell_type": "markdown",
      "source": [
        "- None of the features are having the VIF>=5 so these features are independent and we can keep them."
      ],
      "metadata": {
        "id": "GYcsGQcNxIKQ"
      }
    },
    {
      "cell_type": "markdown",
      "source": [
        "### Building Logistic Regression Model"
      ],
      "metadata": {
        "id": "InerdEIedmA8"
      }
    },
    {
      "cell_type": "code",
      "source": [
        "X=cred_new_bin.drop(['DEF_PAY'],axis=1)\n",
        "y=cred_new_bin['DEF_PAY']\n",
        "\n",
        "# Importing the package\n",
        "from sklearn.model_selection import train_test_split\n",
        "\n",
        "# Using train_test_split() function to split the whole data to train data of 80% and test data of 20%.\n",
        "X_train, X_test, y_train, y_test = train_test_split(X, y, test_size=0.2, random_state=50)\n",
        "\n",
        "# Importing the Library\n",
        "from sklearn.linear_model import LogisticRegression\n",
        "\n",
        "logistic=LogisticRegression(max_iter=200)\n",
        "\n",
        "# Building a Multiple Logistic Regression Model by fitting the target and the features\n",
        "logistic.fit(X_train,y_train)\n",
        "\n",
        "# Prediction of target using the features\n",
        "predict=logistic.predict(X_test)\n",
        "predict"
      ],
      "metadata": {
        "id": "H-Kme3wzDpD9"
      },
      "execution_count": null,
      "outputs": []
    },
    {
      "cell_type": "markdown",
      "source": [
        "### Confusion Matrix,Accuracy,Sensitivity and Specificity"
      ],
      "metadata": {
        "id": "w_f2AZVYdxPe"
      }
    },
    {
      "cell_type": "code",
      "source": [
        "# Confusion Matrix and Accuracy\n",
        "from sklearn.metrics import confusion_matrix\n",
        "\n",
        "# Prediction of target using the train features\n",
        "predict2=logistic.predict(X_train)\n",
        "\n",
        "# Confusion Matrix for train data\n",
        "cm1=confusion_matrix(y_train,predict2)\n",
        "print(cm1)\n",
        "\n",
        "# Confusion Matrix for test data\n",
        "cm=confusion_matrix(y_test,predict)\n",
        "print(cm)\n",
        "\n",
        "# Train Accuracy\n",
        "total1=sum(sum(cm1))\n",
        "accuracy1=(cm1[0,0]+cm1[1,1])/total1\n",
        "print('Train Accuracy=',round(accuracy1*100,2))\n",
        "\n",
        "# Test Accuracy\n",
        "total=sum(sum(cm))\n",
        "accuracy=(cm[0,0]+cm[1,1])/total\n",
        "print('Test Accuracy=',round(accuracy*100,2))\n",
        "\n",
        "# Calculating Sensitivity\n",
        "Sensitivity=cm[0,0]/(cm[0,0]+cm[0,1])\n",
        "print('Sensitivity-',round(Sensitivity*100,2))\n",
        "\n",
        "# Calculating Specificity\n",
        "Specificity = cm[1,1]/(cm[1,0]+cm[1,1])\n",
        "print('Specificity-',round(Specificity*100,2))"
      ],
      "metadata": {
        "id": "W5XSZNkCDpMs"
      },
      "execution_count": null,
      "outputs": []
    },
    {
      "cell_type": "markdown",
      "source": [
        "- After Binning the continous variables the Specificity and the overall accuracy has been increased a bit"
      ],
      "metadata": {
        "id": "Q-qQrpuQeBPt"
      }
    },
    {
      "cell_type": "markdown",
      "source": [
        "# Decision Tree Model"
      ],
      "metadata": {
        "id": "SFVVVcQ6Jxym"
      }
    },
    {
      "cell_type": "markdown",
      "source": [
        "- Creating a train and test split of the dataset to quickly evaluate the performance of an algorithm on the problem."
      ],
      "metadata": {
        "id": "k2SM8-a1fH70"
      }
    },
    {
      "cell_type": "code",
      "source": [
        "# Creating X array that will contain features and y array will contain the target vector\n",
        "X=cred_new_smote.drop('DEF_PAY',axis=1)\n",
        "y=cred_new_smote['DEF_PAY']\n",
        "\n",
        "# Importing the package\n",
        "from sklearn.model_selection import train_test_split\n",
        "\n",
        "# Using train_test_split() function to split the whole data to train data of 80% and test data of 20%.\n",
        "X_train, X_test, y_train, y_test = train_test_split(X, y, test_size=0.2, random_state=50)\n",
        "\n",
        "# Checking the shapes of the train and test data\n",
        "print('X_train',X_train.shape)\n",
        "print('X_test',X_test.shape)\n",
        "print('y_train',y_train.shape)\n",
        "print('y_test',y_test.shape)"
      ],
      "metadata": {
        "id": "eQQY1eVtJwgf"
      },
      "execution_count": null,
      "outputs": []
    },
    {
      "cell_type": "code",
      "source": [
        "#Building Tree Model\n",
        "from sklearn.tree import DecisionTreeClassifier\n",
        "\n",
        "# Instantiating the DecisionTreeClassifier and keeping the max_depth as 8(choosen by fine tuning the pruning parameter) for optimal IGV\n",
        "DTree = DecisionTreeClassifier(max_depth=8)\n",
        "\n",
        "# Building a Decision Tree Model by fitting the train target and the train features\n",
        "DTree.fit(X_train,y_train)"
      ],
      "metadata": {
        "id": "WO05fGtlbCTo"
      },
      "execution_count": null,
      "outputs": []
    },
    {
      "cell_type": "code",
      "source": [
        "#Plotting the trees \n",
        "import matplotlib.pyplot as plt\n",
        "from sklearn.tree import plot_tree,export_text\n",
        "plt.figure(figsize=(20,10))\n",
        "plot_tree(DTree, filled=True,rounded=True,impurity=False,feature_names=list(X_train.columns))\n",
        "print(export_text(DTree,feature_names=list(X_train.columns)))"
      ],
      "metadata": {
        "id": "QyhjQ_gsJwku"
      },
      "execution_count": null,
      "outputs": []
    },
    {
      "cell_type": "code",
      "source": [
        "# Predicting the target using the test data features\n",
        "pred_dtree=DTree.predict(X_test)\n",
        "pred_dtree"
      ],
      "metadata": {
        "id": "BE5buVsdJwo_"
      },
      "execution_count": null,
      "outputs": []
    },
    {
      "cell_type": "markdown",
      "source": [
        "#Model Validation"
      ],
      "metadata": {
        "id": "BbejySxMl4t4"
      }
    },
    {
      "cell_type": "markdown",
      "source": [
        "## Confusion Matrix and Accuracy"
      ],
      "metadata": {
        "id": "Zw1Hc0gRESgt"
      }
    },
    {
      "cell_type": "code",
      "source": [
        "# Importing confusion_matrix\n",
        "from sklearn.metrics import confusion_matrix\n",
        "\n",
        "# Creating Confusion Matrix using the test data and the predicted value\n",
        "cm=confusion_matrix(y_test,pred_dtree)\n",
        "print(cm)\n",
        "\n",
        "# Calculating the accuracy of the predicted value of the test data\n",
        "total=sum(sum(cm))\n",
        "accuracy=(cm[0,0]+cm[1,1])/total\n",
        "print('Accuracy=',round(accuracy*100,2))\n",
        "\n",
        "# Calculating Sensitivity\n",
        "Sensitivity=cm[0,0]/(cm[0,0]+cm[0,1])\n",
        "print('Sensitivity-',round(Sensitivity*100,2))\n",
        "\n",
        "# Calculating Specificity\n",
        "Specificity = cm[1,1]/(cm[1,0]+cm[1,1])\n",
        "print('Specificity-',round(Specificity*100,2))"
      ],
      "metadata": {
        "id": "ZCLTI0w8JwrY"
      },
      "execution_count": null,
      "outputs": []
    },
    {
      "cell_type": "markdown",
      "source": [
        "## Checking for Overfiiting and Underfitting of Model"
      ],
      "metadata": {
        "id": "HbwZpv4gmaiP"
      }
    },
    {
      "cell_type": "code",
      "source": [
        "# Predicting the target using the train data features\n",
        "pred_dtree1=DTree.predict(X_train)\n",
        "\n",
        "# Creating Confusion matrix using the train data and the predicted value\n",
        "cm1=confusion_matrix(y_train,pred_dtree1)\n",
        "print(cm1)\n",
        "\n",
        "# Calculating the accuracy of the train data\n",
        "total1=sum(sum(cm1))\n",
        "accuracy1=(cm1[0,0]+cm1[1,1])/total1\n",
        "print('Train Accuracy=',round(accuracy1*100,2))\n",
        "\n",
        "# Calculating the accuracy of the test data\n",
        "total=sum(sum(cm))\n",
        "accuracy=(cm[0,0]+cm[1,1])/total\n",
        "print('Test Accuracy=',round(accuracy*100,2))"
      ],
      "metadata": {
        "id": "eUF7iy_eUenI"
      },
      "execution_count": null,
      "outputs": []
    },
    {
      "cell_type": "markdown",
      "source": [
        "## K-Fold Cross Validation"
      ],
      "metadata": {
        "id": "9s4lHGcBxGqE"
      }
    },
    {
      "cell_type": "code",
      "source": [
        "#Simple K-Fold cross validation. 10 folds.\n",
        "from sklearn.model_selection import KFold\n",
        "kfold_models = KFold(n_splits=10)\n",
        "\n",
        "from sklearn import model_selection\n",
        "scores = model_selection.cross_val_score(DTree,X, y,cv=kfold_models)\n",
        "print(scores)\n",
        "print(\"Avg K-Fold Accuracy\", scores.mean())"
      ],
      "metadata": {
        "id": "4C4hdBdlwgGS"
      },
      "execution_count": null,
      "outputs": []
    },
    {
      "cell_type": "markdown",
      "source": [
        "- There can be a situation of overfitting on train data as well as test data and model may memorize the train and test to check this we can use K-Fold Cross Validation\n"
      ],
      "metadata": {
        "id": "RZ3BxQPUyYvi"
      }
    },
    {
      "cell_type": "markdown",
      "source": [
        "# Random Forest"
      ],
      "metadata": {
        "id": "Zuj4z0jTQXmS"
      }
    },
    {
      "cell_type": "markdown",
      "source": [
        "## Building Random Forest "
      ],
      "metadata": {
        "id": "8sE23Vqq9RNH"
      }
    },
    {
      "cell_type": "code",
      "source": [
        "X=cred_new_smote.drop('DEF_PAY',axis=1)\n",
        "y=cred_new_smote['DEF_PAY']\n",
        "\n",
        "# Importing the package\n",
        "from sklearn.model_selection import train_test_split\n",
        "\n",
        "# Using train_test_split() function to split the whole data to train data of 80% and test data of 20%.\n",
        "X_train, X_test, y_train, y_test = train_test_split(X, y, test_size=0.2,random_state=50)\n",
        "\n",
        "from sklearn.ensemble import RandomForestClassifier\n",
        "\n",
        "start_time = time.time()\n",
        "\n",
        "forest=RandomForestClassifier(n_estimators=100,max_features=7,max_depth=10,random_state=42)\n",
        "\n",
        "forest.fit(X_train,y_train)\n",
        "\n",
        "prediction=forest.predict(X_train)\n",
        "\n",
        "print(\"Time taken by Random Forest \"+ str((time.time() - start_time))+ \" Seconds\")"
      ],
      "metadata": {
        "id": "WBIr96hgQWjx"
      },
      "execution_count": null,
      "outputs": []
    },
    {
      "cell_type": "markdown",
      "source": [
        "## Confusion Matrix,Accuracy,Sensitivityand Specificity"
      ],
      "metadata": {
        "id": "_Ms7rG-4-QMb"
      }
    },
    {
      "cell_type": "code",
      "source": [
        "# Importing confusion_matrix\n",
        "from sklearn.metrics import confusion_matrix\n",
        "\n",
        "# Creating Confusion Matrix using the test data and the predicted value\n",
        "cm=confusion_matrix(y_train,prediction)\n",
        "print(cm)\n",
        "\n",
        "# Calculating the accuracy of the predicted value of the test data\n",
        "total=sum(sum(cm))\n",
        "accuracy=(cm[0,0]+cm[1,1])/total\n",
        "print('Accuracy=',round(accuracy*100,2))\n",
        "\n",
        "# Calculating Sensitivity\n",
        "Sensitivity=cm[0,0]/(cm[0,0]+cm[0,1])\n",
        "print('Sensitivity-',round(Sensitivity*100,2))\n",
        "\n",
        "# Calculating Specificity\n",
        "Specificity = cm[1,1]/(cm[1,0]+cm[1,1])\n",
        "print('Specificity-',round(Specificity*100,2))"
      ],
      "metadata": {
        "id": "EK1eGLtrQWp_"
      },
      "execution_count": null,
      "outputs": []
    },
    {
      "cell_type": "code",
      "source": [
        "# Predicting the target using the test data features\n",
        "prediction1=forest.predict(X_test)\n",
        "\n",
        "# Creating Confusion matrix using the test data and the predicted value\n",
        "cm1=confusion_matrix(y_test,prediction1)\n",
        "print(cm1)\n",
        "\n",
        "# Calculating the accuracy of the train data\n",
        "total=sum(sum(cm))\n",
        "accuracy=(cm[0,0]+cm[1,1])/total\n",
        "print('Train Accuracy=',round(accuracy*100,2))\n",
        "\n",
        "# Calculating the accuracy of the test data\n",
        "total1=sum(sum(cm1))\n",
        "accuracy1=(cm1[0,0]+cm1[1,1])/total1\n",
        "print('Test Accuracy=',round(accuracy1*100,2))"
      ],
      "metadata": {
        "id": "9b1ZweHbQWwH"
      },
      "execution_count": null,
      "outputs": []
    },
    {
      "cell_type": "markdown",
      "source": [
        "## Findings\n",
        "- After hyperparameter tuning we have accuracy of\n",
        "Train Accuracy= 81\n",
        "Test Accuracy= 78 but the specificity which is most important is more that the decsion tree model.\n",
        "\n",
        "- We have highest accuracy on the training data and matching accuracy on the test data its a good model to finalise but before finalising this RF model lets use Boosting Algorithm and see if it leads to better accuracy and Specificity or not."
      ],
      "metadata": {
        "id": "3DTZHS2wnNCT"
      }
    },
    {
      "cell_type": "markdown",
      "source": [
        "# XGBOOST"
      ],
      "metadata": {
        "id": "UEGjuNS_ywAC"
      }
    },
    {
      "cell_type": "markdown",
      "source": [
        "## XGBOOST Model Building"
      ],
      "metadata": {
        "id": "ERHnPx-s8lN4"
      }
    },
    {
      "cell_type": "code",
      "source": [
        "X=cred_new_smote.drop('DEF_PAY',axis=1)\n",
        "y=cred_new_smote['DEF_PAY']\n",
        "\n",
        "# Importing the package\n",
        "from xgboost import XGBClassifier\n",
        "import time\n",
        "\n",
        "start_time = time.time()\n",
        "\n",
        "# Building XGB model for binary classification\n",
        "model_new=XGBClassifier(n_estimators=100,max_depth=5,learning_rate=0.1,eval_metric='error',\n",
        "                        early_stopping_rounds=4,tree_method='hist')\n",
        "\n",
        "model_new.fit(X_train,y_train)\n",
        "\n",
        "predict2=model_new.predict(X_train)\n",
        "\n",
        "print(\"Time taken by XGB \"+ str((time.time() - start_time))+ \" Seconds\")"
      ],
      "metadata": {
        "id": "qaQ7g0jQIph_"
      },
      "execution_count": null,
      "outputs": []
    },
    {
      "cell_type": "markdown",
      "source": [
        "## Checking Accuracy,Sensitivity and Specificity"
      ],
      "metadata": {
        "id": "bG8rWqfK80gX"
      }
    },
    {
      "cell_type": "code",
      "source": [
        "# Importing confusion_matrix\n",
        "from sklearn.metrics import confusion_matrix\n",
        "\n",
        "# Creating Confusion Matrix using the train data and the predicted value\n",
        "cm=confusion_matrix(y_train,predict2)\n",
        "print(cm)\n",
        "\n",
        "# Calculating the accuracy of the predicted value of the test data\n",
        "total=sum(sum(cm))\n",
        "accuracy=(cm[0,0]+cm[1,1])/total\n",
        "print('Accuracy=',round(accuracy*100,2))\n",
        "\n",
        "# Calculating Sensitivity\n",
        "Sensitivity=cm[0,0]/(cm[0,0]+cm[0,1])\n",
        "print('Sensitivity-',round(Sensitivity*100,2))\n",
        "\n",
        "# Calculating Specificity\n",
        "Specificity = cm[1,1]/(cm[1,0]+cm[1,1])\n",
        "print('Specificity-',round(Specificity*100,2))"
      ],
      "metadata": {
        "id": "R3WM76b5WSzm"
      },
      "execution_count": null,
      "outputs": []
    },
    {
      "cell_type": "code",
      "source": [
        "# Predicting the target using the train data features\n",
        "predict3=model_new.predict(X_test)\n",
        "\n",
        "# Creating Confusion matrix using the test data and the predicted value\n",
        "cm1=confusion_matrix(y_test,predict3)\n",
        "print(cm1)\n",
        "\n",
        "# Calculating the accuracy of the train data\n",
        "total=sum(sum(cm))\n",
        "accuracy=(cm[0,0]+cm[1,1])/total\n",
        "print('Train Accuracy=',round(accuracy*100,2))\n",
        "\n",
        "# Calculating the accuracy of the test data\n",
        "total1=sum(sum(cm1))\n",
        "accuracy1=(cm1[0,0]+cm1[1,1])/total1\n",
        "print('Test Accuracy=',round(accuracy1*100,2))"
      ],
      "metadata": {
        "id": "2URwe_zRZYDg"
      },
      "execution_count": null,
      "outputs": []
    },
    {
      "cell_type": "markdown",
      "source": [
        "## Findings\n",
        "- From the train and test data accuracy we can conclude that the the model shows good accuracy on the train data and also on the test data\n",
        "so there will be no problem of overfitting and underfitting.\n",
        "\n",
        "- XGBoost Method gives almost equal  Specificity and Accuracy as compared to the Random Forest Method but the only difference is the computational time of XGBoost is 1.8 Sec which way more less than the computational time of Random Forest Algorithm that is nearly 12 secs So Looking a the results we can Finalize this XGBoostModel.\n"
      ],
      "metadata": {
        "id": "6NaV0isH1AY_"
      }
    },
    {
      "cell_type": "code",
      "source": [
        "# Classification Report for Checking Recall Precision and F1-Score\n",
        "from sklearn.metrics import classification_report\n",
        "print(classification_report(y_train,predict2))"
      ],
      "metadata": {
        "id": "oDElic_LCruW"
      },
      "execution_count": null,
      "outputs": []
    },
    {
      "cell_type": "markdown",
      "source": [
        "# Model Deployment\n",
        "Optional step"
      ],
      "metadata": {
        "id": "I3t1p0r1RPnH"
      }
    },
    {
      "cell_type": "code",
      "source": [],
      "metadata": {
        "id": "qYC-bW0HRStG"
      },
      "execution_count": null,
      "outputs": []
    },
    {
      "cell_type": "code",
      "source": [],
      "metadata": {
        "id": "r4xKeAlYRS5_"
      },
      "execution_count": null,
      "outputs": []
    }
  ]
}