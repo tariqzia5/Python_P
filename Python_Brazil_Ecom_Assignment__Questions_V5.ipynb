{
  "nbformat": 4,
  "nbformat_minor": 0,
  "metadata": {
    "colab": {
      "provenance": [],
      "include_colab_link": true
    },
    "kernelspec": {
      "name": "python3",
      "display_name": "Python 3"
    },
    "language_info": {
      "name": "python"
    }
  },
  "cells": [
    {
      "cell_type": "markdown",
      "metadata": {
        "id": "view-in-github",
        "colab_type": "text"
      },
      "source": [
        "<a href=\"https://colab.research.google.com/github/tariqzia5/Python_P/blob/main/Python_Brazil_Ecom_Assignment__Questions_V5.ipynb\" target=\"_parent\"><img src=\"https://colab.research.google.com/assets/colab-badge.svg\" alt=\"Open In Colab\"/></a>"
      ]
    },
    {
      "cell_type": "markdown",
      "metadata": {
        "id": "uffx75UE4vjB"
      },
      "source": [
        "# Dataset Information"
      ]
    },
    {
      "cell_type": "markdown",
      "metadata": {
        "id": "fUxv_UTE41V3"
      },
      "source": [
        "This is a Brazilian ecommerce public dataset of orders made at Olist Store. The dataset has information of 100k orders from 2016 to 2018 made at multiple marketplaces in Brazil. Its features allows viewing an order from multiple dimensions: from order status, price, payment and freight performance to customer location, product attributes and finally reviews written by customers. We also released a geolocation dataset that relates Brazilian zip codes to lat/lng coordinates.\n",
        "\n",
        "This is real commercial data, it has been anonymised, and references to the companies and partners in the review text have been replaced"
      ]
    },
    {
      "cell_type": "markdown",
      "metadata": {
        "id": "HP4E_3MjePwu"
      },
      "source": [
        "# 1.Download the datasets. Read all the files as pandas dataframes.Display basic information"
      ]
    },
    {
      "cell_type": "code",
      "execution_count": null,
      "metadata": {
        "id": "YGDY36_idcBb"
      },
      "outputs": [],
      "source": [
        "#Code for importing the datasets\n",
        "import pandas as pd\n",
        "input_path=\"https://raw.githubusercontent.com/venkatareddykonasani/Datasets/master/Brazil_Ecom_Data/\"\n",
        "df_item = pd.read_csv(input_path+\"/olist_order_items_dataset.csv\")\n",
        "df_reviews = pd.read_csv(input_path+\"/olist_order_reviews_dataset.csv\")\n",
        "df_orders = pd.read_csv(input_path+\"/olist_orders_dataset.csv\")\n",
        "df_products = pd.read_csv(input_path+\"/olist_products_dataset.csv\")\n",
        "df_geolocation = pd.read_csv(input_path+\"/olist_geolocation_dataset.zip\", compression='zip')\n",
        "df_sellers = pd.read_csv(input_path+\"/olist_sellers_dataset.csv\")\n",
        "df_order_pay = pd.read_csv(input_path+\"/olist_order_payments_dataset.csv\")\n",
        "df_customers = pd.read_csv(input_path+\"/olist_customers_dataset.csv\")\n",
        "df_category = pd.read_csv(input_path+\"/product_category_name_translation.csv\")"
      ]
    },
    {
      "cell_type": "code",
      "source": [],
      "metadata": {
        "id": "dfp8Px6y2c2P"
      },
      "execution_count": null,
      "outputs": []
    },
    {
      "cell_type": "code",
      "source": [],
      "metadata": {
        "id": "HHMSQEz02c_L"
      },
      "execution_count": null,
      "outputs": []
    },
    {
      "cell_type": "markdown",
      "metadata": {
        "id": "evBx-kJhePxr"
      },
      "source": [
        "#2.Look the Schema below and Create the Full dataFrame using joins. Olist_Oders_dataset is the main dataset. Join the rest of the tables to this table . Skip merging `olist_geolocation_dataset.csv`. \n",
        "The shape of the final table will be (119151, 39)\n",
        "![Schema](https://i.imgur.com/HRhd2Y0.png)"
      ]
    },
    {
      "cell_type": "code",
      "source": [],
      "metadata": {
        "id": "Uq9xR-Aa2lF-"
      },
      "execution_count": null,
      "outputs": []
    },
    {
      "cell_type": "code",
      "source": [],
      "metadata": {
        "id": "At4OMlxG2lNw"
      },
      "execution_count": null,
      "outputs": []
    },
    {
      "cell_type": "markdown",
      "metadata": {
        "id": "4Uyr5NbrePyL"
      },
      "source": [
        "#3.Show the head() of the dataframe and print the transpaose"
      ]
    },
    {
      "cell_type": "code",
      "source": [],
      "metadata": {
        "id": "6nvPQUA22mrv"
      },
      "execution_count": null,
      "outputs": []
    },
    {
      "cell_type": "code",
      "source": [],
      "metadata": {
        "id": "jSEMLWro2myF"
      },
      "execution_count": null,
      "outputs": []
    },
    {
      "cell_type": "markdown",
      "metadata": {
        "id": "811ElNmNePzx"
      },
      "source": [
        "#4.Use single line code to print missing values and number of unique values in each column."
      ]
    },
    {
      "cell_type": "code",
      "source": [],
      "metadata": {
        "id": "xSMm5Lir2n_I"
      },
      "execution_count": null,
      "outputs": []
    },
    {
      "cell_type": "code",
      "source": [],
      "metadata": {
        "id": "hBWE8ZjP2oHL"
      },
      "execution_count": null,
      "outputs": []
    },
    {
      "cell_type": "markdown",
      "metadata": {
        "id": "mwpoz4KPeP0F"
      },
      "source": [
        "#5.Use `.iloc[]` to select First 8 columns and row indices from 10000-12000. Write shortest code."
      ]
    },
    {
      "cell_type": "code",
      "source": [],
      "metadata": {
        "id": "AEV_6W0I2rL9"
      },
      "execution_count": null,
      "outputs": []
    },
    {
      "cell_type": "code",
      "source": [],
      "metadata": {
        "id": "SZ8F8ozY2rTx"
      },
      "execution_count": null,
      "outputs": []
    },
    {
      "cell_type": "markdown",
      "metadata": {
        "id": "lFOmeuZLeP0Q"
      },
      "source": [
        "#6.Now use .loc[] to select First 4 columns and row indices from 10000-12000. Write shortest code."
      ]
    },
    {
      "cell_type": "code",
      "source": [],
      "metadata": {
        "id": "HMEW_S3R2sqY"
      },
      "execution_count": null,
      "outputs": []
    },
    {
      "cell_type": "code",
      "source": [],
      "metadata": {
        "id": "oqGM4hTr2sx1"
      },
      "execution_count": null,
      "outputs": []
    },
    {
      "cell_type": "markdown",
      "metadata": {
        "id": "cRv_udHBeP0X"
      },
      "source": [
        "#7.Convert all the date columns to datetime objects. (Hint - use apply function on dataframe)"
      ]
    },
    {
      "cell_type": "code",
      "source": [],
      "metadata": {
        "id": "r1nfmY0S2uvg"
      },
      "execution_count": null,
      "outputs": []
    },
    {
      "cell_type": "code",
      "source": [],
      "metadata": {
        "id": "ZxkPIV-z2u3S"
      },
      "execution_count": null,
      "outputs": []
    },
    {
      "cell_type": "markdown",
      "metadata": {
        "id": "ObPJIc6IeP0r"
      },
      "source": [
        "#8.Create a subset with condition(s), using least lines of code possible:\n",
        "1. Delivery was made within 5 days after order. Use: `order_purchase_timestamp`, `order_delivered_customer_date`\n",
        "2. Review Score was less than or equal to 2. Use: `review_score` column\n",
        "3. price was more than 199\n",
        "4. and select only these columns: 'order_id' , 'customer_id', 'product_id', 'price', 'review_score', 'product_category_name', 'product_weight_g'"
      ]
    },
    {
      "cell_type": "code",
      "source": [],
      "metadata": {
        "id": "Sdc7J6or2wXb"
      },
      "execution_count": null,
      "outputs": []
    },
    {
      "cell_type": "code",
      "source": [],
      "metadata": {
        "id": "9lCaeUMp2wgb"
      },
      "execution_count": null,
      "outputs": []
    },
    {
      "cell_type": "markdown",
      "metadata": {
        "id": "lKWnt3mieP04"
      },
      "source": [
        "#9.Find the subset where `review_comment_message` Doesn't have word ` ruim`.\n",
        "in Portuguese `ruim` means `bad` or `ruined`"
      ]
    },
    {
      "cell_type": "code",
      "source": [],
      "metadata": {
        "id": "TToN8lhp2x1y"
      },
      "execution_count": null,
      "outputs": []
    },
    {
      "cell_type": "code",
      "source": [],
      "metadata": {
        "id": "0CgEA6zb2x_T"
      },
      "execution_count": null,
      "outputs": []
    },
    {
      "cell_type": "markdown",
      "metadata": {
        "id": "3LGwEKXHeP1R"
      },
      "source": [
        "#10.Create a new column `review_length`. Fill it with number of words in each review. Use `.apply()` on the column `review_comment_message`."
      ]
    },
    {
      "cell_type": "code",
      "source": [],
      "metadata": {
        "id": "jlsrQo0d2ze6"
      },
      "execution_count": null,
      "outputs": []
    },
    {
      "cell_type": "code",
      "source": [],
      "metadata": {
        "id": "vYoVzMFW2zpl"
      },
      "execution_count": null,
      "outputs": []
    },
    {
      "cell_type": "markdown",
      "metadata": {
        "id": "-s9_Y68ZeP1Z"
      },
      "source": [
        "#11.Create a new column `day_of_order`, representing day of the week based on `order_purchase_timestamp` column"
      ]
    },
    {
      "cell_type": "code",
      "source": [],
      "metadata": {
        "id": "O9WCM27w21Ms"
      },
      "execution_count": null,
      "outputs": []
    },
    {
      "cell_type": "code",
      "source": [],
      "metadata": {
        "id": "cO6t6WG721XN"
      },
      "execution_count": null,
      "outputs": []
    },
    {
      "cell_type": "markdown",
      "metadata": {
        "id": "uFeqRK9MeP1h"
      },
      "source": [
        "#12.Rename `product_category_name` to `product_category` "
      ]
    },
    {
      "cell_type": "code",
      "source": [],
      "metadata": {
        "id": "eD8MRcQc22wT"
      },
      "execution_count": null,
      "outputs": []
    },
    {
      "cell_type": "code",
      "source": [],
      "metadata": {
        "id": "co7WfIVd224P"
      },
      "execution_count": null,
      "outputs": []
    },
    {
      "cell_type": "markdown",
      "metadata": {
        "id": "lKLVPy4beP10"
      },
      "source": [
        "#13.Drop all the columns if the missing values are more than 50%"
      ]
    },
    {
      "cell_type": "code",
      "source": [],
      "metadata": {
        "id": "GHQiocBC24TT"
      },
      "execution_count": null,
      "outputs": []
    },
    {
      "cell_type": "code",
      "source": [],
      "metadata": {
        "id": "jfwWAqZs24cB"
      },
      "execution_count": null,
      "outputs": []
    },
    {
      "cell_type": "markdown",
      "metadata": {
        "id": "YMD3GjuYeP17"
      },
      "source": [
        "#14.Finally merge the geo-location data from `olist_geolocation_dataset.csv` to the dataframe. Include customer and seller geo location data\n",
        "\n",
        "Important note \n",
        "1. the primary key geolocation_zip_code_prefix  has no duplicates.\n",
        "2. create a new merged dataframe so the original dataframe is preserved."
      ]
    },
    {
      "cell_type": "code",
      "source": [],
      "metadata": {
        "id": "xQq56d0E27Bt"
      },
      "execution_count": null,
      "outputs": []
    },
    {
      "cell_type": "code",
      "source": [],
      "metadata": {
        "id": "I3jDNqOZ27Kp"
      },
      "execution_count": null,
      "outputs": []
    },
    {
      "cell_type": "markdown",
      "metadata": {
        "id": "3LTUOS6LdcBw"
      },
      "source": [
        "#15.Export the above file as .csv - Export the final merged dataframe as .csv file"
      ]
    },
    {
      "cell_type": "code",
      "source": [],
      "metadata": {
        "id": "yjq1gNMu28Qy"
      },
      "execution_count": null,
      "outputs": []
    },
    {
      "cell_type": "code",
      "source": [],
      "metadata": {
        "id": "_KRgOZ0i28Ya"
      },
      "execution_count": null,
      "outputs": []
    },
    {
      "cell_type": "markdown",
      "metadata": {
        "id": "5J88JSpNeP2Q"
      },
      "source": [
        "#16.Create a new column, Euclidean Distance (L2) between customer's and seller's geo-locations.\n",
        "Hint use package called `geopy`; and handle missing values before proceeding."
      ]
    },
    {
      "cell_type": "code",
      "source": [],
      "metadata": {
        "id": "IkangYa-2-Fs"
      },
      "execution_count": null,
      "outputs": []
    },
    {
      "cell_type": "code",
      "source": [],
      "metadata": {
        "id": "QWJ34-Kn2-Nh"
      },
      "execution_count": null,
      "outputs": []
    },
    {
      "cell_type": "markdown",
      "metadata": {
        "id": "U6lvMVLjAzQN"
      },
      "source": [
        "#17.Use groupby to find the Statewise number of unique orders. And which state accounts for most orders?"
      ]
    },
    {
      "cell_type": "code",
      "source": [],
      "metadata": {
        "id": "c3sPEUs42_6B"
      },
      "execution_count": null,
      "outputs": []
    },
    {
      "cell_type": "code",
      "source": [],
      "metadata": {
        "id": "pp5H9OdS3AC4"
      },
      "execution_count": null,
      "outputs": []
    },
    {
      "cell_type": "markdown",
      "metadata": {
        "id": "YMrdZWt8dcB5"
      },
      "source": [
        "#18.Across every customer state on every day of week, find the count of unique orders -  Create a pivot table. Create another pivot with rowise percentages - Name it as \"state_weekday_sales\""
      ]
    },
    {
      "cell_type": "code",
      "source": [],
      "metadata": {
        "id": "kqzcy1er3BYB"
      },
      "execution_count": null,
      "outputs": []
    },
    {
      "cell_type": "code",
      "source": [],
      "metadata": {
        "id": "734C_Lei3Bf4"
      },
      "execution_count": null,
      "outputs": []
    },
    {
      "cell_type": "markdown",
      "metadata": {
        "id": "UKE5lXyGdcB5"
      },
      "source": [
        "#19.Take the state_weekday_sales pivot table and create a heatmap for it"
      ]
    },
    {
      "cell_type": "code",
      "source": [],
      "metadata": {
        "id": "_KhlgJka3Cqg"
      },
      "execution_count": null,
      "outputs": []
    },
    {
      "cell_type": "code",
      "source": [],
      "metadata": {
        "id": "TSiV_kkj3Czt"
      },
      "execution_count": null,
      "outputs": []
    },
    {
      "cell_type": "markdown",
      "metadata": {
        "id": "JnSXZUaeeP2R"
      },
      "source": [
        "#20.Take the coulm \"price\". Are there any outliers in this filed?"
      ]
    },
    {
      "cell_type": "code",
      "source": [],
      "metadata": {
        "id": "a91EkMpS3ESd"
      },
      "execution_count": null,
      "outputs": []
    },
    {
      "cell_type": "code",
      "source": [],
      "metadata": {
        "id": "Cedy5Jzq3EbJ"
      },
      "execution_count": null,
      "outputs": []
    },
    {
      "cell_type": "markdown",
      "metadata": {
        "id": "mPB1hp_hdcB6"
      },
      "source": [
        "#21.Show the region wise sales on map. Use cust_geolocation_lat cust_geolocation_lng for location and payment_value for display of values"
      ]
    },
    {
      "cell_type": "code",
      "source": [],
      "metadata": {
        "id": "WxA5YT063GXE"
      },
      "execution_count": null,
      "outputs": []
    },
    {
      "cell_type": "code",
      "source": [],
      "metadata": {
        "id": "HYCgivSt3Gq3"
      },
      "execution_count": null,
      "outputs": []
    },
    {
      "cell_type": "markdown",
      "metadata": {
        "id": "uY6Mul7mdcB7"
      },
      "source": [
        "#22.Go to seller_city column. If the seller_city contains \"rio\" then chage the seller_city to \"Rio_ind\""
      ]
    },
    {
      "cell_type": "code",
      "source": [],
      "metadata": {
        "id": "ELNydL3f3G7U"
      },
      "execution_count": null,
      "outputs": []
    },
    {
      "cell_type": "code",
      "source": [],
      "metadata": {
        "id": "GmoqGvT13JlC"
      },
      "execution_count": null,
      "outputs": []
    },
    {
      "cell_type": "markdown",
      "metadata": {
        "id": "XnGAkwJfdcB8"
      },
      "source": [
        "#23.Find the number of days difference between  customer deliver date and purchase date"
      ]
    },
    {
      "cell_type": "code",
      "source": [],
      "metadata": {
        "id": "GDGvZHTk3LJT"
      },
      "execution_count": null,
      "outputs": []
    },
    {
      "cell_type": "code",
      "source": [],
      "metadata": {
        "id": "mkI5Ogmr3LSi"
      },
      "execution_count": null,
      "outputs": []
    },
    {
      "cell_type": "markdown",
      "metadata": {
        "id": "Vvtq1CzRdcB8"
      },
      "source": [
        "#24.Find the number of hours difference between customer deliver date and estimated delivery date. Store it in a new column called hours of delay. Create a historgram for hours of dealy"
      ]
    },
    {
      "cell_type": "code",
      "execution_count": null,
      "metadata": {
        "id": "r4t44VwQdcCC"
      },
      "outputs": [],
      "source": []
    },
    {
      "cell_type": "code",
      "source": [],
      "metadata": {
        "id": "5zPlybIh3NQ5"
      },
      "execution_count": null,
      "outputs": []
    }
  ]
}