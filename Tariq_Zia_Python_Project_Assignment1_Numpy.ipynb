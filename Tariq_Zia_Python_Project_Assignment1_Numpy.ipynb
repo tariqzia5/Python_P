{
  "nbformat": 4,
  "nbformat_minor": 0,
  "metadata": {
    "colab": {
      "provenance": [],
      "include_colab_link": true
    },
    "kernelspec": {
      "name": "python3",
      "display_name": "Python 3"
    },
    "language_info": {
      "name": "python"
    }
  },
  "cells": [
    {
      "cell_type": "markdown",
      "metadata": {
        "id": "view-in-github",
        "colab_type": "text"
      },
      "source": [
        "<a href=\"https://colab.research.google.com/github/tariqzia5/Python_P/blob/main/Tariq_Zia_Python_Project_Assignment1_Numpy.ipynb\" target=\"_parent\"><img src=\"https://colab.research.google.com/assets/colab-badge.svg\" alt=\"Open In Colab\"/></a>"
      ]
    },
    {
      "cell_type": "markdown",
      "source": [
        "#1.Create a 1D array of numbers from -5 to 5\n",
        "Desired output: array([-5, -4, -3,-2,-1,0, 1, 2, 3, 4, 5])"
      ],
      "metadata": {
        "id": "tNJstkFcBXbT"
      }
    },
    {
      "cell_type": "code",
      "source": [
        "import numpy as np"
      ],
      "metadata": {
        "id": "IZytx1TsNTYB"
      },
      "execution_count": null,
      "outputs": []
    },
    {
      "cell_type": "code",
      "source": [
        "arr1=np.array([-5,-4,-3,-2,-1,0,1,2,3,4,5])\n",
        "arr1"
      ],
      "metadata": {
        "id": "wZ6B2gzBNWkp",
        "colab": {
          "base_uri": "https://localhost:8080/"
        },
        "outputId": "d392b05b-fe43-4874-ce4b-75359588d0b6"
      },
      "execution_count": null,
      "outputs": [
        {
          "output_type": "execute_result",
          "data": {
            "text/plain": [
              "array([-5, -4, -3, -2, -1,  0,  1,  2,  3,  4,  5])"
            ]
          },
          "metadata": {},
          "execution_count": 4
        }
      ]
    },
    {
      "cell_type": "markdown",
      "source": [
        "# 2.Find the maximum element in a 2D array.\n",
        "\n",
        "arr = np.array([[1, 2, 3], [4, 5, 6]])\n",
        "\n",
        "Output: 6"
      ],
      "metadata": {
        "id": "_WqsHszD4Jrw"
      }
    },
    {
      "cell_type": "code",
      "source": [
        "arr=np.array([[1, 2, 3],[4, 5, 6]])"
      ],
      "metadata": {
        "id": "zvU83mqCNU3r"
      },
      "execution_count": null,
      "outputs": []
    },
    {
      "cell_type": "code",
      "source": [
        "arr.max()"
      ],
      "metadata": {
        "id": "IkoiCSe7NbJ3",
        "colab": {
          "base_uri": "https://localhost:8080/"
        },
        "outputId": "33600b5e-5a3c-4e33-d3e3-8a9c6792b191"
      },
      "execution_count": null,
      "outputs": [
        {
          "output_type": "execute_result",
          "data": {
            "text/plain": [
              "6"
            ]
          },
          "metadata": {},
          "execution_count": 7
        }
      ]
    },
    {
      "cell_type": "code",
      "source": [],
      "metadata": {
        "id": "Rlz9GwV102WW"
      },
      "execution_count": null,
      "outputs": []
    },
    {
      "cell_type": "markdown",
      "source": [
        "# 3.Extract all odd numbers from items_array\n",
        "\n",
        "items_array = np.array([0, 1, 2, 3, 4, 5, 6, 7, 8, 9])\n",
        "\n",
        " Desired output:array([1, 3, 5, 7, 9])"
      ],
      "metadata": {
        "id": "ko6Axe7JChpO"
      }
    },
    {
      "cell_type": "code",
      "source": [
        "a=np.array([0,1,2,3,4,5,6,7,8,9])\n",
        "for i in a:\n",
        "    if i%2==1:\n",
        "        print(i)"
      ],
      "metadata": {
        "id": "3-SM9gf-NadU",
        "colab": {
          "base_uri": "https://localhost:8080/"
        },
        "outputId": "95ff9ac4-6a1a-417d-8cf6-aaba6c9d3d7f"
      },
      "execution_count": null,
      "outputs": [
        {
          "output_type": "stream",
          "name": "stdout",
          "text": [
            "1\n",
            "3\n",
            "5\n",
            "7\n",
            "9\n"
          ]
        }
      ]
    },
    {
      "cell_type": "code",
      "source": [
        "a=np.array([0,1,2,3,4,5,6,7,8,9])"
      ],
      "metadata": {
        "id": "1D0x7e3Lm8z-"
      },
      "execution_count": null,
      "outputs": []
    },
    {
      "cell_type": "code",
      "source": [
        "odd=np.where(a%2==1)\n",
        "odd"
      ],
      "metadata": {
        "id": "K5WRTfg7Nakl",
        "colab": {
          "base_uri": "https://localhost:8080/"
        },
        "outputId": "0959beed-01fd-42e3-cfaa-5c53ac25fed9"
      },
      "execution_count": null,
      "outputs": [
        {
          "output_type": "execute_result",
          "data": {
            "text/plain": [
              "(array([1, 3, 5, 7, 9]),)"
            ]
          },
          "metadata": {},
          "execution_count": 4
        }
      ]
    },
    {
      "cell_type": "code",
      "source": [],
      "metadata": {
        "id": "aGgZLbprUtW-"
      },
      "execution_count": null,
      "outputs": []
    },
    {
      "cell_type": "markdown",
      "source": [
        "# 4.Convert a 1D array to a 2D array with 2 rows\n",
        "\n",
        "Input: array([ 0, 1, 2, 3, 4, 5, 6, 7, 8, 9])\n",
        "\n",
        "Desired Output:\n",
        " array([[0, 1, 2, 3, 4],\n",
        "       [5, 6, 7, 8, 9]])"
      ],
      "metadata": {
        "id": "73iK89yxC7eT"
      }
    },
    {
      "cell_type": "code",
      "source": [
        "a=np.array([0,1,2,3,4,5,6,7,8,9])"
      ],
      "metadata": {
        "id": "IueTfp0rNdIQ"
      },
      "execution_count": null,
      "outputs": []
    },
    {
      "cell_type": "code",
      "source": [
        "2_d=np.reshape()"
      ],
      "metadata": {
        "id": "K04xZrszNdPw"
      },
      "execution_count": null,
      "outputs": []
    },
    {
      "cell_type": "markdown",
      "source": [
        "#5.Raise each element in a 1D array to the power of a scalar. \n",
        "arr = np.array([1, 2, 3])\n",
        "\n",
        "scalar = 2\n",
        "\n",
        "Output: [1 4 9]"
      ],
      "metadata": {
        "id": "bg8Eq9_n40J5"
      }
    },
    {
      "cell_type": "code",
      "source": [],
      "metadata": {
        "id": "p-P-ZwMPNfY0"
      },
      "execution_count": null,
      "outputs": []
    },
    {
      "cell_type": "code",
      "source": [],
      "metadata": {
        "id": "BRwWh9ghNffq"
      },
      "execution_count": null,
      "outputs": []
    },
    {
      "cell_type": "markdown",
      "source": [
        "#6.stack two arrays vertically\n",
        "\n",
        "Input:\n",
        "\n",
        "a= array([[0, 1, 2, 3, 4],\n",
        "       [5, 6, 7, 8, 9]])\n",
        "\n",
        "b= array([[1, 1, 1, 1, 1],\n",
        "       [1, 1, 1, 1, 1]])\n",
        "\n",
        "\n",
        "Desired Output:\n",
        "\n",
        "array([[0, 1, 2, 3, 4],\n",
        "        [5, 6, 7, 8, 9],\n",
        "        [1, 1, 1, 1, 1],\n",
        "        [1, 1, 1, 1, 1]])"
      ],
      "metadata": {
        "id": "UpR_lrXVDfnH"
      }
    },
    {
      "cell_type": "code",
      "source": [
        "a=np.array([[0, 1, 2, 3, 4], [5, 6, 7, 8, 9]])\n",
        "\n",
        "b=np.array([[1, 1, 1, 1, 1], [1, 1, 1, 1, 1]])"
      ],
      "metadata": {
        "id": "HBs82qIONhAF"
      },
      "execution_count": null,
      "outputs": []
    },
    {
      "cell_type": "code",
      "source": [
        "c=np.vstack((a,b))\n",
        "c"
      ],
      "metadata": {
        "id": "zhS_FetlNhGL",
        "colab": {
          "base_uri": "https://localhost:8080/"
        },
        "outputId": "b894987b-4372-4862-b7a4-f24999d1755d"
      },
      "execution_count": null,
      "outputs": [
        {
          "output_type": "execute_result",
          "data": {
            "text/plain": [
              "array([[0, 1, 2, 3, 4],\n",
              "       [5, 6, 7, 8, 9],\n",
              "       [1, 1, 1, 1, 1],\n",
              "       [1, 1, 1, 1, 1]])"
            ]
          },
          "metadata": {},
          "execution_count": 13
        }
      ]
    },
    {
      "cell_type": "code",
      "source": [
        "a = np.array([[0, 1, 2, 3, 4], [5, 6, 7, 8, 9]])\n",
        "b = np.array([[1, 1, 1, 1, 1], [1, 1, 1, 1, 1]])\n",
        "stacked_array = np.concatenate((a, b), axis=0)\n",
        "stacked_array"
      ],
      "metadata": {
        "colab": {
          "base_uri": "https://localhost:8080/"
        },
        "id": "11iRGJYnI8E2",
        "outputId": "6f008fdb-f51d-4995-ed19-589748aa3d5e"
      },
      "execution_count": null,
      "outputs": [
        {
          "output_type": "execute_result",
          "data": {
            "text/plain": [
              "array([[0, 1, 2, 3, 4],\n",
              "       [5, 6, 7, 8, 9],\n",
              "       [1, 1, 1, 1, 1],\n",
              "       [1, 1, 1, 1, 1]])"
            ]
          },
          "metadata": {},
          "execution_count": 4
        }
      ]
    },
    {
      "cell_type": "code",
      "source": [],
      "metadata": {
        "id": "h6nJjxZKJIw5"
      },
      "execution_count": null,
      "outputs": []
    },
    {
      "cell_type": "markdown",
      "source": [
        "# 7.Set all elements in a 2D array that are greater than a value to 0, and all other elements to 1.\n",
        "\n",
        "\n",
        "arr = np.array([[1, 2, 3], [4, 5, 6]])\n",
        "\n",
        "value = 3\n",
        "\n",
        "Output: [[1 1 1] [0 0 0]]"
      ],
      "metadata": {
        "id": "i61iKuMa5Iyy"
      }
    },
    {
      "cell_type": "code",
      "source": [
        "arr=np.array([[1,2,3],[4,5,6]])\n",
        "value=3\n",
        "a=np.where(arr>3,0,1)\n",
        "a"
      ],
      "metadata": {
        "id": "RdcIi_UrNitP",
        "colab": {
          "base_uri": "https://localhost:8080/"
        },
        "outputId": "98cf7a13-1139-47cc-c7ed-8c401f53458b"
      },
      "execution_count": null,
      "outputs": [
        {
          "output_type": "execute_result",
          "data": {
            "text/plain": [
              "array([[1, 1, 1],\n",
              "       [0, 0, 0]])"
            ]
          },
          "metadata": {},
          "execution_count": 10
        }
      ]
    },
    {
      "cell_type": "code",
      "source": [
        "a="
      ],
      "metadata": {
        "id": "uRjKdh66Ni0x"
      },
      "execution_count": null,
      "outputs": []
    },
    {
      "cell_type": "markdown",
      "source": [
        "#8.Create an array of all ones with shape (2, 3)\n",
        "Output: [[1. 1. 1.] [1. 1. 1.]]"
      ],
      "metadata": {
        "id": "CwSR3OyACS6k"
      }
    },
    {
      "cell_type": "code",
      "source": [
        "a=np.ones((2,3))\n",
        "a"
      ],
      "metadata": {
        "id": "lytPe1E8CTLO",
        "colab": {
          "base_uri": "https://localhost:8080/"
        },
        "outputId": "b4933563-ca4d-469e-8a09-c91f66cce5f6"
      },
      "execution_count": null,
      "outputs": [
        {
          "output_type": "execute_result",
          "data": {
            "text/plain": [
              "array([[1., 1., 1.],\n",
              "       [1., 1., 1.]])"
            ]
          },
          "metadata": {},
          "execution_count": 14
        }
      ]
    },
    {
      "cell_type": "code",
      "source": [],
      "metadata": {
        "id": "KvdkKkB0NlRP"
      },
      "execution_count": null,
      "outputs": []
    },
    {
      "cell_type": "markdown",
      "source": [
        "#9.Find the transpose of a 2D array.\n",
        "\n",
        "arr = np.array([[1, 2, 3], [4, 5, 6]])\n",
        "\n",
        "Output: [[1 4] [2 5] [3 6]]"
      ],
      "metadata": {
        "id": "yTGKsJNP5mXI"
      }
    },
    {
      "cell_type": "code",
      "source": [
        "arr = np.array([[1, 2, 3], [4, 5, 6]])"
      ],
      "metadata": {
        "id": "Vsr-nX355m3l"
      },
      "execution_count": null,
      "outputs": []
    },
    {
      "cell_type": "code",
      "source": [
        "t=np.transpose(arr)\n",
        "t"
      ],
      "metadata": {
        "id": "Vb7-mAlONl_3",
        "colab": {
          "base_uri": "https://localhost:8080/"
        },
        "outputId": "4ab0532c-9e76-4171-bf98-2ef84e66934f"
      },
      "execution_count": null,
      "outputs": [
        {
          "output_type": "execute_result",
          "data": {
            "text/plain": [
              "array([[1, 4],\n",
              "       [2, 5],\n",
              "       [3, 6]])"
            ]
          },
          "metadata": {},
          "execution_count": 17
        }
      ]
    },
    {
      "cell_type": "code",
      "source": [],
      "metadata": {
        "id": "g_mDzhzyVrtJ"
      },
      "execution_count": null,
      "outputs": []
    },
    {
      "cell_type": "code",
      "source": [],
      "metadata": {
        "id": "3VxTwx5oVr3V"
      },
      "execution_count": null,
      "outputs": []
    },
    {
      "cell_type": "markdown",
      "source": [
        "#10.Get the common items between two python numpy arrays?\n",
        "\n",
        "Input:\n",
        "a = np.array([1,2,3,2,3,4,3,4,5,6])\n",
        "b = np.array([7,2,10,2,7,4,9,4,9,8])\n",
        "\n",
        "Desired Output:\n",
        "array([2, 4])"
      ],
      "metadata": {
        "id": "DOXZt5qAEski"
      }
    },
    {
      "cell_type": "code",
      "source": [
        " a=np.array([1,2,3,2,3,4,3,4,5,6])\n",
        " b=np.array([7,2,10,2,7,4,9,4,9,8])"
      ],
      "metadata": {
        "id": "0xog4JxGNnxe"
      },
      "execution_count": null,
      "outputs": []
    },
    {
      "cell_type": "code",
      "source": [
        "c=np.intersect1d(a,b)\n",
        "c"
      ],
      "metadata": {
        "id": "lq0dd5x_Nn4Z",
        "colab": {
          "base_uri": "https://localhost:8080/"
        },
        "outputId": "1a8e6fe5-e317-41b9-a9df-bd91b479a6f0"
      },
      "execution_count": null,
      "outputs": [
        {
          "output_type": "execute_result",
          "data": {
            "text/plain": [
              "array([2, 4])"
            ]
          },
          "metadata": {},
          "execution_count": 26
        }
      ]
    },
    {
      "cell_type": "markdown",
      "source": [
        "# 11.Find the Average of a 1D array.\n",
        "\n",
        "arr = np.array([1, 2, 3])\n",
        "\n",
        "Output: 2.0"
      ],
      "metadata": {
        "id": "4YHgkViQ522-"
      }
    },
    {
      "cell_type": "code",
      "source": [
        "arr = np.array([1, 2, 3])"
      ],
      "metadata": {
        "id": "9z_VILJWDTjQ"
      },
      "execution_count": null,
      "outputs": []
    },
    {
      "cell_type": "code",
      "source": [
        "b=np.average(arr)\n",
        "b"
      ],
      "metadata": {
        "id": "GPjcByFiNo5p",
        "colab": {
          "base_uri": "https://localhost:8080/"
        },
        "outputId": "5bbbe149-96ef-48e2-c849-0c9e8cf2547e"
      },
      "execution_count": null,
      "outputs": [
        {
          "output_type": "execute_result",
          "data": {
            "text/plain": [
              "2.0"
            ]
          },
          "metadata": {},
          "execution_count": 30
        }
      ]
    },
    {
      "cell_type": "markdown",
      "source": [
        "# 12.Get the positions where elements of a and b match\n",
        "\n",
        "Input:\n",
        "\n",
        "a = np.array([1,2,3,2,3,4,3,4,5,6])\n",
        "\n",
        "b = np.array([7,2,10,2,7,4,9,4,9,8])\n",
        "\n",
        "Desired Output:\n",
        "\n",
        "array([1, 3, 5, 7])"
      ],
      "metadata": {
        "id": "XciNSdPvEsw-"
      }
    },
    {
      "cell_type": "code",
      "source": [
        "a=np.array([1,2,3,2,3,4,3,4,5,6])\n",
        "b=np.array([7,2,10,2,7,4,9,4,9,8])\n",
        "c=np.where(a==b)\n",
        "c"
      ],
      "metadata": {
        "id": "D0-dW4KrNqzf",
        "colab": {
          "base_uri": "https://localhost:8080/"
        },
        "outputId": "4626de69-8b86-46c0-8150-7ff874643c54"
      },
      "execution_count": null,
      "outputs": [
        {
          "output_type": "execute_result",
          "data": {
            "text/plain": [
              "(array([1, 3, 5, 7]),)"
            ]
          },
          "metadata": {},
          "execution_count": 33
        }
      ]
    },
    {
      "cell_type": "code",
      "source": [],
      "metadata": {
        "id": "OmWzSoGFNq6S"
      },
      "execution_count": null,
      "outputs": []
    },
    {
      "cell_type": "markdown",
      "source": [
        "#13 Create a 2D array of zeros with shape (3, 4).\n",
        "\n",
        "Output: [[0. 0. 0. 0.] [0. 0. 0. 0.] [0. 0. 0. 0.]]\n"
      ],
      "metadata": {
        "id": "8EwCYT3M6_2s"
      }
    },
    {
      "cell_type": "code",
      "source": [
        "import numpy as np"
      ],
      "metadata": {
        "id": "vx5TwQNyNsa7"
      },
      "execution_count": null,
      "outputs": []
    },
    {
      "cell_type": "code",
      "source": [
        "a=np.zeros((3,4))\n",
        "a"
      ],
      "metadata": {
        "colab": {
          "base_uri": "https://localhost:8080/"
        },
        "id": "R4eekFLFLARh",
        "outputId": "9492447d-784c-48ac-8e7d-09f9401e686d"
      },
      "execution_count": null,
      "outputs": [
        {
          "output_type": "execute_result",
          "data": {
            "text/plain": [
              "array([[0., 0., 0., 0.],\n",
              "       [0., 0., 0., 0.],\n",
              "       [0., 0., 0., 0.]])"
            ]
          },
          "metadata": {},
          "execution_count": 4
        }
      ]
    },
    {
      "cell_type": "code",
      "source": [],
      "metadata": {
        "id": "SMM_W1zCNsh9"
      },
      "execution_count": null,
      "outputs": []
    },
    {
      "cell_type": "markdown",
      "source": [
        "#14.Get all items between 5 and 10 from a\n",
        "\n",
        "Input:\n",
        "a = np.array([2, 6, 1, 9, 10, 3, 27])\n",
        "\n",
        "Desired Output:\n",
        "(array([6, 9, 10]),)"
      ],
      "metadata": {
        "id": "_cX1uThXEtEn"
      }
    },
    {
      "cell_type": "code",
      "source": [
        "a = np.array([2, 6, 1, 9, 10, 3, 27])\n",
        "a"
      ],
      "metadata": {
        "id": "lIXyMr-jNt8a",
        "colab": {
          "base_uri": "https://localhost:8080/"
        },
        "outputId": "9ec8e0e3-6441-4e90-ae36-63782db6fda6"
      },
      "execution_count": null,
      "outputs": [
        {
          "output_type": "execute_result",
          "data": {
            "text/plain": [
              "array([ 2,  6,  1,  9, 10,  3, 27])"
            ]
          },
          "metadata": {},
          "execution_count": 6
        }
      ]
    },
    {
      "cell_type": "code",
      "source": [
        "b=np.where((a >=5) & (a <=10))\n",
        "b"
      ],
      "metadata": {
        "colab": {
          "base_uri": "https://localhost:8080/"
        },
        "id": "XKRb2pTSZRbA",
        "outputId": "92e9d917-5a96-46ee-ab99-47603011beda"
      },
      "execution_count": null,
      "outputs": [
        {
          "output_type": "execute_result",
          "data": {
            "text/plain": [
              "(array([1, 3, 4]),)"
            ]
          },
          "metadata": {},
          "execution_count": 17
        }
      ]
    },
    {
      "cell_type": "code",
      "source": [
        "values=a[b]\n",
        "values"
      ],
      "metadata": {
        "colab": {
          "base_uri": "https://localhost:8080/"
        },
        "id": "rJ9LymuEaEyd",
        "outputId": "2b56a366-d311-400b-c94b-fc98dd9b282a"
      },
      "execution_count": null,
      "outputs": [
        {
          "output_type": "execute_result",
          "data": {
            "text/plain": [
              "array([ 6,  9, 10])"
            ]
          },
          "metadata": {},
          "execution_count": 25
        }
      ]
    },
    {
      "cell_type": "code",
      "source": [],
      "metadata": {
        "id": "p_GucxjuNuDK"
      },
      "execution_count": null,
      "outputs": []
    },
    {
      "cell_type": "markdown",
      "source": [
        "#15.Create a 1D array with 10 equally spaced values between 1 and 100.\n",
        "\n",
        "Output: [  1.  12.  23.  34.  45.  56.  67.  78.  89. 100.]"
      ],
      "metadata": {
        "id": "Hzt8AZaG70T8"
      }
    },
    {
      "cell_type": "code",
      "source": [
        "a=np.linspace(1,100,10)\n",
        "a"
      ],
      "metadata": {
        "id": "S8Ce5TVjNwPm",
        "colab": {
          "base_uri": "https://localhost:8080/"
        },
        "outputId": "a804eb02-3938-4059-b963-d12ada0e2373"
      },
      "execution_count": null,
      "outputs": [
        {
          "output_type": "execute_result",
          "data": {
            "text/plain": [
              "array([  1.,  12.,  23.,  34.,  45.,  56.,  67.,  78.,  89., 100.])"
            ]
          },
          "metadata": {},
          "execution_count": 27
        }
      ]
    },
    {
      "cell_type": "code",
      "source": [],
      "metadata": {
        "id": "kJ0oUz0-NwW0"
      },
      "execution_count": null,
      "outputs": []
    },
    {
      "cell_type": "markdown",
      "source": [
        "#16.Print only 3 decimal places in python numpy array?\n",
        "\n",
        "Input:\n",
        "rand_arr = np.random.random((5,3))"
      ],
      "metadata": {
        "id": "NUPYOJNWEtHt"
      }
    },
    {
      "cell_type": "code",
      "source": [
        "rand_arr = np.random.random((5,3))\n",
        "rand_arr"
      ],
      "metadata": {
        "id": "vqzIzvNPElqY",
        "colab": {
          "base_uri": "https://localhost:8080/"
        },
        "outputId": "5c63af75-146d-40b7-fd59-2546a721f2f9"
      },
      "execution_count": null,
      "outputs": [
        {
          "output_type": "execute_result",
          "data": {
            "text/plain": [
              "array([[0.52404281, 0.9784001 , 0.78259713],\n",
              "       [0.08417821, 0.09905565, 0.68558593],\n",
              "       [0.51392407, 0.46982971, 0.72663378],\n",
              "       [0.47208586, 0.03371525, 0.43726789],\n",
              "       [0.32552056, 0.1412437 , 0.2009467 ]])"
            ]
          },
          "metadata": {},
          "execution_count": 29
        }
      ]
    },
    {
      "cell_type": "code",
      "source": [
        "a=np.round(rand_arr,3)\n",
        "a"
      ],
      "metadata": {
        "id": "KvZYvXhcNxcF",
        "colab": {
          "base_uri": "https://localhost:8080/"
        },
        "outputId": "502f1e5c-2168-4bc2-bded-f8a63e7cf1ad"
      },
      "execution_count": null,
      "outputs": [
        {
          "output_type": "execute_result",
          "data": {
            "text/plain": [
              "array([[0.524, 0.978, 0.783],\n",
              "       [0.084, 0.099, 0.686],\n",
              "       [0.514, 0.47 , 0.727],\n",
              "       [0.472, 0.034, 0.437],\n",
              "       [0.326, 0.141, 0.201]])"
            ]
          },
          "metadata": {},
          "execution_count": 32
        }
      ]
    },
    {
      "cell_type": "markdown",
      "source": [
        "#17.Replace all values greater than a given value to a given cutoff?\n",
        "\n",
        "a = np.random.uniform(1,50, 20)\n",
        "\n",
        "From the array a, replace all values greater than 30 to 30 and less than 10 to 10.\n"
      ],
      "metadata": {
        "id": "q9azo_GCEtKw"
      }
    },
    {
      "cell_type": "code",
      "source": [
        "a = np.random.uniform(1,50, 20)\n",
        "a"
      ],
      "metadata": {
        "id": "vR5sAq9BNzO3",
        "colab": {
          "base_uri": "https://localhost:8080/"
        },
        "outputId": "d33e419e-9ff2-47e0-e49b-645eb83cc806"
      },
      "execution_count": null,
      "outputs": [
        {
          "output_type": "execute_result",
          "data": {
            "text/plain": [
              "array([27.66103021, 16.36109354, 33.87551082, 24.32233398, 39.52467493,\n",
              "       46.33499782, 12.08966898,  7.72150743, 43.90797482, 28.53609231,\n",
              "       42.49762824, 35.98780609, 44.99479413, 13.4398275 , 44.25311739,\n",
              "       48.4751369 , 17.66957086, 26.51768804, 20.82198953, 23.20435883])"
            ]
          },
          "metadata": {},
          "execution_count": 34
        }
      ]
    },
    {
      "cell_type": "code",
      "source": [
        "a = np.random.uniform(1,50, 20)\n",
        "lim_h=30\n",
        "lim_l=10\n",
        "b=np.where(a>lim_h,lim_h,np.where(a<lim_l,lim_l,a))\n",
        "b"
      ],
      "metadata": {
        "id": "2YkHUirtNzWi",
        "colab": {
          "base_uri": "https://localhost:8080/"
        },
        "outputId": "7e53046f-7692-4b1f-f709-25992be98ce1"
      },
      "execution_count": null,
      "outputs": [
        {
          "output_type": "execute_result",
          "data": {
            "text/plain": [
              "array([30.        , 30.        , 30.        , 30.        , 10.        ,\n",
              "       14.87522617, 15.85450756, 21.27208481, 28.89811227, 10.83479017,\n",
              "       26.58864504, 10.        , 30.        , 23.66447649, 14.27737041,\n",
              "       10.        , 10.        , 30.        , 30.        , 10.        ])"
            ]
          },
          "metadata": {},
          "execution_count": 37
        }
      ]
    },
    {
      "cell_type": "markdown",
      "source": [
        "# 18.Get the positions of top 5 maximum values in a given array a.\n",
        "\n",
        "a = np.random.uniform(1,50, 20)"
      ],
      "metadata": {
        "id": "x0MdZQ1OEtNi"
      }
    },
    {
      "cell_type": "code",
      "source": [
        "a = np.random.uniform(1,50, 20)\n",
        "a"
      ],
      "metadata": {
        "id": "i-LS-tZXN0_Y",
        "colab": {
          "base_uri": "https://localhost:8080/"
        },
        "outputId": "60bf2a0a-589e-4230-ad29-60abd9f56e28"
      },
      "execution_count": null,
      "outputs": [
        {
          "output_type": "execute_result",
          "data": {
            "text/plain": [
              "array([23.56241098, 47.91260226, 12.3222348 , 47.32389582, 49.00365332,\n",
              "       39.77663426, 26.89434442, 36.06002603, 17.71487463,  4.97608616,\n",
              "       40.80829735, 45.03288179,  3.03968421, 12.88362781, 46.52635846,\n",
              "        5.26105354,  5.81559474, 32.2320325 , 22.1618694 , 46.27501917])"
            ]
          },
          "metadata": {},
          "execution_count": 5
        }
      ]
    },
    {
      "cell_type": "code",
      "source": [
        "b=a.top(5)\n",
        "b        "
      ],
      "metadata": {
        "id": "qviuIIQGN1HH",
        "colab": {
          "base_uri": "https://localhost:8080/",
          "height": 182
        },
        "outputId": "a83ba9bc-b4d6-4a36-871e-70aa3024ea3d"
      },
      "execution_count": null,
      "outputs": [
        {
          "output_type": "error",
          "ename": "AttributeError",
          "evalue": "ignored",
          "traceback": [
            "\u001b[0;31m---------------------------------------------------------------------------\u001b[0m",
            "\u001b[0;31mAttributeError\u001b[0m                            Traceback (most recent call last)",
            "\u001b[0;32m<ipython-input-42-c3538c538ccf>\u001b[0m in \u001b[0;36m<module>\u001b[0;34m\u001b[0m\n\u001b[0;32m----> 1\u001b[0;31m \u001b[0mb\u001b[0m\u001b[0;34m=\u001b[0m\u001b[0ma\u001b[0m\u001b[0;34m.\u001b[0m\u001b[0mtop\u001b[0m\u001b[0;34m(\u001b[0m\u001b[0;36m5\u001b[0m\u001b[0;34m)\u001b[0m\u001b[0;34m\u001b[0m\u001b[0;34m\u001b[0m\u001b[0m\n\u001b[0m\u001b[1;32m      2\u001b[0m \u001b[0mb\u001b[0m\u001b[0;34m\u001b[0m\u001b[0;34m\u001b[0m\u001b[0m\n",
            "\u001b[0;31mAttributeError\u001b[0m: 'numpy.ndarray' object has no attribute 'top'"
          ]
        }
      ]
    },
    {
      "cell_type": "code",
      "source": [
        "a = np.random.uniform(1,50, 20)\n",
        "sorted_a=np.sort(a)[::-1]\n",
        "sorted_a\n",
        "\n"
      ],
      "metadata": {
        "colab": {
          "base_uri": "https://localhost:8080/"
        },
        "id": "NUWtbcac4d5f",
        "outputId": "18b2d03d-ad4d-4d9a-b712-c4d6f562dac8"
      },
      "execution_count": null,
      "outputs": [
        {
          "output_type": "execute_result",
          "data": {
            "text/plain": [
              "array([44.70706805, 44.15912275, 39.94796586, 38.92831001, 35.27197134,\n",
              "       34.7791974 , 34.57457401, 31.76886644, 30.60555269, 30.38168508,\n",
              "       25.06726469, 17.5322963 , 16.77552712, 13.63700585, 11.41906419,\n",
              "        7.3046739 ,  7.0494766 ,  6.50939624,  5.50729753,  4.34473477])"
            ]
          },
          "metadata": {},
          "execution_count": 7
        }
      ]
    },
    {
      "cell_type": "code",
      "source": [
        "a = np.random.uniform(1,50, 20)\n",
        "a"
      ],
      "metadata": {
        "colab": {
          "base_uri": "https://localhost:8080/"
        },
        "id": "Et-DJFSG4-Zk",
        "outputId": "e988e052-7ae4-46af-d78b-d1e45eda7595"
      },
      "execution_count": null,
      "outputs": [
        {
          "output_type": "execute_result",
          "data": {
            "text/plain": [
              "array([ 9.8764727 , 48.60925536, 22.7080111 , 31.07226935,  3.51728631,\n",
              "       18.49260331, 41.88895453, 23.09770512, 26.13394878, 44.21763858,\n",
              "        3.38054287,  7.06735134, 37.47564671,  4.6340543 , 47.69455043,\n",
              "       49.04775867, 28.65819254, 17.51906378, 29.7878832 , 27.95558094])"
            ]
          },
          "metadata": {},
          "execution_count": 8
        }
      ]
    },
    {
      "cell_type": "markdown",
      "source": [
        "#19.Create a 2D array with random values between 0 and 1 with shape (3, 3).\n",
        "\n",
        "Sample Output: \n",
        "\n",
        "[[0.34793787 0.85788454 0.98636123] [0.05243493 0.17497094 0.53942809] [0.81386678 0.11992322 0.42892938]]"
      ],
      "metadata": {
        "id": "xeBcvtxl8qlj"
      }
    },
    {
      "cell_type": "code",
      "source": [],
      "metadata": {
        "id": "56Wedz04N2q-"
      },
      "execution_count": null,
      "outputs": []
    },
    {
      "cell_type": "code",
      "source": [],
      "metadata": {
        "id": "BtPx_5hp8rAW"
      },
      "execution_count": null,
      "outputs": []
    },
    {
      "cell_type": "markdown",
      "source": [
        "# 20.Compute the maximum for each row in the given array a.\n",
        "\n",
        "a = np.random.randint(1,10, [5,3])"
      ],
      "metadata": {
        "id": "fcWgqwOsPWcz"
      }
    },
    {
      "cell_type": "code",
      "source": [
        "a = np.random.randint(1,10, [5,3])\n",
        "a"
      ],
      "metadata": {
        "id": "g_9F70HFN5CM",
        "colab": {
          "base_uri": "https://localhost:8080/"
        },
        "outputId": "ee5334e7-6efa-42f4-b92a-f06424fc3568"
      },
      "execution_count": null,
      "outputs": [
        {
          "output_type": "execute_result",
          "data": {
            "text/plain": [
              "array([[1, 4, 7],\n",
              "       [9, 5, 8],\n",
              "       [2, 4, 5],\n",
              "       [7, 8, 4],\n",
              "       [4, 8, 3]])"
            ]
          },
          "metadata": {},
          "execution_count": 9
        }
      ]
    },
    {
      "cell_type": "code",
      "source": [
        "b=np.amax(a,axis=1)\n",
        "b"
      ],
      "metadata": {
        "id": "SG6irbUmN5J-",
        "colab": {
          "base_uri": "https://localhost:8080/"
        },
        "outputId": "95ee2a32-152c-4e67-cf6f-8c98ab4e73c6"
      },
      "execution_count": null,
      "outputs": [
        {
          "output_type": "execute_result",
          "data": {
            "text/plain": [
              "array([7, 9, 5, 8, 8])"
            ]
          },
          "metadata": {},
          "execution_count": 10
        }
      ]
    },
    {
      "cell_type": "code",
      "source": [
        "a = np.random.randint(1,10, [5,3])\n",
        "n=np.apply_along_axis(max,axis=1,arr=a)\n",
        "n"
      ],
      "metadata": {
        "colab": {
          "base_uri": "https://localhost:8080/"
        },
        "id": "2wHbt0md9AZi",
        "outputId": "5707f157-5d7d-4262-eb25-e291a91d7fea"
      },
      "execution_count": null,
      "outputs": [
        {
          "output_type": "execute_result",
          "data": {
            "text/plain": [
              "array([8, 8, 9, 6, 7])"
            ]
          },
          "metadata": {},
          "execution_count": 15
        }
      ]
    },
    {
      "cell_type": "markdown",
      "source": [
        "#21.Find the duplicate entries (2nd occurrence onwards) in the given numpy array and mark them as True. First time occurrences should be False \n",
        "\n",
        "a = np.random.randint(0, 5, 10)"
      ],
      "metadata": {
        "id": "JULF2PDgPh-J"
      }
    },
    {
      "cell_type": "code",
      "source": [
        "a=np.random.randint(0, 5, 10)\n",
        "a"
      ],
      "metadata": {
        "id": "et9EpC8jN6yl",
        "colab": {
          "base_uri": "https://localhost:8080/"
        },
        "outputId": "34b80688-5d5a-4200-9c1a-b982170b8c6a"
      },
      "execution_count": null,
      "outputs": [
        {
          "output_type": "execute_result",
          "data": {
            "text/plain": [
              "array([2, 4, 2, 3, 1, 1, 0, 0, 3, 0])"
            ]
          },
          "metadata": {},
          "execution_count": 4
        }
      ]
    },
    {
      "cell_type": "code",
      "source": [],
      "metadata": {
        "id": "F8ViMQ1qgXrG"
      },
      "execution_count": null,
      "outputs": []
    },
    {
      "cell_type": "code",
      "source": [
        "import numpy as np"
      ],
      "metadata": {
        "id": "3UsuJFgUN66J"
      },
      "execution_count": null,
      "outputs": []
    },
    {
      "cell_type": "markdown",
      "source": [
        "#22.Create a numpy array of length 10, starting from 5 and has a step of 3 between consecutive numbers"
      ],
      "metadata": {
        "id": "XkMVkyYKPxTv"
      }
    },
    {
      "cell_type": "code",
      "source": [
        "a=np.arange(5,5+10*3,3)\n",
        "a"
      ],
      "metadata": {
        "id": "CuI0e2GzN8e5",
        "colab": {
          "base_uri": "https://localhost:8080/"
        },
        "outputId": "f9deb7df-d56d-40fb-989c-43efd5b90425"
      },
      "execution_count": null,
      "outputs": [
        {
          "output_type": "execute_result",
          "data": {
            "text/plain": [
              "array([ 5,  8, 11, 14, 17, 20, 23, 26, 29, 32])"
            ]
          },
          "metadata": {},
          "execution_count": 5
        }
      ]
    },
    {
      "cell_type": "code",
      "source": [],
      "metadata": {
        "id": "QFJKwyAeN8ny"
      },
      "execution_count": null,
      "outputs": []
    },
    {
      "cell_type": "markdown",
      "source": [
        "#23.Find the indices of all maximum elements in a 1D array.\n",
        "\n",
        "arr = np.array([1, 3, 2, 3, 4, 3])\n",
        "\n",
        "Output: [[4]]"
      ],
      "metadata": {
        "id": "JwsRooF59JLq"
      }
    },
    {
      "cell_type": "code",
      "source": [
        "arr = np.array([1, 3, 2, 3, 6, 3])\n",
        "b=arr.max()\n",
        "b"
      ],
      "metadata": {
        "id": "DaZC5-Gv9Jne",
        "colab": {
          "base_uri": "https://localhost:8080/"
        },
        "outputId": "35f56076-2374-4bed-9716-bee8f5d48ad9"
      },
      "execution_count": null,
      "outputs": [
        {
          "output_type": "execute_result",
          "data": {
            "text/plain": [
              "6"
            ]
          },
          "metadata": {},
          "execution_count": 10
        }
      ]
    },
    {
      "cell_type": "code",
      "source": [
        "arr = np.array([1, 3, 2, 3, 6, 3])\n",
        "b=np.max(arr)\n",
        "b"
      ],
      "metadata": {
        "colab": {
          "base_uri": "https://localhost:8080/"
        },
        "id": "LRcojCNDiIhv",
        "outputId": "86403fbc-9b1b-4d97-8abe-516a9c66e0eb"
      },
      "execution_count": null,
      "outputs": [
        {
          "output_type": "execute_result",
          "data": {
            "text/plain": [
              "6"
            ]
          },
          "metadata": {},
          "execution_count": 9
        }
      ]
    },
    {
      "cell_type": "code",
      "source": [
        "="
      ],
      "metadata": {
        "id": "faCKYCO_h8kE"
      },
      "execution_count": null,
      "outputs": []
    },
    {
      "cell_type": "code",
      "source": [],
      "metadata": {
        "id": "X6xoqczFN92A"
      },
      "execution_count": null,
      "outputs": []
    },
    {
      "cell_type": "markdown",
      "source": [
        "#24.Create the ranks for the given numeric array a\n",
        "\n",
        "Input:\n",
        "\n",
        "np.random.seed(10)\n",
        "\n",
        "a = np.random.randint(20, size=10)\n",
        "\n",
        "Desired output:\n",
        "\n",
        "[4 2 6 0 8 7 9 3 5 1]\n"
      ],
      "metadata": {
        "id": "njiFlbYvPzgR"
      }
    },
    {
      "cell_type": "code",
      "source": [],
      "metadata": {
        "id": "SGf4TYdXN_M_"
      },
      "execution_count": null,
      "outputs": []
    },
    {
      "cell_type": "code",
      "source": [],
      "metadata": {
        "id": "amuL_gB_-SJo"
      },
      "execution_count": null,
      "outputs": []
    },
    {
      "cell_type": "markdown",
      "source": [
        "#25.Concatenate two 1D arrays horizontally.\n",
        "arr1 = np.array([1, 2, 3])\n",
        "\n",
        "arr2 = np.array([4, 5, 6])\n",
        "\n",
        "Output: [1 2 3 4 5 6]"
      ],
      "metadata": {
        "id": "cK4NxYQH-01O"
      }
    },
    {
      "cell_type": "code",
      "source": [],
      "metadata": {
        "id": "oHexShu2OAzk"
      },
      "execution_count": null,
      "outputs": []
    },
    {
      "cell_type": "code",
      "source": [],
      "metadata": {
        "id": "LEzEq2nqOA6P"
      },
      "execution_count": null,
      "outputs": []
    }
  ]
}