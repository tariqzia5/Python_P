{
  "nbformat": 4,
  "nbformat_minor": 0,
  "metadata": {
    "colab": {
      "provenance": [],
      "toc_visible": true,
      "include_colab_link": true
    },
    "kernelspec": {
      "name": "python3",
      "display_name": "Python 3"
    },
    "language_info": {
      "name": "python"
    }
  },
  "cells": [
    {
      "cell_type": "markdown",
      "metadata": {
        "id": "view-in-github",
        "colab_type": "text"
      },
      "source": [
        "<a href=\"https://colab.research.google.com/github/tariqzia5/Python_P/blob/main/Python_Session1.ipynb\" target=\"_parent\"><img src=\"https://colab.research.google.com/assets/colab-badge.svg\" alt=\"Open In Colab\"/></a>"
      ]
    },
    {
      "cell_type": "markdown",
      "source": [
        "# Python basics"
      ],
      "metadata": {
        "id": "MdxNy2xDfdu5"
      }
    },
    {
      "cell_type": "code",
      "source": [
        "from platform import python_version\n",
        "print(python_version())"
      ],
      "metadata": {
        "colab": {
          "base_uri": "https://localhost:8080/"
        },
        "id": "4qcQ6Cb7gKxV",
        "outputId": "17774341-73dc-48ff-9a44-282d17e0cd55"
      },
      "execution_count": null,
      "outputs": [
        {
          "output_type": "stream",
          "name": "stdout",
          "text": [
            "3.8.16\n"
          ]
        }
      ]
    },
    {
      "cell_type": "code",
      "source": [
        "#python_version\n",
        "from platform import python_version\n",
        "print(python_version())"
      ],
      "metadata": {
        "colab": {
          "base_uri": "https://localhost:8080/"
        },
        "id": "13OcAjCohApJ",
        "outputId": "6fac7dcf-aac3-4f51-ba55-119c71155d17"
      },
      "execution_count": null,
      "outputs": [
        {
          "output_type": "stream",
          "name": "stdout",
          "text": [
            "3.8.16\n"
          ]
        }
      ]
    },
    {
      "cell_type": "code",
      "source": [
        "#Addition\n",
        "45+45\n"
      ],
      "metadata": {
        "colab": {
          "base_uri": "https://localhost:8080/"
        },
        "id": "oWYSLikVhQWA",
        "outputId": "3c720bdc-8ef5-41b8-a3ec-9a0e1add9bec"
      },
      "execution_count": null,
      "outputs": [
        {
          "output_type": "execute_result",
          "data": {
            "text/plain": [
              "90"
            ]
          },
          "metadata": {},
          "execution_count": 7
        }
      ]
    },
    {
      "cell_type": "code",
      "source": [
        "#Multiplication\n",
        "23*65"
      ],
      "metadata": {
        "colab": {
          "base_uri": "https://localhost:8080/"
        },
        "id": "dGYB2DQphjyH",
        "outputId": "42b95c4c-a1d6-473e-c113-e3214a7dcf48"
      },
      "execution_count": null,
      "outputs": [
        {
          "output_type": "execute_result",
          "data": {
            "text/plain": [
              "1495"
            ]
          },
          "metadata": {},
          "execution_count": 8
        }
      ]
    },
    {
      "cell_type": "code",
      "source": [
        "print(\"Ganesh\")"
      ],
      "metadata": {
        "colab": {
          "base_uri": "https://localhost:8080/"
        },
        "id": "bDMa7wPHhnCO",
        "outputId": "f08c4b4b-151f-4f4f-eff5-c659212ac8d7"
      },
      "execution_count": null,
      "outputs": [
        {
          "output_type": "stream",
          "name": "stdout",
          "text": [
            "Ganesh\n"
          ]
        }
      ]
    },
    {
      "cell_type": "code",
      "source": [
        "print(6*8)\n",
        "2+3"
      ],
      "metadata": {
        "colab": {
          "base_uri": "https://localhost:8080/"
        },
        "id": "p8RcoaCBhwhC",
        "outputId": "fb6cc850-7037-48a8-a354-ef5bc12fbd48"
      },
      "execution_count": null,
      "outputs": [
        {
          "output_type": "stream",
          "name": "stdout",
          "text": [
            "48\n"
          ]
        },
        {
          "output_type": "execute_result",
          "data": {
            "text/plain": [
              "5"
            ]
          },
          "metadata": {},
          "execution_count": 14
        }
      ]
    },
    {
      "cell_type": "code",
      "source": [
        "print(6*8)\n",
        "2+3"
      ],
      "metadata": {
        "colab": {
          "base_uri": "https://localhost:8080/"
        },
        "id": "Uxi45iq8i8_M",
        "outputId": "728ff092-aa0d-4813-fe19-f3a864df695c"
      },
      "execution_count": null,
      "outputs": [
        {
          "output_type": "stream",
          "name": "stdout",
          "text": [
            "48\n"
          ]
        },
        {
          "output_type": "execute_result",
          "data": {
            "text/plain": [
              "5"
            ]
          },
          "metadata": {},
          "execution_count": 15
        }
      ]
    },
    {
      "cell_type": "code",
      "source": [
        "print(45+55)\n",
        "print(6*8)"
      ],
      "metadata": {
        "colab": {
          "base_uri": "https://localhost:8080/"
        },
        "id": "WvOLkNbuiDJU",
        "outputId": "334034f8-75b7-4d54-89a6-520df8e98b86"
      },
      "execution_count": null,
      "outputs": [
        {
          "output_type": "stream",
          "name": "stdout",
          "text": [
            "100\n",
            "48\n"
          ]
        }
      ]
    },
    {
      "cell_type": "code",
      "source": [
        "#Python is a very much case sensitive language\n",
        "Print(\"DV\")"
      ],
      "metadata": {
        "colab": {
          "base_uri": "https://localhost:8080/",
          "height": 165
        },
        "id": "GeeEySCEiIIi",
        "outputId": "c160f2b4-7ddd-4c2d-94fd-9d68c1f8ace8"
      },
      "execution_count": null,
      "outputs": [
        {
          "output_type": "error",
          "ename": "NameError",
          "evalue": "ignored",
          "traceback": [
            "\u001b[0;31m---------------------------------------------------------------------------\u001b[0m",
            "\u001b[0;31mNameError\u001b[0m                                 Traceback (most recent call last)",
            "\u001b[0;32m<ipython-input-12-48113a490b0f>\u001b[0m in \u001b[0;36m<module>\u001b[0;34m\u001b[0m\n\u001b[0;32m----> 1\u001b[0;31m \u001b[0mPrint\u001b[0m\u001b[0;34m(\u001b[0m\u001b[0;34m\"DV\"\u001b[0m\u001b[0;34m)\u001b[0m\u001b[0;34m\u001b[0m\u001b[0;34m\u001b[0m\u001b[0m\n\u001b[0m",
            "\u001b[0;31mNameError\u001b[0m: name 'Print' is not defined"
          ]
        }
      ]
    },
    {
      "cell_type": "markdown",
      "source": [
        "# Naming convention"
      ],
      "metadata": {
        "id": "f9SY05mGlhjB"
      }
    },
    {
      "cell_type": "code",
      "source": [
        "x=1200"
      ],
      "metadata": {
        "id": "XeIFnH63lk9k"
      },
      "execution_count": null,
      "outputs": []
    },
    {
      "cell_type": "code",
      "source": [
        "print(x)"
      ],
      "metadata": {
        "colab": {
          "base_uri": "https://localhost:8080/"
        },
        "id": "8b9Qq0pHltqW",
        "outputId": "033cd879-d075-4251-dcb8-d5e49092eb37"
      },
      "execution_count": null,
      "outputs": [
        {
          "output_type": "stream",
          "name": "stdout",
          "text": [
            "1200\n"
          ]
        }
      ]
    },
    {
      "cell_type": "code",
      "source": [
        "print(\"x\")"
      ],
      "metadata": {
        "colab": {
          "base_uri": "https://localhost:8080/"
        },
        "id": "8IMEcxGRlv-H",
        "outputId": "1841373c-fe23-419c-8e48-34cf0308cd23"
      },
      "execution_count": null,
      "outputs": [
        {
          "output_type": "stream",
          "name": "stdout",
          "text": [
            "x\n"
          ]
        }
      ]
    },
    {
      "cell_type": "code",
      "source": [
        "a=20\n",
        "b=10"
      ],
      "metadata": {
        "id": "gygCf4Fal2il"
      },
      "execution_count": null,
      "outputs": []
    },
    {
      "cell_type": "code",
      "source": [
        "c=a+b"
      ],
      "metadata": {
        "id": "MbEztxdOmSW0"
      },
      "execution_count": null,
      "outputs": []
    },
    {
      "cell_type": "code",
      "source": [
        "print(c)"
      ],
      "metadata": {
        "colab": {
          "base_uri": "https://localhost:8080/"
        },
        "id": "yBHzmdC2mUj1",
        "outputId": "39d3d649-c622-49fd-80d0-09bd4fce6c7a"
      },
      "execution_count": null,
      "outputs": [
        {
          "output_type": "stream",
          "name": "stdout",
          "text": [
            "30\n"
          ]
        }
      ]
    },
    {
      "cell_type": "markdown",
      "source": [
        "# Type of data structures\n",
        "1-List\n",
        "2-Tuples\n",
        "3-Linked list\n",
        "4-Numbers\n",
        "5-set,frozen set\n",
        "6-strings\n",
        "7-Boolean\n",
        "8-Dictionary\n"
      ],
      "metadata": {
        "id": "j6lc03uHmpGv"
      }
    },
    {
      "cell_type": "markdown",
      "source": [
        "## Integer"
      ],
      "metadata": {
        "id": "CmP0CWyfnnft"
      }
    },
    {
      "cell_type": "code",
      "source": [
        "age=25\n",
        "print(type(age))"
      ],
      "metadata": {
        "colab": {
          "base_uri": "https://localhost:8080/"
        },
        "id": "0PnKAVtymsjc",
        "outputId": "1ec44276-6411-4cc3-a890-7ce5e844c04a"
      },
      "execution_count": null,
      "outputs": [
        {
          "output_type": "stream",
          "name": "stdout",
          "text": [
            "<class 'int'>\n"
          ]
        }
      ]
    },
    {
      "cell_type": "markdown",
      "source": [
        "## Float"
      ],
      "metadata": {
        "id": "xMiwJuRLoC9S"
      }
    },
    {
      "cell_type": "code",
      "source": [
        "income=89.87\n",
        "print(type(income))"
      ],
      "metadata": {
        "colab": {
          "base_uri": "https://localhost:8080/"
        },
        "id": "JX2Lixsen92u",
        "outputId": "ff4ee43c-d7fd-48f4-fbcd-7a9b1b917171"
      },
      "execution_count": null,
      "outputs": [
        {
          "output_type": "stream",
          "name": "stdout",
          "text": [
            "<class 'float'>\n"
          ]
        }
      ]
    },
    {
      "cell_type": "markdown",
      "source": [
        "## Strings"
      ],
      "metadata": {
        "id": "8fRoDW0HoM1V"
      }
    },
    {
      "cell_type": "code",
      "source": [
        "name=\"DV Analytics\""
      ],
      "metadata": {
        "id": "qV2cjwKsoKKk"
      },
      "execution_count": null,
      "outputs": []
    },
    {
      "cell_type": "code",
      "source": [
        "print(type(name))"
      ],
      "metadata": {
        "colab": {
          "base_uri": "https://localhost:8080/"
        },
        "id": "knfvmrZsoUbB",
        "outputId": "e73370bf-decc-48df-9c50-c9f771c1b1e4"
      },
      "execution_count": null,
      "outputs": [
        {
          "output_type": "stream",
          "name": "stdout",
          "text": [
            "<class 'str'>\n"
          ]
        }
      ]
    },
    {
      "cell_type": "code",
      "source": [
        "print(name)"
      ],
      "metadata": {
        "colab": {
          "base_uri": "https://localhost:8080/"
        },
        "id": "ylLf5mHpocWH",
        "outputId": "674ae79c-34e3-43f0-ad9a-7aa5605d7346"
      },
      "execution_count": null,
      "outputs": [
        {
          "output_type": "stream",
          "name": "stdout",
          "text": [
            "DV Analytics\n"
          ]
        }
      ]
    },
    {
      "cell_type": "code",
      "source": [
        "#How to get the number of characters\n",
        "len(name)"
      ],
      "metadata": {
        "colab": {
          "base_uri": "https://localhost:8080/"
        },
        "id": "MCz1SFlIofQP",
        "outputId": "2da3168e-7587-4689-b03b-adb022b42fb6"
      },
      "execution_count": null,
      "outputs": [
        {
          "output_type": "execute_result",
          "data": {
            "text/plain": [
              "12"
            ]
          },
          "metadata": {},
          "execution_count": 31
        }
      ]
    },
    {
      "cell_type": "code",
      "source": [
        "#To find a particular element\n",
        "name.find(\"D\")"
      ],
      "metadata": {
        "colab": {
          "base_uri": "https://localhost:8080/"
        },
        "id": "OKP7Hb1Bo81Y",
        "outputId": "d71f0e99-dc24-4cea-b7b0-5f7a60c28f71"
      },
      "execution_count": null,
      "outputs": [
        {
          "output_type": "execute_result",
          "data": {
            "text/plain": [
              "0"
            ]
          },
          "metadata": {},
          "execution_count": 34
        }
      ]
    },
    {
      "cell_type": "code",
      "source": [
        "name.find(\"V\")"
      ],
      "metadata": {
        "colab": {
          "base_uri": "https://localhost:8080/"
        },
        "id": "A_J1wMPHpYMX",
        "outputId": "243361ff-799a-4f9a-b254-19e7f507cc77"
      },
      "execution_count": null,
      "outputs": [
        {
          "output_type": "execute_result",
          "data": {
            "text/plain": [
              "1"
            ]
          },
          "metadata": {},
          "execution_count": 35
        }
      ]
    },
    {
      "cell_type": "code",
      "source": [
        "name=\"DV analytics\""
      ],
      "metadata": {
        "id": "C2NFx5_vpgzo"
      },
      "execution_count": null,
      "outputs": []
    },
    {
      "cell_type": "code",
      "source": [
        "#Multiple number of elements present\n",
        "name.find(\"a\")"
      ],
      "metadata": {
        "colab": {
          "base_uri": "https://localhost:8080/"
        },
        "id": "YxgNpdjDpcv5",
        "outputId": "91ac2673-500b-443b-b23c-8d4896a11d77"
      },
      "execution_count": null,
      "outputs": [
        {
          "output_type": "execute_result",
          "data": {
            "text/plain": [
              "3"
            ]
          },
          "metadata": {},
          "execution_count": 38
        }
      ]
    },
    {
      "cell_type": "code",
      "source": [
        "name.find(\"x\")"
      ],
      "metadata": {
        "colab": {
          "base_uri": "https://localhost:8080/"
        },
        "id": "VYAtDqcqp_MB",
        "outputId": "f6614aa7-9f56-4778-b203-fd3bc86aa4ab"
      },
      "execution_count": null,
      "outputs": [
        {
          "output_type": "execute_result",
          "data": {
            "text/plain": [
              "-1"
            ]
          },
          "metadata": {},
          "execution_count": 39
        }
      ]
    },
    {
      "cell_type": "markdown",
      "source": [
        "### Silcing of string"
      ],
      "metadata": {
        "id": "cI7aqkQTqVms"
      }
    },
    {
      "cell_type": "code",
      "source": [
        "name=\"DV Analytics\""
      ],
      "metadata": {
        "id": "qk2zhEtzqYUv"
      },
      "execution_count": null,
      "outputs": []
    },
    {
      "cell_type": "code",
      "source": [
        "name[0]"
      ],
      "metadata": {
        "colab": {
          "base_uri": "https://localhost:8080/",
          "height": 36
        },
        "id": "hIRW_qSeqlcR",
        "outputId": "98b8ab44-df39-4086-9d7f-3ce0e168cffe"
      },
      "execution_count": null,
      "outputs": [
        {
          "output_type": "execute_result",
          "data": {
            "text/plain": [
              "'D'"
            ],
            "application/vnd.google.colaboratory.intrinsic+json": {
              "type": "string"
            }
          },
          "metadata": {},
          "execution_count": 41
        }
      ]
    },
    {
      "cell_type": "code",
      "source": [
        "name[0:4]"
      ],
      "metadata": {
        "colab": {
          "base_uri": "https://localhost:8080/",
          "height": 36
        },
        "id": "rPQLK8A_qtc7",
        "outputId": "dde8cf53-ff07-4340-9c20-e4a4b4b12eeb"
      },
      "execution_count": null,
      "outputs": [
        {
          "output_type": "execute_result",
          "data": {
            "text/plain": [
              "'DV A'"
            ],
            "application/vnd.google.colaboratory.intrinsic+json": {
              "type": "string"
            }
          },
          "metadata": {},
          "execution_count": 43
        }
      ]
    },
    {
      "cell_type": "code",
      "source": [
        "name[:]"
      ],
      "metadata": {
        "colab": {
          "base_uri": "https://localhost:8080/",
          "height": 36
        },
        "id": "lbciLZAsrDcv",
        "outputId": "7b2e5ca7-8cb3-4339-e9c5-9f123f3fc202"
      },
      "execution_count": null,
      "outputs": [
        {
          "output_type": "execute_result",
          "data": {
            "text/plain": [
              "'DV Analytics'"
            ],
            "application/vnd.google.colaboratory.intrinsic+json": {
              "type": "string"
            }
          },
          "metadata": {},
          "execution_count": 44
        }
      ]
    },
    {
      "cell_type": "code",
      "source": [
        "name[0:25]"
      ],
      "metadata": {
        "colab": {
          "base_uri": "https://localhost:8080/",
          "height": 36
        },
        "id": "D_d0JnyBrInJ",
        "outputId": "00d24ef5-a425-477c-9258-ba93adbfc914"
      },
      "execution_count": null,
      "outputs": [
        {
          "output_type": "execute_result",
          "data": {
            "text/plain": [
              "'DV Analytics'"
            ],
            "application/vnd.google.colaboratory.intrinsic+json": {
              "type": "string"
            }
          },
          "metadata": {},
          "execution_count": 45
        }
      ]
    },
    {
      "cell_type": "code",
      "source": [
        "#what will happen if we use normal braces\n",
        "name(0:4)"
      ],
      "metadata": {
        "colab": {
          "base_uri": "https://localhost:8080/",
          "height": 130
        },
        "id": "p0W7oxh2rUUQ",
        "outputId": "bf5feb78-320f-4307-ef24-4a9000321d55"
      },
      "execution_count": null,
      "outputs": [
        {
          "output_type": "error",
          "ename": "SyntaxError",
          "evalue": "ignored",
          "traceback": [
            "\u001b[0;36m  File \u001b[0;32m\"<ipython-input-46-5c8ddfb9d4bf>\"\u001b[0;36m, line \u001b[0;32m1\u001b[0m\n\u001b[0;31m    name(0:4)\u001b[0m\n\u001b[0m          ^\u001b[0m\n\u001b[0;31mSyntaxError\u001b[0m\u001b[0;31m:\u001b[0m invalid syntax\n"
          ]
        }
      ]
    },
    {
      "cell_type": "markdown",
      "source": [
        "## How to concatenatinate two sings"
      ],
      "metadata": {
        "id": "zJVOwTe-rn44"
      }
    },
    {
      "cell_type": "code",
      "source": [
        "name=\"Virat\"\n",
        "name1=\"Kohli\""
      ],
      "metadata": {
        "id": "DtRbZ-JIrTO_"
      },
      "execution_count": null,
      "outputs": []
    },
    {
      "cell_type": "code",
      "source": [
        "name_final=name+\" \"+name1\n",
        "print(name_final)"
      ],
      "metadata": {
        "colab": {
          "base_uri": "https://localhost:8080/"
        },
        "id": "RivuR1cjry2B",
        "outputId": "73558fc7-5f49-4e27-af4d-769fb7038c1d"
      },
      "execution_count": null,
      "outputs": [
        {
          "output_type": "stream",
          "name": "stdout",
          "text": [
            "Virat Kohli\n"
          ]
        }
      ]
    },
    {
      "cell_type": "code",
      "source": [
        "name=\"  Dv analytics \""
      ],
      "metadata": {
        "id": "OItob8JcsBGA"
      },
      "execution_count": null,
      "outputs": []
    },
    {
      "cell_type": "code",
      "source": [
        "len(name)"
      ],
      "metadata": {
        "colab": {
          "base_uri": "https://localhost:8080/"
        },
        "id": "qi-LiRSNsNtr",
        "outputId": "f5cec513-4347-43c5-ab02-82cfcf9f08d6"
      },
      "execution_count": null,
      "outputs": [
        {
          "output_type": "execute_result",
          "data": {
            "text/plain": [
              "15"
            ]
          },
          "metadata": {},
          "execution_count": 52
        }
      ]
    },
    {
      "cell_type": "code",
      "source": [
        "name=name.strip()\n",
        "name"
      ],
      "metadata": {
        "colab": {
          "base_uri": "https://localhost:8080/",
          "height": 36
        },
        "id": "Ntk6VEc8sSxR",
        "outputId": "eeefa407-da87-4909-940d-e7594edd9020"
      },
      "execution_count": null,
      "outputs": [
        {
          "output_type": "execute_result",
          "data": {
            "text/plain": [
              "'Dv analytics'"
            ],
            "application/vnd.google.colaboratory.intrinsic+json": {
              "type": "string"
            }
          },
          "metadata": {},
          "execution_count": 54
        }
      ]
    },
    {
      "cell_type": "markdown",
      "source": [
        "# Lab-Strings"
      ],
      "metadata": {
        "id": "gqizeOATuYiC"
      }
    },
    {
      "cell_type": "code",
      "source": [
        "x=\" Hello World \""
      ],
      "metadata": {
        "id": "aHqFTwFQuaNF"
      },
      "execution_count": null,
      "outputs": []
    },
    {
      "cell_type": "code",
      "source": [
        "#Find the index location of r\n",
        "x.find('r')"
      ],
      "metadata": {
        "colab": {
          "base_uri": "https://localhost:8080/"
        },
        "id": "nAz9X2FUuePQ",
        "outputId": "c4dc7f26-5b2a-4ba4-a3a7-66e988043582"
      },
      "execution_count": null,
      "outputs": [
        {
          "output_type": "execute_result",
          "data": {
            "text/plain": [
              "9"
            ]
          },
          "metadata": {},
          "execution_count": 60
        }
      ]
    },
    {
      "cell_type": "code",
      "source": [
        "x[9]"
      ],
      "metadata": {
        "colab": {
          "base_uri": "https://localhost:8080/",
          "height": 36
        },
        "id": "1VddpzGsulB7",
        "outputId": "cbc3229a-fada-4ff6-9837-88527f6c07dc"
      },
      "execution_count": null,
      "outputs": [
        {
          "output_type": "execute_result",
          "data": {
            "text/plain": [
              "'r'"
            ],
            "application/vnd.google.colaboratory.intrinsic+json": {
              "type": "string"
            }
          },
          "metadata": {},
          "execution_count": 61
        }
      ]
    },
    {
      "cell_type": "code",
      "source": [
        "text1=x.strip()"
      ],
      "metadata": {
        "id": "W2_vesXOunn6"
      },
      "execution_count": null,
      "outputs": []
    },
    {
      "cell_type": "code",
      "source": [
        "text1"
      ],
      "metadata": {
        "colab": {
          "base_uri": "https://localhost:8080/",
          "height": 36
        },
        "id": "ABDrzIciu7LT",
        "outputId": "4a2bbc52-4a91-4240-ea4c-28690ef72589"
      },
      "execution_count": null,
      "outputs": [
        {
          "output_type": "execute_result",
          "data": {
            "text/plain": [
              "'Hello World'"
            ],
            "application/vnd.google.colaboratory.intrinsic+json": {
              "type": "string"
            }
          },
          "metadata": {},
          "execution_count": 63
        }
      ]
    },
    {
      "cell_type": "code",
      "source": [
        "text1[1:5]"
      ],
      "metadata": {
        "colab": {
          "base_uri": "https://localhost:8080/",
          "height": 36
        },
        "id": "Was0fDnJvHww",
        "outputId": "4345a400-ee94-4c82-d508-ca324b3d78f3"
      },
      "execution_count": null,
      "outputs": [
        {
          "output_type": "execute_result",
          "data": {
            "text/plain": [
              "'ello'"
            ],
            "application/vnd.google.colaboratory.intrinsic+json": {
              "type": "string"
            }
          },
          "metadata": {},
          "execution_count": 64
        }
      ]
    },
    {
      "cell_type": "code",
      "source": [
        "text1[6]"
      ],
      "metadata": {
        "colab": {
          "base_uri": "https://localhost:8080/",
          "height": 36
        },
        "id": "K-WLTYPAvSyZ",
        "outputId": "b634812c-4ffe-4370-8d8b-92b919c76f0a"
      },
      "execution_count": null,
      "outputs": [
        {
          "output_type": "execute_result",
          "data": {
            "text/plain": [
              "'W'"
            ],
            "application/vnd.google.colaboratory.intrinsic+json": {
              "type": "string"
            }
          },
          "metadata": {},
          "execution_count": 66
        }
      ]
    },
    {
      "cell_type": "code",
      "source": [
        "text1+\"!\""
      ],
      "metadata": {
        "colab": {
          "base_uri": "https://localhost:8080/",
          "height": 36
        },
        "id": "WglMDhckvMPw",
        "outputId": "88366463-ccd6-4c8e-bd48-4e67fdd198f7"
      },
      "execution_count": null,
      "outputs": [
        {
          "output_type": "execute_result",
          "data": {
            "text/plain": [
              "'Hello World!'"
            ],
            "application/vnd.google.colaboratory.intrinsic+json": {
              "type": "string"
            }
          },
          "metadata": {},
          "execution_count": 65
        }
      ]
    },
    {
      "cell_type": "markdown",
      "source": [
        "## Boolean"
      ],
      "metadata": {
        "id": "4pdj6ciWvaYO"
      }
    },
    {
      "cell_type": "code",
      "source": [
        "a=5>6"
      ],
      "metadata": {
        "id": "3nPAzpx_vhVR"
      },
      "execution_count": null,
      "outputs": []
    },
    {
      "cell_type": "code",
      "source": [
        "print(a)"
      ],
      "metadata": {
        "colab": {
          "base_uri": "https://localhost:8080/"
        },
        "id": "qqMGXNAWvo_k",
        "outputId": "02d3c5ca-d4df-46b1-f383-ea8efcce24c0"
      },
      "execution_count": null,
      "outputs": [
        {
          "output_type": "stream",
          "name": "stdout",
          "text": [
            "False\n"
          ]
        }
      ]
    },
    {
      "cell_type": "code",
      "source": [
        "print(type(a))"
      ],
      "metadata": {
        "colab": {
          "base_uri": "https://localhost:8080/"
        },
        "id": "_bDhYQq-vkOD",
        "outputId": "986d229e-3788-45ea-856d-8cbafaa6ffc8"
      },
      "execution_count": null,
      "outputs": [
        {
          "output_type": "stream",
          "name": "stdout",
          "text": [
            "<class 'bool'>\n"
          ]
        }
      ]
    },
    {
      "cell_type": "code",
      "source": [
        "b=5>4"
      ],
      "metadata": {
        "id": "2mHYPVlwv0n7"
      },
      "execution_count": null,
      "outputs": []
    },
    {
      "cell_type": "code",
      "source": [
        "print(b)"
      ],
      "metadata": {
        "colab": {
          "base_uri": "https://localhost:8080/"
        },
        "id": "nV_Nj4ICv5ia",
        "outputId": "1400bc12-9e40-4fb0-e6be-e9c6678fe58f"
      },
      "execution_count": null,
      "outputs": [
        {
          "output_type": "stream",
          "name": "stdout",
          "text": [
            "True\n"
          ]
        }
      ]
    },
    {
      "cell_type": "markdown",
      "source": [
        "# List"
      ],
      "metadata": {
        "id": "v6dnpoq0wG_t"
      }
    },
    {
      "cell_type": "code",
      "source": [
        "cust=[\"Sheldon\",\"Leonard\",\"penny\"]"
      ],
      "metadata": {
        "id": "1pMdse4KwcGC"
      },
      "execution_count": null,
      "outputs": []
    },
    {
      "cell_type": "code",
      "source": [
        "print(type(cust))"
      ],
      "metadata": {
        "colab": {
          "base_uri": "https://localhost:8080/"
        },
        "id": "3H7tpA4Mwvkv",
        "outputId": "46255abe-5b0e-4023-afe4-9685d0a58f67"
      },
      "execution_count": null,
      "outputs": [
        {
          "output_type": "stream",
          "name": "stdout",
          "text": [
            "<class 'list'>\n"
          ]
        }
      ]
    },
    {
      "cell_type": "code",
      "source": [
        "cust=[\"Sheldon\",\"Leonard\",\"penny\",12,45,56]"
      ],
      "metadata": {
        "id": "IWkIQZjjxAK2"
      },
      "execution_count": null,
      "outputs": []
    },
    {
      "cell_type": "markdown",
      "source": [
        "## Indexing in list"
      ],
      "metadata": {
        "id": "5wtLfvaNs9Bt"
      }
    },
    {
      "cell_type": "code",
      "source": [
        "cust[0]"
      ],
      "metadata": {
        "colab": {
          "base_uri": "https://localhost:8080/",
          "height": 36
        },
        "id": "qm6bS_P0s_iP",
        "outputId": "fb307bee-bb36-4584-ab11-abe2a315e17f"
      },
      "execution_count": null,
      "outputs": [
        {
          "output_type": "execute_result",
          "data": {
            "text/plain": [
              "'Sheldon'"
            ],
            "application/vnd.google.colaboratory.intrinsic+json": {
              "type": "string"
            }
          },
          "metadata": {},
          "execution_count": 4
        }
      ]
    },
    {
      "cell_type": "code",
      "source": [
        "cust[0:2]"
      ],
      "metadata": {
        "colab": {
          "base_uri": "https://localhost:8080/"
        },
        "id": "gWuFQ9GftLkj",
        "outputId": "6db79f7c-1af1-4ce7-9f7f-12802a3a54c1"
      },
      "execution_count": null,
      "outputs": [
        {
          "output_type": "execute_result",
          "data": {
            "text/plain": [
              "['Sheldon', 'Leonard']"
            ]
          },
          "metadata": {},
          "execution_count": 5
        }
      ]
    },
    {
      "cell_type": "code",
      "source": [
        "Age=[15,44,38,19,36,25]"
      ],
      "metadata": {
        "id": "WHM4-P4TuzQl"
      },
      "execution_count": null,
      "outputs": []
    },
    {
      "cell_type": "code",
      "source": [
        "Age[2:5]"
      ],
      "metadata": {
        "colab": {
          "base_uri": "https://localhost:8080/"
        },
        "id": "U7twYkOru5MX",
        "outputId": "5dbc27b4-69c8-4580-a000-0f1c399cf89e"
      },
      "execution_count": null,
      "outputs": [
        {
          "output_type": "execute_result",
          "data": {
            "text/plain": [
              "[38, 19, 36]"
            ]
          },
          "metadata": {},
          "execution_count": 7
        }
      ]
    },
    {
      "cell_type": "code",
      "source": [
        "Age[2:10]"
      ],
      "metadata": {
        "colab": {
          "base_uri": "https://localhost:8080/"
        },
        "id": "7Nseo3yCvCx0",
        "outputId": "322f9b48-d052-4a6c-dd17-84f7b5d5fdf5"
      },
      "execution_count": null,
      "outputs": [
        {
          "output_type": "execute_result",
          "data": {
            "text/plain": [
              "[38, 19, 36, 25]"
            ]
          },
          "metadata": {},
          "execution_count": 8
        }
      ]
    },
    {
      "cell_type": "code",
      "source": [
        "Age[2:]"
      ],
      "metadata": {
        "colab": {
          "base_uri": "https://localhost:8080/"
        },
        "id": "b_U2b-SOvJLR",
        "outputId": "426c19ca-a02e-419c-eec5-655ab8f3914d"
      },
      "execution_count": null,
      "outputs": [
        {
          "output_type": "execute_result",
          "data": {
            "text/plain": [
              "[38, 19, 36, 25]"
            ]
          },
          "metadata": {},
          "execution_count": 9
        }
      ]
    },
    {
      "cell_type": "code",
      "source": [
        "Age[-4:-2]"
      ],
      "metadata": {
        "colab": {
          "base_uri": "https://localhost:8080/"
        },
        "id": "qG6K64_HvNHp",
        "outputId": "300527e4-8ed8-4888-b2cd-db697bfcfe84"
      },
      "execution_count": null,
      "outputs": [
        {
          "output_type": "execute_result",
          "data": {
            "text/plain": [
              "[38, 19]"
            ]
          },
          "metadata": {},
          "execution_count": 10
        }
      ]
    },
    {
      "cell_type": "markdown",
      "source": [
        "## Mutability of list"
      ],
      "metadata": {
        "id": "rHWYmeOJvrd5"
      }
    },
    {
      "cell_type": "code",
      "source": [
        "Age=[15,44,38,19,36,25]"
      ],
      "metadata": {
        "id": "eKZNCIqov2WQ"
      },
      "execution_count": null,
      "outputs": []
    },
    {
      "cell_type": "code",
      "source": [
        "Age[0]=27"
      ],
      "metadata": {
        "id": "LieSX9U-v76u"
      },
      "execution_count": null,
      "outputs": []
    },
    {
      "cell_type": "code",
      "source": [
        "Age"
      ],
      "metadata": {
        "colab": {
          "base_uri": "https://localhost:8080/"
        },
        "id": "PUCemaWyv_zG",
        "outputId": "f9ea7da1-07c1-46d2-dc0c-321460ab9a60"
      },
      "execution_count": null,
      "outputs": [
        {
          "output_type": "execute_result",
          "data": {
            "text/plain": [
              "[27, 44, 38, 19, 36, 25]"
            ]
          },
          "metadata": {},
          "execution_count": 16
        }
      ]
    },
    {
      "cell_type": "markdown",
      "source": [
        "## Append function"
      ],
      "metadata": {
        "id": "Yltp5qrawgf0"
      }
    },
    {
      "cell_type": "code",
      "source": [
        "Age.append(56)"
      ],
      "metadata": {
        "id": "xYTiOl2gwoJg"
      },
      "execution_count": null,
      "outputs": []
    },
    {
      "cell_type": "code",
      "source": [
        "Age"
      ],
      "metadata": {
        "colab": {
          "base_uri": "https://localhost:8080/"
        },
        "id": "5KUPCDHowmIj",
        "outputId": "0e7a7b87-3eb6-4674-b3d9-48fd221f65bc"
      },
      "execution_count": null,
      "outputs": [
        {
          "output_type": "execute_result",
          "data": {
            "text/plain": [
              "[27, 44, 38, 19, 36, 25, 56]"
            ]
          },
          "metadata": {},
          "execution_count": 18
        }
      ]
    },
    {
      "cell_type": "code",
      "source": [
        "Age.append([12,13])"
      ],
      "metadata": {
        "id": "_asVJfnAwaic"
      },
      "execution_count": null,
      "outputs": []
    },
    {
      "cell_type": "code",
      "source": [
        "Age\n",
        "#Nested list"
      ],
      "metadata": {
        "colab": {
          "base_uri": "https://localhost:8080/"
        },
        "id": "dMCDCTedw7xK",
        "outputId": "bc628b96-2a32-404d-c13f-5607805b2bf2"
      },
      "execution_count": null,
      "outputs": [
        {
          "output_type": "execute_result",
          "data": {
            "text/plain": [
              "[27, 44, 38, 19, 36, 25, 56, [12, 13]]"
            ]
          },
          "metadata": {},
          "execution_count": 20
        }
      ]
    },
    {
      "cell_type": "markdown",
      "source": [
        "#Insert function"
      ],
      "metadata": {
        "id": "XKfvvaOAxgG9"
      }
    },
    {
      "cell_type": "code",
      "source": [
        "Age.insert(2,33)"
      ],
      "metadata": {
        "id": "0j5rXRb-xon0"
      },
      "execution_count": null,
      "outputs": []
    },
    {
      "cell_type": "code",
      "source": [
        "Age"
      ],
      "metadata": {
        "colab": {
          "base_uri": "https://localhost:8080/"
        },
        "id": "p8fJjCxCxuGK",
        "outputId": "a60fdc55-adeb-484a-e46e-180c01d08335"
      },
      "execution_count": null,
      "outputs": [
        {
          "output_type": "execute_result",
          "data": {
            "text/plain": [
              "[27, 44, 33, 38, 19, 36, 25, 56, [12, 13]]"
            ]
          },
          "metadata": {},
          "execution_count": 22
        }
      ]
    },
    {
      "cell_type": "markdown",
      "source": [
        "## Extend Method"
      ],
      "metadata": {
        "id": "oNqW1Zk3x0zq"
      }
    },
    {
      "cell_type": "code",
      "source": [
        "Age.extend([7,8])"
      ],
      "metadata": {
        "id": "tOqITBdVyFAN"
      },
      "execution_count": null,
      "outputs": []
    },
    {
      "cell_type": "code",
      "source": [
        "Age"
      ],
      "metadata": {
        "colab": {
          "base_uri": "https://localhost:8080/"
        },
        "id": "yuDCsU2AyNOJ",
        "outputId": "6b846dd2-0ae6-43f7-a148-0c324057d927"
      },
      "execution_count": null,
      "outputs": [
        {
          "output_type": "execute_result",
          "data": {
            "text/plain": [
              "[27, 44, 33, 38, 19, 36, 25, 56, [12, 13], 7, 8]"
            ]
          },
          "metadata": {},
          "execution_count": 24
        }
      ]
    },
    {
      "cell_type": "markdown",
      "source": [
        "## Nested List"
      ],
      "metadata": {
        "id": "JRKhqY_YyZJg"
      }
    },
    {
      "cell_type": "code",
      "source": [
        "Age=[1,2,3,[4,5]]"
      ],
      "metadata": {
        "id": "js7ZScLfybBx"
      },
      "execution_count": null,
      "outputs": []
    },
    {
      "cell_type": "code",
      "source": [
        "Age[3][1]"
      ],
      "metadata": {
        "colab": {
          "base_uri": "https://localhost:8080/"
        },
        "id": "7mliqp4yygeM",
        "outputId": "43c485b0-9934-4ed3-9929-1df9528aa7d6"
      },
      "execution_count": null,
      "outputs": [
        {
          "output_type": "execute_result",
          "data": {
            "text/plain": [
              "5"
            ]
          },
          "metadata": {},
          "execution_count": 27
        }
      ]
    },
    {
      "cell_type": "markdown",
      "source": [
        "## Sorting a list"
      ],
      "metadata": {
        "id": "N6V7u-UkzFxo"
      }
    },
    {
      "cell_type": "code",
      "source": [
        "x=[23,45,67,78,89]"
      ],
      "metadata": {
        "id": "spn8IIJ9zHfl"
      },
      "execution_count": null,
      "outputs": []
    },
    {
      "cell_type": "code",
      "source": [
        "x.sort()\n",
        "print(x)"
      ],
      "metadata": {
        "colab": {
          "base_uri": "https://localhost:8080/"
        },
        "id": "4R5eRyp5zKwf",
        "outputId": "888b9999-836c-4499-8afc-49a9b3189476"
      },
      "execution_count": null,
      "outputs": [
        {
          "output_type": "stream",
          "name": "stdout",
          "text": [
            "[23, 45, 67, 78, 89]\n"
          ]
        }
      ]
    },
    {
      "cell_type": "code",
      "source": [
        "x.sort(reverse=True)\n",
        "print(x)"
      ],
      "metadata": {
        "colab": {
          "base_uri": "https://localhost:8080/"
        },
        "id": "ZWlYecytzQjo",
        "outputId": "ec70d759-5dae-4c65-992d-f8b589b0309b"
      },
      "execution_count": null,
      "outputs": [
        {
          "output_type": "stream",
          "name": "stdout",
          "text": [
            "[89, 78, 67, 45, 23]\n"
          ]
        }
      ]
    },
    {
      "cell_type": "code",
      "source": [
        "#how to count the number of occurence of a particular value\n",
        "x=[1,1,1,2,3,4,5]"
      ],
      "metadata": {
        "id": "k85VXvgTzal2"
      },
      "execution_count": null,
      "outputs": []
    },
    {
      "cell_type": "code",
      "source": [
        "x.count(1)"
      ],
      "metadata": {
        "colab": {
          "base_uri": "https://localhost:8080/"
        },
        "id": "kJO7WR46znOa",
        "outputId": "63e5ee2f-e1a1-4fcd-bdf9-1c1fdfb39745"
      },
      "execution_count": null,
      "outputs": [
        {
          "output_type": "execute_result",
          "data": {
            "text/plain": [
              "3"
            ]
          },
          "metadata": {},
          "execution_count": 44
        }
      ]
    },
    {
      "cell_type": "code",
      "source": [
        "\n",
        "lst=[23,34,45,56]"
      ],
      "metadata": {
        "id": "F0cTqNpXztjE"
      },
      "execution_count": null,
      "outputs": []
    },
    {
      "cell_type": "code",
      "source": [
        "#How to find out the maximum value in a list\n",
        "max(lst)"
      ],
      "metadata": {
        "colab": {
          "base_uri": "https://localhost:8080/"
        },
        "id": "v4cBaexK0q91",
        "outputId": "97574fd2-56eb-4606-95f5-aff0c2557b77"
      },
      "execution_count": null,
      "outputs": [
        {
          "output_type": "execute_result",
          "data": {
            "text/plain": [
              "56"
            ]
          },
          "metadata": {},
          "execution_count": 46
        }
      ]
    },
    {
      "cell_type": "markdown",
      "source": [
        "## How to delete a particular element in a list"
      ],
      "metadata": {
        "id": "NmhR6sta0wHs"
      }
    },
    {
      "cell_type": "code",
      "source": [
        "lst=[23,45,67,76,45]"
      ],
      "metadata": {
        "id": "FpbLqP_V0zoh"
      },
      "execution_count": null,
      "outputs": []
    },
    {
      "cell_type": "code",
      "source": [
        "lst.remove(45)"
      ],
      "metadata": {
        "id": "ff8iR42s06QN"
      },
      "execution_count": null,
      "outputs": []
    },
    {
      "cell_type": "code",
      "source": [
        "lst"
      ],
      "metadata": {
        "colab": {
          "base_uri": "https://localhost:8080/"
        },
        "id": "hzDbHt-L0-gJ",
        "outputId": "91cb12d6-1dab-4191-f258-517564758c14"
      },
      "execution_count": null,
      "outputs": [
        {
          "output_type": "execute_result",
          "data": {
            "text/plain": [
              "[23, 67, 76, 45]"
            ]
          },
          "metadata": {},
          "execution_count": 49
        }
      ]
    },
    {
      "cell_type": "code",
      "source": [
        "sales=[300,350,200,250,300]"
      ],
      "metadata": {
        "id": "nuK63SYb1BG-"
      },
      "execution_count": null,
      "outputs": []
    },
    {
      "cell_type": "code",
      "source": [
        "b=sales.pop(2)"
      ],
      "metadata": {
        "id": "gmNDJfda1F_h"
      },
      "execution_count": null,
      "outputs": []
    },
    {
      "cell_type": "code",
      "source": [
        "b"
      ],
      "metadata": {
        "colab": {
          "base_uri": "https://localhost:8080/"
        },
        "id": "yCk--Uyz1Rkv",
        "outputId": "c115fb29-783f-459b-cc0b-05ae7360c157"
      },
      "execution_count": null,
      "outputs": [
        {
          "output_type": "execute_result",
          "data": {
            "text/plain": [
              "200"
            ]
          },
          "metadata": {},
          "execution_count": 59
        }
      ]
    },
    {
      "cell_type": "markdown",
      "source": [
        "# Tuples"
      ],
      "metadata": {
        "id": "9_TNq1Dg4gyL"
      }
    },
    {
      "cell_type": "code",
      "source": [
        "cust_id_t=(\"c00194\",\"c00195\",\"c00198\")"
      ],
      "metadata": {
        "id": "s-M6v04g4h-0"
      },
      "execution_count": null,
      "outputs": []
    },
    {
      "cell_type": "code",
      "source": [
        "cust_id_l=[\"c00194\",\"c00195\",\"c00198\"]"
      ],
      "metadata": {
        "id": "CqkzthLE42Tb"
      },
      "execution_count": null,
      "outputs": []
    },
    {
      "cell_type": "code",
      "source": [
        "print(type(cust_id_l))"
      ],
      "metadata": {
        "colab": {
          "base_uri": "https://localhost:8080/"
        },
        "id": "22_nRu6d45XQ",
        "outputId": "3c765ece-642a-4819-9b07-c5f69dfcfb1e"
      },
      "execution_count": null,
      "outputs": [
        {
          "output_type": "stream",
          "name": "stdout",
          "text": [
            "<class 'list'>\n"
          ]
        }
      ]
    },
    {
      "cell_type": "code",
      "source": [
        "print(type(cust_id_t))"
      ],
      "metadata": {
        "colab": {
          "base_uri": "https://localhost:8080/"
        },
        "id": "v74l8GSG4u2V",
        "outputId": "969e8823-3eaf-41d5-827c-1d1022060bd4"
      },
      "execution_count": null,
      "outputs": [
        {
          "output_type": "stream",
          "name": "stdout",
          "text": [
            "<class 'tuple'>\n"
          ]
        }
      ]
    },
    {
      "cell_type": "markdown",
      "source": [
        "## Packing and unpacking"
      ],
      "metadata": {
        "id": "o2mtvTU45Ccs"
      }
    },
    {
      "cell_type": "code",
      "source": [
        "region=\"E\",\"W\",\"N\",\"S\""
      ],
      "metadata": {
        "id": "dt5XGeok5H96"
      },
      "execution_count": null,
      "outputs": []
    },
    {
      "cell_type": "code",
      "source": [
        "type(region)"
      ],
      "metadata": {
        "colab": {
          "base_uri": "https://localhost:8080/"
        },
        "id": "fSARfrqn53DG",
        "outputId": "02276548-ae3b-4530-db02-3c08ec1d0447"
      },
      "execution_count": null,
      "outputs": [
        {
          "output_type": "execute_result",
          "data": {
            "text/plain": [
              "tuple"
            ]
          },
          "metadata": {},
          "execution_count": 67
        }
      ]
    },
    {
      "cell_type": "code",
      "source": [
        "#unpacking\n",
        "r1,r2,r3,r4=region"
      ],
      "metadata": {
        "id": "ERqjBnwM6HAq"
      },
      "execution_count": null,
      "outputs": []
    },
    {
      "cell_type": "code",
      "source": [
        "#unpacking\n",
        "r1,r2,r3=region"
      ],
      "metadata": {
        "colab": {
          "base_uri": "https://localhost:8080/",
          "height": 182
        },
        "id": "AlnNp5uf6YnD",
        "outputId": "2b371084-de2f-413a-8769-37b1e007b262"
      },
      "execution_count": null,
      "outputs": [
        {
          "output_type": "error",
          "ename": "ValueError",
          "evalue": "ignored",
          "traceback": [
            "\u001b[0;31m---------------------------------------------------------------------------\u001b[0m",
            "\u001b[0;31mValueError\u001b[0m                                Traceback (most recent call last)",
            "\u001b[0;32m<ipython-input-69-4992a9a5928f>\u001b[0m in \u001b[0;36m<module>\u001b[0;34m\u001b[0m\n\u001b[1;32m      1\u001b[0m \u001b[0;31m#unpacking\u001b[0m\u001b[0;34m\u001b[0m\u001b[0;34m\u001b[0m\u001b[0;34m\u001b[0m\u001b[0m\n\u001b[0;32m----> 2\u001b[0;31m \u001b[0mr1\u001b[0m\u001b[0;34m,\u001b[0m\u001b[0mr2\u001b[0m\u001b[0;34m,\u001b[0m\u001b[0mr3\u001b[0m\u001b[0;34m=\u001b[0m\u001b[0mregion\u001b[0m\u001b[0;34m\u001b[0m\u001b[0;34m\u001b[0m\u001b[0m\n\u001b[0m",
            "\u001b[0;31mValueError\u001b[0m: too many values to unpack (expected 3)"
          ]
        }
      ]
    },
    {
      "cell_type": "code",
      "source": [
        "print(r1,r2)"
      ],
      "metadata": {
        "colab": {
          "base_uri": "https://localhost:8080/"
        },
        "id": "UWwkN3Ai6ibG",
        "outputId": "d30c18a8-8279-469e-b431-13e0aaaa0f5d"
      },
      "execution_count": null,
      "outputs": [
        {
          "output_type": "stream",
          "name": "stdout",
          "text": [
            "E W\n"
          ]
        }
      ]
    },
    {
      "cell_type": "markdown",
      "source": [
        "## Tuple vs List"
      ],
      "metadata": {
        "id": "Y0QSto_m6zDr"
      }
    },
    {
      "cell_type": "code",
      "source": [
        "cust_id_t=(\"c00194\",\"c00195\",\"c00198\")"
      ],
      "metadata": {
        "id": "Uou0KeDh62P5"
      },
      "execution_count": null,
      "outputs": []
    },
    {
      "cell_type": "code",
      "source": [
        "cust_id_l=[\"c00194\",\"c00195\",\"c00198\"]"
      ],
      "metadata": {
        "id": "8VG0evN164NQ"
      },
      "execution_count": null,
      "outputs": []
    },
    {
      "cell_type": "code",
      "source": [
        "from sys import getsizeof\n",
        "print(\"tupple size\",getsizeof(cust_id_t))\n",
        "print(\"list size\",getsizeof(cust_id_l))"
      ],
      "metadata": {
        "colab": {
          "base_uri": "https://localhost:8080/"
        },
        "id": "CjwwuPy06-T5",
        "outputId": "130bea12-c29c-4c48-8027-8b0f899fa4f6"
      },
      "execution_count": null,
      "outputs": [
        {
          "output_type": "stream",
          "name": "stdout",
          "text": [
            "tupple size 64\n",
            "list size 80\n"
          ]
        }
      ]
    },
    {
      "cell_type": "code",
      "source": [
        "from timeit import timeit\n",
        "timeit(\"list(['c00194','c00195','c00198'])\",number=1000000)\n",
        "\n"
      ],
      "metadata": {
        "colab": {
          "base_uri": "https://localhost:8080/"
        },
        "id": "aXe-DeNN7bor",
        "outputId": "cf49c605-80f6-49d1-da1a-ae71703f3783"
      },
      "execution_count": null,
      "outputs": [
        {
          "output_type": "execute_result",
          "data": {
            "text/plain": [
              "0.18284861499978433"
            ]
          },
          "metadata": {},
          "execution_count": 75
        }
      ]
    },
    {
      "cell_type": "code",
      "source": [
        "from timeit import timeit\n",
        "\n",
        "timeit(\"tuple(('coo194','coo195','c00198'))\",number=1000000)"
      ],
      "metadata": {
        "colab": {
          "base_uri": "https://localhost:8080/"
        },
        "id": "7Q_OlBtu85V-",
        "outputId": "c240a616-26b5-41a2-d6b9-c89bfa453bf7"
      },
      "execution_count": null,
      "outputs": [
        {
          "output_type": "execute_result",
          "data": {
            "text/plain": [
              "0.08868378900024254"
            ]
          },
          "metadata": {},
          "execution_count": 76
        }
      ]
    },
    {
      "cell_type": "markdown",
      "source": [
        "## Tuple with single element"
      ],
      "metadata": {
        "id": "YE5Mgrmg9SVk"
      }
    },
    {
      "cell_type": "code",
      "source": [
        "country=(\"USA\")"
      ],
      "metadata": {
        "id": "4X7BtJ-p9aQQ"
      },
      "execution_count": null,
      "outputs": []
    },
    {
      "cell_type": "code",
      "source": [
        "type(country)"
      ],
      "metadata": {
        "colab": {
          "base_uri": "https://localhost:8080/"
        },
        "id": "bDQ4SVPt9etr",
        "outputId": "18955562-8194-45ef-f43c-44748a7a6b64"
      },
      "execution_count": null,
      "outputs": [
        {
          "output_type": "execute_result",
          "data": {
            "text/plain": [
              "str"
            ]
          },
          "metadata": {},
          "execution_count": 78
        }
      ]
    },
    {
      "cell_type": "code",
      "source": [
        "country1=(\"USA\",)"
      ],
      "metadata": {
        "id": "5POfXctB9kJm"
      },
      "execution_count": null,
      "outputs": []
    },
    {
      "cell_type": "code",
      "source": [
        "type(country1)"
      ],
      "metadata": {
        "colab": {
          "base_uri": "https://localhost:8080/"
        },
        "id": "_ujTOrGP9oTB",
        "outputId": "d8977bdc-0fd3-4e26-d5f9-40e852456ad7"
      },
      "execution_count": null,
      "outputs": [
        {
          "output_type": "execute_result",
          "data": {
            "text/plain": [
              "tuple"
            ]
          },
          "metadata": {},
          "execution_count": 80
        }
      ]
    },
    {
      "cell_type": "markdown",
      "source": [
        "## Lab-Tuple"
      ],
      "metadata": {
        "id": "KY_YMzHMrHj4"
      }
    },
    {
      "cell_type": "code",
      "source": [
        "names=[\"stan\",\"kyle\",\"clyde\",\"cartman\"]"
      ],
      "metadata": {
        "id": "eGLy9EuJ_m4F"
      },
      "execution_count": null,
      "outputs": []
    },
    {
      "cell_type": "code",
      "source": [
        "some_tuple=(28,\"sophia\",True,names)"
      ],
      "metadata": {
        "id": "7YfzcE09_tor"
      },
      "execution_count": null,
      "outputs": []
    },
    {
      "cell_type": "code",
      "source": [
        "some_tuple"
      ],
      "metadata": {
        "colab": {
          "base_uri": "https://localhost:8080/"
        },
        "id": "8DNLphbg_3E1",
        "outputId": "bae6cfc9-5bc0-46fd-a225-da32f6949b20"
      },
      "execution_count": null,
      "outputs": [
        {
          "output_type": "execute_result",
          "data": {
            "text/plain": [
              "(28, 'sophia', True, ['stan', 'kyle', 'clyde', 'cartman'])"
            ]
          },
          "metadata": {},
          "execution_count": 85
        }
      ]
    },
    {
      "cell_type": "code",
      "source": [
        "some_tuple[3][-1]=\"Ganesh\""
      ],
      "metadata": {
        "id": "9lKMRAC9_-KP"
      },
      "execution_count": null,
      "outputs": []
    },
    {
      "cell_type": "code",
      "source": [
        "some_tuple"
      ],
      "metadata": {
        "colab": {
          "base_uri": "https://localhost:8080/"
        },
        "id": "QcWs28o8AE6m",
        "outputId": "f161fd9a-7aa2-4388-eea4-aee8107fbd3f"
      },
      "execution_count": null,
      "outputs": [
        {
          "output_type": "execute_result",
          "data": {
            "text/plain": [
              "(28, 'sophia', True, ['stan', 'kyle', 'clyde', 'Ganesh'])"
            ]
          },
          "metadata": {},
          "execution_count": 87
        }
      ]
    },
    {
      "cell_type": "code",
      "source": [
        "names"
      ],
      "metadata": {
        "colab": {
          "base_uri": "https://localhost:8080/"
        },
        "id": "INd3jVyVAHLw",
        "outputId": "c7861a2b-55d4-4e4f-8b5f-e01129243388"
      },
      "execution_count": null,
      "outputs": [
        {
          "output_type": "execute_result",
          "data": {
            "text/plain": [
              "['stan', 'kyle', 'clyde', 'Ganesh']"
            ]
          },
          "metadata": {},
          "execution_count": 88
        }
      ]
    },
    {
      "cell_type": "markdown",
      "source": [
        "# Dictionaries"
      ],
      "metadata": {
        "id": "51eYtDHLAwqe"
      }
    },
    {
      "cell_type": "code",
      "source": [
        "city={0:\"L.A\",9:\"P.A\",7:\"FL\"}"
      ],
      "metadata": {
        "id": "iWN-i90tAzU5"
      },
      "execution_count": null,
      "outputs": []
    },
    {
      "cell_type": "code",
      "source": [
        "type(city)"
      ],
      "metadata": {
        "colab": {
          "base_uri": "https://localhost:8080/"
        },
        "id": "sKFnb4gxA8qN",
        "outputId": "1da367ad-8279-4442-896f-111ea4c3a322"
      },
      "execution_count": null,
      "outputs": [
        {
          "output_type": "execute_result",
          "data": {
            "text/plain": [
              "dict"
            ]
          },
          "metadata": {},
          "execution_count": 90
        }
      ]
    },
    {
      "cell_type": "code",
      "source": [
        "city[0]"
      ],
      "metadata": {
        "colab": {
          "base_uri": "https://localhost:8080/",
          "height": 36
        },
        "id": "Vh_Y6E-jA_E5",
        "outputId": "25b8f252-ead2-4b43-cbc0-b510275b2b77"
      },
      "execution_count": null,
      "outputs": [
        {
          "output_type": "execute_result",
          "data": {
            "text/plain": [
              "'L.A'"
            ],
            "application/vnd.google.colaboratory.intrinsic+json": {
              "type": "string"
            }
          },
          "metadata": {},
          "execution_count": 91
        }
      ]
    },
    {
      "cell_type": "code",
      "source": [
        "city[2]"
      ],
      "metadata": {
        "colab": {
          "base_uri": "https://localhost:8080/",
          "height": 165
        },
        "id": "1ajHkyNEBGJl",
        "outputId": "32b3ff6c-2217-405f-b7ee-7cf802755b6e"
      },
      "execution_count": null,
      "outputs": [
        {
          "output_type": "error",
          "ename": "KeyError",
          "evalue": "ignored",
          "traceback": [
            "\u001b[0;31m---------------------------------------------------------------------------\u001b[0m",
            "\u001b[0;31mKeyError\u001b[0m                                  Traceback (most recent call last)",
            "\u001b[0;32m<ipython-input-92-84f973befd17>\u001b[0m in \u001b[0;36m<module>\u001b[0;34m\u001b[0m\n\u001b[0;32m----> 1\u001b[0;31m \u001b[0mcity\u001b[0m\u001b[0;34m[\u001b[0m\u001b[0;36m2\u001b[0m\u001b[0;34m]\u001b[0m\u001b[0;34m\u001b[0m\u001b[0;34m\u001b[0m\u001b[0m\n\u001b[0m",
            "\u001b[0;31mKeyError\u001b[0m: 2"
          ]
        }
      ]
    },
    {
      "cell_type": "code",
      "source": [
        "#How can we see the keys part of dictionary\n",
        "city.keys()"
      ],
      "metadata": {
        "colab": {
          "base_uri": "https://localhost:8080/"
        },
        "id": "I76WBfUZBRPp",
        "outputId": "f49b818a-7720-468d-dc6b-ac463645160c"
      },
      "execution_count": null,
      "outputs": [
        {
          "output_type": "execute_result",
          "data": {
            "text/plain": [
              "dict_keys([0, 9, 7])"
            ]
          },
          "metadata": {},
          "execution_count": 93
        }
      ]
    },
    {
      "cell_type": "code",
      "source": [
        "#How can we see the values part\n",
        "city.values()"
      ],
      "metadata": {
        "colab": {
          "base_uri": "https://localhost:8080/"
        },
        "id": "PQXuKByxBYOO",
        "outputId": "94cff24f-826f-4525-abae-df3a1d198cee"
      },
      "execution_count": null,
      "outputs": [
        {
          "output_type": "execute_result",
          "data": {
            "text/plain": [
              "dict_values(['L.A', 'P.A', 'FL'])"
            ]
          },
          "metadata": {},
          "execution_count": 94
        }
      ]
    },
    {
      "cell_type": "code",
      "source": [
        "city[0]=\"Mumbai\""
      ],
      "metadata": {
        "id": "xMrZk5eQBieN"
      },
      "execution_count": null,
      "outputs": []
    },
    {
      "cell_type": "code",
      "source": [
        "city"
      ],
      "metadata": {
        "colab": {
          "base_uri": "https://localhost:8080/"
        },
        "id": "Z6XrMfslBnQR",
        "outputId": "7fa6b631-df0f-4e24-993d-ea5dd2fc8d97"
      },
      "execution_count": null,
      "outputs": [
        {
          "output_type": "execute_result",
          "data": {
            "text/plain": [
              "{0: 'Mumbai', 9: 'P.A', 7: 'FL'}"
            ]
          },
          "metadata": {},
          "execution_count": 96
        }
      ]
    },
    {
      "cell_type": "markdown",
      "source": [
        "## Iterating in Dictionaries"
      ],
      "metadata": {
        "id": "B_XKd8q8B0_e"
      }
    },
    {
      "cell_type": "code",
      "source": [
        "Employee={\"Name1\":\"Tom\",\"Emp_id\":2345,\"Age\":45,\"salary\":25000,\"Company\":\"Meta\"}"
      ],
      "metadata": {
        "id": "kaKO04ktB4Ul"
      },
      "execution_count": null,
      "outputs": []
    },
    {
      "cell_type": "code",
      "source": [
        "for x in Employee.values():\n",
        "  print(x)"
      ],
      "metadata": {
        "colab": {
          "base_uri": "https://localhost:8080/"
        },
        "id": "DqVfu1dUCG90",
        "outputId": "00fd07f6-15ef-4581-be58-b1063330ff39"
      },
      "execution_count": null,
      "outputs": [
        {
          "output_type": "stream",
          "name": "stdout",
          "text": [
            "Tom\n",
            "2345\n",
            "45\n",
            "25000\n",
            "Meta\n"
          ]
        }
      ]
    },
    {
      "cell_type": "code",
      "source": [
        "for x in Employee.keys():\n",
        "  print(x)"
      ],
      "metadata": {
        "colab": {
          "base_uri": "https://localhost:8080/"
        },
        "id": "4YXuzlaBCfRR",
        "outputId": "e485c5aa-77c4-4ffc-ad6e-5e10c7c89321"
      },
      "execution_count": null,
      "outputs": [
        {
          "output_type": "stream",
          "name": "stdout",
          "text": [
            "Name1\n",
            "Emp_id\n",
            "Age\n",
            "salary\n",
            "Company\n"
          ]
        }
      ]
    },
    {
      "cell_type": "code",
      "source": [
        "for x in Employee.items():\n",
        "  print(x)"
      ],
      "metadata": {
        "colab": {
          "base_uri": "https://localhost:8080/"
        },
        "id": "DN4YQ-x7CzJE",
        "outputId": "3c157d8e-92a6-4f7c-82f8-3105702da7f1"
      },
      "execution_count": null,
      "outputs": [
        {
          "output_type": "stream",
          "name": "stdout",
          "text": [
            "('Name1', 'Tom')\n",
            "('Emp_id', 2345)\n",
            "('Age', 45)\n",
            "('salary', 25000)\n",
            "('Company', 'Meta')\n"
          ]
        }
      ]
    },
    {
      "cell_type": "markdown",
      "source": [
        "# LAB-Dictionaries"
      ],
      "metadata": {
        "id": "kGJUyx97ES9l"
      }
    },
    {
      "cell_type": "code",
      "source": [
        "name_age={'stan':8,'kyle':8,'cartman':10}"
      ],
      "metadata": {
        "id": "JkZRVVz6EVe4"
      },
      "execution_count": null,
      "outputs": []
    },
    {
      "cell_type": "code",
      "source": [
        "name_age['cartman']"
      ],
      "metadata": {
        "colab": {
          "base_uri": "https://localhost:8080/"
        },
        "id": "zW5o1eBREdw2",
        "outputId": "50a51f4f-7647-4e53-b305-abc3f5fd14e0"
      },
      "execution_count": null,
      "outputs": [
        {
          "output_type": "execute_result",
          "data": {
            "text/plain": [
              "10"
            ]
          },
          "metadata": {},
          "execution_count": 105
        }
      ]
    },
    {
      "cell_type": "code",
      "source": [
        "name_age['kenny']=9\n",
        "name_age"
      ],
      "metadata": {
        "colab": {
          "base_uri": "https://localhost:8080/"
        },
        "id": "hb8klDv8EkNO",
        "outputId": "26e88ea7-adbd-46f5-d249-e7a4a22a3d9d"
      },
      "execution_count": null,
      "outputs": [
        {
          "output_type": "execute_result",
          "data": {
            "text/plain": [
              "{'stan': 8, 'kyle': 8, 'cartman': 10, 'kenny': 9}"
            ]
          },
          "metadata": {},
          "execution_count": 106
        }
      ]
    },
    {
      "cell_type": "code",
      "source": [
        "name_age.update({'cartman':11,'Token':10})"
      ],
      "metadata": {
        "id": "X2lkSz9CEzsO"
      },
      "execution_count": null,
      "outputs": []
    },
    {
      "cell_type": "code",
      "source": [
        "name_age"
      ],
      "metadata": {
        "colab": {
          "base_uri": "https://localhost:8080/"
        },
        "id": "nwCZMmTcE-HF",
        "outputId": "3efbc925-408d-4e90-9990-312dea3eb0e7"
      },
      "execution_count": null,
      "outputs": [
        {
          "output_type": "execute_result",
          "data": {
            "text/plain": [
              "{'stan': 8, 'kyle': 8, 'cartman': 11, 'kenny': 9, 'Token': 10}"
            ]
          },
          "metadata": {},
          "execution_count": 109
        }
      ]
    },
    {
      "cell_type": "markdown",
      "source": [
        "# Sets"
      ],
      "metadata": {
        "id": "t2_yj72nFLEU"
      }
    },
    {
      "cell_type": "code",
      "source": [
        "set1={1,2,3,4}"
      ],
      "metadata": {
        "id": "cYlI5-DEFQ-J"
      },
      "execution_count": null,
      "outputs": []
    },
    {
      "cell_type": "code",
      "source": [
        "set1={1,2,3,4,4,5,5,6,6}"
      ],
      "metadata": {
        "id": "u0YPGKAuFdGn"
      },
      "execution_count": null,
      "outputs": []
    },
    {
      "cell_type": "code",
      "source": [
        "set1"
      ],
      "metadata": {
        "colab": {
          "base_uri": "https://localhost:8080/"
        },
        "id": "XVbH0vzGFgaU",
        "outputId": "70d2f575-e05c-4cc6-ccfd-68fac4d16518"
      },
      "execution_count": null,
      "outputs": [
        {
          "output_type": "execute_result",
          "data": {
            "text/plain": [
              "{1, 2, 3, 4, 5, 6}"
            ]
          },
          "metadata": {},
          "execution_count": 113
        }
      ]
    },
    {
      "cell_type": "code",
      "source": [
        "#Does set supports indexing\n",
        "set1[2]"
      ],
      "metadata": {
        "colab": {
          "base_uri": "https://localhost:8080/",
          "height": 182
        },
        "id": "RME2dZ4mFpdF",
        "outputId": "12468580-75d2-44ff-d7a5-41125acb1e38"
      },
      "execution_count": null,
      "outputs": [
        {
          "output_type": "error",
          "ename": "TypeError",
          "evalue": "ignored",
          "traceback": [
            "\u001b[0;31m---------------------------------------------------------------------------\u001b[0m",
            "\u001b[0;31mTypeError\u001b[0m                                 Traceback (most recent call last)",
            "\u001b[0;32m<ipython-input-114-bb1864ede333>\u001b[0m in \u001b[0;36m<module>\u001b[0;34m\u001b[0m\n\u001b[1;32m      1\u001b[0m \u001b[0;31m#Does set supports indexing\u001b[0m\u001b[0;34m\u001b[0m\u001b[0;34m\u001b[0m\u001b[0;34m\u001b[0m\u001b[0m\n\u001b[0;32m----> 2\u001b[0;31m \u001b[0mset1\u001b[0m\u001b[0;34m[\u001b[0m\u001b[0;36m2\u001b[0m\u001b[0;34m]\u001b[0m\u001b[0;34m\u001b[0m\u001b[0;34m\u001b[0m\u001b[0m\n\u001b[0m",
            "\u001b[0;31mTypeError\u001b[0m: 'set' object is not subscriptable"
          ]
        }
      ]
    },
    {
      "cell_type": "code",
      "source": [
        "#Are sets mutable\n",
        "set1.add(10)\n"
      ],
      "metadata": {
        "id": "YO8kPwsiF52Z"
      },
      "execution_count": null,
      "outputs": []
    },
    {
      "cell_type": "code",
      "source": [
        "set1"
      ],
      "metadata": {
        "id": "Mt4oMwGnF_fX",
        "outputId": "37487e31-487e-4525-ba77-9a1ec39180ac",
        "colab": {
          "base_uri": "https://localhost:8080/"
        }
      },
      "execution_count": null,
      "outputs": [
        {
          "output_type": "execute_result",
          "data": {
            "text/plain": [
              "{1, 2, 3, 4, 5, 6, 10}"
            ]
          },
          "metadata": {},
          "execution_count": 116
        }
      ]
    },
    {
      "cell_type": "code",
      "source": [
        "type(set1)"
      ],
      "metadata": {
        "colab": {
          "base_uri": "https://localhost:8080/"
        },
        "id": "MApNY9udFWE9",
        "outputId": "34cf7afa-a663-4e22-eadf-094c4104b17c"
      },
      "execution_count": null,
      "outputs": [
        {
          "output_type": "execute_result",
          "data": {
            "text/plain": [
              "set"
            ]
          },
          "metadata": {},
          "execution_count": 111
        }
      ]
    },
    {
      "cell_type": "code",
      "source": [
        "lis1=[1,2,3,4,[55,45,85]]"
      ],
      "metadata": {
        "id": "3sZepWSdH-7F"
      },
      "execution_count": null,
      "outputs": []
    },
    {
      "cell_type": "code",
      "source": [
        "lis1[4][2]"
      ],
      "metadata": {
        "colab": {
          "base_uri": "https://localhost:8080/"
        },
        "id": "noEkqvleIHwX",
        "outputId": "f37e16b8-5c84-4deb-b998-4b2a6e943863"
      },
      "execution_count": null,
      "outputs": [
        {
          "output_type": "execute_result",
          "data": {
            "text/plain": [
              "85"
            ]
          },
          "metadata": {},
          "execution_count": 121
        }
      ]
    },
    {
      "cell_type": "code",
      "source": [
        "lis1=[12,23,45,56]"
      ],
      "metadata": {
        "id": "NXC6owGNImNq"
      },
      "execution_count": null,
      "outputs": []
    },
    {
      "cell_type": "code",
      "source": [
        "lis1[:-2]"
      ],
      "metadata": {
        "colab": {
          "base_uri": "https://localhost:8080/"
        },
        "id": "t5_5IwnCIpEc",
        "outputId": "be116fc4-f0bd-43eb-fe61-a4e93ef69616"
      },
      "execution_count": null,
      "outputs": [
        {
          "output_type": "execute_result",
          "data": {
            "text/plain": [
              "[12, 23]"
            ]
          },
          "metadata": {},
          "execution_count": 126
        }
      ]
    }
  ]
}