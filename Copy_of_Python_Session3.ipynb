{
  "nbformat": 4,
  "nbformat_minor": 0,
  "metadata": {
    "colab": {
      "provenance": [],
      "include_colab_link": true
    },
    "kernelspec": {
      "name": "python3",
      "display_name": "Python 3"
    },
    "language_info": {
      "name": "python"
    }
  },
  "cells": [
    {
      "cell_type": "markdown",
      "metadata": {
        "id": "view-in-github",
        "colab_type": "text"
      },
      "source": [
        "<a href=\"https://colab.research.google.com/github/tariqzia5/Python_P/blob/main/Copy_of_Python_Session3.ipynb\" target=\"_parent\"><img src=\"https://colab.research.google.com/assets/colab-badge.svg\" alt=\"Open In Colab\"/></a>"
      ]
    },
    {
      "cell_type": "code",
      "execution_count": null,
      "metadata": {
        "id": "KD-ZbShJaDw_"
      },
      "outputs": [],
      "source": [
        "age=60\n",
        "if age<50:\n",
        "  print(\"Group1\")\n"
      ]
    },
    {
      "cell_type": "code",
      "source": [
        "age=60\n",
        "if age<50:\n",
        "  print(\"Group1\")\n",
        "print(\"Done with if\")"
      ],
      "metadata": {
        "colab": {
          "base_uri": "https://localhost:8080/"
        },
        "id": "T4zj75SlgNN4",
        "outputId": "9b7dc2c4-bcf6-45fa-e818-3e8091119399"
      },
      "execution_count": null,
      "outputs": [
        {
          "output_type": "stream",
          "name": "stdout",
          "text": [
            "Done with if\n"
          ]
        }
      ]
    },
    {
      "cell_type": "code",
      "source": [
        "age=40\n",
        "if age<50:\n",
        "  print(\"Group1\")\n",
        "print(\"Done with if\")"
      ],
      "metadata": {
        "colab": {
          "base_uri": "https://localhost:8080/"
        },
        "id": "tgbC1AjOgmP-",
        "outputId": "2294f68c-ace0-4a2b-8cff-115d583c4af3"
      },
      "execution_count": null,
      "outputs": [
        {
          "output_type": "stream",
          "name": "stdout",
          "text": [
            "Group1\n",
            "Done with if\n"
          ]
        }
      ]
    },
    {
      "cell_type": "code",
      "source": [
        "age=40\n",
        "if age<50:\n",
        "  print(\"Group1\")\n",
        "else:\n",
        "  print(\"Done with if\")"
      ],
      "metadata": {
        "colab": {
          "base_uri": "https://localhost:8080/"
        },
        "id": "lBcpSAmig9RY",
        "outputId": "0a3defe7-2a0c-49eb-d949-bdf3e17ac091"
      },
      "execution_count": null,
      "outputs": [
        {
          "output_type": "stream",
          "name": "stdout",
          "text": [
            "Group1\n"
          ]
        }
      ]
    },
    {
      "cell_type": "code",
      "source": [
        "marks=87\n",
        "if (marks<30):\n",
        "  print(\"fail\")\n",
        "elif(marks<60):\n",
        "  print(\"Second class\")\n",
        "elif(marks<80):\n",
        "  print(\"First class\")\n",
        "elif(marks<100):\n",
        "  print(\"Distinction\")\n",
        "else:\n",
        "  print(\"Error in marks\")"
      ],
      "metadata": {
        "colab": {
          "base_uri": "https://localhost:8080/"
        },
        "id": "UnMRUZNAhVH_",
        "outputId": "a445fd9d-cfea-4591-eb6c-926ad55d2493"
      },
      "execution_count": null,
      "outputs": [
        {
          "output_type": "stream",
          "name": "stdout",
          "text": [
            "Distinction\n"
          ]
        }
      ]
    },
    {
      "cell_type": "code",
      "source": [
        "marks=120\n",
        "if (marks<30):\n",
        "  print(\"fail\")\n",
        "elif(marks<60):\n",
        "  print(\"Second class\")\n",
        "elif(marks<80):\n",
        "  print(\"First class\")\n",
        "elif(marks<100):\n",
        "  print(\"Distinction\")\n",
        "else:\n",
        "  print(\"Error in marks\")"
      ],
      "metadata": {
        "colab": {
          "base_uri": "https://localhost:8080/"
        },
        "id": "pl5w3QRkiCie",
        "outputId": "f3c3baed-9a6d-46d6-bfa9-91a2adc837b7"
      },
      "execution_count": null,
      "outputs": [
        {
          "output_type": "stream",
          "name": "stdout",
          "text": [
            "Error in marks\n"
          ]
        }
      ]
    },
    {
      "cell_type": "code",
      "source": [
        "age=16\n",
        "income=1200"
      ],
      "metadata": {
        "id": "Yx6P8G0mip0h"
      },
      "execution_count": null,
      "outputs": []
    },
    {
      "cell_type": "code",
      "source": [
        "if age<18 or income<1000:\n",
        "  print(\"Disqualified\")\n",
        "else:\n",
        "  print(\"Qualified\")"
      ],
      "metadata": {
        "colab": {
          "base_uri": "https://localhost:8080/"
        },
        "id": "k7VU_I8HiqGo",
        "outputId": "2fce02d1-d544-4ebc-bd6d-65f27fe60e98"
      },
      "execution_count": null,
      "outputs": [
        {
          "output_type": "stream",
          "name": "stdout",
          "text": [
            "Disqualified\n"
          ]
        }
      ]
    },
    {
      "cell_type": "code",
      "source": [
        "if age<18 and income<1000:\n",
        "  print(\"Disqualified\")\n",
        "else:\n",
        "  print(\"Qualified\")"
      ],
      "metadata": {
        "colab": {
          "base_uri": "https://localhost:8080/"
        },
        "id": "RBnTG_clj_dC",
        "outputId": "0906736d-f6ce-4b0a-d646-b46caf17908a"
      },
      "execution_count": null,
      "outputs": [
        {
          "output_type": "stream",
          "name": "stdout",
          "text": [
            "Qualified\n"
          ]
        }
      ]
    },
    {
      "cell_type": "markdown",
      "source": [
        "# Iterators"
      ],
      "metadata": {
        "id": "TkewUvOzmJu2"
      }
    },
    {
      "cell_type": "code",
      "source": [
        "for x in range(1,20):\n",
        "  print(x)\n"
      ],
      "metadata": {
        "colab": {
          "base_uri": "https://localhost:8080/"
        },
        "id": "R6r5FUe4mMEb",
        "outputId": "96793a79-d1ae-4352-bd17-6dc3557eab46"
      },
      "execution_count": null,
      "outputs": [
        {
          "output_type": "stream",
          "name": "stdout",
          "text": [
            "1\n",
            "2\n",
            "3\n",
            "4\n",
            "5\n",
            "6\n",
            "7\n",
            "8\n",
            "9\n",
            "10\n",
            "11\n",
            "12\n",
            "13\n",
            "14\n",
            "15\n",
            "16\n",
            "17\n",
            "18\n",
            "19\n"
          ]
        }
      ]
    },
    {
      "cell_type": "code",
      "source": [
        "for i in [1,2,3,4,5,6,7]:\n",
        "  print(i)"
      ],
      "metadata": {
        "colab": {
          "base_uri": "https://localhost:8080/"
        },
        "id": "KarANsvzmoLF",
        "outputId": "fcf41fd6-8ffa-40dc-85b1-f39fed7238cd"
      },
      "execution_count": null,
      "outputs": [
        {
          "output_type": "stream",
          "name": "stdout",
          "text": [
            "1\n",
            "2\n",
            "3\n",
            "4\n",
            "5\n",
            "6\n",
            "7\n"
          ]
        }
      ]
    },
    {
      "cell_type": "code",
      "source": [
        "lst2=[1,2,35,45,55]"
      ],
      "metadata": {
        "id": "N9p9Pflkm_k5"
      },
      "execution_count": null,
      "outputs": []
    },
    {
      "cell_type": "code",
      "source": [
        "for i in lst2:\n",
        "  print(i)"
      ],
      "metadata": {
        "colab": {
          "base_uri": "https://localhost:8080/"
        },
        "id": "ICVUnfFpnDUw",
        "outputId": "665ed794-455f-4e91-8550-9bc92da428ce"
      },
      "execution_count": null,
      "outputs": [
        {
          "output_type": "stream",
          "name": "stdout",
          "text": [
            "1\n",
            "2\n",
            "35\n",
            "45\n",
            "55\n"
          ]
        }
      ]
    },
    {
      "cell_type": "code",
      "source": [
        "#We will try to print the cumulative sum of first n elements\n",
        "sum=0\n",
        "for i in range(1,11):\n",
        "  sum=sum+i\n",
        "  print(sum)"
      ],
      "metadata": {
        "colab": {
          "base_uri": "https://localhost:8080/"
        },
        "id": "5yzwysz_nQ9U",
        "outputId": "550e3b62-54f9-4908-8138-839d1e8dc6e9"
      },
      "execution_count": null,
      "outputs": [
        {
          "output_type": "stream",
          "name": "stdout",
          "text": [
            "1\n",
            "3\n",
            "6\n",
            "10\n",
            "15\n",
            "21\n",
            "28\n",
            "36\n",
            "45\n",
            "55\n"
          ]
        }
      ]
    },
    {
      "cell_type": "code",
      "source": [
        "#We will try to print the cumulative sum of first n elements\n",
        "sum=0\n",
        "for i in range(1,11):\n",
        "  sum+=i\n",
        "  print(sum)\n"
      ],
      "metadata": {
        "colab": {
          "base_uri": "https://localhost:8080/"
        },
        "id": "u1dUJb11n4rU",
        "outputId": "1a37154b-cee3-4323-d620-9350e020bff8"
      },
      "execution_count": null,
      "outputs": [
        {
          "output_type": "stream",
          "name": "stdout",
          "text": [
            "1\n",
            "3\n",
            "6\n",
            "10\n",
            "15\n",
            "21\n",
            "28\n",
            "36\n",
            "45\n",
            "55\n"
          ]
        }
      ]
    },
    {
      "cell_type": "code",
      "source": [
        "#We will see the use of break statement\n",
        "sum=0\n",
        "for i in range(1,200):\n",
        "  sum=sum+i\n",
        "  print(sum)\n",
        "  if(i>10):\n",
        "    break"
      ],
      "metadata": {
        "colab": {
          "base_uri": "https://localhost:8080/"
        },
        "id": "PLRDp8STob0m",
        "outputId": "798a74bf-9214-4a04-8ee9-37d7c3fe6448"
      },
      "execution_count": null,
      "outputs": [
        {
          "output_type": "stream",
          "name": "stdout",
          "text": [
            "1\n",
            "3\n",
            "6\n",
            "10\n",
            "15\n",
            "21\n",
            "28\n",
            "36\n",
            "45\n",
            "55\n",
            "66\n"
          ]
        }
      ]
    },
    {
      "cell_type": "code",
      "source": [
        "#We will see the use of break statement\n",
        "sum=0\n",
        "for i in range(1,200):\n",
        "  if i>10:\n",
        "    break\n",
        "  sum=sum+i\n",
        "  print(sum)\n"
      ],
      "metadata": {
        "colab": {
          "base_uri": "https://localhost:8080/"
        },
        "id": "2I4_gk_BpUN3",
        "outputId": "dfca15e9-6b88-47de-c6a6-99b146509a9c"
      },
      "execution_count": null,
      "outputs": [
        {
          "output_type": "stream",
          "name": "stdout",
          "text": [
            "1\n",
            "3\n",
            "6\n",
            "10\n",
            "15\n",
            "21\n",
            "28\n",
            "36\n",
            "45\n",
            "55\n"
          ]
        }
      ]
    },
    {
      "cell_type": "code",
      "source": [
        "#We will see the use of break statement\n",
        "sum=0\n",
        "for i in range(1,200):\n",
        "  if sum>100:\n",
        "    break\n",
        "  sum=sum+i\n",
        "  print(sum)"
      ],
      "metadata": {
        "colab": {
          "base_uri": "https://localhost:8080/"
        },
        "id": "YSqI0kzKprQp",
        "outputId": "78a603dd-83c3-4ff6-8844-2f0dbb08cf08"
      },
      "execution_count": null,
      "outputs": [
        {
          "output_type": "stream",
          "name": "stdout",
          "text": [
            "1\n",
            "3\n",
            "6\n",
            "10\n",
            "15\n",
            "21\n",
            "28\n",
            "36\n",
            "45\n",
            "55\n",
            "66\n",
            "78\n",
            "91\n",
            "105\n"
          ]
        }
      ]
    },
    {
      "cell_type": "markdown",
      "source": [
        "# LAB-for loops"
      ],
      "metadata": {
        "id": "gQBBkOWGsBM-"
      }
    },
    {
      "cell_type": "code",
      "source": [
        "lst=[1,2,5,4,6,3,4,8]"
      ],
      "metadata": {
        "id": "0xSGpAMxsDkI"
      },
      "execution_count": null,
      "outputs": []
    },
    {
      "cell_type": "code",
      "source": [
        "for i in lst:\n",
        "  if i%2==0:\n",
        "    print(i)"
      ],
      "metadata": {
        "colab": {
          "base_uri": "https://localhost:8080/"
        },
        "id": "s0VEGEvUsNcZ",
        "outputId": "c444c484-b481-439d-b42a-5fd03c99ed6d"
      },
      "execution_count": null,
      "outputs": [
        {
          "output_type": "stream",
          "name": "stdout",
          "text": [
            "2\n",
            "4\n",
            "6\n",
            "4\n",
            "8\n"
          ]
        }
      ]
    },
    {
      "cell_type": "code",
      "source": [
        "for i in range(1,101):\n",
        "  if i%4==0:\n",
        "    print(i)\n"
      ],
      "metadata": {
        "colab": {
          "base_uri": "https://localhost:8080/"
        },
        "id": "nvP5eV0gsbm-",
        "outputId": "76d6e662-6e91-490c-92c4-3b28ff5158d5"
      },
      "execution_count": null,
      "outputs": [
        {
          "output_type": "stream",
          "name": "stdout",
          "text": [
            "4\n",
            "8\n",
            "12\n",
            "16\n",
            "20\n",
            "24\n",
            "28\n",
            "32\n",
            "36\n",
            "40\n",
            "44\n",
            "48\n",
            "52\n",
            "56\n",
            "60\n",
            "64\n",
            "68\n",
            "72\n",
            "76\n",
            "80\n",
            "84\n",
            "88\n",
            "92\n",
            "96\n",
            "100\n"
          ]
        }
      ]
    },
    {
      "cell_type": "markdown",
      "source": [
        "# Functions in python"
      ],
      "metadata": {
        "id": "YjKNRCu1so00"
      }
    },
    {
      "cell_type": "code",
      "source": [
        "num=43\n",
        "if num%2==0:\n",
        "  print(\"The number is even\")\n",
        "else:\n",
        "  print(\"The number is odd\")"
      ],
      "metadata": {
        "colab": {
          "base_uri": "https://localhost:8080/"
        },
        "id": "OrRckX3Hsr29",
        "outputId": "cf8c2518-633a-444c-bd8a-76b5036e3041"
      },
      "execution_count": null,
      "outputs": [
        {
          "output_type": "stream",
          "name": "stdout",
          "text": [
            "The number is odd\n"
          ]
        }
      ]
    },
    {
      "cell_type": "code",
      "source": [
        "def odd_even(num):\n",
        "  if num%2==0:\n",
        "    print(\"The number is even\")\n",
        "  else:\n",
        "    print(\"The number is odd\")"
      ],
      "metadata": {
        "id": "KvDTMaXxtEz-"
      },
      "execution_count": null,
      "outputs": []
    },
    {
      "cell_type": "code",
      "source": [
        "odd_even(46)"
      ],
      "metadata": {
        "colab": {
          "base_uri": "https://localhost:8080/"
        },
        "id": "PiL-tbNGtdKQ",
        "outputId": "74c11b31-be99-4870-a32b-42a932166b88"
      },
      "execution_count": null,
      "outputs": [
        {
          "output_type": "stream",
          "name": "stdout",
          "text": [
            "The number is even\n"
          ]
        }
      ]
    },
    {
      "cell_type": "code",
      "source": [
        "odd_even(43)"
      ],
      "metadata": {
        "colab": {
          "base_uri": "https://localhost:8080/"
        },
        "id": "75WGBfnWthiN",
        "outputId": "955b3a91-9aba-4f64-bcb8-6fd259c033d8"
      },
      "execution_count": null,
      "outputs": [
        {
          "output_type": "stream",
          "name": "stdout",
          "text": [
            "The number is odd\n"
          ]
        }
      ]
    },
    {
      "cell_type": "code",
      "source": [
        "odd_even()"
      ],
      "metadata": {
        "colab": {
          "base_uri": "https://localhost:8080/",
          "height": 165
        },
        "id": "XadPD7bTtote",
        "outputId": "7899e24d-d9a2-44fc-9e29-ee94d722c670"
      },
      "execution_count": null,
      "outputs": [
        {
          "output_type": "error",
          "ename": "TypeError",
          "evalue": "ignored",
          "traceback": [
            "\u001b[0;31m---------------------------------------------------------------------------\u001b[0m",
            "\u001b[0;31mTypeError\u001b[0m                                 Traceback (most recent call last)",
            "\u001b[0;32m<ipython-input-35-d86a5f720e3b>\u001b[0m in \u001b[0;36m<module>\u001b[0;34m\u001b[0m\n\u001b[0;32m----> 1\u001b[0;31m \u001b[0modd_even\u001b[0m\u001b[0;34m(\u001b[0m\u001b[0;34m)\u001b[0m\u001b[0;34m\u001b[0m\u001b[0;34m\u001b[0m\u001b[0m\n\u001b[0m",
            "\u001b[0;31mTypeError\u001b[0m: odd_even() missing 1 required positional argument: 'num'"
          ]
        }
      ]
    },
    {
      "cell_type": "code",
      "source": [
        "def nameAge(name,age):\n",
        "  print(\"Hi, I am \",name)\n",
        "  print(\"My age is \",age)"
      ],
      "metadata": {
        "id": "hxPwv3-atwzM"
      },
      "execution_count": null,
      "outputs": []
    },
    {
      "cell_type": "code",
      "source": [
        "nameAge(name=\"Ganesh\",age=65)"
      ],
      "metadata": {
        "colab": {
          "base_uri": "https://localhost:8080/"
        },
        "id": "nS_MyMvAuN6b",
        "outputId": "190b20a0-9170-4e4a-c02f-077a856dccbc"
      },
      "execution_count": null,
      "outputs": [
        {
          "output_type": "stream",
          "name": "stdout",
          "text": [
            "Hi, I am  Ganesh\n",
            "My age is  65\n"
          ]
        }
      ]
    },
    {
      "cell_type": "code",
      "source": [
        "nameAge(age=65,name=\"Ganesh\")"
      ],
      "metadata": {
        "colab": {
          "base_uri": "https://localhost:8080/"
        },
        "id": "eDhEfZjBuZtB",
        "outputId": "75bca413-fcf8-4025-cd15-d30d34f3d188"
      },
      "execution_count": null,
      "outputs": [
        {
          "output_type": "stream",
          "name": "stdout",
          "text": [
            "Hi, I am  Ganesh\n",
            "My age is  65\n"
          ]
        }
      ]
    },
    {
      "cell_type": "code",
      "source": [
        "nameAge(\"Ganesh\",65)"
      ],
      "metadata": {
        "colab": {
          "base_uri": "https://localhost:8080/"
        },
        "id": "JL07rrPauGNc",
        "outputId": "ec6aad18-62d9-4028-febc-67d5204183c3"
      },
      "execution_count": null,
      "outputs": [
        {
          "output_type": "stream",
          "name": "stdout",
          "text": [
            "Hi, I am  Ganesh\n",
            "My age is  65\n"
          ]
        }
      ]
    },
    {
      "cell_type": "code",
      "source": [
        "nameAge(65,\"Ganesh\")"
      ],
      "metadata": {
        "colab": {
          "base_uri": "https://localhost:8080/"
        },
        "id": "wnf0eZLAunnr",
        "outputId": "bd5442ad-727a-4a51-bd74-06703e19a9f7"
      },
      "execution_count": null,
      "outputs": [
        {
          "output_type": "stream",
          "name": "stdout",
          "text": [
            "Hi, I am  65\n",
            "My age is  Ganesh\n"
          ]
        }
      ]
    },
    {
      "cell_type": "code",
      "source": [
        "lst=[12,2,91,27]"
      ],
      "metadata": {
        "id": "V1iwmTvsvDh1"
      },
      "execution_count": null,
      "outputs": []
    },
    {
      "cell_type": "code",
      "source": [
        "\n",
        "def xyz(lst):\n",
        "  even_sum=0\n",
        "  odd_sum=0\n",
        "  for i in lst:\n",
        "    if i%2==0:\n",
        "      even_sum+=i\n",
        "    else:\n",
        "      odd_sum=odd_sum+i\n",
        "  return even_sum,odd_sum\n",
        "\n",
        "\n"
      ],
      "metadata": {
        "id": "YcdK2CeavKVr"
      },
      "execution_count": null,
      "outputs": []
    },
    {
      "cell_type": "code",
      "source": [
        "xyz(lst)"
      ],
      "metadata": {
        "colab": {
          "base_uri": "https://localhost:8080/"
        },
        "id": "PDqqWb09vxcM",
        "outputId": "90fba2b1-34b4-415a-eb9d-3862a6c5494e"
      },
      "execution_count": null,
      "outputs": [
        {
          "output_type": "execute_result",
          "data": {
            "text/plain": [
              "(14, 118)"
            ]
          },
          "metadata": {},
          "execution_count": 48
        }
      ]
    },
    {
      "cell_type": "markdown",
      "source": [
        "# LAB-Functions"
      ],
      "metadata": {
        "id": "emCz-DFWypGr"
      }
    },
    {
      "cell_type": "code",
      "source": [
        "def final_amount(bill):\n",
        "  print(1.18*(bill)+50)"
      ],
      "metadata": {
        "id": "6sfhUIisyq0T"
      },
      "execution_count": null,
      "outputs": []
    },
    {
      "cell_type": "code",
      "source": [
        "final_amount(1000)"
      ],
      "metadata": {
        "colab": {
          "base_uri": "https://localhost:8080/"
        },
        "id": "xy8ajrqpy52m",
        "outputId": "8e286676-c4cc-427f-ab1c-d428665ec293"
      },
      "execution_count": null,
      "outputs": [
        {
          "output_type": "stream",
          "name": "stdout",
          "text": [
            "1230.0\n"
          ]
        }
      ]
    },
    {
      "cell_type": "code",
      "source": [
        "def area(x,y):\n",
        "  print(\"area of reactangle is-\",x*y)\n",
        "  print(\"Perimeter of reactangle is-\",2*(x+y))"
      ],
      "metadata": {
        "id": "OdcUqseWzEZB"
      },
      "execution_count": null,
      "outputs": []
    },
    {
      "cell_type": "code",
      "source": [
        "area(5,8)"
      ],
      "metadata": {
        "colab": {
          "base_uri": "https://localhost:8080/"
        },
        "id": "Hbv2YqDNzT-Z",
        "outputId": "75c4fd70-7295-40b4-8cf9-e219e1fd2e4d"
      },
      "execution_count": null,
      "outputs": [
        {
          "output_type": "stream",
          "name": "stdout",
          "text": [
            "area of reactangle is- 40\n",
            "Perimeter of reactangle is- 26\n"
          ]
        }
      ]
    },
    {
      "cell_type": "markdown",
      "source": [
        "# Difference between print and return statement"
      ],
      "metadata": {
        "id": "7cPadGYczbWF"
      }
    },
    {
      "cell_type": "code",
      "source": [
        "def sum_num(x,y):\n",
        "  print(x+y)"
      ],
      "metadata": {
        "id": "WzxFZcN7zw6v"
      },
      "execution_count": null,
      "outputs": []
    },
    {
      "cell_type": "code",
      "source": [
        "x=sum_num(2,5)"
      ],
      "metadata": {
        "colab": {
          "base_uri": "https://localhost:8080/"
        },
        "id": "hXiMCk71z6xm",
        "outputId": "e9f2425a-353d-480a-ab13-51983964df76"
      },
      "execution_count": null,
      "outputs": [
        {
          "output_type": "stream",
          "name": "stdout",
          "text": [
            "7\n"
          ]
        }
      ]
    },
    {
      "cell_type": "code",
      "source": [
        "print(x)"
      ],
      "metadata": {
        "colab": {
          "base_uri": "https://localhost:8080/"
        },
        "id": "MgJhCMi7z_zJ",
        "outputId": "c9973a0e-04da-40b0-a4c7-49fbf614717a"
      },
      "execution_count": null,
      "outputs": [
        {
          "output_type": "stream",
          "name": "stdout",
          "text": [
            "None\n"
          ]
        }
      ]
    },
    {
      "cell_type": "code",
      "source": [
        "def sum_num(x,y):\n",
        "  return(x+y)"
      ],
      "metadata": {
        "id": "0w4ZbpIQ0IaY"
      },
      "execution_count": null,
      "outputs": []
    },
    {
      "cell_type": "code",
      "source": [
        "x=sum_num(2,5)"
      ],
      "metadata": {
        "id": "COD1-Qb10LkC"
      },
      "execution_count": null,
      "outputs": []
    },
    {
      "cell_type": "code",
      "source": [
        "print(x)"
      ],
      "metadata": {
        "colab": {
          "base_uri": "https://localhost:8080/"
        },
        "id": "eEwPc_IR0N9w",
        "outputId": "16615496-316b-4366-8211-cf32ae0fbb6c"
      },
      "execution_count": null,
      "outputs": [
        {
          "output_type": "stream",
          "name": "stdout",
          "text": [
            "7\n"
          ]
        }
      ]
    },
    {
      "cell_type": "markdown",
      "source": [
        "# Lambda functions"
      ],
      "metadata": {
        "id": "7mLObXw00X59"
      }
    },
    {
      "cell_type": "code",
      "source": [
        "a=lambda x,y:x+y"
      ],
      "metadata": {
        "id": "uOYjX5v00aJa"
      },
      "execution_count": null,
      "outputs": []
    },
    {
      "cell_type": "code",
      "source": [
        "a(12,13)"
      ],
      "metadata": {
        "colab": {
          "base_uri": "https://localhost:8080/"
        },
        "id": "raAI4UIQ0yXC",
        "outputId": "e26ec011-ac96-49b3-c244-78f692901a61"
      },
      "execution_count": null,
      "outputs": [
        {
          "output_type": "execute_result",
          "data": {
            "text/plain": [
              "25"
            ]
          },
          "metadata": {},
          "execution_count": 61
        }
      ]
    },
    {
      "cell_type": "code",
      "source": [
        "y=lambda x:\"Even number\" if x%2==0 else \"Odd number\""
      ],
      "metadata": {
        "id": "DR74x9YC09bo"
      },
      "execution_count": null,
      "outputs": []
    },
    {
      "cell_type": "code",
      "source": [
        "y(65)"
      ],
      "metadata": {
        "colab": {
          "base_uri": "https://localhost:8080/",
          "height": 36
        },
        "id": "UehFaUUd1OTt",
        "outputId": "3edca213-838f-4b28-86d4-6100d7ef5482"
      },
      "execution_count": null,
      "outputs": [
        {
          "output_type": "execute_result",
          "data": {
            "text/plain": [
              "'Odd number'"
            ],
            "application/vnd.google.colaboratory.intrinsic+json": {
              "type": "string"
            }
          },
          "metadata": {},
          "execution_count": 63
        }
      ]
    },
    {
      "cell_type": "markdown",
      "source": [
        "# List comprehension"
      ],
      "metadata": {
        "id": "FgsigvSP1hX0"
      }
    },
    {
      "cell_type": "code",
      "source": [
        "for i in range(1,10):\n",
        "  print(i)"
      ],
      "metadata": {
        "colab": {
          "base_uri": "https://localhost:8080/"
        },
        "id": "IK4BeC1M1ksL",
        "outputId": "6a771cce-a486-4e52-b038-7bfa65163068"
      },
      "execution_count": null,
      "outputs": [
        {
          "output_type": "stream",
          "name": "stdout",
          "text": [
            "1\n",
            "2\n",
            "3\n",
            "4\n",
            "5\n",
            "6\n",
            "7\n",
            "8\n",
            "9\n"
          ]
        }
      ]
    },
    {
      "cell_type": "code",
      "source": [
        "[i for i in range(1,10)]"
      ],
      "metadata": {
        "colab": {
          "base_uri": "https://localhost:8080/"
        },
        "id": "3if62Pq5161J",
        "outputId": "6748fe53-29f6-4da2-aa3f-ffca6ff19310"
      },
      "execution_count": null,
      "outputs": [
        {
          "output_type": "execute_result",
          "data": {
            "text/plain": [
              "[1, 2, 3, 4, 5, 6, 7, 8, 9]"
            ]
          },
          "metadata": {},
          "execution_count": 66
        }
      ]
    },
    {
      "cell_type": "code",
      "source": [
        "[i for i in range(1,30) if i<15]"
      ],
      "metadata": {
        "colab": {
          "base_uri": "https://localhost:8080/"
        },
        "id": "ajFce6kv2GhR",
        "outputId": "4323ab4b-6f5b-4fbf-b2ed-c585ea277914"
      },
      "execution_count": null,
      "outputs": [
        {
          "output_type": "execute_result",
          "data": {
            "text/plain": [
              "[1, 2, 3, 4, 5, 6, 7, 8, 9, 10, 11, 12, 13, 14]"
            ]
          },
          "metadata": {},
          "execution_count": 67
        }
      ]
    },
    {
      "cell_type": "code",
      "source": [
        "[i for i in range(1,30) if i<15 if i%2==0]"
      ],
      "metadata": {
        "colab": {
          "base_uri": "https://localhost:8080/"
        },
        "id": "x-BWNFMy2WxG",
        "outputId": "2e1e7f1d-0307-437a-b45a-821adfa0345c"
      },
      "execution_count": null,
      "outputs": [
        {
          "output_type": "execute_result",
          "data": {
            "text/plain": [
              "[2, 4, 6, 8, 10, 12, 14]"
            ]
          },
          "metadata": {},
          "execution_count": 68
        }
      ]
    },
    {
      "cell_type": "code",
      "source": [],
      "metadata": {
        "id": "vuvSamAr533m"
      },
      "execution_count": null,
      "outputs": []
    }
  ]
}